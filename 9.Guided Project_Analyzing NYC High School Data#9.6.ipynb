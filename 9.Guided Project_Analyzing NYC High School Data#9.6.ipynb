{
 "cells": [
  {
   "cell_type": "markdown",
   "metadata": {},
   "source": [
    "# Academic success in high schools: What drives differences in SAT-scores across NYC?"
   ]
  },
  {
   "cell_type": "markdown",
   "metadata": {},
   "source": [
    "## Goal"
   ]
  },
  {
   "cell_type": "markdown",
   "metadata": {},
   "source": [
    "The results of the standardized \"SAT\"-exam is used by US-colleges to determine which high school graduates they admit.\n",
    "We want to know which factors may drive differences in SAT-scores, if there are any pattern, trends or reasons discriminating against certain groups of students."
   ]
  },
  {
   "cell_type": "markdown",
   "metadata": {},
   "source": [
    "# [ETL] Reading data"
   ]
  },
  {
   "cell_type": "code",
   "execution_count": 1,
   "metadata": {},
   "outputs": [
    {
     "data": {
      "text/html": [
       "        <script type=\"text/javascript\">\n",
       "        window.PlotlyConfig = {MathJaxConfig: 'local'};\n",
       "        if (window.MathJax) {MathJax.Hub.Config({SVG: {font: \"STIX-Web\"}});}\n",
       "        if (typeof require !== 'undefined') {\n",
       "        require.undef(\"plotly\");\n",
       "        requirejs.config({\n",
       "            paths: {\n",
       "                'plotly': ['https://cdn.plot.ly/plotly-latest.min']\n",
       "            }\n",
       "        });\n",
       "        require(['plotly'], function(Plotly) {\n",
       "            window._Plotly = Plotly;\n",
       "        });\n",
       "        }\n",
       "        </script>\n",
       "        "
      ]
     },
     "metadata": {},
     "output_type": "display_data"
    },
    {
     "data": {
      "text/html": [
       "        <script type=\"text/javascript\">\n",
       "        window.PlotlyConfig = {MathJaxConfig: 'local'};\n",
       "        if (window.MathJax) {MathJax.Hub.Config({SVG: {font: \"STIX-Web\"}});}\n",
       "        if (typeof require !== 'undefined') {\n",
       "        require.undef(\"plotly\");\n",
       "        requirejs.config({\n",
       "            paths: {\n",
       "                'plotly': ['https://cdn.plot.ly/plotly-latest.min']\n",
       "            }\n",
       "        });\n",
       "        require(['plotly'], function(Plotly) {\n",
       "            window._Plotly = Plotly;\n",
       "        });\n",
       "        }\n",
       "        </script>\n",
       "        "
      ]
     },
     "metadata": {},
     "output_type": "display_data"
    }
   ],
   "source": [
    "# standard libs and additional utilities\n",
    "from tqdm.notebook import tqdm_notebook # progress bar for timeconsuming geocoding\n",
    "import tqdm\n",
    "import warnings  # used here to surpress FutureWarning\n",
    "import pandas as pd\n",
    "import numpy\n",
    "import re\n",
    "import matplotlib.pyplot as plt\n",
    "import seaborn as sns\n",
    "\n",
    "import plotly as py  # interactive plotting\n",
    "import plotly.graph_objs as go\n",
    "import cufflinks as cf  # interactive plotting made easy (pandas style)\n",
    "\n",
    "# Using plotly + cufflinks in offline mode\n",
    "from plotly.offline import iplot, init_notebook_mode\n",
    "cf.go_offline(connected=True)\n",
    "init_notebook_mode(connected=True)\n",
    "\n",
    "# jupyter command to show plots in notebook\n",
    "%matplotlib inline\n",
    "\n",
    "# setting pandas display options\n",
    "pd.options.display.float_format = '{:,.3f}'.format\n",
    "pd.set_option(\"display.max_columns\", 50)\n",
    "pd.set_option(\"display.max_rows\", 50)\n",
    "pd.set_option('max_colwidth', 50)\n",
    "\n",
    "# read seperate input files into single dictionary\n",
    "# csv-files\n",
    "data_files = [\n",
    "    \"ap_2010.csv\",\n",
    "    \"class_size.csv\",\n",
    "    \"demographics.csv\",\n",
    "    \"graduation.csv\",\n",
    "    \"hs_directory.csv\",\n",
    "    \"sat_results.csv\"\n",
    "]\n",
    "\n",
    "data = {}\n",
    "\n",
    "for f in data_files:\n",
    "    name=f.split(\".\")[0]\n",
    "    d = pd.read_csv(\"schools/{0}\".format(f))\n",
    "    data[name]=d\n",
    "    \n",
    "# survey data, different format\n",
    "all_survey = pd.read_csv(\"schools/survey_all.txt\", delimiter=\"\\t\", encoding='windows-1252')\n",
    "d75_survey = pd.read_csv(\"schools/survey_d75.txt\", delimiter=\"\\t\", encoding='windows-1252')\n",
    "survey = pd.concat([all_survey, d75_survey], axis=0, sort=True)\n",
    "\n",
    "survey[\"DBN\"] = survey[\"dbn\"]\n",
    "\n",
    "survey_fields = [\n",
    "    \"DBN\", \n",
    "    \"rr_s\", \n",
    "    \"rr_t\", \n",
    "    \"rr_p\", \n",
    "    \"N_s\", \n",
    "    \"N_t\", \n",
    "    \"N_p\", \n",
    "    \"saf_p_11\", \n",
    "    \"com_p_11\", \n",
    "    \"eng_p_11\", \n",
    "    \"aca_p_11\", \n",
    "    \"saf_t_11\", \n",
    "    \"com_t_11\", \n",
    "    \"eng_t_11\", \n",
    "    \"aca_t_11\", \n",
    "    \"saf_s_11\", \n",
    "    \"com_s_11\", \n",
    "    \"eng_s_11\", \n",
    "    \"aca_s_11\", \n",
    "    \"saf_tot_11\", \n",
    "    \"com_tot_11\", \n",
    "    \"eng_tot_11\", \n",
    "    \"aca_tot_11\",\n",
    "]\n",
    "survey = survey.loc[:,survey_fields]\n",
    "data[\"survey\"] = survey"
   ]
  },
  {
   "cell_type": "code",
   "execution_count": 2,
   "metadata": {},
   "outputs": [
    {
     "name": "stdout",
     "output_type": "stream",
     "text": [
      "ap_2010 (258, 5)\n",
      "class_size (27611, 16)\n",
      "demographics (10075, 38)\n",
      "graduation (25096, 23)\n",
      "hs_directory (435, 58)\n",
      "sat_results (478, 6)\n",
      "survey (1702, 23)\n"
     ]
    }
   ],
   "source": [
    "for k in data.keys():\n",
    "    s=data[k].shape\n",
    "    print(k, s)"
   ]
  },
  {
   "cell_type": "markdown",
   "metadata": {},
   "source": [
    "# [ETL] Adding and converting features"
   ]
  },
  {
   "cell_type": "code",
   "execution_count": 3,
   "metadata": {},
   "outputs": [
    {
     "name": "stdout",
     "output_type": "stream",
     "text": [
      "0   1,122.000\n",
      "1   1,172.000\n",
      "2   1,149.000\n",
      "3   1,174.000\n",
      "4   1,207.000\n",
      "Name: sat_score, dtype: float64\n",
      "\n",
      "\n",
      "0   40.670\n",
      "1   40.828\n",
      "2   40.842\n",
      "3   40.711\n",
      "4   40.719\n",
      "Name: lat, dtype: float64\n",
      "\n",
      "\n",
      "0   -73.962\n",
      "1   -73.904\n",
      "2   -73.916\n",
      "3   -74.001\n",
      "4   -73.807\n",
      "Name: lon, dtype: float64\n"
     ]
    }
   ],
   "source": [
    "# add DBN columns as unique identifier in datasets where they are not yet present\n",
    "data[\"hs_directory\"][\"DBN\"] = data[\"hs_directory\"][\"dbn\"]\n",
    "def pad_csd(element):\n",
    "    element=str(element)\n",
    "    return element.zfill(2)\n",
    "    \n",
    "data[\"class_size\"][\"padded_csd\"] = data[\"class_size\"][\"CSD\"].apply(pad_csd)\n",
    "data[\"class_size\"][\"DBN\"] = data[\"class_size\"][\"padded_csd\"] + data[\"class_size\"][\"SCHOOL CODE\"]\n",
    "\n",
    "# summing SAT-score\n",
    "cols = ['SAT Math Avg. Score', 'SAT Critical Reading Avg. Score', 'SAT Writing Avg. Score']\n",
    "for c in cols:\n",
    "    data[\"sat_results\"][c] = pd.to_numeric(data[\"sat_results\"][c], errors=\"coerce\")\n",
    "\n",
    "data['sat_results']['sat_score'] = data['sat_results'][cols[0]] + data['sat_results'][cols[1]] + data['sat_results'][cols[2]]\n",
    "\n",
    "# extracting latitude and longitude to separate columns\n",
    "def find_lat(loc):\n",
    "    coords = re.findall(\"\\(.+, .+\\)\", loc)\n",
    "    lat = coords[0].split(\",\")[0].replace(\"(\", \"\")\n",
    "    return lat\n",
    "\n",
    "def find_lon(loc):\n",
    "    coords = re.findall(\"\\(.+, .+\\)\", loc)\n",
    "    lon = coords[0].split(\",\")[1].replace(\")\", \"\").strip()\n",
    "    return lon\n",
    "\n",
    "data[\"hs_directory\"][\"lat\"] = data[\"hs_directory\"][\"Location 1\"].apply(find_lat)\n",
    "data[\"hs_directory\"][\"lon\"] = data[\"hs_directory\"][\"Location 1\"].apply(find_lon)\n",
    "\n",
    "# convert latitude and longitude to numeric\n",
    "data[\"hs_directory\"][\"lat\"] = pd.to_numeric(data[\"hs_directory\"][\"lat\"], errors=\"coerce\")\n",
    "data[\"hs_directory\"][\"lon\"] = pd.to_numeric(data[\"hs_directory\"][\"lon\"], errors=\"coerce\")\n",
    "\n",
    "# convert AP scores to numeric\n",
    "cols = ['AP Test Takers ', 'Total Exams Taken', 'Number of Exams with scores 3 4 or 5']\n",
    "for col in cols:\n",
    "    data[\"ap_2010\"][col] = pd.to_numeric(data[\"ap_2010\"][col], errors=\"coerce\")\n",
    "\n",
    "print(data['sat_results']['sat_score'].head())\n",
    "print(\"\\n\")\n",
    "print(data[\"hs_directory\"][\"lat\"].head())\n",
    "print(\"\\n\")\n",
    "print(data[\"hs_directory\"][\"lon\"].head())"
   ]
  },
  {
   "cell_type": "markdown",
   "metadata": {},
   "source": [
    "# [ETL] Condensing and combining datasets"
   ]
  },
  {
   "cell_type": "code",
   "execution_count": 4,
   "metadata": {},
   "outputs": [
    {
     "name": "stdout",
     "output_type": "stream",
     "text": [
      "(363, 160)\n"
     ]
    }
   ],
   "source": [
    "# selecting the classes relevant for SAT-analysis (high school, general education)\n",
    "class_size=data[\"class_size\"]\n",
    "filter=(class_size[\"GRADE \"]=='09-12') & (class_size['PROGRAM TYPE']=='GEN ED')\n",
    "class_size=class_size[filter]\n",
    "\n",
    "# compute average class size by school across all subjects\n",
    "class_size = class_size.groupby(\"DBN\").agg(numpy.mean)\n",
    "class_size.reset_index(inplace=True)\n",
    "data[\"class_size\"] = class_size\n",
    "\n",
    "# select most recent data available in \"demographics\" and \"graduation\" dataset\n",
    "data[\"demographics\"] = data[\"demographics\"][data[\"demographics\"][\"schoolyear\"] == 20112012]\n",
    "data[\"graduation\"]=data['graduation'][(data['graduation']['Cohort']=='2006') & (data['graduation']['Demographic']=='Total Cohort')]\n",
    "\n",
    "# initiate combined dataset with our main variable we want to investigate\n",
    "combined = data[\"sat_results\"]\n",
    "\n",
    "# left joins for somewhat sparse datasets, because we do not want to loose any SAT-info\n",
    "combined = combined.merge(data[\"ap_2010\"], on=\"DBN\", how=\"left\")\n",
    "combined = combined.merge(data[\"graduation\"], on=\"DBN\", how=\"left\")\n",
    "\n",
    "# inner joins for other dataset that potentially contain very relevant explanatory features.\n",
    "# if these features are not available for a high school, our we want to exclude these schools\n",
    "to_merge = [\"class_size\", \"demographics\", \"survey\", \"hs_directory\"]\n",
    "for m in to_merge:\n",
    "    combined = combined.merge(data[m], on=\"DBN\", how=\"inner\")\n",
    "\n",
    "# missing values for numeric columns filled with mean, non-numerics with zeros \n",
    "combined = combined.fillna(combined.mean()) # potential lever to improve quality of analysis, not scope of this learning exercise\n",
    "combined = combined.fillna(0)\n",
    "\n",
    "# Add a school district column for later analysis\n",
    "def get_first_two_chars(dbn):\n",
    "    return dbn[0:2]\n",
    "\n",
    "combined[\"school_dist\"] = combined[\"DBN\"].apply(get_first_two_chars)\n",
    "combined[\"school_dist\"].head()\n",
    "\n",
    "print(combined.shape)"
   ]
  },
  {
   "cell_type": "markdown",
   "metadata": {},
   "source": [
    "# Find correlations with SAT scores"
   ]
  },
  {
   "cell_type": "code",
   "execution_count": 6,
   "metadata": {},
   "outputs": [
    {
     "data": {
      "text/plain": [
       "SAT Critical Reading Avg. Score    0.987\n",
       "SAT Math Avg. Score                0.973\n",
       "SAT Writing Avg. Score             0.988\n",
       "sat_score                          1.000\n",
       "AP Test Takers                     0.523\n",
       "                                   ...  \n",
       "priority08                           nan\n",
       "priority09                           nan\n",
       "priority10                           nan\n",
       "lat                               -0.121\n",
       "lon                               -0.132\n",
       "Name: sat_score, Length: 67, dtype: float64"
      ]
     },
     "execution_count": 6,
     "metadata": {},
     "output_type": "execute_result"
    }
   ],
   "source": [
    "correlations = combined.corr()\n",
    "correlations = correlations[\"sat_score\"]\n",
    "correlations"
   ]
  },
  {
   "cell_type": "markdown",
   "metadata": {},
   "source": [
    "# Plotting survey correlations: Safety and students expectations are important"
   ]
  },
  {
   "cell_type": "code",
   "execution_count": 7,
   "metadata": {},
   "outputs": [
    {
     "data": {
      "image/png": "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\n",
      "text/plain": [
       "<Figure size 576x432 with 1 Axes>"
      ]
     },
     "metadata": {
      "needs_background": "light"
     },
     "output_type": "display_data"
    }
   ],
   "source": [
    "survey_fields=['rr_s',\n",
    " 'rr_t',\n",
    " 'rr_p',\n",
    " 'N_s',\n",
    " 'N_t',\n",
    " 'N_p',\n",
    " 'saf_p_11',\n",
    " 'com_p_11',\n",
    " 'eng_p_11',\n",
    " 'aca_p_11',\n",
    " 'saf_t_11',\n",
    " 'com_t_11',\n",
    " 'eng_t_11',\n",
    " 'aca_t_11',\n",
    " 'saf_s_11',\n",
    " 'com_s_11',\n",
    " 'eng_s_11',\n",
    " 'aca_s_11',\n",
    " 'saf_tot_11',\n",
    " 'com_tot_11',\n",
    " 'eng_tot_11',\n",
    " 'aca_tot_11']\n",
    "\n",
    "# compute all correlations with SAT scores\n",
    "correlations = combined.corr()\n",
    "\n",
    "# build a barchart to visualize SAT and survey response correlation  \n",
    "surv_corr = correlations.loc[survey_fields]['sat_score'].sort_values()\n",
    "ax=surv_corr.plot(kind=\"bar\", figsize=(8, 6), title=\"Correlation of survey responses and SAT-scores\")\n",
    "ax.spines['right'].set_visible(False)\n",
    "ax.spines['top'].set_visible(False)\n",
    "for p in ax.patches:\n",
    "    ax.annotate(str(round(p.get_height(), 2)),\n",
    "                (p.get_x()+0.1, max(p.get_height(), 0)+0.01),\n",
    "                rotation=90\n",
    "                )\n",
    "ax.axhline(y=0.0, color='black', linestyle='-', linewidth=1)\n",
    "plt.show()"
   ]
  },
  {
   "attachments": {
    "image.png": {
     "image/png": "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"
    }
   },
   "cell_type": "markdown",
   "metadata": {},
   "source": [
    "![image.png](attachment:image.png)\n",
    "\n",
    "There are high correlations between `N_s`, `N_t`, `N_p` and `sat_score`. Since these columns are correlated with `total_enrollment`, it makes sense that they would be high.\n",
    "\n",
    "We can also notice that Safety and Respect scores based on teachers and students responses are strong positive correlated with `sat_score`, that means that the higher SAT score have schools where safety and respect to each other are important indicators, that can generally point on good schools from good districts.\n",
    "\n",
    "The next interesting correlation is the `aca_s_11`, which indicates how the student perceives academic standards, it makes sense when student's academic expectations play important role for him then the student highly likely will doing well his academic, but this is not true for `aca_t_11` and `aca_p_11`, how teachers and parents perceive academic standards."
   ]
  },
  {
   "cell_type": "markdown",
   "metadata": {},
   "source": [
    "#  Missing safety in the Bronx and Brooklyn does not allow to get high SAT-scores"
   ]
  },
  {
   "cell_type": "code",
   "execution_count": 8,
   "metadata": {},
   "outputs": [
    {
     "data": {
      "image/png": "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\n",
      "text/plain": [
       "<Figure size 432x288 with 1 Axes>"
      ]
     },
     "metadata": {
      "needs_background": "light"
     },
     "output_type": "display_data"
    }
   ],
   "source": [
    "# build a scatter plot to visualize correlation between SAT and Safety and Respect Rating (students)\n",
    "ax=combined.plot(kind=\"scatter\", x='saf_s_11', y='sat_score', figsize=(6, 4), \n",
    "                 title=\"Correlation of students Safety and Respect Score and SAT-scores, by school\")\n",
    "ax.spines['right'].set_visible(False)\n",
    "ax.spines['top'].set_visible(False)\n",
    "plt.show()"
   ]
  },
  {
   "cell_type": "markdown",
   "metadata": {},
   "source": [
    "We can notice that for majority schools with SAT scores between 1000 and 1400, safety scores generally are in range 5-7, schools with safety scores above 7 have as the high SAT scores as well as low SAT score under the 1000."
   ]
  },
  {
   "cell_type": "code",
   "execution_count": 9,
   "metadata": {},
   "outputs": [],
   "source": [
    "# avg. student safety grouped by districts\n",
    "import numpy as np\n",
    "grouped=combined.groupby('school_dist')\n",
    "by_district=grouped.agg(np.mean)\n",
    "by_district.reset_index(inplace=True)"
   ]
  },
  {
   "attachments": {
    "image.png": {
     "image/png": "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"
    }
   },
   "cell_type": "markdown",
   "metadata": {},
   "source": [
    "New York districts map:\n",
    "\n",
    "https://i.imgur.com/0nv55lt.png"
   ]
  },
  {
   "cell_type": "code",
   "execution_count": 10,
   "metadata": {},
   "outputs": [
    {
     "data": {
      "text/html": [
       "<div style=\"width:100%;\"><div style=\"position:relative;width:100%;height:0;padding-bottom:60%;\"><iframe src=\"about:blank\" style=\"position:absolute;width:100%;height:100%;left:0;top:0;border:none !important;\" data-html=PCFET0NUWVBFIGh0bWw+CjxoZWFkPiAgICAKICAgIDxtZXRhIGh0dHAtZXF1aXY9ImNvbnRlbnQtdHlwZSIgY29udGVudD0idGV4dC9odG1sOyBjaGFyc2V0PVVURi04IiAvPgogICAgCiAgICAgICAgPHNjcmlwdD4KICAgICAgICAgICAgTF9OT19UT1VDSCA9IGZhbHNlOwogICAgICAgICAgICBMX0RJU0FCTEVfM0QgPSBmYWxzZTsKICAgICAgICA8L3NjcmlwdD4KICAgIAogICAgPHNjcmlwdCBzcmM9Imh0dHBzOi8vY2RuLmpzZGVsaXZyLm5ldC9ucG0vbGVhZmxldEAxLjUuMS9kaXN0L2xlYWZsZXQuanMiPjwvc2NyaXB0PgogICAgPHNjcmlwdCBzcmM9Imh0dHBzOi8vY29kZS5qcXVlcnkuY29tL2pxdWVyeS0xLjEyLjQubWluLmpzIj48L3NjcmlwdD4KICAgIDxzY3JpcHQgc3JjPSJodHRwczovL21heGNkbi5ib290c3RyYXBjZG4uY29tL2Jvb3RzdHJhcC8zLjIuMC9qcy9ib290c3RyYXAubWluLmpzIj48L3NjcmlwdD4KICAgIDxzY3JpcHQgc3JjPSJodHRwczovL2NkbmpzLmNsb3VkZmxhcmUuY29tL2FqYXgvbGlicy9MZWFmbGV0LmF3ZXNvbWUtbWFya2Vycy8yLjAuMi9sZWFmbGV0LmF3ZXNvbWUtbWFya2Vycy5qcyI+PC9zY3JpcHQ+CiAgICA8bGluayByZWw9InN0eWxlc2hlZXQiIGhyZWY9Imh0dHBzOi8vY2RuLmpzZGVsaXZyLm5ldC9ucG0vbGVhZmxldEAxLjUuMS9kaXN0L2xlYWZsZXQuY3NzIi8+CiAgICA8bGluayByZWw9InN0eWxlc2hlZXQiIGhyZWY9Imh0dHBzOi8vbWF4Y2RuLmJvb3RzdHJhcGNkbi5jb20vYm9vdHN0cmFwLzMuMi4wL2Nzcy9ib290c3RyYXAubWluLmNzcyIvPgogICAgPGxpbmsgcmVsPSJzdHlsZXNoZWV0IiBocmVmPSJodHRwczovL21heGNkbi5ib290c3RyYXBjZG4uY29tL2Jvb3RzdHJhcC8zLjIuMC9jc3MvYm9vdHN0cmFwLXRoZW1lLm1pbi5jc3MiLz4KICAgIDxsaW5rIHJlbD0ic3R5bGVzaGVldCIgaHJlZj0iaHR0cHM6Ly9tYXhjZG4uYm9vdHN0cmFwY2RuLmNvbS9mb250LWF3ZXNvbWUvNC42LjMvY3NzL2ZvbnQtYXdlc29tZS5taW4uY3NzIi8+CiAgICA8bGluayByZWw9InN0eWxlc2hlZXQiIGhyZWY9Imh0dHBzOi8vY2RuanMuY2xvdWRmbGFyZS5jb20vYWpheC9saWJzL0xlYWZsZXQuYXdlc29tZS1tYXJrZXJzLzIuMC4yL2xlYWZsZXQuYXdlc29tZS1tYXJrZXJzLmNzcyIvPgogICAgPGxpbmsgcmVsPSJzdHlsZXNoZWV0IiBocmVmPSJodHRwczovL3Jhd2Nkbi5naXRoYWNrLmNvbS9weXRob24tdmlzdWFsaXphdGlvbi9mb2xpdW0vbWFzdGVyL2ZvbGl1bS90ZW1wbGF0ZXMvbGVhZmxldC5hd2Vzb21lLnJvdGF0ZS5jc3MiLz4KICAgIDxzdHlsZT5odG1sLCBib2R5IHt3aWR0aDogMTAwJTtoZWlnaHQ6IDEwMCU7bWFyZ2luOiAwO3BhZGRpbmc6IDA7fTwvc3R5bGU+CiAgICA8c3R5bGU+I21hcCB7cG9zaXRpb246YWJzb2x1dGU7dG9wOjA7Ym90dG9tOjA7cmlnaHQ6MDtsZWZ0OjA7fTwvc3R5bGU+CiAgICAKICAgICAgICAgICAgPG1ldGEgbmFtZT0idmlld3BvcnQiIGNvbnRlbnQ9IndpZHRoPWRldmljZS13aWR0aCwKICAgICAgICAgICAgICAgIGluaXRpYWwtc2NhbGU9MS4wLCBtYXhpbXVtLXNjYWxlPTEuMCwgdXNlci1zY2FsYWJsZT1ubyIgLz4KICAgICAgICAgICAgPHN0eWxlPgogICAgICAgICAgICAgICAgI21hcF9kNjQ1NjA4NzMxN2M0NGE5ODUxNmU2MGM5ZDEyMGI0MyB7CiAgICAgICAgICAgICAgICAgICAgcG9zaXRpb246IHJlbGF0aXZlOwogICAgICAgICAgICAgICAgICAgIHdpZHRoOiAxMDAuMCU7CiAgICAgICAgICAgICAgICAgICAgaGVpZ2h0OiAxMDAuMCU7CiAgICAgICAgICAgICAgICAgICAgbGVmdDogMC4wJTsKICAgICAgICAgICAgICAgICAgICB0b3A6IDAuMCU7CiAgICAgICAgICAgICAgICB9CiAgICAgICAgICAgIDwvc3R5bGU+CiAgICAgICAgCiAgICA8c2NyaXB0IHNyYz0iaHR0cHM6Ly9jZG5qcy5jbG91ZGZsYXJlLmNvbS9hamF4L2xpYnMvZDMvMy41LjUvZDMubWluLmpzIj48L3NjcmlwdD4KPC9oZWFkPgo8Ym9keT4gICAgCiAgICAKICAgICAgICAgICAgIDxoMyBhbGlnbj0iY2VudGVyIiBzdHlsZT0iZm9udC1zaXplOjIwcHgiPjxiPk5ZIGhpZ2hzY2hvb2xzOiBhdmcuIHNhZmV0eSAvIHJlc3BlY3Qgc2NvcmUgYW5kIGF2Zy4gZW5yb2xsbWVudCBieSBzY2hvb2wgZGlzdHJpY3Q8L2I+PC9oMz4KICAgICAgICAgICAgIAogICAgCiAgICAgICAgICAgIDxkaXYgY2xhc3M9ImZvbGl1bS1tYXAiIGlkPSJtYXBfZDY0NTYwODczMTdjNDRhOTg1MTZlNjBjOWQxMjBiNDMiID48L2Rpdj4KICAgICAgICAKPC9ib2R5Pgo8c2NyaXB0PiAgICAKICAgIAogICAgICAgICAgICB2YXIgbWFwX2Q2NDU2MDg3MzE3YzQ0YTk4NTE2ZTYwYzlkMTIwYjQzID0gTC5tYXAoCiAgICAgICAgICAgICAgICAibWFwX2Q2NDU2MDg3MzE3YzQ0YTk4NTE2ZTYwYzlkMTIwYjQzIiwKICAgICAgICAgICAgICAgIHsKICAgICAgICAgICAgICAgICAgICBjZW50ZXI6IFs0MC42OTM5NDMsIC03My45ODU4OF0sCiAgICAgICAgICAgICAgICAgICAgY3JzOiBMLkNSUy5FUFNHMzg1NywKICAgICAgICAgICAgICAgICAgICB6b29tOiAxMCwKICAgICAgICAgICAgICAgICAgICB6b29tQ29udHJvbDogdHJ1ZSwKICAgICAgICAgICAgICAgICAgICBwcmVmZXJDYW52YXM6IGZhbHNlLAogICAgICAgICAgICAgICAgfQogICAgICAgICAgICApOwoKICAgICAgICAgICAgCgogICAgICAgIAogICAgCiAgICAgICAgICAgIHZhciB0aWxlX2xheWVyX2M0NDM5YzllNGQyMDQ4ZmY5ZTg0NGYyY2U2ZmY0NTQxID0gTC50aWxlTGF5ZXIoCiAgICAgICAgICAgICAgICAiaHR0cHM6Ly9jYXJ0b2RiLWJhc2VtYXBzLXtzfS5nbG9iYWwuc3NsLmZhc3RseS5uZXQvbGlnaHRfYWxsL3t6fS97eH0ve3l9LnBuZyIsCiAgICAgICAgICAgICAgICB7ImF0dHJpYnV0aW9uIjogIlx1MDAyNmNvcHk7IFx1MDAzY2EgaHJlZj1cImh0dHA6Ly93d3cub3BlbnN0cmVldG1hcC5vcmcvY29weXJpZ2h0XCJcdTAwM2VPcGVuU3RyZWV0TWFwXHUwMDNjL2FcdTAwM2UgY29udHJpYnV0b3JzIFx1MDAyNmNvcHk7IFx1MDAzY2EgaHJlZj1cImh0dHA6Ly9jYXJ0b2RiLmNvbS9hdHRyaWJ1dGlvbnNcIlx1MDAzZUNhcnRvREJcdTAwM2MvYVx1MDAzZSwgQ2FydG9EQiBcdTAwM2NhIGhyZWYgPVwiaHR0cDovL2NhcnRvZGIuY29tL2F0dHJpYnV0aW9uc1wiXHUwMDNlYXR0cmlidXRpb25zXHUwMDNjL2FcdTAwM2UiLCAiZGV0ZWN0UmV0aW5hIjogZmFsc2UsICJtYXhOYXRpdmVab29tIjogMTgsICJtYXhab29tIjogMTgsICJtaW5ab29tIjogMCwgIm5vV3JhcCI6IGZhbHNlLCAib3BhY2l0eSI6IDEsICJzdWJkb21haW5zIjogImFiYyIsICJ0bXMiOiBmYWxzZX0KICAgICAgICAgICAgKS5hZGRUbyhtYXBfZDY0NTYwODczMTdjNDRhOTg1MTZlNjBjOWQxMjBiNDMpOwogICAgICAgIAogICAgCiAgICAgICAgICAgIHZhciBjaXJjbGVfNTUxZGI4MjFlZWZjNDJkYWEzZTJiNTY3MDIwNjFhZGIgPSBMLmNpcmNsZSgKICAgICAgICAgICAgICAgIFs0MC43MTkwMjI0Mzg2NjcxNCwgLTczLjk4MjM3NzIwMDY2NjMzXSwKICAgICAgICAgICAgICAgIHsiYnViYmxpbmdNb3VzZUV2ZW50cyI6IHRydWUsICJjb2xvciI6ICIjYjdkNmIzZmYiLCAiZGFzaEFycmF5IjogbnVsbCwgImRhc2hPZmZzZXQiOiBudWxsLCAiZmlsbCI6IHRydWUsICJmaWxsQ29sb3IiOiAiI2I3ZDZiM2ZmIiwgImZpbGxPcGFjaXR5IjogMC43NSwgImZpbGxSdWxlIjogImV2ZW5vZGQiLCAibGluZUNhcCI6ICJyb3VuZCIsICJsaW5lSm9pbiI6ICJyb3VuZCIsICJvcGFjaXR5IjogMS4wLCAicmFkaXVzIjogNjY4LjUsICJzdHJva2UiOiB0cnVlLCAid2VpZ2h0IjogMn0KICAgICAgICAgICAgKS5hZGRUbyhtYXBfZDY0NTYwODczMTdjNDRhOTg1MTZlNjBjOWQxMjBiNDMpOwogICAgICAgIAogICAgCiAgICAgICAgICAgIGNpcmNsZV81NTFkYjgyMWVlZmM0MmRhYTNlMmI1NjcwMjA2MWFkYi5iaW5kVG9vbHRpcCgKICAgICAgICAgICAgICAgIGA8ZGl2PgogICAgICAgICAgICAgICAgICAgICBEaXN0cmljdCAwMSA8YnI+IEF2Zy4gU2FmZXR5IC8gUmVzcGVjdCBTY29yZSwgc3R1ZGVudHMgcmVzcG9uc2UgKGNvbG9yKTogNi44IDxicj4gQXZnLiBlbnJvbGxtZW50IHBlciBzY2hvb2wgKHNpemUpOiA2NjgKICAgICAgICAgICAgICAgICA8L2Rpdj5gLAogICAgICAgICAgICAgICAgeyJzdGlja3kiOiB0cnVlfQogICAgICAgICAgICApOwogICAgICAgIAogICAgCiAgICAgICAgICAgIHZhciBjaXJjbGVfMTNlYjhkMDg0M2VjNGI4YjlkZmRiYjk4ZjBjMGRiOTkgPSBMLmNpcmNsZSgKICAgICAgICAgICAgICAgIFs0MC43Mzk2OTk0OTk4MzM4MSwgLTczLjk5MTM4NTY3MzI5MTMzXSwKICAgICAgICAgICAgICAgIHsiYnViYmxpbmdNb3VzZUV2ZW50cyI6IHRydWUsICJjb2xvciI6ICIjY2RlNGIyZmYiLCAiZGFzaEFycmF5IjogbnVsbCwgImRhc2hPZmZzZXQiOiBudWxsLCAiZmlsbCI6IHRydWUsICJmaWxsQ29sb3IiOiAiI2NkZTRiMmZmIiwgImZpbGxPcGFjaXR5IjogMC43NSwgImZpbGxSdWxlIjogImV2ZW5vZGQiLCAibGluZUNhcCI6ICJyb3VuZCIsICJsaW5lSm9pbiI6ICJyb3VuZCIsICJvcGFjaXR5IjogMS4wLCAicmFkaXVzIjogNjA1LjYwNDE2NjY2NjY2NjYsICJzdHJva2UiOiB0cnVlLCAid2VpZ2h0IjogMn0KICAgICAgICAgICAgKS5hZGRUbyhtYXBfZDY0NTYwODczMTdjNDRhOTg1MTZlNjBjOWQxMjBiNDMpOwogICAgICAgIAogICAgCiAgICAgICAgICAgIGNpcmNsZV8xM2ViOGQwODQzZWM0YjhiOWRmZGJiOThmMGMwZGI5OS5iaW5kVG9vbHRpcCgKICAgICAgICAgICAgICAgIGA8ZGl2PgogICAgICAgICAgICAgICAgICAgICBEaXN0cmljdCAwMiA8YnI+IEF2Zy4gU2FmZXR5IC8gUmVzcGVjdCBTY29yZSwgc3R1ZGVudHMgcmVzcG9uc2UgKGNvbG9yKTogNi45IDxicj4gQXZnLiBlbnJvbGxtZW50IHBlciBzY2hvb2wgKHNpemUpOiA2MDYKICAgICAgICAgICAgICAgICA8L2Rpdj5gLAogICAgICAgICAgICAgICAgeyJzdGlja3kiOiB0cnVlfQogICAgICAgICAgICApOwogICAgICAgIAogICAgCiAgICAgICAgICAgIHZhciBjaXJjbGVfYzI2YWNmMGVlNjEwNDg4YTk5NjUwYjU3YWQ1OWFjNDggPSBMLmNpcmNsZSgKICAgICAgICAgICAgICAgIFs0MC43ODE1NzQxMDk1MDA0NzUsIC03My45NzczNzAxNjE0OTk2NV0sCiAgICAgICAgICAgICAgICB7ImJ1YmJsaW5nTW91c2VFdmVudHMiOiB0cnVlLCAiY29sb3IiOiAiI2FmZDFiM2ZmIiwgImRhc2hBcnJheSI6IG51bGwsICJkYXNoT2Zmc2V0IjogbnVsbCwgImZpbGwiOiB0cnVlLCAiZmlsbENvbG9yIjogIiNhZmQxYjNmZiIsICJmaWxsT3BhY2l0eSI6IDAuNzUsICJmaWxsUnVsZSI6ICJldmVub2RkIiwgImxpbmVDYXAiOiAicm91bmQiLCAibGluZUpvaW4iOiAicm91bmQiLCAib3BhY2l0eSI6IDEuMCwgInJhZGl1cyI6IDY2MS40MTY2NjY2NjY2NjY2LCAic3Ryb2tlIjogdHJ1ZSwgIndlaWdodCI6IDJ9CiAgICAgICAgICAgICkuYWRkVG8obWFwX2Q2NDU2MDg3MzE3YzQ0YTk4NTE2ZTYwYzlkMTIwYjQzKTsKICAgICAgICAKICAgIAogICAgICAgICAgICBjaXJjbGVfYzI2YWNmMGVlNjEwNDg4YTk5NjUwYjU3YWQ1OWFjNDguYmluZFRvb2x0aXAoCiAgICAgICAgICAgICAgICBgPGRpdj4KICAgICAgICAgICAgICAgICAgICAgRGlzdHJpY3QgMDMgPGJyPiBBdmcuIFNhZmV0eSAvIFJlc3BlY3QgU2NvcmUsIHN0dWRlbnRzIHJlc3BvbnNlIChjb2xvcik6IDYuNyA8YnI+IEF2Zy4gZW5yb2xsbWVudCBwZXIgc2Nob29sIChzaXplKTogNjYxCiAgICAgICAgICAgICAgICAgPC9kaXY+YCwKICAgICAgICAgICAgICAgIHsic3RpY2t5IjogdHJ1ZX0KICAgICAgICAgICAgKTsKICAgICAgICAKICAgIAogICAgICAgICAgICB2YXIgY2lyY2xlXzg0ZGFiOTg5YzE0MTRmZWFhNTU5MzFlMDE2ZmMyNWNlID0gTC5jaXJjbGUoCiAgICAgICAgICAgICAgICBbNDAuNzkzNDQ4ODQyODU3NjE1LCAtNzMuOTQzMjE1MTk1MTQyNTFdLAogICAgICAgICAgICAgICAgeyJidWJibGluZ01vdXNlRXZlbnRzIjogdHJ1ZSwgImNvbG9yIjogIiNjOWUyYjNmZiIsICJkYXNoQXJyYXkiOiBudWxsLCAiZGFzaE9mZnNldCI6IG51bGwsICJmaWxsIjogdHJ1ZSwgImZpbGxDb2xvciI6ICIjYzllMmIzZmYiLCAiZmlsbE9wYWNpdHkiOiAwLjc1LCAiZmlsbFJ1bGUiOiAiZXZlbm9kZCIsICJsaW5lQ2FwIjogInJvdW5kIiwgImxpbmVKb2luIjogInJvdW5kIiwgIm9wYWNpdHkiOiAxLjAsICJyYWRpdXMiOiA1NjkuMjg1NzE0Mjg1NzE0MywgInN0cm9rZSI6IHRydWUsICJ3ZWlnaHQiOiAyfQogICAgICAgICAgICApLmFkZFRvKG1hcF9kNjQ1NjA4NzMxN2M0NGE5ODUxNmU2MGM5ZDEyMGI0Myk7CiAgICAgICAgCiAgICAKICAgICAgICAgICAgY2lyY2xlXzg0ZGFiOTg5YzE0MTRmZWFhNTU5MzFlMDE2ZmMyNWNlLmJpbmRUb29sdGlwKAogICAgICAgICAgICAgICAgYDxkaXY+CiAgICAgICAgICAgICAgICAgICAgIERpc3RyaWN0IDA0IDxicj4gQXZnLiBTYWZldHkgLyBSZXNwZWN0IFNjb3JlLCBzdHVkZW50cyByZXNwb25zZSAoY29sb3IpOiA2LjkgPGJyPiBBdmcuIGVucm9sbG1lbnQgcGVyIHNjaG9vbCAoc2l6ZSk6IDU2OQogICAgICAgICAgICAgICAgIDwvZGl2PmAsCiAgICAgICAgICAgICAgICB7InN0aWNreSI6IHRydWV9CiAgICAgICAgICAgICk7CiAgICAgICAgCiAgICAKICAgICAgICAgICAgdmFyIGNpcmNsZV9lZDQ5YTdkNWIwOWQ0MGFiYTdkMWY0NTU4NjFlMTc3YSA9IEwuY2lyY2xlKAogICAgICAgICAgICAgICAgWzQwLjgxNzA3NjU2NTAwMDQ3LCAtNzMuOTQ5MjUxMzk4MTQyNTJdLAogICAgICAgICAgICAgICAgeyJidWJibGluZ01vdXNlRXZlbnRzIjogdHJ1ZSwgImNvbG9yIjogIiM3MGFhYjZmZiIsICJkYXNoQXJyYXkiOiBudWxsLCAiZGFzaE9mZnNldCI6IG51bGwsICJmaWxsIjogdHJ1ZSwgImZpbGxDb2xvciI6ICIjNzBhYWI2ZmYiLCAiZmlsbE9wYWNpdHkiOiAwLjc1LCAiZmlsbFJ1bGUiOiAiZXZlbm9kZCIsICJsaW5lQ2FwIjogInJvdW5kIiwgImxpbmVKb2luIjogInJvdW5kIiwgIm9wYWNpdHkiOiAxLjAsICJyYWRpdXMiOiA2MDUuODU3MTQyODU3MTQyOSwgInN0cm9rZSI6IHRydWUsICJ3ZWlnaHQiOiAyfQogICAgICAgICAgICApLmFkZFRvKG1hcF9kNjQ1NjA4NzMxN2M0NGE5ODUxNmU2MGM5ZDEyMGI0Myk7CiAgICAgICAgCiAgICAKICAgICAgICAgICAgY2lyY2xlX2VkNDlhN2Q1YjA5ZDQwYWJhN2QxZjQ1NTg2MWUxNzdhLmJpbmRUb29sdGlwKAogICAgICAgICAgICAgICAgYDxkaXY+CiAgICAgICAgICAgICAgICAgICAgIERpc3RyaWN0IDA1IDxicj4gQXZnLiBTYWZldHkgLyBSZXNwZWN0IFNjb3JlLCBzdHVkZW50cyByZXNwb25zZSAoY29sb3IpOiA2LjMgPGJyPiBBdmcuIGVucm9sbG1lbnQgcGVyIHNjaG9vbCAoc2l6ZSk6IDYwNgogICAgICAgICAgICAgICAgIDwvZGl2PmAsCiAgICAgICAgICAgICAgICB7InN0aWNreSI6IHRydWV9CiAgICAgICAgICAgICk7CiAgICAgICAgCiAgICAKICAgICAgICAgICAgdmFyIGNpcmNsZV9mZjU4NmM2YzJiYWM0YzZmOTU5MjcyZmZmNzgyMTdhZiA9IEwuY2lyY2xlKAogICAgICAgICAgICAgICAgWzQwLjg0ODk2OTk2OTQwMDQ4LCAtNzMuOTMyNTAyMjkwMTk5NjVdLAogICAgICAgICAgICAgICAgeyJidWJibGluZ01vdXNlRXZlbnRzIjogdHJ1ZSwgImNvbG9yIjogIiNkM2U4YjJmZiIsICJkYXNoQXJyYXkiOiBudWxsLCAiZGFzaE9mZnNldCI6IG51bGwsICJmaWxsIjogdHJ1ZSwgImZpbGxDb2xvciI6ICIjZDNlOGIyZmYiLCAiZmlsbE9wYWNpdHkiOiAwLjc1LCAiZmlsbFJ1bGUiOiAiZXZlbm9kZCIsICJsaW5lQ2FwIjogInJvdW5kIiwgImxpbmVKb2luIjogInJvdW5kIiwgIm9wYWNpdHkiOiAxLjAsICJyYWRpdXMiOiA2MjEuOCwgInN0cm9rZSI6IHRydWUsICJ3ZWlnaHQiOiAyfQogICAgICAgICAgICApLmFkZFRvKG1hcF9kNjQ1NjA4NzMxN2M0NGE5ODUxNmU2MGM5ZDEyMGI0Myk7CiAgICAgICAgCiAgICAKICAgICAgICAgICAgY2lyY2xlX2ZmNTg2YzZjMmJhYzRjNmY5NTkyNzJmZmY3ODIxN2FmLmJpbmRUb29sdGlwKAogICAgICAgICAgICAgICAgYDxkaXY+CiAgICAgICAgICAgICAgICAgICAgIERpc3RyaWN0IDA2IDxicj4gQXZnLiBTYWZldHkgLyBSZXNwZWN0IFNjb3JlLCBzdHVkZW50cyByZXNwb25zZSAoY29sb3IpOiA3LjAgPGJyPiBBdmcuIGVucm9sbG1lbnQgcGVyIHNjaG9vbCAoc2l6ZSk6IDYyMgogICAgICAgICAgICAgICAgIDwvZGl2PmAsCiAgICAgICAgICAgICAgICB7InN0aWNreSI6IHRydWV9CiAgICAgICAgICAgICk7CiAgICAgICAgCiAgICAKICAgICAgICAgICAgdmFyIGNpcmNsZV84N2FiMjJhYzdmOWI0MTdlODlhOWM4Zjg1MzA3Yjk5YSA9IEwuY2lyY2xlKAogICAgICAgICAgICAgICAgWzQwLjgxNjgxNDgzODYxNTg2LCAtNzMuOTE5OTcxNDgwNTM4MV0sCiAgICAgICAgICAgICAgICB7ImJ1YmJsaW5nTW91c2VFdmVudHMiOiB0cnVlLCAiY29sb3IiOiAiI2JjZDliM2ZmIiwgImRhc2hBcnJheSI6IG51bGwsICJkYXNoT2Zmc2V0IjogbnVsbCwgImZpbGwiOiB0cnVlLCAiZmlsbENvbG9yIjogIiNiY2Q5YjNmZiIsICJmaWxsT3BhY2l0eSI6IDAuNzUsICJmaWxsUnVsZSI6ICJldmVub2RkIiwgImxpbmVDYXAiOiAicm91bmQiLCAibGluZUpvaW4iOiAicm91bmQiLCAib3BhY2l0eSI6IDEuMCwgInJhZGl1cyI6IDQ4MS4wLCAic3Ryb2tlIjogdHJ1ZSwgIndlaWdodCI6IDJ9CiAgICAgICAgICAgICkuYWRkVG8obWFwX2Q2NDU2MDg3MzE3YzQ0YTk4NTE2ZTYwYzlkMTIwYjQzKTsKICAgICAgICAKICAgIAogICAgICAgICAgICBjaXJjbGVfODdhYjIyYWM3ZjliNDE3ZTg5YTljOGY4NTMwN2I5OWEuYmluZFRvb2x0aXAoCiAgICAgICAgICAgICAgICBgPGRpdj4KICAgICAgICAgICAgICAgICAgICAgRGlzdHJpY3QgMDcgPGJyPiBBdmcuIFNhZmV0eSAvIFJlc3BlY3QgU2NvcmUsIHN0dWRlbnRzIHJlc3BvbnNlIChjb2xvcik6IDYuOCA8YnI+IEF2Zy4gZW5yb2xsbWVudCBwZXIgc2Nob29sIChzaXplKTogNDgxCiAgICAgICAgICAgICAgICAgPC9kaXY+YCwKICAgICAgICAgICAgICAgIHsic3RpY2t5IjogdHJ1ZX0KICAgICAgICAgICAgKTsKICAgICAgICAKICAgIAogICAgICAgICAgICB2YXIgY2lyY2xlXzE4ZjliN2U1MTdhYjRhYzA4OTA1NGYzMTY4NjUyZjQ1ID0gTC5jaXJjbGUoCiAgICAgICAgICAgICAgICBbNDAuODIzODAzMTUwMjczMiwgLTczLjg2NjA4NzM5MDE4MTQ2XSwKICAgICAgICAgICAgICAgIHsiYnViYmxpbmdNb3VzZUV2ZW50cyI6IHRydWUsICJjb2xvciI6ICIjNzhhZmI1ZmYiLCAiZGFzaEFycmF5IjogbnVsbCwgImRhc2hPZmZzZXQiOiBudWxsLCAiZmlsbCI6IHRydWUsICJmaWxsQ29sb3IiOiAiIzc4YWZiNWZmIiwgImZpbGxPcGFjaXR5IjogMC43NSwgImZpbGxSdWxlIjogImV2ZW5vZGQiLCAibGluZUNhcCI6ICJyb3VuZCIsICJsaW5lSm9pbiI6ICJyb3VuZCIsICJvcGFjaXR5IjogMS4wLCAicmFkaXVzIjogNjg0LjU0NTQ1NDU0NTQ1NDUsICJzdHJva2UiOiB0cnVlLCAid2VpZ2h0IjogMn0KICAgICAgICAgICAgKS5hZGRUbyhtYXBfZDY0NTYwODczMTdjNDRhOTg1MTZlNjBjOWQxMjBiNDMpOwogICAgICAgIAogICAgCiAgICAgICAgICAgIGNpcmNsZV8xOGY5YjdlNTE3YWI0YWMwODkwNTRmMzE2ODY1MmY0NS5iaW5kVG9vbHRpcCgKICAgICAgICAgICAgICAgIGA8ZGl2PgogICAgICAgICAgICAgICAgICAgICBEaXN0cmljdCAwOCA8YnI+IEF2Zy4gU2FmZXR5IC8gUmVzcGVjdCBTY29yZSwgc3R1ZGVudHMgcmVzcG9uc2UgKGNvbG9yKTogNi40IDxicj4gQXZnLiBlbnJvbGxtZW50IHBlciBzY2hvb2wgKHNpemUpOiA2ODUKICAgICAgICAgICAgICAgICA8L2Rpdj5gLAogICAgICAgICAgICAgICAgeyJzdGlja3kiOiB0cnVlfQogICAgICAgICAgICApOwogICAgICAgIAogICAgCiAgICAgICAgICAgIHZhciBjaXJjbGVfMGM1NmU5N2RjN2MwNDQ5ZWE2ODhmZDU2MmYzYTFjOWYgPSBMLmNpcmNsZSgKICAgICAgICAgICAgICAgIFs0MC44MzYzNDg2NTY0NTA0OCwgLTczLjkwNjI0MDE3NzY5OTYzXSwKICAgICAgICAgICAgICAgIHsiYnViYmxpbmdNb3VzZUV2ZW50cyI6IHRydWUsICJjb2xvciI6ICIjYTVjYmI0ZmYiLCAiZGFzaEFycmF5IjogbnVsbCwgImRhc2hPZmZzZXQiOiBudWxsLCAiZmlsbCI6IHRydWUsICJmaWxsQ29sb3IiOiAiI2E1Y2JiNGZmIiwgImZpbGxPcGFjaXR5IjogMC43NSwgImZpbGxSdWxlIjogImV2ZW5vZGQiLCAibGluZUNhcCI6ICJyb3VuZCIsICJsaW5lSm9pbiI6ICJyb3VuZCIsICJvcGFjaXR5IjogMS4wLCAicmFkaXVzIjogNDQyLjgsICJzdHJva2UiOiB0cnVlLCAid2VpZ2h0IjogMn0KICAgICAgICAgICAgKS5hZGRUbyhtYXBfZDY0NTYwODczMTdjNDRhOTg1MTZlNjBjOWQxMjBiNDMpOwogICAgICAgIAogICAgCiAgICAgICAgICAgIGNpcmNsZV8wYzU2ZTk3ZGM3YzA0NDllYTY4OGZkNTYyZjNhMWM5Zi5iaW5kVG9vbHRpcCgKICAgICAgICAgICAgICAgIGA8ZGl2PgogICAgICAgICAgICAgICAgICAgICBEaXN0cmljdCAwOSA8YnI+IEF2Zy4gU2FmZXR5IC8gUmVzcGVjdCBTY29yZSwgc3R1ZGVudHMgcmVzcG9uc2UgKGNvbG9yKTogNi43IDxicj4gQXZnLiBlbnJvbGxtZW50IHBlciBzY2hvb2wgKHNpemUpOiA0NDMKICAgICAgICAgICAgICAgICA8L2Rpdj5gLAogICAgICAgICAgICAgICAgeyJzdGlja3kiOiB0cnVlfQogICAgICAgICAgICApOwogICAgICAgIAogICAgCiAgICAgICAgICAgIHZhciBjaXJjbGVfY2VhOGMwYTA3NmZmNGY1M2E3MzIxNzdkN2YzYzcyMGYgPSBMLmNpcmNsZSgKICAgICAgICAgICAgICAgIFs0MC44NzAzNDUzMTg0MDk1NzYsIC03My44OTgzNTk5ODAyMjY5NF0sCiAgICAgICAgICAgICAgICB7ImJ1YmJsaW5nTW91c2VFdmVudHMiOiB0cnVlLCAiY29sb3IiOiAiIzk5YzRiNGZmIiwgImRhc2hBcnJheSI6IG51bGwsICJkYXNoT2Zmc2V0IjogbnVsbCwgImZpbGwiOiB0cnVlLCAiZmlsbENvbG9yIjogIiM5OWM0YjRmZiIsICJmaWxsT3BhY2l0eSI6IDAuNzUsICJmaWxsUnVsZSI6ICJldmVub2RkIiwgImxpbmVDYXAiOiAicm91bmQiLCAibGluZUpvaW4iOiAicm91bmQiLCAib3BhY2l0eSI6IDEuMCwgInJhZGl1cyI6IDgxOC41NDU0NTQ1NDU0NTQ1LCAic3Ryb2tlIjogdHJ1ZSwgIndlaWdodCI6IDJ9CiAgICAgICAgICAgICkuYWRkVG8obWFwX2Q2NDU2MDg3MzE3YzQ0YTk4NTE2ZTYwYzlkMTIwYjQzKTsKICAgICAgICAKICAgIAogICAgICAgICAgICBjaXJjbGVfY2VhOGMwYTA3NmZmNGY1M2E3MzIxNzdkN2YzYzcyMGYuYmluZFRvb2x0aXAoCiAgICAgICAgICAgICAgICBgPGRpdj4KICAgICAgICAgICAgICAgICAgICAgRGlzdHJpY3QgMTAgPGJyPiBBdmcuIFNhZmV0eSAvIFJlc3BlY3QgU2NvcmUsIHN0dWRlbnRzIHJlc3BvbnNlIChjb2xvcik6IDYuNiA8YnI+IEF2Zy4gZW5yb2xsbWVudCBwZXIgc2Nob29sIChzaXplKTogODE5CiAgICAgICAgICAgICAgICAgPC9kaXY+YCwKICAgICAgICAgICAgICAgIHsic3RpY2t5IjogdHJ1ZX0KICAgICAgICAgICAgKTsKICAgICAgICAKICAgIAogICAgICAgICAgICB2YXIgY2lyY2xlXzRhNTk5ZDc2ZTA2MjQ3MzNhN2MyZDM1MmZmOTA1MjljID0gTC5jaXJjbGUoCiAgICAgICAgICAgICAgICBbNDAuODczMTM4MzI5MTMzNzk1LCAtNzMuODU2MTE5NTM2MTk5NjRdLAogICAgICAgICAgICAgICAgeyJidWJibGluZ01vdXNlRXZlbnRzIjogdHJ1ZSwgImNvbG9yIjogIiM1YzlkYjZmZiIsICJkYXNoQXJyYXkiOiBudWxsLCAiZGFzaE9mZnNldCI6IG51bGwsICJmaWxsIjogdHJ1ZSwgImZpbGxDb2xvciI6ICIjNWM5ZGI2ZmYiLCAiZmlsbE9wYWNpdHkiOiAwLjc1LCAiZmlsbFJ1bGUiOiAiZXZlbm9kZCIsICJsaW5lQ2FwIjogInJvdW5kIiwgImxpbmVKb2luIjogInJvdW5kIiwgIm9wYWNpdHkiOiAxLjAsICJyYWRpdXMiOiA1NjIuNDY2NjY2NjY2NjY2NywgInN0cm9rZSI6IHRydWUsICJ3ZWlnaHQiOiAyfQogICAgICAgICAgICApLmFkZFRvKG1hcF9kNjQ1NjA4NzMxN2M0NGE5ODUxNmU2MGM5ZDEyMGI0Myk7CiAgICAgICAgCiAgICAKICAgICAgICAgICAgY2lyY2xlXzRhNTk5ZDc2ZTA2MjQ3MzNhN2MyZDM1MmZmOTA1MjljLmJpbmRUb29sdGlwKAogICAgICAgICAgICAgICAgYDxkaXY+CiAgICAgICAgICAgICAgICAgICAgIERpc3RyaWN0IDExIDxicj4gQXZnLiBTYWZldHkgLyBSZXNwZWN0IFNjb3JlLCBzdHVkZW50cyByZXNwb25zZSAoY29sb3IpOiA2LjIgPGJyPiBBdmcuIGVucm9sbG1lbnQgcGVyIHNjaG9vbCAoc2l6ZSk6IDU2MgogICAgICAgICAgICAgICAgIDwvZGl2PmAsCiAgICAgICAgICAgICAgICB7InN0aWNreSI6IHRydWV9CiAgICAgICAgICAgICk7CiAgICAgICAgCiAgICAKICAgICAgICAgICAgdmFyIGNpcmNsZV8yNmE3MjJjZDhmM2M0N2I3OGQ0NzU5OTQ4YWI2YTU4MiA9IEwuY2lyY2xlKAogICAgICAgICAgICAgICAgWzQwLjgzMTQxMjI2NzQxNzEzLCAtNzMuODg2OTQ2MzY1ODMyOTddLAogICAgICAgICAgICAgICAgeyJidWJibGluZ01vdXNlRXZlbnRzIjogdHJ1ZSwgImNvbG9yIjogIiNlZGY4YjFmZiIsICJkYXNoQXJyYXkiOiBudWxsLCAiZGFzaE9mZnNldCI6IG51bGwsICJmaWxsIjogdHJ1ZSwgImZpbGxDb2xvciI6ICIjZWRmOGIxZmYiLCAiZmlsbE9wYWNpdHkiOiAwLjc1LCAiZmlsbFJ1bGUiOiAiZXZlbm9kZCIsICJsaW5lQ2FwIjogInJvdW5kIiwgImxpbmVKb2luIjogInJvdW5kIiwgIm9wYWNpdHkiOiAxLjAsICJyYWRpdXMiOiAzOTEuMCwgInN0cm9rZSI6IHRydWUsICJ3ZWlnaHQiOiAyfQogICAgICAgICAgICApLmFkZFRvKG1hcF9kNjQ1NjA4NzMxN2M0NGE5ODUxNmU2MGM5ZDEyMGI0Myk7CiAgICAgICAgCiAgICAKICAgICAgICAgICAgY2lyY2xlXzI2YTcyMmNkOGYzYzQ3Yjc4ZDQ3NTk5NDhhYjZhNTgyLmJpbmRUb29sdGlwKAogICAgICAgICAgICAgICAgYDxkaXY+CiAgICAgICAgICAgICAgICAgICAgIERpc3RyaWN0IDEyIDxicj4gQXZnLiBTYWZldHkgLyBSZXNwZWN0IFNjb3JlLCBzdHVkZW50cyByZXNwb25zZSAoY29sb3IpOiA3LjEgPGJyPiBBdmcuIGVucm9sbG1lbnQgcGVyIHNjaG9vbCAoc2l6ZSk6IDM5MQogICAgICAgICAgICAgICAgIDwvZGl2PmAsCiAgICAgICAgICAgICAgICB7InN0aWNreSI6IHRydWV9CiAgICAgICAgICAgICk7CiAgICAgICAgCiAgICAKICAgICAgICAgICAgdmFyIGNpcmNsZV80NGU1Y2ZhYmU0ZjU0Y2Q2YTA2YmYyYmRjNmViM2YxZiA9IEwuY2lyY2xlKAogICAgICAgICAgICAgICAgWzQwLjY5Mjg2NDU2MDA3NzM5NiwgLTczLjk3NzAxNTk5MDY5MTk1XSwKICAgICAgICAgICAgICAgIHsiYnViYmxpbmdNb3VzZUV2ZW50cyI6IHRydWUsICJjb2xvciI6ICIjN2ZiM2I1ZmYiLCAiZGFzaEFycmF5IjogbnVsbCwgImRhc2hPZmZzZXQiOiBudWxsLCAiZmlsbCI6IHRydWUsICJmaWxsQ29sb3IiOiAiIzdmYjNiNWZmIiwgImZpbGxPcGFjaXR5IjogMC43NSwgImZpbGxSdWxlIjogImV2ZW5vZGQiLCAibGluZUNhcCI6ICJyb3VuZCIsICJsaW5lSm9pbiI6ICJyb3VuZCIsICJvcGFjaXR5IjogMS4wLCAicmFkaXVzIjogOTAyLjAsICJzdHJva2UiOiB0cnVlLCAid2VpZ2h0IjogMn0KICAgICAgICAgICAgKS5hZGRUbyhtYXBfZDY0NTYwODczMTdjNDRhOTg1MTZlNjBjOWQxMjBiNDMpOwogICAgICAgIAogICAgCiAgICAgICAgICAgIGNpcmNsZV80NGU1Y2ZhYmU0ZjU0Y2Q2YTA2YmYyYmRjNmViM2YxZi5iaW5kVG9vbHRpcCgKICAgICAgICAgICAgICAgIGA8ZGl2PgogICAgICAgICAgICAgICAgICAgICBEaXN0cmljdCAxMyA8YnI+IEF2Zy4gU2FmZXR5IC8gUmVzcGVjdCBTY29yZSwgc3R1ZGVudHMgcmVzcG9uc2UgKGNvbG9yKTogNi40IDxicj4gQXZnLiBlbnJvbGxtZW50IHBlciBzY2hvb2wgKHNpemUpOiA5MDIKICAgICAgICAgICAgICAgICA8L2Rpdj5gLAogICAgICAgICAgICAgICAgeyJzdGlja3kiOiB0cnVlfQogICAgICAgICAgICApOwogICAgICAgIAogICAgCiAgICAgICAgICAgIHZhciBjaXJjbGVfNmQzNTBkODhkODJjNDdiODk4ODIyZWI1OTFjNWI3ZjQgPSBMLmNpcmNsZSgKICAgICAgICAgICAgICAgIFs0MC43MTE1OTkzOTQ3ODYyLCAtNzMuOTQ4MzU5OTk3Mjg1MzVdLAogICAgICAgICAgICAgICAgeyJidWJibGluZ01vdXNlRXZlbnRzIjogdHJ1ZSwgImNvbG9yIjogIiNhYWNlYjRmZiIsICJkYXNoQXJyYXkiOiBudWxsLCAiZGFzaE9mZnNldCI6IG51bGwsICJmaWxsIjogdHJ1ZSwgImZpbGxDb2xvciI6ICIjYWFjZWI0ZmYiLCAiZmlsbE9wYWNpdHkiOiAwLjc1LCAiZmlsbFJ1bGUiOiAiZXZlbm9kZCIsICJsaW5lQ2FwIjogInJvdW5kIiwgImxpbmVKb2luIjogInJvdW5kIiwgIm9wYWNpdHkiOiAxLjAsICJyYWRpdXMiOiA1NTYuMjE0Mjg1NzE0Mjg1NywgInN0cm9rZSI6IHRydWUsICJ3ZWlnaHQiOiAyfQogICAgICAgICAgICApLmFkZFRvKG1hcF9kNjQ1NjA4NzMxN2M0NGE5ODUxNmU2MGM5ZDEyMGI0Myk7CiAgICAgICAgCiAgICAKICAgICAgICAgICAgY2lyY2xlXzZkMzUwZDg4ZDgyYzQ3Yjg5ODgyMmViNTkxYzViN2Y0LmJpbmRUb29sdGlwKAogICAgICAgICAgICAgICAgYDxkaXY+CiAgICAgICAgICAgICAgICAgICAgIERpc3RyaWN0IDE0IDxicj4gQXZnLiBTYWZldHkgLyBSZXNwZWN0IFNjb3JlLCBzdHVkZW50cyByZXNwb25zZSAoY29sb3IpOiA2LjcgPGJyPiBBdmcuIGVucm9sbG1lbnQgcGVyIHNjaG9vbCAoc2l6ZSk6IDU1NgogICAgICAgICAgICAgICAgIDwvZGl2PmAsCiAgICAgICAgICAgICAgICB7InN0aWNreSI6IHRydWV9CiAgICAgICAgICAgICk7CiAgICAgICAgCiAgICAKICAgICAgICAgICAgdmFyIGNpcmNsZV81ZDY2NTA2N2E1M2Q0Njc5YjM0YTY3ODBlMjNmYTNmZSA9IEwuY2lyY2xlKAogICAgICAgICAgICAgICAgWzQwLjY3NTk3MjAxMTc3ODI2LCAtNzMuOTg5MjU0OTk5MjIxODhdLAogICAgICAgICAgICAgICAgeyJidWJibGluZ01vdXNlRXZlbnRzIjogdHJ1ZSwgImNvbG9yIjogIiM1YjlkYjdmZiIsICJkYXNoQXJyYXkiOiBudWxsLCAiZGFzaE9mZnNldCI6IG51bGwsICJmaWxsIjogdHJ1ZSwgImZpbGxDb2xvciI6ICIjNWI5ZGI3ZmYiLCAiZmlsbE9wYWNpdHkiOiAwLjc1LCAiZmlsbFJ1bGUiOiAiZXZlbm9kZCIsICJsaW5lQ2FwIjogInJvdW5kIiwgImxpbmVKb2luIjogInJvdW5kIiwgIm9wYWNpdHkiOiAxLjAsICJyYWRpdXMiOiA1NjIuNjY2NjY2NjY2NjY2NiwgInN0cm9rZSI6IHRydWUsICJ3ZWlnaHQiOiAyfQogICAgICAgICAgICApLmFkZFRvKG1hcF9kNjQ1NjA4NzMxN2M0NGE5ODUxNmU2MGM5ZDEyMGI0Myk7CiAgICAgICAgCiAgICAKICAgICAgICAgICAgY2lyY2xlXzVkNjY1MDY3YTUzZDQ2NzliMzRhNjc4MGUyM2ZhM2ZlLmJpbmRUb29sdGlwKAogICAgICAgICAgICAgICAgYDxkaXY+CiAgICAgICAgICAgICAgICAgICAgIERpc3RyaWN0IDE1IDxicj4gQXZnLiBTYWZldHkgLyBSZXNwZWN0IFNjb3JlLCBzdHVkZW50cyByZXNwb25zZSAoY29sb3IpOiA2LjIgPGJyPiBBdmcuIGVucm9sbG1lbnQgcGVyIHNjaG9vbCAoc2l6ZSk6IDU2MwogICAgICAgICAgICAgICAgIDwvZGl2PmAsCiAgICAgICAgICAgICAgICB7InN0aWNreSI6IHRydWV9CiAgICAgICAgICAgICk7CiAgICAgICAgCiAgICAKICAgICAgICAgICAgdmFyIGNpcmNsZV80NjE2YTY3MzE0NmQ0NTZmOTA3YWFiOWM4ZTU5ZGMzZiA9IEwuY2lyY2xlKAogICAgICAgICAgICAgICAgWzQwLjY4ODAwNzUxNDAwMDQ2LCAtNzMuOTI5Njg2MjA1NzQ5NjVdLAogICAgICAgICAgICAgICAgeyJidWJibGluZ01vdXNlRXZlbnRzIjogdHJ1ZSwgImNvbG9yIjogIiMyYzdmYjhmZiIsICJkYXNoQXJyYXkiOiBudWxsLCAiZGFzaE9mZnNldCI6IG51bGwsICJmaWxsIjogdHJ1ZSwgImZpbGxDb2xvciI6ICIjMmM3ZmI4ZmYiLCAiZmlsbE9wYWNpdHkiOiAwLjc1LCAiZmlsbFJ1bGUiOiAiZXZlbm9kZCIsICJsaW5lQ2FwIjogInJvdW5kIiwgImxpbmVKb2luIjogInJvdW5kIiwgIm9wYWNpdHkiOiAxLjAsICJyYWRpdXMiOiA2NTguNSwgInN0cm9rZSI6IHRydWUsICJ3ZWlnaHQiOiAyfQogICAgICAgICAgICApLmFkZFRvKG1hcF9kNjQ1NjA4NzMxN2M0NGE5ODUxNmU2MGM5ZDEyMGI0Myk7CiAgICAgICAgCiAgICAKICAgICAgICAgICAgY2lyY2xlXzQ2MTZhNjczMTQ2ZDQ1NmY5MDdhYWI5YzhlNTlkYzNmLmJpbmRUb29sdGlwKAogICAgICAgICAgICAgICAgYDxkaXY+CiAgICAgICAgICAgICAgICAgICAgIERpc3RyaWN0IDE2IDxicj4gQXZnLiBTYWZldHkgLyBSZXNwZWN0IFNjb3JlLCBzdHVkZW50cyByZXNwb25zZSAoY29sb3IpOiA1LjkgPGJyPiBBdmcuIGVucm9sbG1lbnQgcGVyIHNjaG9vbCAoc2l6ZSk6IDY1OAogICAgICAgICAgICAgICAgIDwvZGl2PmAsCiAgICAgICAgICAgICAgICB7InN0aWNreSI6IHRydWV9CiAgICAgICAgICAgICk7CiAgICAgICAgCiAgICAKICAgICAgICAgICAgdmFyIGNpcmNsZV9hMjBlM2EwMjFlMjI0YTJlYmNmMzVkYWM5MmQxN2FjNSA9IEwuY2lyY2xlKAogICAgICAgICAgICAgICAgWzQwLjY2MDMxMjY5MDAwMDQ3NCwgLTczLjk1NTYzNTY5Nzg1Njc2XSwKICAgICAgICAgICAgICAgIHsiYnViYmxpbmdNb3VzZUV2ZW50cyI6IHRydWUsICJjb2xvciI6ICIjNDA4Y2I3ZmYiLCAiZGFzaEFycmF5IjogbnVsbCwgImRhc2hPZmZzZXQiOiBudWxsLCAiZmlsbCI6IHRydWUsICJmaWxsQ29sb3IiOiAiIzQwOGNiN2ZmIiwgImZpbGxPcGFjaXR5IjogMC43NSwgImZpbGxSdWxlIjogImV2ZW5vZGQiLCAibGluZUNhcCI6ICJyb3VuZCIsICJsaW5lSm9pbiI6ICJyb3VuZCIsICJvcGFjaXR5IjogMS4wLCAicmFkaXVzIjogNTU0LjI4NTcxNDI4NTcxNDMsICJzdHJva2UiOiB0cnVlLCAid2VpZ2h0IjogMn0KICAgICAgICAgICAgKS5hZGRUbyhtYXBfZDY0NTYwODczMTdjNDRhOTg1MTZlNjBjOWQxMjBiNDMpOwogICAgICAgIAogICAgCiAgICAgICAgICAgIGNpcmNsZV9hMjBlM2EwMjFlMjI0YTJlYmNmMzVkYWM5MmQxN2FjNS5iaW5kVG9vbHRpcCgKICAgICAgICAgICAgICAgIGA8ZGl2PgogICAgICAgICAgICAgICAgICAgICBEaXN0cmljdCAxNyA8YnI+IEF2Zy4gU2FmZXR5IC8gUmVzcGVjdCBTY29yZSwgc3R1ZGVudHMgcmVzcG9uc2UgKGNvbG9yKTogNi4wIDxicj4gQXZnLiBlbnJvbGxtZW50IHBlciBzY2hvb2wgKHNpemUpOiA1NTQKICAgICAgICAgICAgICAgICA8L2Rpdj5gLAogICAgICAgICAgICAgICAgeyJzdGlja3kiOiB0cnVlfQogICAgICAgICAgICApOwogICAgICAgIAogICAgCiAgICAgICAgICAgIHZhciBjaXJjbGVfNTVlOWVkYmZiMDJiNDkyZThhOWE4N2E4MmZmNGZjZWIgPSBMLmNpcmNsZSgKICAgICAgICAgICAgICAgIFs0MC42NDE4NjI3NzY2MzY4MzUsIC03My45MTQ3MjU3NTM1NDUxM10sCiAgICAgICAgICAgICAgICB7ImJ1YmJsaW5nTW91c2VFdmVudHMiOiB0cnVlLCAiY29sb3IiOiAiIzVkOWViNmZmIiwgImRhc2hBcnJheSI6IG51bGwsICJkYXNoT2Zmc2V0IjogbnVsbCwgImZpbGwiOiB0cnVlLCAiZmlsbENvbG9yIjogIiM1ZDllYjZmZiIsICJmaWxsT3BhY2l0eSI6IDAuNzUsICJmaWxsUnVsZSI6ICJldmVub2RkIiwgImxpbmVDYXAiOiAicm91bmQiLCAibGluZUpvaW4iOiAicm91bmQiLCAib3BhY2l0eSI6IDEuMCwgInJhZGl1cyI6IDMzMi4yNzI3MjcyNzI3MjcyNSwgInN0cm9rZSI6IHRydWUsICJ3ZWlnaHQiOiAyfQogICAgICAgICAgICApLmFkZFRvKG1hcF9kNjQ1NjA4NzMxN2M0NGE5ODUxNmU2MGM5ZDEyMGI0Myk7CiAgICAgICAgCiAgICAKICAgICAgICAgICAgY2lyY2xlXzU1ZTllZGJmYjAyYjQ5MmU4YTlhODdhODJmZjRmY2ViLmJpbmRUb29sdGlwKAogICAgICAgICAgICAgICAgYDxkaXY+CiAgICAgICAgICAgICAgICAgICAgIERpc3RyaWN0IDE4IDxicj4gQXZnLiBTYWZldHkgLyBSZXNwZWN0IFNjb3JlLCBzdHVkZW50cyByZXNwb25zZSAoY29sb3IpOiA2LjIgPGJyPiBBdmcuIGVucm9sbG1lbnQgcGVyIHNjaG9vbCAoc2l6ZSk6IDMzMgogICAgICAgICAgICAgICAgIDwvZGl2PmAsCiAgICAgICAgICAgICAgICB7InN0aWNreSI6IHRydWV9CiAgICAgICAgICAgICk7CiAgICAgICAgCiAgICAKICAgICAgICAgICAgdmFyIGNpcmNsZV9lZDFlZWRlMTZiODY0YzI5OWFkOWQyNjNlMTU3MGI2NSA9IEwuY2lyY2xlKAogICAgICAgICAgICAgICAgWzQwLjY3NjU0Njk1OTI1MDQ3LCAtNzMuODgyMTU3NjY5OTE2M10sCiAgICAgICAgICAgICAgICB7ImJ1YmJsaW5nTW91c2VFdmVudHMiOiB0cnVlLCAiY29sb3IiOiAiIzU2OWFiN2ZmIiwgImRhc2hBcnJheSI6IG51bGwsICJkYXNoT2Zmc2V0IjogbnVsbCwgImZpbGwiOiB0cnVlLCAiZmlsbENvbG9yIjogIiM1NjlhYjdmZiIsICJmaWxsT3BhY2l0eSI6IDAuNzUsICJmaWxsUnVsZSI6ICJldmVub2RkIiwgImxpbmVDYXAiOiAicm91bmQiLCAibGluZUpvaW4iOiAicm91bmQiLCAib3BhY2l0eSI6IDEuMCwgInJhZGl1cyI6IDQ5Mi41LCAic3Ryb2tlIjogdHJ1ZSwgIndlaWdodCI6IDJ9CiAgICAgICAgICAgICkuYWRkVG8obWFwX2Q2NDU2MDg3MzE3YzQ0YTk4NTE2ZTYwYzlkMTIwYjQzKTsKICAgICAgICAKICAgIAogICAgICAgICAgICBjaXJjbGVfZWQxZWVkZTE2Yjg2NGMyOTlhZDlkMjYzZTE1NzBiNjUuYmluZFRvb2x0aXAoCiAgICAgICAgICAgICAgICBgPGRpdj4KICAgICAgICAgICAgICAgICAgICAgRGlzdHJpY3QgMTkgPGJyPiBBdmcuIFNhZmV0eSAvIFJlc3BlY3QgU2NvcmUsIHN0dWRlbnRzIHJlc3BvbnNlIChjb2xvcik6IDYuMSA8YnI+IEF2Zy4gZW5yb2xsbWVudCBwZXIgc2Nob29sIChzaXplKTogNDkyCiAgICAgICAgICAgICAgICAgPC9kaXY+YCwKICAgICAgICAgICAgICAgIHsic3RpY2t5IjogdHJ1ZX0KICAgICAgICAgICAgKTsKICAgICAgICAKICAgIAogICAgICAgICAgICB2YXIgY2lyY2xlX2I4MzE1MDk1Y2JhZjRiMmZhOTVkOWFhNzgxMmVjYWU2ID0gTC5jaXJjbGUoCiAgICAgICAgICAgICAgICBbNDAuNjI2NzUxMDEwMjAwNDY1LCAtNzQuMDA2MTkwNTMwNzk5NjZdLAogICAgICAgICAgICAgICAgeyJidWJibGluZ01vdXNlRXZlbnRzIjogdHJ1ZSwgImNvbG9yIjogIiNlZGY4YjFmZiIsICJkYXNoQXJyYXkiOiBudWxsLCAiZGFzaE9mZnNldCI6IG51bGwsICJmaWxsIjogdHJ1ZSwgImZpbGxDb2xvciI6ICIjZWRmOGIxZmYiLCAiZmlsbE9wYWNpdHkiOiAwLjc1LCAiZmlsbFJ1bGUiOiAiZXZlbm9kZCIsICJsaW5lQ2FwIjogInJvdW5kIiwgImxpbmVKb2luIjogInJvdW5kIiwgIm9wYWNpdHkiOiAxLjAsICJyYWRpdXMiOiAyNDYyLjYsICJzdHJva2UiOiB0cnVlLCAid2VpZ2h0IjogMn0KICAgICAgICAgICAgKS5hZGRUbyhtYXBfZDY0NTYwODczMTdjNDRhOTg1MTZlNjBjOWQxMjBiNDMpOwogICAgICAgIAogICAgCiAgICAgICAgICAgIGNpcmNsZV9iODMxNTA5NWNiYWY0YjJmYTk1ZDlhYTc4MTJlY2FlNi5iaW5kVG9vbHRpcCgKICAgICAgICAgICAgICAgIGA8ZGl2PgogICAgICAgICAgICAgICAgICAgICBEaXN0cmljdCAyMCA8YnI+IEF2Zy4gU2FmZXR5IC8gUmVzcGVjdCBTY29yZSwgc3R1ZGVudHMgcmVzcG9uc2UgKGNvbG9yKTogNy4xIDxicj4gQXZnLiBlbnJvbGxtZW50IHBlciBzY2hvb2wgKHNpemUpOiAyNDYzCiAgICAgICAgICAgICAgICAgPC9kaXY+YCwKICAgICAgICAgICAgICAgIHsic3RpY2t5IjogdHJ1ZX0KICAgICAgICAgICAgKTsKICAgICAgICAKICAgIAogICAgICAgICAgICB2YXIgY2lyY2xlXzZiZDNhZjI3OGQyYjQ4MjI4NjYzYzE5ZmZhYWNmOGRlID0gTC5jaXJjbGUoCiAgICAgICAgICAgICAgICBbNDAuNTkzNTk2NDYwMTgyMjgsIC03My45Nzg0NjU0NzU1NDUxMl0sCiAgICAgICAgICAgICAgICB7ImJ1YmJsaW5nTW91c2VFdmVudHMiOiB0cnVlLCAiY29sb3IiOiAiIzdjYjFiNWZmIiwgImRhc2hBcnJheSI6IG51bGwsICJkYXNoT2Zmc2V0IjogbnVsbCwgImZpbGwiOiB0cnVlLCAiZmlsbENvbG9yIjogIiM3Y2IxYjVmZiIsICJmaWxsT3BhY2l0eSI6IDAuNzUsICJmaWxsUnVsZSI6ICJldmVub2RkIiwgImxpbmVDYXAiOiAicm91bmQiLCAibGluZUpvaW4iOiAicm91bmQiLCAib3BhY2l0eSI6IDEuMCwgInJhZGl1cyI6IDExNjAuMCwgInN0cm9rZSI6IHRydWUsICJ3ZWlnaHQiOiAyfQogICAgICAgICAgICApLmFkZFRvKG1hcF9kNjQ1NjA4NzMxN2M0NGE5ODUxNmU2MGM5ZDEyMGI0Myk7CiAgICAgICAgCiAgICAKICAgICAgICAgICAgY2lyY2xlXzZiZDNhZjI3OGQyYjQ4MjI4NjYzYzE5ZmZhYWNmOGRlLmJpbmRUb29sdGlwKAogICAgICAgICAgICAgICAgYDxkaXY+CiAgICAgICAgICAgICAgICAgICAgIERpc3RyaWN0IDIxIDxicj4gQXZnLiBTYWZldHkgLyBSZXNwZWN0IFNjb3JlLCBzdHVkZW50cyByZXNwb25zZSAoY29sb3IpOiA2LjQgPGJyPiBBdmcuIGVucm9sbG1lbnQgcGVyIHNjaG9vbCAoc2l6ZSk6IDExNjAKICAgICAgICAgICAgICAgICA8L2Rpdj5gLAogICAgICAgICAgICAgICAgeyJzdGlja3kiOiB0cnVlfQogICAgICAgICAgICApOwogICAgICAgIAogICAgCiAgICAgICAgICAgIHZhciBjaXJjbGVfMDc1Mzk4NzVkMDE5NDIwYjgzYzBmMzhkNjIyNzU5MTEgPSBMLmNpcmNsZSgKICAgICAgICAgICAgICAgIFs0MC42MTgyODU0MzQ1MDA0OCwgLTczLjk1MjI4Nzc3Mjc0OTY0XSwKICAgICAgICAgICAgICAgIHsiYnViYmxpbmdNb3VzZUV2ZW50cyI6IHRydWUsICJjb2xvciI6ICIjZGZlZmIyZmYiLCAiZGFzaEFycmF5IjogbnVsbCwgImRhc2hPZmZzZXQiOiBudWxsLCAiZmlsbCI6IHRydWUsICJmaWxsQ29sb3IiOiAiI2RmZWZiMmZmIiwgImZpbGxPcGFjaXR5IjogMC43NSwgImZpbGxSdWxlIjogImV2ZW5vZGQiLCAibGluZUNhcCI6ICJyb3VuZCIsICJsaW5lSm9pbiI6ICJyb3VuZCIsICJvcGFjaXR5IjogMS4wLCAicmFkaXVzIjogMjE0Mi41LCAic3Ryb2tlIjogdHJ1ZSwgIndlaWdodCI6IDJ9CiAgICAgICAgICAgICkuYWRkVG8obWFwX2Q2NDU2MDg3MzE3YzQ0YTk4NTE2ZTYwYzlkMTIwYjQzKTsKICAgICAgICAKICAgIAogICAgICAgICAgICBjaXJjbGVfMDc1Mzk4NzVkMDE5NDIwYjgzYzBmMzhkNjIyNzU5MTEuYmluZFRvb2x0aXAoCiAgICAgICAgICAgICAgICBgPGRpdj4KICAgICAgICAgICAgICAgICAgICAgRGlzdHJpY3QgMjIgPGJyPiBBdmcuIFNhZmV0eSAvIFJlc3BlY3QgU2NvcmUsIHN0dWRlbnRzIHJlc3BvbnNlIChjb2xvcik6IDcuMCA8YnI+IEF2Zy4gZW5yb2xsbWVudCBwZXIgc2Nob29sIChzaXplKTogMjE0MgogICAgICAgICAgICAgICAgIDwvZGl2PmAsCiAgICAgICAgICAgICAgICB7InN0aWNreSI6IHRydWV9CiAgICAgICAgICAgICk7CiAgICAgICAgCiAgICAKICAgICAgICAgICAgdmFyIGNpcmNsZV9jYjQxOTY0YzU5OWQ0MWE4ODQ5NDExMTQ2NzdlNmY2NiA9IEwuY2lyY2xlKAogICAgICAgICAgICAgICAgWzQwLjY2ODU4NjQwMjMzMzgyLCAtNzMuOTEyMjk3OTI2OTk5NjZdLAogICAgICAgICAgICAgICAgeyJidWJibGluZ01vdXNlRXZlbnRzIjogdHJ1ZSwgImNvbG9yIjogIiM2M2EyYjZmZiIsICJkYXNoQXJyYXkiOiBudWxsLCAiZGFzaE9mZnNldCI6IG51bGwsICJmaWxsIjogdHJ1ZSwgImZpbGxDb2xvciI6ICIjNjNhMmI2ZmYiLCAiZmlsbE9wYWNpdHkiOiAwLjc1LCAiZmlsbFJ1bGUiOiAiZXZlbm9kZCIsICJsaW5lQ2FwIjogInJvdW5kIiwgImxpbmVKb2luIjogInJvdW5kIiwgIm9wYWNpdHkiOiAxLjAsICJyYWRpdXMiOiA1MDMuNjY2NjY2NjY2NjY2NywgInN0cm9rZSI6IHRydWUsICJ3ZWlnaHQiOiAyfQogICAgICAgICAgICApLmFkZFRvKG1hcF9kNjQ1NjA4NzMxN2M0NGE5ODUxNmU2MGM5ZDEyMGI0Myk7CiAgICAgICAgCiAgICAKICAgICAgICAgICAgY2lyY2xlX2NiNDE5NjRjNTk5ZDQxYTg4NDk0MTExNDY3N2U2ZjY2LmJpbmRUb29sdGlwKAogICAgICAgICAgICAgICAgYDxkaXY+CiAgICAgICAgICAgICAgICAgICAgIERpc3RyaWN0IDIzIDxicj4gQXZnLiBTYWZldHkgLyBSZXNwZWN0IFNjb3JlLCBzdHVkZW50cyByZXNwb25zZSAoY29sb3IpOiA2LjIgPGJyPiBBdmcuIGVucm9sbG1lbnQgcGVyIHNjaG9vbCAoc2l6ZSk6IDUwNAogICAgICAgICAgICAgICAgIDwvZGl2PmAsCiAgICAgICAgICAgICAgICB7InN0aWNreSI6IHRydWV9CiAgICAgICAgICAgICk7CiAgICAgICAgCiAgICAKICAgICAgICAgICAgdmFyIGNpcmNsZV83NDQ0YmM0MGQyZWI0NDBmYjIzYzZjMmZhNWEzNTI2ZiA9IEwuY2lyY2xlKAogICAgICAgICAgICAgICAgWzQwLjc0MDYyMTI5MTc2OTcsIC03My45MTE1MTc3MDM5OTk2Nl0sCiAgICAgICAgICAgICAgICB7ImJ1YmJsaW5nTW91c2VFdmVudHMiOiB0cnVlLCAiY29sb3IiOiAiI2VjZjdiMWZmIiwgImRhc2hBcnJheSI6IG51bGwsICJkYXNoT2Zmc2V0IjogbnVsbCwgImZpbGwiOiB0cnVlLCAiZmlsbENvbG9yIjogIiNlY2Y3YjFmZiIsICJmaWxsT3BhY2l0eSI6IDAuNzUsICJmaWxsUnVsZSI6ICJldmVub2RkIiwgImxpbmVDYXAiOiAicm91bmQiLCAibGluZUpvaW4iOiAicm91bmQiLCAib3BhY2l0eSI6IDEuMCwgInJhZGl1cyI6IDk5MS4wLCAic3Ryb2tlIjogdHJ1ZSwgIndlaWdodCI6IDJ9CiAgICAgICAgICAgICkuYWRkVG8obWFwX2Q2NDU2MDg3MzE3YzQ0YTk4NTE2ZTYwYzlkMTIwYjQzKTsKICAgICAgICAKICAgIAogICAgICAgICAgICBjaXJjbGVfNzQ0NGJjNDBkMmViNDQwZmIyM2M2YzJmYTVhMzUyNmYuYmluZFRvb2x0aXAoCiAgICAgICAgICAgICAgICBgPGRpdj4KICAgICAgICAgICAgICAgICAgICAgRGlzdHJpY3QgMjQgPGJyPiBBdmcuIFNhZmV0eSAvIFJlc3BlY3QgU2NvcmUsIHN0dWRlbnRzIHJlc3BvbnNlIChjb2xvcik6IDcuMSA8YnI+IEF2Zy4gZW5yb2xsbWVudCBwZXIgc2Nob29sIChzaXplKTogOTkxCiAgICAgICAgICAgICAgICAgPC9kaXY+YCwKICAgICAgICAgICAgICAgIHsic3RpY2t5IjogdHJ1ZX0KICAgICAgICAgICAgKTsKICAgICAgICAKICAgIAogICAgICAgICAgICB2YXIgY2lyY2xlXzAyOWQ1MzAyODg2ZDRlM2FiZDQzMTBiMDNjZjY5N2E1ID0gTC5jaXJjbGUoCiAgICAgICAgICAgICAgICBbNDAuNzQ1NDE0NDM0NjI1NDc0LCAtNzMuODE1NTU3NTk3ODc0NjZdLAogICAgICAgICAgICAgICAgeyJidWJibGluZ01vdXNlRXZlbnRzIjogdHJ1ZSwgImNvbG9yIjogIiNjZGU0YjJmZiIsICJkYXNoQXJyYXkiOiBudWxsLCAiZGFzaE9mZnNldCI6IG51bGwsICJmaWxsIjogdHJ1ZSwgImZpbGxDb2xvciI6ICIjY2RlNGIyZmYiLCAiZmlsbE9wYWNpdHkiOiAwLjc1LCAiZmlsbFJ1bGUiOiAiZXZlbm9kZCIsICJsaW5lQ2FwIjogInJvdW5kIiwgImxpbmVKb2luIjogInJvdW5kIiwgIm9wYWNpdHkiOiAxLjAsICJyYWRpdXMiOiAxMzU2Ljc1LCAic3Ryb2tlIjogdHJ1ZSwgIndlaWdodCI6IDJ9CiAgICAgICAgICAgICkuYWRkVG8obWFwX2Q2NDU2MDg3MzE3YzQ0YTk4NTE2ZTYwYzlkMTIwYjQzKTsKICAgICAgICAKICAgIAogICAgICAgICAgICBjaXJjbGVfMDI5ZDUzMDI4ODZkNGUzYWJkNDMxMGIwM2NmNjk3YTUuYmluZFRvb2x0aXAoCiAgICAgICAgICAgICAgICBgPGRpdj4KICAgICAgICAgICAgICAgICAgICAgRGlzdHJpY3QgMjUgPGJyPiBBdmcuIFNhZmV0eSAvIFJlc3BlY3QgU2NvcmUsIHN0dWRlbnRzIHJlc3BvbnNlIChjb2xvcik6IDYuOSA8YnI+IEF2Zy4gZW5yb2xsbWVudCBwZXIgc2Nob29sIChzaXplKTogMTM1NwogICAgICAgICAgICAgICAgIDwvZGl2PmAsCiAgICAgICAgICAgICAgICB7InN0aWNreSI6IHRydWV9CiAgICAgICAgICAgICk7CiAgICAgICAgCiAgICAKICAgICAgICAgICAgdmFyIGNpcmNsZV84NzcyODcyZWFiNDA0NDM5YTBiZGVjZGYzNDI4YmQzMyA9IEwuY2lyY2xlKAogICAgICAgICAgICAgICAgWzQwLjc0ODUwNzM3MDAwMDQ3LCAtNzMuNzU5MTc1NzAyMTk5NjZdLAogICAgICAgICAgICAgICAgeyJidWJibGluZ01vdXNlRXZlbnRzIjogdHJ1ZSwgImNvbG9yIjogIiNiNWQ1YjNmZiIsICJkYXNoQXJyYXkiOiBudWxsLCAiZGFzaE9mZnNldCI6IG51bGwsICJmaWxsIjogdHJ1ZSwgImZpbGxDb2xvciI6ICIjYjVkNWIzZmYiLCAiZmlsbE9wYWNpdHkiOiAwLjc1LCAiZmlsbFJ1bGUiOiAiZXZlbm9kZCIsICJsaW5lQ2FwIjogInJvdW5kIiwgImxpbmVKb2luIjogInJvdW5kIiwgIm9wYWNpdHkiOiAxLjAsICJyYWRpdXMiOiAyOTkxLjYsICJzdHJva2UiOiB0cnVlLCAid2VpZ2h0IjogMn0KICAgICAgICAgICAgKS5hZGRUbyhtYXBfZDY0NTYwODczMTdjNDRhOTg1MTZlNjBjOWQxMjBiNDMpOwogICAgICAgIAogICAgCiAgICAgICAgICAgIGNpcmNsZV84NzcyODcyZWFiNDA0NDM5YTBiZGVjZGYzNDI4YmQzMy5iaW5kVG9vbHRpcCgKICAgICAgICAgICAgICAgIGA8ZGl2PgogICAgICAgICAgICAgICAgICAgICBEaXN0cmljdCAyNiA8YnI+IEF2Zy4gU2FmZXR5IC8gUmVzcGVjdCBTY29yZSwgc3R1ZGVudHMgcmVzcG9uc2UgKGNvbG9yKTogNi44IDxicj4gQXZnLiBlbnJvbGxtZW50IHBlciBzY2hvb2wgKHNpemUpOiAyOTkyCiAgICAgICAgICAgICAgICAgPC9kaXY+YCwKICAgICAgICAgICAgICAgIHsic3RpY2t5IjogdHJ1ZX0KICAgICAgICAgICAgKTsKICAgICAgICAKICAgIAogICAgICAgICAgICB2YXIgY2lyY2xlXzA4Yjg1MjdjY2ViYzQwNjlhZjY3OGQ3YjAxNjg5MDE4ID0gTC5jaXJjbGUoCiAgICAgICAgICAgICAgICBbNDAuNjM4ODI4MDMwNTAwNDgsIC03My44MDc4MjMyMzQ2OTk2NV0sCiAgICAgICAgICAgICAgICB7ImJ1YmJsaW5nTW91c2VFdmVudHMiOiB0cnVlLCAiY29sb3IiOiAiIzdjYjFiNWZmIiwgImRhc2hBcnJheSI6IG51bGwsICJkYXNoT2Zmc2V0IjogbnVsbCwgImZpbGwiOiB0cnVlLCAiZmlsbENvbG9yIjogIiM3Y2IxYjVmZiIsICJmaWxsT3BhY2l0eSI6IDAuNzUsICJmaWxsUnVsZSI6ICJldmVub2RkIiwgImxpbmVDYXAiOiAicm91bmQiLCAibGluZUpvaW4iOiAicm91bmQiLCAib3BhY2l0eSI6IDEuMCwgInJhZGl1cyI6IDExNDguMiwgInN0cm9rZSI6IHRydWUsICJ3ZWlnaHQiOiAyfQogICAgICAgICAgICApLmFkZFRvKG1hcF9kNjQ1NjA4NzMxN2M0NGE5ODUxNmU2MGM5ZDEyMGI0Myk7CiAgICAgICAgCiAgICAKICAgICAgICAgICAgY2lyY2xlXzA4Yjg1MjdjY2ViYzQwNjlhZjY3OGQ3YjAxNjg5MDE4LmJpbmRUb29sdGlwKAogICAgICAgICAgICAgICAgYDxkaXY+CiAgICAgICAgICAgICAgICAgICAgIERpc3RyaWN0IDI3IDxicj4gQXZnLiBTYWZldHkgLyBSZXNwZWN0IFNjb3JlLCBzdHVkZW50cyByZXNwb25zZSAoY29sb3IpOiA2LjQgPGJyPiBBdmcuIGVucm9sbG1lbnQgcGVyIHNjaG9vbCAoc2l6ZSk6IDExNDgKICAgICAgICAgICAgICAgICA8L2Rpdj5gLAogICAgICAgICAgICAgICAgeyJzdGlja3kiOiB0cnVlfQogICAgICAgICAgICApOwogICAgICAgIAogICAgCiAgICAgICAgICAgIHZhciBjaXJjbGVfZmVjN2E1YjYxNGRjNDBiMzk1MmNkYzdjOGVmMzFhZjcgPSBMLmNpcmNsZSgKICAgICAgICAgICAgICAgIFs0MC43MDkzNDQzNjIwMDA0NywgLTczLjgwNjM2NzM4MTI3MjM4XSwKICAgICAgICAgICAgICAgIHsiYnViYmxpbmdNb3VzZUV2ZW50cyI6IHRydWUsICJjb2xvciI6ICIjYTFjOGI0ZmYiLCAiZGFzaEFycmF5IjogbnVsbCwgImRhc2hPZmZzZXQiOiBudWxsLCAiZmlsbCI6IHRydWUsICJmaWxsQ29sb3IiOiAiI2ExYzhiNGZmIiwgImZpbGxPcGFjaXR5IjogMC43NSwgImZpbGxSdWxlIjogImV2ZW5vZGQiLCAibGluZUNhcCI6ICJyb3VuZCIsICJsaW5lSm9pbiI6ICJyb3VuZCIsICJvcGFjaXR5IjogMS4wLCAicmFkaXVzIjogMTIxMC42MzYzNjM2MzYzNjM3LCAic3Ryb2tlIjogdHJ1ZSwgIndlaWdodCI6IDJ9CiAgICAgICAgICAgICkuYWRkVG8obWFwX2Q2NDU2MDg3MzE3YzQ0YTk4NTE2ZTYwYzlkMTIwYjQzKTsKICAgICAgICAKICAgIAogICAgICAgICAgICBjaXJjbGVfZmVjN2E1YjYxNGRjNDBiMzk1MmNkYzdjOGVmMzFhZjcuYmluZFRvb2x0aXAoCiAgICAgICAgICAgICAgICBgPGRpdj4KICAgICAgICAgICAgICAgICAgICAgRGlzdHJpY3QgMjggPGJyPiBBdmcuIFNhZmV0eSAvIFJlc3BlY3QgU2NvcmUsIHN0dWRlbnRzIHJlc3BvbnNlIChjb2xvcik6IDYuNiA8YnI+IEF2Zy4gZW5yb2xsbWVudCBwZXIgc2Nob29sIChzaXplKTogMTIxMQogICAgICAgICAgICAgICAgIDwvZGl2PmAsCiAgICAgICAgICAgICAgICB7InN0aWNreSI6IHRydWV9CiAgICAgICAgICAgICk7CiAgICAgICAgCiAgICAKICAgICAgICAgICAgdmFyIGNpcmNsZV8yZTJlNTdhMDBjMWQ0Mzk2OTA1ODIzODdhOGVkYmI1OCA9IEwuY2lyY2xlKAogICAgICAgICAgICAgICAgWzQwLjY4NTI3NTk2Mjc1MDQ3NCwgLTczLjc1MjczOTc2OTc0OTY3XSwKICAgICAgICAgICAgICAgIHsiYnViYmxpbmdNb3VzZUV2ZW50cyI6IHRydWUsICJjb2xvciI6ICIjNGI5M2I3ZmYiLCAiZGFzaEFycmF5IjogbnVsbCwgImRhc2hPZmZzZXQiOiBudWxsLCAiZmlsbCI6IHRydWUsICJmaWxsQ29sb3IiOiAiIzRiOTNiN2ZmIiwgImZpbGxPcGFjaXR5IjogMC43NSwgImZpbGxSdWxlIjogImV2ZW5vZGQiLCAibGluZUNhcCI6ICJyb3VuZCIsICJsaW5lSm9pbiI6ICJyb3VuZCIsICJvcGFjaXR5IjogMS4wLCAicmFkaXVzIjogNDI4LjI1LCAic3Ryb2tlIjogdHJ1ZSwgIndlaWdodCI6IDJ9CiAgICAgICAgICAgICkuYWRkVG8obWFwX2Q2NDU2MDg3MzE3YzQ0YTk4NTE2ZTYwYzlkMTIwYjQzKTsKICAgICAgICAKICAgIAogICAgICAgICAgICBjaXJjbGVfMmUyZTU3YTAwYzFkNDM5NjkwNTgyMzg3YThlZGJiNTguYmluZFRvb2x0aXAoCiAgICAgICAgICAgICAgICBgPGRpdj4KICAgICAgICAgICAgICAgICAgICAgRGlzdHJpY3QgMjkgPGJyPiBBdmcuIFNhZmV0eSAvIFJlc3BlY3QgU2NvcmUsIHN0dWRlbnRzIHJlc3BvbnNlIChjb2xvcik6IDYuMSA8YnI+IEF2Zy4gZW5yb2xsbWVudCBwZXIgc2Nob29sIChzaXplKTogNDI4CiAgICAgICAgICAgICAgICAgPC9kaXY+YCwKICAgICAgICAgICAgICAgIHsic3RpY2t5IjogdHJ1ZX0KICAgICAgICAgICAgKTsKICAgICAgICAKICAgIAogICAgICAgICAgICB2YXIgY2lyY2xlX2FiMDc4M2FjY2E1YTQ3YmVhZmNhMGJjZmUxNGQ1MDI4ID0gTC5jaXJjbGUoCiAgICAgICAgICAgICAgICBbNDAuNzU1Mzk4Mjk3NjY3MTQsIC03My45MzIzMDU4OTc0NDQxMV0sCiAgICAgICAgICAgICAgICB7ImJ1YmJsaW5nTW91c2VFdmVudHMiOiB0cnVlLCAiY29sb3IiOiAiI2UwZjBiMmZmIiwgImRhc2hBcnJheSI6IG51bGwsICJkYXNoT2Zmc2V0IjogbnVsbCwgImZpbGwiOiB0cnVlLCAiZmlsbENvbG9yIjogIiNlMGYwYjJmZiIsICJmaWxsT3BhY2l0eSI6IDAuNzUsICJmaWxsUnVsZSI6ICJldmVub2RkIiwgImxpbmVDYXAiOiAicm91bmQiLCAibGluZUpvaW4iOiAicm91bmQiLCAib3BhY2l0eSI6IDEuMCwgInJhZGl1cyI6IDEyMjEuNTU1NTU1NTU1NTU1NywgInN0cm9rZSI6IHRydWUsICJ3ZWlnaHQiOiAyfQogICAgICAgICAgICApLmFkZFRvKG1hcF9kNjQ1NjA4NzMxN2M0NGE5ODUxNmU2MGM5ZDEyMGI0Myk7CiAgICAgICAgCiAgICAKICAgICAgICAgICAgY2lyY2xlX2FiMDc4M2FjY2E1YTQ3YmVhZmNhMGJjZmUxNGQ1MDI4LmJpbmRUb29sdGlwKAogICAgICAgICAgICAgICAgYDxkaXY+CiAgICAgICAgICAgICAgICAgICAgIERpc3RyaWN0IDMwIDxicj4gQXZnLiBTYWZldHkgLyBSZXNwZWN0IFNjb3JlLCBzdHVkZW50cyByZXNwb25zZSAoY29sb3IpOiA3LjAgPGJyPiBBdmcuIGVucm9sbG1lbnQgcGVyIHNjaG9vbCAoc2l6ZSk6IDEyMjIKICAgICAgICAgICAgICAgICA8L2Rpdj5gLAogICAgICAgICAgICAgICAgeyJzdGlja3kiOiB0cnVlfQogICAgICAgICAgICApOwogICAgICAgIAogICAgCiAgICAgICAgICAgIHZhciBjaXJjbGVfOGI0ZTY4Njc5ODYwNDlmODg1ODg0Nzg3ZDAyNzFiMTEgPSBMLmNpcmNsZSgKICAgICAgICAgICAgICAgIFs0MC41OTU2ODAyNTkxMDA0NywgLTc0LjEyNTcyNTk4MDE5OTY1XSwKICAgICAgICAgICAgICAgIHsiYnViYmxpbmdNb3VzZUV2ZW50cyI6IHRydWUsICJjb2xvciI6ICIjOTJiZmI1ZmYiLCAiZGFzaEFycmF5IjogbnVsbCwgImRhc2hPZmZzZXQiOiBudWxsLCAiZmlsbCI6IHRydWUsICJmaWxsQ29sb3IiOiAiIzkyYmZiNWZmIiwgImZpbGxPcGFjaXR5IjogMC43NSwgImZpbGxSdWxlIjogImV2ZW5vZGQiLCAibGluZUNhcCI6ICJyb3VuZCIsICJsaW5lSm9pbiI6ICJyb3VuZCIsICJvcGFjaXR5IjogMS4wLCAicmFkaXVzIjogMTg1MC42LCAic3Ryb2tlIjogdHJ1ZSwgIndlaWdodCI6IDJ9CiAgICAgICAgICAgICkuYWRkVG8obWFwX2Q2NDU2MDg3MzE3YzQ0YTk4NTE2ZTYwYzlkMTIwYjQzKTsKICAgICAgICAKICAgIAogICAgICAgICAgICBjaXJjbGVfOGI0ZTY4Njc5ODYwNDlmODg1ODg0Nzg3ZDAyNzFiMTEuYmluZFRvb2x0aXAoCiAgICAgICAgICAgICAgICBgPGRpdj4KICAgICAgICAgICAgICAgICAgICAgRGlzdHJpY3QgMzEgPGJyPiBBdmcuIFNhZmV0eSAvIFJlc3BlY3QgU2NvcmUsIHN0dWRlbnRzIHJlc3BvbnNlIChjb2xvcik6IDYuNSA8YnI+IEF2Zy4gZW5yb2xsbWVudCBwZXIgc2Nob29sIChzaXplKTogMTg1MQogICAgICAgICAgICAgICAgIDwvZGl2PmAsCiAgICAgICAgICAgICAgICB7InN0aWNreSI6IHRydWV9CiAgICAgICAgICAgICk7CiAgICAgICAgCiAgICAKICAgICAgICAgICAgdmFyIGNpcmNsZV8wNTU5YTZhNzY0MDk0NWJjOWNlZmY4N2U4ZmQ3MTEzZiA9IEwuY2lyY2xlKAogICAgICAgICAgICAgICAgWzQwLjY5NjI5NTE1ODAwMDQ2LCAtNzMuOTE3MTIzNTEyMzMyOTZdLAogICAgICAgICAgICAgICAgeyJidWJibGluZ01vdXNlRXZlbnRzIjogdHJ1ZSwgImNvbG9yIjogIiNiNmQ2YjNmZiIsICJkYXNoQXJyYXkiOiBudWxsLCAiZGFzaE9mZnNldCI6IG51bGwsICJmaWxsIjogdHJ1ZSwgImZpbGxDb2xvciI6ICIjYjZkNmIzZmYiLCAiZmlsbE9wYWNpdHkiOiAwLjc1LCAiZmlsbFJ1bGUiOiAiZXZlbm9kZCIsICJsaW5lQ2FwIjogInJvdW5kIiwgImxpbmVKb2luIjogInJvdW5kIiwgIm9wYWNpdHkiOiAxLjAsICJyYWRpdXMiOiA0MjAuODMzMzMzMzMzMzMzMywgInN0cm9rZSI6IHRydWUsICJ3ZWlnaHQiOiAyfQogICAgICAgICAgICApLmFkZFRvKG1hcF9kNjQ1NjA4NzMxN2M0NGE5ODUxNmU2MGM5ZDEyMGI0Myk7CiAgICAgICAgCiAgICAKICAgICAgICAgICAgY2lyY2xlXzA1NTlhNmE3NjQwOTQ1YmM5Y2VmZjg3ZThmZDcxMTNmLmJpbmRUb29sdGlwKAogICAgICAgICAgICAgICAgYDxkaXY+CiAgICAgICAgICAgICAgICAgICAgIERpc3RyaWN0IDMyIDxicj4gQXZnLiBTYWZldHkgLyBSZXNwZWN0IFNjb3JlLCBzdHVkZW50cyByZXNwb25zZSAoY29sb3IpOiA2LjggPGJyPiBBdmcuIGVucm9sbG1lbnQgcGVyIHNjaG9vbCAoc2l6ZSk6IDQyMQogICAgICAgICAgICAgICAgIDwvZGl2PmAsCiAgICAgICAgICAgICAgICB7InN0aWNreSI6IHRydWV9CiAgICAgICAgICAgICk7CiAgICAgICAgCiAgICAKICAgIHZhciBjb2xvcl9tYXBfODk1YTYzMzY5ZGE0NDI4OWJkMGI4MzY5NmZmOWE4YzAgPSB7fTsKCiAgICAKICAgIGNvbG9yX21hcF84OTVhNjMzNjlkYTQ0Mjg5YmQwYjgzNjk2ZmY5YThjMC5jb2xvciA9IGQzLnNjYWxlLnRocmVzaG9sZCgpCiAgICAgICAgICAgICAgLmRvbWFpbihbNS44NzUsIDUuODc3NDk0OTg5OTc5OTYsIDUuODc5OTg5OTc5OTU5OTIsIDUuODgyNDg0OTY5OTM5ODc5LCA1Ljg4NDk3OTk1OTkxOTg0LCA1Ljg4NzQ3NDk0OTg5OTgsIDUuODg5OTY5OTM5ODc5NzYsIDUuODkyNDY0OTI5ODU5NzE5LCA1Ljg5NDk1OTkxOTgzOTY3OSwgNS44OTc0NTQ5MDk4MTk2MzksIDUuODk5OTQ5ODk5Nzk5NiwgNS45MDI0NDQ4ODk3Nzk1NTksIDUuOTA0OTM5ODc5NzU5NTE5LCA1LjkwNzQzNDg2OTczOTQ3OSwgNS45MDk5Mjk4NTk3MTk0MzksIDUuOTEyNDI0ODQ5Njk5Mzk4NSwgNS45MTQ5MTk4Mzk2NzkzNTgsIDUuOTE3NDE0ODI5NjU5MzE5LCA1LjkxOTkwOTgxOTYzOTI3OSwgNS45MjI0MDQ4MDk2MTkyMzg1LCA1LjkyNDg5OTc5OTU5OTE5OCwgNS45MjczOTQ3ODk1NzkxNTgsIDUuOTI5ODg5Nzc5NTU5MTE4LCA1LjkzMjM4NDc2OTUzOTA3OSwgNS45MzQ4Nzk3NTk1MTkwMzgsIDUuOTM3Mzc0NzQ5NDk4OTk4LCA1LjkzOTg2OTczOTQ3ODk1OCwgNS45NDIzNjQ3Mjk0NTg5MTgsIDUuOTQ0ODU5NzE5NDM4ODc3NSwgNS45NDczNTQ3MDk0MTg4MzcsIDUuOTQ5ODQ5Njk5Mzk4Nzk4LCA1Ljk1MjM0NDY4OTM3ODc1OCwgNS45NTQ4Mzk2NzkzNTg3MTc1LCA1Ljk1NzMzNDY2OTMzODY3NywgNS45NTk4Mjk2NTkzMTg2MzcsIDUuOTYyMzI0NjQ5Mjk4NTk3LCA1Ljk2NDgxOTYzOTI3ODU1NzUsIDUuOTY3MzE0NjI5MjU4NTE3LCA1Ljk2OTgwOTYxOTIzODQ3NywgNS45NzIzMDQ2MDkyMTg0MzcsIDUuOTc0Nzk5NTk5MTk4Mzk3LCA1Ljk3NzI5NDU4OTE3ODM1NiwgNS45Nzk3ODk1NzkxNTgzMTYsIDUuOTgyMjg0NTY5MTM4Mjc3LCA1Ljk4NDc3OTU1OTExODIzNywgNS45ODcyNzQ1NDkwOTgxOTY1LCA1Ljk4OTc2OTUzOTA3ODE1NiwgNS45OTIyNjQ1MjkwNTgxMTYsIDUuOTk0NzU5NTE5MDM4MDc2LCA1Ljk5NzI1NDUwOTAxODAzNjUsIDUuOTk5NzQ5NDk4OTk3OTk2LCA2LjAwMjI0NDQ4ODk3Nzk1NiwgNi4wMDQ3Mzk0Nzg5NTc5MTYsIDYuMDA3MjM0NDY4OTM3ODc2LCA2LjAwOTcyOTQ1ODkxNzgzNSwgNi4wMTIyMjQ0NDg4OTc3OTUsIDYuMDE0NzE5NDM4ODc3NzU2LCA2LjAxNzIxNDQyODg1NzcxNiwgNi4wMTk3MDk0MTg4Mzc2NzUsIDYuMDIyMjA0NDA4ODE3NjM1LCA2LjAyNDY5OTM5ODc5NzU5NSwgNi4wMjcxOTQzODg3Nzc1NTUsIDYuMDI5Njg5Mzc4NzU3NTE1LCA2LjAzMjE4NDM2ODczNzQ3NSwgNi4wMzQ2NzkzNTg3MTc0MzUsIDYuMDM3MTc0MzQ4Njk3Mzk1LCA2LjAzOTY2OTMzODY3NzM1NSwgNi4wNDIxNjQzMjg2NTczMTQsIDYuMDQ0NjU5MzE4NjM3Mjc0LCA2LjA0NzE1NDMwODYxNzIzNSwgNi4wNDk2NDkyOTg1OTcxOTUsIDYuMDUyMTQ0Mjg4NTc3MTU0LCA2LjA1NDYzOTI3ODU1NzExNCwgNi4wNTcxMzQyNjg1MzcwNzQsIDYuMDU5NjI5MjU4NTE3MDM0LCA2LjA2MjEyNDI0ODQ5Njk5NCwgNi4wNjQ2MTkyMzg0NzY5NTQsIDYuMDY3MTE0MjI4NDU2OTE0LCA2LjA2OTYwOTIxODQzNjg3NCwgNi4wNzIxMDQyMDg0MTY4MzM1LCA2LjA3NDU5OTE5ODM5Njc5MywgNi4wNzcwOTQxODgzNzY3NTMsIDYuMDc5NTg5MTc4MzU2NzE0LCA2LjA4MjA4NDE2ODMzNjY3MzUsIDYuMDg0NTc5MTU4MzE2NjMzLCA2LjA4NzA3NDE0ODI5NjU5MywgNi4wODk1NjkxMzgyNzY1NTMsIDYuMDkyMDY0MTI4MjU2NTEzLCA2LjA5NDU1OTExODIzNjQ3MywgNi4wOTcwNTQxMDgyMTY0MzMsIDYuMDk5NTQ5MDk4MTk2MzkzLCA2LjEwMjA0NDA4ODE3NjM1MywgNi4xMDQ1MzkwNzgxNTYzMTI1LCA2LjEwNzAzNDA2ODEzNjI3MiwgNi4xMDk1MjkwNTgxMTYyMzMsIDYuMTEyMDI0MDQ4MDk2MTkzLCA2LjExNDUxOTAzODA3NjE1MjUsIDYuMTE3MDE0MDI4MDU2MTEyLCA2LjExOTUwOTAxODAzNjA3MiwgNi4xMjIwMDQwMDgwMTYwMzIsIDYuMTI0NDk4OTk3OTk1OTkyLCA2LjEyNjk5Mzk4Nzk3NTk1MiwgNi4xMjk0ODg5Nzc5NTU5MTIsIDYuMTMxOTgzOTY3OTM1ODcyLCA2LjEzNDQ3ODk1NzkxNTgzMiwgNi4xMzY5NzM5NDc4OTU3OTEsIDYuMTM5NDY4OTM3ODc1NzUxLCA2LjE0MTk2MzkyNzg1NTcxMSwgNi4xNDQ0NTg5MTc4MzU2NzIsIDYuMTQ2OTUzOTA3ODE1NjMxNCwgNi4xNDk0NDg4OTc3OTU1OTEsIDYuMTUxOTQzODg3Nzc1NTUxLCA2LjE1NDQzODg3Nzc1NTUxMSwgNi4xNTY5MzM4Njc3MzU0NzEsIDYuMTU5NDI4ODU3NzE1NDMxLCA2LjE2MTkyMzg0NzY5NTM5MSwgNi4xNjQ0MTg4Mzc2NzUzNTEsIDYuMTY2OTEzODI3NjU1MzExLCA2LjE2OTQwODgxNzYzNTI3LCA2LjE3MTkwMzgwNzYxNTIzLCA2LjE3NDM5ODc5NzU5NTE5LCA2LjE3Njg5Mzc4NzU3NTE1MSwgNi4xNzkzODg3Nzc1NTUxMSwgNi4xODE4ODM3Njc1MzUwNywgNi4xODQzNzg3NTc1MTUwMywgNi4xODY4NzM3NDc0OTQ5OSwgNi4xODkzNjg3Mzc0NzQ5NDk1LCA2LjE5MTg2MzcyNzQ1NDkxLCA2LjE5NDM1ODcxNzQzNDg3LCA2LjE5Njg1MzcwNzQxNDgzLCA2LjE5OTM0ODY5NzM5NDc4OTYsIDYuMjAxODQzNjg3Mzc0NzQ5LCA2LjIwNDMzODY3NzM1NDcwOSwgNi4yMDY4MzM2NjczMzQ2NjksIDYuMjA5MzI4NjU3MzE0NjMsIDYuMjExODIzNjQ3Mjk0NTg5LCA2LjIxNDMxODYzNzI3NDU0OSwgNi4yMTY4MTM2MjcyNTQ1MDksIDYuMjE5MzA4NjE3MjM0NDY5LCA2LjIyMTgwMzYwNzIxNDQyODUsIDYuMjI0Mjk4NTk3MTk0Mzg5LCA2LjIyNjc5MzU4NzE3NDM0OSwgNi4yMjkyODg1NzcxNTQzMDksIDYuMjMxNzgzNTY3MTM0MjY4NSwgNi4yMzQyNzg1NTcxMTQyMjgsIDYuMjM2NzczNTQ3MDk0MTg4LCA2LjIzOTI2ODUzNzA3NDE0OCwgNi4yNDE3NjM1MjcwNTQxMDg1LCA2LjI0NDI1ODUxNzAzNDA2OCwgNi4yNDY3NTM1MDcwMTQwMjgsIDYuMjQ5MjQ4NDk2OTkzOTg4LCA2LjI1MTc0MzQ4Njk3Mzk0OCwgNi4yNTQyMzg0NzY5NTM5MDcsIDYuMjU2NzMzNDY2OTMzODY4LCA2LjI1OTIyODQ1NjkxMzgyOCwgNi4yNjE3MjM0NDY4OTM3ODgsIDYuMjY0MjE4NDM2ODczNzQ3NSwgNi4yNjY3MTM0MjY4NTM3MDcsIDYuMjY5MjA4NDE2ODMzNjY3LCA2LjI3MTcwMzQwNjgxMzYyNywgNi4yNzQxOTgzOTY3OTM1ODc1LCA2LjI3NjY5MzM4Njc3MzU0NywgNi4yNzkxODgzNzY3NTM1MDcsIDYuMjgxNjgzMzY2NzMzNDY3LCA2LjI4NDE3ODM1NjcxMzQyNywgNi4yODY2NzMzNDY2OTMzODYsIDYuMjg5MTY4MzM2NjczMzQ3LCA2LjI5MTY2MzMyNjY1MzMwNywgNi4yOTQxNTgzMTY2MzMyNjcsIDYuMjk2NjUzMzA2NjEzMjI2LCA2LjI5OTE0ODI5NjU5MzE4NiwgNi4zMDE2NDMyODY1NzMxNDYsIDYuMzA0MTM4Mjc2NTUzMTA3LCA2LjMwNjYzMzI2NjUzMzA2NiwgNi4zMDkxMjgyNTY1MTMwMjYsIDYuMzExNjIzMjQ2NDkyOTg2LCA2LjMxNDExODIzNjQ3Mjk0NiwgNi4zMTY2MTMyMjY0NTI5MDYsIDYuMzE5MTA4MjE2NDMyODY1LCA2LjMyMTYwMzIwNjQxMjgyNiwgNi4zMjQwOTgxOTYzOTI3ODYsIDYuMzI2NTkzMTg2MzcyNzQ2LCA2LjMyOTA4ODE3NjM1MjcwNSwgNi4zMzE1ODMxNjYzMzI2NjUsIDYuMzM0MDc4MTU2MzEyNjI1LCA2LjMzNjU3MzE0NjI5MjU4NiwgNi4zMzkwNjgxMzYyNzI1NDUsIDYuMzQxNTYzMTI2MjUyNTA1LCA2LjM0NDA1ODExNjIzMjQ2NSwgNi4zNDY1NTMxMDYyMTI0MjUsIDYuMzQ5MDQ4MDk2MTkyMzg0NSwgNi4zNTE1NDMwODYxNzIzNDQsIDYuMzU0MDM4MDc2MTUyMzA1LCA2LjM1NjUzMzA2NjEzMjI2NSwgNi4zNTkwMjgwNTYxMTIyMjQ1LCA2LjM2MTUyMzA0NjA5MjE4NCwgNi4zNjQwMTgwMzYwNzIxNDQsIDYuMzY2NTEzMDI2MDUyMTA0LCA2LjM2OTAwODAxNjAzMjA2NSwgNi4zNzE1MDMwMDYwMTIwMjQsIDYuMzczOTk3OTk1OTkxOTg0LCA2LjM3NjQ5Mjk4NTk3MTk0NCwgNi4zNzg5ODc5NzU5NTE5MDQsIDYuMzgxNDgyOTY1OTMxODYzNSwgNi4zODM5Nzc5NTU5MTE4MjQsIDYuMzg2NDcyOTQ1ODkxNzg0LCA2LjM4ODk2NzkzNTg3MTc0NCwgNi4zOTE0NjI5MjU4NTE3MDM1LCA2LjM5Mzk1NzkxNTgzMTY2MywgNi4zOTY0NTI5MDU4MTE2MjMsIDYuMzk4OTQ3ODk1NzkxNTgzLCA2LjQwMTQ0Mjg4NTc3MTU0MzUsIDYuNDAzOTM3ODc1NzUxNTAzLCA2LjQwNjQzMjg2NTczMTQ2MywgNi40MDg5Mjc4NTU3MTE0MjMsIDYuNDExNDIyODQ1NjkxMzgzLCA2LjQxMzkxNzgzNTY3MTM0MiwgNi40MTY0MTI4MjU2NTEzMDMsIDYuNDE4OTA3ODE1NjMxMjYzLCA2LjQyMTQwMjgwNTYxMTIyMywgNi40MjM4OTc3OTU1OTExODI1LCA2LjQyNjM5Mjc4NTU3MTE0MiwgNi40Mjg4ODc3NzU1NTExMDIsIDYuNDMxMzgyNzY1NTMxMDYyLCA2LjQzMzg3Nzc1NTUxMTAyMiwgNi40MzYzNzI3NDU0OTA5ODIsIDYuNDM4ODY3NzM1NDcwOTQyLCA2LjQ0MTM2MjcyNTQ1MDkwMiwgNi40NDM4NTc3MTU0MzA4NjIsIDYuNDQ2MzUyNzA1NDEwODIxLCA2LjQ0ODg0NzY5NTM5MDc4MiwgNi40NTEzNDI2ODUzNzA3NDIsIDYuNDUzODM3Njc1MzUwNzAyLCA2LjQ1NjMzMjY2NTMzMDY2MSwgNi40NTg4Mjc2NTUzMTA2MjEsIDYuNDYxMzIyNjQ1MjkwNTgxLCA2LjQ2MzgxNzYzNTI3MDU0MSwgNi40NjYzMTI2MjUyNTA1MDA1LCA2LjQ2ODgwNzYxNTIzMDQ2MSwgNi40NzEzMDI2MDUyMTA0MjEsIDYuNDczNzk3NTk1MTkwMzgxLCA2LjQ3NjI5MjU4NTE3MDM0MSwgNi40Nzg3ODc1NzUxNTAzLCA2LjQ4MTI4MjU2NTEzMDI2MSwgNi40ODM3Nzc1NTUxMTAyMjEsIDYuNDg2MjcyNTQ1MDkwMTgxLCA2LjQ4ODc2NzUzNTA3MDE0LCA2LjQ5MTI2MjUyNTA1MDEsIDYuNDkzNzU3NTE1MDMwMDYsIDYuNDk2MjUyNTA1MDEwMDIsIDYuNDk4NzQ3NDk0OTg5OTc5NSwgNi41MDEyNDI0ODQ5Njk5NCwgNi41MDM3Mzc0NzQ5NDk5LCA2LjUwNjIzMjQ2NDkyOTg2LCA2LjUwODcyNzQ1NDkwOTgxOTUsIDYuNTExMjIyNDQ0ODg5Nzc5LCA2LjUxMzcxNzQzNDg2OTc0LCA2LjUxNjIxMjQyNDg0OTcsIDYuNTE4NzA3NDE0ODI5NjU5NSwgNi41MjEyMDI0MDQ4MDk2MTksIDYuNTIzNjk3Mzk0Nzg5NTc5LCA2LjUyNjE5MjM4NDc2OTUzOSwgNi41Mjg2ODczNzQ3NDk0OTksIDYuNTMxMTgyMzY0NzI5NDU4NSwgNi41MzM2NzczNTQ3MDk0MTksIDYuNTM2MTcyMzQ0Njg5Mzc5LCA2LjUzODY2NzMzNDY2OTMzOSwgNi41NDExNjIzMjQ2NDkyOTg1LCA2LjU0MzY1NzMxNDYyOTI1OCwgNi41NDYxNTIzMDQ2MDkyMTksIDYuNTQ4NjQ3Mjk0NTg5MTc5LCA2LjU1MTE0MjI4NDU2OTEzODUsIDYuNTUzNjM3Mjc0NTQ5MDk4LCA2LjU1NjEzMjI2NDUyOTA1OCwgNi41NTg2MjcyNTQ1MDkwMTgsIDYuNTYxMTIyMjQ0NDg4OTc4LCA2LjU2MzYxNzIzNDQ2ODkzNywgNi41NjYxMTIyMjQ0NDg4OTgsIDYuNTY4NjA3MjE0NDI4ODU4LCA2LjU3MTEwMjIwNDQwODgxOCwgNi41NzM1OTcxOTQzODg3NzcsIDYuNTc2MDkyMTg0MzY4NzM3LCA2LjU3ODU4NzE3NDM0ODY5OCwgNi41ODEwODIxNjQzMjg2NTgsIDYuNTgzNTc3MTU0MzA4NjE3NSwgNi41ODYwNzIxNDQyODg1NzcsIDYuNTg4NTY3MTM0MjY4NTM3LCA2LjU5MTA2MjEyNDI0ODQ5NywgNi41OTM1NTcxMTQyMjg0NTcsIDYuNTk2MDUyMTA0MjA4NDE2LCA2LjU5ODU0NzA5NDE4ODM3NywgNi42MDEwNDIwODQxNjgzMzcsIDYuNjAzNTM3MDc0MTQ4Mjk3LCA2LjYwNjAzMjA2NDEyODI1NiwgNi42MDg1MjcwNTQxMDgyMTYsIDYuNjExMDIyMDQ0MDg4MTc3LCA2LjYxMzUxNzAzNDA2ODEzNywgNi42MTYwMTIwMjQwNDgwOTYsIDYuNjE4NTA3MDE0MDI4MDU2LCA2LjYyMTAwMjAwNDAwODAxNiwgNi42MjM0OTY5OTM5ODc5NzYsIDYuNjI1OTkxOTgzOTY3OTM1NSwgNi42Mjg0ODY5NzM5NDc4OTUsIDYuNjMwOTgxOTYzOTI3ODU2LCA2LjYzMzQ3Njk1MzkwNzgxNiwgNi42MzU5NzE5NDM4ODc3NzYsIDYuNjM4NDY2OTMzODY3NzM1LCA2LjY0MDk2MTkyMzg0NzY5NSwgNi42NDM0NTY5MTM4Mjc2NTYsIDYuNjQ1OTUxOTAzODA3NjE2LCA2LjY0ODQ0Njg5Mzc4NzU3NSwgNi42NTA5NDE4ODM3Njc1MzUsIDYuNjUzNDM2ODczNzQ3NDk1LCA2LjY1NTkzMTg2MzcyNzQ1NSwgNi42NTg0MjY4NTM3MDc0MTQ1LCA2LjY2MDkyMTg0MzY4NzM3NCwgNi42NjM0MTY4MzM2NjczMzUsIDYuNjY1OTExODIzNjQ3Mjk1LCA2LjY2ODQwNjgxMzYyNzI1NDUsIDYuNjcwOTAxODAzNjA3MjE0LCA2LjY3MzM5Njc5MzU4NzE3NCwgNi42NzU4OTE3ODM1NjcxMzUsIDYuNjc4Mzg2NzczNTQ3MDk0NSwgNi42ODA4ODE3NjM1MjcwNTQsIDYuNjgzMzc2NzUzNTA3MDE0LCA2LjY4NTg3MTc0MzQ4Njk3NCwgNi42ODgzNjY3MzM0NjY5MzQsIDYuNjkwODYxNzIzNDQ2ODkzNCwgNi42OTMzNTY3MTM0MjY4NTQsIDYuNjk1ODUxNzAzNDA2ODE0LCA2LjY5ODM0NjY5MzM4Njc3NCwgNi43MDA4NDE2ODMzNjY3MzM1LCA2LjcwMzMzNjY3MzM0NjY5MywgNi43MDU4MzE2NjMzMjY2NTMsIDYuNzA4MzI2NjUzMzA2NjE0LCA2LjcxMDgyMTY0MzI4NjU3MzUsIDYuNzEzMzE2NjMzMjY2NTMzLCA2LjcxNTgxMTYyMzI0NjQ5MywgNi43MTgzMDY2MTMyMjY0NTMsIDYuNzIwODAxNjAzMjA2NDEzLCA2LjcyMzI5NjU5MzE4NjM3MiwgNi43MjU3OTE1ODMxNjYzMzMsIDYuNzI4Mjg2NTczMTQ2MjkzLCA2LjczMDc4MTU2MzEyNjI1MywgNi43MzMyNzY1NTMxMDYyMTIsIDYuNzM1NzcxNTQzMDg2MTcyLCA2LjczODI2NjUzMzA2NjEzMiwgNi43NDA3NjE1MjMwNDYwOTMsIDYuNzQzMjU2NTEzMDI2MDUyNCwgNi43NDU3NTE1MDMwMDYwMTIsIDYuNzQ4MjQ2NDkyOTg1OTcyLCA2Ljc1MDc0MTQ4Mjk2NTkzMiwgNi43NTMyMzY0NzI5NDU4OTIsIDYuNzU1NzMxNDYyOTI1ODUxLCA2Ljc1ODIyNjQ1MjkwNTgxMiwgNi43NjA3MjE0NDI4ODU3NzIsIDYuNzYzMjE2NDMyODY1NzMyLCA2Ljc2NTcxMTQyMjg0NTY5MSwgNi43NjgyMDY0MTI4MjU2NTEsIDYuNzcwNzAxNDAyODA1NjExLCA2Ljc3MzE5NjM5Mjc4NTU3MiwgNi43NzU2OTEzODI3NjU1MzEsIDYuNzc4MTg2MzcyNzQ1NDkxLCA2Ljc4MDY4MTM2MjcyNTQ1MSwgNi43ODMxNzYzNTI3MDU0MTEsIDYuNzg1NjcxMzQyNjg1MzcwNSwgNi43ODgxNjYzMzI2NjUzMywgNi43OTA2NjEzMjI2NDUyOTEsIDYuNzkzMTU2MzEyNjI1MjUxLCA2Ljc5NTY1MTMwMjYwNTIxMDYsIDYuNzk4MTQ2MjkyNTg1MTcsIDYuODAwNjQxMjgyNTY1MTMsIDYuODAzMTM2MjcyNTQ1MDksIDYuODA1NjMxMjYyNTI1MDUxLCA2LjgwODEyNjI1MjUwNTAxLCA2LjgxMDYyMTI0MjQ4NDk3LCA2LjgxMzExNjIzMjQ2NDkzLCA2LjgxNTYxMTIyMjQ0NDg5LCA2LjgxODEwNjIxMjQyNDg0OTUsIDYuODIwNjAxMjAyNDA0ODA5LCA2LjgyMzA5NjE5MjM4NDc3LCA2LjgyNTU5MTE4MjM2NDczLCA2LjgyODA4NjE3MjM0NDY4OTUsIDYuODMwNTgxMTYyMzI0NjQ5LCA2LjgzMzA3NjE1MjMwNDYwOSwgNi44MzU1NzExNDIyODQ1NjksIDYuODM4MDY2MTMyMjY0NTI5NSwgNi44NDA1NjExMjIyNDQ0ODksIDYuODQzMDU2MTEyMjI0NDQ5LCA2Ljg0NTU1MTEwMjIwNDQwOSwgNi44NDgwNDYwOTIxODQzNjksIDYuODUwNTQxMDgyMTY0MzI4LCA2Ljg1MzAzNjA3MjE0NDI4OCwgNi44NTU1MzEwNjIxMjQyNDksIDYuODU4MDI2MDUyMTA0MjA5LCA2Ljg2MDUyMTA0MjA4NDE2ODUsIDYuODYzMDE2MDMyMDY0MTI4LCA2Ljg2NTUxMTAyMjA0NDA4OCwgNi44NjgwMDYwMTIwMjQwNDgsIDYuODcwNTAxMDAyMDA0MDA4NSwgNi44NzI5OTU5OTE5ODM5NjgsIDYuODc1NDkwOTgxOTYzOTI4LCA2Ljg3Nzk4NTk3MTk0Mzg4OCwgNi44ODA0ODA5NjE5MjM4NDgsIDYuODgyOTc1OTUxOTAzODA3LCA2Ljg4NTQ3MDk0MTg4Mzc2NywgNi44ODc5NjU5MzE4NjM3MjcsIDYuODkwNDYwOTIxODQzNjg4LCA2Ljg5Mjk1NTkxMTgyMzY0NywgNi44OTU0NTA5MDE4MDM2MDcsIDYuODk3OTQ1ODkxNzgzNTY3LCA2LjkwMDQ0MDg4MTc2MzUyOCwgNi45MDI5MzU4NzE3NDM0ODcsIDYuOTA1NDMwODYxNzIzNDQ3LCA2LjkwNzkyNTg1MTcwMzQwNywgNi45MTA0MjA4NDE2ODMzNjcsIDYuOTEyOTE1ODMxNjYzMzI3LCA2LjkxNTQxMDgyMTY0MzI4NiwgNi45MTc5MDU4MTE2MjMyNDYsIDYuOTIwNDAwODAxNjAzMjA3LCA2LjkyMjg5NTc5MTU4MzE2NywgNi45MjUzOTA3ODE1NjMxMjYsIDYuOTI3ODg1NzcxNTQzMDg2LCA2LjkzMDM4MDc2MTUyMzA0NiwgNi45MzI4NzU3NTE1MDMwMDYsIDYuOTM1MzcwNzQxNDgyOTY2LCA2LjkzNzg2NTczMTQ2MjkyNiwgNi45NDAzNjA3MjE0NDI4ODYsIDYuOTQyODU1NzExNDIyODQ2LCA2Ljk0NTM1MDcwMTQwMjgwNTUsIDYuOTQ3ODQ1NjkxMzgyNzY1LCA2Ljk1MDM0MDY4MTM2MjcyNSwgNi45NTI4MzU2NzEzNDI2ODYsIDYuOTU1MzMwNjYxMzIyNjQ1NSwgNi45NTc4MjU2NTEzMDI2MDUsIDYuOTYwMzIwNjQxMjgyNTY1LCA2Ljk2MjgxNTYzMTI2MjUyNSwgNi45NjUzMTA2MjEyNDI0ODYsIDYuOTY3ODA1NjExMjIyNDQ1LCA2Ljk3MDMwMDYwMTIwMjQwNSwgNi45NzI3OTU1OTExODIzNjUsIDYuOTc1MjkwNTgxMTYyMzI1LCA2Ljk3Nzc4NTU3MTE0MjI4NDUsIDYuOTgwMjgwNTYxMTIyMjQ0LCA2Ljk4Mjc3NTU1MTEwMjIwNCwgNi45ODUyNzA1NDEwODIxNjUsIDYuOTg3NzY1NTMxMDYyMTI0NSwgNi45OTAyNjA1MjEwNDIwODQsIDYuOTkyNzU1NTExMDIyMDQ0LCA2Ljk5NTI1MDUwMTAwMjAwNCwgNi45OTc3NDU0OTA5ODE5NjQsIDcuMDAwMjQwNDgwOTYxOTI0LCA3LjAwMjczNTQ3MDk0MTg4NCwgNy4wMDUyMzA0NjA5MjE4NDQsIDcuMDA3NzI1NDUwOTAxODA0LCA3LjAxMDIyMDQ0MDg4MTc2MywgNy4wMTI3MTU0MzA4NjE3MjMsIDcuMDE1MjEwNDIwODQxNjgzLCA3LjAxNzcwNTQxMDgyMTY0NCwgNy4wMjAyMDA0MDA4MDE2MDM1LCA3LjAyMjY5NTM5MDc4MTU2MywgNy4wMjUxOTAzODA3NjE1MjMsIDcuMDI3Njg1MzcwNzQxNDgzLCA3LjAzMDE4MDM2MDcyMTQ0MzUsIDcuMDMyNjc1MzUwNzAxNDAzLCA3LjAzNTE3MDM0MDY4MTM2MywgNy4wMzc2NjUzMzA2NjEzMjMsIDcuMDQwMTYwMzIwNjQxMjgzLCA3LjA0MjY1NTMxMDYyMTI0MiwgNy4wNDUxNTAzMDA2MDEyMDIsIDcuMDQ3NjQ1MjkwNTgxMTYyLCA3LjA1MDE0MDI4MDU2MTEyMywgNy4wNTI2MzUyNzA1NDEwODIsIDcuMDU1MTMwMjYwNTIxMDQyLCA3LjA1NzYyNTI1MDUwMTAwMiwgNy4wNjAxMjAyNDA0ODA5NjIsIDcuMDYyNjE1MjMwNDYwOTIxNSwgNy4wNjUxMTAyMjA0NDA4ODIsIDcuMDY3NjA1MjEwNDIwODQyLCA3LjA3MDEwMDIwMDQwMDgwMiwgNy4wNzI1OTUxOTAzODA3NjIsIDcuMDc1MDkwMTgwMzYwNzIxLCA3LjA3NzU4NTE3MDM0MDY4MSwgNy4wODAwODAxNjAzMjA2NDEsIDcuMDgyNTc1MTUwMzAwNjAyLCA3LjA4NTA3MDE0MDI4MDU2MSwgNy4wODc1NjUxMzAyNjA1MjEsIDcuMDkwMDYwMTIwMjQwNDgxLCA3LjA5MjU1NTExMDIyMDQ0MSwgNy4wOTUwNTAxMDAyMDA0MDEsIDcuMDk3NTQ1MDkwMTgwMzYxLCA3LjEwMDA0MDA4MDE2MDMyMSwgNy4xMDI1MzUwNzAxNDAyODEsIDcuMTA1MDMwMDYwMTIwMjQwNSwgNy4xMDc1MjUwNTAxMDAyLCA3LjExMDAyMDA0MDA4MDE2LCA3LjExMjUxNTAzMDA2MDEyMSwgNy4xMTUwMTAwMjAwNDAwODA1LCA3LjExNzUwNTAxMDAyMDA0LCA3LjEyXSkKICAgICAgICAgICAgICAucmFuZ2UoWycjMmM3ZmI4ZmYnLCAnIzJjN2ZiOGZmJywgJyMyYzdmYjhmZicsICcjMmQ4MGI4ZmYnLCAnIzJkODBiOGZmJywgJyMyZTgwYjhmZicsICcjMmU4MGI4ZmYnLCAnIzJlODFiOGZmJywgJyMyZjgxYjhmZicsICcjMmY4MWI4ZmYnLCAnIzMwODFiOGZmJywgJyMzMDgyYjhmZicsICcjMzA4MmI4ZmYnLCAnIzMxODJiOGZmJywgJyMzMTgyYjhmZicsICcjMzE4M2I4ZmYnLCAnIzMyODNiOGZmJywgJyMzMjgzYjhmZicsICcjMzM4M2I4ZmYnLCAnIzMzODRiOGZmJywgJyMzMzg0YjhmZicsICcjMzQ4NGI4ZmYnLCAnIzM0ODRiOGZmJywgJyMzNTg1YjhmZicsICcjMzU4NWI4ZmYnLCAnIzM1ODViOGZmJywgJyMzNjg1YjhmZicsICcjMzY4NmI4ZmYnLCAnIzM3ODZiOGZmJywgJyMzNzg2YjhmZicsICcjMzc4NmI4ZmYnLCAnIzM4ODdiOGZmJywgJyMzODg3YjhmZicsICcjMzg4N2I4ZmYnLCAnIzM5ODdiOGZmJywgJyMzOTg4YjhmZicsICcjM2E4OGI4ZmYnLCAnIzNhODhiOGZmJywgJyMzYTg4YjhmZicsICcjM2I4OGI4ZmYnLCAnIzNiODliOGZmJywgJyMzYzg5YjhmZicsICcjM2M4OWI4ZmYnLCAnIzNjODliOGZmJywgJyMzZDhhYjhmZicsICcjM2Q4YWI4ZmYnLCAnIzNlOGFiOGZmJywgJyMzZThhYjhmZicsICcjM2U4YmI4ZmYnLCAnIzNmOGJiOGZmJywgJyMzZjhiYjhmZicsICcjM2Y4YmI4ZmYnLCAnIzQwOGNiN2ZmJywgJyM0MDhjYjdmZicsICcjNDE4Y2I3ZmYnLCAnIzQxOGNiN2ZmJywgJyM0MThkYjdmZicsICcjNDI4ZGI3ZmYnLCAnIzQyOGRiN2ZmJywgJyM0MzhkYjdmZicsICcjNDM4ZWI3ZmYnLCAnIzQzOGViN2ZmJywgJyM0NDhlYjdmZicsICcjNDQ4ZWI3ZmYnLCAnIzQ1OGZiN2ZmJywgJyM0NThmYjdmZicsICcjNDU4ZmI3ZmYnLCAnIzQ2OGZiN2ZmJywgJyM0NjkwYjdmZicsICcjNDY5MGI3ZmYnLCAnIzQ3OTBiN2ZmJywgJyM0NzkwYjdmZicsICcjNDg5MWI3ZmYnLCAnIzQ4OTFiN2ZmJywgJyM0ODkxYjdmZicsICcjNDk5MWI3ZmYnLCAnIzQ5OTFiN2ZmJywgJyM0YTkyYjdmZicsICcjNGE5MmI3ZmYnLCAnIzRhOTJiN2ZmJywgJyM0YjkyYjdmZicsICcjNGI5M2I3ZmYnLCAnIzRjOTNiN2ZmJywgJyM0YzkzYjdmZicsICcjNGM5M2I3ZmYnLCAnIzRkOTRiN2ZmJywgJyM0ZDk0YjdmZicsICcjNGQ5NGI3ZmYnLCAnIzRlOTRiN2ZmJywgJyM0ZTk1YjdmZicsICcjNGY5NWI3ZmYnLCAnIzRmOTViN2ZmJywgJyM0Zjk1YjdmZicsICcjNTA5NmI3ZmYnLCAnIzUwOTZiN2ZmJywgJyM1MTk2YjdmZicsICcjNTE5NmI3ZmYnLCAnIzUxOTdiN2ZmJywgJyM1Mjk3YjdmZicsICcjNTI5N2I3ZmYnLCAnIzUzOTdiN2ZmJywgJyM1Mzk4YjdmZicsICcjNTM5OGI3ZmYnLCAnIzU0OThiN2ZmJywgJyM1NDk4YjdmZicsICcjNTQ5OWI3ZmYnLCAnIzU1OTliN2ZmJywgJyM1NTk5YjdmZicsICcjNTY5OWI3ZmYnLCAnIzU2OWFiN2ZmJywgJyM1NjlhYjdmZicsICcjNTc5YWI3ZmYnLCAnIzU3OWFiN2ZmJywgJyM1ODliYjdmZicsICcjNTg5YmI3ZmYnLCAnIzU4OWJiN2ZmJywgJyM1OTliYjdmZicsICcjNTk5YmI3ZmYnLCAnIzU5OWNiN2ZmJywgJyM1YTljYjdmZicsICcjNWE5Y2I3ZmYnLCAnIzViOWNiN2ZmJywgJyM1YjlkYjdmZicsICcjNWI5ZGI2ZmYnLCAnIzVjOWRiNmZmJywgJyM1YzlkYjZmZicsICcjNWQ5ZWI2ZmYnLCAnIzVkOWViNmZmJywgJyM1ZDllYjZmZicsICcjNWU5ZWI2ZmYnLCAnIzVlOWZiNmZmJywgJyM1ZjlmYjZmZicsICcjNWY5ZmI2ZmYnLCAnIzVmOWZiNmZmJywgJyM2MGEwYjZmZicsICcjNjBhMGI2ZmYnLCAnIzYwYTBiNmZmJywgJyM2MWEwYjZmZicsICcjNjFhMWI2ZmYnLCAnIzYyYTFiNmZmJywgJyM2MmExYjZmZicsICcjNjJhMWI2ZmYnLCAnIzYzYTJiNmZmJywgJyM2M2EyYjZmZicsICcjNjRhMmI2ZmYnLCAnIzY0YTJiNmZmJywgJyM2NGEzYjZmZicsICcjNjVhM2I2ZmYnLCAnIzY1YTNiNmZmJywgJyM2NmEzYjZmZicsICcjNjZhNGI2ZmYnLCAnIzY2YTRiNmZmJywgJyM2N2E0YjZmZicsICcjNjdhNGI2ZmYnLCAnIzY3YTRiNmZmJywgJyM2OGE1YjZmZicsICcjNjhhNWI2ZmYnLCAnIzY5YTViNmZmJywgJyM2OWE1YjZmZicsICcjNjlhNmI2ZmYnLCAnIzZhYTZiNmZmJywgJyM2YWE2YjZmZicsICcjNmJhNmI2ZmYnLCAnIzZiYTdiNmZmJywgJyM2YmE3YjZmZicsICcjNmNhN2I2ZmYnLCAnIzZjYTdiNmZmJywgJyM2ZGE4YjZmZicsICcjNmRhOGI2ZmYnLCAnIzZkYThiNmZmJywgJyM2ZWE4YjZmZicsICcjNmVhOWI2ZmYnLCAnIzZlYTliNmZmJywgJyM2ZmE5YjZmZicsICcjNmZhOWI2ZmYnLCAnIzcwYWFiNmZmJywgJyM3MGFhYjZmZicsICcjNzBhYWI2ZmYnLCAnIzcxYWFiNmZmJywgJyM3MWFiYjZmZicsICcjNzJhYmI2ZmYnLCAnIzcyYWJiNmZmJywgJyM3MmFiYjZmZicsICcjNzNhY2I2ZmYnLCAnIzczYWNiNmZmJywgJyM3NGFjYjZmZicsICcjNzRhY2I2ZmYnLCAnIzc0YWRiNmZmJywgJyM3NWFkYjZmZicsICcjNzVhZGI2ZmYnLCAnIzc1YWRiNmZmJywgJyM3NmFkYjZmZicsICcjNzZhZWI2ZmYnLCAnIzc3YWViNmZmJywgJyM3N2FlYjVmZicsICcjNzdhZWI1ZmYnLCAnIzc4YWZiNWZmJywgJyM3OGFmYjVmZicsICcjNzlhZmI1ZmYnLCAnIzc5YWZiNWZmJywgJyM3OWIwYjVmZicsICcjN2FiMGI1ZmYnLCAnIzdhYjBiNWZmJywgJyM3YWIwYjVmZicsICcjN2JiMWI1ZmYnLCAnIzdiYjFiNWZmJywgJyM3Y2IxYjVmZicsICcjN2NiMWI1ZmYnLCAnIzdjYjJiNWZmJywgJyM3ZGIyYjVmZicsICcjN2RiMmI1ZmYnLCAnIzdlYjJiNWZmJywgJyM3ZWIzYjVmZicsICcjN2ViM2I1ZmYnLCAnIzdmYjNiNWZmJywgJyM3ZmIzYjVmZicsICcjODBiNGI1ZmYnLCAnIzgwYjRiNWZmJywgJyM4MGI0YjVmZicsICcjODFiNGI1ZmYnLCAnIzgxYjViNWZmJywgJyM4MWI1YjVmZicsICcjODJiNWI1ZmYnLCAnIzgyYjViNWZmJywgJyM4M2I2YjVmZicsICcjODNiNmI1ZmYnLCAnIzgzYjZiNWZmJywgJyM4NGI2YjVmZicsICcjODRiN2I1ZmYnLCAnIzg1YjdiNWZmJywgJyM4NWI3YjVmZicsICcjODViN2I1ZmYnLCAnIzg2YjdiNWZmJywgJyM4NmI4YjVmZicsICcjODdiOGI1ZmYnLCAnIzg3YjhiNWZmJywgJyM4N2I4YjVmZicsICcjODhiOWI1ZmYnLCAnIzg4YjliNWZmJywgJyM4OGI5YjVmZicsICcjODliOWI1ZmYnLCAnIzg5YmFiNWZmJywgJyM4YWJhYjVmZicsICcjOGFiYWI1ZmYnLCAnIzhhYmFiNWZmJywgJyM4YmJiYjVmZicsICcjOGJiYmI1ZmYnLCAnIzhjYmJiNWZmJywgJyM4Y2JiYjVmZicsICcjOGNiY2I1ZmYnLCAnIzhkYmNiNWZmJywgJyM4ZGJjYjVmZicsICcjOGViY2I1ZmYnLCAnIzhlYmRiNWZmJywgJyM4ZWJkYjVmZicsICcjOGZiZGI1ZmYnLCAnIzhmYmRiNWZmJywgJyM4ZmJlYjVmZicsICcjOTBiZWI1ZmYnLCAnIzkwYmViNWZmJywgJyM5MWJlYjVmZicsICcjOTFiZmI1ZmYnLCAnIzkxYmZiNWZmJywgJyM5MmJmYjVmZicsICcjOTJiZmI1ZmYnLCAnIzkzYzBiNGZmJywgJyM5M2MwYjRmZicsICcjOTNjMGI0ZmYnLCAnIzk0YzBiNGZmJywgJyM5NGMwYjRmZicsICcjOTVjMWI0ZmYnLCAnIzk1YzFiNGZmJywgJyM5NWMxYjRmZicsICcjOTZjMWI0ZmYnLCAnIzk2YzJiNGZmJywgJyM5NmMyYjRmZicsICcjOTdjMmI0ZmYnLCAnIzk3YzJiNGZmJywgJyM5OGMzYjRmZicsICcjOThjM2I0ZmYnLCAnIzk4YzNiNGZmJywgJyM5OWMzYjRmZicsICcjOTljNGI0ZmYnLCAnIzlhYzRiNGZmJywgJyM5YWM0YjRmZicsICcjOWFjNGI0ZmYnLCAnIzliYzViNGZmJywgJyM5YmM1YjRmZicsICcjOWNjNWI0ZmYnLCAnIzljYzViNGZmJywgJyM5Y2M2YjRmZicsICcjOWRjNmI0ZmYnLCAnIzlkYzZiNGZmJywgJyM5ZGM2YjRmZicsICcjOWVjN2I0ZmYnLCAnIzllYzdiNGZmJywgJyM5ZmM3YjRmZicsICcjOWZjN2I0ZmYnLCAnIzlmYzhiNGZmJywgJyNhMGM4YjRmZicsICcjYTBjOGI0ZmYnLCAnI2ExYzhiNGZmJywgJyNhMWM5YjRmZicsICcjYTFjOWI0ZmYnLCAnI2EyYzliNGZmJywgJyNhMmM5YjRmZicsICcjYTJjOWI0ZmYnLCAnI2EzY2FiNGZmJywgJyNhM2NhYjRmZicsICcjYTRjYWI0ZmYnLCAnI2E0Y2FiNGZmJywgJyNhNGNiYjRmZicsICcjYTVjYmI0ZmYnLCAnI2E1Y2JiNGZmJywgJyNhNmNiYjRmZicsICcjYTZjY2I0ZmYnLCAnI2E2Y2NiNGZmJywgJyNhN2NjYjRmZicsICcjYTdjY2I0ZmYnLCAnI2E4Y2RiNGZmJywgJyNhOGNkYjRmZicsICcjYThjZGI0ZmYnLCAnI2E5Y2RiNGZmJywgJyNhOWNlYjRmZicsICcjYTljZWI0ZmYnLCAnI2FhY2ViNGZmJywgJyNhYWNlYjRmZicsICcjYWJjZmI0ZmYnLCAnI2FiY2ZiNGZmJywgJyNhYmNmYjRmZicsICcjYWNjZmI0ZmYnLCAnI2FjZDBiNGZmJywgJyNhZGQwYjRmZicsICcjYWRkMGI0ZmYnLCAnI2FkZDBiNGZmJywgJyNhZWQxYjRmZicsICcjYWVkMWIzZmYnLCAnI2FmZDFiM2ZmJywgJyNhZmQxYjNmZicsICcjYWZkMmIzZmYnLCAnI2IwZDJiM2ZmJywgJyNiMGQyYjNmZicsICcjYjBkMmIzZmYnLCAnI2IxZDJiM2ZmJywgJyNiMWQzYjNmZicsICcjYjJkM2IzZmYnLCAnI2IyZDNiM2ZmJywgJyNiMmQzYjNmZicsICcjYjNkNGIzZmYnLCAnI2IzZDRiM2ZmJywgJyNiNGQ0YjNmZicsICcjYjRkNGIzZmYnLCAnI2I0ZDViM2ZmJywgJyNiNWQ1YjNmZicsICcjYjVkNWIzZmYnLCAnI2I2ZDViM2ZmJywgJyNiNmQ2YjNmZicsICcjYjZkNmIzZmYnLCAnI2I3ZDZiM2ZmJywgJyNiN2Q2YjNmZicsICcjYjdkN2IzZmYnLCAnI2I4ZDdiM2ZmJywgJyNiOGQ3YjNmZicsICcjYjlkN2IzZmYnLCAnI2I5ZDhiM2ZmJywgJyNiOWQ4YjNmZicsICcjYmFkOGIzZmYnLCAnI2JhZDhiM2ZmJywgJyNiYmQ5YjNmZicsICcjYmJkOWIzZmYnLCAnI2JiZDliM2ZmJywgJyNiY2Q5YjNmZicsICcjYmNkYWIzZmYnLCAnI2JkZGFiM2ZmJywgJyNiZGRhYjNmZicsICcjYmRkYWIzZmYnLCAnI2JlZGJiM2ZmJywgJyNiZWRiYjNmZicsICcjYmVkYmIzZmYnLCAnI2JmZGJiM2ZmJywgJyNiZmRjYjNmZicsICcjYzBkY2IzZmYnLCAnI2MwZGNiM2ZmJywgJyNjMGRjYjNmZicsICcjYzFkY2IzZmYnLCAnI2MxZGRiM2ZmJywgJyNjMmRkYjNmZicsICcjYzJkZGIzZmYnLCAnI2MyZGRiM2ZmJywgJyNjM2RlYjNmZicsICcjYzNkZWIzZmYnLCAnI2MzZGViM2ZmJywgJyNjNGRlYjNmZicsICcjYzRkZmIzZmYnLCAnI2M1ZGZiM2ZmJywgJyNjNWRmYjNmZicsICcjYzVkZmIzZmYnLCAnI2M2ZTBiM2ZmJywgJyNjNmUwYjNmZicsICcjYzdlMGIzZmYnLCAnI2M3ZTBiM2ZmJywgJyNjN2UxYjNmZicsICcjYzhlMWIzZmYnLCAnI2M4ZTFiM2ZmJywgJyNjOWUxYjNmZicsICcjYzllMmIzZmYnLCAnI2M5ZTJiM2ZmJywgJyNjYWUyYjJmZicsICcjY2FlMmIyZmYnLCAnI2NhZTNiMmZmJywgJyNjYmUzYjJmZicsICcjY2JlM2IyZmYnLCAnI2NjZTNiMmZmJywgJyNjY2U0YjJmZicsICcjY2NlNGIyZmYnLCAnI2NkZTRiMmZmJywgJyNjZGU0YjJmZicsICcjY2VlNWIyZmYnLCAnI2NlZTViMmZmJywgJyNjZWU1YjJmZicsICcjY2ZlNWIyZmYnLCAnI2NmZTViMmZmJywgJyNkMGU2YjJmZicsICcjZDBlNmIyZmYnLCAnI2QwZTZiMmZmJywgJyNkMWU2YjJmZicsICcjZDFlN2IyZmYnLCAnI2QxZTdiMmZmJywgJyNkMmU3YjJmZicsICcjZDJlN2IyZmYnLCAnI2QzZThiMmZmJywgJyNkM2U4YjJmZicsICcjZDNlOGIyZmYnLCAnI2Q0ZThiMmZmJywgJyNkNGU5YjJmZicsICcjZDVlOWIyZmYnLCAnI2Q1ZTliMmZmJywgJyNkNWU5YjJmZicsICcjZDZlYWIyZmYnLCAnI2Q2ZWFiMmZmJywgJyNkN2VhYjJmZicsICcjZDdlYWIyZmYnLCAnI2Q3ZWJiMmZmJywgJyNkOGViYjJmZicsICcjZDhlYmIyZmYnLCAnI2Q4ZWJiMmZmJywgJyNkOWVjYjJmZicsICcjZDllY2IyZmYnLCAnI2RhZWNiMmZmJywgJyNkYWVjYjJmZicsICcjZGFlZGIyZmYnLCAnI2RiZWRiMmZmJywgJyNkYmVkYjJmZicsICcjZGNlZGIyZmYnLCAnI2RjZWViMmZmJywgJyNkY2VlYjJmZicsICcjZGRlZWIyZmYnLCAnI2RkZWViMmZmJywgJyNkZWVlYjJmZicsICcjZGVlZmIyZmYnLCAnI2RlZWZiMmZmJywgJyNkZmVmYjJmZicsICcjZGZlZmIyZmYnLCAnI2RmZjBiMmZmJywgJyNlMGYwYjJmZicsICcjZTBmMGIyZmYnLCAnI2UxZjBiMmZmJywgJyNlMWYxYjJmZicsICcjZTFmMWIyZmYnLCAnI2UyZjFiMmZmJywgJyNlMmYxYjJmZicsICcjZTNmMmIyZmYnLCAnI2UzZjJiMmZmJywgJyNlM2YyYjJmZicsICcjZTRmMmIyZmYnLCAnI2U0ZjNiMmZmJywgJyNlNGYzYjJmZicsICcjZTVmM2IyZmYnLCAnI2U1ZjNiMWZmJywgJyNlNmY0YjFmZicsICcjZTZmNGIxZmYnLCAnI2U2ZjRiMWZmJywgJyNlN2Y0YjFmZicsICcjZTdmNWIxZmYnLCAnI2U4ZjViMWZmJywgJyNlOGY1YjFmZicsICcjZThmNWIxZmYnLCAnI2U5ZjZiMWZmJywgJyNlOWY2YjFmZicsICcjZWFmNmIxZmYnLCAnI2VhZjZiMWZmJywgJyNlYWY3YjFmZicsICcjZWJmN2IxZmYnLCAnI2ViZjdiMWZmJywgJyNlYmY3YjFmZicsICcjZWNmN2IxZmYnLCAnI2VjZjhiMWZmJywgJyNlZGY4YjFmZicsICcjZWRmOGIxZmYnLCAnI2VkZjhiMWZmJ10pOwogICAgCgogICAgY29sb3JfbWFwXzg5NWE2MzM2OWRhNDQyODliZDBiODM2OTZmZjlhOGMwLnggPSBkMy5zY2FsZS5saW5lYXIoKQogICAgICAgICAgICAgIC5kb21haW4oWzUuODc1LCA3LjEyXSkKICAgICAgICAgICAgICAucmFuZ2UoWzAsIDQwMF0pOwoKICAgIGNvbG9yX21hcF84OTVhNjMzNjlkYTQ0Mjg5YmQwYjgzNjk2ZmY5YThjMC5sZWdlbmQgPSBMLmNvbnRyb2woe3Bvc2l0aW9uOiAndG9wcmlnaHQnfSk7CiAgICBjb2xvcl9tYXBfODk1YTYzMzY5ZGE0NDI4OWJkMGI4MzY5NmZmOWE4YzAubGVnZW5kLm9uQWRkID0gZnVuY3Rpb24gKG1hcCkge3ZhciBkaXYgPSBMLkRvbVV0aWwuY3JlYXRlKCdkaXYnLCAnbGVnZW5kJyk7IHJldHVybiBkaXZ9OwogICAgY29sb3JfbWFwXzg5NWE2MzM2OWRhNDQyODliZDBiODM2OTZmZjlhOGMwLmxlZ2VuZC5hZGRUbyhtYXBfZDY0NTYwODczMTdjNDRhOTg1MTZlNjBjOWQxMjBiNDMpOwoKICAgIGNvbG9yX21hcF84OTVhNjMzNjlkYTQ0Mjg5YmQwYjgzNjk2ZmY5YThjMC54QXhpcyA9IGQzLnN2Zy5heGlzKCkKICAgICAgICAuc2NhbGUoY29sb3JfbWFwXzg5NWE2MzM2OWRhNDQyODliZDBiODM2OTZmZjlhOGMwLngpCiAgICAgICAgLm9yaWVudCgidG9wIikKICAgICAgICAudGlja1NpemUoMSkKICAgICAgICAudGlja1ZhbHVlcyhbNS44NzUsIDcuMTJdKTsKCiAgICBjb2xvcl9tYXBfODk1YTYzMzY5ZGE0NDI4OWJkMGI4MzY5NmZmOWE4YzAuc3ZnID0gZDMuc2VsZWN0KCIubGVnZW5kLmxlYWZsZXQtY29udHJvbCIpLmFwcGVuZCgic3ZnIikKICAgICAgICAuYXR0cigiaWQiLCAnbGVnZW5kJykKICAgICAgICAuYXR0cigid2lkdGgiLCA0NTApCiAgICAgICAgLmF0dHIoImhlaWdodCIsIDQwKTsKCiAgICBjb2xvcl9tYXBfODk1YTYzMzY5ZGE0NDI4OWJkMGI4MzY5NmZmOWE4YzAuZyA9IGNvbG9yX21hcF84OTVhNjMzNjlkYTQ0Mjg5YmQwYjgzNjk2ZmY5YThjMC5zdmcuYXBwZW5kKCJnIikKICAgICAgICAuYXR0cigiY2xhc3MiLCAia2V5IikKICAgICAgICAuYXR0cigidHJhbnNmb3JtIiwgInRyYW5zbGF0ZSgyNSwxNikiKTsKCiAgICBjb2xvcl9tYXBfODk1YTYzMzY5ZGE0NDI4OWJkMGI4MzY5NmZmOWE4YzAuZy5zZWxlY3RBbGwoInJlY3QiKQogICAgICAgIC5kYXRhKGNvbG9yX21hcF84OTVhNjMzNjlkYTQ0Mjg5YmQwYjgzNjk2ZmY5YThjMC5jb2xvci5yYW5nZSgpLm1hcChmdW5jdGlvbihkLCBpKSB7CiAgICAgICAgICByZXR1cm4gewogICAgICAgICAgICB4MDogaSA/IGNvbG9yX21hcF84OTVhNjMzNjlkYTQ0Mjg5YmQwYjgzNjk2ZmY5YThjMC54KGNvbG9yX21hcF84OTVhNjMzNjlkYTQ0Mjg5YmQwYjgzNjk2ZmY5YThjMC5jb2xvci5kb21haW4oKVtpIC0gMV0pIDogY29sb3JfbWFwXzg5NWE2MzM2OWRhNDQyODliZDBiODM2OTZmZjlhOGMwLngucmFuZ2UoKVswXSwKICAgICAgICAgICAgeDE6IGkgPCBjb2xvcl9tYXBfODk1YTYzMzY5ZGE0NDI4OWJkMGI4MzY5NmZmOWE4YzAuY29sb3IuZG9tYWluKCkubGVuZ3RoID8gY29sb3JfbWFwXzg5NWE2MzM2OWRhNDQyODliZDBiODM2OTZmZjlhOGMwLngoY29sb3JfbWFwXzg5NWE2MzM2OWRhNDQyODliZDBiODM2OTZmZjlhOGMwLmNvbG9yLmRvbWFpbigpW2ldKSA6IGNvbG9yX21hcF84OTVhNjMzNjlkYTQ0Mjg5YmQwYjgzNjk2ZmY5YThjMC54LnJhbmdlKClbMV0sCiAgICAgICAgICAgIHo6IGQKICAgICAgICAgIH07CiAgICAgICAgfSkpCiAgICAgIC5lbnRlcigpLmFwcGVuZCgicmVjdCIpCiAgICAgICAgLmF0dHIoImhlaWdodCIsIDEwKQogICAgICAgIC5hdHRyKCJ4IiwgZnVuY3Rpb24oZCkgeyByZXR1cm4gZC54MDsgfSkKICAgICAgICAuYXR0cigid2lkdGgiLCBmdW5jdGlvbihkKSB7IHJldHVybiBkLngxIC0gZC54MDsgfSkKICAgICAgICAuc3R5bGUoImZpbGwiLCBmdW5jdGlvbihkKSB7IHJldHVybiBkLno7IH0pOwoKICAgIGNvbG9yX21hcF84OTVhNjMzNjlkYTQ0Mjg5YmQwYjgzNjk2ZmY5YThjMC5nLmNhbGwoY29sb3JfbWFwXzg5NWE2MzM2OWRhNDQyODliZDBiODM2OTZmZjlhOGMwLnhBeGlzKS5hcHBlbmQoInRleHQiKQogICAgICAgIC5hdHRyKCJjbGFzcyIsICJjYXB0aW9uIikKICAgICAgICAuYXR0cigieSIsIDIxKQogICAgICAgIC50ZXh0KCdTYWZldHkgLyBSZXNwZWN0IFNjb3JlLCBzdHVkZW50cyByZXNwb25zZScpOwo8L3NjcmlwdD4= onload=\"this.contentDocument.open();this.contentDocument.write(atob(this.getAttribute('data-html')));this.contentDocument.close();\" allowfullscreen webkitallowfullscreen mozallowfullscreen></iframe></div></div>"
      ],
      "text/plain": [
       "<folium.folium.Map at 0x23cf29776c8>"
      ]
     },
     "execution_count": 10,
     "metadata": {},
     "output_type": "execute_result"
    }
   ],
   "source": [
    "# code for map\n",
    "import folium\n",
    "import branca.colormap as cm\n",
    "\n",
    "# set a simple baselayer and zoom-in on NY\n",
    "school_map = folium.Map(location=[40.693943, -73.985880], \n",
    "                        #width=500,\n",
    "                        #height=800,\n",
    "                        zoom_start=10,\n",
    "                        tiles='CartoDB positron')\n",
    "\n",
    "# generate a title above the map\n",
    "# from https://github.com/python-visualization/folium/issues/1202\n",
    "map_title = \"NY highschools: avg. safety / respect score and avg. enrollment by school district\"\n",
    "title_html = '''\n",
    "             <h3 align=\"center\" style=\"font-size:20px\"><b>{}</b></h3>\n",
    "             '''.format(map_title)\n",
    "school_map.get_root().html.add_child(folium.Element(title_html))\n",
    "\n",
    "# select column names of the viz parameters\n",
    "size_parameter = \"total_enrollment\"\n",
    "color_parameter = \"saf_s_11\"\n",
    "\n",
    "# generate a colormap to shade the cirles on the map\n",
    "# from https://stackoverflow.com/questions/56876620/unsure-how-to-use-colormap-with-folium-marker-plot\n",
    "start_col_val = by_district[color_parameter].min()\n",
    "end_col_val = by_district[color_parameter].max()\n",
    "start_col_hex = \"#2c7fb8\" # used https://colorbrewer2.org/ \n",
    "end_col_hex = \"#edf8b1\"\n",
    "colormap = cm.LinearColormap(colors=[start_col_hex,\n",
    "                                     #\"white\",\n",
    "                                     end_col_hex],\n",
    "                             vmin=start_col_val,\n",
    "                             vmax=end_col_val\n",
    "                            )\n",
    "colormap.caption = \"Safety / Respect Score, students response\"\n",
    "\n",
    "# create a circle for each school district\n",
    "for index, row in by_district.iterrows():\n",
    "    folium.Circle(location=[row[\"lat\"],row[\"lon\"]],\n",
    "                  color=colormap(row[color_parameter]),\n",
    "                  fill_color=colormap(row[color_parameter]),\n",
    "                  fill_opacity=0.75,\n",
    "                  radius=row[size_parameter],\n",
    "                  weight=2,\n",
    "                  tooltip=\"District \"+row[\"school_dist\"]+\n",
    "                      \" <br> Avg. Safety / Respect Score, students response (color): {:.1f}\".format(row[color_parameter])+\n",
    "                      \" <br> Avg. enrollment per school (size): {:.0f}\".format(row[size_parameter])\n",
    "                 ).add_to(school_map)\n",
    "\n",
    "# add a legend\n",
    "school_map.add_child(colormap)\n",
    "    \n",
    "# display the map\n",
    "school_map"
    https://i.imgur.com/yU5xQKi.png
   ]
  },
  {
   "cell_type": "markdown",
   "metadata": {},
   "source": [
    "Above method discribes in yellow the schools with a high `saf_s_11`, and schools with a low `saf_s_11` are blue. \n",
    "\n",
    "We can see, that the schools with high safety scores are mainly from Manhattan, north-west Queens and parts from south Brooklyn, schools with low safety scores are from north Brooklyn, parts of Bronx and east Queens."
   ]
  },
  {
   "cell_type": "code",
   "execution_count": 11,
   "metadata": {},
   "outputs": [
    {
     "data": {
      "text/html": [
       "<div style=\"width:100%;\"><div style=\"position:relative;width:100%;height:0;padding-bottom:60%;\"><iframe src=\"about:blank\" style=\"position:absolute;width:100%;height:100%;left:0;top:0;border:none !important;\" data-html=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 onload=\"this.contentDocument.open();this.contentDocument.write(atob(this.getAttribute('data-html')));this.contentDocument.close();\" allowfullscreen webkitallowfullscreen mozallowfullscreen></iframe></div></div>"
      ],
      "text/plain": [
       "<folium.folium.Map at 0x23cee8b16c8>"
      ]
     },
     "execution_count": 11,
     "metadata": {},
     "output_type": "execute_result"
    }
   ],
   "source": [
    "low_sat_dist=by_district[by_district[\"sat_score\"]<1200]\n",
    "# code for map\n",
    "import folium\n",
    "import branca.colormap as cm\n",
    "\n",
    "# set a simple baselayer and zoom-in on NY\n",
    "school_map = folium.Map(location=[40.693943, -73.985880], \n",
    "                        #width=500,\n",
    "                        #height=800,\n",
    "                        zoom_start=10,\n",
    "                        tiles='CartoDB positron')\n",
    "\n",
    "# generate a title above the map\n",
    "# from https://github.com/python-visualization/folium/issues/1202\n",
    "map_title = \"NY highschools: avg. safety / respect score for schools with low SAT scores by district\"\n",
    "title_html = '''\n",
    "             <h3 align=\"center\" style=\"font-size:20px\"><b>{}</b></h3>\n",
    "             '''.format(map_title)\n",
    "school_map.get_root().html.add_child(folium.Element(title_html))\n",
    "\n",
    "# select column names of the viz parameters\n",
    "size_parameter = \"total_enrollment\"\n",
    "color_parameter = \"saf_s_11\"\n",
    "\n",
    "# generate a colormap to shade the cirles on the map\n",
    "# from https://stackoverflow.com/questions/56876620/unsure-how-to-use-colormap-with-folium-marker-plot\n",
    "start_col_val = low_sat_dist[color_parameter].min()\n",
    "end_col_val = low_sat_dist[color_parameter].max()\n",
    "start_col_hex = \"#2c7fb8\" # used https://colorbrewer2.org/ \n",
    "end_col_hex = \"#edf8b1\"\n",
    "colormap = cm.LinearColormap(colors=[start_col_hex,\n",
    "                                     #\"white\",\n",
    "                                     end_col_hex],\n",
    "                             vmin=start_col_val,\n",
    "                             vmax=end_col_val\n",
    "                            )\n",
    "colormap.caption = \"Safety / Respect Score, students response\"\n",
    "\n",
    "# create a circle for each school district\n",
    "for index, row in low_sat_dist.iterrows():\n",
    "    folium.Circle(location=[row[\"lat\"],row[\"lon\"]],\n",
    "                  color=colormap(row[color_parameter]),\n",
    "                  fill_color=colormap(row[color_parameter]),\n",
    "                  fill_opacity=0.75,\n",
    "                  radius=row[size_parameter],\n",
    "                  weight=2,\n",
    "                  tooltip=\"District \"+row[\"school_dist\"]+\n",
    "                      \" <br> Avg. Safety / Respect Score, students response (color): {:.1f}\".format(row[color_parameter])+\n",
    "                      \" <br> Avg. enrollment per school (size): {:.0f}\".format(row[size_parameter])\n",
    "                 ).add_to(school_map)\n",
    "\n",
    "# add a legend\n",
    "school_map.add_child(colormap)\n",
    "    \n",
    "# display the map\n",
    "school_map"
   ]
  },
  {
   "cell_type": "markdown",
   "metadata": {},
   "source": [
    "Above there are all schools with low SAT scores (under 1200), accordingly low safety scores are in north Brooklyn, but Bronx district is  diversified where near the schools with safe enveroment are schools with missing safety."
   ]
  },
  {
   "cell_type": "code",
   "execution_count": 12,
   "metadata": {},
   "outputs": [
    {
     "data": {
      "text/html": [
       "<div style=\"width:100%;\"><div style=\"position:relative;width:100%;height:0;padding-bottom:60%;\"><iframe src=\"about:blank\" style=\"position:absolute;width:100%;height:100%;left:0;top:0;border:none !important;\" data-html=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 onload=\"this.contentDocument.open();this.contentDocument.write(atob(this.getAttribute('data-html')));this.contentDocument.close();\" allowfullscreen webkitallowfullscreen mozallowfullscreen></iframe></div></div>"
      ],
      "text/plain": [
       "<folium.folium.Map at 0x23cee8f6d48>"
      ]
     },
     "execution_count": 12,
     "metadata": {},
     "output_type": "execute_result"
    }
   ],
   "source": [
    "high_sat_dist=by_district[by_district[\"sat_score\"]>1300]\n",
    "# code for map\n",
    "import folium\n",
    "import branca.colormap as cm\n",
    "\n",
    "# set a simple baselayer and zoom-in on NY\n",
    "school_map = folium.Map(location=[40.693943, -73.985880], \n",
    "                        #width=500,\n",
    "                        #height=800,\n",
    "                        zoom_start=10,\n",
    "                        tiles='CartoDB positron')\n",
    "\n",
    "# generate a title above the map\n",
    "# from https://github.com/python-visualization/folium/issues/1202\n",
    "map_title = \"NY highschools: avg. safety / respect score for schools with high SAT scores by district\"\n",
    "title_html = '''\n",
    "             <h3 align=\"center\" style=\"font-size:20px\"><b>{}</b></h3>\n",
    "             '''.format(map_title)\n",
    "school_map.get_root().html.add_child(folium.Element(title_html))\n",
    "\n",
    "# select column names of the viz parameters\n",
    "size_parameter = \"total_enrollment\"\n",
    "color_parameter = \"saf_s_11\"\n",
    "\n",
    "# generate a colormap to shade the cirles on the map\n",
    "# from https://stackoverflow.com/questions/56876620/unsure-how-to-use-colormap-with-folium-marker-plot\n",
    "start_col_val = high_sat_dist[color_parameter].min()\n",
    "end_col_val = high_sat_dist[color_parameter].max()\n",
    "start_col_hex = \"#2c7fb8\" # used https://colorbrewer2.org/ \n",
    "end_col_hex = \"#edf8b1\"\n",
    "colormap = cm.LinearColormap(colors=[start_col_hex,\n",
    "                                     #\"white\",\n",
    "                                     end_col_hex],\n",
    "                             vmin=start_col_val,\n",
    "                             vmax=end_col_val\n",
    "                            )\n",
    "colormap.caption = \"Safety / Respect Score, students response\"\n",
    "\n",
    "# create a circle for each school district\n",
    "for index, row in high_sat_dist.iterrows():\n",
    "    folium.Circle(location=[row[\"lat\"],row[\"lon\"]],\n",
    "                  color=colormap(row[color_parameter]),\n",
    "                  fill_color=colormap(row[color_parameter]),\n",
    "                  fill_opacity=0.75,\n",
    "                  radius=row[size_parameter],\n",
    "                  weight=2,\n",
    "                  tooltip=\"District \"+row[\"school_dist\"]+\n",
    "                      \" <br> Avg. Safety / Respect Score, students response (color): {:.1f}\".format(row[color_parameter])+\n",
    "                      \" <br> Avg. enrollment per school (size): {:.0f}\".format(row[size_parameter])\n",
    "                 ).add_to(school_map)\n",
    "\n",
    "# add a legend\n",
    "school_map.add_child(colormap)\n",
    "    \n",
    "# display the map\n",
    "school_map"
   ]
  },
  {
   "cell_type": "markdown",
   "metadata": {},
   "source": [
    "Here there is a plotting for schools with high SAT scores (above 1300) and it appears that majority schools with high SAT and high safety scores are from north Queens and from south Brooklyn."
   ]
  },
  {
   "cell_type": "markdown",
   "metadata": {},
   "source": [
    "# Race: Hispanics and blacks disadvantaged"
   ]
  },
  {
   "cell_type": "code",
   "execution_count": 13,
   "metadata": {},
   "outputs": [
    {
     "data": {
      "image/png": "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\n",
      "text/plain": [
       "<Figure size 576x576 with 1 Axes>"
      ]
     },
     "metadata": {
      "needs_background": "light"
     },
     "output_type": "display_data"
    }
   ],
   "source": [
    "race_corr = correlations.loc[['white_per', 'asian_per', 'black_per', 'hispanic_per']]['sat_score'].sort_values()\n",
    "ax=race_corr.plot(kind='bar', figsize=(8, 8), title=\"Correlation of race to SAT-scores\")\n",
    "ax.spines['right'].set_visible(False)\n",
    "ax.spines['top'].set_visible(False)\n",
    "for p in ax.patches: # set data point labels\n",
    "    ax.annotate(str(round(p.get_height(), 2)),\n",
    "                (p.get_x() + 0.2, max(p.get_height(), 0)+0.02),\n",
    "                rotation=90\n",
    "                )\n",
    "ax.axhline(y=0.0, color='black', linestyle='-', linewidth=1)\n",
    "plt.show()"
   ]
  },
  {
   "cell_type": "markdown",
   "metadata": {},
   "source": [
    "We can notice certain correlation between SAT scores and race percentage, the higher there is percent of white and asian students in the school, the higher SAT score the school has and opposite for black and hispanic races, the lower is percentage for them the higher the SAT score is."
   ]
  },
  {
   "cell_type": "code",
   "execution_count": 14,
   "metadata": {},
   "outputs": [
    {
     "data": {
      "application/vnd.plotly.v1+json": {
       "config": {
        "linkText": "Export to plot.ly",
        "plotlyServerURL": "https://plot.ly",
        "showLink": true
       },
       "data": [
        {
         "marker": {
          "color": "rgba(255, 153, 51, 1.0)",
          "line": {
           "width": 1.3
          },
          "opacity": 0.8,
          "size": 12,
          "symbol": "circle"
         },
         "mode": "markers",
         "name": "Manhattan",
         "text": [
          "HENRY STREET SCHOOL FOR INTERNATIONAL STUDIES",
          "UNIVERSITY NEIGHBORHOOD HIGH SCHOOL",
          "EAST SIDE COMMUNITY SCHOOL",
          "MARTA VALLE HIGH SCHOOL",
          "NEW EXPLORATIONS INTO SCIENCE, TECHNOLOGY AND MATH HIGH SCHOOL",
          "BARD HIGH SCHOOL EARLY COLLEGE",
          "47 THE AMERICAN SIGN LANGUAGE AND ENGLISH SECONDARY SCHOOL",
          "FOOD AND FINANCE HIGH SCHOOL",
          "ESSEX STREET ACADEMY",
          "HIGH SCHOOL OF HOSPITALITY MANAGEMENT",
          "PACE HIGH SCHOOL",
          "URBAN ASSEMBLY SCHOOL OF DESIGN AND CONSTRUCTION, THE",
          "FACING HISTORY SCHOOL, THE",
          "URBAN ASSEMBLY ACADEMY OF GOVERNMENT AND LAW, THE",
          "LOWER MANHATTAN ARTS ACADEMY",
          "URBAN ASSEMBLY SCHOOL OF BUSINESS FOR YOUNG WOMEN, THE",
          "GRAMERCY ARTS HIGH SCHOOL",
          "NYC ISCHOOL",
          "MANHATTAN BUSINESS ACADEMY",
          "BUSINESS OF SPORTS SCHOOL",
          "THE HIGH SCHOOL FOR LANGUAGE AND DIPLOMACY",
          "HIGH SCHOOL FOR ENVIRONMENTAL STUDIES",
          "PROFESSIONAL PERFORMING ARTS HIGH SCHOOL",
          "BARUCH COLLEGE CAMPUS HIGH SCHOOL",
          "N.Y.C. LAB SCHOOL FOR COLLABORATIVE STUDIES",
          "N.Y.C. MUSEUM SCHOOL",
          "ELEANOR ROOSEVELT HIGH SCHOOL",
          "MILLENNIUM HIGH SCHOOL",
          "LANDMARK HIGH SCHOOL",
          "HIGH SCHOOL FOR HEALTH PROFESSIONS AND HUMAN SERVICES",
          "LEADERSHIP AND PUBLIC SERVICE HIGH SCHOOL",
          "MANHATTAN ACADEMY FOR ARTS & LANGUAGE",
          "HUDSON HIGH SCHOOL OF LEARNING TECHNOLOGIES",
          "INTERNATIONAL HIGH SCHOOL AT UNION SQUARE",
          "MANHATTAN VILLAGE ACADEMY",
          "VANGUARD HIGH SCHOOL",
          "MANHATTAN INTERNATIONAL HIGH SCHOOL",
          "STUYVESANT HIGH SCHOOL",
          "HIGH SCHOOL OF ECONOMICS AND FINANCE",
          "UNITY CENTER FOR URBAN TECHNOLOGIES",
          "TALENT UNLIMITED HIGH SCHOOL",
          "MURRY BERGTRAUM HIGH SCHOOL FOR BUSINESS CAREERS",
          "JACQUELINE KENNEDY ONASSIS HIGH SCHOOL",
          "REPERTORY COMPANY HIGH SCHOOL FOR THEATRE ARTS",
          "MANHATTAN BRIDGES HIGH SCHOOL",
          "NEW DESIGN HIGH SCHOOL",
          "HIGH SCHOOL FOR DUAL LANGUAGE AND ASIAN STUDIES",
          "THE URBAN ASSEMBLY NEW YORK HARBOR SCHOOL",
          "RICHARD R. GREEN HIGH SCHOOL OF TEACHING",
          "THE HIGH SCHOOL OF FASHION INDUSTRIES",
          "HUMANITIES PREPARATORY ACADEMY",
          "CHELSEA CAREER AND TECHNICAL EDUCATION HIGH SCHOOL",
          "ART AND DESIGN HIGH SCHOOL",
          "LIFE SCIENCES SECONDARY SCHOOL",
          "HIGH SCHOOL FOR ARTS, IMAGINATION AND INQUIRY",
          "URBAN ASSEMBLY SCHOOL FOR MEDIA STUDIES, THE",
          "THE URBAN ASSEMBLY SCHOOL FOR GREEN CAREERS",
          "THE GLOBAL LEARNING COLLABORATIVE",
          "WADLEIGH SECONDARY SCHOOL FOR THE PERFORMING & VISUAL ARTS",
          "FRANK MCCOURT HIGH SCHOOL",
          "BEACON HIGH SCHOOL",
          "FIORELLO H. LAGUARDIA HIGH SCHOOL OF MUSIC & ART AND PERFORMING ARTS",
          "HIGH SCHOOL FOR LAW, ADVOCACY AND COMMUNITY JUSTICE",
          "HIGH SCHOOL OF ARTS AND TECHNOLOGY",
          "MANHATTAN / HUNTER SCIENCE HIGH SCHOOL",
          "FREDERICK DOUGLASS ACADEMY II SECONDARY SCHOOL",
          "COALITION SCHOOL FOR SOCIAL CHANGE",
          "MANHATTAN CENTER FOR SCIENCE AND MATHEMATICS",
          "PARK EAST HIGH SCHOOL",
          "CENTRAL PARK EAST HIGH SCHOOL",
          "YOUNG WOMEN'S LEADERSHIP SCHOOL",
          "YOUNG WOMEN'S LEADERSHIP SCHOOL",
          "HERITAGE SCHOOL, THE",
          "MOTT HALL HIGH SCHOOL",
          "COLUMBIA SECONDARY SCHOOL FOR MATH, SCIENCE, AND ENGINEERING",
          "ACADEMY FOR SOCIAL ACTION: A COLLEGE BOARD SCHOOL",
          "URBAN ASSEMBLY SCHOOL FOR THE PERFORMING ARTS",
          "FREDERICK DOUGLASS ACADEMY",
          "THURGOOD MARSHALL ACADEMY FOR LEARNING AND SOCIAL CHANGE",
          "HIGH SCHOOL FOR MATHEMATICS, SCIENCE AND ENGINEERING AT CITY COLLEGE",
          "CITY COLLEGE ACADEMY OF THE ARTS",
          "COMMUNITY HEALTH ACADEMY OF THE HEIGHTS",
          "WASHINGTON HEIGHTS EXPEDITIONARY LEARNING SCHOOL",
          "HIGH SCHOOL FOR EXCELLENCE AND INNOVATION",
          "HIGH SCHOOL FOR INTERNATIONAL BUSINESS AND FINANCE",
          "HIGH SCHOOL FOR MEDIA AND COMMUNICATIONS",
          "HIGH SCHOOL FOR LAW AND PUBLIC SERVICE",
          "HIGH SCHOOL FOR HEALTH CAREERS AND SCIENCES",
          "A. PHILIP RANDOLPH CAMPUS HIGH SCHOOL",
          "GREGORIO LUPERON HIGH SCHOOL FOR SCIENCE AND MATHEMATICS"
         ],
         "textfont": {
          "color": "#4D5663"
         },
         "type": "scatter",
         "x": [
          53.8,
          45.9,
          55.4,
          56.9,
          14.2,
          18.2,
          59.2,
          47.6,
          60.6,
          66.1,
          42,
          59.2,
          73.2,
          50.6,
          55.7,
          48.4,
          45.1,
          43,
          58.7,
          57.2,
          32.8,
          57.2,
          23.7,
          14.6,
          14,
          39.9,
          11.6,
          21.7,
          74.8,
          49.7,
          54.2,
          84.6,
          62.4,
          43.2,
          71.8,
          59,
          36.9,
          2.4,
          43.5,
          55.3,
          39.3,
          46.6,
          69.9,
          42.4,
          99.8,
          62.2,
          4,
          49.3,
          59.3,
          52.3,
          57.8,
          60.5,
          51,
          64.3,
          58.9,
          56,
          76,
          62.6,
          38.8,
          37,
          22.8,
          16.6,
          48.1,
          57.2,
          41.5,
          18.9,
          58.7,
          57.4,
          59.6,
          64.5,
          60.1,
          60.1,
          69.4,
          63.8,
          48.5,
          38.1,
          38.2,
          22.8,
          20.9,
          21.2,
          92,
          93.8,
          96.7,
          72.5,
          91.4,
          87.1,
          84.4,
          83.8,
          62.3,
          99.8
         ],
         "y": [
          1122,
          1172,
          1149,
          1207,
          1621,
          1856,
          1182,
          1194,
          1156,
          1111,
          1293,
          1269,
          1051,
          1148,
          1200,
          1127,
          1176,
          1435,
          1223.4388059701494,
          1223.4388059701494,
          1223.4388059701494,
          1419,
          1522,
          1577,
          1677,
          1419,
          1758,
          1614,
          1170,
          1306,
          1233,
          1223.4388059701494,
          1223.4388059701494,
          1223.4388059701494,
          1372,
          1199,
          1227,
          2096,
          1374,
          1070,
          1416,
          1240,
          1239,
          1253,
          1058,
          1168,
          1424,
          1212,
          1195,
          1257,
          1255,
          1207,
          1315,
          1236,
          1132,
          1144,
          1223.4388059701494,
          1223.4388059701494,
          1109,
          1223.4388059701494,
          1744,
          1707,
          1196,
          1277,
          1446,
          1096,
          1084,
          1430,
          1128,
          1221,
          1326,
          1326,
          1054,
          1210,
          1223.4388059701494,
          1062,
          1077,
          1374,
          1202,
          1847,
          1270,
          1105,
          1174,
          1223.4388059701494,
          1127,
          1098,
          1102,
          1224,
          1309,
          1014
         ]
        },
        {
         "marker": {
          "color": "rgba(55, 128, 191, 1.0)",
          "line": {
           "width": 1.3
          },
          "opacity": 0.8,
          "size": 12,
          "symbol": "circle"
         },
         "mode": "markers",
         "name": "Bronx",
         "text": [
          "SOUTH BRONX PREPARATORY: A COLLEGE BOARD SCHOOL",
          "INTERNATIONAL COMMUNITY HIGH SCHOOL",
          "COMMUNITY SCHOOL FOR SOCIAL JUSTICE",
          "MOTT HAVEN VILLAGE PREPARATORY HIGH SCHOOL",
          "UNIVERSITY HEIGHTS SECONDARY SCHOOL",
          "HOSTOSsLINCOLN ACADEMY OF SCIENCE",
          "FOREIGN LANGUAGE ACADEMY OF GLOBAL STUDIES",
          "BRONX LEADERSHIP ACADEMY II HIGH SCHOOL",
          "NEW EXPLORERS HIGH SCHOOL",
          "URBAN ASSEMBLY SCHOOL FOR CAREERS IN SPORTS",
          "BRONX ACADEMY OF LETTERS",
          "ALFRED E. SMITH CAREER AND TECHNICAL EDUCATION HIGH SCHOOL",
          "HEALTH OPPORTUNITIES HIGH SCHOOL",
          "BRONX STUDIO SCHOOL FOR WRITERS AND ARTISTS",
          "WOMEN'S ACADEMY OF EXCELLENCE",
          "RENAISSANCE HIGH SCHOOL FOR MUSICAL THEATER & TECHNOLOGY",
          "PABLO NERUDA ACADEMY FOR ARCHITECTURE AND WORLD STUDIES",
          "MILLENNIUM ART ACADEMY",
          "HOLCOMBE L. RUCKER SCHOOL OF COMMUNITY RESEARCH",
          "ANTONIA PANTOJA PREPARATORY ACADEMY, A COLLEGE BOARD SCHOOL",
          "HERBERT H. LEHMAN HIGH SCHOOL",
          "BRONX BRIDGES HIGH SCHOOL",
          "FELISA RINCON DE GAUTIER INSTITUTE FOR LAW AND PUBLIC POLICY, THE",
          "BANANA KELLY HIGH SCHOOL",
          "BRONX EXPEDITIONARY LEARNING HIGH SCHOOL",
          "EAGLE ACADEMY FOR YOUNG MEN",
          "URBAN ASSEMBLY SCHOOL FOR APPLIED MATH AND SCIENCE, THE",
          "EXIMIUS COLLEGE PREPARATORY ACADEMY: A COLLEGE BOARD SCHOOL",
          "MOTT HALL BRONX HIGH SCHOOL",
          "BRONX CENTER FOR SCIENCE AND MATHEMATICS",
          "VALIDUS PREPARATORY ACADEMY: AN EXPEDITIONARY LEARNING SCHOOL",
          "LEADERSHIP INSTITUTE",
          "MORRIS ACADEMY FOR COLLABORATIVE STUDIES",
          "BRONX EARLY COLLEGE ACADEMY FOR TEACHING & LEARNING",
          "DREAMYARD PREPARATORY SCHOOL",
          "ACADEMY FOR LANGUAGE AND TECHNOLOGY",
          "BRONX INTERNATIONAL HIGH SCHOOL",
          "SCHOOL FOR EXCELLENCE",
          "BRONX HIGH SCHOOL OF BUSINESS",
          "BRONX HIGH SCHOOL FOR MEDICAL SCIENCE",
          "BRONX SCHOOL FOR LAW, GOVERNMENT AND JUSTICE",
          "FREDERICK DOUGLASS ACADEMY III SECONDARY SCHOOL",
          "BRONX LEADERSHIP ACADEMY HIGH SCHOOL",
          "HIGH SCHOOL FOR VIOLIN AND DANCE",
          "RIVERDALE / KINGSBRIDGE ACADEMY (MIDDLE SCHOOL / HIGH SCHOOL 141)",
          "BRONX ENGINEERING AND TECHNOLOGY ACADEMY",
          "THEATRE ARTS PRODUCTION COMPANY SCHOOL",
          "THE MARIE CURIE SCHOOL FOR MEDICINE, NURSING, AND HEALTH PROFESSIONS",
          "WEST BRONX ACADEMY FOR THE FUTURE",
          "KINGSBRIDGE INTERNATIONAL HIGH SCHOOL",
          "BRONX SCHOOL OF LAW AND FINANCE",
          "INTERNATIONAL SCHOOL FOR LIBERAL ARTS",
          "INsTECH ACADEMY (M.S. / HIGH SCHOOL 368)",
          "KNOWLEDGE AND POWER PREPARATORY ACADEMY INTERNATIONAL HIGH SCHOOL (KAPPA)",
          "HIGH SCHOOL FOR TEACHING AND THE PROFESSIONS",
          "BELMONT PREPARATORY HIGH SCHOOL",
          "FORDHAM HIGH SCHOOL FOR THE ARTS",
          "FORDHAM LEADERSHIP ACADEMY FOR BUSINESS AND TECHNOLOGY",
          "BRONX HIGH SCHOOL FOR LAW AND COMMUNITY SERVICE",
          "DEWITT CLINTON HIGH SCHOOL",
          "CELIA CRUZ BRONX HIGH SCHOOL OF MUSIC, THE",
          "BRONX HIGH SCHOOL OF SCIENCE",
          "MARBLE HILL HIGH SCHOOL FOR INTERNATIONAL STUDIES",
          "BRONX THEATRE HIGH SCHOOL",
          "DISCOVERY HIGH SCHOOL",
          "HIGH SCHOOL OF AMERICAN STUDIES AT LEHMAN COLLEGE",
          "BRONX HEALTH SCIENCES HIGH SCHOOL",
          "BRONX HIGH SCHOOL FOR WRITING AND COMMUNICATION ARTS",
          "BRONX LAB SCHOOL",
          "ACADEMY FOR SCHOLARSHIP AND ENTREPRENEURSHIP: A COLLEGE BOARD SCHOOL",
          "HIGH SCHOOL OF COMPUTERS AND TECHNOLOGY",
          "COLLEGIATE INSTITUTE FOR MATH AND SCIENCE",
          "BRONX ACADEMY OF HEALTH CAREERS",
          "ASTOR COLLEGIATE ACADEMY",
          "BRONX HIGH SCHOOL FOR THE VISUAL ARTS",
          "HARRY S TRUMAN HIGH SCHOOL",
          "NEW WORLD HIGH SCHOOL",
          "THE BRONXWOOD PREPARATORY ACADEMY",
          "PELHAM PREPARATORY ACADEMY",
          "HIGH SCHOOL FOR CONTEMPORARY ARTS",
          "BRONX AEROSPACE HIGH SCHOOL",
          "METROPOLITAN HIGH SCHOOL, THE",
          "EXPLORATIONS ACADEMY",
          "BRONX LATIN",
          "EAST BRONX ACADEMY FOR THE FUTURE",
          "PEACE AND DIVERSITY ACADEMY",
          "PAN AMERICAN INTERNATIONAL HIGH SCHOOL AT MONROE",
          "THE CINEMA SCHOOL",
          "BRONX CAREER AND COLLEGE PREPARATORY HIGH SCHOOL",
          "HIGH SCHOOL OF WORLD CULTURES",
          "FANNIE LOU HAMER FREEDOM HIGH SCHOOL",
          "WINGS ACADEMY",
          "MONROE ACADEMY FOR VISUAL ARTS & DESIGN"
         ],
         "textfont": {
          "color": "#4D5663"
         },
         "type": "scatter",
         "x": [
          68.8,
          71.8,
          65.5,
          76,
          78.1,
          72.7,
          68.8,
          56,
          68.1,
          70.4,
          64.3,
          61.5,
          56.9,
          74.8,
          46.4,
          63.8,
          69.9,
          64.3,
          56.8,
          66,
          60.6,
          83.2,
          76,
          65.4,
          69.3,
          33.8,
          63.4,
          58.1,
          73.7,
          68.7,
          63.8,
          63.5,
          73.1,
          64.5,
          69.9,
          99.4,
          72.2,
          64.5,
          59.9,
          57.8,
          66.2,
          41.4,
          57,
          62.5,
          53,
          64.2,
          69.7,
          57.4,
          69.5,
          84.7,
          65.2,
          99.8,
          81.9,
          59.9,
          70.4,
          65.6,
          61.5,
          67.8,
          64.6,
          59.6,
          69.5,
          7.2,
          57.9,
          69,
          75.6,
          18,
          36.3,
          47.6,
          57.3,
          32,
          59.5,
          46.8,
          41.2,
          46,
          62.3,
          43.8,
          70.4,
          37.3,
          49.7,
          59.9,
          72.6,
          72.9,
          65.5,
          73.2,
          68.3,
          53.7,
          99.8,
          65,
          59.8,
          84.6,
          68.8,
          42.2,
          77.5
         ],
         "y": [
          1090,
          945,
          1077,
          1097,
          1201,
          1257,
          1186,
          1103,
          1084,
          1181,
          1201,
          1158,
          1095,
          1223.4388059701494,
          1171,
          1158,
          1038,
          1164,
          1084,
          1223.4388059701494,
          1241,
          1223.4388059701494,
          1099,
          1131,
          1049,
          1134,
          1290,
          1169,
          1092,
          1396,
          1075,
          1081,
          1148,
          1223.4388059701494,
          1138,
          951,
          965,
          1074,
          1083,
          1221,
          1224,
          1121,
          1166,
          1039,
          1333,
          1150,
          1190,
          1157,
          1158,
          962,
          1182,
          934,
          1181,
          1180,
          1106,
          1222,
          1077,
          1119,
          1082,
          1255,
          1270,
          1969,
          1263,
          1064,
          1115,
          1920,
          1133,
          1147,
          1135,
          1141,
          1111,
          1348,
          1135,
          1169,
          1268,
          1151,
          1048,
          1112,
          1288,
          1126,
          1163,
          1055,
          1122,
          1251,
          1102,
          1155,
          970,
          1223.4388059701494,
          1223.4388059701494,
          939,
          1029,
          1114,
          1038
         ]
        },
        {
         "marker": {
          "color": "rgba(50, 171, 96, 1.0)",
          "line": {
           "width": 1.3
          },
          "opacity": 0.8,
          "size": 12,
          "symbol": "circle"
         },
         "mode": "markers",
         "name": "Brooklyn",
         "text": [
          "DR. SUSAN S. MCKINNEY SECONDARY SCHOOL OF THE ARTS",
          "URBAN ASSEMBLY HIGH SCHOOL OF MUSIC AND ART",
          "BROOKLYN COMMUNITY HIGH SCHOOL OF COMMUNICATION, ARTS AND MEDIA",
          "SCIENCE SKILLS CENTER HIGH SCHOOL FOR SCIENCE, TECHNOLOGY AND THE CREATIVE ARTS",
          "BROOKLYN TECHNICAL HIGH SCHOOL",
          "BROOKLYN INTERNATIONAL HIGH SCHOOL",
          "THE URBAN ASSEMBLY SCHOOL FOR LAW AND JUSTICE",
          "ACORN COMMUNITY HIGH SCHOOL",
          "URBAN ASSEMBLY INSTITUTE OF MATH AND SCIENCE FOR YOUNG WOMEN",
          "BEDFORD ACADEMY HIGH SCHOOL",
          "GEORGE WESTINGHOUSE CAREER AND TECHNICAL EDUCATION HIGH SCHOOL",
          "BENJAMIN BANNEKER ACADEMY",
          "CITY POLYTECHNIC HIGH SCHOOL OF ENGINEERING, ARCHITECTURE, AND TECHNOLOGY",
          "JUAN MOREL CAMPOS SECONDARY SCHOOL",
          "FOUNDATIONS ACADEMY",
          "BROOKLYN LATIN SCHOOL, THE",
          "GREEN SCHOOL: AN ACADEMY FOR ENVIRONMENTAL CAREERS",
          "PROGRESS HIGH SCHOOL FOR PROFESSIONAL CAREERS",
          "SCHOOL FOR LEGAL STUDIES",
          "THE HIGH SCHOOL FOR ENTERPRISE, BUSINESS AND TECHNOLOGY",
          "BROOKLYN PREPARATORY HIGH SCHOOL",
          "WILLIAMSBURG HIGH SCHOOL FOR ARCHITECTURE AND DESIGN",
          "WILLIAMSBURG PREPARATORY SCHOOL",
          "LYONS COMMUNITY SCHOOL",
          "AUTOMOTIVE HIGH SCHOOL",
          "FRANCES PERKINS ACADEMY",
          "EL PUENTE ACADEMY FOR PEACE AND JUSTICE",
          "BROOKLYN SCHOOL FOR GLOBAL STUDIES",
          "BROOKLYN SECONDARY SCHOOL FOR COLLABORATIVE STUDIES",
          "SECONDARY SCHOOL FOR LAW",
          "SECONDARY SCHOOL FOR JOURNALISM",
          "PARK SLOPE COLLEGIATE",
          "SCHOOL FOR INTERNATIONAL STUDIES",
          "COBBLE HILL SCHOOL OF AMERICAN STUDIES",
          "BROOKLYN HIGH SCHOOL OF THE ARTS",
          "SUNSET PARK HIGH SCHOOL",
          "FREDERICK DOUGLASS ACADEMY IV SECONDARY SCHOOL",
          "BOYS AND GIRLS HIGH SCHOOL",
          "BROOKLYN HIGH SCHOOL FOR LAW AND TECHNOLOGY",
          "THE BROOKLYN ACADEMY OF GLOBAL FINANCE",
          "ACADEMY FOR COLLEGE PREPARATION AND CAREER EXPLORATION: A COLLEGE BOARD SCHOOL",
          "ACADEMY OF HOSPITALITY AND TOURISM",
          "INTERNATIONAL HIGH SCHOOL AT PROSPECT HEIGHTS",
          "THE HIGH SCHOOL FOR GLOBAL CITIZENSHIP",
          "SCHOOL FOR HUMAN RIGHTS, THE",
          "SCHOOL FOR DEMOCRACY AND LEADERSHIP",
          "HIGH SCHOOL FOR YOUTH AND COMMUNITY DEVELOPMENT AT ERASMUS",
          "HIGH SCHOOL FOR SERVICE & LEARNING AT ERASMUS",
          "SCIENCE, TECHNOLOGY AND RESEARCH EARLY COLLEGE HIGH SCHOOL AT ERASMUS",
          "HIGH SCHOOL FOR PUBLIC SERVICE: HEROES OF TOMORROW",
          "BROOKLYN ACADEMY OF SCIENCE AND THE ENVIRONMENT",
          "BROOKLYN SCHOOL FOR MUSIC & THEATRE",
          "MEDGAR EVERS COLLEGE PREPARATORY SCHOOL",
          "CLARA BARTON HIGH SCHOOL",
          "IT TAKES A VILLAGE ACADEMY",
          "BROOKLYN GENERATION SCHOOL",
          "BROOKLYN THEATRE ARTS HIGH SCHOOL",
          "KURT HAHN EXPEDITIONARY LEARNING SCHOOL",
          "VICTORY COLLEGIATE HIGH SCHOOL",
          "ARTS & MEDIA PREPARATORY ACADEMY",
          "HIGH SCHOOL FOR INNOVATION IN ADVERTISING AND MEDIA",
          "CULTURAL ACADEMY FOR THE ARTS AND SCIENCES",
          "HIGH SCHOOL FOR MEDICAL PROFESSIONS",
          "ACADEMY FOR CONSERVATION AND THE ENVIRONMENT",
          "URBAN ACTION ACADEMY",
          "EAST NEW YORK FAMILY ACADEMY",
          "FDNY HIGH SCHOOL FOR FIRE AND LIFE SAFETY",
          "HIGH SCHOOL FOR CIVIL RIGHTS",
          "PERFORMING ARTS AND TECHNOLOGY HIGH SCHOOL",
          "WORLD ACADEMY FOR TOTAL COMMUNITY HEALTH HIGH SCHOOL",
          "MULTICULTURAL HIGH SCHOOL",
          "TRANSIT TECH CAREER AND TECHNICAL EDUCATION HIGH SCHOOL",
          "ACADEMY OF INNOVATIVE TECHNOLOGY",
          "BROOKLYN LAB SCHOOL",
          "CYPRESS HILLS COLLEGIATE PREPARATORY SCHOOL",
          "W. H. MAXWELL CAREER AND TECHNICAL EDUCATION HIGH SCHOOL",
          "THE SCHOOL FOR CLASSICS: AN ACADEMY OF THINKERS, WRITERS AND PERFORMERS",
          "NEW UTRECHT HIGH SCHOOL",
          "HIGH SCHOOL OF TELECOMMUNICATION ARTS AND TECHNOLOGY",
          "FORT HAMILTON HIGH SCHOOL",
          "FRANKLIN DELANO ROOSEVELT HIGH SCHOOL",
          "THE URBAN ASSEMBLY SCHOOL FOR CRIMINAL JUSTICE",
          "INTERNATIONAL HIGH SCHOOL AT LAFAYETTE",
          "RACHEL CARSON HIGH SCHOOL FOR COASTAL STUDIES",
          "HIGH SCHOOL OF SPORTS MANAGEMENT",
          "ABRAHAM LINCOLN HIGH SCHOOL",
          "KINGSBOROUGH EARLY COLLEGE SCHOOL",
          "EDWARD R. MURROW HIGH SCHOOL",
          "JOHN DEWEY HIGH SCHOOL",
          "LIFE ACADEMY HIGH SCHOOL FOR FILM AND MUSIC",
          "EXPEDITIONARY LEARNING SCHOOL FOR COMMUNITY LEADERS",
          "WILLIAM E. GRADY CAREER AND TECHNICAL EDUCATION HIGH SCHOOL",
          "BROOKLYN STUDIO SECONDARY SCHOOL",
          "MIDWOOD HIGH SCHOOL",
          "JAMES MADISON HIGH SCHOOL",
          "LEON M. GOLDSTEIN HIGH SCHOOL FOR THE SCIENCES",
          "BROOKLYN COLLEGE ACADEMY",
          "BROOKLYN COLLEGIATE: A COLLEGE BOARD SCHOOL",
          "FREDERICK DOUGLASS ACADEMY VII HIGH SCHOOL",
          "TEACHERS PREPARATORY HIGH SCHOOL",
          "ACADEMY FOR ENVIRONMENTAL LEADERSHIP",
          "EBC HIGH SCHOOL FOR PUBLIC SERVICE–BUSHWICK",
          "BUSHWICK SCHOOL FOR SOCIAL JUSTICE",
          "ACADEMY OF URBAN PLANNING",
          "ALL CITY LEADERSHIP SECONDARY SCHOOL",
          "BUSHWICK LEADERS HIGH SCHOOL FOR ACADEMIC EXCELLENCE"
         ],
         "textfont": {
          "color": "#4D5663"
         },
         "type": "scatter",
         "x": [
          24.6,
          22.7,
          17.1,
          12.2,
          7.9,
          28.6,
          17.1,
          12.2,
          11.7,
          7.1,
          15.3,
          8.8,
          26.3,
          80.6,
          29.8,
          17.9,
          46.9,
          65.4,
          39.3,
          55.4,
          37.7,
          57.2,
          61.5,
          54.6,
          30.2,
          31.2,
          87.6,
          39,
          48.1,
          29.6,
          43.2,
          51.8,
          38.9,
          21,
          19,
          80.8,
          14.1,
          7.8,
          24.9,
          20.8,
          6.7,
          12.9,
          27.9,
          7.3,
          8.3,
          8.4,
          9.1,
          9,
          9.4,
          12.2,
          14.2,
          15.3,
          2.8,
          5.8,
          4.5,
          8.5,
          12.8,
          8.8,
          5.8,
          9.6,
          10.6,
          11.4,
          12.4,
          12,
          10.5,
          30.3,
          23.4,
          22.2,
          17.4,
          14.2,
          99.8,
          23.2,
          50.2,
          65,
          73.2,
          25.4,
          34.7,
          28,
          54.1,
          30.2,
          27.3,
          21.9,
          21,
          25.8,
          23,
          20.1,
          22.7,
          17.6,
          19.1,
          29.9,
          41.2,
          14,
          23.1,
          11.7,
          14.5,
          10.8,
          12.4,
          8.3,
          10.4,
          13.1,
          77.1,
          88.1,
          68.7,
          70.4,
          79.5,
          77.3
         ],
         "y": [
          1074,
          1080,
          1114,
          1211,
          1833,
          981,
          1206,
          1116,
          1223.4388059701494,
          1312,
          1189,
          1391,
          1353,
          1085,
          1223.4388059701494,
          1740,
          1189,
          1114,
          1204,
          1215,
          1090,
          1112,
          1187,
          1103,
          1093,
          1122,
          1035,
          1111,
          1179,
          1203,
          1169,
          1175,
          1212,
          1185,
          1258,
          1223.4388059701494,
          1068,
          1097,
          1092,
          1223.4388059701494,
          1139,
          1045,
          913,
          1176,
          1088,
          1153,
          1027,
          1105,
          1360,
          1273,
          1143,
          1151,
          1436,
          1251,
          963,
          1145,
          1118,
          1092,
          1143,
          1080,
          1183,
          1169,
          1159,
          1111,
          1135,
          1242,
          1023,
          1054,
          1149,
          1106,
          887,
          1193,
          1096,
          1108,
          1129,
          1102,
          1157,
          1272,
          1323,
          1306,
          1244,
          1223.4388059701494,
          1026,
          1237,
          1164,
          1226,
          1223.4388059701494,
          1431,
          1262,
          1124,
          1079,
          1184,
          1313,
          1473,
          1350,
          1627,
          1352,
          1185,
          1091,
          1196,
          1098,
          1154,
          1035,
          1060,
          1315,
          1055
         ]
        },
        {
         "marker": {
          "color": "rgba(128, 0, 128, 1.0)",
          "line": {
           "width": 1.3
          },
          "opacity": 0.8,
          "size": 12,
          "symbol": "circle"
         },
         "mode": "markers",
         "name": "Queens",
         "text": [
          "ACADEMY OF FINANCE AND ENTERPRISE",
          "HIGH SCHOOL OF APPLIED COMMUNICATION",
          "CIVIC LEADERSHIP ACADEMY",
          "PAN AMERICAN INTERNATIONAL HIGH SCHOOL",
          "BARD HIGH SCHOOL EARLY COLLEGE II",
          "NEWTOWN HIGH SCHOOL",
          "GROVER CLEVELAND HIGH SCHOOL",
          "MIDDLE COLLEGE HIGH SCHOOL AT LAGUARDIA COMMUNITY COLLEGE",
          "INTERNATIONAL HIGH SCHOOL AT LAGUARDIA COMMUNITY COLLEGE",
          "HIGH SCHOOL FOR ARTS AND BUSINESS",
          "ROBERT F. WAGNER, JR. SECONDARY SCHOOL FOR ARTS AND TECHNOLOGY",
          "QUEENS VOCATIONAL AND TECHNICAL HIGH SCHOOL",
          "AVIATION CAREER & TECHNICAL EDUCATION HIGH SCHOOL",
          "QUEENS SCHOOL OF INQUIRY, THE",
          "FLUSHING INTERNATIONAL HIGH SCHOOL",
          "EASTsWEST SCHOOL OF INTERNATIONAL STUDIES",
          "WORLD JOURNALISM PREPARATORY: A COLLEGE BOARD SCHOOL",
          "JOHN BOWNE HIGH SCHOOL",
          "FLUSHING HIGH SCHOOL",
          "TOWNSEND HARRIS HIGH SCHOOL",
          "ROBERT F. KENNEDY COMMUNITY HIGH SCHOOL",
          "BENJAMIN N. CARDOZO HIGH SCHOOL",
          "FRANCIS LEWIS HIGH SCHOOL",
          "MARTIN VAN BUREN HIGH SCHOOL",
          "BAYSIDE HIGH SCHOOL",
          "QUEENS HIGH SCHOOL OF TEACHING, LIBERAL ARTS AND THE SCIENCES",
          "FREDERICK DOUGLASS ACADEMY VI HIGH SCHOOL",
          "CHANNEL VIEW SCHOOL FOR RESEARCH",
          "QUEENS HIGH SCHOOL FOR INFORMATION, RESEARCH, AND TECHNOLOGY",
          "ROBERT H. GODDARD HIGH SCHOOL OF COMMUNICATION ARTS AND TECHNOLOGY",
          "ACADEMY OF MEDICAL TECHNOLOGY: A COLLEGE BOARD SCHOOL",
          "SCHOLARS' ACADEMY",
          "AUGUST MARTIN HIGH SCHOOL",
          "RICHMOND HILL HIGH SCHOOL",
          "JOHN ADAMS HIGH SCHOOL",
          "HIGH SCHOOL FOR CONSTRUCTION TRADES, ENGINEERING AND ARCHITECTURE",
          "YORK EARLY COLLEGE ACADEMY",
          "QUEENS COLLEGIATE: A COLLEGE BOARD SCHOOL",
          "HILLSIDE ARTS & LETTERS ACADEMY",
          "FOREST HILLS HIGH SCHOOL",
          "HILLCREST HIGH SCHOOL",
          "THOMAS A. EDISON CAREER AND TECHNICAL EDUCATION HIGH SCHOOL",
          "QUEENS GATEWAY TO HEALTH SCIENCES SECONDARY SCHOOL",
          "QUEENS METROPOLITAN HIGH SCHOOL",
          "QUEENS HIGH SCHOOL FOR THE SCIENCES AT YORK COLLEGE",
          "HIGH SCHOOL FOR LAW ENFORCEMENT AND PUBLIC SAFETY",
          "YOUNG WOMEN'S LEADERSHIP SCHOOL, QUEENS",
          "QUEENS PREPARATORY ACADEMY",
          "PATHWAYS COLLEGE PREPARATORY SCHOOL: A COLLEGE BOARD SCHOOL",
          "EXCELSIOR PREPARATORY HIGH SCHOOL",
          "GEORGE WASHINGTON CARVER HIGH SCHOOL FOR THE SCIENCES",
          "PREPARATORY ACADEMY FOR WRITERS: A COLLEGE BOARD SCHOOL",
          "CAMBRIA HEIGHTS ACADEMY",
          "MATHEMATICS, SCIENCE RESEARCH AND TECHNOLOGY MAGNET HIGH SCHOOL",
          "HUMANITIES & ARTS MAGNET HIGH SCHOOL",
          "YOUNG WOMEN'S LEADERSHIP SCHOOL, ASTORIA",
          "ACADEMY FOR CAREERS IN TELEVISION AND FILM",
          "WILLIAM CULLEN BRYANT HIGH SCHOOL",
          "LONG ISLAND CITY HIGH SCHOOL",
          "FRANK SINATRA SCHOOL OF THE ARTS HIGH SCHOOL",
          "INFORMATION TECHNOLOGY HIGH SCHOOL",
          "NEWCOMERS HIGH SCHOOL",
          "ACADEMY OF AMERICAN STUDIES",
          "BACCALAUREATE SCHOOL FOR GLOBAL EDUCATION"
         ],
         "textfont": {
          "color": "#4D5663"
         },
         "type": "scatter",
         "x": [
          56.4,
          57.2,
          79.3,
          100,
          21.2,
          60.3,
          63.5,
          71.4,
          44,
          79.2,
          62.4,
          74.2,
          55.3,
          24.2,
          32.7,
          17.9,
          20.3,
          40.7,
          49.8,
          12.9,
          35.4,
          18.6,
          24.1,
          15.1,
          22.3,
          16.8,
          27,
          27.5,
          30,
          42.6,
          34.2,
          15.9,
          11.5,
          46.4,
          37.1,
          41.6,
          10.2,
          18.5,
          21,
          30.2,
          22.8,
          21.1,
          15.7,
          38.6,
          7.9,
          15.1,
          18.4,
          8.2,
          2.9,
          9.7,
          14.1,
          10.4,
          7.5,
          11.9,
          8.5,
          40.4,
          53.5,
          48.8,
          62.7,
          27.2,
          56.6,
          43.5,
          34.7,
          24.3
         ],
         "y": [
          1280,
          1219,
          1240,
          951,
          1663,
          1203,
          1211,
          1177,
          1064,
          1174,
          1330,
          1270,
          1364,
          1396,
          1049,
          1271,
          1441,
          1243,
          1216,
          1910,
          1330,
          1514,
          1474,
          1172,
          1449,
          1279,
          1145,
          1252,
          1156,
          1265,
          1094,
          1532,
          1108,
          1154,
          1192,
          1345,
          1223.4388059701494,
          1265,
          1223.4388059701494,
          1407,
          1194,
          1372,
          1538,
          1223.4388059701494,
          1868,
          1196,
          1316,
          1099,
          1173,
          1202,
          1287,
          1100,
          1223.4388059701494,
          1220,
          1151,
          1223.4388059701494,
          1255,
          1275,
          1218,
          1494,
          1239,
          1127,
          1470,
          1636
         ]
        },
        {
         "marker": {
          "color": "rgba(219, 64, 82, 1.0)",
          "line": {
           "width": 1.3
          },
          "opacity": 0.8,
          "size": 12,
          "symbol": "circle"
         },
         "mode": "markers",
         "name": "Staten Island",
         "text": [
          "CSI HIGH SCHOOL FOR INTERNATIONAL STUDIES",
          "GAYNOR MCCOWN EXPEDITIONARY LEARNING SCHOOL",
          "THE MICHAEL J. PETRIDES SCHOOL",
          "NEW DORP HIGH SCHOOL",
          "PORT RICHMOND HIGH SCHOOL",
          "CURTIS HIGH SCHOOL",
          "TOTTENVILLE HIGH SCHOOL",
          "SUSAN E. WAGNER HIGH SCHOOL",
          "RALPH R. MCKEE CAREER AND TECHNICAL EDUCATION HIGH SCHOOL",
          "STATEN ISLAND TECHNICAL HIGH SCHOOL"
         ],
         "textfont": {
          "color": "#4D5663"
         },
         "type": "scatter",
         "x": [
          17.9,
          17.6,
          16.9,
          27.3,
          37.6,
          31.9,
          9.9,
          24.1,
          33.2,
          5.3
         ],
         "y": [
          1353,
          1195,
          1426,
          1277,
          1279,
          1301,
          1418,
          1388,
          1235,
          1953
         ]
        }
       ],
       "layout": {
        "legend": {
         "bgcolor": "#F5F6F9",
         "font": {
          "color": "#4D5663"
         }
        },
        "paper_bgcolor": "#F5F6F9",
        "plot_bgcolor": "#F5F6F9",
        "shapes": [
         {
          "line": {
           "color": "#000000",
           "dash": "dash",
           "width": 1
          },
          "type": "line",
          "x0": 0,
          "x1": 1,
          "xref": "paper",
          "y0": 1223.438805970149,
          "y1": 1223.438805970149,
          "yref": "y"
         },
         {
          "line": {
           "color": "#000000",
           "dash": "dash",
           "width": 1
          },
          "type": "line",
          "x0": 44.06831955922865,
          "x1": 44.06831955922865,
          "xref": "x",
          "y0": 0,
          "y1": 1,
          "yref": "paper"
         }
        ],
        "title": "Share of hispanic students vs. SAT score by school <br> dashed lines: average of entire dataset",
        "titlefont": {
         "color": "#4D5663"
        },
        "xaxis": {
         "gridcolor": "#E1E5ED",
         "showgrid": true,
         "tickfont": {
          "color": "#4D5663"
         },
         "title": "Share hispanics, %",
         "titlefont": {
          "color": "#4D5663"
         },
         "zerolinecolor": "#E1E5ED"
        },
        "yaxis": {
         "gridcolor": "#E1E5ED",
         "showgrid": true,
         "tickfont": {
          "color": "#4D5663"
         },
         "title": "Avg. SAT score",
         "titlefont": {
          "color": "#4D5663"
         },
         "zerolinecolor": "#E1E5ED"
        }
       }
      },
      "text/html": [
       "<div>\n",
       "        \n",
       "        \n",
       "            <div id=\"fab27f9a-7e9e-444a-ad65-6ae4d8a3201d\" class=\"plotly-graph-div\" style=\"height:525px; width:100%;\"></div>\n",
       "            <script type=\"text/javascript\">\n",
       "                require([\"plotly\"], function(Plotly) {\n",
       "                    window.PLOTLYENV=window.PLOTLYENV || {};\n",
       "                    window.PLOTLYENV.BASE_URL='https://plot.ly';\n",
       "                    \n",
       "                if (document.getElementById(\"fab27f9a-7e9e-444a-ad65-6ae4d8a3201d\")) {\n",
       "                    Plotly.newPlot(\n",
       "                        'fab27f9a-7e9e-444a-ad65-6ae4d8a3201d',\n",
       "                        [{\"marker\": {\"color\": \"rgba(255, 153, 51, 1.0)\", \"line\": {\"width\": 1.3}, \"opacity\": 0.8, \"size\": 12, \"symbol\": \"circle\"}, \"mode\": \"markers\", \"name\": \"Manhattan\", \"text\": [\"HENRY STREET SCHOOL FOR INTERNATIONAL STUDIES\", \"UNIVERSITY NEIGHBORHOOD HIGH SCHOOL\", \"EAST SIDE COMMUNITY SCHOOL\", \"MARTA VALLE HIGH SCHOOL\", \"NEW EXPLORATIONS INTO SCIENCE, TECHNOLOGY AND MATH HIGH SCHOOL\", \"BARD HIGH SCHOOL EARLY COLLEGE\", \"47 THE AMERICAN SIGN LANGUAGE AND ENGLISH SECONDARY SCHOOL\", \"FOOD AND FINANCE HIGH SCHOOL\", \"ESSEX STREET ACADEMY\", \"HIGH SCHOOL OF HOSPITALITY MANAGEMENT\", \"PACE HIGH SCHOOL\", \"URBAN ASSEMBLY SCHOOL OF DESIGN AND CONSTRUCTION, THE\", \"FACING HISTORY SCHOOL, THE\", \"URBAN ASSEMBLY ACADEMY OF GOVERNMENT AND LAW, THE\", \"LOWER MANHATTAN ARTS ACADEMY\", \"URBAN ASSEMBLY SCHOOL OF BUSINESS FOR YOUNG WOMEN, THE\", \"GRAMERCY ARTS HIGH SCHOOL\", \"NYC ISCHOOL\", \"MANHATTAN BUSINESS ACADEMY\", \"BUSINESS OF SPORTS SCHOOL\", \"THE HIGH SCHOOL FOR LANGUAGE AND DIPLOMACY\", \"HIGH SCHOOL FOR ENVIRONMENTAL STUDIES\", \"PROFESSIONAL PERFORMING ARTS HIGH SCHOOL\", \"BARUCH COLLEGE CAMPUS HIGH SCHOOL\", \"N.Y.C. LAB SCHOOL FOR COLLABORATIVE STUDIES\", \"N.Y.C. MUSEUM SCHOOL\", \"ELEANOR ROOSEVELT HIGH SCHOOL\", \"MILLENNIUM HIGH SCHOOL\", \"LANDMARK HIGH SCHOOL\", \"HIGH SCHOOL FOR HEALTH PROFESSIONS AND HUMAN SERVICES\", \"LEADERSHIP AND PUBLIC SERVICE HIGH SCHOOL\", \"MANHATTAN ACADEMY FOR ARTS & LANGUAGE\", \"HUDSON HIGH SCHOOL OF LEARNING TECHNOLOGIES\", \"INTERNATIONAL HIGH SCHOOL AT UNION SQUARE\", \"MANHATTAN VILLAGE ACADEMY\", \"VANGUARD HIGH SCHOOL\", \"MANHATTAN INTERNATIONAL HIGH SCHOOL\", \"STUYVESANT HIGH SCHOOL\", \"HIGH SCHOOL OF ECONOMICS AND FINANCE\", \"UNITY CENTER FOR URBAN TECHNOLOGIES\", \"TALENT UNLIMITED HIGH SCHOOL\", \"MURRY BERGTRAUM HIGH SCHOOL FOR BUSINESS CAREERS\", \"JACQUELINE KENNEDY ONASSIS HIGH SCHOOL\", \"REPERTORY COMPANY HIGH SCHOOL FOR THEATRE ARTS\", \"MANHATTAN BRIDGES HIGH SCHOOL\", \"NEW DESIGN HIGH SCHOOL\", \"HIGH SCHOOL FOR DUAL LANGUAGE AND ASIAN STUDIES\", \"THE URBAN ASSEMBLY NEW YORK HARBOR SCHOOL\", \"RICHARD R. GREEN HIGH SCHOOL OF TEACHING\", \"THE HIGH SCHOOL OF FASHION INDUSTRIES\", \"HUMANITIES PREPARATORY ACADEMY\", \"CHELSEA CAREER AND TECHNICAL EDUCATION HIGH SCHOOL\", \"ART AND DESIGN HIGH SCHOOL\", \"LIFE SCIENCES SECONDARY SCHOOL\", \"HIGH SCHOOL FOR ARTS, IMAGINATION AND INQUIRY\", \"URBAN ASSEMBLY SCHOOL FOR MEDIA STUDIES, THE\", \"THE URBAN ASSEMBLY SCHOOL FOR GREEN CAREERS\", \"THE GLOBAL LEARNING COLLABORATIVE\", \"WADLEIGH SECONDARY SCHOOL FOR THE PERFORMING & VISUAL ARTS\", \"FRANK MCCOURT HIGH SCHOOL\", \"BEACON HIGH SCHOOL\", \"FIORELLO H. LAGUARDIA HIGH SCHOOL OF MUSIC & ART AND PERFORMING ARTS\", \"HIGH SCHOOL FOR LAW, ADVOCACY AND COMMUNITY JUSTICE\", \"HIGH SCHOOL OF ARTS AND TECHNOLOGY\", \"MANHATTAN / HUNTER SCIENCE HIGH SCHOOL\", \"FREDERICK DOUGLASS ACADEMY II SECONDARY SCHOOL\", \"COALITION SCHOOL FOR SOCIAL CHANGE\", \"MANHATTAN CENTER FOR SCIENCE AND MATHEMATICS\", \"PARK EAST HIGH SCHOOL\", \"CENTRAL PARK EAST HIGH SCHOOL\", \"YOUNG WOMEN'S LEADERSHIP SCHOOL\", \"YOUNG WOMEN'S LEADERSHIP SCHOOL\", \"HERITAGE SCHOOL, THE\", \"MOTT HALL HIGH SCHOOL\", \"COLUMBIA SECONDARY SCHOOL FOR MATH, SCIENCE, AND ENGINEERING\", \"ACADEMY FOR SOCIAL ACTION: A COLLEGE BOARD SCHOOL\", \"URBAN ASSEMBLY SCHOOL FOR THE PERFORMING ARTS\", \"FREDERICK DOUGLASS ACADEMY\", \"THURGOOD MARSHALL ACADEMY FOR LEARNING AND SOCIAL CHANGE\", \"HIGH SCHOOL FOR MATHEMATICS, SCIENCE AND ENGINEERING AT CITY COLLEGE\", \"CITY COLLEGE ACADEMY OF THE ARTS\", \"COMMUNITY HEALTH ACADEMY OF THE HEIGHTS\", \"WASHINGTON HEIGHTS EXPEDITIONARY LEARNING SCHOOL\", \"HIGH SCHOOL FOR EXCELLENCE AND INNOVATION\", \"HIGH SCHOOL FOR INTERNATIONAL BUSINESS AND FINANCE\", \"HIGH SCHOOL FOR MEDIA AND COMMUNICATIONS\", \"HIGH SCHOOL FOR LAW AND PUBLIC SERVICE\", \"HIGH SCHOOL FOR HEALTH CAREERS AND SCIENCES\", \"A. PHILIP RANDOLPH CAMPUS HIGH SCHOOL\", \"GREGORIO LUPERON HIGH SCHOOL FOR SCIENCE AND MATHEMATICS\"], \"textfont\": {\"color\": \"#4D5663\"}, \"type\": \"scatter\", \"x\": [53.8, 45.9, 55.4, 56.9, 14.2, 18.2, 59.2, 47.6, 60.6, 66.1, 42.0, 59.2, 73.2, 50.6, 55.7, 48.4, 45.1, 43.0, 58.7, 57.2, 32.8, 57.2, 23.7, 14.6, 14.0, 39.9, 11.6, 21.7, 74.8, 49.7, 54.2, 84.6, 62.4, 43.2, 71.8, 59.0, 36.9, 2.4, 43.5, 55.3, 39.3, 46.6, 69.9, 42.4, 99.8, 62.2, 4.0, 49.3, 59.3, 52.3, 57.8, 60.5, 51.0, 64.3, 58.9, 56.0, 76.0, 62.6, 38.8, 37.0, 22.8, 16.6, 48.1, 57.2, 41.5, 18.9, 58.7, 57.4, 59.6, 64.5, 60.1, 60.1, 69.4, 63.8, 48.5, 38.1, 38.2, 22.8, 20.9, 21.2, 92.0, 93.8, 96.7, 72.5, 91.4, 87.1, 84.4, 83.8, 62.3, 99.8], \"y\": [1122.0, 1172.0, 1149.0, 1207.0, 1621.0, 1856.0, 1182.0, 1194.0, 1156.0, 1111.0, 1293.0, 1269.0, 1051.0, 1148.0, 1200.0, 1127.0, 1176.0, 1435.0, 1223.4388059701494, 1223.4388059701494, 1223.4388059701494, 1419.0, 1522.0, 1577.0, 1677.0, 1419.0, 1758.0, 1614.0, 1170.0, 1306.0, 1233.0, 1223.4388059701494, 1223.4388059701494, 1223.4388059701494, 1372.0, 1199.0, 1227.0, 2096.0, 1374.0, 1070.0, 1416.0, 1240.0, 1239.0, 1253.0, 1058.0, 1168.0, 1424.0, 1212.0, 1195.0, 1257.0, 1255.0, 1207.0, 1315.0, 1236.0, 1132.0, 1144.0, 1223.4388059701494, 1223.4388059701494, 1109.0, 1223.4388059701494, 1744.0, 1707.0, 1196.0, 1277.0, 1446.0, 1096.0, 1084.0, 1430.0, 1128.0, 1221.0, 1326.0, 1326.0, 1054.0, 1210.0, 1223.4388059701494, 1062.0, 1077.0, 1374.0, 1202.0, 1847.0, 1270.0, 1105.0, 1174.0, 1223.4388059701494, 1127.0, 1098.0, 1102.0, 1224.0, 1309.0, 1014.0]}, {\"marker\": {\"color\": \"rgba(55, 128, 191, 1.0)\", \"line\": {\"width\": 1.3}, \"opacity\": 0.8, \"size\": 12, \"symbol\": \"circle\"}, \"mode\": \"markers\", \"name\": \"Bronx\", \"text\": [\"SOUTH BRONX PREPARATORY: A COLLEGE BOARD SCHOOL\", \"INTERNATIONAL COMMUNITY HIGH SCHOOL\", \"COMMUNITY SCHOOL FOR SOCIAL JUSTICE\", \"MOTT HAVEN VILLAGE PREPARATORY HIGH SCHOOL\", \"UNIVERSITY HEIGHTS SECONDARY SCHOOL\", \"HOSTOSsLINCOLN ACADEMY OF SCIENCE\", \"FOREIGN LANGUAGE ACADEMY OF GLOBAL STUDIES\", \"BRONX LEADERSHIP ACADEMY II HIGH SCHOOL\", \"NEW EXPLORERS HIGH SCHOOL\", \"URBAN ASSEMBLY SCHOOL FOR CAREERS IN SPORTS\", \"BRONX ACADEMY OF LETTERS\", \"ALFRED E. SMITH CAREER AND TECHNICAL EDUCATION HIGH SCHOOL\", \"HEALTH OPPORTUNITIES HIGH SCHOOL\", \"BRONX STUDIO SCHOOL FOR WRITERS AND ARTISTS\", \"WOMEN'S ACADEMY OF EXCELLENCE\", \"RENAISSANCE HIGH SCHOOL FOR MUSICAL THEATER & TECHNOLOGY\", \"PABLO NERUDA ACADEMY FOR ARCHITECTURE AND WORLD STUDIES\", \"MILLENNIUM ART ACADEMY\", \"HOLCOMBE L. RUCKER SCHOOL OF COMMUNITY RESEARCH\", \"ANTONIA PANTOJA PREPARATORY ACADEMY, A COLLEGE BOARD SCHOOL\", \"HERBERT H. LEHMAN HIGH SCHOOL\", \"BRONX BRIDGES HIGH SCHOOL\", \"FELISA RINCON DE GAUTIER INSTITUTE FOR LAW AND PUBLIC POLICY, THE\", \"BANANA KELLY HIGH SCHOOL\", \"BRONX EXPEDITIONARY LEARNING HIGH SCHOOL\", \"EAGLE ACADEMY FOR YOUNG MEN\", \"URBAN ASSEMBLY SCHOOL FOR APPLIED MATH AND SCIENCE, THE\", \"EXIMIUS COLLEGE PREPARATORY ACADEMY: A COLLEGE BOARD SCHOOL\", \"MOTT HALL BRONX HIGH SCHOOL\", \"BRONX CENTER FOR SCIENCE AND MATHEMATICS\", \"VALIDUS PREPARATORY ACADEMY: AN EXPEDITIONARY LEARNING SCHOOL\", \"LEADERSHIP INSTITUTE\", \"MORRIS ACADEMY FOR COLLABORATIVE STUDIES\", \"BRONX EARLY COLLEGE ACADEMY FOR TEACHING & LEARNING\", \"DREAMYARD PREPARATORY SCHOOL\", \"ACADEMY FOR LANGUAGE AND TECHNOLOGY\", \"BRONX INTERNATIONAL HIGH SCHOOL\", \"SCHOOL FOR EXCELLENCE\", \"BRONX HIGH SCHOOL OF BUSINESS\", \"BRONX HIGH SCHOOL FOR MEDICAL SCIENCE\", \"BRONX SCHOOL FOR LAW, GOVERNMENT AND JUSTICE\", \"FREDERICK DOUGLASS ACADEMY III SECONDARY SCHOOL\", \"BRONX LEADERSHIP ACADEMY HIGH SCHOOL\", \"HIGH SCHOOL FOR VIOLIN AND DANCE\", \"RIVERDALE / KINGSBRIDGE ACADEMY (MIDDLE SCHOOL / HIGH SCHOOL 141)\", \"BRONX ENGINEERING AND TECHNOLOGY ACADEMY\", \"THEATRE ARTS PRODUCTION COMPANY SCHOOL\", \"THE MARIE CURIE SCHOOL FOR MEDICINE, NURSING, AND HEALTH PROFESSIONS\", \"WEST BRONX ACADEMY FOR THE FUTURE\", \"KINGSBRIDGE INTERNATIONAL HIGH SCHOOL\", \"BRONX SCHOOL OF LAW AND FINANCE\", \"INTERNATIONAL SCHOOL FOR LIBERAL ARTS\", \"INsTECH ACADEMY (M.S. / HIGH SCHOOL 368)\", \"KNOWLEDGE AND POWER PREPARATORY ACADEMY INTERNATIONAL HIGH SCHOOL (KAPPA)\", \"HIGH SCHOOL FOR TEACHING AND THE PROFESSIONS\", \"BELMONT PREPARATORY HIGH SCHOOL\", \"FORDHAM HIGH SCHOOL FOR THE ARTS\", \"FORDHAM LEADERSHIP ACADEMY FOR BUSINESS AND TECHNOLOGY\", \"BRONX HIGH SCHOOL FOR LAW AND COMMUNITY SERVICE\", \"DEWITT CLINTON HIGH SCHOOL\", \"CELIA CRUZ BRONX HIGH SCHOOL OF MUSIC, THE\", \"BRONX HIGH SCHOOL OF SCIENCE\", \"MARBLE HILL HIGH SCHOOL FOR INTERNATIONAL STUDIES\", \"BRONX THEATRE HIGH SCHOOL\", \"DISCOVERY HIGH SCHOOL\", \"HIGH SCHOOL OF AMERICAN STUDIES AT LEHMAN COLLEGE\", \"BRONX HEALTH SCIENCES HIGH SCHOOL\", \"BRONX HIGH SCHOOL FOR WRITING AND COMMUNICATION ARTS\", \"BRONX LAB SCHOOL\", \"ACADEMY FOR SCHOLARSHIP AND ENTREPRENEURSHIP: A COLLEGE BOARD SCHOOL\", \"HIGH SCHOOL OF COMPUTERS AND TECHNOLOGY\", \"COLLEGIATE INSTITUTE FOR MATH AND SCIENCE\", \"BRONX ACADEMY OF HEALTH CAREERS\", \"ASTOR COLLEGIATE ACADEMY\", \"BRONX HIGH SCHOOL FOR THE VISUAL ARTS\", \"HARRY S TRUMAN HIGH SCHOOL\", \"NEW WORLD HIGH SCHOOL\", \"THE BRONXWOOD PREPARATORY ACADEMY\", \"PELHAM PREPARATORY ACADEMY\", \"HIGH SCHOOL FOR CONTEMPORARY ARTS\", \"BRONX AEROSPACE HIGH SCHOOL\", \"METROPOLITAN HIGH SCHOOL, THE\", \"EXPLORATIONS ACADEMY\", \"BRONX LATIN\", \"EAST BRONX ACADEMY FOR THE FUTURE\", \"PEACE AND DIVERSITY ACADEMY\", \"PAN AMERICAN INTERNATIONAL HIGH SCHOOL AT MONROE\", \"THE CINEMA SCHOOL\", \"BRONX CAREER AND COLLEGE PREPARATORY HIGH SCHOOL\", \"HIGH SCHOOL OF WORLD CULTURES\", \"FANNIE LOU HAMER FREEDOM HIGH SCHOOL\", \"WINGS ACADEMY\", \"MONROE ACADEMY FOR VISUAL ARTS & DESIGN\"], \"textfont\": {\"color\": \"#4D5663\"}, \"type\": \"scatter\", \"x\": [68.8, 71.8, 65.5, 76.0, 78.1, 72.7, 68.8, 56.0, 68.1, 70.4, 64.3, 61.5, 56.9, 74.8, 46.4, 63.8, 69.9, 64.3, 56.8, 66.0, 60.6, 83.2, 76.0, 65.4, 69.3, 33.8, 63.4, 58.1, 73.7, 68.7, 63.8, 63.5, 73.1, 64.5, 69.9, 99.4, 72.2, 64.5, 59.9, 57.8, 66.2, 41.4, 57.0, 62.5, 53.0, 64.2, 69.7, 57.4, 69.5, 84.7, 65.2, 99.8, 81.9, 59.9, 70.4, 65.6, 61.5, 67.8, 64.6, 59.6, 69.5, 7.2, 57.9, 69.0, 75.6, 18.0, 36.3, 47.6, 57.3, 32.0, 59.5, 46.8, 41.2, 46.0, 62.3, 43.8, 70.4, 37.3, 49.7, 59.9, 72.6, 72.9, 65.5, 73.2, 68.3, 53.7, 99.8, 65.0, 59.8, 84.6, 68.8, 42.2, 77.5], \"y\": [1090.0, 945.0, 1077.0, 1097.0, 1201.0, 1257.0, 1186.0, 1103.0, 1084.0, 1181.0, 1201.0, 1158.0, 1095.0, 1223.4388059701494, 1171.0, 1158.0, 1038.0, 1164.0, 1084.0, 1223.4388059701494, 1241.0, 1223.4388059701494, 1099.0, 1131.0, 1049.0, 1134.0, 1290.0, 1169.0, 1092.0, 1396.0, 1075.0, 1081.0, 1148.0, 1223.4388059701494, 1138.0, 951.0, 965.0, 1074.0, 1083.0, 1221.0, 1224.0, 1121.0, 1166.0, 1039.0, 1333.0, 1150.0, 1190.0, 1157.0, 1158.0, 962.0, 1182.0, 934.0, 1181.0, 1180.0, 1106.0, 1222.0, 1077.0, 1119.0, 1082.0, 1255.0, 1270.0, 1969.0, 1263.0, 1064.0, 1115.0, 1920.0, 1133.0, 1147.0, 1135.0, 1141.0, 1111.0, 1348.0, 1135.0, 1169.0, 1268.0, 1151.0, 1048.0, 1112.0, 1288.0, 1126.0, 1163.0, 1055.0, 1122.0, 1251.0, 1102.0, 1155.0, 970.0, 1223.4388059701494, 1223.4388059701494, 939.0, 1029.0, 1114.0, 1038.0]}, {\"marker\": {\"color\": \"rgba(50, 171, 96, 1.0)\", \"line\": {\"width\": 1.3}, \"opacity\": 0.8, \"size\": 12, \"symbol\": \"circle\"}, \"mode\": \"markers\", \"name\": \"Brooklyn\", \"text\": [\"DR. SUSAN S. MCKINNEY SECONDARY SCHOOL OF THE ARTS\", \"URBAN ASSEMBLY HIGH SCHOOL OF MUSIC AND ART\", \"BROOKLYN COMMUNITY HIGH SCHOOL OF COMMUNICATION, ARTS AND MEDIA\", \"SCIENCE SKILLS CENTER HIGH SCHOOL FOR SCIENCE, TECHNOLOGY AND THE CREATIVE ARTS\", \"BROOKLYN TECHNICAL HIGH SCHOOL\", \"BROOKLYN INTERNATIONAL HIGH SCHOOL\", \"THE URBAN ASSEMBLY SCHOOL FOR LAW AND JUSTICE\", \"ACORN COMMUNITY HIGH SCHOOL\", \"URBAN ASSEMBLY INSTITUTE OF MATH AND SCIENCE FOR YOUNG WOMEN\", \"BEDFORD ACADEMY HIGH SCHOOL\", \"GEORGE WESTINGHOUSE CAREER AND TECHNICAL EDUCATION HIGH SCHOOL\", \"BENJAMIN BANNEKER ACADEMY\", \"CITY POLYTECHNIC HIGH SCHOOL OF ENGINEERING, ARCHITECTURE, AND TECHNOLOGY\", \"JUAN MOREL CAMPOS SECONDARY SCHOOL\", \"FOUNDATIONS ACADEMY\", \"BROOKLYN LATIN SCHOOL, THE\", \"GREEN SCHOOL: AN ACADEMY FOR ENVIRONMENTAL CAREERS\", \"PROGRESS HIGH SCHOOL FOR PROFESSIONAL CAREERS\", \"SCHOOL FOR LEGAL STUDIES\", \"THE HIGH SCHOOL FOR ENTERPRISE, BUSINESS AND TECHNOLOGY\", \"BROOKLYN PREPARATORY HIGH SCHOOL\", \"WILLIAMSBURG HIGH SCHOOL FOR ARCHITECTURE AND DESIGN\", \"WILLIAMSBURG PREPARATORY SCHOOL\", \"LYONS COMMUNITY SCHOOL\", \"AUTOMOTIVE HIGH SCHOOL\", \"FRANCES PERKINS ACADEMY\", \"EL PUENTE ACADEMY FOR PEACE AND JUSTICE\", \"BROOKLYN SCHOOL FOR GLOBAL STUDIES\", \"BROOKLYN SECONDARY SCHOOL FOR COLLABORATIVE STUDIES\", \"SECONDARY SCHOOL FOR LAW\", \"SECONDARY SCHOOL FOR JOURNALISM\", \"PARK SLOPE COLLEGIATE\", \"SCHOOL FOR INTERNATIONAL STUDIES\", \"COBBLE HILL SCHOOL OF AMERICAN STUDIES\", \"BROOKLYN HIGH SCHOOL OF THE ARTS\", \"SUNSET PARK HIGH SCHOOL\", \"FREDERICK DOUGLASS ACADEMY IV SECONDARY SCHOOL\", \"BOYS AND GIRLS HIGH SCHOOL\", \"BROOKLYN HIGH SCHOOL FOR LAW AND TECHNOLOGY\", \"THE BROOKLYN ACADEMY OF GLOBAL FINANCE\", \"ACADEMY FOR COLLEGE PREPARATION AND CAREER EXPLORATION: A COLLEGE BOARD SCHOOL\", \"ACADEMY OF HOSPITALITY AND TOURISM\", \"INTERNATIONAL HIGH SCHOOL AT PROSPECT HEIGHTS\", \"THE HIGH SCHOOL FOR GLOBAL CITIZENSHIP\", \"SCHOOL FOR HUMAN RIGHTS, THE\", \"SCHOOL FOR DEMOCRACY AND LEADERSHIP\", \"HIGH SCHOOL FOR YOUTH AND COMMUNITY DEVELOPMENT AT ERASMUS\", \"HIGH SCHOOL FOR SERVICE & LEARNING AT ERASMUS\", \"SCIENCE, TECHNOLOGY AND RESEARCH EARLY COLLEGE HIGH SCHOOL AT ERASMUS\", \"HIGH SCHOOL FOR PUBLIC SERVICE: HEROES OF TOMORROW\", \"BROOKLYN ACADEMY OF SCIENCE AND THE ENVIRONMENT\", \"BROOKLYN SCHOOL FOR MUSIC & THEATRE\", \"MEDGAR EVERS COLLEGE PREPARATORY SCHOOL\", \"CLARA BARTON HIGH SCHOOL\", \"IT TAKES A VILLAGE ACADEMY\", \"BROOKLYN GENERATION SCHOOL\", \"BROOKLYN THEATRE ARTS HIGH SCHOOL\", \"KURT HAHN EXPEDITIONARY LEARNING SCHOOL\", \"VICTORY COLLEGIATE HIGH SCHOOL\", \"ARTS & MEDIA PREPARATORY ACADEMY\", \"HIGH SCHOOL FOR INNOVATION IN ADVERTISING AND MEDIA\", \"CULTURAL ACADEMY FOR THE ARTS AND SCIENCES\", \"HIGH SCHOOL FOR MEDICAL PROFESSIONS\", \"ACADEMY FOR CONSERVATION AND THE ENVIRONMENT\", \"URBAN ACTION ACADEMY\", \"EAST NEW YORK FAMILY ACADEMY\", \"FDNY HIGH SCHOOL FOR FIRE AND LIFE SAFETY\", \"HIGH SCHOOL FOR CIVIL RIGHTS\", \"PERFORMING ARTS AND TECHNOLOGY HIGH SCHOOL\", \"WORLD ACADEMY FOR TOTAL COMMUNITY HEALTH HIGH SCHOOL\", \"MULTICULTURAL HIGH SCHOOL\", \"TRANSIT TECH CAREER AND TECHNICAL EDUCATION HIGH SCHOOL\", \"ACADEMY OF INNOVATIVE TECHNOLOGY\", \"BROOKLYN LAB SCHOOL\", \"CYPRESS HILLS COLLEGIATE PREPARATORY SCHOOL\", \"W. H. MAXWELL CAREER AND TECHNICAL EDUCATION HIGH SCHOOL\", \"THE SCHOOL FOR CLASSICS: AN ACADEMY OF THINKERS, WRITERS AND PERFORMERS\", \"NEW UTRECHT HIGH SCHOOL\", \"HIGH SCHOOL OF TELECOMMUNICATION ARTS AND TECHNOLOGY\", \"FORT HAMILTON HIGH SCHOOL\", \"FRANKLIN DELANO ROOSEVELT HIGH SCHOOL\", \"THE URBAN ASSEMBLY SCHOOL FOR CRIMINAL JUSTICE\", \"INTERNATIONAL HIGH SCHOOL AT LAFAYETTE\", \"RACHEL CARSON HIGH SCHOOL FOR COASTAL STUDIES\", \"HIGH SCHOOL OF SPORTS MANAGEMENT\", \"ABRAHAM LINCOLN HIGH SCHOOL\", \"KINGSBOROUGH EARLY COLLEGE SCHOOL\", \"EDWARD R. MURROW HIGH SCHOOL\", \"JOHN DEWEY HIGH SCHOOL\", \"LIFE ACADEMY HIGH SCHOOL FOR FILM AND MUSIC\", \"EXPEDITIONARY LEARNING SCHOOL FOR COMMUNITY LEADERS\", \"WILLIAM E. GRADY CAREER AND TECHNICAL EDUCATION HIGH SCHOOL\", \"BROOKLYN STUDIO SECONDARY SCHOOL\", \"MIDWOOD HIGH SCHOOL\", \"JAMES MADISON HIGH SCHOOL\", \"LEON M. GOLDSTEIN HIGH SCHOOL FOR THE SCIENCES\", \"BROOKLYN COLLEGE ACADEMY\", \"BROOKLYN COLLEGIATE: A COLLEGE BOARD SCHOOL\", \"FREDERICK DOUGLASS ACADEMY VII HIGH SCHOOL\", \"TEACHERS PREPARATORY HIGH SCHOOL\", \"ACADEMY FOR ENVIRONMENTAL LEADERSHIP\", \"EBC HIGH SCHOOL FOR PUBLIC SERVICE\\u2013BUSHWICK\", \"BUSHWICK SCHOOL FOR SOCIAL JUSTICE\", \"ACADEMY OF URBAN PLANNING\", \"ALL CITY LEADERSHIP SECONDARY SCHOOL\", \"BUSHWICK LEADERS HIGH SCHOOL FOR ACADEMIC EXCELLENCE\"], \"textfont\": {\"color\": \"#4D5663\"}, \"type\": \"scatter\", \"x\": [24.6, 22.7, 17.1, 12.2, 7.9, 28.6, 17.1, 12.2, 11.7, 7.1, 15.3, 8.8, 26.3, 80.6, 29.8, 17.9, 46.9, 65.4, 39.3, 55.4, 37.7, 57.2, 61.5, 54.6, 30.2, 31.2, 87.6, 39.0, 48.1, 29.6, 43.2, 51.8, 38.9, 21.0, 19.0, 80.8, 14.1, 7.8, 24.9, 20.8, 6.7, 12.9, 27.9, 7.3, 8.3, 8.4, 9.1, 9.0, 9.4, 12.2, 14.2, 15.3, 2.8, 5.8, 4.5, 8.5, 12.8, 8.8, 5.8, 9.6, 10.6, 11.4, 12.4, 12.0, 10.5, 30.3, 23.4, 22.2, 17.4, 14.2, 99.8, 23.2, 50.2, 65.0, 73.2, 25.4, 34.7, 28.0, 54.1, 30.2, 27.3, 21.9, 21.0, 25.8, 23.0, 20.1, 22.7, 17.6, 19.1, 29.9, 41.2, 14.0, 23.1, 11.7, 14.5, 10.8, 12.4, 8.3, 10.4, 13.1, 77.1, 88.1, 68.7, 70.4, 79.5, 77.3], \"y\": [1074.0, 1080.0, 1114.0, 1211.0, 1833.0, 981.0, 1206.0, 1116.0, 1223.4388059701494, 1312.0, 1189.0, 1391.0, 1353.0, 1085.0, 1223.4388059701494, 1740.0, 1189.0, 1114.0, 1204.0, 1215.0, 1090.0, 1112.0, 1187.0, 1103.0, 1093.0, 1122.0, 1035.0, 1111.0, 1179.0, 1203.0, 1169.0, 1175.0, 1212.0, 1185.0, 1258.0, 1223.4388059701494, 1068.0, 1097.0, 1092.0, 1223.4388059701494, 1139.0, 1045.0, 913.0, 1176.0, 1088.0, 1153.0, 1027.0, 1105.0, 1360.0, 1273.0, 1143.0, 1151.0, 1436.0, 1251.0, 963.0, 1145.0, 1118.0, 1092.0, 1143.0, 1080.0, 1183.0, 1169.0, 1159.0, 1111.0, 1135.0, 1242.0, 1023.0, 1054.0, 1149.0, 1106.0, 887.0, 1193.0, 1096.0, 1108.0, 1129.0, 1102.0, 1157.0, 1272.0, 1323.0, 1306.0, 1244.0, 1223.4388059701494, 1026.0, 1237.0, 1164.0, 1226.0, 1223.4388059701494, 1431.0, 1262.0, 1124.0, 1079.0, 1184.0, 1313.0, 1473.0, 1350.0, 1627.0, 1352.0, 1185.0, 1091.0, 1196.0, 1098.0, 1154.0, 1035.0, 1060.0, 1315.0, 1055.0]}, {\"marker\": {\"color\": \"rgba(128, 0, 128, 1.0)\", \"line\": {\"width\": 1.3}, \"opacity\": 0.8, \"size\": 12, \"symbol\": \"circle\"}, \"mode\": \"markers\", \"name\": \"Queens\", \"text\": [\"ACADEMY OF FINANCE AND ENTERPRISE\", \"HIGH SCHOOL OF APPLIED COMMUNICATION\", \"CIVIC LEADERSHIP ACADEMY\", \"PAN AMERICAN INTERNATIONAL HIGH SCHOOL\", \"BARD HIGH SCHOOL EARLY COLLEGE II\", \"NEWTOWN HIGH SCHOOL\", \"GROVER CLEVELAND HIGH SCHOOL\", \"MIDDLE COLLEGE HIGH SCHOOL AT LAGUARDIA COMMUNITY COLLEGE\", \"INTERNATIONAL HIGH SCHOOL AT LAGUARDIA COMMUNITY COLLEGE\", \"HIGH SCHOOL FOR ARTS AND BUSINESS\", \"ROBERT F. WAGNER, JR. SECONDARY SCHOOL FOR ARTS AND TECHNOLOGY\", \"QUEENS VOCATIONAL AND TECHNICAL HIGH SCHOOL\", \"AVIATION CAREER & TECHNICAL EDUCATION HIGH SCHOOL\", \"QUEENS SCHOOL OF INQUIRY, THE\", \"FLUSHING INTERNATIONAL HIGH SCHOOL\", \"EASTsWEST SCHOOL OF INTERNATIONAL STUDIES\", \"WORLD JOURNALISM PREPARATORY: A COLLEGE BOARD SCHOOL\", \"JOHN BOWNE HIGH SCHOOL\", \"FLUSHING HIGH SCHOOL\", \"TOWNSEND HARRIS HIGH SCHOOL\", \"ROBERT F. KENNEDY COMMUNITY HIGH SCHOOL\", \"BENJAMIN N. CARDOZO HIGH SCHOOL\", \"FRANCIS LEWIS HIGH SCHOOL\", \"MARTIN VAN BUREN HIGH SCHOOL\", \"BAYSIDE HIGH SCHOOL\", \"QUEENS HIGH SCHOOL OF TEACHING, LIBERAL ARTS AND THE SCIENCES\", \"FREDERICK DOUGLASS ACADEMY VI HIGH SCHOOL\", \"CHANNEL VIEW SCHOOL FOR RESEARCH\", \"QUEENS HIGH SCHOOL FOR INFORMATION, RESEARCH, AND TECHNOLOGY\", \"ROBERT H. GODDARD HIGH SCHOOL OF COMMUNICATION ARTS AND TECHNOLOGY\", \"ACADEMY OF MEDICAL TECHNOLOGY: A COLLEGE BOARD SCHOOL\", \"SCHOLARS' ACADEMY\", \"AUGUST MARTIN HIGH SCHOOL\", \"RICHMOND HILL HIGH SCHOOL\", \"JOHN ADAMS HIGH SCHOOL\", \"HIGH SCHOOL FOR CONSTRUCTION TRADES, ENGINEERING AND ARCHITECTURE\", \"YORK EARLY COLLEGE ACADEMY\", \"QUEENS COLLEGIATE: A COLLEGE BOARD SCHOOL\", \"HILLSIDE ARTS & LETTERS ACADEMY\", \"FOREST HILLS HIGH SCHOOL\", \"HILLCREST HIGH SCHOOL\", \"THOMAS A. EDISON CAREER AND TECHNICAL EDUCATION HIGH SCHOOL\", \"QUEENS GATEWAY TO HEALTH SCIENCES SECONDARY SCHOOL\", \"QUEENS METROPOLITAN HIGH SCHOOL\", \"QUEENS HIGH SCHOOL FOR THE SCIENCES AT YORK COLLEGE\", \"HIGH SCHOOL FOR LAW ENFORCEMENT AND PUBLIC SAFETY\", \"YOUNG WOMEN'S LEADERSHIP SCHOOL, QUEENS\", \"QUEENS PREPARATORY ACADEMY\", \"PATHWAYS COLLEGE PREPARATORY SCHOOL: A COLLEGE BOARD SCHOOL\", \"EXCELSIOR PREPARATORY HIGH SCHOOL\", \"GEORGE WASHINGTON CARVER HIGH SCHOOL FOR THE SCIENCES\", \"PREPARATORY ACADEMY FOR WRITERS: A COLLEGE BOARD SCHOOL\", \"CAMBRIA HEIGHTS ACADEMY\", \"MATHEMATICS, SCIENCE RESEARCH AND TECHNOLOGY MAGNET HIGH SCHOOL\", \"HUMANITIES & ARTS MAGNET HIGH SCHOOL\", \"YOUNG WOMEN'S LEADERSHIP SCHOOL, ASTORIA\", \"ACADEMY FOR CAREERS IN TELEVISION AND FILM\", \"WILLIAM CULLEN BRYANT HIGH SCHOOL\", \"LONG ISLAND CITY HIGH SCHOOL\", \"FRANK SINATRA SCHOOL OF THE ARTS HIGH SCHOOL\", \"INFORMATION TECHNOLOGY HIGH SCHOOL\", \"NEWCOMERS HIGH SCHOOL\", \"ACADEMY OF AMERICAN STUDIES\", \"BACCALAUREATE SCHOOL FOR GLOBAL EDUCATION\"], \"textfont\": {\"color\": \"#4D5663\"}, \"type\": \"scatter\", \"x\": [56.4, 57.2, 79.3, 100.0, 21.2, 60.3, 63.5, 71.4, 44.0, 79.2, 62.4, 74.2, 55.3, 24.2, 32.7, 17.9, 20.3, 40.7, 49.8, 12.9, 35.4, 18.6, 24.1, 15.1, 22.3, 16.8, 27.0, 27.5, 30.0, 42.6, 34.2, 15.9, 11.5, 46.4, 37.1, 41.6, 10.2, 18.5, 21.0, 30.2, 22.8, 21.1, 15.7, 38.6, 7.9, 15.1, 18.4, 8.2, 2.9, 9.7, 14.1, 10.4, 7.5, 11.9, 8.5, 40.4, 53.5, 48.8, 62.7, 27.2, 56.6, 43.5, 34.7, 24.3], \"y\": [1280.0, 1219.0, 1240.0, 951.0, 1663.0, 1203.0, 1211.0, 1177.0, 1064.0, 1174.0, 1330.0, 1270.0, 1364.0, 1396.0, 1049.0, 1271.0, 1441.0, 1243.0, 1216.0, 1910.0, 1330.0, 1514.0, 1474.0, 1172.0, 1449.0, 1279.0, 1145.0, 1252.0, 1156.0, 1265.0, 1094.0, 1532.0, 1108.0, 1154.0, 1192.0, 1345.0, 1223.4388059701494, 1265.0, 1223.4388059701494, 1407.0, 1194.0, 1372.0, 1538.0, 1223.4388059701494, 1868.0, 1196.0, 1316.0, 1099.0, 1173.0, 1202.0, 1287.0, 1100.0, 1223.4388059701494, 1220.0, 1151.0, 1223.4388059701494, 1255.0, 1275.0, 1218.0, 1494.0, 1239.0, 1127.0, 1470.0, 1636.0]}, {\"marker\": {\"color\": \"rgba(219, 64, 82, 1.0)\", \"line\": {\"width\": 1.3}, \"opacity\": 0.8, \"size\": 12, \"symbol\": \"circle\"}, \"mode\": \"markers\", \"name\": \"Staten Island\", \"text\": [\"CSI HIGH SCHOOL FOR INTERNATIONAL STUDIES\", \"GAYNOR MCCOWN EXPEDITIONARY LEARNING SCHOOL\", \"THE MICHAEL J. PETRIDES SCHOOL\", \"NEW DORP HIGH SCHOOL\", \"PORT RICHMOND HIGH SCHOOL\", \"CURTIS HIGH SCHOOL\", \"TOTTENVILLE HIGH SCHOOL\", \"SUSAN E. WAGNER HIGH SCHOOL\", \"RALPH R. MCKEE CAREER AND TECHNICAL EDUCATION HIGH SCHOOL\", \"STATEN ISLAND TECHNICAL HIGH SCHOOL\"], \"textfont\": {\"color\": \"#4D5663\"}, \"type\": \"scatter\", \"x\": [17.9, 17.6, 16.9, 27.3, 37.6, 31.9, 9.9, 24.1, 33.2, 5.3], \"y\": [1353.0, 1195.0, 1426.0, 1277.0, 1279.0, 1301.0, 1418.0, 1388.0, 1235.0, 1953.0]}],\n",
       "                        {\"legend\": {\"bgcolor\": \"#F5F6F9\", \"font\": {\"color\": \"#4D5663\"}}, \"paper_bgcolor\": \"#F5F6F9\", \"plot_bgcolor\": \"#F5F6F9\", \"shapes\": [{\"line\": {\"color\": \"#000000\", \"dash\": \"dash\", \"width\": 1}, \"type\": \"line\", \"x0\": 0, \"x1\": 1, \"xref\": \"paper\", \"y0\": 1223.438805970149, \"y1\": 1223.438805970149, \"yref\": \"y\"}, {\"line\": {\"color\": \"#000000\", \"dash\": \"dash\", \"width\": 1}, \"type\": \"line\", \"x0\": 44.06831955922865, \"x1\": 44.06831955922865, \"xref\": \"x\", \"y0\": 0, \"y1\": 1, \"yref\": \"paper\"}], \"title\": \"Share of hispanic students vs. SAT score by school <br> dashed lines: average of entire dataset\", \"titlefont\": {\"color\": \"#4D5663\"}, \"xaxis\": {\"gridcolor\": \"#E1E5ED\", \"showgrid\": true, \"tickfont\": {\"color\": \"#4D5663\"}, \"title\": \"Share hispanics, %\", \"titlefont\": {\"color\": \"#4D5663\"}, \"zerolinecolor\": \"#E1E5ED\"}, \"yaxis\": {\"gridcolor\": \"#E1E5ED\", \"showgrid\": true, \"tickfont\": {\"color\": \"#4D5663\"}, \"title\": \"Avg. SAT score\", \"titlefont\": {\"color\": \"#4D5663\"}, \"zerolinecolor\": \"#E1E5ED\"}},\n",
       "                        {\"showLink\": true, \"linkText\": \"Export to plot.ly\", \"plotlyServerURL\": \"https://plot.ly\", \"responsive\": true}\n",
       "                    ).then(function(){\n",
       "                            \n",
       "var gd = document.getElementById('fab27f9a-7e9e-444a-ad65-6ae4d8a3201d');\n",
       "var x = new MutationObserver(function (mutations, observer) {{\n",
       "        var display = window.getComputedStyle(gd).display;\n",
       "        if (!display || display === 'none') {{\n",
       "            console.log([gd, 'removed!']);\n",
       "            Plotly.purge(gd);\n",
       "            observer.disconnect();\n",
       "        }}\n",
       "}});\n",
       "\n",
       "// Listen for the removal of the full notebook cells\n",
       "var notebookContainer = gd.closest('#notebook-container');\n",
       "if (notebookContainer) {{\n",
       "    x.observe(notebookContainer, {childList: true});\n",
       "}}\n",
       "\n",
       "// Listen for the clearing of the current output cell\n",
       "var outputEl = gd.closest('.output');\n",
       "if (outputEl) {{\n",
       "    x.observe(outputEl, {childList: true});\n",
       "}}\n",
       "\n",
       "                        })\n",
       "                };\n",
       "                });\n",
       "            </script>\n",
       "        </div>"
      ]
     },
     "metadata": {},
     "output_type": "display_data"
    },
    {
     "name": "stdout",
     "output_type": "stream",
     "text": [
      "Recommendation: choose option to 'show closest data point on hover' in top right corner\n"
     ]
    }
   ],
   "source": [
    "with warnings.catch_warnings(): # to catch warning about np.module in Python 3.8.2.\n",
    "    warnings.filterwarnings(\"ignore\",category=FutureWarning)\n",
    "    combined.iplot(\n",
    "        x='hispanic_per',\n",
    "        y='sat_score',\n",
    "        categories='boro',\n",
    "        text=\"SCHOOL NAME\",\n",
    "        vline= {\"x\":combined[\"hispanic_per\"].mean(),\n",
    "                \"color\":\"#000000\",\n",
    "                \"dash\": \"dash\"\n",
    "               },\n",
    "        hline={\"y\":combined[\"sat_score\"].mean(),\n",
    "               \"color\":\"#000000\",\n",
    "               \"dash\": \"dash\"\n",
    "              },\n",
    "        xTitle='Share hispanics, %',\n",
    "        yTitle='Avg. SAT score',\n",
    "        title='Share of hispanic students vs. SAT score by school <br> dashed lines: average of entire dataset'\n",
    "    )\n",
    "print(\"Recommendation: choose option to 'show closest data point on hover' in top right corner\")"
   ]
  },
  {
   "cell_type": "markdown",
   "metadata": {},
   "source": [
    "Above plot confirms that majority of schools have SAT scores under 1400 with wide range of hispanic students percent - up to 60%, but there is group of schools with high SAT scores where `hispanic_per` is no more than 25% and there are schools with more than 80% of hispanic students which have low SAT under 1200, that contributes to the evident down trend, the higher is `hispanic_per`, the lower is SAT scores."
   ]
  },
  {
   "cell_type": "code",
   "execution_count": 15,
   "metadata": {},
   "outputs": [
    {
     "data": {
      "text/plain": [
       "44                         MANHATTAN BRIDGES HIGH SCHOOL\n",
       "82      WASHINGTON HEIGHTS EXPEDITIONARY LEARNING SCHOOL\n",
       "89     GREGORIO LUPERON HIGH SCHOOL FOR SCIENCE AND M...\n",
       "125                  ACADEMY FOR LANGUAGE AND TECHNOLOGY\n",
       "141                INTERNATIONAL SCHOOL FOR LIBERAL ARTS\n",
       "176     PAN AMERICAN INTERNATIONAL HIGH SCHOOL AT MONROE\n",
       "253                            MULTICULTURAL HIGH SCHOOL\n",
       "286               PAN AMERICAN INTERNATIONAL HIGH SCHOOL\n",
       "Name: SCHOOL NAME, dtype: object"
      ]
     },
     "execution_count": 15,
     "metadata": {},
     "output_type": "execute_result"
    }
   ],
   "source": [
    "combined.loc[combined['hispanic_per']>95]['SCHOOL NAME']"
   ]
  },
  {
   "cell_type": "markdown",
   "metadata": {},
   "source": [
    "The schools listed above appear to primarily be geared towards recent immigrants to the US. These schools have a lot of students who are learning English, which would explain the lower SAT scores."
   ]
  },
  {
   "cell_type": "code",
   "execution_count": 16,
   "metadata": {},
   "outputs": [
    {
     "data": {
      "text/html": [
       "<div>\n",
       "<style scoped>\n",
       "    .dataframe tbody tr th:only-of-type {\n",
       "        vertical-align: middle;\n",
       "    }\n",
       "\n",
       "    .dataframe tbody tr th {\n",
       "        vertical-align: top;\n",
       "    }\n",
       "\n",
       "    .dataframe thead th {\n",
       "        text-align: right;\n",
       "    }\n",
       "</style>\n",
       "<table border=\"1\" class=\"dataframe\">\n",
       "  <thead>\n",
       "    <tr style=\"text-align: right;\">\n",
       "      <th></th>\n",
       "      <th>Asian</th>\n",
       "      <th>Black</th>\n",
       "      <th>Hispanic</th>\n",
       "      <th>White</th>\n",
       "    </tr>\n",
       "  </thead>\n",
       "  <tbody>\n",
       "    <tr>\n",
       "      <td>Elite schools</td>\n",
       "      <td>58.317</td>\n",
       "      <td>6.433</td>\n",
       "      <td>7.824</td>\n",
       "      <td>27.425</td>\n",
       "    </tr>\n",
       "    <tr>\n",
       "      <td>All schools</td>\n",
       "      <td>17.248</td>\n",
       "      <td>30.051</td>\n",
       "      <td>38.798</td>\n",
       "      <td>13.903</td>\n",
       "    </tr>\n",
       "  </tbody>\n",
       "</table>\n",
       "</div>"
      ],
      "text/plain": [
       "               Asian  Black  Hispanic  White\n",
       "Elite schools 58.317  6.433     7.824 27.425\n",
       "All schools   17.248 30.051    38.798 13.903"
      ]
     },
     "execution_count": 16,
     "metadata": {},
     "output_type": "execute_result"
    }
   ],
   "source": [
    "# create school_type field defining all schools vs. elite schools (SAT score > 1,800)\n",
    "num_race = ['asian_num', 'black_num', 'hispanic_num', 'white_num']\n",
    "combined['school_type']='All schools'\n",
    "high_rate=combined['sat_score']>1800\n",
    "combined.loc[high_rate, 'school_type']='Elite schools'\n",
    "\n",
    "# create racial distribution df\n",
    "elit_filtr=combined['school_type']=='Elite schools'\n",
    "elit=(combined.loc[elit_filtr, num_race].sum()/combined.loc[elit_filtr, num_race].sum().sum())*100\n",
    "all=(combined.loc[:, num_race].sum()/combined.loc[:, num_race].sum().sum())*100\n",
    "race_dist = pd.DataFrame(data=[elit,all],index=[\"Elite schools\", \"All schools\"])\n",
    "race_dist.columns = [\"Asian\",\"Black\",\"Hispanic\", \"White\"]\n",
    "race_dist"
   ]
  },
  {
   "cell_type": "code",
   "execution_count": 17,
   "metadata": {},
   "outputs": [
    {
     "data": {
      "application/vnd.plotly.v1+json": {
       "config": {
        "linkText": "Export to plot.ly",
        "plotlyServerURL": "https://plot.ly",
        "showLink": true
       },
       "data": [
        {
         "marker": {
          "color": "rgba(255, 153, 51, 0.6)",
          "line": {
           "color": "rgba(255, 153, 51, 1.0)",
           "width": 1
          }
         },
         "name": "Asian",
         "orientation": "v",
         "text": "",
         "type": "bar",
         "x": [
          "Elite schools",
          "All schools"
         ],
         "y": [
          58,
          17
         ]
        },
        {
         "marker": {
          "color": "rgba(55, 128, 191, 0.6)",
          "line": {
           "color": "rgba(55, 128, 191, 1.0)",
           "width": 1
          }
         },
         "name": "Black",
         "orientation": "v",
         "text": "",
         "type": "bar",
         "x": [
          "Elite schools",
          "All schools"
         ],
         "y": [
          6,
          30
         ]
        },
        {
         "marker": {
          "color": "rgba(50, 171, 96, 0.6)",
          "line": {
           "color": "rgba(50, 171, 96, 1.0)",
           "width": 1
          }
         },
         "name": "Hispanic",
         "orientation": "v",
         "text": "",
         "type": "bar",
         "x": [
          "Elite schools",
          "All schools"
         ],
         "y": [
          7,
          38
         ]
        },
        {
         "marker": {
          "color": "rgba(128, 0, 128, 0.6)",
          "line": {
           "color": "rgba(128, 0, 128, 1.0)",
           "width": 1
          }
         },
         "name": "White",
         "orientation": "v",
         "text": "",
         "type": "bar",
         "x": [
          "Elite schools",
          "All schools"
         ],
         "y": [
          27,
          13
         ]
        }
       ],
       "layout": {
        "barmode": "stack",
        "legend": {
         "bgcolor": "#F5F6F9",
         "font": {
          "color": "#4D5663"
         },
         "traceorder": "normal"
        },
        "paper_bgcolor": "#F5F6F9",
        "plot_bgcolor": "#F5F6F9",
        "template": {
         "data": {
          "bar": [
           {
            "error_x": {
             "color": "#2a3f5f"
            },
            "error_y": {
             "color": "#2a3f5f"
            },
            "marker": {
             "line": {
              "color": "#E5ECF6",
              "width": 0.5
             }
            },
            "type": "bar"
           }
          ],
          "barpolar": [
           {
            "marker": {
             "line": {
              "color": "#E5ECF6",
              "width": 0.5
             }
            },
            "type": "barpolar"
           }
          ],
          "carpet": [
           {
            "aaxis": {
             "endlinecolor": "#2a3f5f",
             "gridcolor": "white",
             "linecolor": "white",
             "minorgridcolor": "white",
             "startlinecolor": "#2a3f5f"
            },
            "baxis": {
             "endlinecolor": "#2a3f5f",
             "gridcolor": "white",
             "linecolor": "white",
             "minorgridcolor": "white",
             "startlinecolor": "#2a3f5f"
            },
            "type": "carpet"
           }
          ],
          "choropleth": [
           {
            "colorbar": {
             "outlinewidth": 0,
             "ticks": ""
            },
            "type": "choropleth"
           }
          ],
          "contour": [
           {
            "colorbar": {
             "outlinewidth": 0,
             "ticks": ""
            },
            "colorscale": [
             [
              0,
              "#0d0887"
             ],
             [
              0.1111111111111111,
              "#46039f"
             ],
             [
              0.2222222222222222,
              "#7201a8"
             ],
             [
              0.3333333333333333,
              "#9c179e"
             ],
             [
              0.4444444444444444,
              "#bd3786"
             ],
             [
              0.5555555555555556,
              "#d8576b"
             ],
             [
              0.6666666666666666,
              "#ed7953"
             ],
             [
              0.7777777777777778,
              "#fb9f3a"
             ],
             [
              0.8888888888888888,
              "#fdca26"
             ],
             [
              1,
              "#f0f921"
             ]
            ],
            "type": "contour"
           }
          ],
          "contourcarpet": [
           {
            "colorbar": {
             "outlinewidth": 0,
             "ticks": ""
            },
            "type": "contourcarpet"
           }
          ],
          "heatmap": [
           {
            "colorbar": {
             "outlinewidth": 0,
             "ticks": ""
            },
            "colorscale": [
             [
              0,
              "#0d0887"
             ],
             [
              0.1111111111111111,
              "#46039f"
             ],
             [
              0.2222222222222222,
              "#7201a8"
             ],
             [
              0.3333333333333333,
              "#9c179e"
             ],
             [
              0.4444444444444444,
              "#bd3786"
             ],
             [
              0.5555555555555556,
              "#d8576b"
             ],
             [
              0.6666666666666666,
              "#ed7953"
             ],
             [
              0.7777777777777778,
              "#fb9f3a"
             ],
             [
              0.8888888888888888,
              "#fdca26"
             ],
             [
              1,
              "#f0f921"
             ]
            ],
            "type": "heatmap"
           }
          ],
          "heatmapgl": [
           {
            "colorbar": {
             "outlinewidth": 0,
             "ticks": ""
            },
            "colorscale": [
             [
              0,
              "#0d0887"
             ],
             [
              0.1111111111111111,
              "#46039f"
             ],
             [
              0.2222222222222222,
              "#7201a8"
             ],
             [
              0.3333333333333333,
              "#9c179e"
             ],
             [
              0.4444444444444444,
              "#bd3786"
             ],
             [
              0.5555555555555556,
              "#d8576b"
             ],
             [
              0.6666666666666666,
              "#ed7953"
             ],
             [
              0.7777777777777778,
              "#fb9f3a"
             ],
             [
              0.8888888888888888,
              "#fdca26"
             ],
             [
              1,
              "#f0f921"
             ]
            ],
            "type": "heatmapgl"
           }
          ],
          "histogram": [
           {
            "marker": {
             "colorbar": {
              "outlinewidth": 0,
              "ticks": ""
             }
            },
            "type": "histogram"
           }
          ],
          "histogram2d": [
           {
            "colorbar": {
             "outlinewidth": 0,
             "ticks": ""
            },
            "colorscale": [
             [
              0,
              "#0d0887"
             ],
             [
              0.1111111111111111,
              "#46039f"
             ],
             [
              0.2222222222222222,
              "#7201a8"
             ],
             [
              0.3333333333333333,
              "#9c179e"
             ],
             [
              0.4444444444444444,
              "#bd3786"
             ],
             [
              0.5555555555555556,
              "#d8576b"
             ],
             [
              0.6666666666666666,
              "#ed7953"
             ],
             [
              0.7777777777777778,
              "#fb9f3a"
             ],
             [
              0.8888888888888888,
              "#fdca26"
             ],
             [
              1,
              "#f0f921"
             ]
            ],
            "type": "histogram2d"
           }
          ],
          "histogram2dcontour": [
           {
            "colorbar": {
             "outlinewidth": 0,
             "ticks": ""
            },
            "colorscale": [
             [
              0,
              "#0d0887"
             ],
             [
              0.1111111111111111,
              "#46039f"
             ],
             [
              0.2222222222222222,
              "#7201a8"
             ],
             [
              0.3333333333333333,
              "#9c179e"
             ],
             [
              0.4444444444444444,
              "#bd3786"
             ],
             [
              0.5555555555555556,
              "#d8576b"
             ],
             [
              0.6666666666666666,
              "#ed7953"
             ],
             [
              0.7777777777777778,
              "#fb9f3a"
             ],
             [
              0.8888888888888888,
              "#fdca26"
             ],
             [
              1,
              "#f0f921"
             ]
            ],
            "type": "histogram2dcontour"
           }
          ],
          "mesh3d": [
           {
            "colorbar": {
             "outlinewidth": 0,
             "ticks": ""
            },
            "type": "mesh3d"
           }
          ],
          "parcoords": [
           {
            "line": {
             "colorbar": {
              "outlinewidth": 0,
              "ticks": ""
             }
            },
            "type": "parcoords"
           }
          ],
          "pie": [
           {
            "automargin": true,
            "type": "pie"
           }
          ],
          "scatter": [
           {
            "marker": {
             "colorbar": {
              "outlinewidth": 0,
              "ticks": ""
             }
            },
            "type": "scatter"
           }
          ],
          "scatter3d": [
           {
            "line": {
             "colorbar": {
              "outlinewidth": 0,
              "ticks": ""
             }
            },
            "marker": {
             "colorbar": {
              "outlinewidth": 0,
              "ticks": ""
             }
            },
            "type": "scatter3d"
           }
          ],
          "scattercarpet": [
           {
            "marker": {
             "colorbar": {
              "outlinewidth": 0,
              "ticks": ""
             }
            },
            "type": "scattercarpet"
           }
          ],
          "scattergeo": [
           {
            "marker": {
             "colorbar": {
              "outlinewidth": 0,
              "ticks": ""
             }
            },
            "type": "scattergeo"
           }
          ],
          "scattergl": [
           {
            "marker": {
             "colorbar": {
              "outlinewidth": 0,
              "ticks": ""
             }
            },
            "type": "scattergl"
           }
          ],
          "scattermapbox": [
           {
            "marker": {
             "colorbar": {
              "outlinewidth": 0,
              "ticks": ""
             }
            },
            "type": "scattermapbox"
           }
          ],
          "scatterpolar": [
           {
            "marker": {
             "colorbar": {
              "outlinewidth": 0,
              "ticks": ""
             }
            },
            "type": "scatterpolar"
           }
          ],
          "scatterpolargl": [
           {
            "marker": {
             "colorbar": {
              "outlinewidth": 0,
              "ticks": ""
             }
            },
            "type": "scatterpolargl"
           }
          ],
          "scatterternary": [
           {
            "marker": {
             "colorbar": {
              "outlinewidth": 0,
              "ticks": ""
             }
            },
            "type": "scatterternary"
           }
          ],
          "surface": [
           {
            "colorbar": {
             "outlinewidth": 0,
             "ticks": ""
            },
            "colorscale": [
             [
              0,
              "#0d0887"
             ],
             [
              0.1111111111111111,
              "#46039f"
             ],
             [
              0.2222222222222222,
              "#7201a8"
             ],
             [
              0.3333333333333333,
              "#9c179e"
             ],
             [
              0.4444444444444444,
              "#bd3786"
             ],
             [
              0.5555555555555556,
              "#d8576b"
             ],
             [
              0.6666666666666666,
              "#ed7953"
             ],
             [
              0.7777777777777778,
              "#fb9f3a"
             ],
             [
              0.8888888888888888,
              "#fdca26"
             ],
             [
              1,
              "#f0f921"
             ]
            ],
            "type": "surface"
           }
          ],
          "table": [
           {
            "cells": {
             "fill": {
              "color": "#EBF0F8"
             },
             "line": {
              "color": "white"
             }
            },
            "header": {
             "fill": {
              "color": "#C8D4E3"
             },
             "line": {
              "color": "white"
             }
            },
            "type": "table"
           }
          ]
         },
         "layout": {
          "annotationdefaults": {
           "arrowcolor": "#2a3f5f",
           "arrowhead": 0,
           "arrowwidth": 1
          },
          "coloraxis": {
           "colorbar": {
            "outlinewidth": 0,
            "ticks": ""
           }
          },
          "colorscale": {
           "diverging": [
            [
             0,
             "#8e0152"
            ],
            [
             0.1,
             "#c51b7d"
            ],
            [
             0.2,
             "#de77ae"
            ],
            [
             0.3,
             "#f1b6da"
            ],
            [
             0.4,
             "#fde0ef"
            ],
            [
             0.5,
             "#f7f7f7"
            ],
            [
             0.6,
             "#e6f5d0"
            ],
            [
             0.7,
             "#b8e186"
            ],
            [
             0.8,
             "#7fbc41"
            ],
            [
             0.9,
             "#4d9221"
            ],
            [
             1,
             "#276419"
            ]
           ],
           "sequential": [
            [
             0,
             "#0d0887"
            ],
            [
             0.1111111111111111,
             "#46039f"
            ],
            [
             0.2222222222222222,
             "#7201a8"
            ],
            [
             0.3333333333333333,
             "#9c179e"
            ],
            [
             0.4444444444444444,
             "#bd3786"
            ],
            [
             0.5555555555555556,
             "#d8576b"
            ],
            [
             0.6666666666666666,
             "#ed7953"
            ],
            [
             0.7777777777777778,
             "#fb9f3a"
            ],
            [
             0.8888888888888888,
             "#fdca26"
            ],
            [
             1,
             "#f0f921"
            ]
           ],
           "sequentialminus": [
            [
             0,
             "#0d0887"
            ],
            [
             0.1111111111111111,
             "#46039f"
            ],
            [
             0.2222222222222222,
             "#7201a8"
            ],
            [
             0.3333333333333333,
             "#9c179e"
            ],
            [
             0.4444444444444444,
             "#bd3786"
            ],
            [
             0.5555555555555556,
             "#d8576b"
            ],
            [
             0.6666666666666666,
             "#ed7953"
            ],
            [
             0.7777777777777778,
             "#fb9f3a"
            ],
            [
             0.8888888888888888,
             "#fdca26"
            ],
            [
             1,
             "#f0f921"
            ]
           ]
          },
          "colorway": [
           "#636efa",
           "#EF553B",
           "#00cc96",
           "#ab63fa",
           "#FFA15A",
           "#19d3f3",
           "#FF6692",
           "#B6E880",
           "#FF97FF",
           "#FECB52"
          ],
          "font": {
           "color": "#2a3f5f"
          },
          "geo": {
           "bgcolor": "white",
           "lakecolor": "white",
           "landcolor": "#E5ECF6",
           "showlakes": true,
           "showland": true,
           "subunitcolor": "white"
          },
          "hoverlabel": {
           "align": "left"
          },
          "hovermode": "closest",
          "mapbox": {
           "style": "light"
          },
          "paper_bgcolor": "white",
          "plot_bgcolor": "#E5ECF6",
          "polar": {
           "angularaxis": {
            "gridcolor": "white",
            "linecolor": "white",
            "ticks": ""
           },
           "bgcolor": "#E5ECF6",
           "radialaxis": {
            "gridcolor": "white",
            "linecolor": "white",
            "ticks": ""
           }
          },
          "scene": {
           "xaxis": {
            "backgroundcolor": "#E5ECF6",
            "gridcolor": "white",
            "gridwidth": 2,
            "linecolor": "white",
            "showbackground": true,
            "ticks": "",
            "zerolinecolor": "white"
           },
           "yaxis": {
            "backgroundcolor": "#E5ECF6",
            "gridcolor": "white",
            "gridwidth": 2,
            "linecolor": "white",
            "showbackground": true,
            "ticks": "",
            "zerolinecolor": "white"
           },
           "zaxis": {
            "backgroundcolor": "#E5ECF6",
            "gridcolor": "white",
            "gridwidth": 2,
            "linecolor": "white",
            "showbackground": true,
            "ticks": "",
            "zerolinecolor": "white"
           }
          },
          "shapedefaults": {
           "line": {
            "color": "#2a3f5f"
           }
          },
          "ternary": {
           "aaxis": {
            "gridcolor": "white",
            "linecolor": "white",
            "ticks": ""
           },
           "baxis": {
            "gridcolor": "white",
            "linecolor": "white",
            "ticks": ""
           },
           "bgcolor": "#E5ECF6",
           "caxis": {
            "gridcolor": "white",
            "linecolor": "white",
            "ticks": ""
           }
          },
          "title": {
           "x": 0.05
          },
          "xaxis": {
           "automargin": true,
           "gridcolor": "white",
           "linecolor": "white",
           "ticks": "",
           "title": {
            "standoff": 15
           },
           "zerolinecolor": "white",
           "zerolinewidth": 2
          },
          "yaxis": {
           "automargin": true,
           "gridcolor": "white",
           "linecolor": "white",
           "ticks": "",
           "title": {
            "standoff": 15
           },
           "zerolinecolor": "white",
           "zerolinewidth": 2
          }
         }
        },
        "title": {
         "font": {
          "color": "#4D5663"
         },
         "text": "Racial distribution NYC high schools, <br> all vs. elite (SAT avg. > 1,800)"
        },
        "xaxis": {
         "gridcolor": "#E1E5ED",
         "showgrid": true,
         "tickfont": {
          "color": "#4D5663"
         },
         "title": {
          "font": {
           "color": "#4D5663"
          },
          "text": ""
         },
         "zerolinecolor": "#E1E5ED"
        },
        "yaxis": {
         "gridcolor": "#E1E5ED",
         "showgrid": true,
         "tickfont": {
          "color": "#4D5663"
         },
         "title": {
          "font": {
           "color": "#4D5663"
          },
          "text": "Share of all students in %"
         },
         "zerolinecolor": "#E1E5ED"
        }
       }
      },
      "text/html": [
       "<div>\n",
       "        \n",
       "        \n",
       "            <div id=\"dbaa7189-ec83-414d-9835-14b49e427b12\" class=\"plotly-graph-div\" style=\"height:525px; width:100%;\"></div>\n",
       "            <script type=\"text/javascript\">\n",
       "                require([\"plotly\"], function(Plotly) {\n",
       "                    window.PLOTLYENV=window.PLOTLYENV || {};\n",
       "                    window.PLOTLYENV.BASE_URL='https://plot.ly';\n",
       "                    \n",
       "                if (document.getElementById(\"dbaa7189-ec83-414d-9835-14b49e427b12\")) {\n",
       "                    Plotly.newPlot(\n",
       "                        'dbaa7189-ec83-414d-9835-14b49e427b12',\n",
       "                        [{\"marker\": {\"color\": \"rgba(255, 153, 51, 0.6)\", \"line\": {\"color\": \"rgba(255, 153, 51, 1.0)\", \"width\": 1}}, \"name\": \"Asian\", \"orientation\": \"v\", \"text\": \"\", \"type\": \"bar\", \"x\": [\"Elite schools\", \"All schools\"], \"y\": [58, 17]}, {\"marker\": {\"color\": \"rgba(55, 128, 191, 0.6)\", \"line\": {\"color\": \"rgba(55, 128, 191, 1.0)\", \"width\": 1}}, \"name\": \"Black\", \"orientation\": \"v\", \"text\": \"\", \"type\": \"bar\", \"x\": [\"Elite schools\", \"All schools\"], \"y\": [6, 30]}, {\"marker\": {\"color\": \"rgba(50, 171, 96, 0.6)\", \"line\": {\"color\": \"rgba(50, 171, 96, 1.0)\", \"width\": 1}}, \"name\": \"Hispanic\", \"orientation\": \"v\", \"text\": \"\", \"type\": \"bar\", \"x\": [\"Elite schools\", \"All schools\"], \"y\": [7, 38]}, {\"marker\": {\"color\": \"rgba(128, 0, 128, 0.6)\", \"line\": {\"color\": \"rgba(128, 0, 128, 1.0)\", \"width\": 1}}, \"name\": \"White\", \"orientation\": \"v\", \"text\": \"\", \"type\": \"bar\", \"x\": [\"Elite schools\", \"All schools\"], \"y\": [27, 13]}],\n",
       "                        {\"barmode\": \"stack\", \"legend\": {\"bgcolor\": \"#F5F6F9\", \"font\": {\"color\": \"#4D5663\"}, \"traceorder\": \"normal\"}, \"paper_bgcolor\": \"#F5F6F9\", \"plot_bgcolor\": \"#F5F6F9\", \"template\": {\"data\": {\"bar\": [{\"error_x\": {\"color\": \"#2a3f5f\"}, \"error_y\": {\"color\": \"#2a3f5f\"}, \"marker\": {\"line\": {\"color\": \"#E5ECF6\", \"width\": 0.5}}, \"type\": \"bar\"}], \"barpolar\": [{\"marker\": {\"line\": {\"color\": \"#E5ECF6\", \"width\": 0.5}}, \"type\": \"barpolar\"}], \"carpet\": [{\"aaxis\": {\"endlinecolor\": \"#2a3f5f\", \"gridcolor\": \"white\", \"linecolor\": \"white\", \"minorgridcolor\": \"white\", \"startlinecolor\": \"#2a3f5f\"}, \"baxis\": {\"endlinecolor\": \"#2a3f5f\", \"gridcolor\": \"white\", \"linecolor\": \"white\", \"minorgridcolor\": \"white\", \"startlinecolor\": \"#2a3f5f\"}, \"type\": \"carpet\"}], \"choropleth\": [{\"colorbar\": {\"outlinewidth\": 0, \"ticks\": \"\"}, \"type\": \"choropleth\"}], \"contour\": [{\"colorbar\": {\"outlinewidth\": 0, \"ticks\": \"\"}, \"colorscale\": [[0.0, \"#0d0887\"], [0.1111111111111111, \"#46039f\"], [0.2222222222222222, \"#7201a8\"], [0.3333333333333333, \"#9c179e\"], [0.4444444444444444, \"#bd3786\"], [0.5555555555555556, \"#d8576b\"], [0.6666666666666666, \"#ed7953\"], [0.7777777777777778, \"#fb9f3a\"], [0.8888888888888888, \"#fdca26\"], [1.0, \"#f0f921\"]], \"type\": \"contour\"}], \"contourcarpet\": [{\"colorbar\": {\"outlinewidth\": 0, \"ticks\": \"\"}, \"type\": \"contourcarpet\"}], \"heatmap\": [{\"colorbar\": {\"outlinewidth\": 0, \"ticks\": \"\"}, \"colorscale\": [[0.0, \"#0d0887\"], [0.1111111111111111, \"#46039f\"], [0.2222222222222222, \"#7201a8\"], [0.3333333333333333, \"#9c179e\"], [0.4444444444444444, \"#bd3786\"], [0.5555555555555556, \"#d8576b\"], [0.6666666666666666, \"#ed7953\"], [0.7777777777777778, \"#fb9f3a\"], [0.8888888888888888, \"#fdca26\"], [1.0, \"#f0f921\"]], \"type\": \"heatmap\"}], \"heatmapgl\": [{\"colorbar\": {\"outlinewidth\": 0, \"ticks\": \"\"}, \"colorscale\": [[0.0, \"#0d0887\"], [0.1111111111111111, \"#46039f\"], [0.2222222222222222, \"#7201a8\"], [0.3333333333333333, \"#9c179e\"], [0.4444444444444444, \"#bd3786\"], [0.5555555555555556, \"#d8576b\"], [0.6666666666666666, \"#ed7953\"], [0.7777777777777778, \"#fb9f3a\"], [0.8888888888888888, \"#fdca26\"], [1.0, \"#f0f921\"]], \"type\": \"heatmapgl\"}], \"histogram\": [{\"marker\": {\"colorbar\": {\"outlinewidth\": 0, \"ticks\": \"\"}}, \"type\": \"histogram\"}], \"histogram2d\": [{\"colorbar\": {\"outlinewidth\": 0, \"ticks\": \"\"}, \"colorscale\": [[0.0, \"#0d0887\"], [0.1111111111111111, \"#46039f\"], [0.2222222222222222, \"#7201a8\"], [0.3333333333333333, \"#9c179e\"], [0.4444444444444444, \"#bd3786\"], [0.5555555555555556, \"#d8576b\"], [0.6666666666666666, \"#ed7953\"], [0.7777777777777778, \"#fb9f3a\"], [0.8888888888888888, \"#fdca26\"], [1.0, \"#f0f921\"]], \"type\": \"histogram2d\"}], \"histogram2dcontour\": [{\"colorbar\": {\"outlinewidth\": 0, \"ticks\": \"\"}, \"colorscale\": [[0.0, \"#0d0887\"], [0.1111111111111111, \"#46039f\"], [0.2222222222222222, \"#7201a8\"], [0.3333333333333333, \"#9c179e\"], [0.4444444444444444, \"#bd3786\"], [0.5555555555555556, \"#d8576b\"], [0.6666666666666666, \"#ed7953\"], [0.7777777777777778, \"#fb9f3a\"], [0.8888888888888888, \"#fdca26\"], [1.0, \"#f0f921\"]], \"type\": \"histogram2dcontour\"}], \"mesh3d\": [{\"colorbar\": {\"outlinewidth\": 0, \"ticks\": \"\"}, \"type\": \"mesh3d\"}], \"parcoords\": [{\"line\": {\"colorbar\": {\"outlinewidth\": 0, \"ticks\": \"\"}}, \"type\": \"parcoords\"}], \"pie\": [{\"automargin\": true, \"type\": \"pie\"}], \"scatter\": [{\"marker\": {\"colorbar\": {\"outlinewidth\": 0, \"ticks\": \"\"}}, \"type\": \"scatter\"}], \"scatter3d\": [{\"line\": {\"colorbar\": {\"outlinewidth\": 0, \"ticks\": \"\"}}, \"marker\": {\"colorbar\": {\"outlinewidth\": 0, \"ticks\": \"\"}}, \"type\": \"scatter3d\"}], \"scattercarpet\": [{\"marker\": {\"colorbar\": {\"outlinewidth\": 0, \"ticks\": \"\"}}, \"type\": \"scattercarpet\"}], \"scattergeo\": [{\"marker\": {\"colorbar\": {\"outlinewidth\": 0, \"ticks\": \"\"}}, \"type\": \"scattergeo\"}], \"scattergl\": [{\"marker\": {\"colorbar\": {\"outlinewidth\": 0, \"ticks\": \"\"}}, \"type\": \"scattergl\"}], \"scattermapbox\": [{\"marker\": {\"colorbar\": {\"outlinewidth\": 0, \"ticks\": \"\"}}, \"type\": \"scattermapbox\"}], \"scatterpolar\": [{\"marker\": {\"colorbar\": {\"outlinewidth\": 0, \"ticks\": \"\"}}, \"type\": \"scatterpolar\"}], \"scatterpolargl\": [{\"marker\": {\"colorbar\": {\"outlinewidth\": 0, \"ticks\": \"\"}}, \"type\": \"scatterpolargl\"}], \"scatterternary\": [{\"marker\": {\"colorbar\": {\"outlinewidth\": 0, \"ticks\": \"\"}}, \"type\": \"scatterternary\"}], \"surface\": [{\"colorbar\": {\"outlinewidth\": 0, \"ticks\": \"\"}, \"colorscale\": [[0.0, \"#0d0887\"], [0.1111111111111111, \"#46039f\"], [0.2222222222222222, \"#7201a8\"], [0.3333333333333333, \"#9c179e\"], [0.4444444444444444, \"#bd3786\"], [0.5555555555555556, \"#d8576b\"], [0.6666666666666666, \"#ed7953\"], [0.7777777777777778, \"#fb9f3a\"], [0.8888888888888888, \"#fdca26\"], [1.0, \"#f0f921\"]], \"type\": \"surface\"}], \"table\": [{\"cells\": {\"fill\": {\"color\": \"#EBF0F8\"}, \"line\": {\"color\": \"white\"}}, \"header\": {\"fill\": {\"color\": \"#C8D4E3\"}, \"line\": {\"color\": \"white\"}}, \"type\": \"table\"}]}, \"layout\": {\"annotationdefaults\": {\"arrowcolor\": \"#2a3f5f\", \"arrowhead\": 0, \"arrowwidth\": 1}, \"coloraxis\": {\"colorbar\": {\"outlinewidth\": 0, \"ticks\": \"\"}}, \"colorscale\": {\"diverging\": [[0, \"#8e0152\"], [0.1, \"#c51b7d\"], [0.2, \"#de77ae\"], [0.3, \"#f1b6da\"], [0.4, \"#fde0ef\"], [0.5, \"#f7f7f7\"], [0.6, \"#e6f5d0\"], [0.7, \"#b8e186\"], [0.8, \"#7fbc41\"], [0.9, \"#4d9221\"], [1, \"#276419\"]], \"sequential\": [[0.0, \"#0d0887\"], [0.1111111111111111, \"#46039f\"], [0.2222222222222222, \"#7201a8\"], [0.3333333333333333, \"#9c179e\"], [0.4444444444444444, \"#bd3786\"], [0.5555555555555556, \"#d8576b\"], [0.6666666666666666, \"#ed7953\"], [0.7777777777777778, \"#fb9f3a\"], [0.8888888888888888, \"#fdca26\"], [1.0, \"#f0f921\"]], \"sequentialminus\": [[0.0, \"#0d0887\"], [0.1111111111111111, \"#46039f\"], [0.2222222222222222, \"#7201a8\"], [0.3333333333333333, \"#9c179e\"], [0.4444444444444444, \"#bd3786\"], [0.5555555555555556, \"#d8576b\"], [0.6666666666666666, \"#ed7953\"], [0.7777777777777778, \"#fb9f3a\"], [0.8888888888888888, \"#fdca26\"], [1.0, \"#f0f921\"]]}, \"colorway\": [\"#636efa\", \"#EF553B\", \"#00cc96\", \"#ab63fa\", \"#FFA15A\", \"#19d3f3\", \"#FF6692\", \"#B6E880\", \"#FF97FF\", \"#FECB52\"], \"font\": {\"color\": \"#2a3f5f\"}, \"geo\": {\"bgcolor\": \"white\", \"lakecolor\": \"white\", \"landcolor\": \"#E5ECF6\", \"showlakes\": true, \"showland\": true, \"subunitcolor\": \"white\"}, \"hoverlabel\": {\"align\": \"left\"}, \"hovermode\": \"closest\", \"mapbox\": {\"style\": \"light\"}, \"paper_bgcolor\": \"white\", \"plot_bgcolor\": \"#E5ECF6\", \"polar\": {\"angularaxis\": {\"gridcolor\": \"white\", \"linecolor\": \"white\", \"ticks\": \"\"}, \"bgcolor\": \"#E5ECF6\", \"radialaxis\": {\"gridcolor\": \"white\", \"linecolor\": \"white\", \"ticks\": \"\"}}, \"scene\": {\"xaxis\": {\"backgroundcolor\": \"#E5ECF6\", \"gridcolor\": \"white\", \"gridwidth\": 2, \"linecolor\": \"white\", \"showbackground\": true, \"ticks\": \"\", \"zerolinecolor\": \"white\"}, \"yaxis\": {\"backgroundcolor\": \"#E5ECF6\", \"gridcolor\": \"white\", \"gridwidth\": 2, \"linecolor\": \"white\", \"showbackground\": true, \"ticks\": \"\", \"zerolinecolor\": \"white\"}, \"zaxis\": {\"backgroundcolor\": \"#E5ECF6\", \"gridcolor\": \"white\", \"gridwidth\": 2, \"linecolor\": \"white\", \"showbackground\": true, \"ticks\": \"\", \"zerolinecolor\": \"white\"}}, \"shapedefaults\": {\"line\": {\"color\": \"#2a3f5f\"}}, \"ternary\": {\"aaxis\": {\"gridcolor\": \"white\", \"linecolor\": \"white\", \"ticks\": \"\"}, \"baxis\": {\"gridcolor\": \"white\", \"linecolor\": \"white\", \"ticks\": \"\"}, \"bgcolor\": \"#E5ECF6\", \"caxis\": {\"gridcolor\": \"white\", \"linecolor\": \"white\", \"ticks\": \"\"}}, \"title\": {\"x\": 0.05}, \"xaxis\": {\"automargin\": true, \"gridcolor\": \"white\", \"linecolor\": \"white\", \"ticks\": \"\", \"title\": {\"standoff\": 15}, \"zerolinecolor\": \"white\", \"zerolinewidth\": 2}, \"yaxis\": {\"automargin\": true, \"gridcolor\": \"white\", \"linecolor\": \"white\", \"ticks\": \"\", \"title\": {\"standoff\": 15}, \"zerolinecolor\": \"white\", \"zerolinewidth\": 2}}}, \"title\": {\"font\": {\"color\": \"#4D5663\"}, \"text\": \"Racial distribution NYC high schools, <br> all vs. elite (SAT avg. > 1,800)\"}, \"xaxis\": {\"gridcolor\": \"#E1E5ED\", \"showgrid\": true, \"tickfont\": {\"color\": \"#4D5663\"}, \"title\": {\"font\": {\"color\": \"#4D5663\"}, \"text\": \"\"}, \"zerolinecolor\": \"#E1E5ED\"}, \"yaxis\": {\"gridcolor\": \"#E1E5ED\", \"showgrid\": true, \"tickfont\": {\"color\": \"#4D5663\"}, \"title\": {\"font\": {\"color\": \"#4D5663\"}, \"text\": \"Share of all students in %\"}, \"zerolinecolor\": \"#E1E5ED\"}},\n",
       "                        {\"showLink\": true, \"linkText\": \"Export to plot.ly\", \"plotlyServerURL\": \"https://plot.ly\", \"responsive\": true}\n",
       "                    ).then(function(){\n",
       "                            \n",
       "var gd = document.getElementById('dbaa7189-ec83-414d-9835-14b49e427b12');\n",
       "var x = new MutationObserver(function (mutations, observer) {{\n",
       "        var display = window.getComputedStyle(gd).display;\n",
       "        if (!display || display === 'none') {{\n",
       "            console.log([gd, 'removed!']);\n",
       "            Plotly.purge(gd);\n",
       "            observer.disconnect();\n",
       "        }}\n",
       "}});\n",
       "\n",
       "// Listen for the removal of the full notebook cells\n",
       "var notebookContainer = gd.closest('#notebook-container');\n",
       "if (notebookContainer) {{\n",
       "    x.observe(notebookContainer, {childList: true});\n",
       "}}\n",
       "\n",
       "// Listen for the clearing of the current output cell\n",
       "var outputEl = gd.closest('.output');\n",
       "if (outputEl) {{\n",
       "    x.observe(outputEl, {childList: true});\n",
       "}}\n",
       "\n",
       "                        })\n",
       "                };\n",
       "                });\n",
       "            </script>\n",
       "        </div>"
      ]
     },
     "metadata": {},
     "output_type": "display_data"
    }
   ],
   "source": [
    "# build stacked bar to racial makeup of all schools and elite schools\n",
    "race_dist.astype(int).iplot(kind=\"bar\", barmode=\"stack\", yTitle='Share of all students in %',\n",
    "                            title='Racial distribution NYC high schools, <br> all vs. elite (SAT avg. > 1,800)')"
   ]
  },
  {
   "cell_type": "code",
   "execution_count": 18,
   "metadata": {},
   "outputs": [
    {
     "data": {
      "application/vnd.plotly.v1+json": {
       "config": {
        "linkText": "Export to plot.ly",
        "plotlyServerURL": "https://plot.ly",
        "showLink": true
       },
       "data": [
        {
         "marker": {
          "color": "rgba(255, 153, 51, 1.0)",
          "line": {
           "width": 1.3
          },
          "opacity": 0.8,
          "size": 12,
          "symbol": "circle"
         },
         "mode": "markers",
         "name": "Manhattan",
         "text": [
          "BARD HIGH SCHOOL EARLY COLLEGE",
          "STUYVESANT HIGH SCHOOL",
          "HIGH SCHOOL FOR MATHEMATICS, SCIENCE AND ENGINEERING AT CITY COLLEGE"
         ],
         "textfont": {
          "color": "#4D5663"
         },
         "type": "scatter",
         "x": [
          18.2,
          2.4,
          21.2
         ],
         "y": [
          1856,
          2096,
          1847
         ]
        },
        {
         "marker": {
          "color": "rgba(55, 128, 191, 1.0)",
          "line": {
           "width": 1.3
          },
          "opacity": 0.8,
          "size": 12,
          "symbol": "circle"
         },
         "mode": "markers",
         "name": "Bronx",
         "text": [
          "BRONX HIGH SCHOOL OF SCIENCE",
          "HIGH SCHOOL OF AMERICAN STUDIES AT LEHMAN COLLEGE"
         ],
         "textfont": {
          "color": "#4D5663"
         },
         "type": "scatter",
         "x": [
          7.2,
          18
         ],
         "y": [
          1969,
          1920
         ]
        },
        {
         "marker": {
          "color": "rgba(50, 171, 96, 1.0)",
          "line": {
           "width": 1.3
          },
          "opacity": 0.8,
          "size": 12,
          "symbol": "circle"
         },
         "mode": "markers",
         "name": "Brooklyn",
         "text": [
          "BROOKLYN TECHNICAL HIGH SCHOOL"
         ],
         "textfont": {
          "color": "#4D5663"
         },
         "type": "scatter",
         "x": [
          7.9
         ],
         "y": [
          1833
         ]
        },
        {
         "marker": {
          "color": "rgba(128, 0, 128, 1.0)",
          "line": {
           "width": 1.3
          },
          "opacity": 0.8,
          "size": 12,
          "symbol": "circle"
         },
         "mode": "markers",
         "name": "Queens",
         "text": [
          "TOWNSEND HARRIS HIGH SCHOOL",
          "QUEENS HIGH SCHOOL FOR THE SCIENCES AT YORK COLLEGE"
         ],
         "textfont": {
          "color": "#4D5663"
         },
         "type": "scatter",
         "x": [
          12.9,
          7.9
         ],
         "y": [
          1910,
          1868
         ]
        },
        {
         "marker": {
          "color": "rgba(219, 64, 82, 1.0)",
          "line": {
           "width": 1.3
          },
          "opacity": 0.8,
          "size": 12,
          "symbol": "circle"
         },
         "mode": "markers",
         "name": "Staten Island",
         "text": [
          "STATEN ISLAND TECHNICAL HIGH SCHOOL"
         ],
         "textfont": {
          "color": "#4D5663"
         },
         "type": "scatter",
         "x": [
          5.3
         ],
         "y": [
          1953
         ]
        }
       ],
       "layout": {
        "legend": {
         "bgcolor": "#F5F6F9",
         "font": {
          "color": "#4D5663"
         }
        },
        "paper_bgcolor": "#F5F6F9",
        "plot_bgcolor": "#F5F6F9",
        "template": {
         "data": {
          "bar": [
           {
            "error_x": {
             "color": "#2a3f5f"
            },
            "error_y": {
             "color": "#2a3f5f"
            },
            "marker": {
             "line": {
              "color": "#E5ECF6",
              "width": 0.5
             }
            },
            "type": "bar"
           }
          ],
          "barpolar": [
           {
            "marker": {
             "line": {
              "color": "#E5ECF6",
              "width": 0.5
             }
            },
            "type": "barpolar"
           }
          ],
          "carpet": [
           {
            "aaxis": {
             "endlinecolor": "#2a3f5f",
             "gridcolor": "white",
             "linecolor": "white",
             "minorgridcolor": "white",
             "startlinecolor": "#2a3f5f"
            },
            "baxis": {
             "endlinecolor": "#2a3f5f",
             "gridcolor": "white",
             "linecolor": "white",
             "minorgridcolor": "white",
             "startlinecolor": "#2a3f5f"
            },
            "type": "carpet"
           }
          ],
          "choropleth": [
           {
            "colorbar": {
             "outlinewidth": 0,
             "ticks": ""
            },
            "type": "choropleth"
           }
          ],
          "contour": [
           {
            "colorbar": {
             "outlinewidth": 0,
             "ticks": ""
            },
            "colorscale": [
             [
              0,
              "#0d0887"
             ],
             [
              0.1111111111111111,
              "#46039f"
             ],
             [
              0.2222222222222222,
              "#7201a8"
             ],
             [
              0.3333333333333333,
              "#9c179e"
             ],
             [
              0.4444444444444444,
              "#bd3786"
             ],
             [
              0.5555555555555556,
              "#d8576b"
             ],
             [
              0.6666666666666666,
              "#ed7953"
             ],
             [
              0.7777777777777778,
              "#fb9f3a"
             ],
             [
              0.8888888888888888,
              "#fdca26"
             ],
             [
              1,
              "#f0f921"
             ]
            ],
            "type": "contour"
           }
          ],
          "contourcarpet": [
           {
            "colorbar": {
             "outlinewidth": 0,
             "ticks": ""
            },
            "type": "contourcarpet"
           }
          ],
          "heatmap": [
           {
            "colorbar": {
             "outlinewidth": 0,
             "ticks": ""
            },
            "colorscale": [
             [
              0,
              "#0d0887"
             ],
             [
              0.1111111111111111,
              "#46039f"
             ],
             [
              0.2222222222222222,
              "#7201a8"
             ],
             [
              0.3333333333333333,
              "#9c179e"
             ],
             [
              0.4444444444444444,
              "#bd3786"
             ],
             [
              0.5555555555555556,
              "#d8576b"
             ],
             [
              0.6666666666666666,
              "#ed7953"
             ],
             [
              0.7777777777777778,
              "#fb9f3a"
             ],
             [
              0.8888888888888888,
              "#fdca26"
             ],
             [
              1,
              "#f0f921"
             ]
            ],
            "type": "heatmap"
           }
          ],
          "heatmapgl": [
           {
            "colorbar": {
             "outlinewidth": 0,
             "ticks": ""
            },
            "colorscale": [
             [
              0,
              "#0d0887"
             ],
             [
              0.1111111111111111,
              "#46039f"
             ],
             [
              0.2222222222222222,
              "#7201a8"
             ],
             [
              0.3333333333333333,
              "#9c179e"
             ],
             [
              0.4444444444444444,
              "#bd3786"
             ],
             [
              0.5555555555555556,
              "#d8576b"
             ],
             [
              0.6666666666666666,
              "#ed7953"
             ],
             [
              0.7777777777777778,
              "#fb9f3a"
             ],
             [
              0.8888888888888888,
              "#fdca26"
             ],
             [
              1,
              "#f0f921"
             ]
            ],
            "type": "heatmapgl"
           }
          ],
          "histogram": [
           {
            "marker": {
             "colorbar": {
              "outlinewidth": 0,
              "ticks": ""
             }
            },
            "type": "histogram"
           }
          ],
          "histogram2d": [
           {
            "colorbar": {
             "outlinewidth": 0,
             "ticks": ""
            },
            "colorscale": [
             [
              0,
              "#0d0887"
             ],
             [
              0.1111111111111111,
              "#46039f"
             ],
             [
              0.2222222222222222,
              "#7201a8"
             ],
             [
              0.3333333333333333,
              "#9c179e"
             ],
             [
              0.4444444444444444,
              "#bd3786"
             ],
             [
              0.5555555555555556,
              "#d8576b"
             ],
             [
              0.6666666666666666,
              "#ed7953"
             ],
             [
              0.7777777777777778,
              "#fb9f3a"
             ],
             [
              0.8888888888888888,
              "#fdca26"
             ],
             [
              1,
              "#f0f921"
             ]
            ],
            "type": "histogram2d"
           }
          ],
          "histogram2dcontour": [
           {
            "colorbar": {
             "outlinewidth": 0,
             "ticks": ""
            },
            "colorscale": [
             [
              0,
              "#0d0887"
             ],
             [
              0.1111111111111111,
              "#46039f"
             ],
             [
              0.2222222222222222,
              "#7201a8"
             ],
             [
              0.3333333333333333,
              "#9c179e"
             ],
             [
              0.4444444444444444,
              "#bd3786"
             ],
             [
              0.5555555555555556,
              "#d8576b"
             ],
             [
              0.6666666666666666,
              "#ed7953"
             ],
             [
              0.7777777777777778,
              "#fb9f3a"
             ],
             [
              0.8888888888888888,
              "#fdca26"
             ],
             [
              1,
              "#f0f921"
             ]
            ],
            "type": "histogram2dcontour"
           }
          ],
          "mesh3d": [
           {
            "colorbar": {
             "outlinewidth": 0,
             "ticks": ""
            },
            "type": "mesh3d"
           }
          ],
          "parcoords": [
           {
            "line": {
             "colorbar": {
              "outlinewidth": 0,
              "ticks": ""
             }
            },
            "type": "parcoords"
           }
          ],
          "pie": [
           {
            "automargin": true,
            "type": "pie"
           }
          ],
          "scatter": [
           {
            "marker": {
             "colorbar": {
              "outlinewidth": 0,
              "ticks": ""
             }
            },
            "type": "scatter"
           }
          ],
          "scatter3d": [
           {
            "line": {
             "colorbar": {
              "outlinewidth": 0,
              "ticks": ""
             }
            },
            "marker": {
             "colorbar": {
              "outlinewidth": 0,
              "ticks": ""
             }
            },
            "type": "scatter3d"
           }
          ],
          "scattercarpet": [
           {
            "marker": {
             "colorbar": {
              "outlinewidth": 0,
              "ticks": ""
             }
            },
            "type": "scattercarpet"
           }
          ],
          "scattergeo": [
           {
            "marker": {
             "colorbar": {
              "outlinewidth": 0,
              "ticks": ""
             }
            },
            "type": "scattergeo"
           }
          ],
          "scattergl": [
           {
            "marker": {
             "colorbar": {
              "outlinewidth": 0,
              "ticks": ""
             }
            },
            "type": "scattergl"
           }
          ],
          "scattermapbox": [
           {
            "marker": {
             "colorbar": {
              "outlinewidth": 0,
              "ticks": ""
             }
            },
            "type": "scattermapbox"
           }
          ],
          "scatterpolar": [
           {
            "marker": {
             "colorbar": {
              "outlinewidth": 0,
              "ticks": ""
             }
            },
            "type": "scatterpolar"
           }
          ],
          "scatterpolargl": [
           {
            "marker": {
             "colorbar": {
              "outlinewidth": 0,
              "ticks": ""
             }
            },
            "type": "scatterpolargl"
           }
          ],
          "scatterternary": [
           {
            "marker": {
             "colorbar": {
              "outlinewidth": 0,
              "ticks": ""
             }
            },
            "type": "scatterternary"
           }
          ],
          "surface": [
           {
            "colorbar": {
             "outlinewidth": 0,
             "ticks": ""
            },
            "colorscale": [
             [
              0,
              "#0d0887"
             ],
             [
              0.1111111111111111,
              "#46039f"
             ],
             [
              0.2222222222222222,
              "#7201a8"
             ],
             [
              0.3333333333333333,
              "#9c179e"
             ],
             [
              0.4444444444444444,
              "#bd3786"
             ],
             [
              0.5555555555555556,
              "#d8576b"
             ],
             [
              0.6666666666666666,
              "#ed7953"
             ],
             [
              0.7777777777777778,
              "#fb9f3a"
             ],
             [
              0.8888888888888888,
              "#fdca26"
             ],
             [
              1,
              "#f0f921"
             ]
            ],
            "type": "surface"
           }
          ],
          "table": [
           {
            "cells": {
             "fill": {
              "color": "#EBF0F8"
             },
             "line": {
              "color": "white"
             }
            },
            "header": {
             "fill": {
              "color": "#C8D4E3"
             },
             "line": {
              "color": "white"
             }
            },
            "type": "table"
           }
          ]
         },
         "layout": {
          "annotationdefaults": {
           "arrowcolor": "#2a3f5f",
           "arrowhead": 0,
           "arrowwidth": 1
          },
          "coloraxis": {
           "colorbar": {
            "outlinewidth": 0,
            "ticks": ""
           }
          },
          "colorscale": {
           "diverging": [
            [
             0,
             "#8e0152"
            ],
            [
             0.1,
             "#c51b7d"
            ],
            [
             0.2,
             "#de77ae"
            ],
            [
             0.3,
             "#f1b6da"
            ],
            [
             0.4,
             "#fde0ef"
            ],
            [
             0.5,
             "#f7f7f7"
            ],
            [
             0.6,
             "#e6f5d0"
            ],
            [
             0.7,
             "#b8e186"
            ],
            [
             0.8,
             "#7fbc41"
            ],
            [
             0.9,
             "#4d9221"
            ],
            [
             1,
             "#276419"
            ]
           ],
           "sequential": [
            [
             0,
             "#0d0887"
            ],
            [
             0.1111111111111111,
             "#46039f"
            ],
            [
             0.2222222222222222,
             "#7201a8"
            ],
            [
             0.3333333333333333,
             "#9c179e"
            ],
            [
             0.4444444444444444,
             "#bd3786"
            ],
            [
             0.5555555555555556,
             "#d8576b"
            ],
            [
             0.6666666666666666,
             "#ed7953"
            ],
            [
             0.7777777777777778,
             "#fb9f3a"
            ],
            [
             0.8888888888888888,
             "#fdca26"
            ],
            [
             1,
             "#f0f921"
            ]
           ],
           "sequentialminus": [
            [
             0,
             "#0d0887"
            ],
            [
             0.1111111111111111,
             "#46039f"
            ],
            [
             0.2222222222222222,
             "#7201a8"
            ],
            [
             0.3333333333333333,
             "#9c179e"
            ],
            [
             0.4444444444444444,
             "#bd3786"
            ],
            [
             0.5555555555555556,
             "#d8576b"
            ],
            [
             0.6666666666666666,
             "#ed7953"
            ],
            [
             0.7777777777777778,
             "#fb9f3a"
            ],
            [
             0.8888888888888888,
             "#fdca26"
            ],
            [
             1,
             "#f0f921"
            ]
           ]
          },
          "colorway": [
           "#636efa",
           "#EF553B",
           "#00cc96",
           "#ab63fa",
           "#FFA15A",
           "#19d3f3",
           "#FF6692",
           "#B6E880",
           "#FF97FF",
           "#FECB52"
          ],
          "font": {
           "color": "#2a3f5f"
          },
          "geo": {
           "bgcolor": "white",
           "lakecolor": "white",
           "landcolor": "#E5ECF6",
           "showlakes": true,
           "showland": true,
           "subunitcolor": "white"
          },
          "hoverlabel": {
           "align": "left"
          },
          "hovermode": "closest",
          "mapbox": {
           "style": "light"
          },
          "paper_bgcolor": "white",
          "plot_bgcolor": "#E5ECF6",
          "polar": {
           "angularaxis": {
            "gridcolor": "white",
            "linecolor": "white",
            "ticks": ""
           },
           "bgcolor": "#E5ECF6",
           "radialaxis": {
            "gridcolor": "white",
            "linecolor": "white",
            "ticks": ""
           }
          },
          "scene": {
           "xaxis": {
            "backgroundcolor": "#E5ECF6",
            "gridcolor": "white",
            "gridwidth": 2,
            "linecolor": "white",
            "showbackground": true,
            "ticks": "",
            "zerolinecolor": "white"
           },
           "yaxis": {
            "backgroundcolor": "#E5ECF6",
            "gridcolor": "white",
            "gridwidth": 2,
            "linecolor": "white",
            "showbackground": true,
            "ticks": "",
            "zerolinecolor": "white"
           },
           "zaxis": {
            "backgroundcolor": "#E5ECF6",
            "gridcolor": "white",
            "gridwidth": 2,
            "linecolor": "white",
            "showbackground": true,
            "ticks": "",
            "zerolinecolor": "white"
           }
          },
          "shapedefaults": {
           "line": {
            "color": "#2a3f5f"
           }
          },
          "ternary": {
           "aaxis": {
            "gridcolor": "white",
            "linecolor": "white",
            "ticks": ""
           },
           "baxis": {
            "gridcolor": "white",
            "linecolor": "white",
            "ticks": ""
           },
           "bgcolor": "#E5ECF6",
           "caxis": {
            "gridcolor": "white",
            "linecolor": "white",
            "ticks": ""
           }
          },
          "title": {
           "x": 0.05
          },
          "xaxis": {
           "automargin": true,
           "gridcolor": "white",
           "linecolor": "white",
           "ticks": "",
           "title": {
            "standoff": 15
           },
           "zerolinecolor": "white",
           "zerolinewidth": 2
          },
          "yaxis": {
           "automargin": true,
           "gridcolor": "white",
           "linecolor": "white",
           "ticks": "",
           "title": {
            "standoff": 15
           },
           "zerolinecolor": "white",
           "zerolinewidth": 2
          }
         }
        },
        "title": {
         "font": {
          "color": "#4D5663"
         },
         "text": "Share of hispanic students vs. SAT score by Elite schools"
        },
        "xaxis": {
         "gridcolor": "#E1E5ED",
         "showgrid": true,
         "tickfont": {
          "color": "#4D5663"
         },
         "title": {
          "font": {
           "color": "#4D5663"
          },
          "text": "Share hispanics, %"
         },
         "zerolinecolor": "#E1E5ED"
        },
        "yaxis": {
         "gridcolor": "#E1E5ED",
         "showgrid": true,
         "tickfont": {
          "color": "#4D5663"
         },
         "title": {
          "font": {
           "color": "#4D5663"
          },
          "text": "Avg. SAT score"
         },
         "zerolinecolor": "#E1E5ED"
        }
       }
      },
      "text/html": [
       "<div>\n",
       "        \n",
       "        \n",
       "            <div id=\"5724f09d-d0f1-4172-bed8-6c74f42e6854\" class=\"plotly-graph-div\" style=\"height:525px; width:100%;\"></div>\n",
       "            <script type=\"text/javascript\">\n",
       "                require([\"plotly\"], function(Plotly) {\n",
       "                    window.PLOTLYENV=window.PLOTLYENV || {};\n",
       "                    window.PLOTLYENV.BASE_URL='https://plot.ly';\n",
       "                    \n",
       "                if (document.getElementById(\"5724f09d-d0f1-4172-bed8-6c74f42e6854\")) {\n",
       "                    Plotly.newPlot(\n",
       "                        '5724f09d-d0f1-4172-bed8-6c74f42e6854',\n",
       "                        [{\"marker\": {\"color\": \"rgba(255, 153, 51, 1.0)\", \"line\": {\"width\": 1.3}, \"opacity\": 0.8, \"size\": 12, \"symbol\": \"circle\"}, \"mode\": \"markers\", \"name\": \"Manhattan\", \"text\": [\"BARD HIGH SCHOOL EARLY COLLEGE\", \"STUYVESANT HIGH SCHOOL\", \"HIGH SCHOOL FOR MATHEMATICS, SCIENCE AND ENGINEERING AT CITY COLLEGE\"], \"textfont\": {\"color\": \"#4D5663\"}, \"type\": \"scatter\", \"x\": [18.2, 2.4, 21.2], \"y\": [1856.0, 2096.0, 1847.0]}, {\"marker\": {\"color\": \"rgba(55, 128, 191, 1.0)\", \"line\": {\"width\": 1.3}, \"opacity\": 0.8, \"size\": 12, \"symbol\": \"circle\"}, \"mode\": \"markers\", \"name\": \"Bronx\", \"text\": [\"BRONX HIGH SCHOOL OF SCIENCE\", \"HIGH SCHOOL OF AMERICAN STUDIES AT LEHMAN COLLEGE\"], \"textfont\": {\"color\": \"#4D5663\"}, \"type\": \"scatter\", \"x\": [7.2, 18.0], \"y\": [1969.0, 1920.0]}, {\"marker\": {\"color\": \"rgba(50, 171, 96, 1.0)\", \"line\": {\"width\": 1.3}, \"opacity\": 0.8, \"size\": 12, \"symbol\": \"circle\"}, \"mode\": \"markers\", \"name\": \"Brooklyn\", \"text\": [\"BROOKLYN TECHNICAL HIGH SCHOOL\"], \"textfont\": {\"color\": \"#4D5663\"}, \"type\": \"scatter\", \"x\": [7.9], \"y\": [1833.0]}, {\"marker\": {\"color\": \"rgba(128, 0, 128, 1.0)\", \"line\": {\"width\": 1.3}, \"opacity\": 0.8, \"size\": 12, \"symbol\": \"circle\"}, \"mode\": \"markers\", \"name\": \"Queens\", \"text\": [\"TOWNSEND HARRIS HIGH SCHOOL\", \"QUEENS HIGH SCHOOL FOR THE SCIENCES AT YORK COLLEGE\"], \"textfont\": {\"color\": \"#4D5663\"}, \"type\": \"scatter\", \"x\": [12.9, 7.9], \"y\": [1910.0, 1868.0]}, {\"marker\": {\"color\": \"rgba(219, 64, 82, 1.0)\", \"line\": {\"width\": 1.3}, \"opacity\": 0.8, \"size\": 12, \"symbol\": \"circle\"}, \"mode\": \"markers\", \"name\": \"Staten Island\", \"text\": [\"STATEN ISLAND TECHNICAL HIGH SCHOOL\"], \"textfont\": {\"color\": \"#4D5663\"}, \"type\": \"scatter\", \"x\": [5.3], \"y\": [1953.0]}],\n",
       "                        {\"legend\": {\"bgcolor\": \"#F5F6F9\", \"font\": {\"color\": \"#4D5663\"}}, \"paper_bgcolor\": \"#F5F6F9\", \"plot_bgcolor\": \"#F5F6F9\", \"template\": {\"data\": {\"bar\": [{\"error_x\": {\"color\": \"#2a3f5f\"}, \"error_y\": {\"color\": \"#2a3f5f\"}, \"marker\": {\"line\": {\"color\": \"#E5ECF6\", \"width\": 0.5}}, \"type\": \"bar\"}], \"barpolar\": [{\"marker\": {\"line\": {\"color\": \"#E5ECF6\", \"width\": 0.5}}, \"type\": \"barpolar\"}], \"carpet\": [{\"aaxis\": {\"endlinecolor\": \"#2a3f5f\", \"gridcolor\": \"white\", \"linecolor\": \"white\", \"minorgridcolor\": \"white\", \"startlinecolor\": \"#2a3f5f\"}, \"baxis\": {\"endlinecolor\": \"#2a3f5f\", \"gridcolor\": \"white\", \"linecolor\": \"white\", \"minorgridcolor\": \"white\", \"startlinecolor\": \"#2a3f5f\"}, \"type\": \"carpet\"}], \"choropleth\": [{\"colorbar\": {\"outlinewidth\": 0, \"ticks\": \"\"}, \"type\": \"choropleth\"}], \"contour\": [{\"colorbar\": {\"outlinewidth\": 0, \"ticks\": \"\"}, \"colorscale\": [[0.0, \"#0d0887\"], [0.1111111111111111, \"#46039f\"], [0.2222222222222222, \"#7201a8\"], [0.3333333333333333, \"#9c179e\"], [0.4444444444444444, \"#bd3786\"], [0.5555555555555556, \"#d8576b\"], [0.6666666666666666, \"#ed7953\"], [0.7777777777777778, \"#fb9f3a\"], [0.8888888888888888, \"#fdca26\"], [1.0, \"#f0f921\"]], \"type\": \"contour\"}], \"contourcarpet\": [{\"colorbar\": {\"outlinewidth\": 0, \"ticks\": \"\"}, \"type\": \"contourcarpet\"}], \"heatmap\": [{\"colorbar\": {\"outlinewidth\": 0, \"ticks\": \"\"}, \"colorscale\": [[0.0, \"#0d0887\"], [0.1111111111111111, \"#46039f\"], [0.2222222222222222, \"#7201a8\"], [0.3333333333333333, \"#9c179e\"], [0.4444444444444444, \"#bd3786\"], [0.5555555555555556, \"#d8576b\"], [0.6666666666666666, \"#ed7953\"], [0.7777777777777778, \"#fb9f3a\"], [0.8888888888888888, \"#fdca26\"], [1.0, \"#f0f921\"]], \"type\": \"heatmap\"}], \"heatmapgl\": [{\"colorbar\": {\"outlinewidth\": 0, \"ticks\": \"\"}, \"colorscale\": [[0.0, \"#0d0887\"], [0.1111111111111111, \"#46039f\"], [0.2222222222222222, \"#7201a8\"], [0.3333333333333333, \"#9c179e\"], [0.4444444444444444, \"#bd3786\"], [0.5555555555555556, \"#d8576b\"], [0.6666666666666666, \"#ed7953\"], [0.7777777777777778, \"#fb9f3a\"], [0.8888888888888888, \"#fdca26\"], [1.0, \"#f0f921\"]], \"type\": \"heatmapgl\"}], \"histogram\": [{\"marker\": {\"colorbar\": {\"outlinewidth\": 0, \"ticks\": \"\"}}, \"type\": \"histogram\"}], \"histogram2d\": [{\"colorbar\": {\"outlinewidth\": 0, \"ticks\": \"\"}, \"colorscale\": [[0.0, \"#0d0887\"], [0.1111111111111111, \"#46039f\"], [0.2222222222222222, \"#7201a8\"], [0.3333333333333333, \"#9c179e\"], [0.4444444444444444, \"#bd3786\"], [0.5555555555555556, \"#d8576b\"], [0.6666666666666666, \"#ed7953\"], [0.7777777777777778, \"#fb9f3a\"], [0.8888888888888888, \"#fdca26\"], [1.0, \"#f0f921\"]], \"type\": \"histogram2d\"}], \"histogram2dcontour\": [{\"colorbar\": {\"outlinewidth\": 0, \"ticks\": \"\"}, \"colorscale\": [[0.0, \"#0d0887\"], [0.1111111111111111, \"#46039f\"], [0.2222222222222222, \"#7201a8\"], [0.3333333333333333, \"#9c179e\"], [0.4444444444444444, \"#bd3786\"], [0.5555555555555556, \"#d8576b\"], [0.6666666666666666, \"#ed7953\"], [0.7777777777777778, \"#fb9f3a\"], [0.8888888888888888, \"#fdca26\"], [1.0, \"#f0f921\"]], \"type\": \"histogram2dcontour\"}], \"mesh3d\": [{\"colorbar\": {\"outlinewidth\": 0, \"ticks\": \"\"}, \"type\": \"mesh3d\"}], \"parcoords\": [{\"line\": {\"colorbar\": {\"outlinewidth\": 0, \"ticks\": \"\"}}, \"type\": \"parcoords\"}], \"pie\": [{\"automargin\": true, \"type\": \"pie\"}], \"scatter\": [{\"marker\": {\"colorbar\": {\"outlinewidth\": 0, \"ticks\": \"\"}}, \"type\": \"scatter\"}], \"scatter3d\": [{\"line\": {\"colorbar\": {\"outlinewidth\": 0, \"ticks\": \"\"}}, \"marker\": {\"colorbar\": {\"outlinewidth\": 0, \"ticks\": \"\"}}, \"type\": \"scatter3d\"}], \"scattercarpet\": [{\"marker\": {\"colorbar\": {\"outlinewidth\": 0, \"ticks\": \"\"}}, \"type\": \"scattercarpet\"}], \"scattergeo\": [{\"marker\": {\"colorbar\": {\"outlinewidth\": 0, \"ticks\": \"\"}}, \"type\": \"scattergeo\"}], \"scattergl\": [{\"marker\": {\"colorbar\": {\"outlinewidth\": 0, \"ticks\": \"\"}}, \"type\": \"scattergl\"}], \"scattermapbox\": [{\"marker\": {\"colorbar\": {\"outlinewidth\": 0, \"ticks\": \"\"}}, \"type\": \"scattermapbox\"}], \"scatterpolar\": [{\"marker\": {\"colorbar\": {\"outlinewidth\": 0, \"ticks\": \"\"}}, \"type\": \"scatterpolar\"}], \"scatterpolargl\": [{\"marker\": {\"colorbar\": {\"outlinewidth\": 0, \"ticks\": \"\"}}, \"type\": \"scatterpolargl\"}], \"scatterternary\": [{\"marker\": {\"colorbar\": {\"outlinewidth\": 0, \"ticks\": \"\"}}, \"type\": \"scatterternary\"}], \"surface\": [{\"colorbar\": {\"outlinewidth\": 0, \"ticks\": \"\"}, \"colorscale\": [[0.0, \"#0d0887\"], [0.1111111111111111, \"#46039f\"], [0.2222222222222222, \"#7201a8\"], [0.3333333333333333, \"#9c179e\"], [0.4444444444444444, \"#bd3786\"], [0.5555555555555556, \"#d8576b\"], [0.6666666666666666, \"#ed7953\"], [0.7777777777777778, \"#fb9f3a\"], [0.8888888888888888, \"#fdca26\"], [1.0, \"#f0f921\"]], \"type\": \"surface\"}], \"table\": [{\"cells\": {\"fill\": {\"color\": \"#EBF0F8\"}, \"line\": {\"color\": \"white\"}}, \"header\": {\"fill\": {\"color\": \"#C8D4E3\"}, \"line\": {\"color\": \"white\"}}, \"type\": \"table\"}]}, \"layout\": {\"annotationdefaults\": {\"arrowcolor\": \"#2a3f5f\", \"arrowhead\": 0, \"arrowwidth\": 1}, \"coloraxis\": {\"colorbar\": {\"outlinewidth\": 0, \"ticks\": \"\"}}, \"colorscale\": {\"diverging\": [[0, \"#8e0152\"], [0.1, \"#c51b7d\"], [0.2, \"#de77ae\"], [0.3, \"#f1b6da\"], [0.4, \"#fde0ef\"], [0.5, \"#f7f7f7\"], [0.6, \"#e6f5d0\"], [0.7, \"#b8e186\"], [0.8, \"#7fbc41\"], [0.9, \"#4d9221\"], [1, \"#276419\"]], \"sequential\": [[0.0, \"#0d0887\"], [0.1111111111111111, \"#46039f\"], [0.2222222222222222, \"#7201a8\"], [0.3333333333333333, \"#9c179e\"], [0.4444444444444444, \"#bd3786\"], [0.5555555555555556, \"#d8576b\"], [0.6666666666666666, \"#ed7953\"], [0.7777777777777778, \"#fb9f3a\"], [0.8888888888888888, \"#fdca26\"], [1.0, \"#f0f921\"]], \"sequentialminus\": [[0.0, \"#0d0887\"], [0.1111111111111111, \"#46039f\"], [0.2222222222222222, \"#7201a8\"], [0.3333333333333333, \"#9c179e\"], [0.4444444444444444, \"#bd3786\"], [0.5555555555555556, \"#d8576b\"], [0.6666666666666666, \"#ed7953\"], [0.7777777777777778, \"#fb9f3a\"], [0.8888888888888888, \"#fdca26\"], [1.0, \"#f0f921\"]]}, \"colorway\": [\"#636efa\", \"#EF553B\", \"#00cc96\", \"#ab63fa\", \"#FFA15A\", \"#19d3f3\", \"#FF6692\", \"#B6E880\", \"#FF97FF\", \"#FECB52\"], \"font\": {\"color\": \"#2a3f5f\"}, \"geo\": {\"bgcolor\": \"white\", \"lakecolor\": \"white\", \"landcolor\": \"#E5ECF6\", \"showlakes\": true, \"showland\": true, \"subunitcolor\": \"white\"}, \"hoverlabel\": {\"align\": \"left\"}, \"hovermode\": \"closest\", \"mapbox\": {\"style\": \"light\"}, \"paper_bgcolor\": \"white\", \"plot_bgcolor\": \"#E5ECF6\", \"polar\": {\"angularaxis\": {\"gridcolor\": \"white\", \"linecolor\": \"white\", \"ticks\": \"\"}, \"bgcolor\": \"#E5ECF6\", \"radialaxis\": {\"gridcolor\": \"white\", \"linecolor\": \"white\", \"ticks\": \"\"}}, \"scene\": {\"xaxis\": {\"backgroundcolor\": \"#E5ECF6\", \"gridcolor\": \"white\", \"gridwidth\": 2, \"linecolor\": \"white\", \"showbackground\": true, \"ticks\": \"\", \"zerolinecolor\": \"white\"}, \"yaxis\": {\"backgroundcolor\": \"#E5ECF6\", \"gridcolor\": \"white\", \"gridwidth\": 2, \"linecolor\": \"white\", \"showbackground\": true, \"ticks\": \"\", \"zerolinecolor\": \"white\"}, \"zaxis\": {\"backgroundcolor\": \"#E5ECF6\", \"gridcolor\": \"white\", \"gridwidth\": 2, \"linecolor\": \"white\", \"showbackground\": true, \"ticks\": \"\", \"zerolinecolor\": \"white\"}}, \"shapedefaults\": {\"line\": {\"color\": \"#2a3f5f\"}}, \"ternary\": {\"aaxis\": {\"gridcolor\": \"white\", \"linecolor\": \"white\", \"ticks\": \"\"}, \"baxis\": {\"gridcolor\": \"white\", \"linecolor\": \"white\", \"ticks\": \"\"}, \"bgcolor\": \"#E5ECF6\", \"caxis\": {\"gridcolor\": \"white\", \"linecolor\": \"white\", \"ticks\": \"\"}}, \"title\": {\"x\": 0.05}, \"xaxis\": {\"automargin\": true, \"gridcolor\": \"white\", \"linecolor\": \"white\", \"ticks\": \"\", \"title\": {\"standoff\": 15}, \"zerolinecolor\": \"white\", \"zerolinewidth\": 2}, \"yaxis\": {\"automargin\": true, \"gridcolor\": \"white\", \"linecolor\": \"white\", \"ticks\": \"\", \"title\": {\"standoff\": 15}, \"zerolinecolor\": \"white\", \"zerolinewidth\": 2}}}, \"title\": {\"font\": {\"color\": \"#4D5663\"}, \"text\": \"Share of hispanic students vs. SAT score by Elite schools\"}, \"xaxis\": {\"gridcolor\": \"#E1E5ED\", \"showgrid\": true, \"tickfont\": {\"color\": \"#4D5663\"}, \"title\": {\"font\": {\"color\": \"#4D5663\"}, \"text\": \"Share hispanics, %\"}, \"zerolinecolor\": \"#E1E5ED\"}, \"yaxis\": {\"gridcolor\": \"#E1E5ED\", \"showgrid\": true, \"tickfont\": {\"color\": \"#4D5663\"}, \"title\": {\"font\": {\"color\": \"#4D5663\"}, \"text\": \"Avg. SAT score\"}, \"zerolinecolor\": \"#E1E5ED\"}},\n",
       "                        {\"showLink\": true, \"linkText\": \"Export to plot.ly\", \"plotlyServerURL\": \"https://plot.ly\", \"responsive\": true}\n",
       "                    ).then(function(){\n",
       "                            \n",
       "var gd = document.getElementById('5724f09d-d0f1-4172-bed8-6c74f42e6854');\n",
       "var x = new MutationObserver(function (mutations, observer) {{\n",
       "        var display = window.getComputedStyle(gd).display;\n",
       "        if (!display || display === 'none') {{\n",
       "            console.log([gd, 'removed!']);\n",
       "            Plotly.purge(gd);\n",
       "            observer.disconnect();\n",
       "        }}\n",
       "}});\n",
       "\n",
       "// Listen for the removal of the full notebook cells\n",
       "var notebookContainer = gd.closest('#notebook-container');\n",
       "if (notebookContainer) {{\n",
       "    x.observe(notebookContainer, {childList: true});\n",
       "}}\n",
       "\n",
       "// Listen for the clearing of the current output cell\n",
       "var outputEl = gd.closest('.output');\n",
       "if (outputEl) {{\n",
       "    x.observe(outputEl, {childList: true});\n",
       "}}\n",
       "\n",
       "                        })\n",
       "                };\n",
       "                });\n",
       "            </script>\n",
       "        </div>"
      ]
     },
     "metadata": {},
     "output_type": "display_data"
    }
   ],
   "source": [
    "with warnings.catch_warnings(): # to catch warning about np.module in Python 3.8.2.\n",
    "    warnings.filterwarnings(\"ignore\",category=FutureWarning)\n",
    "    combined[high_rate].iplot(\n",
    "        x='hispanic_per',\n",
    "        y='sat_score',\n",
    "        categories='boro',\n",
    "        text=\"SCHOOL NAME\",\n",
    "        \n",
    "        xTitle='Share hispanics, %',\n",
    "        yTitle='Avg. SAT score',\n",
    "        title='Share of hispanic students vs. SAT score by Elite schools'\n",
    "    )"
   ]
  },
  {
   "cell_type": "markdown",
   "metadata": {},
   "source": [
    "Blacks and hispanics are evidently undernumbered in NYC's elite high schools, when white and especially asian students are in majority compared to all NYC high schools. As we can see above racial distribution in elite schools does not depend on district because there are elite schools in all five boroughs."
   ]
  },
  {
   "cell_type": "markdown",
   "metadata": {},
   "source": [
    "# Gender: Manhattan and Queens with predomination of female students"
   ]
  },
  {
   "cell_type": "code",
   "execution_count": 25,
   "metadata": {},
   "outputs": [
    {
     "data": {
      "image/png": "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\n",
      "text/plain": [
       "<Figure size 576x432 with 1 Axes>"
      ]
     },
     "metadata": {
      "needs_background": "light"
     },
     "output_type": "display_data"
    }
   ],
   "source": [
    "# build bar chart to visualize correlation between SAT and gender of students\n",
    "gendr_corr = correlations.loc[['male_per', 'female_per']]['sat_score']\n",
    "ax=gendr_corr.plot(kind='bar', figsize=(8, 6), title=\"Correlation of gender to SAT-scores\")\n",
    "ax.spines['right'].set_visible(False)\n",
    "ax.spines['top'].set_visible(False)\n",
    "for p in ax.patches: # set data point labels\n",
    "    ax.annotate(str(round(p.get_height(), 2)),\n",
    "                (p.get_x() + 0.2, max(p.get_height(), 0)+0.002),\n",
    "                rotation=0\n",
    "                )\n",
    "ax.axhline(y=0.0, color='black', linestyle='-', linewidth=1)\n",
    "plt.show()"
   ]
  },
  {
   "cell_type": "markdown",
   "metadata": {},
   "source": [
    "It appears that there is a weak correlation between each gender and SAT scores, positive one for female and negative for male students. That can be logical because female students generally prepare more responsible to the exams than man."
   ]
  },
  {
   "cell_type": "code",
   "execution_count": 26,
   "metadata": {},
   "outputs": [
    {
     "data": {
      "application/vnd.plotly.v1+json": {
       "config": {
        "linkText": "Export to plot.ly",
        "plotlyServerURL": "https://plot.ly",
        "showLink": true
       },
       "data": [
        {
         "marker": {
          "color": "rgba(255, 153, 51, 1.0)",
          "line": {
           "width": 1.3
          },
          "opacity": 0.8,
          "size": 12,
          "symbol": "circle"
         },
         "mode": "markers",
         "name": "Manhattan",
         "text": [
          "HENRY STREET SCHOOL FOR INTERNATIONAL STUDIES",
          "UNIVERSITY NEIGHBORHOOD HIGH SCHOOL",
          "EAST SIDE COMMUNITY SCHOOL",
          "MARTA VALLE HIGH SCHOOL",
          "NEW EXPLORATIONS INTO SCIENCE, TECHNOLOGY AND MATH HIGH SCHOOL",
          "BARD HIGH SCHOOL EARLY COLLEGE",
          "47 THE AMERICAN SIGN LANGUAGE AND ENGLISH SECONDARY SCHOOL",
          "FOOD AND FINANCE HIGH SCHOOL",
          "ESSEX STREET ACADEMY",
          "HIGH SCHOOL OF HOSPITALITY MANAGEMENT",
          "PACE HIGH SCHOOL",
          "URBAN ASSEMBLY SCHOOL OF DESIGN AND CONSTRUCTION, THE",
          "FACING HISTORY SCHOOL, THE",
          "URBAN ASSEMBLY ACADEMY OF GOVERNMENT AND LAW, THE",
          "LOWER MANHATTAN ARTS ACADEMY",
          "URBAN ASSEMBLY SCHOOL OF BUSINESS FOR YOUNG WOMEN, THE",
          "GRAMERCY ARTS HIGH SCHOOL",
          "NYC ISCHOOL",
          "MANHATTAN BUSINESS ACADEMY",
          "BUSINESS OF SPORTS SCHOOL",
          "THE HIGH SCHOOL FOR LANGUAGE AND DIPLOMACY",
          "HIGH SCHOOL FOR ENVIRONMENTAL STUDIES",
          "PROFESSIONAL PERFORMING ARTS HIGH SCHOOL",
          "BARUCH COLLEGE CAMPUS HIGH SCHOOL",
          "N.Y.C. LAB SCHOOL FOR COLLABORATIVE STUDIES",
          "N.Y.C. MUSEUM SCHOOL",
          "ELEANOR ROOSEVELT HIGH SCHOOL",
          "MILLENNIUM HIGH SCHOOL",
          "LANDMARK HIGH SCHOOL",
          "HIGH SCHOOL FOR HEALTH PROFESSIONS AND HUMAN SERVICES",
          "LEADERSHIP AND PUBLIC SERVICE HIGH SCHOOL",
          "MANHATTAN ACADEMY FOR ARTS & LANGUAGE",
          "HUDSON HIGH SCHOOL OF LEARNING TECHNOLOGIES",
          "INTERNATIONAL HIGH SCHOOL AT UNION SQUARE",
          "MANHATTAN VILLAGE ACADEMY",
          "VANGUARD HIGH SCHOOL",
          "MANHATTAN INTERNATIONAL HIGH SCHOOL",
          "STUYVESANT HIGH SCHOOL",
          "HIGH SCHOOL OF ECONOMICS AND FINANCE",
          "UNITY CENTER FOR URBAN TECHNOLOGIES",
          "TALENT UNLIMITED HIGH SCHOOL",
          "MURRY BERGTRAUM HIGH SCHOOL FOR BUSINESS CAREERS",
          "JACQUELINE KENNEDY ONASSIS HIGH SCHOOL",
          "REPERTORY COMPANY HIGH SCHOOL FOR THEATRE ARTS",
          "MANHATTAN BRIDGES HIGH SCHOOL",
          "NEW DESIGN HIGH SCHOOL",
          "HIGH SCHOOL FOR DUAL LANGUAGE AND ASIAN STUDIES",
          "THE URBAN ASSEMBLY NEW YORK HARBOR SCHOOL",
          "RICHARD R. GREEN HIGH SCHOOL OF TEACHING",
          "THE HIGH SCHOOL OF FASHION INDUSTRIES",
          "HUMANITIES PREPARATORY ACADEMY",
          "CHELSEA CAREER AND TECHNICAL EDUCATION HIGH SCHOOL",
          "ART AND DESIGN HIGH SCHOOL",
          "LIFE SCIENCES SECONDARY SCHOOL",
          "HIGH SCHOOL FOR ARTS, IMAGINATION AND INQUIRY",
          "URBAN ASSEMBLY SCHOOL FOR MEDIA STUDIES, THE",
          "THE URBAN ASSEMBLY SCHOOL FOR GREEN CAREERS",
          "THE GLOBAL LEARNING COLLABORATIVE",
          "WADLEIGH SECONDARY SCHOOL FOR THE PERFORMING & VISUAL ARTS",
          "FRANK MCCOURT HIGH SCHOOL",
          "BEACON HIGH SCHOOL",
          "FIORELLO H. LAGUARDIA HIGH SCHOOL OF MUSIC & ART AND PERFORMING ARTS",
          "HIGH SCHOOL FOR LAW, ADVOCACY AND COMMUNITY JUSTICE",
          "HIGH SCHOOL OF ARTS AND TECHNOLOGY",
          "MANHATTAN / HUNTER SCIENCE HIGH SCHOOL",
          "FREDERICK DOUGLASS ACADEMY II SECONDARY SCHOOL",
          "COALITION SCHOOL FOR SOCIAL CHANGE",
          "MANHATTAN CENTER FOR SCIENCE AND MATHEMATICS",
          "PARK EAST HIGH SCHOOL",
          "CENTRAL PARK EAST HIGH SCHOOL",
          "YOUNG WOMEN'S LEADERSHIP SCHOOL",
          "YOUNG WOMEN'S LEADERSHIP SCHOOL",
          "HERITAGE SCHOOL, THE",
          "MOTT HALL HIGH SCHOOL",
          "COLUMBIA SECONDARY SCHOOL FOR MATH, SCIENCE, AND ENGINEERING",
          "ACADEMY FOR SOCIAL ACTION: A COLLEGE BOARD SCHOOL",
          "URBAN ASSEMBLY SCHOOL FOR THE PERFORMING ARTS",
          "FREDERICK DOUGLASS ACADEMY",
          "THURGOOD MARSHALL ACADEMY FOR LEARNING AND SOCIAL CHANGE",
          "HIGH SCHOOL FOR MATHEMATICS, SCIENCE AND ENGINEERING AT CITY COLLEGE",
          "CITY COLLEGE ACADEMY OF THE ARTS",
          "COMMUNITY HEALTH ACADEMY OF THE HEIGHTS",
          "WASHINGTON HEIGHTS EXPEDITIONARY LEARNING SCHOOL",
          "HIGH SCHOOL FOR EXCELLENCE AND INNOVATION",
          "HIGH SCHOOL FOR INTERNATIONAL BUSINESS AND FINANCE",
          "HIGH SCHOOL FOR MEDIA AND COMMUNICATIONS",
          "HIGH SCHOOL FOR LAW AND PUBLIC SERVICE",
          "HIGH SCHOOL FOR HEALTH CAREERS AND SCIENCES",
          "A. PHILIP RANDOLPH CAMPUS HIGH SCHOOL",
          "GREGORIO LUPERON HIGH SCHOOL FOR SCIENCE AND MATHEMATICS"
         ],
         "textfont": {
          "color": "#4D5663"
         },
         "type": "scatter",
         "x": [
          38.6,
          42.6,
          45.3,
          53.7,
          50.8,
          68.7,
          57.5,
          55,
          46.6,
          67.8,
          56.3,
          25.1,
          49.4,
          56.1,
          60.1,
          100,
          73.7,
          51.3,
          41,
          27.6,
          52,
          49.6,
          74.7,
          56,
          53,
          57.6,
          67.5,
          61.8,
          51.5,
          70.6,
          53.9,
          45.1,
          39.4,
          38.6,
          61.5,
          53.8,
          55.7,
          40.7,
          45.5,
          37.6,
          78.6,
          50.9,
          59.4,
          78.8,
          48.6,
          61.7,
          48.7,
          39.1,
          67.4,
          92.7,
          57.3,
          35,
          53.3,
          48.4,
          44.3,
          42.1,
          43.1,
          48.6,
          61.6,
          53.4,
          61,
          73.6,
          59.9,
          32.3,
          58.9,
          45.8,
          55.6,
          53.6,
          57.9,
          67.9,
          100,
          100,
          51.4,
          46.5,
          50.4,
          51.3,
          74.6,
          47.8,
          55.9,
          34.2,
          60.4,
          47.7,
          44.2,
          47.2,
          36.2,
          36.5,
          41.4,
          47.3,
          50.1,
          51.1
         ],
         "y": [
          1122,
          1172,
          1149,
          1207,
          1621,
          1856,
          1182,
          1194,
          1156,
          1111,
          1293,
          1269,
          1051,
          1148,
          1200,
          1127,
          1176,
          1435,
          1223.4388059701494,
          1223.4388059701494,
          1223.4388059701494,
          1419,
          1522,
          1577,
          1677,
          1419,
          1758,
          1614,
          1170,
          1306,
          1233,
          1223.4388059701494,
          1223.4388059701494,
          1223.4388059701494,
          1372,
          1199,
          1227,
          2096,
          1374,
          1070,
          1416,
          1240,
          1239,
          1253,
          1058,
          1168,
          1424,
          1212,
          1195,
          1257,
          1255,
          1207,
          1315,
          1236,
          1132,
          1144,
          1223.4388059701494,
          1223.4388059701494,
          1109,
          1223.4388059701494,
          1744,
          1707,
          1196,
          1277,
          1446,
          1096,
          1084,
          1430,
          1128,
          1221,
          1326,
          1326,
          1054,
          1210,
          1223.4388059701494,
          1062,
          1077,
          1374,
          1202,
          1847,
          1270,
          1105,
          1174,
          1223.4388059701494,
          1127,
          1098,
          1102,
          1224,
          1309,
          1014
         ]
        },
        {
         "marker": {
          "color": "rgba(55, 128, 191, 1.0)",
          "line": {
           "width": 1.3
          },
          "opacity": 0.8,
          "size": 12,
          "symbol": "circle"
         },
         "mode": "markers",
         "name": "Bronx",
         "text": [
          "SOUTH BRONX PREPARATORY: A COLLEGE BOARD SCHOOL",
          "INTERNATIONAL COMMUNITY HIGH SCHOOL",
          "COMMUNITY SCHOOL FOR SOCIAL JUSTICE",
          "MOTT HAVEN VILLAGE PREPARATORY HIGH SCHOOL",
          "UNIVERSITY HEIGHTS SECONDARY SCHOOL",
          "HOSTOSsLINCOLN ACADEMY OF SCIENCE",
          "FOREIGN LANGUAGE ACADEMY OF GLOBAL STUDIES",
          "BRONX LEADERSHIP ACADEMY II HIGH SCHOOL",
          "NEW EXPLORERS HIGH SCHOOL",
          "URBAN ASSEMBLY SCHOOL FOR CAREERS IN SPORTS",
          "BRONX ACADEMY OF LETTERS",
          "ALFRED E. SMITH CAREER AND TECHNICAL EDUCATION HIGH SCHOOL",
          "HEALTH OPPORTUNITIES HIGH SCHOOL",
          "BRONX STUDIO SCHOOL FOR WRITERS AND ARTISTS",
          "WOMEN'S ACADEMY OF EXCELLENCE",
          "RENAISSANCE HIGH SCHOOL FOR MUSICAL THEATER & TECHNOLOGY",
          "PABLO NERUDA ACADEMY FOR ARCHITECTURE AND WORLD STUDIES",
          "MILLENNIUM ART ACADEMY",
          "HOLCOMBE L. RUCKER SCHOOL OF COMMUNITY RESEARCH",
          "ANTONIA PANTOJA PREPARATORY ACADEMY, A COLLEGE BOARD SCHOOL",
          "HERBERT H. LEHMAN HIGH SCHOOL",
          "BRONX BRIDGES HIGH SCHOOL",
          "FELISA RINCON DE GAUTIER INSTITUTE FOR LAW AND PUBLIC POLICY, THE",
          "BANANA KELLY HIGH SCHOOL",
          "BRONX EXPEDITIONARY LEARNING HIGH SCHOOL",
          "EAGLE ACADEMY FOR YOUNG MEN",
          "URBAN ASSEMBLY SCHOOL FOR APPLIED MATH AND SCIENCE, THE",
          "EXIMIUS COLLEGE PREPARATORY ACADEMY: A COLLEGE BOARD SCHOOL",
          "MOTT HALL BRONX HIGH SCHOOL",
          "BRONX CENTER FOR SCIENCE AND MATHEMATICS",
          "VALIDUS PREPARATORY ACADEMY: AN EXPEDITIONARY LEARNING SCHOOL",
          "LEADERSHIP INSTITUTE",
          "MORRIS ACADEMY FOR COLLABORATIVE STUDIES",
          "BRONX EARLY COLLEGE ACADEMY FOR TEACHING & LEARNING",
          "DREAMYARD PREPARATORY SCHOOL",
          "ACADEMY FOR LANGUAGE AND TECHNOLOGY",
          "BRONX INTERNATIONAL HIGH SCHOOL",
          "SCHOOL FOR EXCELLENCE",
          "BRONX HIGH SCHOOL OF BUSINESS",
          "BRONX HIGH SCHOOL FOR MEDICAL SCIENCE",
          "BRONX SCHOOL FOR LAW, GOVERNMENT AND JUSTICE",
          "FREDERICK DOUGLASS ACADEMY III SECONDARY SCHOOL",
          "BRONX LEADERSHIP ACADEMY HIGH SCHOOL",
          "HIGH SCHOOL FOR VIOLIN AND DANCE",
          "RIVERDALE / KINGSBRIDGE ACADEMY (MIDDLE SCHOOL / HIGH SCHOOL 141)",
          "BRONX ENGINEERING AND TECHNOLOGY ACADEMY",
          "THEATRE ARTS PRODUCTION COMPANY SCHOOL",
          "THE MARIE CURIE SCHOOL FOR MEDICINE, NURSING, AND HEALTH PROFESSIONS",
          "WEST BRONX ACADEMY FOR THE FUTURE",
          "KINGSBRIDGE INTERNATIONAL HIGH SCHOOL",
          "BRONX SCHOOL OF LAW AND FINANCE",
          "INTERNATIONAL SCHOOL FOR LIBERAL ARTS",
          "INsTECH ACADEMY (M.S. / HIGH SCHOOL 368)",
          "KNOWLEDGE AND POWER PREPARATORY ACADEMY INTERNATIONAL HIGH SCHOOL (KAPPA)",
          "HIGH SCHOOL FOR TEACHING AND THE PROFESSIONS",
          "BELMONT PREPARATORY HIGH SCHOOL",
          "FORDHAM HIGH SCHOOL FOR THE ARTS",
          "FORDHAM LEADERSHIP ACADEMY FOR BUSINESS AND TECHNOLOGY",
          "BRONX HIGH SCHOOL FOR LAW AND COMMUNITY SERVICE",
          "DEWITT CLINTON HIGH SCHOOL",
          "CELIA CRUZ BRONX HIGH SCHOOL OF MUSIC, THE",
          "BRONX HIGH SCHOOL OF SCIENCE",
          "MARBLE HILL HIGH SCHOOL FOR INTERNATIONAL STUDIES",
          "BRONX THEATRE HIGH SCHOOL",
          "DISCOVERY HIGH SCHOOL",
          "HIGH SCHOOL OF AMERICAN STUDIES AT LEHMAN COLLEGE",
          "BRONX HEALTH SCIENCES HIGH SCHOOL",
          "BRONX HIGH SCHOOL FOR WRITING AND COMMUNICATION ARTS",
          "BRONX LAB SCHOOL",
          "ACADEMY FOR SCHOLARSHIP AND ENTREPRENEURSHIP: A COLLEGE BOARD SCHOOL",
          "HIGH SCHOOL OF COMPUTERS AND TECHNOLOGY",
          "COLLEGIATE INSTITUTE FOR MATH AND SCIENCE",
          "BRONX ACADEMY OF HEALTH CAREERS",
          "ASTOR COLLEGIATE ACADEMY",
          "BRONX HIGH SCHOOL FOR THE VISUAL ARTS",
          "HARRY S TRUMAN HIGH SCHOOL",
          "NEW WORLD HIGH SCHOOL",
          "THE BRONXWOOD PREPARATORY ACADEMY",
          "PELHAM PREPARATORY ACADEMY",
          "HIGH SCHOOL FOR CONTEMPORARY ARTS",
          "BRONX AEROSPACE HIGH SCHOOL",
          "METROPOLITAN HIGH SCHOOL, THE",
          "EXPLORATIONS ACADEMY",
          "BRONX LATIN",
          "EAST BRONX ACADEMY FOR THE FUTURE",
          "PEACE AND DIVERSITY ACADEMY",
          "PAN AMERICAN INTERNATIONAL HIGH SCHOOL AT MONROE",
          "THE CINEMA SCHOOL",
          "BRONX CAREER AND COLLEGE PREPARATORY HIGH SCHOOL",
          "HIGH SCHOOL OF WORLD CULTURES",
          "FANNIE LOU HAMER FREEDOM HIGH SCHOOL",
          "WINGS ACADEMY",
          "MONROE ACADEMY FOR VISUAL ARTS & DESIGN"
         ],
         "textfont": {
          "color": "#4D5663"
         },
         "type": "scatter",
         "x": [
          52.6,
          51.4,
          50.8,
          49.9,
          56.8,
          54.8,
          54.7,
          46,
          42.3,
          15.7,
          55.5,
          7.3,
          71.4,
          56,
          99.7,
          62,
          34,
          50.8,
          50.8,
          53,
          38.9,
          47.7,
          57,
          50.1,
          49.9,
          0,
          50.7,
          53.4,
          54,
          53.8,
          55.9,
          47.8,
          46.2,
          51.5,
          55.9,
          51.2,
          54.3,
          47.7,
          45.1,
          57.8,
          54.1,
          48.5,
          56.7,
          85.4,
          48.2,
          17.3,
          69.1,
          83.5,
          42.1,
          47.7,
          43.4,
          51,
          51.1,
          52.8,
          57.7,
          52.8,
          56.8,
          36.6,
          55.6,
          48.9,
          59.3,
          42.2,
          53.3,
          67.9,
          47.6,
          46.2,
          64.7,
          59.2,
          40.5,
          48,
          12.7,
          42.9,
          67.3,
          41.4,
          42,
          40,
          50,
          38.7,
          51.9,
          44.7,
          17.5,
          46,
          49.2,
          50.2,
          47,
          55,
          48.5,
          59.2,
          55.7,
          48,
          45.9,
          46.3,
          47.4
         ],
         "y": [
          1090,
          945,
          1077,
          1097,
          1201,
          1257,
          1186,
          1103,
          1084,
          1181,
          1201,
          1158,
          1095,
          1223.4388059701494,
          1171,
          1158,
          1038,
          1164,
          1084,
          1223.4388059701494,
          1241,
          1223.4388059701494,
          1099,
          1131,
          1049,
          1134,
          1290,
          1169,
          1092,
          1396,
          1075,
          1081,
          1148,
          1223.4388059701494,
          1138,
          951,
          965,
          1074,
          1083,
          1221,
          1224,
          1121,
          1166,
          1039,
          1333,
          1150,
          1190,
          1157,
          1158,
          962,
          1182,
          934,
          1181,
          1180,
          1106,
          1222,
          1077,
          1119,
          1082,
          1255,
          1270,
          1969,
          1263,
          1064,
          1115,
          1920,
          1133,
          1147,
          1135,
          1141,
          1111,
          1348,
          1135,
          1169,
          1268,
          1151,
          1048,
          1112,
          1288,
          1126,
          1163,
          1055,
          1122,
          1251,
          1102,
          1155,
          970,
          1223.4388059701494,
          1223.4388059701494,
          939,
          1029,
          1114,
          1038
         ]
        },
        {
         "marker": {
          "color": "rgba(50, 171, 96, 1.0)",
          "line": {
           "width": 1.3
          },
          "opacity": 0.8,
          "size": 12,
          "symbol": "circle"
         },
         "mode": "markers",
         "name": "Brooklyn",
         "text": [
          "DR. SUSAN S. MCKINNEY SECONDARY SCHOOL OF THE ARTS",
          "URBAN ASSEMBLY HIGH SCHOOL OF MUSIC AND ART",
          "BROOKLYN COMMUNITY HIGH SCHOOL OF COMMUNICATION, ARTS AND MEDIA",
          "SCIENCE SKILLS CENTER HIGH SCHOOL FOR SCIENCE, TECHNOLOGY AND THE CREATIVE ARTS",
          "BROOKLYN TECHNICAL HIGH SCHOOL",
          "BROOKLYN INTERNATIONAL HIGH SCHOOL",
          "THE URBAN ASSEMBLY SCHOOL FOR LAW AND JUSTICE",
          "ACORN COMMUNITY HIGH SCHOOL",
          "URBAN ASSEMBLY INSTITUTE OF MATH AND SCIENCE FOR YOUNG WOMEN",
          "BEDFORD ACADEMY HIGH SCHOOL",
          "GEORGE WESTINGHOUSE CAREER AND TECHNICAL EDUCATION HIGH SCHOOL",
          "BENJAMIN BANNEKER ACADEMY",
          "CITY POLYTECHNIC HIGH SCHOOL OF ENGINEERING, ARCHITECTURE, AND TECHNOLOGY",
          "JUAN MOREL CAMPOS SECONDARY SCHOOL",
          "FOUNDATIONS ACADEMY",
          "BROOKLYN LATIN SCHOOL, THE",
          "GREEN SCHOOL: AN ACADEMY FOR ENVIRONMENTAL CAREERS",
          "PROGRESS HIGH SCHOOL FOR PROFESSIONAL CAREERS",
          "SCHOOL FOR LEGAL STUDIES",
          "THE HIGH SCHOOL FOR ENTERPRISE, BUSINESS AND TECHNOLOGY",
          "BROOKLYN PREPARATORY HIGH SCHOOL",
          "WILLIAMSBURG HIGH SCHOOL FOR ARCHITECTURE AND DESIGN",
          "WILLIAMSBURG PREPARATORY SCHOOL",
          "LYONS COMMUNITY SCHOOL",
          "AUTOMOTIVE HIGH SCHOOL",
          "FRANCES PERKINS ACADEMY",
          "EL PUENTE ACADEMY FOR PEACE AND JUSTICE",
          "BROOKLYN SCHOOL FOR GLOBAL STUDIES",
          "BROOKLYN SECONDARY SCHOOL FOR COLLABORATIVE STUDIES",
          "SECONDARY SCHOOL FOR LAW",
          "SECONDARY SCHOOL FOR JOURNALISM",
          "PARK SLOPE COLLEGIATE",
          "SCHOOL FOR INTERNATIONAL STUDIES",
          "COBBLE HILL SCHOOL OF AMERICAN STUDIES",
          "BROOKLYN HIGH SCHOOL OF THE ARTS",
          "SUNSET PARK HIGH SCHOOL",
          "FREDERICK DOUGLASS ACADEMY IV SECONDARY SCHOOL",
          "BOYS AND GIRLS HIGH SCHOOL",
          "BROOKLYN HIGH SCHOOL FOR LAW AND TECHNOLOGY",
          "THE BROOKLYN ACADEMY OF GLOBAL FINANCE",
          "ACADEMY FOR COLLEGE PREPARATION AND CAREER EXPLORATION: A COLLEGE BOARD SCHOOL",
          "ACADEMY OF HOSPITALITY AND TOURISM",
          "INTERNATIONAL HIGH SCHOOL AT PROSPECT HEIGHTS",
          "THE HIGH SCHOOL FOR GLOBAL CITIZENSHIP",
          "SCHOOL FOR HUMAN RIGHTS, THE",
          "SCHOOL FOR DEMOCRACY AND LEADERSHIP",
          "HIGH SCHOOL FOR YOUTH AND COMMUNITY DEVELOPMENT AT ERASMUS",
          "HIGH SCHOOL FOR SERVICE & LEARNING AT ERASMUS",
          "SCIENCE, TECHNOLOGY AND RESEARCH EARLY COLLEGE HIGH SCHOOL AT ERASMUS",
          "HIGH SCHOOL FOR PUBLIC SERVICE: HEROES OF TOMORROW",
          "BROOKLYN ACADEMY OF SCIENCE AND THE ENVIRONMENT",
          "BROOKLYN SCHOOL FOR MUSIC & THEATRE",
          "MEDGAR EVERS COLLEGE PREPARATORY SCHOOL",
          "CLARA BARTON HIGH SCHOOL",
          "IT TAKES A VILLAGE ACADEMY",
          "BROOKLYN GENERATION SCHOOL",
          "BROOKLYN THEATRE ARTS HIGH SCHOOL",
          "KURT HAHN EXPEDITIONARY LEARNING SCHOOL",
          "VICTORY COLLEGIATE HIGH SCHOOL",
          "ARTS & MEDIA PREPARATORY ACADEMY",
          "HIGH SCHOOL FOR INNOVATION IN ADVERTISING AND MEDIA",
          "CULTURAL ACADEMY FOR THE ARTS AND SCIENCES",
          "HIGH SCHOOL FOR MEDICAL PROFESSIONS",
          "ACADEMY FOR CONSERVATION AND THE ENVIRONMENT",
          "URBAN ACTION ACADEMY",
          "EAST NEW YORK FAMILY ACADEMY",
          "FDNY HIGH SCHOOL FOR FIRE AND LIFE SAFETY",
          "HIGH SCHOOL FOR CIVIL RIGHTS",
          "PERFORMING ARTS AND TECHNOLOGY HIGH SCHOOL",
          "WORLD ACADEMY FOR TOTAL COMMUNITY HEALTH HIGH SCHOOL",
          "MULTICULTURAL HIGH SCHOOL",
          "TRANSIT TECH CAREER AND TECHNICAL EDUCATION HIGH SCHOOL",
          "ACADEMY OF INNOVATIVE TECHNOLOGY",
          "BROOKLYN LAB SCHOOL",
          "CYPRESS HILLS COLLEGIATE PREPARATORY SCHOOL",
          "W. H. MAXWELL CAREER AND TECHNICAL EDUCATION HIGH SCHOOL",
          "THE SCHOOL FOR CLASSICS: AN ACADEMY OF THINKERS, WRITERS AND PERFORMERS",
          "NEW UTRECHT HIGH SCHOOL",
          "HIGH SCHOOL OF TELECOMMUNICATION ARTS AND TECHNOLOGY",
          "FORT HAMILTON HIGH SCHOOL",
          "FRANKLIN DELANO ROOSEVELT HIGH SCHOOL",
          "THE URBAN ASSEMBLY SCHOOL FOR CRIMINAL JUSTICE",
          "INTERNATIONAL HIGH SCHOOL AT LAFAYETTE",
          "RACHEL CARSON HIGH SCHOOL FOR COASTAL STUDIES",
          "HIGH SCHOOL OF SPORTS MANAGEMENT",
          "ABRAHAM LINCOLN HIGH SCHOOL",
          "KINGSBOROUGH EARLY COLLEGE SCHOOL",
          "EDWARD R. MURROW HIGH SCHOOL",
          "JOHN DEWEY HIGH SCHOOL",
          "LIFE ACADEMY HIGH SCHOOL FOR FILM AND MUSIC",
          "EXPEDITIONARY LEARNING SCHOOL FOR COMMUNITY LEADERS",
          "WILLIAM E. GRADY CAREER AND TECHNICAL EDUCATION HIGH SCHOOL",
          "BROOKLYN STUDIO SECONDARY SCHOOL",
          "MIDWOOD HIGH SCHOOL",
          "JAMES MADISON HIGH SCHOOL",
          "LEON M. GOLDSTEIN HIGH SCHOOL FOR THE SCIENCES",
          "BROOKLYN COLLEGE ACADEMY",
          "BROOKLYN COLLEGIATE: A COLLEGE BOARD SCHOOL",
          "FREDERICK DOUGLASS ACADEMY VII HIGH SCHOOL",
          "TEACHERS PREPARATORY HIGH SCHOOL",
          "ACADEMY FOR ENVIRONMENTAL LEADERSHIP",
          "EBC HIGH SCHOOL FOR PUBLIC SERVICE–BUSHWICK",
          "BUSHWICK SCHOOL FOR SOCIAL JUSTICE",
          "ACADEMY OF URBAN PLANNING",
          "ALL CITY LEADERSHIP SECONDARY SCHOOL",
          "BUSHWICK LEADERS HIGH SCHOOL FOR ACADEMIC EXCELLENCE"
         ],
         "textfont": {
          "color": "#4D5663"
         },
         "type": "scatter",
         "x": [
          63,
          57.3,
          54.5,
          43.9,
          41.7,
          51.8,
          60.4,
          44.2,
          100,
          51,
          24.5,
          53.9,
          20.6,
          45.3,
          43.3,
          45.1,
          53.8,
          51.5,
          54.2,
          34.3,
          52.2,
          27.4,
          49,
          46.3,
          4.4,
          23.1,
          57.3,
          43.8,
          40.9,
          55.8,
          57.7,
          47.2,
          49.2,
          56.1,
          66.1,
          49.3,
          51.3,
          38.3,
          48.4,
          48.4,
          46.2,
          50.2,
          40.9,
          49.9,
          48.4,
          48,
          38.4,
          36.7,
          47,
          75.1,
          45.6,
          67.2,
          58.2,
          76.2,
          51,
          39,
          63.9,
          35.7,
          51.1,
          52.6,
          33.5,
          48.5,
          78.5,
          45.3,
          37.4,
          56.8,
          18.9,
          45.6,
          48.6,
          63.2,
          50.2,
          15.9,
          29.7,
          41.6,
          52.2,
          70.2,
          62.4,
          40.7,
          46.5,
          46.6,
          41.6,
          100,
          41.1,
          46.4,
          11.1,
          43.6,
          42.2,
          57.6,
          48.5,
          49,
          48.7,
          22,
          49.9,
          54.7,
          45.6,
          58.8,
          63.7,
          49.3,
          51.5,
          65.9,
          50,
          47.9,
          51.6,
          45.5,
          47.9,
          46.8
         ],
         "y": [
          1074,
          1080,
          1114,
          1211,
          1833,
          981,
          1206,
          1116,
          1223.4388059701494,
          1312,
          1189,
          1391,
          1353,
          1085,
          1223.4388059701494,
          1740,
          1189,
          1114,
          1204,
          1215,
          1090,
          1112,
          1187,
          1103,
          1093,
          1122,
          1035,
          1111,
          1179,
          1203,
          1169,
          1175,
          1212,
          1185,
          1258,
          1223.4388059701494,
          1068,
          1097,
          1092,
          1223.4388059701494,
          1139,
          1045,
          913,
          1176,
          1088,
          1153,
          1027,
          1105,
          1360,
          1273,
          1143,
          1151,
          1436,
          1251,
          963,
          1145,
          1118,
          1092,
          1143,
          1080,
          1183,
          1169,
          1159,
          1111,
          1135,
          1242,
          1023,
          1054,
          1149,
          1106,
          887,
          1193,
          1096,
          1108,
          1129,
          1102,
          1157,
          1272,
          1323,
          1306,
          1244,
          1223.4388059701494,
          1026,
          1237,
          1164,
          1226,
          1223.4388059701494,
          1431,
          1262,
          1124,
          1079,
          1184,
          1313,
          1473,
          1350,
          1627,
          1352,
          1185,
          1091,
          1196,
          1098,
          1154,
          1035,
          1060,
          1315,
          1055
         ]
        },
        {
         "marker": {
          "color": "rgba(128, 0, 128, 1.0)",
          "line": {
           "width": 1.3
          },
          "opacity": 0.8,
          "size": 12,
          "symbol": "circle"
         },
         "mode": "markers",
         "name": "Queens",
         "text": [
          "ACADEMY OF FINANCE AND ENTERPRISE",
          "HIGH SCHOOL OF APPLIED COMMUNICATION",
          "CIVIC LEADERSHIP ACADEMY",
          "PAN AMERICAN INTERNATIONAL HIGH SCHOOL",
          "BARD HIGH SCHOOL EARLY COLLEGE II",
          "NEWTOWN HIGH SCHOOL",
          "GROVER CLEVELAND HIGH SCHOOL",
          "MIDDLE COLLEGE HIGH SCHOOL AT LAGUARDIA COMMUNITY COLLEGE",
          "INTERNATIONAL HIGH SCHOOL AT LAGUARDIA COMMUNITY COLLEGE",
          "HIGH SCHOOL FOR ARTS AND BUSINESS",
          "ROBERT F. WAGNER, JR. SECONDARY SCHOOL FOR ARTS AND TECHNOLOGY",
          "QUEENS VOCATIONAL AND TECHNICAL HIGH SCHOOL",
          "AVIATION CAREER & TECHNICAL EDUCATION HIGH SCHOOL",
          "QUEENS SCHOOL OF INQUIRY, THE",
          "FLUSHING INTERNATIONAL HIGH SCHOOL",
          "EASTsWEST SCHOOL OF INTERNATIONAL STUDIES",
          "WORLD JOURNALISM PREPARATORY: A COLLEGE BOARD SCHOOL",
          "JOHN BOWNE HIGH SCHOOL",
          "FLUSHING HIGH SCHOOL",
          "TOWNSEND HARRIS HIGH SCHOOL",
          "ROBERT F. KENNEDY COMMUNITY HIGH SCHOOL",
          "BENJAMIN N. CARDOZO HIGH SCHOOL",
          "FRANCIS LEWIS HIGH SCHOOL",
          "MARTIN VAN BUREN HIGH SCHOOL",
          "BAYSIDE HIGH SCHOOL",
          "QUEENS HIGH SCHOOL OF TEACHING, LIBERAL ARTS AND THE SCIENCES",
          "FREDERICK DOUGLASS ACADEMY VI HIGH SCHOOL",
          "CHANNEL VIEW SCHOOL FOR RESEARCH",
          "QUEENS HIGH SCHOOL FOR INFORMATION, RESEARCH, AND TECHNOLOGY",
          "ROBERT H. GODDARD HIGH SCHOOL OF COMMUNICATION ARTS AND TECHNOLOGY",
          "ACADEMY OF MEDICAL TECHNOLOGY: A COLLEGE BOARD SCHOOL",
          "SCHOLARS' ACADEMY",
          "AUGUST MARTIN HIGH SCHOOL",
          "RICHMOND HILL HIGH SCHOOL",
          "JOHN ADAMS HIGH SCHOOL",
          "HIGH SCHOOL FOR CONSTRUCTION TRADES, ENGINEERING AND ARCHITECTURE",
          "YORK EARLY COLLEGE ACADEMY",
          "QUEENS COLLEGIATE: A COLLEGE BOARD SCHOOL",
          "HILLSIDE ARTS & LETTERS ACADEMY",
          "FOREST HILLS HIGH SCHOOL",
          "HILLCREST HIGH SCHOOL",
          "THOMAS A. EDISON CAREER AND TECHNICAL EDUCATION HIGH SCHOOL",
          "QUEENS GATEWAY TO HEALTH SCIENCES SECONDARY SCHOOL",
          "QUEENS METROPOLITAN HIGH SCHOOL",
          "QUEENS HIGH SCHOOL FOR THE SCIENCES AT YORK COLLEGE",
          "HIGH SCHOOL FOR LAW ENFORCEMENT AND PUBLIC SAFETY",
          "YOUNG WOMEN'S LEADERSHIP SCHOOL, QUEENS",
          "QUEENS PREPARATORY ACADEMY",
          "PATHWAYS COLLEGE PREPARATORY SCHOOL: A COLLEGE BOARD SCHOOL",
          "EXCELSIOR PREPARATORY HIGH SCHOOL",
          "GEORGE WASHINGTON CARVER HIGH SCHOOL FOR THE SCIENCES",
          "PREPARATORY ACADEMY FOR WRITERS: A COLLEGE BOARD SCHOOL",
          "CAMBRIA HEIGHTS ACADEMY",
          "MATHEMATICS, SCIENCE RESEARCH AND TECHNOLOGY MAGNET HIGH SCHOOL",
          "HUMANITIES & ARTS MAGNET HIGH SCHOOL",
          "YOUNG WOMEN'S LEADERSHIP SCHOOL, ASTORIA",
          "ACADEMY FOR CAREERS IN TELEVISION AND FILM",
          "WILLIAM CULLEN BRYANT HIGH SCHOOL",
          "LONG ISLAND CITY HIGH SCHOOL",
          "FRANK SINATRA SCHOOL OF THE ARTS HIGH SCHOOL",
          "INFORMATION TECHNOLOGY HIGH SCHOOL",
          "NEWCOMERS HIGH SCHOOL",
          "ACADEMY OF AMERICAN STUDIES",
          "BACCALAUREATE SCHOOL FOR GLOBAL EDUCATION"
         ],
         "textfont": {
          "color": "#4D5663"
         },
         "type": "scatter",
         "x": [
          50.7,
          56.2,
          55.5,
          52.2,
          60.7,
          42.5,
          45,
          47.1,
          54,
          56.9,
          53.4,
          39.7,
          14.7,
          53.3,
          42.7,
          45.9,
          57.8,
          50.8,
          44.2,
          71.1,
          46.2,
          52.6,
          50.8,
          45.7,
          50.6,
          54.2,
          47.4,
          48.9,
          45.5,
          51.9,
          56.2,
          56.1,
          44.8,
          47,
          45.5,
          32.7,
          48.9,
          50.1,
          53,
          51.9,
          53.9,
          34.9,
          61.9,
          50.4,
          43.5,
          47,
          100,
          44,
          46.7,
          43.1,
          52.7,
          56.9,
          44.9,
          39.6,
          57.2,
          100,
          46.8,
          46.3,
          48.7,
          70,
          28.2,
          46.8,
          55,
          55.2
         ],
         "y": [
          1280,
          1219,
          1240,
          951,
          1663,
          1203,
          1211,
          1177,
          1064,
          1174,
          1330,
          1270,
          1364,
          1396,
          1049,
          1271,
          1441,
          1243,
          1216,
          1910,
          1330,
          1514,
          1474,
          1172,
          1449,
          1279,
          1145,
          1252,
          1156,
          1265,
          1094,
          1532,
          1108,
          1154,
          1192,
          1345,
          1223.4388059701494,
          1265,
          1223.4388059701494,
          1407,
          1194,
          1372,
          1538,
          1223.4388059701494,
          1868,
          1196,
          1316,
          1099,
          1173,
          1202,
          1287,
          1100,
          1223.4388059701494,
          1220,
          1151,
          1223.4388059701494,
          1255,
          1275,
          1218,
          1494,
          1239,
          1127,
          1470,
          1636
         ]
        },
        {
         "marker": {
          "color": "rgba(219, 64, 82, 1.0)",
          "line": {
           "width": 1.3
          },
          "opacity": 0.8,
          "size": 12,
          "symbol": "circle"
         },
         "mode": "markers",
         "name": "Staten Island",
         "text": [
          "CSI HIGH SCHOOL FOR INTERNATIONAL STUDIES",
          "GAYNOR MCCOWN EXPEDITIONARY LEARNING SCHOOL",
          "THE MICHAEL J. PETRIDES SCHOOL",
          "NEW DORP HIGH SCHOOL",
          "PORT RICHMOND HIGH SCHOOL",
          "CURTIS HIGH SCHOOL",
          "TOTTENVILLE HIGH SCHOOL",
          "SUSAN E. WAGNER HIGH SCHOOL",
          "RALPH R. MCKEE CAREER AND TECHNICAL EDUCATION HIGH SCHOOL",
          "STATEN ISLAND TECHNICAL HIGH SCHOOL"
         ],
         "textfont": {
          "color": "#4D5663"
         },
         "type": "scatter",
         "x": [
          58.5,
          48,
          50.8,
          47.5,
          45.2,
          53.6,
          50.4,
          49.2,
          32.9,
          43
         ],
         "y": [
          1353,
          1195,
          1426,
          1277,
          1279,
          1301,
          1418,
          1388,
          1235,
          1953
         ]
        }
       ],
       "layout": {
        "legend": {
         "bgcolor": "#F5F6F9",
         "font": {
          "color": "#4D5663"
         }
        },
        "paper_bgcolor": "#F5F6F9",
        "plot_bgcolor": "#F5F6F9",
        "shapes": [
         {
          "line": {
           "color": "#000000",
           "dash": "dash",
           "width": 1
          },
          "type": "line",
          "x0": 0,
          "x1": 1,
          "xref": "paper",
          "y0": 1223.438805970149,
          "y1": 1223.438805970149,
          "yref": "y"
         },
         {
          "line": {
           "color": "#000000",
           "dash": "dash",
           "width": 1
          },
          "type": "line",
          "x0": 50.62066115702485,
          "x1": 50.62066115702485,
          "xref": "x",
          "y0": 0,
          "y1": 1,
          "yref": "paper"
         }
        ],
        "title": "Share of female students vs. SAT score by school <br> dashed lines: average of entire dataset",
        "titlefont": {
         "color": "#4D5663"
        },
        "xaxis": {
         "gridcolor": "#E1E5ED",
         "showgrid": true,
         "tickfont": {
          "color": "#4D5663"
         },
         "title": "Share females, %",
         "titlefont": {
          "color": "#4D5663"
         },
         "zerolinecolor": "#E1E5ED"
        },
        "yaxis": {
         "gridcolor": "#E1E5ED",
         "showgrid": true,
         "tickfont": {
          "color": "#4D5663"
         },
         "title": "Avg. SAT score",
         "titlefont": {
          "color": "#4D5663"
         },
         "zerolinecolor": "#E1E5ED"
        }
       }
      },
      "text/html": [
       "<div>\n",
       "        \n",
       "        \n",
       "            <div id=\"4fa02086-2079-4289-a865-1c651775c8f6\" class=\"plotly-graph-div\" style=\"height:525px; width:100%;\"></div>\n",
       "            <script type=\"text/javascript\">\n",
       "                require([\"plotly\"], function(Plotly) {\n",
       "                    window.PLOTLYENV=window.PLOTLYENV || {};\n",
       "                    window.PLOTLYENV.BASE_URL='https://plot.ly';\n",
       "                    \n",
       "                if (document.getElementById(\"4fa02086-2079-4289-a865-1c651775c8f6\")) {\n",
       "                    Plotly.newPlot(\n",
       "                        '4fa02086-2079-4289-a865-1c651775c8f6',\n",
       "                        [{\"marker\": {\"color\": \"rgba(255, 153, 51, 1.0)\", \"line\": {\"width\": 1.3}, \"opacity\": 0.8, \"size\": 12, \"symbol\": \"circle\"}, \"mode\": \"markers\", \"name\": \"Manhattan\", \"text\": [\"HENRY STREET SCHOOL FOR INTERNATIONAL STUDIES\", \"UNIVERSITY NEIGHBORHOOD HIGH SCHOOL\", \"EAST SIDE COMMUNITY SCHOOL\", \"MARTA VALLE HIGH SCHOOL\", \"NEW EXPLORATIONS INTO SCIENCE, TECHNOLOGY AND MATH HIGH SCHOOL\", \"BARD HIGH SCHOOL EARLY COLLEGE\", \"47 THE AMERICAN SIGN LANGUAGE AND ENGLISH SECONDARY SCHOOL\", \"FOOD AND FINANCE HIGH SCHOOL\", \"ESSEX STREET ACADEMY\", \"HIGH SCHOOL OF HOSPITALITY MANAGEMENT\", \"PACE HIGH SCHOOL\", \"URBAN ASSEMBLY SCHOOL OF DESIGN AND CONSTRUCTION, THE\", \"FACING HISTORY SCHOOL, THE\", \"URBAN ASSEMBLY ACADEMY OF GOVERNMENT AND LAW, THE\", \"LOWER MANHATTAN ARTS ACADEMY\", \"URBAN ASSEMBLY SCHOOL OF BUSINESS FOR YOUNG WOMEN, THE\", \"GRAMERCY ARTS HIGH SCHOOL\", \"NYC ISCHOOL\", \"MANHATTAN BUSINESS ACADEMY\", \"BUSINESS OF SPORTS SCHOOL\", \"THE HIGH SCHOOL FOR LANGUAGE AND DIPLOMACY\", \"HIGH SCHOOL FOR ENVIRONMENTAL STUDIES\", \"PROFESSIONAL PERFORMING ARTS HIGH SCHOOL\", \"BARUCH COLLEGE CAMPUS HIGH SCHOOL\", \"N.Y.C. LAB SCHOOL FOR COLLABORATIVE STUDIES\", \"N.Y.C. MUSEUM SCHOOL\", \"ELEANOR ROOSEVELT HIGH SCHOOL\", \"MILLENNIUM HIGH SCHOOL\", \"LANDMARK HIGH SCHOOL\", \"HIGH SCHOOL FOR HEALTH PROFESSIONS AND HUMAN SERVICES\", \"LEADERSHIP AND PUBLIC SERVICE HIGH SCHOOL\", \"MANHATTAN ACADEMY FOR ARTS & LANGUAGE\", \"HUDSON HIGH SCHOOL OF LEARNING TECHNOLOGIES\", \"INTERNATIONAL HIGH SCHOOL AT UNION SQUARE\", \"MANHATTAN VILLAGE ACADEMY\", \"VANGUARD HIGH SCHOOL\", \"MANHATTAN INTERNATIONAL HIGH SCHOOL\", \"STUYVESANT HIGH SCHOOL\", \"HIGH SCHOOL OF ECONOMICS AND FINANCE\", \"UNITY CENTER FOR URBAN TECHNOLOGIES\", \"TALENT UNLIMITED HIGH SCHOOL\", \"MURRY BERGTRAUM HIGH SCHOOL FOR BUSINESS CAREERS\", \"JACQUELINE KENNEDY ONASSIS HIGH SCHOOL\", \"REPERTORY COMPANY HIGH SCHOOL FOR THEATRE ARTS\", \"MANHATTAN BRIDGES HIGH SCHOOL\", \"NEW DESIGN HIGH SCHOOL\", \"HIGH SCHOOL FOR DUAL LANGUAGE AND ASIAN STUDIES\", \"THE URBAN ASSEMBLY NEW YORK HARBOR SCHOOL\", \"RICHARD R. GREEN HIGH SCHOOL OF TEACHING\", \"THE HIGH SCHOOL OF FASHION INDUSTRIES\", \"HUMANITIES PREPARATORY ACADEMY\", \"CHELSEA CAREER AND TECHNICAL EDUCATION HIGH SCHOOL\", \"ART AND DESIGN HIGH SCHOOL\", \"LIFE SCIENCES SECONDARY SCHOOL\", \"HIGH SCHOOL FOR ARTS, IMAGINATION AND INQUIRY\", \"URBAN ASSEMBLY SCHOOL FOR MEDIA STUDIES, THE\", \"THE URBAN ASSEMBLY SCHOOL FOR GREEN CAREERS\", \"THE GLOBAL LEARNING COLLABORATIVE\", \"WADLEIGH SECONDARY SCHOOL FOR THE PERFORMING & VISUAL ARTS\", \"FRANK MCCOURT HIGH SCHOOL\", \"BEACON HIGH SCHOOL\", \"FIORELLO H. LAGUARDIA HIGH SCHOOL OF MUSIC & ART AND PERFORMING ARTS\", \"HIGH SCHOOL FOR LAW, ADVOCACY AND COMMUNITY JUSTICE\", \"HIGH SCHOOL OF ARTS AND TECHNOLOGY\", \"MANHATTAN / HUNTER SCIENCE HIGH SCHOOL\", \"FREDERICK DOUGLASS ACADEMY II SECONDARY SCHOOL\", \"COALITION SCHOOL FOR SOCIAL CHANGE\", \"MANHATTAN CENTER FOR SCIENCE AND MATHEMATICS\", \"PARK EAST HIGH SCHOOL\", \"CENTRAL PARK EAST HIGH SCHOOL\", \"YOUNG WOMEN'S LEADERSHIP SCHOOL\", \"YOUNG WOMEN'S LEADERSHIP SCHOOL\", \"HERITAGE SCHOOL, THE\", \"MOTT HALL HIGH SCHOOL\", \"COLUMBIA SECONDARY SCHOOL FOR MATH, SCIENCE, AND ENGINEERING\", \"ACADEMY FOR SOCIAL ACTION: A COLLEGE BOARD SCHOOL\", \"URBAN ASSEMBLY SCHOOL FOR THE PERFORMING ARTS\", \"FREDERICK DOUGLASS ACADEMY\", \"THURGOOD MARSHALL ACADEMY FOR LEARNING AND SOCIAL CHANGE\", \"HIGH SCHOOL FOR MATHEMATICS, SCIENCE AND ENGINEERING AT CITY COLLEGE\", \"CITY COLLEGE ACADEMY OF THE ARTS\", \"COMMUNITY HEALTH ACADEMY OF THE HEIGHTS\", \"WASHINGTON HEIGHTS EXPEDITIONARY LEARNING SCHOOL\", \"HIGH SCHOOL FOR EXCELLENCE AND INNOVATION\", \"HIGH SCHOOL FOR INTERNATIONAL BUSINESS AND FINANCE\", \"HIGH SCHOOL FOR MEDIA AND COMMUNICATIONS\", \"HIGH SCHOOL FOR LAW AND PUBLIC SERVICE\", \"HIGH SCHOOL FOR HEALTH CAREERS AND SCIENCES\", \"A. PHILIP RANDOLPH CAMPUS HIGH SCHOOL\", \"GREGORIO LUPERON HIGH SCHOOL FOR SCIENCE AND MATHEMATICS\"], \"textfont\": {\"color\": \"#4D5663\"}, \"type\": \"scatter\", \"x\": [38.6, 42.6, 45.3, 53.7, 50.8, 68.7, 57.5, 55.0, 46.6, 67.8, 56.3, 25.1, 49.4, 56.1, 60.1, 100.0, 73.7, 51.3, 41.0, 27.6, 52.0, 49.6, 74.7, 56.0, 53.0, 57.6, 67.5, 61.8, 51.5, 70.6, 53.9, 45.1, 39.4, 38.6, 61.5, 53.8, 55.7, 40.7, 45.5, 37.6, 78.6, 50.9, 59.4, 78.8, 48.6, 61.7, 48.7, 39.1, 67.4, 92.7, 57.3, 35.0, 53.3, 48.4, 44.3, 42.1, 43.1, 48.6, 61.6, 53.4, 61.0, 73.6, 59.9, 32.3, 58.9, 45.8, 55.6, 53.6, 57.9, 67.9, 100.0, 100.0, 51.4, 46.5, 50.4, 51.3, 74.6, 47.8, 55.9, 34.2, 60.4, 47.7, 44.2, 47.2, 36.2, 36.5, 41.4, 47.3, 50.1, 51.1], \"y\": [1122.0, 1172.0, 1149.0, 1207.0, 1621.0, 1856.0, 1182.0, 1194.0, 1156.0, 1111.0, 1293.0, 1269.0, 1051.0, 1148.0, 1200.0, 1127.0, 1176.0, 1435.0, 1223.4388059701494, 1223.4388059701494, 1223.4388059701494, 1419.0, 1522.0, 1577.0, 1677.0, 1419.0, 1758.0, 1614.0, 1170.0, 1306.0, 1233.0, 1223.4388059701494, 1223.4388059701494, 1223.4388059701494, 1372.0, 1199.0, 1227.0, 2096.0, 1374.0, 1070.0, 1416.0, 1240.0, 1239.0, 1253.0, 1058.0, 1168.0, 1424.0, 1212.0, 1195.0, 1257.0, 1255.0, 1207.0, 1315.0, 1236.0, 1132.0, 1144.0, 1223.4388059701494, 1223.4388059701494, 1109.0, 1223.4388059701494, 1744.0, 1707.0, 1196.0, 1277.0, 1446.0, 1096.0, 1084.0, 1430.0, 1128.0, 1221.0, 1326.0, 1326.0, 1054.0, 1210.0, 1223.4388059701494, 1062.0, 1077.0, 1374.0, 1202.0, 1847.0, 1270.0, 1105.0, 1174.0, 1223.4388059701494, 1127.0, 1098.0, 1102.0, 1224.0, 1309.0, 1014.0]}, {\"marker\": {\"color\": \"rgba(55, 128, 191, 1.0)\", \"line\": {\"width\": 1.3}, \"opacity\": 0.8, \"size\": 12, \"symbol\": \"circle\"}, \"mode\": \"markers\", \"name\": \"Bronx\", \"text\": [\"SOUTH BRONX PREPARATORY: A COLLEGE BOARD SCHOOL\", \"INTERNATIONAL COMMUNITY HIGH SCHOOL\", \"COMMUNITY SCHOOL FOR SOCIAL JUSTICE\", \"MOTT HAVEN VILLAGE PREPARATORY HIGH SCHOOL\", \"UNIVERSITY HEIGHTS SECONDARY SCHOOL\", \"HOSTOSsLINCOLN ACADEMY OF SCIENCE\", \"FOREIGN LANGUAGE ACADEMY OF GLOBAL STUDIES\", \"BRONX LEADERSHIP ACADEMY II HIGH SCHOOL\", \"NEW EXPLORERS HIGH SCHOOL\", \"URBAN ASSEMBLY SCHOOL FOR CAREERS IN SPORTS\", \"BRONX ACADEMY OF LETTERS\", \"ALFRED E. SMITH CAREER AND TECHNICAL EDUCATION HIGH SCHOOL\", \"HEALTH OPPORTUNITIES HIGH SCHOOL\", \"BRONX STUDIO SCHOOL FOR WRITERS AND ARTISTS\", \"WOMEN'S ACADEMY OF EXCELLENCE\", \"RENAISSANCE HIGH SCHOOL FOR MUSICAL THEATER & TECHNOLOGY\", \"PABLO NERUDA ACADEMY FOR ARCHITECTURE AND WORLD STUDIES\", \"MILLENNIUM ART ACADEMY\", \"HOLCOMBE L. RUCKER SCHOOL OF COMMUNITY RESEARCH\", \"ANTONIA PANTOJA PREPARATORY ACADEMY, A COLLEGE BOARD SCHOOL\", \"HERBERT H. LEHMAN HIGH SCHOOL\", \"BRONX BRIDGES HIGH SCHOOL\", \"FELISA RINCON DE GAUTIER INSTITUTE FOR LAW AND PUBLIC POLICY, THE\", \"BANANA KELLY HIGH SCHOOL\", \"BRONX EXPEDITIONARY LEARNING HIGH SCHOOL\", \"EAGLE ACADEMY FOR YOUNG MEN\", \"URBAN ASSEMBLY SCHOOL FOR APPLIED MATH AND SCIENCE, THE\", \"EXIMIUS COLLEGE PREPARATORY ACADEMY: A COLLEGE BOARD SCHOOL\", \"MOTT HALL BRONX HIGH SCHOOL\", \"BRONX CENTER FOR SCIENCE AND MATHEMATICS\", \"VALIDUS PREPARATORY ACADEMY: AN EXPEDITIONARY LEARNING SCHOOL\", \"LEADERSHIP INSTITUTE\", \"MORRIS ACADEMY FOR COLLABORATIVE STUDIES\", \"BRONX EARLY COLLEGE ACADEMY FOR TEACHING & LEARNING\", \"DREAMYARD PREPARATORY SCHOOL\", \"ACADEMY FOR LANGUAGE AND TECHNOLOGY\", \"BRONX INTERNATIONAL HIGH SCHOOL\", \"SCHOOL FOR EXCELLENCE\", \"BRONX HIGH SCHOOL OF BUSINESS\", \"BRONX HIGH SCHOOL FOR MEDICAL SCIENCE\", \"BRONX SCHOOL FOR LAW, GOVERNMENT AND JUSTICE\", \"FREDERICK DOUGLASS ACADEMY III SECONDARY SCHOOL\", \"BRONX LEADERSHIP ACADEMY HIGH SCHOOL\", \"HIGH SCHOOL FOR VIOLIN AND DANCE\", \"RIVERDALE / KINGSBRIDGE ACADEMY (MIDDLE SCHOOL / HIGH SCHOOL 141)\", \"BRONX ENGINEERING AND TECHNOLOGY ACADEMY\", \"THEATRE ARTS PRODUCTION COMPANY SCHOOL\", \"THE MARIE CURIE SCHOOL FOR MEDICINE, NURSING, AND HEALTH PROFESSIONS\", \"WEST BRONX ACADEMY FOR THE FUTURE\", \"KINGSBRIDGE INTERNATIONAL HIGH SCHOOL\", \"BRONX SCHOOL OF LAW AND FINANCE\", \"INTERNATIONAL SCHOOL FOR LIBERAL ARTS\", \"INsTECH ACADEMY (M.S. / HIGH SCHOOL 368)\", \"KNOWLEDGE AND POWER PREPARATORY ACADEMY INTERNATIONAL HIGH SCHOOL (KAPPA)\", \"HIGH SCHOOL FOR TEACHING AND THE PROFESSIONS\", \"BELMONT PREPARATORY HIGH SCHOOL\", \"FORDHAM HIGH SCHOOL FOR THE ARTS\", \"FORDHAM LEADERSHIP ACADEMY FOR BUSINESS AND TECHNOLOGY\", \"BRONX HIGH SCHOOL FOR LAW AND COMMUNITY SERVICE\", \"DEWITT CLINTON HIGH SCHOOL\", \"CELIA CRUZ BRONX HIGH SCHOOL OF MUSIC, THE\", \"BRONX HIGH SCHOOL OF SCIENCE\", \"MARBLE HILL HIGH SCHOOL FOR INTERNATIONAL STUDIES\", \"BRONX THEATRE HIGH SCHOOL\", \"DISCOVERY HIGH SCHOOL\", \"HIGH SCHOOL OF AMERICAN STUDIES AT LEHMAN COLLEGE\", \"BRONX HEALTH SCIENCES HIGH SCHOOL\", \"BRONX HIGH SCHOOL FOR WRITING AND COMMUNICATION ARTS\", \"BRONX LAB SCHOOL\", \"ACADEMY FOR SCHOLARSHIP AND ENTREPRENEURSHIP: A COLLEGE BOARD SCHOOL\", \"HIGH SCHOOL OF COMPUTERS AND TECHNOLOGY\", \"COLLEGIATE INSTITUTE FOR MATH AND SCIENCE\", \"BRONX ACADEMY OF HEALTH CAREERS\", \"ASTOR COLLEGIATE ACADEMY\", \"BRONX HIGH SCHOOL FOR THE VISUAL ARTS\", \"HARRY S TRUMAN HIGH SCHOOL\", \"NEW WORLD HIGH SCHOOL\", \"THE BRONXWOOD PREPARATORY ACADEMY\", \"PELHAM PREPARATORY ACADEMY\", \"HIGH SCHOOL FOR CONTEMPORARY ARTS\", \"BRONX AEROSPACE HIGH SCHOOL\", \"METROPOLITAN HIGH SCHOOL, THE\", \"EXPLORATIONS ACADEMY\", \"BRONX LATIN\", \"EAST BRONX ACADEMY FOR THE FUTURE\", \"PEACE AND DIVERSITY ACADEMY\", \"PAN AMERICAN INTERNATIONAL HIGH SCHOOL AT MONROE\", \"THE CINEMA SCHOOL\", \"BRONX CAREER AND COLLEGE PREPARATORY HIGH SCHOOL\", \"HIGH SCHOOL OF WORLD CULTURES\", \"FANNIE LOU HAMER FREEDOM HIGH SCHOOL\", \"WINGS ACADEMY\", \"MONROE ACADEMY FOR VISUAL ARTS & DESIGN\"], \"textfont\": {\"color\": \"#4D5663\"}, \"type\": \"scatter\", \"x\": [52.6, 51.4, 50.8, 49.9, 56.8, 54.8, 54.7, 46.0, 42.3, 15.7, 55.5, 7.3, 71.4, 56.0, 99.7, 62.0, 34.0, 50.8, 50.8, 53.0, 38.9, 47.7, 57.0, 50.1, 49.9, 0.0, 50.7, 53.4, 54.0, 53.8, 55.9, 47.8, 46.2, 51.5, 55.9, 51.2, 54.3, 47.7, 45.1, 57.8, 54.1, 48.5, 56.7, 85.4, 48.2, 17.3, 69.1, 83.5, 42.1, 47.7, 43.4, 51.0, 51.1, 52.8, 57.7, 52.8, 56.8, 36.6, 55.6, 48.9, 59.3, 42.2, 53.3, 67.9, 47.6, 46.2, 64.7, 59.2, 40.5, 48.0, 12.7, 42.9, 67.3, 41.4, 42.0, 40.0, 50.0, 38.7, 51.9, 44.7, 17.5, 46.0, 49.2, 50.2, 47.0, 55.0, 48.5, 59.2, 55.7, 48.0, 45.9, 46.3, 47.4], \"y\": [1090.0, 945.0, 1077.0, 1097.0, 1201.0, 1257.0, 1186.0, 1103.0, 1084.0, 1181.0, 1201.0, 1158.0, 1095.0, 1223.4388059701494, 1171.0, 1158.0, 1038.0, 1164.0, 1084.0, 1223.4388059701494, 1241.0, 1223.4388059701494, 1099.0, 1131.0, 1049.0, 1134.0, 1290.0, 1169.0, 1092.0, 1396.0, 1075.0, 1081.0, 1148.0, 1223.4388059701494, 1138.0, 951.0, 965.0, 1074.0, 1083.0, 1221.0, 1224.0, 1121.0, 1166.0, 1039.0, 1333.0, 1150.0, 1190.0, 1157.0, 1158.0, 962.0, 1182.0, 934.0, 1181.0, 1180.0, 1106.0, 1222.0, 1077.0, 1119.0, 1082.0, 1255.0, 1270.0, 1969.0, 1263.0, 1064.0, 1115.0, 1920.0, 1133.0, 1147.0, 1135.0, 1141.0, 1111.0, 1348.0, 1135.0, 1169.0, 1268.0, 1151.0, 1048.0, 1112.0, 1288.0, 1126.0, 1163.0, 1055.0, 1122.0, 1251.0, 1102.0, 1155.0, 970.0, 1223.4388059701494, 1223.4388059701494, 939.0, 1029.0, 1114.0, 1038.0]}, {\"marker\": {\"color\": \"rgba(50, 171, 96, 1.0)\", \"line\": {\"width\": 1.3}, \"opacity\": 0.8, \"size\": 12, \"symbol\": \"circle\"}, \"mode\": \"markers\", \"name\": \"Brooklyn\", \"text\": [\"DR. SUSAN S. MCKINNEY SECONDARY SCHOOL OF THE ARTS\", \"URBAN ASSEMBLY HIGH SCHOOL OF MUSIC AND ART\", \"BROOKLYN COMMUNITY HIGH SCHOOL OF COMMUNICATION, ARTS AND MEDIA\", \"SCIENCE SKILLS CENTER HIGH SCHOOL FOR SCIENCE, TECHNOLOGY AND THE CREATIVE ARTS\", \"BROOKLYN TECHNICAL HIGH SCHOOL\", \"BROOKLYN INTERNATIONAL HIGH SCHOOL\", \"THE URBAN ASSEMBLY SCHOOL FOR LAW AND JUSTICE\", \"ACORN COMMUNITY HIGH SCHOOL\", \"URBAN ASSEMBLY INSTITUTE OF MATH AND SCIENCE FOR YOUNG WOMEN\", \"BEDFORD ACADEMY HIGH SCHOOL\", \"GEORGE WESTINGHOUSE CAREER AND TECHNICAL EDUCATION HIGH SCHOOL\", \"BENJAMIN BANNEKER ACADEMY\", \"CITY POLYTECHNIC HIGH SCHOOL OF ENGINEERING, ARCHITECTURE, AND TECHNOLOGY\", \"JUAN MOREL CAMPOS SECONDARY SCHOOL\", \"FOUNDATIONS ACADEMY\", \"BROOKLYN LATIN SCHOOL, THE\", \"GREEN SCHOOL: AN ACADEMY FOR ENVIRONMENTAL CAREERS\", \"PROGRESS HIGH SCHOOL FOR PROFESSIONAL CAREERS\", \"SCHOOL FOR LEGAL STUDIES\", \"THE HIGH SCHOOL FOR ENTERPRISE, BUSINESS AND TECHNOLOGY\", \"BROOKLYN PREPARATORY HIGH SCHOOL\", \"WILLIAMSBURG HIGH SCHOOL FOR ARCHITECTURE AND DESIGN\", \"WILLIAMSBURG PREPARATORY SCHOOL\", \"LYONS COMMUNITY SCHOOL\", \"AUTOMOTIVE HIGH SCHOOL\", \"FRANCES PERKINS ACADEMY\", \"EL PUENTE ACADEMY FOR PEACE AND JUSTICE\", \"BROOKLYN SCHOOL FOR GLOBAL STUDIES\", \"BROOKLYN SECONDARY SCHOOL FOR COLLABORATIVE STUDIES\", \"SECONDARY SCHOOL FOR LAW\", \"SECONDARY SCHOOL FOR JOURNALISM\", \"PARK SLOPE COLLEGIATE\", \"SCHOOL FOR INTERNATIONAL STUDIES\", \"COBBLE HILL SCHOOL OF AMERICAN STUDIES\", \"BROOKLYN HIGH SCHOOL OF THE ARTS\", \"SUNSET PARK HIGH SCHOOL\", \"FREDERICK DOUGLASS ACADEMY IV SECONDARY SCHOOL\", \"BOYS AND GIRLS HIGH SCHOOL\", \"BROOKLYN HIGH SCHOOL FOR LAW AND TECHNOLOGY\", \"THE BROOKLYN ACADEMY OF GLOBAL FINANCE\", \"ACADEMY FOR COLLEGE PREPARATION AND CAREER EXPLORATION: A COLLEGE BOARD SCHOOL\", \"ACADEMY OF HOSPITALITY AND TOURISM\", \"INTERNATIONAL HIGH SCHOOL AT PROSPECT HEIGHTS\", \"THE HIGH SCHOOL FOR GLOBAL CITIZENSHIP\", \"SCHOOL FOR HUMAN RIGHTS, THE\", \"SCHOOL FOR DEMOCRACY AND LEADERSHIP\", \"HIGH SCHOOL FOR YOUTH AND COMMUNITY DEVELOPMENT AT ERASMUS\", \"HIGH SCHOOL FOR SERVICE & LEARNING AT ERASMUS\", \"SCIENCE, TECHNOLOGY AND RESEARCH EARLY COLLEGE HIGH SCHOOL AT ERASMUS\", \"HIGH SCHOOL FOR PUBLIC SERVICE: HEROES OF TOMORROW\", \"BROOKLYN ACADEMY OF SCIENCE AND THE ENVIRONMENT\", \"BROOKLYN SCHOOL FOR MUSIC & THEATRE\", \"MEDGAR EVERS COLLEGE PREPARATORY SCHOOL\", \"CLARA BARTON HIGH SCHOOL\", \"IT TAKES A VILLAGE ACADEMY\", \"BROOKLYN GENERATION SCHOOL\", \"BROOKLYN THEATRE ARTS HIGH SCHOOL\", \"KURT HAHN EXPEDITIONARY LEARNING SCHOOL\", \"VICTORY COLLEGIATE HIGH SCHOOL\", \"ARTS & MEDIA PREPARATORY ACADEMY\", \"HIGH SCHOOL FOR INNOVATION IN ADVERTISING AND MEDIA\", \"CULTURAL ACADEMY FOR THE ARTS AND SCIENCES\", \"HIGH SCHOOL FOR MEDICAL PROFESSIONS\", \"ACADEMY FOR CONSERVATION AND THE ENVIRONMENT\", \"URBAN ACTION ACADEMY\", \"EAST NEW YORK FAMILY ACADEMY\", \"FDNY HIGH SCHOOL FOR FIRE AND LIFE SAFETY\", \"HIGH SCHOOL FOR CIVIL RIGHTS\", \"PERFORMING ARTS AND TECHNOLOGY HIGH SCHOOL\", \"WORLD ACADEMY FOR TOTAL COMMUNITY HEALTH HIGH SCHOOL\", \"MULTICULTURAL HIGH SCHOOL\", \"TRANSIT TECH CAREER AND TECHNICAL EDUCATION HIGH SCHOOL\", \"ACADEMY OF INNOVATIVE TECHNOLOGY\", \"BROOKLYN LAB SCHOOL\", \"CYPRESS HILLS COLLEGIATE PREPARATORY SCHOOL\", \"W. H. MAXWELL CAREER AND TECHNICAL EDUCATION HIGH SCHOOL\", \"THE SCHOOL FOR CLASSICS: AN ACADEMY OF THINKERS, WRITERS AND PERFORMERS\", \"NEW UTRECHT HIGH SCHOOL\", \"HIGH SCHOOL OF TELECOMMUNICATION ARTS AND TECHNOLOGY\", \"FORT HAMILTON HIGH SCHOOL\", \"FRANKLIN DELANO ROOSEVELT HIGH SCHOOL\", \"THE URBAN ASSEMBLY SCHOOL FOR CRIMINAL JUSTICE\", \"INTERNATIONAL HIGH SCHOOL AT LAFAYETTE\", \"RACHEL CARSON HIGH SCHOOL FOR COASTAL STUDIES\", \"HIGH SCHOOL OF SPORTS MANAGEMENT\", \"ABRAHAM LINCOLN HIGH SCHOOL\", \"KINGSBOROUGH EARLY COLLEGE SCHOOL\", \"EDWARD R. MURROW HIGH SCHOOL\", \"JOHN DEWEY HIGH SCHOOL\", \"LIFE ACADEMY HIGH SCHOOL FOR FILM AND MUSIC\", \"EXPEDITIONARY LEARNING SCHOOL FOR COMMUNITY LEADERS\", \"WILLIAM E. GRADY CAREER AND TECHNICAL EDUCATION HIGH SCHOOL\", \"BROOKLYN STUDIO SECONDARY SCHOOL\", \"MIDWOOD HIGH SCHOOL\", \"JAMES MADISON HIGH SCHOOL\", \"LEON M. GOLDSTEIN HIGH SCHOOL FOR THE SCIENCES\", \"BROOKLYN COLLEGE ACADEMY\", \"BROOKLYN COLLEGIATE: A COLLEGE BOARD SCHOOL\", \"FREDERICK DOUGLASS ACADEMY VII HIGH SCHOOL\", \"TEACHERS PREPARATORY HIGH SCHOOL\", \"ACADEMY FOR ENVIRONMENTAL LEADERSHIP\", \"EBC HIGH SCHOOL FOR PUBLIC SERVICE\\u2013BUSHWICK\", \"BUSHWICK SCHOOL FOR SOCIAL JUSTICE\", \"ACADEMY OF URBAN PLANNING\", \"ALL CITY LEADERSHIP SECONDARY SCHOOL\", \"BUSHWICK LEADERS HIGH SCHOOL FOR ACADEMIC EXCELLENCE\"], \"textfont\": {\"color\": \"#4D5663\"}, \"type\": \"scatter\", \"x\": [63.0, 57.3, 54.5, 43.9, 41.7, 51.8, 60.4, 44.2, 100.0, 51.0, 24.5, 53.9, 20.6, 45.3, 43.3, 45.1, 53.8, 51.5, 54.2, 34.3, 52.2, 27.4, 49.0, 46.3, 4.4, 23.1, 57.3, 43.8, 40.9, 55.8, 57.7, 47.2, 49.2, 56.1, 66.1, 49.3, 51.3, 38.3, 48.4, 48.4, 46.2, 50.2, 40.9, 49.9, 48.4, 48.0, 38.4, 36.7, 47.0, 75.1, 45.6, 67.2, 58.2, 76.2, 51.0, 39.0, 63.9, 35.7, 51.1, 52.6, 33.5, 48.5, 78.5, 45.3, 37.4, 56.8, 18.9, 45.6, 48.6, 63.2, 50.2, 15.9, 29.7, 41.6, 52.2, 70.2, 62.4, 40.7, 46.5, 46.6, 41.6, 100.0, 41.1, 46.4, 11.1, 43.6, 42.2, 57.6, 48.5, 49.0, 48.7, 22.0, 49.9, 54.7, 45.6, 58.8, 63.7, 49.3, 51.5, 65.9, 50.0, 47.9, 51.6, 45.5, 47.9, 46.8], \"y\": [1074.0, 1080.0, 1114.0, 1211.0, 1833.0, 981.0, 1206.0, 1116.0, 1223.4388059701494, 1312.0, 1189.0, 1391.0, 1353.0, 1085.0, 1223.4388059701494, 1740.0, 1189.0, 1114.0, 1204.0, 1215.0, 1090.0, 1112.0, 1187.0, 1103.0, 1093.0, 1122.0, 1035.0, 1111.0, 1179.0, 1203.0, 1169.0, 1175.0, 1212.0, 1185.0, 1258.0, 1223.4388059701494, 1068.0, 1097.0, 1092.0, 1223.4388059701494, 1139.0, 1045.0, 913.0, 1176.0, 1088.0, 1153.0, 1027.0, 1105.0, 1360.0, 1273.0, 1143.0, 1151.0, 1436.0, 1251.0, 963.0, 1145.0, 1118.0, 1092.0, 1143.0, 1080.0, 1183.0, 1169.0, 1159.0, 1111.0, 1135.0, 1242.0, 1023.0, 1054.0, 1149.0, 1106.0, 887.0, 1193.0, 1096.0, 1108.0, 1129.0, 1102.0, 1157.0, 1272.0, 1323.0, 1306.0, 1244.0, 1223.4388059701494, 1026.0, 1237.0, 1164.0, 1226.0, 1223.4388059701494, 1431.0, 1262.0, 1124.0, 1079.0, 1184.0, 1313.0, 1473.0, 1350.0, 1627.0, 1352.0, 1185.0, 1091.0, 1196.0, 1098.0, 1154.0, 1035.0, 1060.0, 1315.0, 1055.0]}, {\"marker\": {\"color\": \"rgba(128, 0, 128, 1.0)\", \"line\": {\"width\": 1.3}, \"opacity\": 0.8, \"size\": 12, \"symbol\": \"circle\"}, \"mode\": \"markers\", \"name\": \"Queens\", \"text\": [\"ACADEMY OF FINANCE AND ENTERPRISE\", \"HIGH SCHOOL OF APPLIED COMMUNICATION\", \"CIVIC LEADERSHIP ACADEMY\", \"PAN AMERICAN INTERNATIONAL HIGH SCHOOL\", \"BARD HIGH SCHOOL EARLY COLLEGE II\", \"NEWTOWN HIGH SCHOOL\", \"GROVER CLEVELAND HIGH SCHOOL\", \"MIDDLE COLLEGE HIGH SCHOOL AT LAGUARDIA COMMUNITY COLLEGE\", \"INTERNATIONAL HIGH SCHOOL AT LAGUARDIA COMMUNITY COLLEGE\", \"HIGH SCHOOL FOR ARTS AND BUSINESS\", \"ROBERT F. WAGNER, JR. SECONDARY SCHOOL FOR ARTS AND TECHNOLOGY\", \"QUEENS VOCATIONAL AND TECHNICAL HIGH SCHOOL\", \"AVIATION CAREER & TECHNICAL EDUCATION HIGH SCHOOL\", \"QUEENS SCHOOL OF INQUIRY, THE\", \"FLUSHING INTERNATIONAL HIGH SCHOOL\", \"EASTsWEST SCHOOL OF INTERNATIONAL STUDIES\", \"WORLD JOURNALISM PREPARATORY: A COLLEGE BOARD SCHOOL\", \"JOHN BOWNE HIGH SCHOOL\", \"FLUSHING HIGH SCHOOL\", \"TOWNSEND HARRIS HIGH SCHOOL\", \"ROBERT F. KENNEDY COMMUNITY HIGH SCHOOL\", \"BENJAMIN N. CARDOZO HIGH SCHOOL\", \"FRANCIS LEWIS HIGH SCHOOL\", \"MARTIN VAN BUREN HIGH SCHOOL\", \"BAYSIDE HIGH SCHOOL\", \"QUEENS HIGH SCHOOL OF TEACHING, LIBERAL ARTS AND THE SCIENCES\", \"FREDERICK DOUGLASS ACADEMY VI HIGH SCHOOL\", \"CHANNEL VIEW SCHOOL FOR RESEARCH\", \"QUEENS HIGH SCHOOL FOR INFORMATION, RESEARCH, AND TECHNOLOGY\", \"ROBERT H. GODDARD HIGH SCHOOL OF COMMUNICATION ARTS AND TECHNOLOGY\", \"ACADEMY OF MEDICAL TECHNOLOGY: A COLLEGE BOARD SCHOOL\", \"SCHOLARS' ACADEMY\", \"AUGUST MARTIN HIGH SCHOOL\", \"RICHMOND HILL HIGH SCHOOL\", \"JOHN ADAMS HIGH SCHOOL\", \"HIGH SCHOOL FOR CONSTRUCTION TRADES, ENGINEERING AND ARCHITECTURE\", \"YORK EARLY COLLEGE ACADEMY\", \"QUEENS COLLEGIATE: A COLLEGE BOARD SCHOOL\", \"HILLSIDE ARTS & LETTERS ACADEMY\", \"FOREST HILLS HIGH SCHOOL\", \"HILLCREST HIGH SCHOOL\", \"THOMAS A. EDISON CAREER AND TECHNICAL EDUCATION HIGH SCHOOL\", \"QUEENS GATEWAY TO HEALTH SCIENCES SECONDARY SCHOOL\", \"QUEENS METROPOLITAN HIGH SCHOOL\", \"QUEENS HIGH SCHOOL FOR THE SCIENCES AT YORK COLLEGE\", \"HIGH SCHOOL FOR LAW ENFORCEMENT AND PUBLIC SAFETY\", \"YOUNG WOMEN'S LEADERSHIP SCHOOL, QUEENS\", \"QUEENS PREPARATORY ACADEMY\", \"PATHWAYS COLLEGE PREPARATORY SCHOOL: A COLLEGE BOARD SCHOOL\", \"EXCELSIOR PREPARATORY HIGH SCHOOL\", \"GEORGE WASHINGTON CARVER HIGH SCHOOL FOR THE SCIENCES\", \"PREPARATORY ACADEMY FOR WRITERS: A COLLEGE BOARD SCHOOL\", \"CAMBRIA HEIGHTS ACADEMY\", \"MATHEMATICS, SCIENCE RESEARCH AND TECHNOLOGY MAGNET HIGH SCHOOL\", \"HUMANITIES & ARTS MAGNET HIGH SCHOOL\", \"YOUNG WOMEN'S LEADERSHIP SCHOOL, ASTORIA\", \"ACADEMY FOR CAREERS IN TELEVISION AND FILM\", \"WILLIAM CULLEN BRYANT HIGH SCHOOL\", \"LONG ISLAND CITY HIGH SCHOOL\", \"FRANK SINATRA SCHOOL OF THE ARTS HIGH SCHOOL\", \"INFORMATION TECHNOLOGY HIGH SCHOOL\", \"NEWCOMERS HIGH SCHOOL\", \"ACADEMY OF AMERICAN STUDIES\", \"BACCALAUREATE SCHOOL FOR GLOBAL EDUCATION\"], \"textfont\": {\"color\": \"#4D5663\"}, \"type\": \"scatter\", \"x\": [50.7, 56.2, 55.5, 52.2, 60.7, 42.5, 45.0, 47.1, 54.0, 56.9, 53.4, 39.7, 14.7, 53.3, 42.7, 45.9, 57.8, 50.8, 44.2, 71.1, 46.2, 52.6, 50.8, 45.7, 50.6, 54.2, 47.4, 48.9, 45.5, 51.9, 56.2, 56.1, 44.8, 47.0, 45.5, 32.7, 48.9, 50.1, 53.0, 51.9, 53.9, 34.9, 61.9, 50.4, 43.5, 47.0, 100.0, 44.0, 46.7, 43.1, 52.7, 56.9, 44.9, 39.6, 57.2, 100.0, 46.8, 46.3, 48.7, 70.0, 28.2, 46.8, 55.0, 55.2], \"y\": [1280.0, 1219.0, 1240.0, 951.0, 1663.0, 1203.0, 1211.0, 1177.0, 1064.0, 1174.0, 1330.0, 1270.0, 1364.0, 1396.0, 1049.0, 1271.0, 1441.0, 1243.0, 1216.0, 1910.0, 1330.0, 1514.0, 1474.0, 1172.0, 1449.0, 1279.0, 1145.0, 1252.0, 1156.0, 1265.0, 1094.0, 1532.0, 1108.0, 1154.0, 1192.0, 1345.0, 1223.4388059701494, 1265.0, 1223.4388059701494, 1407.0, 1194.0, 1372.0, 1538.0, 1223.4388059701494, 1868.0, 1196.0, 1316.0, 1099.0, 1173.0, 1202.0, 1287.0, 1100.0, 1223.4388059701494, 1220.0, 1151.0, 1223.4388059701494, 1255.0, 1275.0, 1218.0, 1494.0, 1239.0, 1127.0, 1470.0, 1636.0]}, {\"marker\": {\"color\": \"rgba(219, 64, 82, 1.0)\", \"line\": {\"width\": 1.3}, \"opacity\": 0.8, \"size\": 12, \"symbol\": \"circle\"}, \"mode\": \"markers\", \"name\": \"Staten Island\", \"text\": [\"CSI HIGH SCHOOL FOR INTERNATIONAL STUDIES\", \"GAYNOR MCCOWN EXPEDITIONARY LEARNING SCHOOL\", \"THE MICHAEL J. PETRIDES SCHOOL\", \"NEW DORP HIGH SCHOOL\", \"PORT RICHMOND HIGH SCHOOL\", \"CURTIS HIGH SCHOOL\", \"TOTTENVILLE HIGH SCHOOL\", \"SUSAN E. WAGNER HIGH SCHOOL\", \"RALPH R. MCKEE CAREER AND TECHNICAL EDUCATION HIGH SCHOOL\", \"STATEN ISLAND TECHNICAL HIGH SCHOOL\"], \"textfont\": {\"color\": \"#4D5663\"}, \"type\": \"scatter\", \"x\": [58.5, 48.0, 50.8, 47.5, 45.2, 53.6, 50.4, 49.2, 32.9, 43.0], \"y\": [1353.0, 1195.0, 1426.0, 1277.0, 1279.0, 1301.0, 1418.0, 1388.0, 1235.0, 1953.0]}],\n",
       "                        {\"legend\": {\"bgcolor\": \"#F5F6F9\", \"font\": {\"color\": \"#4D5663\"}}, \"paper_bgcolor\": \"#F5F6F9\", \"plot_bgcolor\": \"#F5F6F9\", \"shapes\": [{\"line\": {\"color\": \"#000000\", \"dash\": \"dash\", \"width\": 1}, \"type\": \"line\", \"x0\": 0, \"x1\": 1, \"xref\": \"paper\", \"y0\": 1223.438805970149, \"y1\": 1223.438805970149, \"yref\": \"y\"}, {\"line\": {\"color\": \"#000000\", \"dash\": \"dash\", \"width\": 1}, \"type\": \"line\", \"x0\": 50.62066115702485, \"x1\": 50.62066115702485, \"xref\": \"x\", \"y0\": 0, \"y1\": 1, \"yref\": \"paper\"}], \"title\": \"Share of female students vs. SAT score by school <br> dashed lines: average of entire dataset\", \"titlefont\": {\"color\": \"#4D5663\"}, \"xaxis\": {\"gridcolor\": \"#E1E5ED\", \"showgrid\": true, \"tickfont\": {\"color\": \"#4D5663\"}, \"title\": \"Share females, %\", \"titlefont\": {\"color\": \"#4D5663\"}, \"zerolinecolor\": \"#E1E5ED\"}, \"yaxis\": {\"gridcolor\": \"#E1E5ED\", \"showgrid\": true, \"tickfont\": {\"color\": \"#4D5663\"}, \"title\": \"Avg. SAT score\", \"titlefont\": {\"color\": \"#4D5663\"}, \"zerolinecolor\": \"#E1E5ED\"}},\n",
       "                        {\"showLink\": true, \"linkText\": \"Export to plot.ly\", \"plotlyServerURL\": \"https://plot.ly\", \"responsive\": true}\n",
       "                    ).then(function(){\n",
       "                            \n",
       "var gd = document.getElementById('4fa02086-2079-4289-a865-1c651775c8f6');\n",
       "var x = new MutationObserver(function (mutations, observer) {{\n",
       "        var display = window.getComputedStyle(gd).display;\n",
       "        if (!display || display === 'none') {{\n",
       "            console.log([gd, 'removed!']);\n",
       "            Plotly.purge(gd);\n",
       "            observer.disconnect();\n",
       "        }}\n",
       "}});\n",
       "\n",
       "// Listen for the removal of the full notebook cells\n",
       "var notebookContainer = gd.closest('#notebook-container');\n",
       "if (notebookContainer) {{\n",
       "    x.observe(notebookContainer, {childList: true});\n",
       "}}\n",
       "\n",
       "// Listen for the clearing of the current output cell\n",
       "var outputEl = gd.closest('.output');\n",
       "if (outputEl) {{\n",
       "    x.observe(outputEl, {childList: true});\n",
       "}}\n",
       "\n",
       "                        })\n",
       "                };\n",
       "                });\n",
       "            </script>\n",
       "        </div>"
      ]
     },
     "metadata": {},
     "output_type": "display_data"
    },
    {
     "name": "stdout",
     "output_type": "stream",
     "text": [
      "Recommendation: choose option to 'show closest data point on hover' in top right corner\n"
     ]
    }
   ],
   "source": [
    "with warnings.catch_warnings(): # to catch warning about np.module in Python 3.8.2.\n",
    "    warnings.filterwarnings(\"ignore\",category=FutureWarning)\n",
    "    combined.iplot(\n",
    "        x='female_per',\n",
    "        y='sat_score',\n",
    "        categories='boro',\n",
    "        text=\"SCHOOL NAME\",\n",
    "        vline= {\"x\":combined[\"female_per\"].mean(),\n",
    "                \"color\":\"#000000\",\n",
    "                \"dash\": \"dash\"\n",
    "               },\n",
    "        hline={\"y\":combined[\"sat_score\"].mean(),\n",
    "               \"color\":\"#000000\",\n",
    "               \"dash\": \"dash\"\n",
    "              },\n",
    "        xTitle='Share females, %',\n",
    "        yTitle='Avg. SAT score',\n",
    "        title='Share of female students vs. SAT score by school <br> dashed lines: average of entire dataset'\n",
    "    )\n",
    "print(\"Recommendation: choose option to 'show closest data point on hover' in top right corner\")"
   ]
  },
  {
   "cell_type": "markdown",
   "metadata": {},
   "source": [
    "There is no evident correlation on the above plot\n",
    "- in all districts average `female_per` is about 50%, \n",
    "- schools with predomonation of female students: more than 60% and with higher SAT scores above 1400 are mainly from Manhattan and Queens districts."
   ]
  },
  {
   "cell_type": "code",
   "execution_count": 21,
   "metadata": {},
   "outputs": [
    {
     "data": {
      "text/plain": [
       "5                         BARD HIGH SCHOOL EARLY COLLEGE\n",
       "26                         ELEANOR ROOSEVELT HIGH SCHOOL\n",
       "60                                    BEACON HIGH SCHOOL\n",
       "61     FIORELLO H. LAGUARDIA HIGH SCHOOL OF MUSIC & A...\n",
       "302                          TOWNSEND HARRIS HIGH SCHOOL\n",
       "Name: SCHOOL NAME, dtype: object"
      ]
     },
     "execution_count": 21,
     "metadata": {},
     "output_type": "execute_result"
    }
   ],
   "source": [
    "combined.loc[(combined['female_per']>60) & (combined['sat_score']>1700)]['SCHOOL NAME']"
   ]
  },
  {
   "cell_type": "markdown",
   "metadata": {},
   "source": [
    "These schools appears to be very selective liberal arts schools that have high academic standards."
   ]
  },
  {
   "cell_type": "markdown",
   "metadata": {},
   "source": [
    "# AP Exam Scores vs SAT Scores"
   ]
  },
  {
   "cell_type": "code",
   "execution_count": 22,
   "metadata": {},
   "outputs": [
    {
     "data": {
      "text/plain": [
       "0   30.576\n",
       "1    9.898\n",
       "2    3.177\n",
       "3   35.158\n",
       "4   15.809\n",
       "Name: ap_per, dtype: float64"
      ]
     },
     "execution_count": 22,
     "metadata": {},
     "output_type": "execute_result"
    }
   ],
   "source": [
    "# compute new feature: share of students that took Advanced Placement (AP) exams to earn college credit\n",
    "combined['ap_per']=(combined['AP Test Takers ']/combined['total_enrollment'])*100\n",
    "combined['ap_per'].head()"
   ]
  },
  {
   "cell_type": "code",
   "execution_count": 27,
   "metadata": {},
   "outputs": [
    {
     "data": {
      "application/vnd.plotly.v1+json": {
       "config": {
        "linkText": "Export to plot.ly",
        "plotlyServerURL": "https://plot.ly",
        "showLink": true
       },
       "data": [
        {
         "marker": {
          "color": "rgba(255, 153, 51, 1.0)",
          "line": {
           "width": 1.3
          },
          "opacity": 0.8,
          "size": 12,
          "symbol": "circle"
         },
         "mode": "markers",
         "name": "Manhattan",
         "text": [
          "HENRY STREET SCHOOL FOR INTERNATIONAL STUDIES",
          "UNIVERSITY NEIGHBORHOOD HIGH SCHOOL",
          "EAST SIDE COMMUNITY SCHOOL",
          "MARTA VALLE HIGH SCHOOL",
          "NEW EXPLORATIONS INTO SCIENCE, TECHNOLOGY AND MATH HIGH SCHOOL",
          "BARD HIGH SCHOOL EARLY COLLEGE",
          "47 THE AMERICAN SIGN LANGUAGE AND ENGLISH SECONDARY SCHOOL",
          "FOOD AND FINANCE HIGH SCHOOL",
          "ESSEX STREET ACADEMY",
          "HIGH SCHOOL OF HOSPITALITY MANAGEMENT",
          "PACE HIGH SCHOOL",
          "URBAN ASSEMBLY SCHOOL OF DESIGN AND CONSTRUCTION, THE",
          "FACING HISTORY SCHOOL, THE",
          "URBAN ASSEMBLY ACADEMY OF GOVERNMENT AND LAW, THE",
          "LOWER MANHATTAN ARTS ACADEMY",
          "URBAN ASSEMBLY SCHOOL OF BUSINESS FOR YOUNG WOMEN, THE",
          "GRAMERCY ARTS HIGH SCHOOL",
          "NYC ISCHOOL",
          "MANHATTAN BUSINESS ACADEMY",
          "BUSINESS OF SPORTS SCHOOL",
          "THE HIGH SCHOOL FOR LANGUAGE AND DIPLOMACY",
          "HIGH SCHOOL FOR ENVIRONMENTAL STUDIES",
          "PROFESSIONAL PERFORMING ARTS HIGH SCHOOL",
          "BARUCH COLLEGE CAMPUS HIGH SCHOOL",
          "N.Y.C. LAB SCHOOL FOR COLLABORATIVE STUDIES",
          "N.Y.C. MUSEUM SCHOOL",
          "ELEANOR ROOSEVELT HIGH SCHOOL",
          "MILLENNIUM HIGH SCHOOL",
          "LANDMARK HIGH SCHOOL",
          "HIGH SCHOOL FOR HEALTH PROFESSIONS AND HUMAN SERVICES",
          "LEADERSHIP AND PUBLIC SERVICE HIGH SCHOOL",
          "MANHATTAN ACADEMY FOR ARTS & LANGUAGE",
          "HUDSON HIGH SCHOOL OF LEARNING TECHNOLOGIES",
          "INTERNATIONAL HIGH SCHOOL AT UNION SQUARE",
          "MANHATTAN VILLAGE ACADEMY",
          "VANGUARD HIGH SCHOOL",
          "MANHATTAN INTERNATIONAL HIGH SCHOOL",
          "STUYVESANT HIGH SCHOOL",
          "HIGH SCHOOL OF ECONOMICS AND FINANCE",
          "UNITY CENTER FOR URBAN TECHNOLOGIES",
          "TALENT UNLIMITED HIGH SCHOOL",
          "MURRY BERGTRAUM HIGH SCHOOL FOR BUSINESS CAREERS",
          "JACQUELINE KENNEDY ONASSIS HIGH SCHOOL",
          "REPERTORY COMPANY HIGH SCHOOL FOR THEATRE ARTS",
          "MANHATTAN BRIDGES HIGH SCHOOL",
          "NEW DESIGN HIGH SCHOOL",
          "HIGH SCHOOL FOR DUAL LANGUAGE AND ASIAN STUDIES",
          "THE URBAN ASSEMBLY NEW YORK HARBOR SCHOOL",
          "RICHARD R. GREEN HIGH SCHOOL OF TEACHING",
          "THE HIGH SCHOOL OF FASHION INDUSTRIES",
          "HUMANITIES PREPARATORY ACADEMY",
          "CHELSEA CAREER AND TECHNICAL EDUCATION HIGH SCHOOL",
          "ART AND DESIGN HIGH SCHOOL",
          "LIFE SCIENCES SECONDARY SCHOOL",
          "HIGH SCHOOL FOR ARTS, IMAGINATION AND INQUIRY",
          "URBAN ASSEMBLY SCHOOL FOR MEDIA STUDIES, THE",
          "THE URBAN ASSEMBLY SCHOOL FOR GREEN CAREERS",
          "THE GLOBAL LEARNING COLLABORATIVE",
          "WADLEIGH SECONDARY SCHOOL FOR THE PERFORMING & VISUAL ARTS",
          "FRANK MCCOURT HIGH SCHOOL",
          "BEACON HIGH SCHOOL",
          "FIORELLO H. LAGUARDIA HIGH SCHOOL OF MUSIC & ART AND PERFORMING ARTS",
          "HIGH SCHOOL FOR LAW, ADVOCACY AND COMMUNITY JUSTICE",
          "HIGH SCHOOL OF ARTS AND TECHNOLOGY",
          "MANHATTAN / HUNTER SCIENCE HIGH SCHOOL",
          "FREDERICK DOUGLASS ACADEMY II SECONDARY SCHOOL",
          "COALITION SCHOOL FOR SOCIAL CHANGE",
          "MANHATTAN CENTER FOR SCIENCE AND MATHEMATICS",
          "PARK EAST HIGH SCHOOL",
          "CENTRAL PARK EAST HIGH SCHOOL",
          "YOUNG WOMEN'S LEADERSHIP SCHOOL",
          "YOUNG WOMEN'S LEADERSHIP SCHOOL",
          "HERITAGE SCHOOL, THE",
          "MOTT HALL HIGH SCHOOL",
          "COLUMBIA SECONDARY SCHOOL FOR MATH, SCIENCE, AND ENGINEERING",
          "ACADEMY FOR SOCIAL ACTION: A COLLEGE BOARD SCHOOL",
          "URBAN ASSEMBLY SCHOOL FOR THE PERFORMING ARTS",
          "FREDERICK DOUGLASS ACADEMY",
          "THURGOOD MARSHALL ACADEMY FOR LEARNING AND SOCIAL CHANGE",
          "HIGH SCHOOL FOR MATHEMATICS, SCIENCE AND ENGINEERING AT CITY COLLEGE",
          "CITY COLLEGE ACADEMY OF THE ARTS",
          "COMMUNITY HEALTH ACADEMY OF THE HEIGHTS",
          "WASHINGTON HEIGHTS EXPEDITIONARY LEARNING SCHOOL",
          "HIGH SCHOOL FOR EXCELLENCE AND INNOVATION",
          "HIGH SCHOOL FOR INTERNATIONAL BUSINESS AND FINANCE",
          "HIGH SCHOOL FOR MEDIA AND COMMUNICATIONS",
          "HIGH SCHOOL FOR LAW AND PUBLIC SERVICE",
          "HIGH SCHOOL FOR HEALTH CAREERS AND SCIENCES",
          "A. PHILIP RANDOLPH CAMPUS HIGH SCHOOL",
          "GREGORIO LUPERON HIGH SCHOOL FOR SCIENCE AND MATHEMATICS"
         ],
         "textfont": {
          "color": "#4D5663"
         },
         "type": "scatter",
         "x": [
          30.575555960627053,
          9.898477157360407,
          3.177257525083612,
          35.157723747642,
          15.809051456912584,
          20.912292731579605,
          74.15450928381964,
          29.798809735299344,
          37.61773940345369,
          30.79447402239765,
          5.072463768115942,
          22.96983758700696,
          9.312638580931264,
          8.012820512820513,
          38.40144230769231,
          34.13461538461539,
          26.066433566433567,
          29.798809735299344,
          38.86411028730306,
          42.44369939271255,
          52.88067465321564,
          15.27977044476327,
          3.9840637450199203,
          18.055555555555554,
          19.689119170984455,
          29.593772053634442,
          30.57199211045365,
          13.738019169329075,
          30.6481819842865,
          11.538461538461538,
          11.532125205930807,
          73.73076923076923,
          57.09240980258679,
          73.3118444055944,
          9.79020979020979,
          29.06055093555094,
          3.6923076923076925,
          45.799211404306945,
          12.484548825710753,
          54.442551119766314,
          6.109979633401222,
          5.692233478051134,
          11.049723756906078,
          59.460297766749385,
          12.384473197781885,
          30.50327332242226,
          17.280453257790366,
          1.627906976744186,
          10.98360655737705,
          4.377736085053159,
          67.20252403846155,
          11.158798283261802,
          6.25,
          6.97350069735007,
          30.868145012881858,
          35.25378310214376,
          45.59323185648274,
          36.04157713794586,
          12.5968992248062,
          58.917281348788194,
          14.285714285714285,
          26.525911708253357,
          23.850063984075078,
          6.301824212271974,
          28.483188996434034,
          2.663438256658596,
          5.157593123209169,
          19.87878787878788,
          36.97101608992727,
          28.995246326707004,
          9.131403118040089,
          28.736936782593798,
          43.887362637362635,
          2.5821596244131455,
          27.221275559883157,
          4,
          34.499691484985604,
          10.475578406169666,
          6.379310344827586,
          28.078817733990146,
          22.018574428983985,
          24.813239644970416,
          21.43336314847943,
          72.4881158167675,
          17.142857142857142,
          6.468531468531468,
          20.31700288184438,
          4.712812960235641,
          12.840466926070038,
          18.64406779661017
         ],
         "y": [
          1122,
          1172,
          1149,
          1207,
          1621,
          1856,
          1182,
          1194,
          1156,
          1111,
          1293,
          1269,
          1051,
          1148,
          1200,
          1127,
          1176,
          1435,
          1223.4388059701494,
          1223.4388059701494,
          1223.4388059701494,
          1419,
          1522,
          1577,
          1677,
          1419,
          1758,
          1614,
          1170,
          1306,
          1233,
          1223.4388059701494,
          1223.4388059701494,
          1223.4388059701494,
          1372,
          1199,
          1227,
          2096,
          1374,
          1070,
          1416,
          1240,
          1239,
          1253,
          1058,
          1168,
          1424,
          1212,
          1195,
          1257,
          1255,
          1207,
          1315,
          1236,
          1132,
          1144,
          1223.4388059701494,
          1223.4388059701494,
          1109,
          1223.4388059701494,
          1744,
          1707,
          1196,
          1277,
          1446,
          1096,
          1084,
          1430,
          1128,
          1221,
          1326,
          1326,
          1054,
          1210,
          1223.4388059701494,
          1062,
          1077,
          1374,
          1202,
          1847,
          1270,
          1105,
          1174,
          1223.4388059701494,
          1127,
          1098,
          1102,
          1224,
          1309,
          1014
         ]
        },
        {
         "marker": {
          "color": "rgba(55, 128, 191, 1.0)",
          "line": {
           "width": 1.3
          },
          "opacity": 0.8,
          "size": 12,
          "symbol": "circle"
         },
         "mode": "markers",
         "name": "Bronx",
         "text": [
          "SOUTH BRONX PREPARATORY: A COLLEGE BOARD SCHOOL",
          "INTERNATIONAL COMMUNITY HIGH SCHOOL",
          "COMMUNITY SCHOOL FOR SOCIAL JUSTICE",
          "MOTT HAVEN VILLAGE PREPARATORY HIGH SCHOOL",
          "UNIVERSITY HEIGHTS SECONDARY SCHOOL",
          "HOSTOSsLINCOLN ACADEMY OF SCIENCE",
          "FOREIGN LANGUAGE ACADEMY OF GLOBAL STUDIES",
          "BRONX LEADERSHIP ACADEMY II HIGH SCHOOL",
          "NEW EXPLORERS HIGH SCHOOL",
          "URBAN ASSEMBLY SCHOOL FOR CAREERS IN SPORTS",
          "BRONX ACADEMY OF LETTERS",
          "ALFRED E. SMITH CAREER AND TECHNICAL EDUCATION HIGH SCHOOL",
          "HEALTH OPPORTUNITIES HIGH SCHOOL",
          "BRONX STUDIO SCHOOL FOR WRITERS AND ARTISTS",
          "WOMEN'S ACADEMY OF EXCELLENCE",
          "RENAISSANCE HIGH SCHOOL FOR MUSICAL THEATER & TECHNOLOGY",
          "PABLO NERUDA ACADEMY FOR ARCHITECTURE AND WORLD STUDIES",
          "MILLENNIUM ART ACADEMY",
          "HOLCOMBE L. RUCKER SCHOOL OF COMMUNITY RESEARCH",
          "ANTONIA PANTOJA PREPARATORY ACADEMY, A COLLEGE BOARD SCHOOL",
          "HERBERT H. LEHMAN HIGH SCHOOL",
          "BRONX BRIDGES HIGH SCHOOL",
          "FELISA RINCON DE GAUTIER INSTITUTE FOR LAW AND PUBLIC POLICY, THE",
          "BANANA KELLY HIGH SCHOOL",
          "BRONX EXPEDITIONARY LEARNING HIGH SCHOOL",
          "EAGLE ACADEMY FOR YOUNG MEN",
          "URBAN ASSEMBLY SCHOOL FOR APPLIED MATH AND SCIENCE, THE",
          "EXIMIUS COLLEGE PREPARATORY ACADEMY: A COLLEGE BOARD SCHOOL",
          "MOTT HALL BRONX HIGH SCHOOL",
          "BRONX CENTER FOR SCIENCE AND MATHEMATICS",
          "VALIDUS PREPARATORY ACADEMY: AN EXPEDITIONARY LEARNING SCHOOL",
          "LEADERSHIP INSTITUTE",
          "MORRIS ACADEMY FOR COLLABORATIVE STUDIES",
          "BRONX EARLY COLLEGE ACADEMY FOR TEACHING & LEARNING",
          "DREAMYARD PREPARATORY SCHOOL",
          "ACADEMY FOR LANGUAGE AND TECHNOLOGY",
          "BRONX INTERNATIONAL HIGH SCHOOL",
          "SCHOOL FOR EXCELLENCE",
          "BRONX HIGH SCHOOL OF BUSINESS",
          "BRONX HIGH SCHOOL FOR MEDICAL SCIENCE",
          "BRONX SCHOOL FOR LAW, GOVERNMENT AND JUSTICE",
          "FREDERICK DOUGLASS ACADEMY III SECONDARY SCHOOL",
          "BRONX LEADERSHIP ACADEMY HIGH SCHOOL",
          "HIGH SCHOOL FOR VIOLIN AND DANCE",
          "RIVERDALE / KINGSBRIDGE ACADEMY (MIDDLE SCHOOL / HIGH SCHOOL 141)",
          "BRONX ENGINEERING AND TECHNOLOGY ACADEMY",
          "THEATRE ARTS PRODUCTION COMPANY SCHOOL",
          "THE MARIE CURIE SCHOOL FOR MEDICINE, NURSING, AND HEALTH PROFESSIONS",
          "WEST BRONX ACADEMY FOR THE FUTURE",
          "KINGSBRIDGE INTERNATIONAL HIGH SCHOOL",
          "BRONX SCHOOL OF LAW AND FINANCE",
          "INTERNATIONAL SCHOOL FOR LIBERAL ARTS",
          "INsTECH ACADEMY (M.S. / HIGH SCHOOL 368)",
          "KNOWLEDGE AND POWER PREPARATORY ACADEMY INTERNATIONAL HIGH SCHOOL (KAPPA)",
          "HIGH SCHOOL FOR TEACHING AND THE PROFESSIONS",
          "BELMONT PREPARATORY HIGH SCHOOL",
          "FORDHAM HIGH SCHOOL FOR THE ARTS",
          "FORDHAM LEADERSHIP ACADEMY FOR BUSINESS AND TECHNOLOGY",
          "BRONX HIGH SCHOOL FOR LAW AND COMMUNITY SERVICE",
          "DEWITT CLINTON HIGH SCHOOL",
          "CELIA CRUZ BRONX HIGH SCHOOL OF MUSIC, THE",
          "BRONX HIGH SCHOOL OF SCIENCE",
          "MARBLE HILL HIGH SCHOOL FOR INTERNATIONAL STUDIES",
          "BRONX THEATRE HIGH SCHOOL",
          "DISCOVERY HIGH SCHOOL",
          "HIGH SCHOOL OF AMERICAN STUDIES AT LEHMAN COLLEGE",
          "BRONX HEALTH SCIENCES HIGH SCHOOL",
          "BRONX HIGH SCHOOL FOR WRITING AND COMMUNICATION ARTS",
          "BRONX LAB SCHOOL",
          "ACADEMY FOR SCHOLARSHIP AND ENTREPRENEURSHIP: A COLLEGE BOARD SCHOOL",
          "HIGH SCHOOL OF COMPUTERS AND TECHNOLOGY",
          "COLLEGIATE INSTITUTE FOR MATH AND SCIENCE",
          "BRONX ACADEMY OF HEALTH CAREERS",
          "ASTOR COLLEGIATE ACADEMY",
          "BRONX HIGH SCHOOL FOR THE VISUAL ARTS",
          "HARRY S TRUMAN HIGH SCHOOL",
          "NEW WORLD HIGH SCHOOL",
          "THE BRONXWOOD PREPARATORY ACADEMY",
          "PELHAM PREPARATORY ACADEMY",
          "HIGH SCHOOL FOR CONTEMPORARY ARTS",
          "BRONX AEROSPACE HIGH SCHOOL",
          "METROPOLITAN HIGH SCHOOL, THE",
          "EXPLORATIONS ACADEMY",
          "BRONX LATIN",
          "EAST BRONX ACADEMY FOR THE FUTURE",
          "PEACE AND DIVERSITY ACADEMY",
          "PAN AMERICAN INTERNATIONAL HIGH SCHOOL AT MONROE",
          "THE CINEMA SCHOOL",
          "BRONX CAREER AND COLLEGE PREPARATORY HIGH SCHOOL",
          "HIGH SCHOOL OF WORLD CULTURES",
          "FANNIE LOU HAMER FREEDOM HIGH SCHOOL",
          "WINGS ACADEMY",
          "MONROE ACADEMY FOR VISUAL ARTS & DESIGN"
         ],
         "textfont": {
          "color": "#4D5663"
         },
         "type": "scatter",
         "x": [
          10.128617363344052,
          32.83176746917205,
          40.44791415481071,
          35.545136681500324,
          27.748138957816376,
          11.895910780669144,
          4.180064308681672,
          5.9760956175298805,
          4.699738903394255,
          27.050072568940497,
          9.54954954954955,
          1.4905149051490514,
          10.391822827938672,
          25.805769230769233,
          5.540897097625329,
          4.690831556503198,
          35.9411827726591,
          7.056451612903227,
          6.006006006006006,
          29.867788461538463,
          11.967715001391594,
          83.24441687344914,
          35.545136681500324,
          28.60950025584172,
          36.346153846153854,
          5.818181818181818,
          2.6402640264026402,
          25.280898876404496,
          36.448826597131685,
          13.963963963963963,
          1.9178082191780823,
          7.391304347826087,
          28.673076923076923,
          26.172179747230455,
          4.297994269340974,
          5.952380952380952,
          32.01708341286505,
          33.427162216022325,
          6.483790523690773,
          28.357988165680474,
          5.897771952817824,
          4.887218045112782,
          5.673758865248227,
          39.94701119314122,
          9.947643979057592,
          24.0990990990991,
          3.2442748091603053,
          2.7777777777777777,
          3.930817610062893,
          6.438631790744467,
          4.976303317535545,
          9.075907590759076,
          3.5523978685612785,
          39.82371794871795,
          13.107822410147993,
          7.616707616707617,
          33.34078711985689,
          9.312638580931264,
          10.185185185185185,
          8.800192353931234,
          7.328605200945626,
          39.495519415864585,
          18.201754385964914,
          7.640449438202247,
          24.39108622946052,
          51.45888594164456,
          34.22515813099368,
          6.6350710900473935,
          26.769470156399617,
          3.9603960396039604,
          23.45979020979021,
          14.548802946593002,
          26.714046822742475,
          7.228915662650602,
          5.383022774327122,
          5.80936266215454,
          2.9850746268656714,
          31.01654955621302,
          9.072978303747535,
          26.937128633370804,
          31.01654955621302,
          7.374631268436578,
          35.64332766680833,
          30.868145012881858,
          5.169628432956381,
          3.463203463203463,
          31.780503978779844,
          57.86046912728528,
          52.88067465321564,
          34.967166979362105,
          27.050072568940497,
          3.717472118959108,
          27.68859359524596
         ],
         "y": [
          1090,
          945,
          1077,
          1097,
          1201,
          1257,
          1186,
          1103,
          1084,
          1181,
          1201,
          1158,
          1095,
          1223.4388059701494,
          1171,
          1158,
          1038,
          1164,
          1084,
          1223.4388059701494,
          1241,
          1223.4388059701494,
          1099,
          1131,
          1049,
          1134,
          1290,
          1169,
          1092,
          1396,
          1075,
          1081,
          1148,
          1223.4388059701494,
          1138,
          951,
          965,
          1074,
          1083,
          1221,
          1224,
          1121,
          1166,
          1039,
          1333,
          1150,
          1190,
          1157,
          1158,
          962,
          1182,
          934,
          1181,
          1180,
          1106,
          1222,
          1077,
          1119,
          1082,
          1255,
          1270,
          1969,
          1263,
          1064,
          1115,
          1920,
          1133,
          1147,
          1135,
          1141,
          1111,
          1348,
          1135,
          1169,
          1268,
          1151,
          1048,
          1112,
          1288,
          1126,
          1163,
          1055,
          1122,
          1251,
          1102,
          1155,
          970,
          1223.4388059701494,
          1223.4388059701494,
          939,
          1029,
          1114,
          1038
         ]
        },
        {
         "marker": {
          "color": "rgba(50, 171, 96, 1.0)",
          "line": {
           "width": 1.3
          },
          "opacity": 0.8,
          "size": 12,
          "symbol": "circle"
         },
         "mode": "markers",
         "name": "Brooklyn",
         "text": [
          "DR. SUSAN S. MCKINNEY SECONDARY SCHOOL OF THE ARTS",
          "URBAN ASSEMBLY HIGH SCHOOL OF MUSIC AND ART",
          "BROOKLYN COMMUNITY HIGH SCHOOL OF COMMUNICATION, ARTS AND MEDIA",
          "SCIENCE SKILLS CENTER HIGH SCHOOL FOR SCIENCE, TECHNOLOGY AND THE CREATIVE ARTS",
          "BROOKLYN TECHNICAL HIGH SCHOOL",
          "BROOKLYN INTERNATIONAL HIGH SCHOOL",
          "THE URBAN ASSEMBLY SCHOOL FOR LAW AND JUSTICE",
          "ACORN COMMUNITY HIGH SCHOOL",
          "URBAN ASSEMBLY INSTITUTE OF MATH AND SCIENCE FOR YOUNG WOMEN",
          "BEDFORD ACADEMY HIGH SCHOOL",
          "GEORGE WESTINGHOUSE CAREER AND TECHNICAL EDUCATION HIGH SCHOOL",
          "BENJAMIN BANNEKER ACADEMY",
          "CITY POLYTECHNIC HIGH SCHOOL OF ENGINEERING, ARCHITECTURE, AND TECHNOLOGY",
          "JUAN MOREL CAMPOS SECONDARY SCHOOL",
          "FOUNDATIONS ACADEMY",
          "BROOKLYN LATIN SCHOOL, THE",
          "GREEN SCHOOL: AN ACADEMY FOR ENVIRONMENTAL CAREERS",
          "PROGRESS HIGH SCHOOL FOR PROFESSIONAL CAREERS",
          "SCHOOL FOR LEGAL STUDIES",
          "THE HIGH SCHOOL FOR ENTERPRISE, BUSINESS AND TECHNOLOGY",
          "BROOKLYN PREPARATORY HIGH SCHOOL",
          "WILLIAMSBURG HIGH SCHOOL FOR ARCHITECTURE AND DESIGN",
          "WILLIAMSBURG PREPARATORY SCHOOL",
          "LYONS COMMUNITY SCHOOL",
          "AUTOMOTIVE HIGH SCHOOL",
          "FRANCES PERKINS ACADEMY",
          "EL PUENTE ACADEMY FOR PEACE AND JUSTICE",
          "BROOKLYN SCHOOL FOR GLOBAL STUDIES",
          "BROOKLYN SECONDARY SCHOOL FOR COLLABORATIVE STUDIES",
          "SECONDARY SCHOOL FOR LAW",
          "SECONDARY SCHOOL FOR JOURNALISM",
          "PARK SLOPE COLLEGIATE",
          "SCHOOL FOR INTERNATIONAL STUDIES",
          "COBBLE HILL SCHOOL OF AMERICAN STUDIES",
          "BROOKLYN HIGH SCHOOL OF THE ARTS",
          "SUNSET PARK HIGH SCHOOL",
          "FREDERICK DOUGLASS ACADEMY IV SECONDARY SCHOOL",
          "BOYS AND GIRLS HIGH SCHOOL",
          "BROOKLYN HIGH SCHOOL FOR LAW AND TECHNOLOGY",
          "THE BROOKLYN ACADEMY OF GLOBAL FINANCE",
          "ACADEMY FOR COLLEGE PREPARATION AND CAREER EXPLORATION: A COLLEGE BOARD SCHOOL",
          "ACADEMY OF HOSPITALITY AND TOURISM",
          "INTERNATIONAL HIGH SCHOOL AT PROSPECT HEIGHTS",
          "THE HIGH SCHOOL FOR GLOBAL CITIZENSHIP",
          "SCHOOL FOR HUMAN RIGHTS, THE",
          "SCHOOL FOR DEMOCRACY AND LEADERSHIP",
          "HIGH SCHOOL FOR YOUTH AND COMMUNITY DEVELOPMENT AT ERASMUS",
          "HIGH SCHOOL FOR SERVICE & LEARNING AT ERASMUS",
          "SCIENCE, TECHNOLOGY AND RESEARCH EARLY COLLEGE HIGH SCHOOL AT ERASMUS",
          "HIGH SCHOOL FOR PUBLIC SERVICE: HEROES OF TOMORROW",
          "BROOKLYN ACADEMY OF SCIENCE AND THE ENVIRONMENT",
          "BROOKLYN SCHOOL FOR MUSIC & THEATRE",
          "MEDGAR EVERS COLLEGE PREPARATORY SCHOOL",
          "CLARA BARTON HIGH SCHOOL",
          "IT TAKES A VILLAGE ACADEMY",
          "BROOKLYN GENERATION SCHOOL",
          "BROOKLYN THEATRE ARTS HIGH SCHOOL",
          "KURT HAHN EXPEDITIONARY LEARNING SCHOOL",
          "VICTORY COLLEGIATE HIGH SCHOOL",
          "ARTS & MEDIA PREPARATORY ACADEMY",
          "HIGH SCHOOL FOR INNOVATION IN ADVERTISING AND MEDIA",
          "CULTURAL ACADEMY FOR THE ARTS AND SCIENCES",
          "HIGH SCHOOL FOR MEDICAL PROFESSIONS",
          "ACADEMY FOR CONSERVATION AND THE ENVIRONMENT",
          "URBAN ACTION ACADEMY",
          "EAST NEW YORK FAMILY ACADEMY",
          "FDNY HIGH SCHOOL FOR FIRE AND LIFE SAFETY",
          "HIGH SCHOOL FOR CIVIL RIGHTS",
          "PERFORMING ARTS AND TECHNOLOGY HIGH SCHOOL",
          "WORLD ACADEMY FOR TOTAL COMMUNITY HEALTH HIGH SCHOOL",
          "MULTICULTURAL HIGH SCHOOL",
          "TRANSIT TECH CAREER AND TECHNICAL EDUCATION HIGH SCHOOL",
          "ACADEMY OF INNOVATIVE TECHNOLOGY",
          "BROOKLYN LAB SCHOOL",
          "CYPRESS HILLS COLLEGIATE PREPARATORY SCHOOL",
          "W. H. MAXWELL CAREER AND TECHNICAL EDUCATION HIGH SCHOOL",
          "THE SCHOOL FOR CLASSICS: AN ACADEMY OF THINKERS, WRITERS AND PERFORMERS",
          "NEW UTRECHT HIGH SCHOOL",
          "HIGH SCHOOL OF TELECOMMUNICATION ARTS AND TECHNOLOGY",
          "FORT HAMILTON HIGH SCHOOL",
          "FRANKLIN DELANO ROOSEVELT HIGH SCHOOL",
          "THE URBAN ASSEMBLY SCHOOL FOR CRIMINAL JUSTICE",
          "INTERNATIONAL HIGH SCHOOL AT LAFAYETTE",
          "RACHEL CARSON HIGH SCHOOL FOR COASTAL STUDIES",
          "HIGH SCHOOL OF SPORTS MANAGEMENT",
          "ABRAHAM LINCOLN HIGH SCHOOL",
          "KINGSBOROUGH EARLY COLLEGE SCHOOL",
          "EDWARD R. MURROW HIGH SCHOOL",
          "JOHN DEWEY HIGH SCHOOL",
          "LIFE ACADEMY HIGH SCHOOL FOR FILM AND MUSIC",
          "EXPEDITIONARY LEARNING SCHOOL FOR COMMUNITY LEADERS",
          "WILLIAM E. GRADY CAREER AND TECHNICAL EDUCATION HIGH SCHOOL",
          "BROOKLYN STUDIO SECONDARY SCHOOL",
          "MIDWOOD HIGH SCHOOL",
          "JAMES MADISON HIGH SCHOOL",
          "LEON M. GOLDSTEIN HIGH SCHOOL FOR THE SCIENCES",
          "BROOKLYN COLLEGE ACADEMY",
          "BROOKLYN COLLEGIATE: A COLLEGE BOARD SCHOOL",
          "FREDERICK DOUGLASS ACADEMY VII HIGH SCHOOL",
          "TEACHERS PREPARATORY HIGH SCHOOL",
          "ACADEMY FOR ENVIRONMENTAL LEADERSHIP",
          "EBC HIGH SCHOOL FOR PUBLIC SERVICE–BUSHWICK",
          "BUSHWICK SCHOOL FOR SOCIAL JUSTICE",
          "ACADEMY OF URBAN PLANNING",
          "ALL CITY LEADERSHIP SECONDARY SCHOOL",
          "BUSHWICK LEADERS HIGH SCHOOL FOR ACADEMIC EXCELLENCE"
         ],
         "textfont": {
          "color": "#4D5663"
         },
         "type": "scatter",
         "x": [
          3.837471783295711,
          29.937087274674283,
          4.545454545454546,
          10.058027079303674,
          39.70367591897975,
          35.157723747642,
          6.888888888888889,
          8.755129958960328,
          27.511481056257175,
          11.716621253405995,
          3.7756202804746493,
          14.748603351955309,
          38.51607347876005,
          1.8497109826589597,
          29.78723404255319,
          27.570266272189354,
          32.91552197802198,
          4.681647940074907,
          3.1620553359683794,
          9.631147540983607,
          7.000000000000001,
          6,
          5.37261698440208,
          24.483652021602687,
          17.846313437599743,
          74.58314806580702,
          59.187544107268884,
          36.448826597131685,
          18.645787016451756,
          27.278825825337456,
          6.547619047619048,
          32.748438110113234,
          6.172839506172839,
          3.770739064856712,
          19.03080326752893,
          13.059599813142325,
          29.39153670930437,
          1.3488657265481299,
          12.098765432098766,
          81.15021770682148,
          11.327433628318584,
          40.44791415481071,
          32.176769614425474,
          5.830903790087463,
          33.427162216022325,
          31.780503978779844,
          5.454545454545454,
          30.575555960627053,
          24.76561346522959,
          25.41966426858513,
          10.40339702760085,
          8.980582524271846,
          24.637681159420293,
          8.395522388059701,
          33.77718485702779,
          38.9815245177783,
          33.77718485702779,
          43.887362637362635,
          39.701183431952664,
          44.03714885796797,
          41.62220843672457,
          43.153460252122464,
          28.0497491638796,
          47.09081976417743,
          42.30453972257251,
          29.798809735299344,
          33.86583888552393,
          2.9925187032418954,
          28.483188996434034,
          5.7894736842105265,
          10.83743842364532,
          10.478359908883828,
          31.937833206397563,
          32.50096880449526,
          4.805491990846682,
          7.796610169491526,
          41.488374969082365,
          5.311355311355311,
          19.609375,
          8.350877192982455,
          7.335907335907336,
          34.499691484985604,
          37.61773940345369,
          7.0686070686070686,
          2.7027027027027026,
          5.1252408477842,
          27.33661994784876,
          9.870711089010442,
          10.70110701107011,
          51.40591480232914,
          57.09240980258679,
          13.496741229481815,
          4.4520547945205475,
          19.390942217595004,
          10.500650195058519,
          35.90998043052838,
          20.480769230769234,
          2.586206896551724,
          10.684931506849315,
          5.830388692579505,
          35.64332766680833,
          7.755775577557755,
          29.730148883374692,
          19.09547738693467,
          2.6615969581749046,
          7.35930735930736
         ],
         "y": [
          1074,
          1080,
          1114,
          1211,
          1833,
          981,
          1206,
          1116,
          1223.4388059701494,
          1312,
          1189,
          1391,
          1353,
          1085,
          1223.4388059701494,
          1740,
          1189,
          1114,
          1204,
          1215,
          1090,
          1112,
          1187,
          1103,
          1093,
          1122,
          1035,
          1111,
          1179,
          1203,
          1169,
          1175,
          1212,
          1185,
          1258,
          1223.4388059701494,
          1068,
          1097,
          1092,
          1223.4388059701494,
          1139,
          1045,
          913,
          1176,
          1088,
          1153,
          1027,
          1105,
          1360,
          1273,
          1143,
          1151,
          1436,
          1251,
          963,
          1145,
          1118,
          1092,
          1143,
          1080,
          1183,
          1169,
          1159,
          1111,
          1135,
          1242,
          1023,
          1054,
          1149,
          1106,
          887,
          1193,
          1096,
          1108,
          1129,
          1102,
          1157,
          1272,
          1323,
          1306,
          1244,
          1223.4388059701494,
          1026,
          1237,
          1164,
          1226,
          1223.4388059701494,
          1431,
          1262,
          1124,
          1079,
          1184,
          1313,
          1473,
          1350,
          1627,
          1352,
          1185,
          1091,
          1196,
          1098,
          1154,
          1035,
          1060,
          1315,
          1055
         ]
        },
        {
         "marker": {
          "color": "rgba(128, 0, 128, 1.0)",
          "line": {
           "width": 1.3
          },
          "opacity": 0.8,
          "size": 12,
          "symbol": "circle"
         },
         "mode": "markers",
         "name": "Queens",
         "text": [
          "ACADEMY OF FINANCE AND ENTERPRISE",
          "HIGH SCHOOL OF APPLIED COMMUNICATION",
          "CIVIC LEADERSHIP ACADEMY",
          "PAN AMERICAN INTERNATIONAL HIGH SCHOOL",
          "BARD HIGH SCHOOL EARLY COLLEGE II",
          "NEWTOWN HIGH SCHOOL",
          "GROVER CLEVELAND HIGH SCHOOL",
          "MIDDLE COLLEGE HIGH SCHOOL AT LAGUARDIA COMMUNITY COLLEGE",
          "INTERNATIONAL HIGH SCHOOL AT LAGUARDIA COMMUNITY COLLEGE",
          "HIGH SCHOOL FOR ARTS AND BUSINESS",
          "ROBERT F. WAGNER, JR. SECONDARY SCHOOL FOR ARTS AND TECHNOLOGY",
          "QUEENS VOCATIONAL AND TECHNICAL HIGH SCHOOL",
          "AVIATION CAREER & TECHNICAL EDUCATION HIGH SCHOOL",
          "QUEENS SCHOOL OF INQUIRY, THE",
          "FLUSHING INTERNATIONAL HIGH SCHOOL",
          "EASTsWEST SCHOOL OF INTERNATIONAL STUDIES",
          "WORLD JOURNALISM PREPARATORY: A COLLEGE BOARD SCHOOL",
          "JOHN BOWNE HIGH SCHOOL",
          "FLUSHING HIGH SCHOOL",
          "TOWNSEND HARRIS HIGH SCHOOL",
          "ROBERT F. KENNEDY COMMUNITY HIGH SCHOOL",
          "BENJAMIN N. CARDOZO HIGH SCHOOL",
          "FRANCIS LEWIS HIGH SCHOOL",
          "MARTIN VAN BUREN HIGH SCHOOL",
          "BAYSIDE HIGH SCHOOL",
          "QUEENS HIGH SCHOOL OF TEACHING, LIBERAL ARTS AND THE SCIENCES",
          "FREDERICK DOUGLASS ACADEMY VI HIGH SCHOOL",
          "CHANNEL VIEW SCHOOL FOR RESEARCH",
          "QUEENS HIGH SCHOOL FOR INFORMATION, RESEARCH, AND TECHNOLOGY",
          "ROBERT H. GODDARD HIGH SCHOOL OF COMMUNICATION ARTS AND TECHNOLOGY",
          "ACADEMY OF MEDICAL TECHNOLOGY: A COLLEGE BOARD SCHOOL",
          "SCHOLARS' ACADEMY",
          "AUGUST MARTIN HIGH SCHOOL",
          "RICHMOND HILL HIGH SCHOOL",
          "JOHN ADAMS HIGH SCHOOL",
          "HIGH SCHOOL FOR CONSTRUCTION TRADES, ENGINEERING AND ARCHITECTURE",
          "YORK EARLY COLLEGE ACADEMY",
          "QUEENS COLLEGIATE: A COLLEGE BOARD SCHOOL",
          "HILLSIDE ARTS & LETTERS ACADEMY",
          "FOREST HILLS HIGH SCHOOL",
          "HILLCREST HIGH SCHOOL",
          "THOMAS A. EDISON CAREER AND TECHNICAL EDUCATION HIGH SCHOOL",
          "QUEENS GATEWAY TO HEALTH SCIENCES SECONDARY SCHOOL",
          "QUEENS METROPOLITAN HIGH SCHOOL",
          "QUEENS HIGH SCHOOL FOR THE SCIENCES AT YORK COLLEGE",
          "HIGH SCHOOL FOR LAW ENFORCEMENT AND PUBLIC SAFETY",
          "YOUNG WOMEN'S LEADERSHIP SCHOOL, QUEENS",
          "QUEENS PREPARATORY ACADEMY",
          "PATHWAYS COLLEGE PREPARATORY SCHOOL: A COLLEGE BOARD SCHOOL",
          "EXCELSIOR PREPARATORY HIGH SCHOOL",
          "GEORGE WASHINGTON CARVER HIGH SCHOOL FOR THE SCIENCES",
          "PREPARATORY ACADEMY FOR WRITERS: A COLLEGE BOARD SCHOOL",
          "CAMBRIA HEIGHTS ACADEMY",
          "MATHEMATICS, SCIENCE RESEARCH AND TECHNOLOGY MAGNET HIGH SCHOOL",
          "HUMANITIES & ARTS MAGNET HIGH SCHOOL",
          "YOUNG WOMEN'S LEADERSHIP SCHOOL, ASTORIA",
          "ACADEMY FOR CAREERS IN TELEVISION AND FILM",
          "WILLIAM CULLEN BRYANT HIGH SCHOOL",
          "LONG ISLAND CITY HIGH SCHOOL",
          "FRANK SINATRA SCHOOL OF THE ARTS HIGH SCHOOL",
          "INFORMATION TECHNOLOGY HIGH SCHOOL",
          "NEWCOMERS HIGH SCHOOL",
          "ACADEMY OF AMERICAN STUDIES",
          "BACCALAUREATE SCHOOL FOR GLOBAL EDUCATION"
         ],
         "textfont": {
          "color": "#4D5663"
         },
         "type": "scatter",
         "x": [
          22.61904761904762,
          11.855670103092782,
          28.736936782593798,
          35.25378310214376,
          20.448311593319517,
          6.765163297045102,
          9.666505558240695,
          25.961538461538463,
          26.172179747230455,
          23.91304347826087,
          21.46902598233713,
          1.9736842105263157,
          5.906406179009541,
          21.981064080723367,
          30.575555960627053,
          20.94624125874126,
          10.92436974789916,
          4.808743169398907,
          10.407966591712174,
          53.771929824561404,
          10.679611650485436,
          17.280163599182004,
          16.78709055876686,
          2.9707112970711296,
          14.510278113663846,
          10.788365063030616,
          28.995246326707004,
          6.761006289308176,
          41.62220843672457,
          22.32332978440245,
          24.483652021602687,
          5.178907721280603,
          1.84645286686103,
          5.493230174081238,
          4.134672179562906,
          9.848484848484848,
          26.386267107126006,
          24.39108622946052,
          64.51442307692308,
          19.118414188836724,
          7.7666774089590715,
          8.126110124333925,
          11.36653895274585,
          19.461364427427778,
          51.43540669856459,
          3.544776119402985,
          1.1764705882352942,
          3.4013605442176873,
          5.225225225225225,
          29.126150373328702,
          2.9535864978902953,
          8.456659619450317,
          87.77472527472527,
          5.339805825242718,
          26.825123940508554,
          26.066433566433567,
          30.79447402239765,
          8.251273344651953,
          11.990549320732427,
          14.285714285714285,
          5.561613958560523,
          12.768240343347639,
          14.346590909090908,
          29.324737762237763
         ],
         "y": [
          1280,
          1219,
          1240,
          951,
          1663,
          1203,
          1211,
          1177,
          1064,
          1174,
          1330,
          1270,
          1364,
          1396,
          1049,
          1271,
          1441,
          1243,
          1216,
          1910,
          1330,
          1514,
          1474,
          1172,
          1449,
          1279,
          1145,
          1252,
          1156,
          1265,
          1094,
          1532,
          1108,
          1154,
          1192,
          1345,
          1223.4388059701494,
          1265,
          1223.4388059701494,
          1407,
          1194,
          1372,
          1538,
          1223.4388059701494,
          1868,
          1196,
          1316,
          1099,
          1173,
          1202,
          1287,
          1100,
          1223.4388059701494,
          1220,
          1151,
          1223.4388059701494,
          1255,
          1275,
          1218,
          1494,
          1239,
          1127,
          1470,
          1636
         ]
        },
        {
         "marker": {
          "color": "rgba(219, 64, 82, 1.0)",
          "line": {
           "width": 1.3
          },
          "opacity": 0.8,
          "size": 12,
          "symbol": "circle"
         },
         "mode": "markers",
         "name": "Staten Island",
         "text": [
          "CSI HIGH SCHOOL FOR INTERNATIONAL STUDIES",
          "GAYNOR MCCOWN EXPEDITIONARY LEARNING SCHOOL",
          "THE MICHAEL J. PETRIDES SCHOOL",
          "NEW DORP HIGH SCHOOL",
          "PORT RICHMOND HIGH SCHOOL",
          "CURTIS HIGH SCHOOL",
          "TOTTENVILLE HIGH SCHOOL",
          "SUSAN E. WAGNER HIGH SCHOOL",
          "RALPH R. MCKEE CAREER AND TECHNICAL EDUCATION HIGH SCHOOL",
          "STATEN ISLAND TECHNICAL HIGH SCHOOL"
         ],
         "textfont": {
          "color": "#4D5663"
         },
         "type": "scatter",
         "x": [
          24.25354251012146,
          31.624717194570138,
          12.385321100917432,
          3.611738148984198,
          9.019060901906089,
          9.678683385579937,
          10.219354838709679,
          8.603145235892692,
          19.115384615384617,
          47.82608695652174
         ],
         "y": [
          1353,
          1195,
          1426,
          1277,
          1279,
          1301,
          1418,
          1388,
          1235,
          1953
         ]
        }
       ],
       "layout": {
        "legend": {
         "bgcolor": "#F5F6F9",
         "font": {
          "color": "#4D5663"
         }
        },
        "paper_bgcolor": "#F5F6F9",
        "plot_bgcolor": "#F5F6F9",
        "shapes": [
         {
          "line": {
           "color": "#000000",
           "dash": "dash",
           "width": 1
          },
          "type": "line",
          "x0": 0,
          "x1": 1,
          "xref": "paper",
          "y0": 1223.438805970149,
          "y1": 1223.438805970149,
          "yref": "y"
         },
         {
          "line": {
           "color": "#000000",
           "dash": "dash",
           "width": 1
          },
          "type": "line",
          "x0": 21.050294828886546,
          "x1": 21.050294828886546,
          "xref": "x",
          "y0": 0,
          "y1": 1,
          "yref": "paper"
         }
        ],
        "title": "Share of AP-Test takers vs. SAT score by school <br> dashed lines: average of entire dataset",
        "titlefont": {
         "color": "#4D5663"
        },
        "xaxis": {
         "gridcolor": "#E1E5ED",
         "showgrid": true,
         "tickfont": {
          "color": "#4D5663"
         },
         "title": "AP-Test Takers, %",
         "titlefont": {
          "color": "#4D5663"
         },
         "zerolinecolor": "#E1E5ED"
        },
        "yaxis": {
         "gridcolor": "#E1E5ED",
         "showgrid": true,
         "tickfont": {
          "color": "#4D5663"
         },
         "title": "Avg. SAT score",
         "titlefont": {
          "color": "#4D5663"
         },
         "zerolinecolor": "#E1E5ED"
        }
       }
      },
      "text/html": [
       "<div>\n",
       "        \n",
       "        \n",
       "            <div id=\"076ae346-31b1-4675-ad79-8277dcd74d15\" class=\"plotly-graph-div\" style=\"height:525px; width:100%;\"></div>\n",
       "            <script type=\"text/javascript\">\n",
       "                require([\"plotly\"], function(Plotly) {\n",
       "                    window.PLOTLYENV=window.PLOTLYENV || {};\n",
       "                    window.PLOTLYENV.BASE_URL='https://plot.ly';\n",
       "                    \n",
       "                if (document.getElementById(\"076ae346-31b1-4675-ad79-8277dcd74d15\")) {\n",
       "                    Plotly.newPlot(\n",
       "                        '076ae346-31b1-4675-ad79-8277dcd74d15',\n",
       "                        [{\"marker\": {\"color\": \"rgba(255, 153, 51, 1.0)\", \"line\": {\"width\": 1.3}, \"opacity\": 0.8, \"size\": 12, \"symbol\": \"circle\"}, \"mode\": \"markers\", \"name\": \"Manhattan\", \"text\": [\"HENRY STREET SCHOOL FOR INTERNATIONAL STUDIES\", \"UNIVERSITY NEIGHBORHOOD HIGH SCHOOL\", \"EAST SIDE COMMUNITY SCHOOL\", \"MARTA VALLE HIGH SCHOOL\", \"NEW EXPLORATIONS INTO SCIENCE, TECHNOLOGY AND MATH HIGH SCHOOL\", \"BARD HIGH SCHOOL EARLY COLLEGE\", \"47 THE AMERICAN SIGN LANGUAGE AND ENGLISH SECONDARY SCHOOL\", \"FOOD AND FINANCE HIGH SCHOOL\", \"ESSEX STREET ACADEMY\", \"HIGH SCHOOL OF HOSPITALITY MANAGEMENT\", \"PACE HIGH SCHOOL\", \"URBAN ASSEMBLY SCHOOL OF DESIGN AND CONSTRUCTION, THE\", \"FACING HISTORY SCHOOL, THE\", \"URBAN ASSEMBLY ACADEMY OF GOVERNMENT AND LAW, THE\", \"LOWER MANHATTAN ARTS ACADEMY\", \"URBAN ASSEMBLY SCHOOL OF BUSINESS FOR YOUNG WOMEN, THE\", \"GRAMERCY ARTS HIGH SCHOOL\", \"NYC ISCHOOL\", \"MANHATTAN BUSINESS ACADEMY\", \"BUSINESS OF SPORTS SCHOOL\", \"THE HIGH SCHOOL FOR LANGUAGE AND DIPLOMACY\", \"HIGH SCHOOL FOR ENVIRONMENTAL STUDIES\", \"PROFESSIONAL PERFORMING ARTS HIGH SCHOOL\", \"BARUCH COLLEGE CAMPUS HIGH SCHOOL\", \"N.Y.C. LAB SCHOOL FOR COLLABORATIVE STUDIES\", \"N.Y.C. MUSEUM SCHOOL\", \"ELEANOR ROOSEVELT HIGH SCHOOL\", \"MILLENNIUM HIGH SCHOOL\", \"LANDMARK HIGH SCHOOL\", \"HIGH SCHOOL FOR HEALTH PROFESSIONS AND HUMAN SERVICES\", \"LEADERSHIP AND PUBLIC SERVICE HIGH SCHOOL\", \"MANHATTAN ACADEMY FOR ARTS & LANGUAGE\", \"HUDSON HIGH SCHOOL OF LEARNING TECHNOLOGIES\", \"INTERNATIONAL HIGH SCHOOL AT UNION SQUARE\", \"MANHATTAN VILLAGE ACADEMY\", \"VANGUARD HIGH SCHOOL\", \"MANHATTAN INTERNATIONAL HIGH SCHOOL\", \"STUYVESANT HIGH SCHOOL\", \"HIGH SCHOOL OF ECONOMICS AND FINANCE\", \"UNITY CENTER FOR URBAN TECHNOLOGIES\", \"TALENT UNLIMITED HIGH SCHOOL\", \"MURRY BERGTRAUM HIGH SCHOOL FOR BUSINESS CAREERS\", \"JACQUELINE KENNEDY ONASSIS HIGH SCHOOL\", \"REPERTORY COMPANY HIGH SCHOOL FOR THEATRE ARTS\", \"MANHATTAN BRIDGES HIGH SCHOOL\", \"NEW DESIGN HIGH SCHOOL\", \"HIGH SCHOOL FOR DUAL LANGUAGE AND ASIAN STUDIES\", \"THE URBAN ASSEMBLY NEW YORK HARBOR SCHOOL\", \"RICHARD R. GREEN HIGH SCHOOL OF TEACHING\", \"THE HIGH SCHOOL OF FASHION INDUSTRIES\", \"HUMANITIES PREPARATORY ACADEMY\", \"CHELSEA CAREER AND TECHNICAL EDUCATION HIGH SCHOOL\", \"ART AND DESIGN HIGH SCHOOL\", \"LIFE SCIENCES SECONDARY SCHOOL\", \"HIGH SCHOOL FOR ARTS, IMAGINATION AND INQUIRY\", \"URBAN ASSEMBLY SCHOOL FOR MEDIA STUDIES, THE\", \"THE URBAN ASSEMBLY SCHOOL FOR GREEN CAREERS\", \"THE GLOBAL LEARNING COLLABORATIVE\", \"WADLEIGH SECONDARY SCHOOL FOR THE PERFORMING & VISUAL ARTS\", \"FRANK MCCOURT HIGH SCHOOL\", \"BEACON HIGH SCHOOL\", \"FIORELLO H. LAGUARDIA HIGH SCHOOL OF MUSIC & ART AND PERFORMING ARTS\", \"HIGH SCHOOL FOR LAW, ADVOCACY AND COMMUNITY JUSTICE\", \"HIGH SCHOOL OF ARTS AND TECHNOLOGY\", \"MANHATTAN / HUNTER SCIENCE HIGH SCHOOL\", \"FREDERICK DOUGLASS ACADEMY II SECONDARY SCHOOL\", \"COALITION SCHOOL FOR SOCIAL CHANGE\", \"MANHATTAN CENTER FOR SCIENCE AND MATHEMATICS\", \"PARK EAST HIGH SCHOOL\", \"CENTRAL PARK EAST HIGH SCHOOL\", \"YOUNG WOMEN'S LEADERSHIP SCHOOL\", \"YOUNG WOMEN'S LEADERSHIP SCHOOL\", \"HERITAGE SCHOOL, THE\", \"MOTT HALL HIGH SCHOOL\", \"COLUMBIA SECONDARY SCHOOL FOR MATH, SCIENCE, AND ENGINEERING\", \"ACADEMY FOR SOCIAL ACTION: A COLLEGE BOARD SCHOOL\", \"URBAN ASSEMBLY SCHOOL FOR THE PERFORMING ARTS\", \"FREDERICK DOUGLASS ACADEMY\", \"THURGOOD MARSHALL ACADEMY FOR LEARNING AND SOCIAL CHANGE\", \"HIGH SCHOOL FOR MATHEMATICS, SCIENCE AND ENGINEERING AT CITY COLLEGE\", \"CITY COLLEGE ACADEMY OF THE ARTS\", \"COMMUNITY HEALTH ACADEMY OF THE HEIGHTS\", \"WASHINGTON HEIGHTS EXPEDITIONARY LEARNING SCHOOL\", \"HIGH SCHOOL FOR EXCELLENCE AND INNOVATION\", \"HIGH SCHOOL FOR INTERNATIONAL BUSINESS AND FINANCE\", \"HIGH SCHOOL FOR MEDIA AND COMMUNICATIONS\", \"HIGH SCHOOL FOR LAW AND PUBLIC SERVICE\", \"HIGH SCHOOL FOR HEALTH CAREERS AND SCIENCES\", \"A. PHILIP RANDOLPH CAMPUS HIGH SCHOOL\", \"GREGORIO LUPERON HIGH SCHOOL FOR SCIENCE AND MATHEMATICS\"], \"textfont\": {\"color\": \"#4D5663\"}, \"type\": \"scatter\", \"x\": [30.575555960627053, 9.898477157360407, 3.177257525083612, 35.157723747642, 15.809051456912584, 20.912292731579605, 74.15450928381964, 29.798809735299344, 37.61773940345369, 30.79447402239765, 5.072463768115942, 22.96983758700696, 9.312638580931264, 8.012820512820513, 38.40144230769231, 34.13461538461539, 26.066433566433567, 29.798809735299344, 38.86411028730306, 42.44369939271255, 52.88067465321564, 15.27977044476327, 3.9840637450199203, 18.055555555555554, 19.689119170984455, 29.593772053634442, 30.57199211045365, 13.738019169329075, 30.6481819842865, 11.538461538461538, 11.532125205930807, 73.73076923076923, 57.09240980258679, 73.3118444055944, 9.79020979020979, 29.06055093555094, 3.6923076923076925, 45.799211404306945, 12.484548825710753, 54.442551119766314, 6.109979633401222, 5.692233478051134, 11.049723756906078, 59.460297766749385, 12.384473197781885, 30.50327332242226, 17.280453257790366, 1.627906976744186, 10.98360655737705, 4.377736085053159, 67.20252403846155, 11.158798283261802, 6.25, 6.97350069735007, 30.868145012881858, 35.25378310214376, 45.59323185648274, 36.04157713794586, 12.5968992248062, 58.917281348788194, 14.285714285714285, 26.525911708253357, 23.850063984075078, 6.301824212271974, 28.483188996434034, 2.663438256658596, 5.157593123209169, 19.87878787878788, 36.97101608992727, 28.995246326707004, 9.131403118040089, 28.736936782593798, 43.887362637362635, 2.5821596244131455, 27.221275559883157, 4.0, 34.499691484985604, 10.475578406169666, 6.379310344827586, 28.078817733990146, 22.018574428983985, 24.813239644970416, 21.43336314847943, 72.4881158167675, 17.142857142857142, 6.468531468531468, 20.31700288184438, 4.712812960235641, 12.840466926070038, 18.64406779661017], \"y\": [1122.0, 1172.0, 1149.0, 1207.0, 1621.0, 1856.0, 1182.0, 1194.0, 1156.0, 1111.0, 1293.0, 1269.0, 1051.0, 1148.0, 1200.0, 1127.0, 1176.0, 1435.0, 1223.4388059701494, 1223.4388059701494, 1223.4388059701494, 1419.0, 1522.0, 1577.0, 1677.0, 1419.0, 1758.0, 1614.0, 1170.0, 1306.0, 1233.0, 1223.4388059701494, 1223.4388059701494, 1223.4388059701494, 1372.0, 1199.0, 1227.0, 2096.0, 1374.0, 1070.0, 1416.0, 1240.0, 1239.0, 1253.0, 1058.0, 1168.0, 1424.0, 1212.0, 1195.0, 1257.0, 1255.0, 1207.0, 1315.0, 1236.0, 1132.0, 1144.0, 1223.4388059701494, 1223.4388059701494, 1109.0, 1223.4388059701494, 1744.0, 1707.0, 1196.0, 1277.0, 1446.0, 1096.0, 1084.0, 1430.0, 1128.0, 1221.0, 1326.0, 1326.0, 1054.0, 1210.0, 1223.4388059701494, 1062.0, 1077.0, 1374.0, 1202.0, 1847.0, 1270.0, 1105.0, 1174.0, 1223.4388059701494, 1127.0, 1098.0, 1102.0, 1224.0, 1309.0, 1014.0]}, {\"marker\": {\"color\": \"rgba(55, 128, 191, 1.0)\", \"line\": {\"width\": 1.3}, \"opacity\": 0.8, \"size\": 12, \"symbol\": \"circle\"}, \"mode\": \"markers\", \"name\": \"Bronx\", \"text\": [\"SOUTH BRONX PREPARATORY: A COLLEGE BOARD SCHOOL\", \"INTERNATIONAL COMMUNITY HIGH SCHOOL\", \"COMMUNITY SCHOOL FOR SOCIAL JUSTICE\", \"MOTT HAVEN VILLAGE PREPARATORY HIGH SCHOOL\", \"UNIVERSITY HEIGHTS SECONDARY SCHOOL\", \"HOSTOSsLINCOLN ACADEMY OF SCIENCE\", \"FOREIGN LANGUAGE ACADEMY OF GLOBAL STUDIES\", \"BRONX LEADERSHIP ACADEMY II HIGH SCHOOL\", \"NEW EXPLORERS HIGH SCHOOL\", \"URBAN ASSEMBLY SCHOOL FOR CAREERS IN SPORTS\", \"BRONX ACADEMY OF LETTERS\", \"ALFRED E. SMITH CAREER AND TECHNICAL EDUCATION HIGH SCHOOL\", \"HEALTH OPPORTUNITIES HIGH SCHOOL\", \"BRONX STUDIO SCHOOL FOR WRITERS AND ARTISTS\", \"WOMEN'S ACADEMY OF EXCELLENCE\", \"RENAISSANCE HIGH SCHOOL FOR MUSICAL THEATER & TECHNOLOGY\", \"PABLO NERUDA ACADEMY FOR ARCHITECTURE AND WORLD STUDIES\", \"MILLENNIUM ART ACADEMY\", \"HOLCOMBE L. RUCKER SCHOOL OF COMMUNITY RESEARCH\", \"ANTONIA PANTOJA PREPARATORY ACADEMY, A COLLEGE BOARD SCHOOL\", \"HERBERT H. LEHMAN HIGH SCHOOL\", \"BRONX BRIDGES HIGH SCHOOL\", \"FELISA RINCON DE GAUTIER INSTITUTE FOR LAW AND PUBLIC POLICY, THE\", \"BANANA KELLY HIGH SCHOOL\", \"BRONX EXPEDITIONARY LEARNING HIGH SCHOOL\", \"EAGLE ACADEMY FOR YOUNG MEN\", \"URBAN ASSEMBLY SCHOOL FOR APPLIED MATH AND SCIENCE, THE\", \"EXIMIUS COLLEGE PREPARATORY ACADEMY: A COLLEGE BOARD SCHOOL\", \"MOTT HALL BRONX HIGH SCHOOL\", \"BRONX CENTER FOR SCIENCE AND MATHEMATICS\", \"VALIDUS PREPARATORY ACADEMY: AN EXPEDITIONARY LEARNING SCHOOL\", \"LEADERSHIP INSTITUTE\", \"MORRIS ACADEMY FOR COLLABORATIVE STUDIES\", \"BRONX EARLY COLLEGE ACADEMY FOR TEACHING & LEARNING\", \"DREAMYARD PREPARATORY SCHOOL\", \"ACADEMY FOR LANGUAGE AND TECHNOLOGY\", \"BRONX INTERNATIONAL HIGH SCHOOL\", \"SCHOOL FOR EXCELLENCE\", \"BRONX HIGH SCHOOL OF BUSINESS\", \"BRONX HIGH SCHOOL FOR MEDICAL SCIENCE\", \"BRONX SCHOOL FOR LAW, GOVERNMENT AND JUSTICE\", \"FREDERICK DOUGLASS ACADEMY III SECONDARY SCHOOL\", \"BRONX LEADERSHIP ACADEMY HIGH SCHOOL\", \"HIGH SCHOOL FOR VIOLIN AND DANCE\", \"RIVERDALE / KINGSBRIDGE ACADEMY (MIDDLE SCHOOL / HIGH SCHOOL 141)\", \"BRONX ENGINEERING AND TECHNOLOGY ACADEMY\", \"THEATRE ARTS PRODUCTION COMPANY SCHOOL\", \"THE MARIE CURIE SCHOOL FOR MEDICINE, NURSING, AND HEALTH PROFESSIONS\", \"WEST BRONX ACADEMY FOR THE FUTURE\", \"KINGSBRIDGE INTERNATIONAL HIGH SCHOOL\", \"BRONX SCHOOL OF LAW AND FINANCE\", \"INTERNATIONAL SCHOOL FOR LIBERAL ARTS\", \"INsTECH ACADEMY (M.S. / HIGH SCHOOL 368)\", \"KNOWLEDGE AND POWER PREPARATORY ACADEMY INTERNATIONAL HIGH SCHOOL (KAPPA)\", \"HIGH SCHOOL FOR TEACHING AND THE PROFESSIONS\", \"BELMONT PREPARATORY HIGH SCHOOL\", \"FORDHAM HIGH SCHOOL FOR THE ARTS\", \"FORDHAM LEADERSHIP ACADEMY FOR BUSINESS AND TECHNOLOGY\", \"BRONX HIGH SCHOOL FOR LAW AND COMMUNITY SERVICE\", \"DEWITT CLINTON HIGH SCHOOL\", \"CELIA CRUZ BRONX HIGH SCHOOL OF MUSIC, THE\", \"BRONX HIGH SCHOOL OF SCIENCE\", \"MARBLE HILL HIGH SCHOOL FOR INTERNATIONAL STUDIES\", \"BRONX THEATRE HIGH SCHOOL\", \"DISCOVERY HIGH SCHOOL\", \"HIGH SCHOOL OF AMERICAN STUDIES AT LEHMAN COLLEGE\", \"BRONX HEALTH SCIENCES HIGH SCHOOL\", \"BRONX HIGH SCHOOL FOR WRITING AND COMMUNICATION ARTS\", \"BRONX LAB SCHOOL\", \"ACADEMY FOR SCHOLARSHIP AND ENTREPRENEURSHIP: A COLLEGE BOARD SCHOOL\", \"HIGH SCHOOL OF COMPUTERS AND TECHNOLOGY\", \"COLLEGIATE INSTITUTE FOR MATH AND SCIENCE\", \"BRONX ACADEMY OF HEALTH CAREERS\", \"ASTOR COLLEGIATE ACADEMY\", \"BRONX HIGH SCHOOL FOR THE VISUAL ARTS\", \"HARRY S TRUMAN HIGH SCHOOL\", \"NEW WORLD HIGH SCHOOL\", \"THE BRONXWOOD PREPARATORY ACADEMY\", \"PELHAM PREPARATORY ACADEMY\", \"HIGH SCHOOL FOR CONTEMPORARY ARTS\", \"BRONX AEROSPACE HIGH SCHOOL\", \"METROPOLITAN HIGH SCHOOL, THE\", \"EXPLORATIONS ACADEMY\", \"BRONX LATIN\", \"EAST BRONX ACADEMY FOR THE FUTURE\", \"PEACE AND DIVERSITY ACADEMY\", \"PAN AMERICAN INTERNATIONAL HIGH SCHOOL AT MONROE\", \"THE CINEMA SCHOOL\", \"BRONX CAREER AND COLLEGE PREPARATORY HIGH SCHOOL\", \"HIGH SCHOOL OF WORLD CULTURES\", \"FANNIE LOU HAMER FREEDOM HIGH SCHOOL\", \"WINGS ACADEMY\", \"MONROE ACADEMY FOR VISUAL ARTS & DESIGN\"], \"textfont\": {\"color\": \"#4D5663\"}, \"type\": \"scatter\", \"x\": [10.128617363344052, 32.83176746917205, 40.44791415481071, 35.545136681500324, 27.748138957816376, 11.895910780669144, 4.180064308681672, 5.9760956175298805, 4.699738903394255, 27.050072568940497, 9.54954954954955, 1.4905149051490514, 10.391822827938672, 25.805769230769233, 5.540897097625329, 4.690831556503198, 35.9411827726591, 7.056451612903227, 6.006006006006006, 29.867788461538463, 11.967715001391594, 83.24441687344914, 35.545136681500324, 28.60950025584172, 36.346153846153854, 5.818181818181818, 2.6402640264026402, 25.280898876404496, 36.448826597131685, 13.963963963963963, 1.9178082191780823, 7.391304347826087, 28.673076923076923, 26.172179747230455, 4.297994269340974, 5.952380952380952, 32.01708341286505, 33.427162216022325, 6.483790523690773, 28.357988165680474, 5.897771952817824, 4.887218045112782, 5.673758865248227, 39.94701119314122, 9.947643979057592, 24.0990990990991, 3.2442748091603053, 2.7777777777777777, 3.930817610062893, 6.438631790744467, 4.976303317535545, 9.075907590759076, 3.5523978685612785, 39.82371794871795, 13.107822410147993, 7.616707616707617, 33.34078711985689, 9.312638580931264, 10.185185185185185, 8.800192353931234, 7.328605200945626, 39.495519415864585, 18.201754385964914, 7.640449438202247, 24.39108622946052, 51.45888594164456, 34.22515813099368, 6.6350710900473935, 26.769470156399617, 3.9603960396039604, 23.45979020979021, 14.548802946593002, 26.714046822742475, 7.228915662650602, 5.383022774327122, 5.80936266215454, 2.9850746268656714, 31.01654955621302, 9.072978303747535, 26.937128633370804, 31.01654955621302, 7.374631268436578, 35.64332766680833, 30.868145012881858, 5.169628432956381, 3.463203463203463, 31.780503978779844, 57.86046912728528, 52.88067465321564, 34.967166979362105, 27.050072568940497, 3.717472118959108, 27.68859359524596], \"y\": [1090.0, 945.0, 1077.0, 1097.0, 1201.0, 1257.0, 1186.0, 1103.0, 1084.0, 1181.0, 1201.0, 1158.0, 1095.0, 1223.4388059701494, 1171.0, 1158.0, 1038.0, 1164.0, 1084.0, 1223.4388059701494, 1241.0, 1223.4388059701494, 1099.0, 1131.0, 1049.0, 1134.0, 1290.0, 1169.0, 1092.0, 1396.0, 1075.0, 1081.0, 1148.0, 1223.4388059701494, 1138.0, 951.0, 965.0, 1074.0, 1083.0, 1221.0, 1224.0, 1121.0, 1166.0, 1039.0, 1333.0, 1150.0, 1190.0, 1157.0, 1158.0, 962.0, 1182.0, 934.0, 1181.0, 1180.0, 1106.0, 1222.0, 1077.0, 1119.0, 1082.0, 1255.0, 1270.0, 1969.0, 1263.0, 1064.0, 1115.0, 1920.0, 1133.0, 1147.0, 1135.0, 1141.0, 1111.0, 1348.0, 1135.0, 1169.0, 1268.0, 1151.0, 1048.0, 1112.0, 1288.0, 1126.0, 1163.0, 1055.0, 1122.0, 1251.0, 1102.0, 1155.0, 970.0, 1223.4388059701494, 1223.4388059701494, 939.0, 1029.0, 1114.0, 1038.0]}, {\"marker\": {\"color\": \"rgba(50, 171, 96, 1.0)\", \"line\": {\"width\": 1.3}, \"opacity\": 0.8, \"size\": 12, \"symbol\": \"circle\"}, \"mode\": \"markers\", \"name\": \"Brooklyn\", \"text\": [\"DR. SUSAN S. MCKINNEY SECONDARY SCHOOL OF THE ARTS\", \"URBAN ASSEMBLY HIGH SCHOOL OF MUSIC AND ART\", \"BROOKLYN COMMUNITY HIGH SCHOOL OF COMMUNICATION, ARTS AND MEDIA\", \"SCIENCE SKILLS CENTER HIGH SCHOOL FOR SCIENCE, TECHNOLOGY AND THE CREATIVE ARTS\", \"BROOKLYN TECHNICAL HIGH SCHOOL\", \"BROOKLYN INTERNATIONAL HIGH SCHOOL\", \"THE URBAN ASSEMBLY SCHOOL FOR LAW AND JUSTICE\", \"ACORN COMMUNITY HIGH SCHOOL\", \"URBAN ASSEMBLY INSTITUTE OF MATH AND SCIENCE FOR YOUNG WOMEN\", \"BEDFORD ACADEMY HIGH SCHOOL\", \"GEORGE WESTINGHOUSE CAREER AND TECHNICAL EDUCATION HIGH SCHOOL\", \"BENJAMIN BANNEKER ACADEMY\", \"CITY POLYTECHNIC HIGH SCHOOL OF ENGINEERING, ARCHITECTURE, AND TECHNOLOGY\", \"JUAN MOREL CAMPOS SECONDARY SCHOOL\", \"FOUNDATIONS ACADEMY\", \"BROOKLYN LATIN SCHOOL, THE\", \"GREEN SCHOOL: AN ACADEMY FOR ENVIRONMENTAL CAREERS\", \"PROGRESS HIGH SCHOOL FOR PROFESSIONAL CAREERS\", \"SCHOOL FOR LEGAL STUDIES\", \"THE HIGH SCHOOL FOR ENTERPRISE, BUSINESS AND TECHNOLOGY\", \"BROOKLYN PREPARATORY HIGH SCHOOL\", \"WILLIAMSBURG HIGH SCHOOL FOR ARCHITECTURE AND DESIGN\", \"WILLIAMSBURG PREPARATORY SCHOOL\", \"LYONS COMMUNITY SCHOOL\", \"AUTOMOTIVE HIGH SCHOOL\", \"FRANCES PERKINS ACADEMY\", \"EL PUENTE ACADEMY FOR PEACE AND JUSTICE\", \"BROOKLYN SCHOOL FOR GLOBAL STUDIES\", \"BROOKLYN SECONDARY SCHOOL FOR COLLABORATIVE STUDIES\", \"SECONDARY SCHOOL FOR LAW\", \"SECONDARY SCHOOL FOR JOURNALISM\", \"PARK SLOPE COLLEGIATE\", \"SCHOOL FOR INTERNATIONAL STUDIES\", \"COBBLE HILL SCHOOL OF AMERICAN STUDIES\", \"BROOKLYN HIGH SCHOOL OF THE ARTS\", \"SUNSET PARK HIGH SCHOOL\", \"FREDERICK DOUGLASS ACADEMY IV SECONDARY SCHOOL\", \"BOYS AND GIRLS HIGH SCHOOL\", \"BROOKLYN HIGH SCHOOL FOR LAW AND TECHNOLOGY\", \"THE BROOKLYN ACADEMY OF GLOBAL FINANCE\", \"ACADEMY FOR COLLEGE PREPARATION AND CAREER EXPLORATION: A COLLEGE BOARD SCHOOL\", \"ACADEMY OF HOSPITALITY AND TOURISM\", \"INTERNATIONAL HIGH SCHOOL AT PROSPECT HEIGHTS\", \"THE HIGH SCHOOL FOR GLOBAL CITIZENSHIP\", \"SCHOOL FOR HUMAN RIGHTS, THE\", \"SCHOOL FOR DEMOCRACY AND LEADERSHIP\", \"HIGH SCHOOL FOR YOUTH AND COMMUNITY DEVELOPMENT AT ERASMUS\", \"HIGH SCHOOL FOR SERVICE & LEARNING AT ERASMUS\", \"SCIENCE, TECHNOLOGY AND RESEARCH EARLY COLLEGE HIGH SCHOOL AT ERASMUS\", \"HIGH SCHOOL FOR PUBLIC SERVICE: HEROES OF TOMORROW\", \"BROOKLYN ACADEMY OF SCIENCE AND THE ENVIRONMENT\", \"BROOKLYN SCHOOL FOR MUSIC & THEATRE\", \"MEDGAR EVERS COLLEGE PREPARATORY SCHOOL\", \"CLARA BARTON HIGH SCHOOL\", \"IT TAKES A VILLAGE ACADEMY\", \"BROOKLYN GENERATION SCHOOL\", \"BROOKLYN THEATRE ARTS HIGH SCHOOL\", \"KURT HAHN EXPEDITIONARY LEARNING SCHOOL\", \"VICTORY COLLEGIATE HIGH SCHOOL\", \"ARTS & MEDIA PREPARATORY ACADEMY\", \"HIGH SCHOOL FOR INNOVATION IN ADVERTISING AND MEDIA\", \"CULTURAL ACADEMY FOR THE ARTS AND SCIENCES\", \"HIGH SCHOOL FOR MEDICAL PROFESSIONS\", \"ACADEMY FOR CONSERVATION AND THE ENVIRONMENT\", \"URBAN ACTION ACADEMY\", \"EAST NEW YORK FAMILY ACADEMY\", \"FDNY HIGH SCHOOL FOR FIRE AND LIFE SAFETY\", \"HIGH SCHOOL FOR CIVIL RIGHTS\", \"PERFORMING ARTS AND TECHNOLOGY HIGH SCHOOL\", \"WORLD ACADEMY FOR TOTAL COMMUNITY HEALTH HIGH SCHOOL\", \"MULTICULTURAL HIGH SCHOOL\", \"TRANSIT TECH CAREER AND TECHNICAL EDUCATION HIGH SCHOOL\", \"ACADEMY OF INNOVATIVE TECHNOLOGY\", \"BROOKLYN LAB SCHOOL\", \"CYPRESS HILLS COLLEGIATE PREPARATORY SCHOOL\", \"W. H. MAXWELL CAREER AND TECHNICAL EDUCATION HIGH SCHOOL\", \"THE SCHOOL FOR CLASSICS: AN ACADEMY OF THINKERS, WRITERS AND PERFORMERS\", \"NEW UTRECHT HIGH SCHOOL\", \"HIGH SCHOOL OF TELECOMMUNICATION ARTS AND TECHNOLOGY\", \"FORT HAMILTON HIGH SCHOOL\", \"FRANKLIN DELANO ROOSEVELT HIGH SCHOOL\", \"THE URBAN ASSEMBLY SCHOOL FOR CRIMINAL JUSTICE\", \"INTERNATIONAL HIGH SCHOOL AT LAFAYETTE\", \"RACHEL CARSON HIGH SCHOOL FOR COASTAL STUDIES\", \"HIGH SCHOOL OF SPORTS MANAGEMENT\", \"ABRAHAM LINCOLN HIGH SCHOOL\", \"KINGSBOROUGH EARLY COLLEGE SCHOOL\", \"EDWARD R. MURROW HIGH SCHOOL\", \"JOHN DEWEY HIGH SCHOOL\", \"LIFE ACADEMY HIGH SCHOOL FOR FILM AND MUSIC\", \"EXPEDITIONARY LEARNING SCHOOL FOR COMMUNITY LEADERS\", \"WILLIAM E. GRADY CAREER AND TECHNICAL EDUCATION HIGH SCHOOL\", \"BROOKLYN STUDIO SECONDARY SCHOOL\", \"MIDWOOD HIGH SCHOOL\", \"JAMES MADISON HIGH SCHOOL\", \"LEON M. GOLDSTEIN HIGH SCHOOL FOR THE SCIENCES\", \"BROOKLYN COLLEGE ACADEMY\", \"BROOKLYN COLLEGIATE: A COLLEGE BOARD SCHOOL\", \"FREDERICK DOUGLASS ACADEMY VII HIGH SCHOOL\", \"TEACHERS PREPARATORY HIGH SCHOOL\", \"ACADEMY FOR ENVIRONMENTAL LEADERSHIP\", \"EBC HIGH SCHOOL FOR PUBLIC SERVICE\\u2013BUSHWICK\", \"BUSHWICK SCHOOL FOR SOCIAL JUSTICE\", \"ACADEMY OF URBAN PLANNING\", \"ALL CITY LEADERSHIP SECONDARY SCHOOL\", \"BUSHWICK LEADERS HIGH SCHOOL FOR ACADEMIC EXCELLENCE\"], \"textfont\": {\"color\": \"#4D5663\"}, \"type\": \"scatter\", \"x\": [3.837471783295711, 29.937087274674283, 4.545454545454546, 10.058027079303674, 39.70367591897975, 35.157723747642, 6.888888888888889, 8.755129958960328, 27.511481056257175, 11.716621253405995, 3.7756202804746493, 14.748603351955309, 38.51607347876005, 1.8497109826589597, 29.78723404255319, 27.570266272189354, 32.91552197802198, 4.681647940074907, 3.1620553359683794, 9.631147540983607, 7.000000000000001, 6.0, 5.37261698440208, 24.483652021602687, 17.846313437599743, 74.58314806580702, 59.187544107268884, 36.448826597131685, 18.645787016451756, 27.278825825337456, 6.547619047619048, 32.748438110113234, 6.172839506172839, 3.770739064856712, 19.03080326752893, 13.059599813142325, 29.39153670930437, 1.3488657265481299, 12.098765432098766, 81.15021770682148, 11.327433628318584, 40.44791415481071, 32.176769614425474, 5.830903790087463, 33.427162216022325, 31.780503978779844, 5.454545454545454, 30.575555960627053, 24.76561346522959, 25.41966426858513, 10.40339702760085, 8.980582524271846, 24.637681159420293, 8.395522388059701, 33.77718485702779, 38.9815245177783, 33.77718485702779, 43.887362637362635, 39.701183431952664, 44.03714885796797, 41.62220843672457, 43.153460252122464, 28.0497491638796, 47.09081976417743, 42.30453972257251, 29.798809735299344, 33.86583888552393, 2.9925187032418954, 28.483188996434034, 5.7894736842105265, 10.83743842364532, 10.478359908883828, 31.937833206397563, 32.50096880449526, 4.805491990846682, 7.796610169491526, 41.488374969082365, 5.311355311355311, 19.609375, 8.350877192982455, 7.335907335907336, 34.499691484985604, 37.61773940345369, 7.0686070686070686, 2.7027027027027026, 5.1252408477842, 27.33661994784876, 9.870711089010442, 10.70110701107011, 51.40591480232914, 57.09240980258679, 13.496741229481815, 4.4520547945205475, 19.390942217595004, 10.500650195058519, 35.90998043052838, 20.480769230769234, 2.586206896551724, 10.684931506849315, 5.830388692579505, 35.64332766680833, 7.755775577557755, 29.730148883374692, 19.09547738693467, 2.6615969581749046, 7.35930735930736], \"y\": [1074.0, 1080.0, 1114.0, 1211.0, 1833.0, 981.0, 1206.0, 1116.0, 1223.4388059701494, 1312.0, 1189.0, 1391.0, 1353.0, 1085.0, 1223.4388059701494, 1740.0, 1189.0, 1114.0, 1204.0, 1215.0, 1090.0, 1112.0, 1187.0, 1103.0, 1093.0, 1122.0, 1035.0, 1111.0, 1179.0, 1203.0, 1169.0, 1175.0, 1212.0, 1185.0, 1258.0, 1223.4388059701494, 1068.0, 1097.0, 1092.0, 1223.4388059701494, 1139.0, 1045.0, 913.0, 1176.0, 1088.0, 1153.0, 1027.0, 1105.0, 1360.0, 1273.0, 1143.0, 1151.0, 1436.0, 1251.0, 963.0, 1145.0, 1118.0, 1092.0, 1143.0, 1080.0, 1183.0, 1169.0, 1159.0, 1111.0, 1135.0, 1242.0, 1023.0, 1054.0, 1149.0, 1106.0, 887.0, 1193.0, 1096.0, 1108.0, 1129.0, 1102.0, 1157.0, 1272.0, 1323.0, 1306.0, 1244.0, 1223.4388059701494, 1026.0, 1237.0, 1164.0, 1226.0, 1223.4388059701494, 1431.0, 1262.0, 1124.0, 1079.0, 1184.0, 1313.0, 1473.0, 1350.0, 1627.0, 1352.0, 1185.0, 1091.0, 1196.0, 1098.0, 1154.0, 1035.0, 1060.0, 1315.0, 1055.0]}, {\"marker\": {\"color\": \"rgba(128, 0, 128, 1.0)\", \"line\": {\"width\": 1.3}, \"opacity\": 0.8, \"size\": 12, \"symbol\": \"circle\"}, \"mode\": \"markers\", \"name\": \"Queens\", \"text\": [\"ACADEMY OF FINANCE AND ENTERPRISE\", \"HIGH SCHOOL OF APPLIED COMMUNICATION\", \"CIVIC LEADERSHIP ACADEMY\", \"PAN AMERICAN INTERNATIONAL HIGH SCHOOL\", \"BARD HIGH SCHOOL EARLY COLLEGE II\", \"NEWTOWN HIGH SCHOOL\", \"GROVER CLEVELAND HIGH SCHOOL\", \"MIDDLE COLLEGE HIGH SCHOOL AT LAGUARDIA COMMUNITY COLLEGE\", \"INTERNATIONAL HIGH SCHOOL AT LAGUARDIA COMMUNITY COLLEGE\", \"HIGH SCHOOL FOR ARTS AND BUSINESS\", \"ROBERT F. WAGNER, JR. SECONDARY SCHOOL FOR ARTS AND TECHNOLOGY\", \"QUEENS VOCATIONAL AND TECHNICAL HIGH SCHOOL\", \"AVIATION CAREER & TECHNICAL EDUCATION HIGH SCHOOL\", \"QUEENS SCHOOL OF INQUIRY, THE\", \"FLUSHING INTERNATIONAL HIGH SCHOOL\", \"EASTsWEST SCHOOL OF INTERNATIONAL STUDIES\", \"WORLD JOURNALISM PREPARATORY: A COLLEGE BOARD SCHOOL\", \"JOHN BOWNE HIGH SCHOOL\", \"FLUSHING HIGH SCHOOL\", \"TOWNSEND HARRIS HIGH SCHOOL\", \"ROBERT F. KENNEDY COMMUNITY HIGH SCHOOL\", \"BENJAMIN N. CARDOZO HIGH SCHOOL\", \"FRANCIS LEWIS HIGH SCHOOL\", \"MARTIN VAN BUREN HIGH SCHOOL\", \"BAYSIDE HIGH SCHOOL\", \"QUEENS HIGH SCHOOL OF TEACHING, LIBERAL ARTS AND THE SCIENCES\", \"FREDERICK DOUGLASS ACADEMY VI HIGH SCHOOL\", \"CHANNEL VIEW SCHOOL FOR RESEARCH\", \"QUEENS HIGH SCHOOL FOR INFORMATION, RESEARCH, AND TECHNOLOGY\", \"ROBERT H. GODDARD HIGH SCHOOL OF COMMUNICATION ARTS AND TECHNOLOGY\", \"ACADEMY OF MEDICAL TECHNOLOGY: A COLLEGE BOARD SCHOOL\", \"SCHOLARS' ACADEMY\", \"AUGUST MARTIN HIGH SCHOOL\", \"RICHMOND HILL HIGH SCHOOL\", \"JOHN ADAMS HIGH SCHOOL\", \"HIGH SCHOOL FOR CONSTRUCTION TRADES, ENGINEERING AND ARCHITECTURE\", \"YORK EARLY COLLEGE ACADEMY\", \"QUEENS COLLEGIATE: A COLLEGE BOARD SCHOOL\", \"HILLSIDE ARTS & LETTERS ACADEMY\", \"FOREST HILLS HIGH SCHOOL\", \"HILLCREST HIGH SCHOOL\", \"THOMAS A. EDISON CAREER AND TECHNICAL EDUCATION HIGH SCHOOL\", \"QUEENS GATEWAY TO HEALTH SCIENCES SECONDARY SCHOOL\", \"QUEENS METROPOLITAN HIGH SCHOOL\", \"QUEENS HIGH SCHOOL FOR THE SCIENCES AT YORK COLLEGE\", \"HIGH SCHOOL FOR LAW ENFORCEMENT AND PUBLIC SAFETY\", \"YOUNG WOMEN'S LEADERSHIP SCHOOL, QUEENS\", \"QUEENS PREPARATORY ACADEMY\", \"PATHWAYS COLLEGE PREPARATORY SCHOOL: A COLLEGE BOARD SCHOOL\", \"EXCELSIOR PREPARATORY HIGH SCHOOL\", \"GEORGE WASHINGTON CARVER HIGH SCHOOL FOR THE SCIENCES\", \"PREPARATORY ACADEMY FOR WRITERS: A COLLEGE BOARD SCHOOL\", \"CAMBRIA HEIGHTS ACADEMY\", \"MATHEMATICS, SCIENCE RESEARCH AND TECHNOLOGY MAGNET HIGH SCHOOL\", \"HUMANITIES & ARTS MAGNET HIGH SCHOOL\", \"YOUNG WOMEN'S LEADERSHIP SCHOOL, ASTORIA\", \"ACADEMY FOR CAREERS IN TELEVISION AND FILM\", \"WILLIAM CULLEN BRYANT HIGH SCHOOL\", \"LONG ISLAND CITY HIGH SCHOOL\", \"FRANK SINATRA SCHOOL OF THE ARTS HIGH SCHOOL\", \"INFORMATION TECHNOLOGY HIGH SCHOOL\", \"NEWCOMERS HIGH SCHOOL\", \"ACADEMY OF AMERICAN STUDIES\", \"BACCALAUREATE SCHOOL FOR GLOBAL EDUCATION\"], \"textfont\": {\"color\": \"#4D5663\"}, \"type\": \"scatter\", \"x\": [22.61904761904762, 11.855670103092782, 28.736936782593798, 35.25378310214376, 20.448311593319517, 6.765163297045102, 9.666505558240695, 25.961538461538463, 26.172179747230455, 23.91304347826087, 21.46902598233713, 1.9736842105263157, 5.906406179009541, 21.981064080723367, 30.575555960627053, 20.94624125874126, 10.92436974789916, 4.808743169398907, 10.407966591712174, 53.771929824561404, 10.679611650485436, 17.280163599182004, 16.78709055876686, 2.9707112970711296, 14.510278113663846, 10.788365063030616, 28.995246326707004, 6.761006289308176, 41.62220843672457, 22.32332978440245, 24.483652021602687, 5.178907721280603, 1.84645286686103, 5.493230174081238, 4.134672179562906, 9.848484848484848, 26.386267107126006, 24.39108622946052, 64.51442307692308, 19.118414188836724, 7.7666774089590715, 8.126110124333925, 11.36653895274585, 19.461364427427778, 51.43540669856459, 3.544776119402985, 1.1764705882352942, 3.4013605442176873, 5.225225225225225, 29.126150373328702, 2.9535864978902953, 8.456659619450317, 87.77472527472527, 5.339805825242718, 26.825123940508554, 26.066433566433567, 30.79447402239765, 8.251273344651953, 11.990549320732427, 14.285714285714285, 5.561613958560523, 12.768240343347639, 14.346590909090908, 29.324737762237763], \"y\": [1280.0, 1219.0, 1240.0, 951.0, 1663.0, 1203.0, 1211.0, 1177.0, 1064.0, 1174.0, 1330.0, 1270.0, 1364.0, 1396.0, 1049.0, 1271.0, 1441.0, 1243.0, 1216.0, 1910.0, 1330.0, 1514.0, 1474.0, 1172.0, 1449.0, 1279.0, 1145.0, 1252.0, 1156.0, 1265.0, 1094.0, 1532.0, 1108.0, 1154.0, 1192.0, 1345.0, 1223.4388059701494, 1265.0, 1223.4388059701494, 1407.0, 1194.0, 1372.0, 1538.0, 1223.4388059701494, 1868.0, 1196.0, 1316.0, 1099.0, 1173.0, 1202.0, 1287.0, 1100.0, 1223.4388059701494, 1220.0, 1151.0, 1223.4388059701494, 1255.0, 1275.0, 1218.0, 1494.0, 1239.0, 1127.0, 1470.0, 1636.0]}, {\"marker\": {\"color\": \"rgba(219, 64, 82, 1.0)\", \"line\": {\"width\": 1.3}, \"opacity\": 0.8, \"size\": 12, \"symbol\": \"circle\"}, \"mode\": \"markers\", \"name\": \"Staten Island\", \"text\": [\"CSI HIGH SCHOOL FOR INTERNATIONAL STUDIES\", \"GAYNOR MCCOWN EXPEDITIONARY LEARNING SCHOOL\", \"THE MICHAEL J. PETRIDES SCHOOL\", \"NEW DORP HIGH SCHOOL\", \"PORT RICHMOND HIGH SCHOOL\", \"CURTIS HIGH SCHOOL\", \"TOTTENVILLE HIGH SCHOOL\", \"SUSAN E. WAGNER HIGH SCHOOL\", \"RALPH R. MCKEE CAREER AND TECHNICAL EDUCATION HIGH SCHOOL\", \"STATEN ISLAND TECHNICAL HIGH SCHOOL\"], \"textfont\": {\"color\": \"#4D5663\"}, \"type\": \"scatter\", \"x\": [24.25354251012146, 31.624717194570138, 12.385321100917432, 3.611738148984198, 9.019060901906089, 9.678683385579937, 10.219354838709679, 8.603145235892692, 19.115384615384617, 47.82608695652174], \"y\": [1353.0, 1195.0, 1426.0, 1277.0, 1279.0, 1301.0, 1418.0, 1388.0, 1235.0, 1953.0]}],\n",
       "                        {\"legend\": {\"bgcolor\": \"#F5F6F9\", \"font\": {\"color\": \"#4D5663\"}}, \"paper_bgcolor\": \"#F5F6F9\", \"plot_bgcolor\": \"#F5F6F9\", \"shapes\": [{\"line\": {\"color\": \"#000000\", \"dash\": \"dash\", \"width\": 1}, \"type\": \"line\", \"x0\": 0, \"x1\": 1, \"xref\": \"paper\", \"y0\": 1223.438805970149, \"y1\": 1223.438805970149, \"yref\": \"y\"}, {\"line\": {\"color\": \"#000000\", \"dash\": \"dash\", \"width\": 1}, \"type\": \"line\", \"x0\": 21.050294828886546, \"x1\": 21.050294828886546, \"xref\": \"x\", \"y0\": 0, \"y1\": 1, \"yref\": \"paper\"}], \"title\": \"Share of AP-Test takers vs. SAT score by school <br> dashed lines: average of entire dataset\", \"titlefont\": {\"color\": \"#4D5663\"}, \"xaxis\": {\"gridcolor\": \"#E1E5ED\", \"showgrid\": true, \"tickfont\": {\"color\": \"#4D5663\"}, \"title\": \"AP-Test Takers, %\", \"titlefont\": {\"color\": \"#4D5663\"}, \"zerolinecolor\": \"#E1E5ED\"}, \"yaxis\": {\"gridcolor\": \"#E1E5ED\", \"showgrid\": true, \"tickfont\": {\"color\": \"#4D5663\"}, \"title\": \"Avg. SAT score\", \"titlefont\": {\"color\": \"#4D5663\"}, \"zerolinecolor\": \"#E1E5ED\"}},\n",
       "                        {\"showLink\": true, \"linkText\": \"Export to plot.ly\", \"plotlyServerURL\": \"https://plot.ly\", \"responsive\": true}\n",
       "                    ).then(function(){\n",
       "                            \n",
       "var gd = document.getElementById('076ae346-31b1-4675-ad79-8277dcd74d15');\n",
       "var x = new MutationObserver(function (mutations, observer) {{\n",
       "        var display = window.getComputedStyle(gd).display;\n",
       "        if (!display || display === 'none') {{\n",
       "            console.log([gd, 'removed!']);\n",
       "            Plotly.purge(gd);\n",
       "            observer.disconnect();\n",
       "        }}\n",
       "}});\n",
       "\n",
       "// Listen for the removal of the full notebook cells\n",
       "var notebookContainer = gd.closest('#notebook-container');\n",
       "if (notebookContainer) {{\n",
       "    x.observe(notebookContainer, {childList: true});\n",
       "}}\n",
       "\n",
       "// Listen for the clearing of the current output cell\n",
       "var outputEl = gd.closest('.output');\n",
       "if (outputEl) {{\n",
       "    x.observe(outputEl, {childList: true});\n",
       "}}\n",
       "\n",
       "                        })\n",
       "                };\n",
       "                });\n",
       "            </script>\n",
       "        </div>"
      ]
     },
     "metadata": {},
     "output_type": "display_data"
    },
    {
     "name": "stdout",
     "output_type": "stream",
     "text": [
      "Recommendation: choose option to 'show closest data point on hover' in top right corner\n"
     ]
    }
   ],
   "source": [
    "# build scatter plot investigating correlation between share of AP-Test takers and SAT-score\n",
    "with warnings.catch_warnings(): # to catch warning about np.module in Python 3.8.2.\n",
    "    warnings.filterwarnings(\"ignore\",category=FutureWarning)\n",
    "    combined.iplot(\n",
    "        x='ap_per',\n",
    "        y='sat_score',\n",
    "        categories='boro',\n",
    "        text=\"SCHOOL NAME\",\n",
    "        vline= {\"x\":combined[\"ap_per\"].mean(),\n",
    "                \"color\":\"#000000\",\n",
    "                \"dash\": \"dash\"\n",
    "               },\n",
    "        hline={\"y\":combined[\"sat_score\"].mean(),\n",
    "               \"color\":\"#000000\",\n",
    "               \"dash\": \"dash\"\n",
    "              },\n",
    "        xTitle='AP-Test Takers, %',\n",
    "        yTitle='Avg. SAT score',\n",
    "        title='Share of AP-Test takers vs. SAT score by school <br> dashed lines: average of entire dataset'\n",
    "    )\n",
    "print(\"Recommendation: choose option to 'show closest data point on hover' in top right corner\")"
   ]
  },
  {
   "cell_type": "markdown",
   "metadata": {},
   "source": [
    "Advanced Placement (AP) is a program in the United States and Canada created by the College Board which offers college-level curricula and examinations to high school students to earn college credit.\n",
    "\n",
    "There is no general correlation between number of students who took at least one AP exam with school's SAT scores\n",
    "- but it appears there is evident up trend for schools with higher SAT scores above 1400, \n",
    "- seems they are selective schools where AP takers percent is 50%-60% and students from these schools generally have above average academic aptitude and benefit more from academic placement than students in other schools."
   ]
  }
 ],
 "metadata": {
  "kernelspec": {
   "display_name": "Python 3",
   "language": "python",
   "name": "python3"
  },
  "language_info": {
   "codemirror_mode": {
    "name": "ipython",
    "version": 3
   },
   "file_extension": ".py",
   "mimetype": "text/x-python",
   "name": "python",
   "nbconvert_exporter": "python",
   "pygments_lexer": "ipython3",
   "version": "3.7.4"
  }
 },
 "nbformat": 4,
 "nbformat_minor": 2
}
