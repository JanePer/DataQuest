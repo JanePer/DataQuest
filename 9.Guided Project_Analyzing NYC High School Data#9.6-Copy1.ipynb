{
 "cells": [
  {
   "cell_type": "markdown",
   "metadata": {},
   "source": [
    "# Academic success in high schools: What drives differences in SAT-scores across NYC?"
   ]
  },
  {
   "cell_type": "markdown",
   "metadata": {},
   "source": [
    "## Goal"
   ]
  },
  {
   "cell_type": "markdown",
   "metadata": {},
   "source": [
    "The results of the standardized \"SAT\"-exam is used by US-colleges to determine which high school graduates they admit.\n",
    "We want to know which factors may drive differences in SAT-scores, if there are any pattern, trends or reasons discriminating against certain groups of students."
   ]
  },
  {
   "cell_type": "markdown",
   "metadata": {},
   "source": [
    "# [ETL] Reading data"
   ]
  },
  {
   "cell_type": "code",
   "execution_count": 1,
   "metadata": {},
   "outputs": [
    {
     "data": {
      "text/html": [
       "        <script type=\"text/javascript\">\n",
       "        window.PlotlyConfig = {MathJaxConfig: 'local'};\n",
       "        if (window.MathJax) {MathJax.Hub.Config({SVG: {font: \"STIX-Web\"}});}\n",
       "        if (typeof require !== 'undefined') {\n",
       "        require.undef(\"plotly\");\n",
       "        requirejs.config({\n",
       "            paths: {\n",
       "                'plotly': ['https://cdn.plot.ly/plotly-latest.min']\n",
       "            }\n",
       "        });\n",
       "        require(['plotly'], function(Plotly) {\n",
       "            window._Plotly = Plotly;\n",
       "        });\n",
       "        }\n",
       "        </script>\n",
       "        "
      ]
     },
     "metadata": {},
     "output_type": "display_data"
    },
    {
     "data": {
      "text/html": [
       "        <script type=\"text/javascript\">\n",
       "        window.PlotlyConfig = {MathJaxConfig: 'local'};\n",
       "        if (window.MathJax) {MathJax.Hub.Config({SVG: {font: \"STIX-Web\"}});}\n",
       "        if (typeof require !== 'undefined') {\n",
       "        require.undef(\"plotly\");\n",
       "        requirejs.config({\n",
       "            paths: {\n",
       "                'plotly': ['https://cdn.plot.ly/plotly-latest.min']\n",
       "            }\n",
       "        });\n",
       "        require(['plotly'], function(Plotly) {\n",
       "            window._Plotly = Plotly;\n",
       "        });\n",
       "        }\n",
       "        </script>\n",
       "        "
      ]
     },
     "metadata": {},
     "output_type": "display_data"
    }
   ],
   "source": [
    "# standard libs and additional utilities\n",
    "from tqdm.notebook import tqdm_notebook # progress bar for timeconsuming geocoding\n",
    "import tqdm\n",
    "import warnings  # used here to surpress FutureWarning\n",
    "import pandas as pd\n",
    "import numpy\n",
    "import re\n",
    "import matplotlib.pyplot as plt\n",
    "import seaborn as sns\n",
    "\n",
    "import plotly as py  # interactive plotting\n",
    "import plotly.graph_objs as go\n",
    "import cufflinks as cf  # interactive plotting made easy (pandas style)\n",
    "\n",
    "# Using plotly + cufflinks in offline mode\n",
    "from plotly.offline import iplot, init_notebook_mode\n",
    "cf.go_offline(connected=True)\n",
    "init_notebook_mode(connected=True)\n",
    "\n",
    "# jupyter command to show plots in notebook\n",
    "%matplotlib inline\n",
    "\n",
    "# setting pandas display options\n",
    "pd.options.display.float_format = '{:,.3f}'.format\n",
    "pd.set_option(\"display.max_columns\", 50)\n",
    "pd.set_option(\"display.max_rows\", 50)\n",
    "pd.set_option('max_colwidth', 50)\n",
    "\n",
    "# read seperate input files into single dictionary\n",
    "# csv-files\n",
    "data_files = [\n",
    "    \"ap_2010.csv\",\n",
    "    \"class_size.csv\",\n",
    "    \"demographics.csv\",\n",
    "    \"graduation.csv\",\n",
    "    \"hs_directory.csv\",\n",
    "    \"sat_results.csv\"\n",
    "]\n",
    "\n",
    "data = {}\n",
    "\n",
    "for f in data_files:\n",
    "    name=f.split(\".\")[0]\n",
    "    d = pd.read_csv(\"schools/{0}\".format(f))\n",
    "    data[name]=d\n",
    "    \n",
    "# survey data, different format\n",
    "all_survey = pd.read_csv(\"schools/survey_all.txt\", delimiter=\"\\t\", encoding='windows-1252')\n",
    "d75_survey = pd.read_csv(\"schools/survey_d75.txt\", delimiter=\"\\t\", encoding='windows-1252')\n",
    "survey = pd.concat([all_survey, d75_survey], axis=0, sort=True)\n",
    "\n",
    "survey[\"DBN\"] = survey[\"dbn\"]\n",
    "\n",
    "survey_fields = [\n",
    "    \"DBN\", \n",
    "    \"rr_s\", \n",
    "    \"rr_t\", \n",
    "    \"rr_p\", \n",
    "    \"N_s\", \n",
    "    \"N_t\", \n",
    "    \"N_p\", \n",
    "    \"saf_p_11\", \n",
    "    \"com_p_11\", \n",
    "    \"eng_p_11\", \n",
    "    \"aca_p_11\", \n",
    "    \"saf_t_11\", \n",
    "    \"com_t_11\", \n",
    "    \"eng_t_11\", \n",
    "    \"aca_t_11\", \n",
    "    \"saf_s_11\", \n",
    "    \"com_s_11\", \n",
    "    \"eng_s_11\", \n",
    "    \"aca_s_11\", \n",
    "    \"saf_tot_11\", \n",
    "    \"com_tot_11\", \n",
    "    \"eng_tot_11\", \n",
    "    \"aca_tot_11\",\n",
    "]\n",
    "survey = survey.loc[:,survey_fields]\n",
    "data[\"survey\"] = survey"
   ]
  },
  {
   "cell_type": "code",
   "execution_count": 2,
   "metadata": {},
   "outputs": [
    {
     "name": "stdout",
     "output_type": "stream",
     "text": [
      "ap_2010 (258, 5)\n",
      "class_size (27611, 16)\n",
      "demographics (10075, 38)\n",
      "graduation (25096, 23)\n",
      "hs_directory (435, 58)\n",
      "sat_results (478, 6)\n",
      "survey (1702, 23)\n"
     ]
    }
   ],
   "source": [
    "for k in data.keys():\n",
    "    s=data[k].shape\n",
    "    print(k, s)"
   ]
  },
  {
   "cell_type": "markdown",
   "metadata": {},
   "source": [
    "# [ETL] Adding and converting features"
   ]
  },
  {
   "cell_type": "code",
   "execution_count": 3,
   "metadata": {},
   "outputs": [
    {
     "name": "stdout",
     "output_type": "stream",
     "text": [
      "0   1,122.000\n",
      "1   1,172.000\n",
      "2   1,149.000\n",
      "3   1,174.000\n",
      "4   1,207.000\n",
      "Name: sat_score, dtype: float64\n",
      "\n",
      "\n",
      "0   40.670\n",
      "1   40.828\n",
      "2   40.842\n",
      "3   40.711\n",
      "4   40.719\n",
      "Name: lat, dtype: float64\n",
      "\n",
      "\n",
      "0   -73.962\n",
      "1   -73.904\n",
      "2   -73.916\n",
      "3   -74.001\n",
      "4   -73.807\n",
      "Name: lon, dtype: float64\n"
     ]
    }
   ],
   "source": [
    "# add DBN columns as unique identifier in datasets where they are not yet present\n",
    "data[\"hs_directory\"][\"DBN\"] = data[\"hs_directory\"][\"dbn\"]\n",
    "def pad_csd(element):\n",
    "    element=str(element)\n",
    "    return element.zfill(2)\n",
    "    \n",
    "data[\"class_size\"][\"padded_csd\"] = data[\"class_size\"][\"CSD\"].apply(pad_csd)\n",
    "data[\"class_size\"][\"DBN\"] = data[\"class_size\"][\"padded_csd\"] + data[\"class_size\"][\"SCHOOL CODE\"]\n",
    "\n",
    "# summing SAT-score\n",
    "cols = ['SAT Math Avg. Score', 'SAT Critical Reading Avg. Score', 'SAT Writing Avg. Score']\n",
    "for c in cols:\n",
    "    data[\"sat_results\"][c] = pd.to_numeric(data[\"sat_results\"][c], errors=\"coerce\")\n",
    "\n",
    "data['sat_results']['sat_score'] = data['sat_results'][cols[0]] + data['sat_results'][cols[1]] + data['sat_results'][cols[2]]\n",
    "\n",
    "# extracting latitude and longitude to separate columns\n",
    "def find_lat(loc):\n",
    "    coords = re.findall(\"\\(.+, .+\\)\", loc)\n",
    "    lat = coords[0].split(\",\")[0].replace(\"(\", \"\")\n",
    "    return lat\n",
    "\n",
    "def find_lon(loc):\n",
    "    coords = re.findall(\"\\(.+, .+\\)\", loc)\n",
    "    lon = coords[0].split(\",\")[1].replace(\")\", \"\").strip()\n",
    "    return lon\n",
    "\n",
    "data[\"hs_directory\"][\"lat\"] = data[\"hs_directory\"][\"Location 1\"].apply(find_lat)\n",
    "data[\"hs_directory\"][\"lon\"] = data[\"hs_directory\"][\"Location 1\"].apply(find_lon)\n",
    "\n",
    "# convert latitude and longitude to numeric\n",
    "data[\"hs_directory\"][\"lat\"] = pd.to_numeric(data[\"hs_directory\"][\"lat\"], errors=\"coerce\")\n",
    "data[\"hs_directory\"][\"lon\"] = pd.to_numeric(data[\"hs_directory\"][\"lon\"], errors=\"coerce\")\n",
    "\n",
    "# convert AP scores to numeric\n",
    "cols = ['AP Test Takers ', 'Total Exams Taken', 'Number of Exams with scores 3 4 or 5']\n",
    "for col in cols:\n",
    "    data[\"ap_2010\"][col] = pd.to_numeric(data[\"ap_2010\"][col], errors=\"coerce\")\n",
    "\n",
    "print(data['sat_results']['sat_score'].head())\n",
    "print(\"\\n\")\n",
    "print(data[\"hs_directory\"][\"lat\"].head())\n",
    "print(\"\\n\")\n",
    "print(data[\"hs_directory\"][\"lon\"].head())"
   ]
  },
  {
   "cell_type": "markdown",
   "metadata": {},
   "source": [
    "# [ETL] Condensing and combining datasets"
   ]
  },
  {
   "cell_type": "code",
   "execution_count": 4,
   "metadata": {},
   "outputs": [
    {
     "name": "stdout",
     "output_type": "stream",
     "text": [
      "(363, 160)\n"
     ]
    }
   ],
   "source": [
    "# selecting the classes relevant for SAT-analysis (high school, general education)\n",
    "class_size=data[\"class_size\"]\n",
    "filter=(class_size[\"GRADE \"]=='09-12') & (class_size['PROGRAM TYPE']=='GEN ED')\n",
    "class_size=class_size[filter]\n",
    "\n",
    "# compute average class size by school across all subjects\n",
    "class_size = class_size.groupby(\"DBN\").agg(numpy.mean)\n",
    "class_size.reset_index(inplace=True)\n",
    "data[\"class_size\"] = class_size\n",
    "\n",
    "# select most recent data available in \"demographics\" and \"graduation\" dataset\n",
    "data[\"demographics\"] = data[\"demographics\"][data[\"demographics\"][\"schoolyear\"] == 20112012]\n",
    "data[\"graduation\"]=data['graduation'][(data['graduation']['Cohort']=='2006') & (data['graduation']['Demographic']=='Total Cohort')]\n",
    "\n",
    "# initiate combined dataset with our main variable we want to investigate\n",
    "combined = data[\"sat_results\"]\n",
    "\n",
    "# left joins for somewhat sparse datasets, because we do not want to loose any SAT-info\n",
    "combined = combined.merge(data[\"ap_2010\"], on=\"DBN\", how=\"left\")\n",
    "combined = combined.merge(data[\"graduation\"], on=\"DBN\", how=\"left\")\n",
    "\n",
    "# inner joins for other dataset that potentially contain very relevant explanatory features.\n",
    "# if these features are not available for a high school, our we want to exclude these schools\n",
    "to_merge = [\"class_size\", \"demographics\", \"survey\", \"hs_directory\"]\n",
    "for m in to_merge:\n",
    "    combined = combined.merge(data[m], on=\"DBN\", how=\"inner\")\n",
    "\n",
    "# missing values for numeric columns filled with mean, non-numerics with zeros \n",
    "combined = combined.fillna(combined.mean()) # potential lever to improve quality of analysis, not scope of this learning exercise\n",
    "combined = combined.fillna(0)\n",
    "\n",
    "# Add a school district column for later analysis\n",
    "def get_first_two_chars(dbn):\n",
    "    return dbn[0:2]\n",
    "\n",
    "combined[\"school_dist\"] = combined[\"DBN\"].apply(get_first_two_chars)\n",
    "combined[\"school_dist\"].head()\n",
    "\n",
    "print(combined.shape)"
   ]
  },
  {
   "cell_type": "markdown",
   "metadata": {},
   "source": [
    "# Find correlations with SAT scores"
   ]
  },
  {
   "cell_type": "code",
   "execution_count": 6,
   "metadata": {},
   "outputs": [
    {
     "data": {
      "text/plain": [
       "SAT Critical Reading Avg. Score    0.987\n",
       "SAT Math Avg. Score                0.973\n",
       "SAT Writing Avg. Score             0.988\n",
       "sat_score                          1.000\n",
       "AP Test Takers                     0.523\n",
       "                                   ...  \n",
       "priority08                           nan\n",
       "priority09                           nan\n",
       "priority10                           nan\n",
       "lat                               -0.121\n",
       "lon                               -0.132\n",
       "Name: sat_score, Length: 67, dtype: float64"
      ]
     },
     "execution_count": 6,
     "metadata": {},
     "output_type": "execute_result"
    }
   ],
   "source": [
    "correlations = combined.corr()\n",
    "correlations = correlations[\"sat_score\"]\n",
    "correlations"
   ]
  },
  {
   "cell_type": "markdown",
   "metadata": {},
   "source": [
    "# Plotting survey correlations: Safety and students expectations are important"
   ]
  },
  {
   "cell_type": "code",
   "execution_count": 7,
   "metadata": {},
   "outputs": [
    {
     "data": {
      "image/png": "[encoded data removed]",
      "text/plain": [
       "<Figure size 576x432 with 1 Axes>"
      ]
     },
     "metadata": {
      "needs_background": "light"
     },
     "output_type": "display_data"
    }
   ],
   "source": [
    "survey_fields=['rr_s',\n",
    " 'rr_t',\n",
    " 'rr_p',\n",
    " 'N_s',\n",
    " 'N_t',\n",
    " 'N_p',\n",
    " 'saf_p_11',\n",
    " 'com_p_11',\n",
    " 'eng_p_11',\n",
    " 'aca_p_11',\n",
    " 'saf_t_11',\n",
    " 'com_t_11',\n",
    " 'eng_t_11',\n",
    " 'aca_t_11',\n",
    " 'saf_s_11',\n",
    " 'com_s_11',\n",
    " 'eng_s_11',\n",
    " 'aca_s_11',\n",
    " 'saf_tot_11',\n",
    " 'com_tot_11',\n",
    " 'eng_tot_11',\n",
    " 'aca_tot_11']\n",
    "\n",
    "# compute all correlations with SAT scores\n",
    "correlations = combined.corr()\n",
    "\n",
    "# build a barchart to visualize SAT and survey response correlation  \n",
    "surv_corr = correlations.loc[survey_fields]['sat_score'].sort_values()\n",
    "ax=surv_corr.plot(kind=\"bar\", figsize=(8, 6), title=\"Correlation of survey responses and SAT-scores\")\n",
    "ax.spines['right'].set_visible(False)\n",
    "ax.spines['top'].set_visible(False)\n",
    "for p in ax.patches:\n",
    "    ax.annotate(str(round(p.get_height(), 2)),\n",
    "                (p.get_x()+0.1, max(p.get_height(), 0)+0.01),\n",
    "                rotation=90\n",
    "                )\n",
    "ax.axhline(y=0.0, color='black', linestyle='-', linewidth=1)\n",
    "plt.show()"
   ]
  },
  {
   "attachments": {},
   "cell_type": "markdown",
   "metadata": {},
   "source": [
    "![Image](https://i.imgur.com/aSY0GBv.png)\n",
    "\n",
    "There are high correlations between `N_s`, `N_t`, `N_p` and `sat_score`. Since these columns are correlated with `total_enrollment`, it makes sense that they would be high.\n",
    "\n",
    "We can also notice that Safety and Respect scores based on teachers and students responses are strong positive correlated with `sat_score`, that means that the higher SAT score have schools where safety and respect to each other are important indicators, that can generally point on good schools from good districts.\n",
    "\n",
    "The next interesting correlation is the `aca_s_11`, which indicates how the student perceives academic standards, it makes sense when student's academic expectations play important role for him then the student highly likely will doing well his academic, but this is not true for `aca_t_11` and `aca_p_11`, how teachers and parents perceive academic standards."
   ]
  },
  {
   "cell_type": "markdown",
   "metadata": {},
   "source": [
    "#  Missing safety in the Bronx and Brooklyn does not allow to get high SAT-scores"
   ]
  },
  {
   "cell_type": "code",
   "execution_count": 8,
   "metadata": {},
   "outputs": [
    {
     "data": {
      "image/png": "[encoded data removed]",
      "text/plain": [
       "<Figure size 432x288 with 1 Axes>"
      ]
     },
     "metadata": {
      "needs_background": "light"
     },
     "output_type": "display_data"
    }
   ],
   "source": [
    "# build a scatter plot to visualize correlation between SAT and Safety and Respect Rating (students)\n",
    "ax=combined.plot(kind=\"scatter\", x='saf_s_11', y='sat_score', figsize=(6, 4), \n",
    "                 title=\"Correlation of students Safety and Respect Score and SAT-scores, by school\")\n",
    "ax.spines['right'].set_visible(False)\n",
    "ax.spines['top'].set_visible(False)\n",
    "plt.show()"
   ]
  },
  {
   "cell_type": "markdown",
   "metadata": {},
   "source": [
    "We can notice that for majority schools with SAT scores between 1000 and 1400, safety scores generally are in range 5-7, schools with safety scores above 7 have as the high SAT scores as well as low SAT score under the 1000."
   ]
  },
  {
   "cell_type": "code",
   "execution_count": 9,
   "metadata": {},
   "outputs": [],
   "source": [
    "# avg. student safety grouped by districts\n",
    "import numpy as np\n",
    "grouped=combined.groupby('school_dist')\n",
    "by_district=grouped.agg(np.mean)\n",
    "by_district.reset_index(inplace=True)"
   ]
  },
  {
   "attachments": {},
   "cell_type": "markdown",
   "metadata": {},
   "source": [
    "New York districts map:\n",
    "\n",
    "![Image](https://i.imgur.com/ix6BYSR.png)"
   ]
  },
  {
   "cell_type": "code",
   "execution_count": 10,
   "metadata": {},
   "outputs": [
    {
     "data": {
      "text/html": [
       "<div style=\"width:100%;\"><div style=\"position:relative;width:100%;height:0;padding-bottom:60%;\"><iframe src=\"about:blank\" style=\"position:absolute;width:100%;height:100%;left:0;top:0;border:none !important;\" data-html=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 onload=\"this.contentDocument.open();this.contentDocument.write(atob(this.getAttribute('data-html')));this.contentDocument.close();\" allowfullscreen webkitallowfullscreen mozallowfullscreen></iframe></div></div>"
      ],
      "text/plain": [
       "<folium.folium.Map at 0x23cf29776c8>"
      ]
     },
     "execution_count": 10,
     "metadata": {},
     "output_type": "execute_result"
    }
   ],
   "source": [
    "# code for map\n",
    "import folium\n",
    "import branca.colormap as cm\n",
    "\n",
    "# set a simple baselayer and zoom-in on NY\n",
    "school_map = folium.Map(location=[40.693943, -73.985880], \n",
    "                        #width=500,\n",
    "                        #height=800,\n",
    "                        zoom_start=10,\n",
    "                        tiles='CartoDB positron')\n",
    "\n",
    "# generate a title above the map\n",
    "# from https://github.com/python-visualization/folium/issues/1202\n",
    "map_title = \"NY highschools: avg. safety / respect score and avg. enrollment by school district\"\n",
    "title_html = '''\n",
    "             <h3 align=\"center\" style=\"font-size:20px\"><b>{}</b></h3>\n",
    "             '''.format(map_title)\n",
    "school_map.get_root().html.add_child(folium.Element(title_html))\n",
    "\n",
    "# select column names of the viz parameters\n",
    "size_parameter = \"total_enrollment\"\n",
    "color_parameter = \"saf_s_11\"\n",
    "\n",
    "# generate a colormap to shade the cirles on the map\n",
    "# from https://stackoverflow.com/questions/56876620/unsure-how-to-use-colormap-with-folium-marker-plot\n",
    "start_col_val = by_district[color_parameter].min()\n",
    "end_col_val = by_district[color_parameter].max()\n",
    "start_col_hex = \"#2c7fb8\" # used https://colorbrewer2.org/ \n",
    "end_col_hex = \"#edf8b1\"\n",
    "colormap = cm.LinearColormap(colors=[start_col_hex,\n",
    "                                     #\"white\",\n",
    "                                     end_col_hex],\n",
    "                             vmin=start_col_val,\n",
    "                             vmax=end_col_val\n",
    "                            )\n",
    "colormap.caption = \"Safety / Respect Score, students response\"\n",
    "\n",
    "# create a circle for each school district\n",
    "for index, row in by_district.iterrows():\n",
    "    folium.Circle(location=[row[\"lat\"],row[\"lon\"]],\n",
    "                  color=colormap(row[color_parameter]),\n",
    "                  fill_color=colormap(row[color_parameter]),\n",
    "                  fill_opacity=0.75,\n",
    "                  radius=row[size_parameter],\n",
    "                  weight=2,\n",
    "                  tooltip=\"District \"+row[\"school_dist\"]+\n",
    "                      \" <br> Avg. Safety / Respect Score, students response (color): {:.1f}\".format(row[color_parameter])+\n",
    "                      \" <br> Avg. enrollment per school (size): {:.0f}\".format(row[size_parameter])\n",
    "                 ).add_to(school_map)\n",
    "\n",
    "# add a legend\n",
    "school_map.add_child(colormap)\n",
    "    \n",
    "# display the map\n",
    "school_map"
   ]
  },
  {
   "cell_type": "markdown",
   "metadata": {},
   "source": [
    "![Image](https://i.imgur.com/MsULSeu.png)"
   ]
  },
  {
   "cell_type": "markdown",
   "metadata": {},
   "source": [
    "Above method discribes in yellow the schools with a high `saf_s_11`, and schools with a low `saf_s_11` are blue. \n",
    "\n",
    "We can see, that the schools with high safety scores are mainly from Manhattan, north-west Queens and parts from south Brooklyn, schools with low safety scores are from north Brooklyn, parts of Bronx and east Queens."
   ]
  },
  {
   "cell_type": "code",
   "execution_count": 11,
   "metadata": {},
   "outputs": [
    {
     "data": {
      "text/html": [
       "<div style=\"width:100%;\"><div style=\"position:relative;width:100%;height:0;padding-bottom:60%;\"><iframe src=\"about:blank\" style=\"position:absolute;width:100%;height:100%;left:0;top:0;border:none !important;\" data-html=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 onload=\"this.contentDocument.open();this.contentDocument.write(atob(this.getAttribute('data-html')));this.contentDocument.close();\" allowfullscreen webkitallowfullscreen mozallowfullscreen></iframe></div></div>"
      ],
      "text/plain": [
       "<folium.folium.Map at 0x23cee8b16c8>"
      ]
     },
     "execution_count": 11,
     "metadata": {},
     "output_type": "execute_result"
    }
   ],
   "source": [
    "low_sat_dist=by_district[by_district[\"sat_score\"]<1200]\n",
    "# code for map\n",
    "import folium\n",
    "import branca.colormap as cm\n",
    "\n",
    "# set a simple baselayer and zoom-in on NY\n",
    "school_map = folium.Map(location=[40.693943, -73.985880], \n",
    "                        #width=500,\n",
    "                        #height=800,\n",
    "                        zoom_start=10,\n",
    "                        tiles='CartoDB positron')\n",
    "\n",
    "# generate a title above the map\n",
    "# from https://github.com/python-visualization/folium/issues/1202\n",
    "map_title = \"NY highschools: avg. safety / respect score for schools with low SAT scores by district\"\n",
    "title_html = '''\n",
    "             <h3 align=\"center\" style=\"font-size:20px\"><b>{}</b></h3>\n",
    "             '''.format(map_title)\n",
    "school_map.get_root().html.add_child(folium.Element(title_html))\n",
    "\n",
    "# select column names of the viz parameters\n",
    "size_parameter = \"total_enrollment\"\n",
    "color_parameter = \"saf_s_11\"\n",
    "\n",
    "# generate a colormap to shade the cirles on the map\n",
    "# from https://stackoverflow.com/questions/56876620/unsure-how-to-use-colormap-with-folium-marker-plot\n",
    "start_col_val = low_sat_dist[color_parameter].min()\n",
    "end_col_val = low_sat_dist[color_parameter].max()\n",
    "start_col_hex = \"#2c7fb8\" # used https://colorbrewer2.org/ \n",
    "end_col_hex = \"#edf8b1\"\n",
    "colormap = cm.LinearColormap(colors=[start_col_hex,\n",
    "                                     #\"white\",\n",
    "                                     end_col_hex],\n",
    "                             vmin=start_col_val,\n",
    "                             vmax=end_col_val\n",
    "                            )\n",
    "colormap.caption = \"Safety / Respect Score, students response\"\n",
    "\n",
    "# create a circle for each school district\n",
    "for index, row in low_sat_dist.iterrows():\n",
    "    folium.Circle(location=[row[\"lat\"],row[\"lon\"]],\n",
    "                  color=colormap(row[color_parameter]),\n",
    "                  fill_color=colormap(row[color_parameter]),\n",
    "                  fill_opacity=0.75,\n",
    "                  radius=row[size_parameter],\n",
    "                  weight=2,\n",
    "                  tooltip=\"District \"+row[\"school_dist\"]+\n",
    "                      \" <br> Avg. Safety / Respect Score, students response (color): {:.1f}\".format(row[color_parameter])+\n",
    "                      \" <br> Avg. enrollment per school (size): {:.0f}\".format(row[size_parameter])\n",
    "                 ).add_to(school_map)\n",
    "\n",
    "# add a legend\n",
    "school_map.add_child(colormap)\n",
    "    \n",
    "# display the map\n",
    "school_map"
   ]
  },
  {
   "cell_type": "markdown",
   "metadata": {},
   "source": [
    "Above there are all schools with low SAT scores (under 1200), accordingly low safety scores are in north Brooklyn, but Bronx district is  diversified where near the schools with safe enveroment are schools with missing safety."
   ]
  },
  {
   "cell_type": "code",
   "execution_count": 12,
   "metadata": {},
   "outputs": [
    {
     "data": {
      "text/html": [
       "<div style=\"width:100%;\"><div style=\"position:relative;width:100%;height:0;padding-bottom:60%;\"><iframe src=\"about:blank\" style=\"position:absolute;width:100%;height:100%;left:0;top:0;border:none !important;\" data-html=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 onload=\"this.contentDocument.open();this.contentDocument.write(atob(this.getAttribute('data-html')));this.contentDocument.close();\" allowfullscreen webkitallowfullscreen mozallowfullscreen></iframe></div></div>"
      ],
      "text/plain": [
       "<folium.folium.Map at 0x23cee8f6d48>"
      ]
     },
     "execution_count": 12,
     "metadata": {},
     "output_type": "execute_result"
    }
   ],
   "source": [
    "high_sat_dist=by_district[by_district[\"sat_score\"]>1300]\n",
    "# code for map\n",
    "import folium\n",
    "import branca.colormap as cm\n",
    "\n",
    "# set a simple baselayer and zoom-in on NY\n",
    "school_map = folium.Map(location=[40.693943, -73.985880], \n",
    "                        #width=500,\n",
    "                        #height=800,\n",
    "                        zoom_start=10,\n",
    "                        tiles='CartoDB positron')\n",
    "\n",
    "# generate a title above the map\n",
    "# from https://github.com/python-visualization/folium/issues/1202\n",
    "map_title = \"NY highschools: avg. safety / respect score for schools with high SAT scores by district\"\n",
    "title_html = '''\n",
    "             <h3 align=\"center\" style=\"font-size:20px\"><b>{}</b></h3>\n",
    "             '''.format(map_title)\n",
    "school_map.get_root().html.add_child(folium.Element(title_html))\n",
    "\n",
    "# select column names of the viz parameters\n",
    "size_parameter = \"total_enrollment\"\n",
    "color_parameter = \"saf_s_11\"\n",
    "\n",
    "# generate a colormap to shade the cirles on the map\n",
    "# from https://stackoverflow.com/questions/56876620/unsure-how-to-use-colormap-with-folium-marker-plot\n",
    "start_col_val = high_sat_dist[color_parameter].min()\n",
    "end_col_val = high_sat_dist[color_parameter].max()\n",
    "start_col_hex = \"#2c7fb8\" # used https://colorbrewer2.org/ \n",
    "end_col_hex = \"#edf8b1\"\n",
    "colormap = cm.LinearColormap(colors=[start_col_hex,\n",
    "                                     #\"white\",\n",
    "                                     end_col_hex],\n",
    "                             vmin=start_col_val,\n",
    "                             vmax=end_col_val\n",
    "                            )\n",
    "colormap.caption = \"Safety / Respect Score, students response\"\n",
    "\n",
    "# create a circle for each school district\n",
    "for index, row in high_sat_dist.iterrows():\n",
    "    folium.Circle(location=[row[\"lat\"],row[\"lon\"]],\n",
    "                  color=colormap(row[color_parameter]),\n",
    "                  fill_color=colormap(row[color_parameter]),\n",
    "                  fill_opacity=0.75,\n",
    "                  radius=row[size_parameter],\n",
    "                  weight=2,\n",
    "                  tooltip=\"District \"+row[\"school_dist\"]+\n",
    "                      \" <br> Avg. Safety / Respect Score, students response (color): {:.1f}\".format(row[color_parameter])+\n",
    "                      \" <br> Avg. enrollment per school (size): {:.0f}\".format(row[size_parameter])\n",
    "                 ).add_to(school_map)\n",
    "\n",
    "# add a legend\n",
    "school_map.add_child(colormap)\n",
    "    \n",
    "# display the map\n",
    "school_map"
   ]
  },
  {
   "cell_type": "markdown",
   "metadata": {},
   "source": [
    "Here there is a plotting for schools with high SAT scores (above 1300) and it appears that majority schools with high SAT and high safety scores are from north Queens and from south Brooklyn."
   ]
  },
  {
   "cell_type": "markdown",
   "metadata": {},
   "source": [
    "# Race: Hispanics and blacks disadvantaged"
   ]
  },
  {
   "cell_type": "code",
   "execution_count": 13,
   "metadata": {},
   "outputs": [
    {
     "data": {
      "image/png": "[encoded data removed]",
      "text/plain": [
       "<Figure size 576x576 with 1 Axes>"
      ]
     },
     "metadata": {
      "needs_background": "light"
     },
     "output_type": "display_data"
    }
   ],
   "source": [
    "race_corr = correlations.loc[['white_per', 'asian_per', 'black_per', 'hispanic_per']]['sat_score'].sort_values()\n",
    "ax=race_corr.plot(kind='bar', figsize=(8, 8), title=\"Correlation of race to SAT-scores\")\n",
    "ax.spines['right'].set_visible(False)\n",
    "ax.spines['top'].set_visible(False)\n",
    "for p in ax.patches: # set data point labels\n",
    "    ax.annotate(str(round(p.get_height(), 2)),\n",
    "                (p.get_x() + 0.2, max(p.get_height(), 0)+0.02),\n",
    "                rotation=90\n",
    "                )\n",
    "ax.axhline(y=0.0, color='black', linestyle='-', linewidth=1)\n",
    "plt.show()"
   ]
  },
  {
   "cell_type": "markdown",
   "metadata": {},
   "source": [
    "We can notice certain correlation between SAT scores and race percentage, the higher there is percent of white and asian students in the school, the higher SAT score the school has and opposite for black and hispanic races, the lower is percentage for them the higher the SAT score is."
   ]
  },
  {
   "cell_type": "code",
   "execution_count": 14,
   "metadata": {},
   "outputs": [
    {
     "data": {
      "application/vnd.plotly.v1+json": {
       "config": {
        "linkText": "Export to plot.ly",
        "plotlyServerURL": "https://plot.ly",
        "showLink": true
       },
       "data": [
        {
         "marker": {
          "color": "rgba(255, 153, 51, 1.0)",
          "line": {
           "width": 1.3
          },
          "opacity": 0.8,
          "size": 12,
          "symbol": "circle"
         },
         "mode": "markers",
         "name": "Manhattan",
         "text": [
          "HENRY STREET SCHOOL FOR INTERNATIONAL STUDIES",
          "UNIVERSITY NEIGHBORHOOD HIGH SCHOOL",
          "EAST SIDE COMMUNITY SCHOOL",
          "MARTA VALLE HIGH SCHOOL",
          "NEW EXPLORATIONS INTO SCIENCE, TECHNOLOGY AND MATH HIGH SCHOOL",
          "BARD HIGH SCHOOL EARLY COLLEGE",
          "47 THE AMERICAN SIGN LANGUAGE AND ENGLISH SECONDARY SCHOOL",
          "FOOD AND FINANCE HIGH SCHOOL",
          "ESSEX STREET ACADEMY",
          "HIGH SCHOOL OF HOSPITALITY MANAGEMENT",
          "PACE HIGH SCHOOL",
          "URBAN ASSEMBLY SCHOOL OF DESIGN AND CONSTRUCTION, THE",
          "FACING HISTORY SCHOOL, THE",
          "URBAN ASSEMBLY ACADEMY OF GOVERNMENT AND LAW, THE",
          "LOWER MANHATTAN ARTS ACADEMY",
          "URBAN ASSEMBLY SCHOOL OF BUSINESS FOR YOUNG WOMEN, THE",
          "GRAMERCY ARTS HIGH SCHOOL",
          "NYC ISCHOOL",
          "MANHATTAN BUSINESS ACADEMY",
          "BUSINESS OF SPORTS SCHOOL",
          "THE HIGH SCHOOL FOR LANGUAGE AND DIPLOMACY",
          "HIGH SCHOOL FOR ENVIRONMENTAL STUDIES",
          "PROFESSIONAL PERFORMING ARTS HIGH SCHOOL",
          "BARUCH COLLEGE CAMPUS HIGH SCHOOL",
          "N.Y.C. LAB SCHOOL FOR COLLABORATIVE STUDIES",
          "N.Y.C. MUSEUM SCHOOL",
          "ELEANOR ROOSEVELT HIGH SCHOOL",
          "MILLENNIUM HIGH SCHOOL",
          "LANDMARK HIGH SCHOOL",
          "HIGH SCHOOL FOR HEALTH PROFESSIONS AND HUMAN SERVICES",
          "LEADERSHIP AND PUBLIC SERVICE HIGH SCHOOL",
          "MANHATTAN ACADEMY FOR ARTS & LANGUAGE",
          "HUDSON HIGH SCHOOL OF LEARNING TECHNOLOGIES",
          "INTERNATIONAL HIGH SCHOOL AT UNION SQUARE",
          "MANHATTAN VILLAGE ACADEMY",
          "VANGUARD HIGH SCHOOL",
          "MANHATTAN INTERNATIONAL HIGH SCHOOL",
          "STUYVESANT HIGH SCHOOL",
          "HIGH SCHOOL OF ECONOMICS AND FINANCE",
          "UNITY CENTER FOR URBAN TECHNOLOGIES",
          "TALENT UNLIMITED HIGH SCHOOL",
          "MURRY BERGTRAUM HIGH SCHOOL FOR BUSINESS CAREERS",
          "JACQUELINE KENNEDY ONASSIS HIGH SCHOOL",
          "REPERTORY COMPANY HIGH SCHOOL FOR THEATRE ARTS",
          "MANHATTAN BRIDGES HIGH SCHOOL",
          "NEW DESIGN HIGH SCHOOL",
          "HIGH SCHOOL FOR DUAL LANGUAGE AND ASIAN STUDIES",
          "THE URBAN ASSEMBLY NEW YORK HARBOR SCHOOL",
          "RICHARD R. GREEN HIGH SCHOOL OF TEACHING",
          "THE HIGH SCHOOL OF FASHION INDUSTRIES",
          "HUMANITIES PREPARATORY ACADEMY",
          "CHELSEA CAREER AND TECHNICAL EDUCATION HIGH SCHOOL",
          "ART AND DESIGN HIGH SCHOOL",
          "LIFE SCIENCES SECONDARY SCHOOL",
          "HIGH SCHOOL FOR ARTS, IMAGINATION AND INQUIRY",
          "URBAN ASSEMBLY SCHOOL FOR MEDIA STUDIES, THE",
          "THE URBAN ASSEMBLY SCHOOL FOR GREEN CAREERS",
          "THE GLOBAL LEARNING COLLABORATIVE",
          "WADLEIGH SECONDARY SCHOOL FOR THE PERFORMING & VISUAL ARTS",
          "FRANK MCCOURT HIGH SCHOOL",
          "BEACON HIGH SCHOOL",
          "FIORELLO H. LAGUARDIA HIGH SCHOOL OF MUSIC & ART AND PERFORMING ARTS",
          "HIGH SCHOOL FOR LAW, ADVOCACY AND COMMUNITY JUSTICE",
          "HIGH SCHOOL OF ARTS AND TECHNOLOGY",
          "MANHATTAN / HUNTER SCIENCE HIGH SCHOOL",
          "FREDERICK DOUGLASS ACADEMY II SECONDARY SCHOOL",
          "COALITION SCHOOL FOR SOCIAL CHANGE",
          "MANHATTAN CENTER FOR SCIENCE AND MATHEMATICS",
          "PARK EAST HIGH SCHOOL",
          "CENTRAL PARK EAST HIGH SCHOOL",
          "YOUNG WOMEN'S LEADERSHIP SCHOOL",
          "YOUNG WOMEN'S LEADERSHIP SCHOOL",
          "HERITAGE SCHOOL, THE",
          "MOTT HALL HIGH SCHOOL",
          "COLUMBIA SECONDARY SCHOOL FOR MATH, SCIENCE, AND ENGINEERING",
          "ACADEMY FOR SOCIAL ACTION: A COLLEGE BOARD SCHOOL",
          "URBAN ASSEMBLY SCHOOL FOR THE PERFORMING ARTS",
          "FREDERICK DOUGLASS ACADEMY",
          "THURGOOD MARSHALL ACADEMY FOR LEARNING AND SOCIAL CHANGE",
          "HIGH SCHOOL FOR MATHEMATICS, SCIENCE AND ENGINEERING AT CITY COLLEGE",
          "CITY COLLEGE ACADEMY OF THE ARTS",
          "COMMUNITY HEALTH ACADEMY OF THE HEIGHTS",
          "WASHINGTON HEIGHTS EXPEDITIONARY LEARNING SCHOOL",
          "HIGH SCHOOL FOR EXCELLENCE AND INNOVATION",
          "HIGH SCHOOL FOR INTERNATIONAL BUSINESS AND FINANCE",
          "HIGH SCHOOL FOR MEDIA AND COMMUNICATIONS",
          "HIGH SCHOOL FOR LAW AND PUBLIC SERVICE",
          "HIGH SCHOOL FOR HEALTH CAREERS AND SCIENCES",
          "A. PHILIP RANDOLPH CAMPUS HIGH SCHOOL",
          "GREGORIO LUPERON HIGH SCHOOL FOR SCIENCE AND MATHEMATICS"
         ],
         "textfont": {
          "color": "#4D5663"
         },
         "type": "scatter",
         "x": [
          53.8,
          45.9,
          55.4,
          56.9,
          14.2,
          18.2,
          59.2,
          47.6,
          60.6,
          66.1,
          42,
          59.2,
          73.2,
          50.6,
          55.7,
          48.4,
          45.1,
          43,
          58.7,
          57.2,
          32.8,
          57.2,
          23.7,
          14.6,
          14,
          39.9,
          11.6,
          21.7,
          74.8,
          49.7,
          54.2,
          84.6,
          62.4,
          43.2,
          71.8,
          59,
          36.9,
          2.4,
          43.5,
          55.3,
          39.3,
          46.6,
          69.9,
          42.4,
          99.8,
          62.2,
          4,
          49.3,
          59.3,
          52.3,
          57.8,
          60.5,
          51,
          64.3,
          58.9,
          56,
          76,
          62.6,
          38.8,
          37,
          22.8,
          16.6,
          48.1,
          57.2,
          41.5,
          18.9,
          58.7,
          57.4,
          59.6,
          64.5,
          60.1,
          60.1,
          69.4,
          63.8,
          48.5,
          38.1,
          38.2,
          22.8,
          20.9,
          21.2,
          92,
          93.8,
          96.7,
          72.5,
          91.4,
          87.1,
          84.4,
          83.8,
          62.3,
          99.8
         ],
         "y": [
          1122,
          1172,
          1149,
          1207,
          1621,
          1856,
          1182,
          1194,
          1156,
          1111,
          1293,
          1269,
          1051,
          1148,
          1200,
          1127,
          1176,
          1435,
          1223.4388059701494,
          1223.4388059701494,
          1223.4388059701494,
          1419,
          1522,
          1577,
          1677,
          1419,
          1758,
          1614,
          1170,
          1306,
          1233,
          1223.4388059701494,
          1223.4388059701494,
          1223.4388059701494,
          1372,
          1199,
          1227,
          2096,
          1374,
          1070,
          1416,
          1240,
          1239,
          1253,
          1058,
          1168,
          1424,
          1212,
          1195,
          1257,
          1255,
          1207,
          1315,
          1236,
          1132,
          1144,
          1223.4388059701494,
          1223.4388059701494,
          1109,
          1223.4388059701494,
          1744,
          1707,
          1196,
          1277,
          1446,
          1096,
          1084,
          1430,
          1128,
          1221,
          1326,
          1326,
          1054,
          1210,
          1223.4388059701494,
          1062,
          1077,
          1374,
          1202,
          1847,
          1270,
          1105,
          1174,
          1223.4388059701494,
          1127,
          1098,
          1102,
          1224,
          1309,
          1014
         ]
        },
        {
         "marker": {
          "color": "rgba(55, 128, 191, 1.0)",
          "line": {
           "width": 1.3
          },
          "opacity": 0.8,
          "size": 12,
          "symbol": "circle"
         },
         "mode": "markers",
         "name": "Bronx",
         "text": [
          "SOUTH BRONX PREPARATORY: A COLLEGE BOARD SCHOOL",
          "INTERNATIONAL COMMUNITY HIGH SCHOOL",
          "COMMUNITY SCHOOL FOR SOCIAL JUSTICE",
          "MOTT HAVEN VILLAGE PREPARATORY HIGH SCHOOL",
          "UNIVERSITY HEIGHTS SECONDARY SCHOOL",
          "HOSTOSsLINCOLN ACADEMY OF SCIENCE",
          "FOREIGN LANGUAGE ACADEMY OF GLOBAL STUDIES",
          "BRONX LEADERSHIP ACADEMY II HIGH SCHOOL",
          "NEW EXPLORERS HIGH SCHOOL",
          "URBAN ASSEMBLY SCHOOL FOR CAREERS IN SPORTS",
          "BRONX ACADEMY OF LETTERS",
          "ALFRED E. SMITH CAREER AND TECHNICAL EDUCATION HIGH SCHOOL",
          "HEALTH OPPORTUNITIES HIGH SCHOOL",
          "BRONX STUDIO SCHOOL FOR WRITERS AND ARTISTS",
          "WOMEN'S ACADEMY OF EXCELLENCE",
          "RENAISSANCE HIGH SCHOOL FOR MUSICAL THEATER & TECHNOLOGY",
          "PABLO NERUDA ACADEMY FOR ARCHITECTURE AND WORLD STUDIES",
          "MILLENNIUM ART ACADEMY",
          "HOLCOMBE L. RUCKER SCHOOL OF COMMUNITY RESEARCH",
          "ANTONIA PANTOJA PREPARATORY ACADEMY, A COLLEGE BOARD SCHOOL",
          "HERBERT H. LEHMAN HIGH SCHOOL",
          "BRONX BRIDGES HIGH SCHOOL",
          "FELISA RINCON DE GAUTIER INSTITUTE FOR LAW AND PUBLIC POLICY, THE",
          "BANANA KELLY HIGH SCHOOL",
          "BRONX EXPEDITIONARY LEARNING HIGH SCHOOL",
          "EAGLE ACADEMY FOR YOUNG MEN",
          "URBAN ASSEMBLY SCHOOL FOR APPLIED MATH AND SCIENCE, THE",
          "EXIMIUS COLLEGE PREPARATORY ACADEMY: A COLLEGE BOARD SCHOOL",
          "MOTT HALL BRONX HIGH SCHOOL",
          "BRONX CENTER FOR SCIENCE AND MATHEMATICS",
          "VALIDUS PREPARATORY ACADEMY: AN EXPEDITIONARY LEARNING SCHOOL",
          "LEADERSHIP INSTITUTE",
          "MORRIS ACADEMY FOR COLLABORATIVE STUDIES",
          "BRONX EARLY COLLEGE ACADEMY FOR TEACHING & LEARNING",
          "DREAMYARD PREPARATORY SCHOOL",
          "ACADEMY FOR LANGUAGE AND TECHNOLOGY",
          "BRONX INTERNATIONAL HIGH SCHOOL",
          "SCHOOL FOR EXCELLENCE",
          "BRONX HIGH SCHOOL OF BUSINESS",
          "BRONX HIGH SCHOOL FOR MEDICAL SCIENCE",
          "BRONX SCHOOL FOR LAW, GOVERNMENT AND JUSTICE",
          "FREDERICK DOUGLASS ACADEMY III SECONDARY SCHOOL",
          "BRONX LEADERSHIP ACADEMY HIGH SCHOOL",
          "HIGH SCHOOL FOR VIOLIN AND DANCE",
          "RIVERDALE / KINGSBRIDGE ACADEMY (MIDDLE SCHOOL / HIGH SCHOOL 141)",
          "BRONX ENGINEERING AND TECHNOLOGY ACADEMY",
          "THEATRE ARTS PRODUCTION COMPANY SCHOOL",
          "THE MARIE CURIE SCHOOL FOR MEDICINE, NURSING, AND HEALTH PROFESSIONS",
          "WEST BRONX ACADEMY FOR THE FUTURE",
          "KINGSBRIDGE INTERNATIONAL HIGH SCHOOL",
          "BRONX SCHOOL OF LAW AND FINANCE",
          "INTERNATIONAL SCHOOL FOR LIBERAL ARTS",
          "INsTECH ACADEMY (M.S. / HIGH SCHOOL 368)",
          "KNOWLEDGE AND POWER PREPARATORY ACADEMY INTERNATIONAL HIGH SCHOOL (KAPPA)",
          "HIGH SCHOOL FOR TEACHING AND THE PROFESSIONS",
          "BELMONT PREPARATORY HIGH SCHOOL",
          "FORDHAM HIGH SCHOOL FOR THE ARTS",
          "FORDHAM LEADERSHIP ACADEMY FOR BUSINESS AND TECHNOLOGY",
          "BRONX HIGH SCHOOL FOR LAW AND COMMUNITY SERVICE",
          "DEWITT CLINTON HIGH SCHOOL",
          "CELIA CRUZ BRONX HIGH SCHOOL OF MUSIC, THE",
          "BRONX HIGH SCHOOL OF SCIENCE",
          "MARBLE HILL HIGH SCHOOL FOR INTERNATIONAL STUDIES",
          "BRONX THEATRE HIGH SCHOOL",
          "DISCOVERY HIGH SCHOOL",
          "HIGH SCHOOL OF AMERICAN STUDIES AT LEHMAN COLLEGE",
          "BRONX HEALTH SCIENCES HIGH SCHOOL",
          "BRONX HIGH SCHOOL FOR WRITING AND COMMUNICATION ARTS",
          "BRONX LAB SCHOOL",
          "ACADEMY FOR SCHOLARSHIP AND ENTREPRENEURSHIP: A COLLEGE BOARD SCHOOL",
          "HIGH SCHOOL OF COMPUTERS AND TECHNOLOGY",
          "COLLEGIATE INSTITUTE FOR MATH AND SCIENCE",
          "BRONX ACADEMY OF HEALTH CAREERS",
          "ASTOR COLLEGIATE ACADEMY",
          "BRONX HIGH SCHOOL FOR THE VISUAL ARTS",
          "HARRY S TRUMAN HIGH SCHOOL",
          "NEW WORLD HIGH SCHOOL",
          "THE BRONXWOOD PREPARATORY ACADEMY",
          "PELHAM PREPARATORY ACADEMY",
          "HIGH SCHOOL FOR CONTEMPORARY ARTS",
          "BRONX AEROSPACE HIGH SCHOOL",
          "METROPOLITAN HIGH SCHOOL, THE",
          "EXPLORATIONS ACADEMY",
          "BRONX LATIN",
          "EAST BRONX ACADEMY FOR THE FUTURE",
          "PEACE AND DIVERSITY ACADEMY",
          "PAN AMERICAN INTERNATIONAL HIGH SCHOOL AT MONROE",
          "THE CINEMA SCHOOL",
          "BRONX CAREER AND COLLEGE PREPARATORY HIGH SCHOOL",
          "HIGH SCHOOL OF WORLD CULTURES",
          "FANNIE LOU HAMER FREEDOM HIGH SCHOOL",
          "WINGS ACADEMY",
          "MONROE ACADEMY FOR VISUAL ARTS & DESIGN"
         ],
         "textfont": {
          "color": "#4D5663"
         },
         "type": "scatter",
         "x": [
          68.8,
          71.8,
          65.5,
          76,
          78.1,
          72.7,
          68.8,
          56,
          68.1,
          70.4,
          64.3,
          61.5,
          56.9,
          74.8,
          46.4,
          63.8,
          69.9,
          64.3,
          56.8,
          66,
          60.6,
          83.2,
          76,
          65.4,
          69.3,
          33.8,
          63.4,
          58.1,
          73.7,
          68.7,
          63.8,
          63.5,
          73.1,
          64.5,
          69.9,
          99.4,
          72.2,
          64.5,
          59.9,
          57.8,
          66.2,
          41.4,
          57,
          62.5,
          53,
          64.2,
          69.7,
          57.4,
          69.5,
          84.7,
          65.2,
          99.8,
          81.9,
          59.9,
          70.4,
          65.6,
          61.5,
          67.8,
          64.6,
          59.6,
          69.5,
          7.2,
          57.9,
          69,
          75.6,
          18,
          36.3,
          47.6,
          57.3,
          32,
          59.5,
          46.8,
          41.2,
          46,
          62.3,
          43.8,
          70.4,
          37.3,
          49.7,
          59.9,
          72.6,
          72.9,
          65.5,
          73.2,
          68.3,
          53.7,
          99.8,
          65,
          59.8,
          84.6,
          68.8,
          42.2,
          77.5
         ],
         "y": [
          1090,
          945,
          1077,
          1097,
          1201,
          1257,
          1186,
          1103,
          1084,
          1181,
          1201,
          1158,
          1095,
          1223.4388059701494,
          1171,
          1158,
          1038,
          1164,
          1084,
          1223.4388059701494,
          1241,
          1223.4388059701494,
          1099,
          1131,
          1049,
          1134,
          1290,
          1169,
          1092,
          1396,
          1075,
          1081,
          1148,
          1223.4388059701494,
          1138,
          951,
          965,
          1074,
          1083,
          1221,
          1224,
          1121,
          1166,
          1039,
          1333,
          1150,
          1190,
          1157,
          1158,
          962,
          1182,
          934,
          1181,
          1180,
          1106,
          1222,
          1077,
          1119,
          1082,
          1255,
          1270,
          1969,
          1263,
          1064,
          1115,
          1920,
          1133,
          1147,
          1135,
          1141,
          1111,
          1348,
          1135,
          1169,
          1268,
          1151,
          1048,
          1112,
          1288,
          1126,
          1163,
          1055,
          1122,
          1251,
          1102,
          1155,
          970,
          1223.4388059701494,
          1223.4388059701494,
          939,
          1029,
          1114,
          1038
         ]
        },
        {
         "marker": {
          "color": "rgba(50, 171, 96, 1.0)",
          "line": {
           "width": 1.3
          },
          "opacity": 0.8,
          "size": 12,
          "symbol": "circle"
         },
         "mode": "markers",
         "name": "Brooklyn",
         "text": [
          "DR. SUSAN S. MCKINNEY SECONDARY SCHOOL OF THE ARTS",
          "URBAN ASSEMBLY HIGH SCHOOL OF MUSIC AND ART",
          "BROOKLYN COMMUNITY HIGH SCHOOL OF COMMUNICATION, ARTS AND MEDIA",
          "SCIENCE SKILLS CENTER HIGH SCHOOL FOR SCIENCE, TECHNOLOGY AND THE CREATIVE ARTS",
          "BROOKLYN TECHNICAL HIGH SCHOOL",
          "BROOKLYN INTERNATIONAL HIGH SCHOOL",
          "THE URBAN ASSEMBLY SCHOOL FOR LAW AND JUSTICE",
          "ACORN COMMUNITY HIGH SCHOOL",
          "URBAN ASSEMBLY INSTITUTE OF MATH AND SCIENCE FOR YOUNG WOMEN",
          "BEDFORD ACADEMY HIGH SCHOOL",
          "GEORGE WESTINGHOUSE CAREER AND TECHNICAL EDUCATION HIGH SCHOOL",
          "BENJAMIN BANNEKER ACADEMY",
          "CITY POLYTECHNIC HIGH SCHOOL OF ENGINEERING, ARCHITECTURE, AND TECHNOLOGY",
          "JUAN MOREL CAMPOS SECONDARY SCHOOL",
          "FOUNDATIONS ACADEMY",
          "BROOKLYN LATIN SCHOOL, THE",
          "GREEN SCHOOL: AN ACADEMY FOR ENVIRONMENTAL CAREERS",
          "PROGRESS HIGH SCHOOL FOR PROFESSIONAL CAREERS",
          "SCHOOL FOR LEGAL STUDIES",
          "THE HIGH SCHOOL FOR ENTERPRISE, BUSINESS AND TECHNOLOGY",
          "BROOKLYN PREPARATORY HIGH SCHOOL",
          "WILLIAMSBURG HIGH SCHOOL FOR ARCHITECTURE AND DESIGN",
          "WILLIAMSBURG PREPARATORY SCHOOL",
          "LYONS COMMUNITY SCHOOL",
          "AUTOMOTIVE HIGH SCHOOL",
          "FRANCES PERKINS ACADEMY",
          "EL PUENTE ACADEMY FOR PEACE AND JUSTICE",
          "BROOKLYN SCHOOL FOR GLOBAL STUDIES",
          "BROOKLYN SECONDARY SCHOOL FOR COLLABORATIVE STUDIES",
          "SECONDARY SCHOOL FOR LAW",
          "SECONDARY SCHOOL FOR JOURNALISM",
          "PARK SLOPE COLLEGIATE",
          "SCHOOL FOR INTERNATIONAL STUDIES",
          "COBBLE HILL SCHOOL OF AMERICAN STUDIES",
          "BROOKLYN HIGH SCHOOL OF THE ARTS",
          "SUNSET PARK HIGH SCHOOL",
          "FREDERICK DOUGLASS ACADEMY IV SECONDARY SCHOOL",
          "BOYS AND GIRLS HIGH SCHOOL",
          "BROOKLYN HIGH SCHOOL FOR LAW AND TECHNOLOGY",
          "THE BROOKLYN ACADEMY OF GLOBAL FINANCE",
          "ACADEMY FOR COLLEGE PREPARATION AND CAREER EXPLORATION: A COLLEGE BOARD SCHOOL",
          "ACADEMY OF HOSPITALITY AND TOURISM",
          "INTERNATIONAL HIGH SCHOOL AT PROSPECT HEIGHTS",
          "THE HIGH SCHOOL FOR GLOBAL CITIZENSHIP",
          "SCHOOL FOR HUMAN RIGHTS, THE",
          "SCHOOL FOR DEMOCRACY AND LEADERSHIP",
          "HIGH SCHOOL FOR YOUTH AND COMMUNITY DEVELOPMENT AT ERASMUS",
          "HIGH SCHOOL FOR SERVICE & LEARNING AT ERASMUS",
          "SCIENCE, TECHNOLOGY AND RESEARCH EARLY COLLEGE HIGH SCHOOL AT ERASMUS",
          "HIGH SCHOOL FOR PUBLIC SERVICE: HEROES OF TOMORROW",
          "BROOKLYN ACADEMY OF SCIENCE AND THE ENVIRONMENT",
          "BROOKLYN SCHOOL FOR MUSIC & THEATRE",
          "MEDGAR EVERS COLLEGE PREPARATORY SCHOOL",
          "CLARA BARTON HIGH SCHOOL",
          "IT TAKES A VILLAGE ACADEMY",
          "BROOKLYN GENERATION SCHOOL",
          "BROOKLYN THEATRE ARTS HIGH SCHOOL",
          "KURT HAHN EXPEDITIONARY LEARNING SCHOOL",
          "VICTORY COLLEGIATE HIGH SCHOOL",
          "ARTS & MEDIA PREPARATORY ACADEMY",
          "HIGH SCHOOL FOR INNOVATION IN ADVERTISING AND MEDIA",
          "CULTURAL ACADEMY FOR THE ARTS AND SCIENCES",
          "HIGH SCHOOL FOR MEDICAL PROFESSIONS",
          "ACADEMY FOR CONSERVATION AND THE ENVIRONMENT",
          "URBAN ACTION ACADEMY",
          "EAST NEW YORK FAMILY ACADEMY",
          "FDNY HIGH SCHOOL FOR FIRE AND LIFE SAFETY",
          "HIGH SCHOOL FOR CIVIL RIGHTS",
          "PERFORMING ARTS AND TECHNOLOGY HIGH SCHOOL",
          "WORLD ACADEMY FOR TOTAL COMMUNITY HEALTH HIGH SCHOOL",
          "MULTICULTURAL HIGH SCHOOL",
          "TRANSIT TECH CAREER AND TECHNICAL EDUCATION HIGH SCHOOL",
          "ACADEMY OF INNOVATIVE TECHNOLOGY",
          "BROOKLYN LAB SCHOOL",
          "CYPRESS HILLS COLLEGIATE PREPARATORY SCHOOL",
          "W. H. MAXWELL CAREER AND TECHNICAL EDUCATION HIGH SCHOOL",
          "THE SCHOOL FOR CLASSICS: AN ACADEMY OF THINKERS, WRITERS AND PERFORMERS",
          "NEW UTRECHT HIGH SCHOOL",
          "HIGH SCHOOL OF TELECOMMUNICATION ARTS AND TECHNOLOGY",
          "FORT HAMILTON HIGH SCHOOL",
          "FRANKLIN DELANO ROOSEVELT HIGH SCHOOL",
          "THE URBAN ASSEMBLY SCHOOL FOR CRIMINAL JUSTICE",
          "INTERNATIONAL HIGH SCHOOL AT LAFAYETTE",
          "RACHEL CARSON HIGH SCHOOL FOR COASTAL STUDIES",
          "HIGH SCHOOL OF SPORTS MANAGEMENT",
          "ABRAHAM LINCOLN HIGH SCHOOL",
          "KINGSBOROUGH EARLY COLLEGE SCHOOL",
          "EDWARD R. MURROW HIGH SCHOOL",
          "JOHN DEWEY HIGH SCHOOL",
          "LIFE ACADEMY HIGH SCHOOL FOR FILM AND MUSIC",
          "EXPEDITIONARY LEARNING SCHOOL FOR COMMUNITY LEADERS",
          "WILLIAM E. GRADY CAREER AND TECHNICAL EDUCATION HIGH SCHOOL",
          "BROOKLYN STUDIO SECONDARY SCHOOL",
          "MIDWOOD HIGH SCHOOL",
          "JAMES MADISON HIGH SCHOOL",
          "LEON M. GOLDSTEIN HIGH SCHOOL FOR THE SCIENCES",
          "BROOKLYN COLLEGE ACADEMY",
          "BROOKLYN COLLEGIATE: A COLLEGE BOARD SCHOOL",
          "FREDERICK DOUGLASS ACADEMY VII HIGH SCHOOL",
          "TEACHERS PREPARATORY HIGH SCHOOL",
          "ACADEMY FOR ENVIRONMENTAL LEADERSHIP",
          "EBC HIGH SCHOOL FOR PUBLIC SERVICE–BUSHWICK",
          "BUSHWICK SCHOOL FOR SOCIAL JUSTICE",
          "ACADEMY OF URBAN PLANNING",
          "ALL CITY LEADERSHIP SECONDARY SCHOOL",
          "BUSHWICK LEADERS HIGH SCHOOL FOR ACADEMIC EXCELLENCE"
         ],
         "textfont": {
          "color": "#4D5663"
         },
         "type": "scatter",
         "x": [
          24.6,
          22.7,
          17.1,
          12.2,
          7.9,
          28.6,
          17.1,
          12.2,
          11.7,
          7.1,
          15.3,
          8.8,
          26.3,
          80.6,
          29.8,
          17.9,
          46.9,
          65.4,
          39.3,
          55.4,
          37.7,
          57.2,
          61.5,
          54.6,
          30.2,
          31.2,
          87.6,
          39,
          48.1,
          29.6,
          43.2,
          51.8,
          38.9,
          21,
          19,
          80.8,
          14.1,
          7.8,
          24.9,
          20.8,
          6.7,
          12.9,
          27.9,
          7.3,
          8.3,
          8.4,
          9.1,
          9,
          9.4,
          12.2,
          14.2,
          15.3,
          2.8,
          5.8,
          4.5,
          8.5,
          12.8,
          8.8,
          5.8,
          9.6,
          10.6,
          11.4,
          12.4,
          12,
          10.5,
          30.3,
          23.4,
          22.2,
          17.4,
          14.2,
          99.8,
          23.2,
          50.2,
          65,
          73.2,
          25.4,
          34.7,
          28,
          54.1,
          30.2,
          27.3,
          21.9,
          21,
          25.8,
          23,
          20.1,
          22.7,
          17.6,
          19.1,
          29.9,
          41.2,
          14,
          23.1,
          11.7,
          14.5,
          10.8,
          12.4,
          8.3,
          10.4,
          13.1,
          77.1,
          88.1,
          68.7,
          70.4,
          79.5,
          77.3
         ],
         "y": [
          1074,
          1080,
          1114,
          1211,
          1833,
          981,
          1206,
          1116,
          1223.4388059701494,
          1312,
          1189,
          1391,
          1353,
          1085,
          1223.4388059701494,
          1740,
          1189,
          1114,
          1204,
          1215,
          1090,
          1112,
          1187,
          1103,
          1093,
          1122,
          1035,
          1111,
          1179,
          1203,
          1169,
          1175,
          1212,
          1185,
          1258,
          1223.4388059701494,
          1068,
          1097,
          1092,
          1223.4388059701494,
          1139,
          1045,
          913,
          1176,
          1088,
          1153,
          1027,
          1105,
          1360,
          1273,
          1143,
          1151,
          1436,
          1251,
          963,
          1145,
          1118,
          1092,
          1143,
          1080,
          1183,
          1169,
          1159,
          1111,
          1135,
          1242,
          1023,
          1054,
          1149,
          1106,
          887,
          1193,
          1096,
          1108,
          1129,
          1102,
          1157,
          1272,
          1323,
          1306,
          1244,
          1223.4388059701494,
          1026,
          1237,
          1164,
          1226,
          1223.4388059701494,
          1431,
          1262,
          1124,
          1079,
          1184,
          1313,
          1473,
          1350,
          1627,
          1352,
          1185,
          1091,
          1196,
          1098,
          1154,
          1035,
          1060,
          1315,
          1055
         ]
        },
        {
         "marker": {
          "color": "rgba(128, 0, 128, 1.0)",
          "line": {
           "width": 1.3
          },
          "opacity": 0.8,
          "size": 12,
          "symbol": "circle"
         },
         "mode": "markers",
         "name": "Queens",
         "text": [
          "ACADEMY OF FINANCE AND ENTERPRISE",
          "HIGH SCHOOL OF APPLIED COMMUNICATION",
          "CIVIC LEADERSHIP ACADEMY",
          "PAN AMERICAN INTERNATIONAL HIGH SCHOOL",
          "BARD HIGH SCHOOL EARLY COLLEGE II",
          "NEWTOWN HIGH SCHOOL",
          "GROVER CLEVELAND HIGH SCHOOL",
          "MIDDLE COLLEGE HIGH SCHOOL AT LAGUARDIA COMMUNITY COLLEGE",
          "INTERNATIONAL HIGH SCHOOL AT LAGUARDIA COMMUNITY COLLEGE",
          "HIGH SCHOOL FOR ARTS AND BUSINESS",
          "ROBERT F. WAGNER, JR. SECONDARY SCHOOL FOR ARTS AND TECHNOLOGY",
          "QUEENS VOCATIONAL AND TECHNICAL HIGH SCHOOL",
          "AVIATION CAREER & TECHNICAL EDUCATION HIGH SCHOOL",
          "QUEENS SCHOOL OF INQUIRY, THE",
          "FLUSHING INTERNATIONAL HIGH SCHOOL",
          "EASTsWEST SCHOOL OF INTERNATIONAL STUDIES",
          "WORLD JOURNALISM PREPARATORY: A COLLEGE BOARD SCHOOL",
          "JOHN BOWNE HIGH SCHOOL",
          "FLUSHING HIGH SCHOOL",
          "TOWNSEND HARRIS HIGH SCHOOL",
          "ROBERT F. KENNEDY COMMUNITY HIGH SCHOOL",
          "BENJAMIN N. CARDOZO HIGH SCHOOL",
          "FRANCIS LEWIS HIGH SCHOOL",
          "MARTIN VAN BUREN HIGH SCHOOL",
          "BAYSIDE HIGH SCHOOL",
          "QUEENS HIGH SCHOOL OF TEACHING, LIBERAL ARTS AND THE SCIENCES",
          "FREDERICK DOUGLASS ACADEMY VI HIGH SCHOOL",
          "CHANNEL VIEW SCHOOL FOR RESEARCH",
          "QUEENS HIGH SCHOOL FOR INFORMATION, RESEARCH, AND TECHNOLOGY",
          "ROBERT H. GODDARD HIGH SCHOOL OF COMMUNICATION ARTS AND TECHNOLOGY",
          "ACADEMY OF MEDICAL TECHNOLOGY: A COLLEGE BOARD SCHOOL",
          "SCHOLARS' ACADEMY",
          "AUGUST MARTIN HIGH SCHOOL",
          "RICHMOND HILL HIGH SCHOOL",
          "JOHN ADAMS HIGH SCHOOL",
          "HIGH SCHOOL FOR CONSTRUCTION TRADES, ENGINEERING AND ARCHITECTURE",
          "YORK EARLY COLLEGE ACADEMY",
          "QUEENS COLLEGIATE: A COLLEGE BOARD SCHOOL",
          "HILLSIDE ARTS & LETTERS ACADEMY",
          "FOREST HILLS HIGH SCHOOL",
          "HILLCREST HIGH SCHOOL",
          "THOMAS A. EDISON CAREER AND TECHNICAL EDUCATION HIGH SCHOOL",
          "QUEENS GATEWAY TO HEALTH SCIENCES SECONDARY SCHOOL",
          "QUEENS METROPOLITAN HIGH SCHOOL",
          "QUEENS HIGH SCHOOL FOR THE SCIENCES AT YORK COLLEGE",
          "HIGH SCHOOL FOR LAW ENFORCEMENT AND PUBLIC SAFETY",
          "YOUNG WOMEN'S LEADERSHIP SCHOOL, QUEENS",
          "QUEENS PREPARATORY ACADEMY",
          "PATHWAYS COLLEGE PREPARATORY SCHOOL: A COLLEGE BOARD SCHOOL",
          "EXCELSIOR PREPARATORY HIGH SCHOOL",
          "GEORGE WASHINGTON CARVER HIGH SCHOOL FOR THE SCIENCES",
          "PREPARATORY ACADEMY FOR WRITERS: A COLLEGE BOARD SCHOOL",
          "CAMBRIA HEIGHTS ACADEMY",
          "MATHEMATICS, SCIENCE RESEARCH AND TECHNOLOGY MAGNET HIGH SCHOOL",
          "HUMANITIES & ARTS MAGNET HIGH SCHOOL",
          "YOUNG WOMEN'S LEADERSHIP SCHOOL, ASTORIA",
          "ACADEMY FOR CAREERS IN TELEVISION AND FILM",
          "WILLIAM CULLEN BRYANT HIGH SCHOOL",
          "LONG ISLAND CITY HIGH SCHOOL",
          "FRANK SINATRA SCHOOL OF THE ARTS HIGH SCHOOL",
          "INFORMATION TECHNOLOGY HIGH SCHOOL",
          "NEWCOMERS HIGH SCHOOL",
          "ACADEMY OF AMERICAN STUDIES",
          "BACCALAUREATE SCHOOL FOR GLOBAL EDUCATION"
         ],
         "textfont": {
          "color": "#4D5663"
         },
         "type": "scatter",
         "x": [
          56.4,
          57.2,
          79.3,
          100,
          21.2,
          60.3,
          63.5,
          71.4,
          44,
          79.2,
          62.4,
          74.2,
          55.3,
          24.2,
          32.7,
          17.9,
          20.3,
          40.7,
          49.8,
          12.9,
          35.4,
          18.6,
          24.1,
          15.1,
          22.3,
          16.8,
          27,
          27.5,
          30,
          42.6,
          34.2,
          15.9,
          11.5,
          46.4,
          37.1,
          41.6,
          10.2,
          18.5,
          21,
          30.2,
          22.8,
          21.1,
          15.7,
          38.6,
          7.9,
          15.1,
          18.4,
          8.2,
          2.9,
          9.7,
          14.1,
          10.4,
          7.5,
          11.9,
          8.5,
          40.4,
          53.5,
          48.8,
          62.7,
          27.2,
          56.6,
          43.5,
          34.7,
          24.3
         ],
         "y": [
          1280,
          1219,
          1240,
          951,
          1663,
          1203,
          1211,
          1177,
          1064,
          1174,
          1330,
          1270,
          1364,
          1396,
          1049,
          1271,
          1441,
          1243,
          1216,
          1910,
          1330,
          1514,
          1474,
          1172,
          1449,
          1279,
          1145,
          1252,
          1156,
          1265,
          1094,
          1532,
          1108,
          1154,
          1192,
          1345,
          1223.4388059701494,
          1265,
          1223.4388059701494,
          1407,
          1194,
          1372,
          1538,
          1223.4388059701494,
          1868,
          1196,
          1316,
          1099,
          1173,
          1202,
          1287,
          1100,
          1223.4388059701494,
          1220,
          1151,
          1223.4388059701494,
          1255,
          1275,
          1218,
          1494,
          1239,
          1127,
          1470,
          1636
         ]
        },
        {
         "marker": {
          "color": "rgba(219, 64, 82, 1.0)",
          "line": {
           "width": 1.3
          },
          "opacity": 0.8,
          "size": 12,
          "symbol": "circle"
         },
         "mode": "markers",
         "name": "Staten Island",
         "text": [
          "CSI HIGH SCHOOL FOR INTERNATIONAL STUDIES",
          "GAYNOR MCCOWN EXPEDITIONARY LEARNING SCHOOL",
          "THE MICHAEL J. PETRIDES SCHOOL",
          "NEW DORP HIGH SCHOOL",
          "PORT RICHMOND HIGH SCHOOL",
          "CURTIS HIGH SCHOOL",
          "TOTTENVILLE HIGH SCHOOL",
          "SUSAN E. WAGNER HIGH SCHOOL",
          "RALPH R. MCKEE CAREER AND TECHNICAL EDUCATION HIGH SCHOOL",
          "STATEN ISLAND TECHNICAL HIGH SCHOOL"
         ],
         "textfont": {
          "color": "#4D5663"
         },
         "type": "scatter",
         "x": [
          17.9,
          17.6,
          16.9,
          27.3,
          37.6,
          31.9,
          9.9,
          24.1,
          33.2,
          5.3
         ],
         "y": [
          1353,
          1195,
          1426,
          1277,
          1279,
          1301,
          1418,
          1388,
          1235,
          1953
         ]
        }
       ],
       "layout": {
        "legend": {
         "bgcolor": "#F5F6F9",
         "font": {
          "color": "#4D5663"
         }
        },
        "paper_bgcolor": "#F5F6F9",
        "plot_bgcolor": "#F5F6F9",
        "shapes": [
         {
          "line": {
           "color": "#000000",
           "dash": "dash",
           "width": 1
          },
          "type": "line",
          "x0": 0,
          "x1": 1,
          "xref": "paper",
          "y0": 1223.438805970149,
          "y1": 1223.438805970149,
          "yref": "y"
         },
         {
          "line": {
           "color": "#000000",
           "dash": "dash",
           "width": 1
          },
          "type": "line",
          "x0": 44.06831955922865,
          "x1": 44.06831955922865,
          "xref": "x",
          "y0": 0,
          "y1": 1,
          "yref": "paper"
         }
        ],
        "title": "Share of hispanic students vs. SAT score by school <br> dashed lines: average of entire dataset",
        "titlefont": {
         "color": "#4D5663"
        },
        "xaxis": {
         "gridcolor": "#E1E5ED",
         "showgrid": true,
         "tickfont": {
          "color": "#4D5663"
         },
         "title": "Share hispanics, %",
         "titlefont": {
          "color": "#4D5663"
         },
         "zerolinecolor": "#E1E5ED"
        },
        "yaxis": {
         "gridcolor": "#E1E5ED",
         "showgrid": true,
         "tickfont": {
          "color": "#4D5663"
         },
         "title": "Avg. SAT score",
         "titlefont": {
          "color": "#4D5663"
         },
         "zerolinecolor": "#E1E5ED"
        }
       }
      },
      "text/html": [
       "<div>\n",
       "        \n",
       "        \n",
       "            <div id=\"fab27f9a-7e9e-444a-ad65-6ae4d8a3201d\" class=\"plotly-graph-div\" style=\"height:525px; width:100%;\"></div>\n",
       "            <script type=\"text/javascript\">\n",
       "                require([\"plotly\"], function(Plotly) {\n",
       "                    window.PLOTLYENV=window.PLOTLYENV || {};\n",
       "                    window.PLOTLYENV.BASE_URL='https://plot.ly';\n",
       "                    \n",
       "                if (document.getElementById(\"fab27f9a-7e9e-444a-ad65-6ae4d8a3201d\")) {\n",
       "                    Plotly.newPlot(\n",
       "                        'fab27f9a-7e9e-444a-ad65-6ae4d8a3201d',\n",
       "                        [{\"marker\": {\"color\": \"rgba(255, 153, 51, 1.0)\", \"line\": {\"width\": 1.3}, \"opacity\": 0.8, \"size\": 12, \"symbol\": \"circle\"}, \"mode\": \"markers\", \"name\": \"Manhattan\", \"text\": [\"HENRY STREET SCHOOL FOR INTERNATIONAL STUDIES\", \"UNIVERSITY NEIGHBORHOOD HIGH SCHOOL\", \"EAST SIDE COMMUNITY SCHOOL\", \"MARTA VALLE HIGH SCHOOL\", \"NEW EXPLORATIONS INTO SCIENCE, TECHNOLOGY AND MATH HIGH SCHOOL\", \"BARD HIGH SCHOOL EARLY COLLEGE\", \"47 THE AMERICAN SIGN LANGUAGE AND ENGLISH SECONDARY SCHOOL\", \"FOOD AND FINANCE HIGH SCHOOL\", \"ESSEX STREET ACADEMY\", \"HIGH SCHOOL OF HOSPITALITY MANAGEMENT\", \"PACE HIGH SCHOOL\", \"URBAN ASSEMBLY SCHOOL OF DESIGN AND CONSTRUCTION, THE\", \"FACING HISTORY SCHOOL, THE\", \"URBAN ASSEMBLY ACADEMY OF GOVERNMENT AND LAW, THE\", \"LOWER MANHATTAN ARTS ACADEMY\", \"URBAN ASSEMBLY SCHOOL OF BUSINESS FOR YOUNG WOMEN, THE\", \"GRAMERCY ARTS HIGH SCHOOL\", \"NYC ISCHOOL\", \"MANHATTAN BUSINESS ACADEMY\", \"BUSINESS OF SPORTS SCHOOL\", \"THE HIGH SCHOOL FOR LANGUAGE AND DIPLOMACY\", \"HIGH SCHOOL FOR ENVIRONMENTAL STUDIES\", \"PROFESSIONAL PERFORMING ARTS HIGH SCHOOL\", \"BARUCH COLLEGE CAMPUS HIGH SCHOOL\", \"N.Y.C. LAB SCHOOL FOR COLLABORATIVE STUDIES\", \"N.Y.C. MUSEUM SCHOOL\", \"ELEANOR ROOSEVELT HIGH SCHOOL\", \"MILLENNIUM HIGH SCHOOL\", \"LANDMARK HIGH SCHOOL\", \"HIGH SCHOOL FOR HEALTH PROFESSIONS AND HUMAN SERVICES\", \"LEADERSHIP AND PUBLIC SERVICE HIGH SCHOOL\", \"MANHATTAN ACADEMY FOR ARTS & LANGUAGE\", \"HUDSON HIGH SCHOOL OF LEARNING TECHNOLOGIES\", \"INTERNATIONAL HIGH SCHOOL AT UNION SQUARE\", \"MANHATTAN VILLAGE ACADEMY\", \"VANGUARD HIGH SCHOOL\", \"MANHATTAN INTERNATIONAL HIGH SCHOOL\", \"STUYVESANT HIGH SCHOOL\", \"HIGH SCHOOL OF ECONOMICS AND FINANCE\", \"UNITY CENTER FOR URBAN TECHNOLOGIES\", \"TALENT UNLIMITED HIGH SCHOOL\", \"MURRY BERGTRAUM HIGH SCHOOL FOR BUSINESS CAREERS\", \"JACQUELINE KENNEDY ONASSIS HIGH SCHOOL\", \"REPERTORY COMPANY HIGH SCHOOL FOR THEATRE ARTS\", \"MANHATTAN BRIDGES HIGH SCHOOL\", \"NEW DESIGN HIGH SCHOOL\", \"HIGH SCHOOL FOR DUAL LANGUAGE AND ASIAN STUDIES\", \"THE URBAN ASSEMBLY NEW YORK HARBOR SCHOOL\", \"RICHARD R. GREEN HIGH SCHOOL OF TEACHING\", \"THE HIGH SCHOOL OF FASHION INDUSTRIES\", \"HUMANITIES PREPARATORY ACADEMY\", \"CHELSEA CAREER AND TECHNICAL EDUCATION HIGH SCHOOL\", \"ART AND DESIGN HIGH SCHOOL\", \"LIFE SCIENCES SECONDARY SCHOOL\", \"HIGH SCHOOL FOR ARTS, IMAGINATION AND INQUIRY\", \"URBAN ASSEMBLY SCHOOL FOR MEDIA STUDIES, THE\", \"THE URBAN ASSEMBLY SCHOOL FOR GREEN CAREERS\", \"THE GLOBAL LEARNING COLLABORATIVE\", \"WADLEIGH SECONDARY SCHOOL FOR THE PERFORMING & VISUAL ARTS\", \"FRANK MCCOURT HIGH SCHOOL\", \"BEACON HIGH SCHOOL\", \"FIORELLO H. LAGUARDIA HIGH SCHOOL OF MUSIC & ART AND PERFORMING ARTS\", \"HIGH SCHOOL FOR LAW, ADVOCACY AND COMMUNITY JUSTICE\", \"HIGH SCHOOL OF ARTS AND TECHNOLOGY\", \"MANHATTAN / HUNTER SCIENCE HIGH SCHOOL\", \"FREDERICK DOUGLASS ACADEMY II SECONDARY SCHOOL\", \"COALITION SCHOOL FOR SOCIAL CHANGE\", \"MANHATTAN CENTER FOR SCIENCE AND MATHEMATICS\", \"PARK EAST HIGH SCHOOL\", \"CENTRAL PARK EAST HIGH SCHOOL\", \"YOUNG WOMEN'S LEADERSHIP SCHOOL\", \"YOUNG WOMEN'S LEADERSHIP SCHOOL\", \"HERITAGE SCHOOL, THE\", \"MOTT HALL HIGH SCHOOL\", \"COLUMBIA SECONDARY SCHOOL FOR MATH, SCIENCE, AND ENGINEERING\", \"ACADEMY FOR SOCIAL ACTION: A COLLEGE BOARD SCHOOL\", \"URBAN ASSEMBLY SCHOOL FOR THE PERFORMING ARTS\", \"FREDERICK DOUGLASS ACADEMY\", \"THURGOOD MARSHALL ACADEMY FOR LEARNING AND SOCIAL CHANGE\", \"HIGH SCHOOL FOR MATHEMATICS, SCIENCE AND ENGINEERING AT CITY COLLEGE\", \"CITY COLLEGE ACADEMY OF THE ARTS\", \"COMMUNITY HEALTH ACADEMY OF THE HEIGHTS\", \"WASHINGTON HEIGHTS EXPEDITIONARY LEARNING SCHOOL\", \"HIGH SCHOOL FOR EXCELLENCE AND INNOVATION\", \"HIGH SCHOOL FOR INTERNATIONAL BUSINESS AND FINANCE\", \"HIGH SCHOOL FOR MEDIA AND COMMUNICATIONS\", \"HIGH SCHOOL FOR LAW AND PUBLIC SERVICE\", \"HIGH SCHOOL FOR HEALTH CAREERS AND SCIENCES\", \"A. PHILIP RANDOLPH CAMPUS HIGH SCHOOL\", \"GREGORIO LUPERON HIGH SCHOOL FOR SCIENCE AND MATHEMATICS\"], \"textfont\": {\"color\": \"#4D5663\"}, \"type\": \"scatter\", \"x\": [53.8, 45.9, 55.4, 56.9, 14.2, 18.2, 59.2, 47.6, 60.6, 66.1, 42.0, 59.2, 73.2, 50.6, 55.7, 48.4, 45.1, 43.0, 58.7, 57.2, 32.8, 57.2, 23.7, 14.6, 14.0, 39.9, 11.6, 21.7, 74.8, 49.7, 54.2, 84.6, 62.4, 43.2, 71.8, 59.0, 36.9, 2.4, 43.5, 55.3, 39.3, 46.6, 69.9, 42.4, 99.8, 62.2, 4.0, 49.3, 59.3, 52.3, 57.8, 60.5, 51.0, 64.3, 58.9, 56.0, 76.0, 62.6, 38.8, 37.0, 22.8, 16.6, 48.1, 57.2, 41.5, 18.9, 58.7, 57.4, 59.6, 64.5, 60.1, 60.1, 69.4, 63.8, 48.5, 38.1, 38.2, 22.8, 20.9, 21.2, 92.0, 93.8, 96.7, 72.5, 91.4, 87.1, 84.4, 83.8, 62.3, 99.8], \"y\": [1122.0, 1172.0, 1149.0, 1207.0, 1621.0, 1856.0, 1182.0, 1194.0, 1156.0, 1111.0, 1293.0, 1269.0, 1051.0, 1148.0, 1200.0, 1127.0, 1176.0, 1435.0, 1223.4388059701494, 1223.4388059701494, 1223.4388059701494, 1419.0, 1522.0, 1577.0, 1677.0, 1419.0, 1758.0, 1614.0, 1170.0, 1306.0, 1233.0, 1223.4388059701494, 1223.4388059701494, 1223.4388059701494, 1372.0, 1199.0, 1227.0, 2096.0, 1374.0, 1070.0, 1416.0, 1240.0, 1239.0, 1253.0, 1058.0, 1168.0, 1424.0, 1212.0, 1195.0, 1257.0, 1255.0, 1207.0, 1315.0, 1236.0, 1132.0, 1144.0, 1223.4388059701494, 1223.4388059701494, 1109.0, 1223.4388059701494, 1744.0, 1707.0, 1196.0, 1277.0, 1446.0, 1096.0, 1084.0, 1430.0, 1128.0, 1221.0, 1326.0, 1326.0, 1054.0, 1210.0, 1223.4388059701494, 1062.0, 1077.0, 1374.0, 1202.0, 1847.0, 1270.0, 1105.0, 1174.0, 1223.4388059701494, 1127.0, 1098.0, 1102.0, 1224.0, 1309.0, 1014.0]}, {\"marker\": {\"color\": \"rgba(55, 128, 191, 1.0)\", \"line\": {\"width\": 1.3}, \"opacity\": 0.8, \"size\": 12, \"symbol\": \"circle\"}, \"mode\": \"markers\", \"name\": \"Bronx\", \"text\": [\"SOUTH BRONX PREPARATORY: A COLLEGE BOARD SCHOOL\", \"INTERNATIONAL COMMUNITY HIGH SCHOOL\", \"COMMUNITY SCHOOL FOR SOCIAL JUSTICE\", \"MOTT HAVEN VILLAGE PREPARATORY HIGH SCHOOL\", \"UNIVERSITY HEIGHTS SECONDARY SCHOOL\", \"HOSTOSsLINCOLN ACADEMY OF SCIENCE\", \"FOREIGN LANGUAGE ACADEMY OF GLOBAL STUDIES\", \"BRONX LEADERSHIP ACADEMY II HIGH SCHOOL\", \"NEW EXPLORERS HIGH SCHOOL\", \"URBAN ASSEMBLY SCHOOL FOR CAREERS IN SPORTS\", \"BRONX ACADEMY OF LETTERS\", \"ALFRED E. SMITH CAREER AND TECHNICAL EDUCATION HIGH SCHOOL\", \"HEALTH OPPORTUNITIES HIGH SCHOOL\", \"BRONX STUDIO SCHOOL FOR WRITERS AND ARTISTS\", \"WOMEN'S ACADEMY OF EXCELLENCE\", \"RENAISSANCE HIGH SCHOOL FOR MUSICAL THEATER & TECHNOLOGY\", \"PABLO NERUDA ACADEMY FOR ARCHITECTURE AND WORLD STUDIES\", \"MILLENNIUM ART ACADEMY\", \"HOLCOMBE L. RUCKER SCHOOL OF COMMUNITY RESEARCH\", \"ANTONIA PANTOJA PREPARATORY ACADEMY, A COLLEGE BOARD SCHOOL\", \"HERBERT H. LEHMAN HIGH SCHOOL\", \"BRONX BRIDGES HIGH SCHOOL\", \"FELISA RINCON DE GAUTIER INSTITUTE FOR LAW AND PUBLIC POLICY, THE\", \"BANANA KELLY HIGH SCHOOL\", \"BRONX EXPEDITIONARY LEARNING HIGH SCHOOL\", \"EAGLE ACADEMY FOR YOUNG MEN\", \"URBAN ASSEMBLY SCHOOL FOR APPLIED MATH AND SCIENCE, THE\", \"EXIMIUS COLLEGE PREPARATORY ACADEMY: A COLLEGE BOARD SCHOOL\", \"MOTT HALL BRONX HIGH SCHOOL\", \"BRONX CENTER FOR SCIENCE AND MATHEMATICS\", \"VALIDUS PREPARATORY ACADEMY: AN EXPEDITIONARY LEARNING SCHOOL\", \"LEADERSHIP INSTITUTE\", \"MORRIS ACADEMY FOR COLLABORATIVE STUDIES\", \"BRONX EARLY COLLEGE ACADEMY FOR TEACHING & LEARNING\", \"DREAMYARD PREPARATORY SCHOOL\", \"ACADEMY FOR LANGUAGE AND TECHNOLOGY\", \"BRONX INTERNATIONAL HIGH SCHOOL\", \"SCHOOL FOR EXCELLENCE\", \"BRONX HIGH SCHOOL OF BUSINESS\", \"BRONX HIGH SCHOOL FOR MEDICAL SCIENCE\", \"BRONX SCHOOL FOR LAW, GOVERNMENT AND JUSTICE\", \"FREDERICK DOUGLASS ACADEMY III SECONDARY SCHOOL\", \"BRONX LEADERSHIP ACADEMY HIGH SCHOOL\", \"HIGH SCHOOL FOR VIOLIN AND DANCE\", \"RIVERDALE / KINGSBRIDGE ACADEMY (MIDDLE SCHOOL / HIGH SCHOOL 141)\", \"BRONX ENGINEERING AND TECHNOLOGY ACADEMY\", \"THEATRE ARTS PRODUCTION COMPANY SCHOOL\", \"THE MARIE CURIE SCHOOL FOR MEDICINE, NURSING, AND HEALTH PROFESSIONS\", \"WEST BRONX ACADEMY FOR THE FUTURE\", \"KINGSBRIDGE INTERNATIONAL HIGH SCHOOL\", \"BRONX SCHOOL OF LAW AND FINANCE\", \"INTERNATIONAL SCHOOL FOR LIBERAL ARTS\", \"INsTECH ACADEMY (M.S. / HIGH SCHOOL 368)\", \"KNOWLEDGE AND POWER PREPARATORY ACADEMY INTERNATIONAL HIGH SCHOOL (KAPPA)\", \"HIGH SCHOOL FOR TEACHING AND THE PROFESSIONS\", \"BELMONT PREPARATORY HIGH SCHOOL\", \"FORDHAM HIGH SCHOOL FOR THE ARTS\", \"FORDHAM LEADERSHIP ACADEMY FOR BUSINESS AND TECHNOLOGY\", \"BRONX HIGH SCHOOL FOR LAW AND COMMUNITY SERVICE\", \"DEWITT CLINTON HIGH SCHOOL\", \"CELIA CRUZ BRONX HIGH SCHOOL OF MUSIC, THE\", \"BRONX HIGH SCHOOL OF SCIENCE\", \"MARBLE HILL HIGH SCHOOL FOR INTERNATIONAL STUDIES\", \"BRONX THEATRE HIGH SCHOOL\", \"DISCOVERY HIGH SCHOOL\", \"HIGH SCHOOL OF AMERICAN STUDIES AT LEHMAN COLLEGE\", \"BRONX HEALTH SCIENCES HIGH SCHOOL\", \"BRONX HIGH SCHOOL FOR WRITING AND COMMUNICATION ARTS\", \"BRONX LAB SCHOOL\", \"ACADEMY FOR SCHOLARSHIP AND ENTREPRENEURSHIP: A COLLEGE BOARD SCHOOL\", \"HIGH SCHOOL OF COMPUTERS AND TECHNOLOGY\", \"COLLEGIATE INSTITUTE FOR MATH AND SCIENCE\", \"BRONX ACADEMY OF HEALTH CAREERS\", \"ASTOR COLLEGIATE ACADEMY\", \"BRONX HIGH SCHOOL FOR THE VISUAL ARTS\", \"HARRY S TRUMAN HIGH SCHOOL\", \"NEW WORLD HIGH SCHOOL\", \"THE BRONXWOOD PREPARATORY ACADEMY\", \"PELHAM PREPARATORY ACADEMY\", \"HIGH SCHOOL FOR CONTEMPORARY ARTS\", \"BRONX AEROSPACE HIGH SCHOOL\", \"METROPOLITAN HIGH SCHOOL, THE\", \"EXPLORATIONS ACADEMY\", \"BRONX LATIN\", \"EAST BRONX ACADEMY FOR THE FUTURE\", \"PEACE AND DIVERSITY ACADEMY\", \"PAN AMERICAN INTERNATIONAL HIGH SCHOOL AT MONROE\", \"THE CINEMA SCHOOL\", \"BRONX CAREER AND COLLEGE PREPARATORY HIGH SCHOOL\", \"HIGH SCHOOL OF WORLD CULTURES\", \"FANNIE LOU HAMER FREEDOM HIGH SCHOOL\", \"WINGS ACADEMY\", \"MONROE ACADEMY FOR VISUAL ARTS & DESIGN\"], \"textfont\": {\"color\": \"#4D5663\"}, \"type\": \"scatter\", \"x\": [68.8, 71.8, 65.5, 76.0, 78.1, 72.7, 68.8, 56.0, 68.1, 70.4, 64.3, 61.5, 56.9, 74.8, 46.4, 63.8, 69.9, 64.3, 56.8, 66.0, 60.6, 83.2, 76.0, 65.4, 69.3, 33.8, 63.4, 58.1, 73.7, 68.7, 63.8, 63.5, 73.1, 64.5, 69.9, 99.4, 72.2, 64.5, 59.9, 57.8, 66.2, 41.4, 57.0, 62.5, 53.0, 64.2, 69.7, 57.4, 69.5, 84.7, 65.2, 99.8, 81.9, 59.9, 70.4, 65.6, 61.5, 67.8, 64.6, 59.6, 69.5, 7.2, 57.9, 69.0, 75.6, 18.0, 36.3, 47.6, 57.3, 32.0, 59.5, 46.8, 41.2, 46.0, 62.3, 43.8, 70.4, 37.3, 49.7, 59.9, 72.6, 72.9, 65.5, 73.2, 68.3, 53.7, 99.8, 65.0, 59.8, 84.6, 68.8, 42.2, 77.5], \"y\": [1090.0, 945.0, 1077.0, 1097.0, 1201.0, 1257.0, 1186.0, 1103.0, 1084.0, 1181.0, 1201.0, 1158.0, 1095.0, 1223.4388059701494, 1171.0, 1158.0, 1038.0, 1164.0, 1084.0, 1223.4388059701494, 1241.0, 1223.4388059701494, 1099.0, 1131.0, 1049.0, 1134.0, 1290.0, 1169.0, 1092.0, 1396.0, 1075.0, 1081.0, 1148.0, 1223.4388059701494, 1138.0, 951.0, 965.0, 1074.0, 1083.0, 1221.0, 1224.0, 1121.0, 1166.0, 1039.0, 1333.0, 1150.0, 1190.0, 1157.0, 1158.0, 962.0, 1182.0, 934.0, 1181.0, 1180.0, 1106.0, 1222.0, 1077.0, 1119.0, 1082.0, 1255.0, 1270.0, 1969.0, 1263.0, 1064.0, 1115.0, 1920.0, 1133.0, 1147.0, 1135.0, 1141.0, 1111.0, 1348.0, 1135.0, 1169.0, 1268.0, 1151.0, 1048.0, 1112.0, 1288.0, 1126.0, 1163.0, 1055.0, 1122.0, 1251.0, 1102.0, 1155.0, 970.0, 1223.4388059701494, 1223.4388059701494, 939.0, 1029.0, 1114.0, 1038.0]}, {\"marker\": {\"color\": \"rgba(50, 171, 96, 1.0)\", \"line\": {\"width\": 1.3}, \"opacity\": 0.8, \"size\": 12, \"symbol\": \"circle\"}, \"mode\": \"markers\", \"name\": \"Brooklyn\", \"text\": [\"DR. SUSAN S. MCKINNEY SECONDARY SCHOOL OF THE ARTS\", \"URBAN ASSEMBLY HIGH SCHOOL OF MUSIC AND ART\", \"BROOKLYN COMMUNITY HIGH SCHOOL OF COMMUNICATION, ARTS AND MEDIA\", \"SCIENCE SKILLS CENTER HIGH SCHOOL FOR SCIENCE, TECHNOLOGY AND THE CREATIVE ARTS\", \"BROOKLYN TECHNICAL HIGH SCHOOL\", \"BROOKLYN INTERNATIONAL HIGH SCHOOL\", \"THE URBAN ASSEMBLY SCHOOL FOR LAW AND JUSTICE\", \"ACORN COMMUNITY HIGH SCHOOL\", \"URBAN ASSEMBLY INSTITUTE OF MATH AND SCIENCE FOR YOUNG WOMEN\", \"BEDFORD ACADEMY HIGH SCHOOL\", \"GEORGE WESTINGHOUSE CAREER AND TECHNICAL EDUCATION HIGH SCHOOL\", \"BENJAMIN BANNEKER ACADEMY\", \"CITY POLYTECHNIC HIGH SCHOOL OF ENGINEERING, ARCHITECTURE, AND TECHNOLOGY\", \"JUAN MOREL CAMPOS SECONDARY SCHOOL\", \"FOUNDATIONS ACADEMY\", \"BROOKLYN LATIN SCHOOL, THE\", \"GREEN SCHOOL: AN ACADEMY FOR ENVIRONMENTAL CAREERS\", \"PROGRESS HIGH SCHOOL FOR PROFESSIONAL CAREERS\", \"SCHOOL FOR LEGAL STUDIES\", \"THE HIGH SCHOOL FOR ENTERPRISE, BUSINESS AND TECHNOLOGY\", \"BROOKLYN PREPARATORY HIGH SCHOOL\", \"WILLIAMSBURG HIGH SCHOOL FOR ARCHITECTURE AND DESIGN\", \"WILLIAMSBURG PREPARATORY SCHOOL\", \"LYONS COMMUNITY SCHOOL\", \"AUTOMOTIVE HIGH SCHOOL\", \"FRANCES PERKINS ACADEMY\", \"EL PUENTE ACADEMY FOR PEACE AND JUSTICE\", \"BROOKLYN SCHOOL FOR GLOBAL STUDIES\", \"BROOKLYN SECONDARY SCHOOL FOR COLLABORATIVE STUDIES\", \"SECONDARY SCHOOL FOR LAW\", \"SECONDARY SCHOOL FOR JOURNALISM\", \"PARK SLOPE COLLEGIATE\", \"SCHOOL FOR INTERNATIONAL STUDIES\", \"COBBLE HILL SCHOOL OF AMERICAN STUDIES\", \"BROOKLYN HIGH SCHOOL OF THE ARTS\", \"SUNSET PARK HIGH SCHOOL\", \"FREDERICK DOUGLASS ACADEMY IV SECONDARY SCHOOL\", \"BOYS AND GIRLS HIGH SCHOOL\", \"BROOKLYN HIGH SCHOOL FOR LAW AND TECHNOLOGY\", \"THE BROOKLYN ACADEMY OF GLOBAL FINANCE\", \"ACADEMY FOR COLLEGE PREPARATION AND CAREER EXPLORATION: A COLLEGE BOARD SCHOOL\", \"ACADEMY OF HOSPITALITY AND TOURISM\", \"INTERNATIONAL HIGH SCHOOL AT PROSPECT HEIGHTS\", \"THE HIGH SCHOOL FOR GLOBAL CITIZENSHIP\", \"SCHOOL FOR HUMAN RIGHTS, THE\", \"SCHOOL FOR DEMOCRACY AND LEADERSHIP\", \"HIGH SCHOOL FOR YOUTH AND COMMUNITY DEVELOPMENT AT ERASMUS\", \"HIGH SCHOOL FOR SERVICE & LEARNING AT ERASMUS\", \"SCIENCE, TECHNOLOGY AND RESEARCH EARLY COLLEGE HIGH SCHOOL AT ERASMUS\", \"HIGH SCHOOL FOR PUBLIC SERVICE: HEROES OF TOMORROW\", \"BROOKLYN ACADEMY OF SCIENCE AND THE ENVIRONMENT\", \"BROOKLYN SCHOOL FOR MUSIC & THEATRE\", \"MEDGAR EVERS COLLEGE PREPARATORY SCHOOL\", \"CLARA BARTON HIGH SCHOOL\", \"IT TAKES A VILLAGE ACADEMY\", \"BROOKLYN GENERATION SCHOOL\", \"BROOKLYN THEATRE ARTS HIGH SCHOOL\", \"KURT HAHN EXPEDITIONARY LEARNING SCHOOL\", \"VICTORY COLLEGIATE HIGH SCHOOL\", \"ARTS & MEDIA PREPARATORY ACADEMY\", \"HIGH SCHOOL FOR INNOVATION IN ADVERTISING AND MEDIA\", \"CULTURAL ACADEMY FOR THE ARTS AND SCIENCES\", \"HIGH SCHOOL FOR MEDICAL PROFESSIONS\", \"ACADEMY FOR CONSERVATION AND THE ENVIRONMENT\", \"URBAN ACTION ACADEMY\", \"EAST NEW YORK FAMILY ACADEMY\", \"FDNY HIGH SCHOOL FOR FIRE AND LIFE SAFETY\", \"HIGH SCHOOL FOR CIVIL RIGHTS\", \"PERFORMING ARTS AND TECHNOLOGY HIGH SCHOOL\", \"WORLD ACADEMY FOR TOTAL COMMUNITY HEALTH HIGH SCHOOL\", \"MULTICULTURAL HIGH SCHOOL\", \"TRANSIT TECH CAREER AND TECHNICAL EDUCATION HIGH SCHOOL\", \"ACADEMY OF INNOVATIVE TECHNOLOGY\", \"BROOKLYN LAB SCHOOL\", \"CYPRESS HILLS COLLEGIATE PREPARATORY SCHOOL\", \"W. H. MAXWELL CAREER AND TECHNICAL EDUCATION HIGH SCHOOL\", \"THE SCHOOL FOR CLASSICS: AN ACADEMY OF THINKERS, WRITERS AND PERFORMERS\", \"NEW UTRECHT HIGH SCHOOL\", \"HIGH SCHOOL OF TELECOMMUNICATION ARTS AND TECHNOLOGY\", \"FORT HAMILTON HIGH SCHOOL\", \"FRANKLIN DELANO ROOSEVELT HIGH SCHOOL\", \"THE URBAN ASSEMBLY SCHOOL FOR CRIMINAL JUSTICE\", \"INTERNATIONAL HIGH SCHOOL AT LAFAYETTE\", \"RACHEL CARSON HIGH SCHOOL FOR COASTAL STUDIES\", \"HIGH SCHOOL OF SPORTS MANAGEMENT\", \"ABRAHAM LINCOLN HIGH SCHOOL\", \"KINGSBOROUGH EARLY COLLEGE SCHOOL\", \"EDWARD R. MURROW HIGH SCHOOL\", \"JOHN DEWEY HIGH SCHOOL\", \"LIFE ACADEMY HIGH SCHOOL FOR FILM AND MUSIC\", \"EXPEDITIONARY LEARNING SCHOOL FOR COMMUNITY LEADERS\", \"WILLIAM E. GRADY CAREER AND TECHNICAL EDUCATION HIGH SCHOOL\", \"BROOKLYN STUDIO SECONDARY SCHOOL\", \"MIDWOOD HIGH SCHOOL\", \"JAMES MADISON HIGH SCHOOL\", \"LEON M. GOLDSTEIN HIGH SCHOOL FOR THE SCIENCES\", \"BROOKLYN COLLEGE ACADEMY\", \"BROOKLYN COLLEGIATE: A COLLEGE BOARD SCHOOL\", \"FREDERICK DOUGLASS ACADEMY VII HIGH SCHOOL\", \"TEACHERS PREPARATORY HIGH SCHOOL\", \"ACADEMY FOR ENVIRONMENTAL LEADERSHIP\", \"EBC HIGH SCHOOL FOR PUBLIC SERVICE\\u2013BUSHWICK\", \"BUSHWICK SCHOOL FOR SOCIAL JUSTICE\", \"ACADEMY OF URBAN PLANNING\", \"ALL CITY LEADERSHIP SECONDARY SCHOOL\", \"BUSHWICK LEADERS HIGH SCHOOL FOR ACADEMIC EXCELLENCE\"], \"textfont\": {\"color\": \"#4D5663\"}, \"type\": \"scatter\", \"x\": [24.6, 22.7, 17.1, 12.2, 7.9, 28.6, 17.1, 12.2, 11.7, 7.1, 15.3, 8.8, 26.3, 80.6, 29.8, 17.9, 46.9, 65.4, 39.3, 55.4, 37.7, 57.2, 61.5, 54.6, 30.2, 31.2, 87.6, 39.0, 48.1, 29.6, 43.2, 51.8, 38.9, 21.0, 19.0, 80.8, 14.1, 7.8, 24.9, 20.8, 6.7, 12.9, 27.9, 7.3, 8.3, 8.4, 9.1, 9.0, 9.4, 12.2, 14.2, 15.3, 2.8, 5.8, 4.5, 8.5, 12.8, 8.8, 5.8, 9.6, 10.6, 11.4, 12.4, 12.0, 10.5, 30.3, 23.4, 22.2, 17.4, 14.2, 99.8, 23.2, 50.2, 65.0, 73.2, 25.4, 34.7, 28.0, 54.1, 30.2, 27.3, 21.9, 21.0, 25.8, 23.0, 20.1, 22.7, 17.6, 19.1, 29.9, 41.2, 14.0, 23.1, 11.7, 14.5, 10.8, 12.4, 8.3, 10.4, 13.1, 77.1, 88.1, 68.7, 70.4, 79.5, 77.3], \"y\": [1074.0, 1080.0, 1114.0, 1211.0, 1833.0, 981.0, 1206.0, 1116.0, 1223.4388059701494, 1312.0, 1189.0, 1391.0, 1353.0, 1085.0, 1223.4388059701494, 1740.0, 1189.0, 1114.0, 1204.0, 1215.0, 1090.0, 1112.0, 1187.0, 1103.0, 1093.0, 1122.0, 1035.0, 1111.0, 1179.0, 1203.0, 1169.0, 1175.0, 1212.0, 1185.0, 1258.0, 1223.4388059701494, 1068.0, 1097.0, 1092.0, 1223.4388059701494, 1139.0, 1045.0, 913.0, 1176.0, 1088.0, 1153.0, 1027.0, 1105.0, 1360.0, 1273.0, 1143.0, 1151.0, 1436.0, 1251.0, 963.0, 1145.0, 1118.0, 1092.0, 1143.0, 1080.0, 1183.0, 1169.0, 1159.0, 1111.0, 1135.0, 1242.0, 1023.0, 1054.0, 1149.0, 1106.0, 887.0, 1193.0, 1096.0, 1108.0, 1129.0, 1102.0, 1157.0, 1272.0, 1323.0, 1306.0, 1244.0, 1223.4388059701494, 1026.0, 1237.0, 1164.0, 1226.0, 1223.4388059701494, 1431.0, 1262.0, 1124.0, 1079.0, 1184.0, 1313.0, 1473.0, 1350.0, 1627.0, 1352.0, 1185.0, 1091.0, 1196.0, 1098.0, 1154.0, 1035.0, 1060.0, 1315.0, 1055.0]}, {\"marker\": {\"color\": \"rgba(128, 0, 128, 1.0)\", \"line\": {\"width\": 1.3}, \"opacity\": 0.8, \"size\": 12, \"symbol\": \"circle\"}, \"mode\": \"markers\", \"name\": \"Queens\", \"text\": [\"ACADEMY OF FINANCE AND ENTERPRISE\", \"HIGH SCHOOL OF APPLIED COMMUNICATION\", \"CIVIC LEADERSHIP ACADEMY\", \"PAN AMERICAN INTERNATIONAL HIGH SCHOOL\", \"BARD HIGH SCHOOL EARLY COLLEGE II\", \"NEWTOWN HIGH SCHOOL\", \"GROVER CLEVELAND HIGH SCHOOL\", \"MIDDLE COLLEGE HIGH SCHOOL AT LAGUARDIA COMMUNITY COLLEGE\", \"INTERNATIONAL HIGH SCHOOL AT LAGUARDIA COMMUNITY COLLEGE\", \"HIGH SCHOOL FOR ARTS AND BUSINESS\", \"ROBERT F. WAGNER, JR. SECONDARY SCHOOL FOR ARTS AND TECHNOLOGY\", \"QUEENS VOCATIONAL AND TECHNICAL HIGH SCHOOL\", \"AVIATION CAREER & TECHNICAL EDUCATION HIGH SCHOOL\", \"QUEENS SCHOOL OF INQUIRY, THE\", \"FLUSHING INTERNATIONAL HIGH SCHOOL\", \"EASTsWEST SCHOOL OF INTERNATIONAL STUDIES\", \"WORLD JOURNALISM PREPARATORY: A COLLEGE BOARD SCHOOL\", \"JOHN BOWNE HIGH SCHOOL\", \"FLUSHING HIGH SCHOOL\", \"TOWNSEND HARRIS HIGH SCHOOL\", \"ROBERT F. KENNEDY COMMUNITY HIGH SCHOOL\", \"BENJAMIN N. CARDOZO HIGH SCHOOL\", \"FRANCIS LEWIS HIGH SCHOOL\", \"MARTIN VAN BUREN HIGH SCHOOL\", \"BAYSIDE HIGH SCHOOL\", \"QUEENS HIGH SCHOOL OF TEACHING, LIBERAL ARTS AND THE SCIENCES\", \"FREDERICK DOUGLASS ACADEMY VI HIGH SCHOOL\", \"CHANNEL VIEW SCHOOL FOR RESEARCH\", \"QUEENS HIGH SCHOOL FOR INFORMATION, RESEARCH, AND TECHNOLOGY\", \"ROBERT H. GODDARD HIGH SCHOOL OF COMMUNICATION ARTS AND TECHNOLOGY\", \"ACADEMY OF MEDICAL TECHNOLOGY: A COLLEGE BOARD SCHOOL\", \"SCHOLARS' ACADEMY\", \"AUGUST MARTIN HIGH SCHOOL\", \"RICHMOND HILL HIGH SCHOOL\", \"JOHN ADAMS HIGH SCHOOL\", \"HIGH SCHOOL FOR CONSTRUCTION TRADES, ENGINEERING AND ARCHITECTURE\", \"YORK EARLY COLLEGE ACADEMY\", \"QUEENS COLLEGIATE: A COLLEGE BOARD SCHOOL\", \"HILLSIDE ARTS & LETTERS ACADEMY\", \"FOREST HILLS HIGH SCHOOL\", \"HILLCREST HIGH SCHOOL\", \"THOMAS A. EDISON CAREER AND TECHNICAL EDUCATION HIGH SCHOOL\", \"QUEENS GATEWAY TO HEALTH SCIENCES SECONDARY SCHOOL\", \"QUEENS METROPOLITAN HIGH SCHOOL\", \"QUEENS HIGH SCHOOL FOR THE SCIENCES AT YORK COLLEGE\", \"HIGH SCHOOL FOR LAW ENFORCEMENT AND PUBLIC SAFETY\", \"YOUNG WOMEN'S LEADERSHIP SCHOOL, QUEENS\", \"QUEENS PREPARATORY ACADEMY\", \"PATHWAYS COLLEGE PREPARATORY SCHOOL: A COLLEGE BOARD SCHOOL\", \"EXCELSIOR PREPARATORY HIGH SCHOOL\", \"GEORGE WASHINGTON CARVER HIGH SCHOOL FOR THE SCIENCES\", \"PREPARATORY ACADEMY FOR WRITERS: A COLLEGE BOARD SCHOOL\", \"CAMBRIA HEIGHTS ACADEMY\", \"MATHEMATICS, SCIENCE RESEARCH AND TECHNOLOGY MAGNET HIGH SCHOOL\", \"HUMANITIES & ARTS MAGNET HIGH SCHOOL\", \"YOUNG WOMEN'S LEADERSHIP SCHOOL, ASTORIA\", \"ACADEMY FOR CAREERS IN TELEVISION AND FILM\", \"WILLIAM CULLEN BRYANT HIGH SCHOOL\", \"LONG ISLAND CITY HIGH SCHOOL\", \"FRANK SINATRA SCHOOL OF THE ARTS HIGH SCHOOL\", \"INFORMATION TECHNOLOGY HIGH SCHOOL\", \"NEWCOMERS HIGH SCHOOL\", \"ACADEMY OF AMERICAN STUDIES\", \"BACCALAUREATE SCHOOL FOR GLOBAL EDUCATION\"], \"textfont\": {\"color\": \"#4D5663\"}, \"type\": \"scatter\", \"x\": [56.4, 57.2, 79.3, 100.0, 21.2, 60.3, 63.5, 71.4, 44.0, 79.2, 62.4, 74.2, 55.3, 24.2, 32.7, 17.9, 20.3, 40.7, 49.8, 12.9, 35.4, 18.6, 24.1, 15.1, 22.3, 16.8, 27.0, 27.5, 30.0, 42.6, 34.2, 15.9, 11.5, 46.4, 37.1, 41.6, 10.2, 18.5, 21.0, 30.2, 22.8, 21.1, 15.7, 38.6, 7.9, 15.1, 18.4, 8.2, 2.9, 9.7, 14.1, 10.4, 7.5, 11.9, 8.5, 40.4, 53.5, 48.8, 62.7, 27.2, 56.6, 43.5, 34.7, 24.3], \"y\": [1280.0, 1219.0, 1240.0, 951.0, 1663.0, 1203.0, 1211.0, 1177.0, 1064.0, 1174.0, 1330.0, 1270.0, 1364.0, 1396.0, 1049.0, 1271.0, 1441.0, 1243.0, 1216.0, 1910.0, 1330.0, 1514.0, 1474.0, 1172.0, 1449.0, 1279.0, 1145.0, 1252.0, 1156.0, 1265.0, 1094.0, 1532.0, 1108.0, 1154.0, 1192.0, 1345.0, 1223.4388059701494, 1265.0, 1223.4388059701494, 1407.0, 1194.0, 1372.0, 1538.0, 1223.4388059701494, 1868.0, 1196.0, 1316.0, 1099.0, 1173.0, 1202.0, 1287.0, 1100.0, 1223.4388059701494, 1220.0, 1151.0, 1223.4388059701494, 1255.0, 1275.0, 1218.0, 1494.0, 1239.0, 1127.0, 1470.0, 1636.0]}, {\"marker\": {\"color\": \"rgba(219, 64, 82, 1.0)\", \"line\": {\"width\": 1.3}, \"opacity\": 0.8, \"size\": 12, \"symbol\": \"circle\"}, \"mode\": \"markers\", \"name\": \"Staten Island\", \"text\": [\"CSI HIGH SCHOOL FOR INTERNATIONAL STUDIES\", \"GAYNOR MCCOWN EXPEDITIONARY LEARNING SCHOOL\", \"THE MICHAEL J. PETRIDES SCHOOL\", \"NEW DORP HIGH SCHOOL\", \"PORT RICHMOND HIGH SCHOOL\", \"CURTIS HIGH SCHOOL\", \"TOTTENVILLE HIGH SCHOOL\", \"SUSAN E. WAGNER HIGH SCHOOL\", \"RALPH R. MCKEE CAREER AND TECHNICAL EDUCATION HIGH SCHOOL\", \"STATEN ISLAND TECHNICAL HIGH SCHOOL\"], \"textfont\": {\"color\": \"#4D5663\"}, \"type\": \"scatter\", \"x\": [17.9, 17.6, 16.9, 27.3, 37.6, 31.9, 9.9, 24.1, 33.2, 5.3], \"y\": [1353.0, 1195.0, 1426.0, 1277.0, 1279.0, 1301.0, 1418.0, 1388.0, 1235.0, 1953.0]}],\n",
       "                        {\"legend\": {\"bgcolor\": \"#F5F6F9\", \"font\": {\"color\": \"#4D5663\"}}, \"paper_bgcolor\": \"#F5F6F9\", \"plot_bgcolor\": \"#F5F6F9\", \"shapes\": [{\"line\": {\"color\": \"#000000\", \"dash\": \"dash\", \"width\": 1}, \"type\": \"line\", \"x0\": 0, \"x1\": 1, \"xref\": \"paper\", \"y0\": 1223.438805970149, \"y1\": 1223.438805970149, \"yref\": \"y\"}, {\"line\": {\"color\": \"#000000\", \"dash\": \"dash\", \"width\": 1}, \"type\": \"line\", \"x0\": 44.06831955922865, \"x1\": 44.06831955922865, \"xref\": \"x\", \"y0\": 0, \"y1\": 1, \"yref\": \"paper\"}], \"title\": \"Share of hispanic students vs. SAT score by school <br> dashed lines: average of entire dataset\", \"titlefont\": {\"color\": \"#4D5663\"}, \"xaxis\": {\"gridcolor\": \"#E1E5ED\", \"showgrid\": true, \"tickfont\": {\"color\": \"#4D5663\"}, \"title\": \"Share hispanics, %\", \"titlefont\": {\"color\": \"#4D5663\"}, \"zerolinecolor\": \"#E1E5ED\"}, \"yaxis\": {\"gridcolor\": \"#E1E5ED\", \"showgrid\": true, \"tickfont\": {\"color\": \"#4D5663\"}, \"title\": \"Avg. SAT score\", \"titlefont\": {\"color\": \"#4D5663\"}, \"zerolinecolor\": \"#E1E5ED\"}},\n",
       "                        {\"showLink\": true, \"linkText\": \"Export to plot.ly\", \"plotlyServerURL\": \"https://plot.ly\", \"responsive\": true}\n",
       "                    ).then(function(){\n",
       "                            \n",
       "var gd = document.getElementById('fab27f9a-7e9e-444a-ad65-6ae4d8a3201d');\n",
       "var x = new MutationObserver(function (mutations, observer) {{\n",
       "        var display = window.getComputedStyle(gd).display;\n",
       "        if (!display || display === 'none') {{\n",
       "            console.log([gd, 'removed!']);\n",
       "            Plotly.purge(gd);\n",
       "            observer.disconnect();\n",
       "        }}\n",
       "}});\n",
       "\n",
       "// Listen for the removal of the full notebook cells\n",
       "var notebookContainer = gd.closest('#notebook-container');\n",
       "if (notebookContainer) {{\n",
       "    x.observe(notebookContainer, {childList: true});\n",
       "}}\n",
       "\n",
       "// Listen for the clearing of the current output cell\n",
       "var outputEl = gd.closest('.output');\n",
       "if (outputEl) {{\n",
       "    x.observe(outputEl, {childList: true});\n",
       "}}\n",
       "\n",
       "                        })\n",
       "                };\n",
       "                });\n",
       "            </script>\n",
       "        </div>"
      ]
     },
     "metadata": {},
     "output_type": "display_data"
    },
    {
     "name": "stdout",
     "output_type": "stream",
     "text": [
      "Recommendation: choose option to 'show closest data point on hover' in top right corner\n"
     ]
    }
   ],
   "source": [
    "with warnings.catch_warnings(): # to catch warning about np.module in Python 3.8.2.\n",
    "    warnings.filterwarnings(\"ignore\",category=FutureWarning)\n",
    "    combined.iplot(\n",
    "        x='hispanic_per',\n",
    "        y='sat_score',\n",
    "        categories='boro',\n",
    "        text=\"SCHOOL NAME\",\n",
    "        vline= {\"x\":combined[\"hispanic_per\"].mean(),\n",
    "                \"color\":\"#000000\",\n",
    "                \"dash\": \"dash\"\n",
    "               },\n",
    "        hline={\"y\":combined[\"sat_score\"].mean(),\n",
    "               \"color\":\"#000000\",\n",
    "               \"dash\": \"dash\"\n",
    "              },\n",
    "        xTitle='Share hispanics, %',\n",
    "        yTitle='Avg. SAT score',\n",
    "        title='Share of hispanic students vs. SAT score by school <br> dashed lines: average of entire dataset'\n",
    "    )\n",
    "print(\"Recommendation: choose option to 'show closest data point on hover' in top right corner\")"
   ]
  },
  {
   "cell_type": "markdown",
   "metadata": {},
   "source": [
    "Above plot confirms that majority of schools have SAT scores under 1400 with wide range of hispanic students percent - up to 60%, but there is group of schools with high SAT scores where `hispanic_per` is no more than 25% and there are schools with more than 80% of hispanic students which have low SAT under 1200, that contributes to the evident down trend, the higher is `hispanic_per`, the lower is SAT scores."
   ]
  },
  {
   "cell_type": "code",
   "execution_count": 15,
   "metadata": {},
   "outputs": [
    {
     "data": {
      "text/plain": [
       "44                         MANHATTAN BRIDGES HIGH SCHOOL\n",
       "82      WASHINGTON HEIGHTS EXPEDITIONARY LEARNING SCHOOL\n",
       "89     GREGORIO LUPERON HIGH SCHOOL FOR SCIENCE AND M...\n",
       "125                  ACADEMY FOR LANGUAGE AND TECHNOLOGY\n",
       "141                INTERNATIONAL SCHOOL FOR LIBERAL ARTS\n",
       "176     PAN AMERICAN INTERNATIONAL HIGH SCHOOL AT MONROE\n",
       "253                            MULTICULTURAL HIGH SCHOOL\n",
       "286               PAN AMERICAN INTERNATIONAL HIGH SCHOOL\n",
       "Name: SCHOOL NAME, dtype: object"
      ]
     },
     "execution_count": 15,
     "metadata": {},
     "output_type": "execute_result"
    }
   ],
   "source": [
    "combined.loc[combined['hispanic_per']>95]['SCHOOL NAME']"
   ]
  },
  {
   "cell_type": "markdown",
   "metadata": {},
   "source": [
    "The schools listed above appear to primarily be geared towards recent immigrants to the US. These schools have a lot of students who are learning English, which would explain the lower SAT scores."
   ]
  },
  {
   "cell_type": "code",
   "execution_count": 16,
   "metadata": {},
   "outputs": [
    {
     "data": {
      "text/html": [
       "<div>\n",
       "<style scoped>\n",
       "    .dataframe tbody tr th:only-of-type {\n",
       "        vertical-align: middle;\n",
       "    }\n",
       "\n",
       "    .dataframe tbody tr th {\n",
       "        vertical-align: top;\n",
       "    }\n",
       "\n",
       "    .dataframe thead th {\n",
       "        text-align: right;\n",
       "    }\n",
       "</style>\n",
       "<table border=\"1\" class=\"dataframe\">\n",
       "  <thead>\n",
       "    <tr style=\"text-align: right;\">\n",
       "      <th></th>\n",
       "      <th>Asian</th>\n",
       "      <th>Black</th>\n",
       "      <th>Hispanic</th>\n",
       "      <th>White</th>\n",
       "    </tr>\n",
       "  </thead>\n",
       "  <tbody>\n",
       "    <tr>\n",
       "      <td>Elite schools</td>\n",
       "      <td>58.317</td>\n",
       "      <td>6.433</td>\n",
       "      <td>7.824</td>\n",
       "      <td>27.425</td>\n",
       "    </tr>\n",
       "    <tr>\n",
       "      <td>All schools</td>\n",
       "      <td>17.248</td>\n",
       "      <td>30.051</td>\n",
       "      <td>38.798</td>\n",
       "      <td>13.903</td>\n",
       "    </tr>\n",
       "  </tbody>\n",
       "</table>\n",
       "</div>"
      ],
      "text/plain": [
       "               Asian  Black  Hispanic  White\n",
       "Elite schools 58.317  6.433     7.824 27.425\n",
       "All schools   17.248 30.051    38.798 13.903"
      ]
     },
     "execution_count": 16,
     "metadata": {},
     "output_type": "execute_result"
    }
   ],
   "source": [
    "# create school_type field defining all schools vs. elite schools (SAT score > 1,800)\n",
    "num_race = ['asian_num', 'black_num', 'hispanic_num', 'white_num']\n",
    "combined['school_type']='All schools'\n",
    "high_rate=combined['sat_score']>1800\n",
    "combined.loc[high_rate, 'school_type']='Elite schools'\n",
    "\n",
    "# create racial distribution df\n",
    "elit_filtr=combined['school_type']=='Elite schools'\n",
    "elit=(combined.loc[elit_filtr, num_race].sum()/combined.loc[elit_filtr, num_race].sum().sum())*100\n",
    "all=(combined.loc[:, num_race].sum()/combined.loc[:, num_race].sum().sum())*100\n",
    "race_dist = pd.DataFrame(data=[elit,all],index=[\"Elite schools\", \"All schools\"])\n",
    "race_dist.columns = [\"Asian\",\"Black\",\"Hispanic\", \"White\"]\n",
    "race_dist"
   ]
  },
  {
   "cell_type": "code",
   "execution_count": 17,
   "metadata": {},
   "outputs": [
    {
     "data": {
      "application/vnd.plotly.v1+json": {
       "config": {
        "linkText": "Export to plot.ly",
        "plotlyServerURL": "https://plot.ly",
        "showLink": true
       },
       "data": [
        {
         "marker": {
          "color": "rgba(255, 153, 51, 0.6)",
          "line": {
           "color": "rgba(255, 153, 51, 1.0)",
           "width": 1
          }
         },
         "name": "Asian",
         "orientation": "v",
         "text": "",
         "type": "bar",
         "x": [
          "Elite schools",
          "All schools"
         ],
         "y": [
          58,
          17
         ]
        },
        {
         "marker": {
          "color": "rgba(55, 128, 191, 0.6)",
          "line": {
           "color": "rgba(55, 128, 191, 1.0)",
           "width": 1
          }
         },
         "name": "Black",
         "orientation": "v",
         "text": "",
         "type": "bar",
         "x": [
          "Elite schools",
          "All schools"
         ],
         "y": [
          6,
          30
         ]
        },
        {
         "marker": {
          "color": "rgba(50, 171, 96, 0.6)",
          "line": {
           "color": "rgba(50, 171, 96, 1.0)",
           "width": 1
          }
         },
         "name": "Hispanic",
         "orientation": "v",
         "text": "",
         "type": "bar",
         "x": [
          "Elite schools",
          "All schools"
         ],
         "y": [
          7,
          38
         ]
        },
        {
         "marker": {
          "color": "rgba(128, 0, 128, 0.6)",
          "line": {
           "color": "rgba(128, 0, 128, 1.0)",
           "width": 1
          }
         },
         "name": "White",
         "orientation": "v",
         "text": "",
         "type": "bar",
         "x": [
          "Elite schools",
          "All schools"
         ],
         "y": [
          27,
          13
         ]
        }
       ],
       "layout": {
        "barmode": "stack",
        "legend": {
         "bgcolor": "#F5F6F9",
         "font": {
          "color": "#4D5663"
         },
         "traceorder": "normal"
        },
        "paper_bgcolor": "#F5F6F9",
        "plot_bgcolor": "#F5F6F9",
        "template": {
         "data": {
          "bar": [
           {
            "error_x": {
             "color": "#2a3f5f"
            },
            "error_y": {
             "color": "#2a3f5f"
            },
            "marker": {
             "line": {
              "color": "#E5ECF6",
              "width": 0.5
             }
            },
            "type": "bar"
           }
          ],
          "barpolar": [
           {
            "marker": {
             "line": {
              "color": "#E5ECF6",
              "width": 0.5
             }
            },
            "type": "barpolar"
           }
          ],
          "carpet": [
           {
            "aaxis": {
             "endlinecolor": "#2a3f5f",
             "gridcolor": "white",
             "linecolor": "white",
             "minorgridcolor": "white",
             "startlinecolor": "#2a3f5f"
            },
            "baxis": {
             "endlinecolor": "#2a3f5f",
             "gridcolor": "white",
             "linecolor": "white",
             "minorgridcolor": "white",
             "startlinecolor": "#2a3f5f"
            },
            "type": "carpet"
           }
          ],
          "choropleth": [
           {
            "colorbar": {
             "outlinewidth": 0,
             "ticks": ""
            },
            "type": "choropleth"
           }
          ],
          "contour": [
           {
            "colorbar": {
             "outlinewidth": 0,
             "ticks": ""
            },
            "colorscale": [
             [
              0,
              "#0d0887"
             ],
             [
              0.1111111111111111,
              "#46039f"
             ],
             [
              0.2222222222222222,
              "#7201a8"
             ],
             [
              0.3333333333333333,
              "#9c179e"
             ],
             [
              0.4444444444444444,
              "#bd3786"
             ],
             [
              0.5555555555555556,
              "#d8576b"
             ],
             [
              0.6666666666666666,
              "#ed7953"
             ],
             [
              0.7777777777777778,
              "#fb9f3a"
             ],
             [
              0.8888888888888888,
              "#fdca26"
             ],
             [
              1,
              "#f0f921"
             ]
            ],
            "type": "contour"
           }
          ],
          "contourcarpet": [
           {
            "colorbar": {
             "outlinewidth": 0,
             "ticks": ""
            },
            "type": "contourcarpet"
           }
          ],
          "heatmap": [
           {
            "colorbar": {
             "outlinewidth": 0,
             "ticks": ""
            },
            "colorscale": [
             [
              0,
              "#0d0887"
             ],
             [
              0.1111111111111111,
              "#46039f"
             ],
             [
              0.2222222222222222,
              "#7201a8"
             ],
             [
              0.3333333333333333,
              "#9c179e"
             ],
             [
              0.4444444444444444,
              "#bd3786"
             ],
             [
              0.5555555555555556,
              "#d8576b"
             ],
             [
              0.6666666666666666,
              "#ed7953"
             ],
             [
              0.7777777777777778,
              "#fb9f3a"
             ],
             [
              0.8888888888888888,
              "#fdca26"
             ],
             [
              1,
              "#f0f921"
             ]
            ],
            "type": "heatmap"
           }
          ],
          "heatmapgl": [
           {
            "colorbar": {
             "outlinewidth": 0,
             "ticks": ""
            },
            "colorscale": [
             [
              0,
              "#0d0887"
             ],
             [
              0.1111111111111111,
              "#46039f"
             ],
             [
              0.2222222222222222,
              "#7201a8"
             ],
             [
              0.3333333333333333,
              "#9c179e"
             ],
             [
              0.4444444444444444,
              "#bd3786"
             ],
             [
              0.5555555555555556,
              "#d8576b"
             ],
             [
              0.6666666666666666,
              "#ed7953"
             ],
             [
              0.7777777777777778,
              "#fb9f3a"
             ],
             [
              0.8888888888888888,
              "#fdca26"
             ],
             [
              1,
              "#f0f921"
             ]
            ],
            "type": "heatmapgl"
           }
          ],
          "histogram": [
           {
            "marker": {
             "colorbar": {
              "outlinewidth": 0,
              "ticks": ""
             }
            },
            "type": "histogram"
           }
          ],
          "histogram2d": [
           {
            "colorbar": {
             "outlinewidth": 0,
             "ticks": ""
            },
            "colorscale": [
             [
              0,
              "#0d0887"
             ],
             [
              0.1111111111111111,
              "#46039f"
             ],
             [
              0.2222222222222222,
              "#7201a8"
             ],
             [
              0.3333333333333333,
              "#9c179e"
             ],
             [
              0.4444444444444444,
              "#bd3786"
             ],
             [
              0.5555555555555556,
              "#d8576b"
             ],
             [
              0.6666666666666666,
              "#ed7953"
             ],
             [
              0.7777777777777778,
              "#fb9f3a"
             ],
             [
              0.8888888888888888,
              "#fdca26"
             ],
             [
              1,
              "#f0f921"
             ]
            ],
            "type": "histogram2d"
           }
          ],
          "histogram2dcontour": [
           {
            "colorbar": {
             "outlinewidth": 0,
             "ticks": ""
            },
            "colorscale": [
             [
              0,
              "#0d0887"
             ],
             [
              0.1111111111111111,
              "#46039f"
             ],
             [
              0.2222222222222222,
              "#7201a8"
             ],
             [
              0.3333333333333333,
              "#9c179e"
             ],
             [
              0.4444444444444444,
              "#bd3786"
             ],
             [
              0.5555555555555556,
              "#d8576b"
             ],
             [
              0.6666666666666666,
              "#ed7953"
             ],
             [
              0.7777777777777778,
              "#fb9f3a"
             ],
             [
              0.8888888888888888,
              "#fdca26"
             ],
             [
              1,
              "#f0f921"
             ]
            ],
            "type": "histogram2dcontour"
           }
          ],
          "mesh3d": [
           {
            "colorbar": {
             "outlinewidth": 0,
             "ticks": ""
            },
            "type": "mesh3d"
           }
          ],
          "parcoords": [
           {
            "line": {
             "colorbar": {
              "outlinewidth": 0,
              "ticks": ""
             }
            },
            "type": "parcoords"
           }
          ],
          "pie": [
           {
            "automargin": true,
            "type": "pie"
           }
          ],
          "scatter": [
           {
            "marker": {
             "colorbar": {
              "outlinewidth": 0,
              "ticks": ""
             }
            },
            "type": "scatter"
           }
          ],
          "scatter3d": [
           {
            "line": {
             "colorbar": {
              "outlinewidth": 0,
              "ticks": ""
             }
            },
            "marker": {
             "colorbar": {
              "outlinewidth": 0,
              "ticks": ""
             }
            },
            "type": "scatter3d"
           }
          ],
          "scattercarpet": [
           {
            "marker": {
             "colorbar": {
              "outlinewidth": 0,
              "ticks": ""
             }
            },
            "type": "scattercarpet"
           }
          ],
          "scattergeo": [
           {
            "marker": {
             "colorbar": {
              "outlinewidth": 0,
              "ticks": ""
             }
            },
            "type": "scattergeo"
           }
          ],
          "scattergl": [
           {
            "marker": {
             "colorbar": {
              "outlinewidth": 0,
              "ticks": ""
             }
            },
            "type": "scattergl"
           }
          ],
          "scattermapbox": [
           {
            "marker": {
             "colorbar": {
              "outlinewidth": 0,
              "ticks": ""
             }
            },
            "type": "scattermapbox"
           }
          ],
          "scatterpolar": [
           {
            "marker": {
             "colorbar": {
              "outlinewidth": 0,
              "ticks": ""
             }
            },
            "type": "scatterpolar"
           }
          ],
          "scatterpolargl": [
           {
            "marker": {
             "colorbar": {
              "outlinewidth": 0,
              "ticks": ""
             }
            },
            "type": "scatterpolargl"
           }
          ],
          "scatterternary": [
           {
            "marker": {
             "colorbar": {
              "outlinewidth": 0,
              "ticks": ""
             }
            },
            "type": "scatterternary"
           }
          ],
          "surface": [
           {
            "colorbar": {
             "outlinewidth": 0,
             "ticks": ""
            },
            "colorscale": [
             [
              0,
              "#0d0887"
             ],
             [
              0.1111111111111111,
              "#46039f"
             ],
             [
              0.2222222222222222,
              "#7201a8"
             ],
             [
              0.3333333333333333,
              "#9c179e"
             ],
             [
              0.4444444444444444,
              "#bd3786"
             ],
             [
              0.5555555555555556,
              "#d8576b"
             ],
             [
              0.6666666666666666,
              "#ed7953"
             ],
             [
              0.7777777777777778,
              "#fb9f3a"
             ],
             [
              0.8888888888888888,
              "#fdca26"
             ],
             [
              1,
              "#f0f921"
             ]
            ],
            "type": "surface"
           }
          ],
          "table": [
           {
            "cells": {
             "fill": {
              "color": "#EBF0F8"
             },
             "line": {
              "color": "white"
             }
            },
            "header": {
             "fill": {
              "color": "#C8D4E3"
             },
             "line": {
              "color": "white"
             }
            },
            "type": "table"
           }
          ]
         },
         "layout": {
          "annotationdefaults": {
           "arrowcolor": "#2a3f5f",
           "arrowhead": 0,
           "arrowwidth": 1
          },
          "coloraxis": {
           "colorbar": {
            "outlinewidth": 0,
            "ticks": ""
           }
          },
          "colorscale": {
           "diverging": [
            [
             0,
             "#8e0152"
            ],
            [
             0.1,
             "#c51b7d"
            ],
            [
             0.2,
             "#de77ae"
            ],
            [
             0.3,
             "#f1b6da"
            ],
            [
             0.4,
             "#fde0ef"
            ],
            [
             0.5,
             "#f7f7f7"
            ],
            [
             0.6,
             "#e6f5d0"
            ],
            [
             0.7,
             "#b8e186"
            ],
            [
             0.8,
             "#7fbc41"
            ],
            [
             0.9,
             "#4d9221"
            ],
            [
             1,
             "#276419"
            ]
           ],
           "sequential": [
            [
             0,
             "#0d0887"
            ],
            [
             0.1111111111111111,
             "#46039f"
            ],
            [
             0.2222222222222222,
             "#7201a8"
            ],
            [
             0.3333333333333333,
             "#9c179e"
            ],
            [
             0.4444444444444444,
             "#bd3786"
            ],
            [
             0.5555555555555556,
             "#d8576b"
            ],
            [
             0.6666666666666666,
             "#ed7953"
            ],
            [
             0.7777777777777778,
             "#fb9f3a"
            ],
            [
             0.8888888888888888,
             "#fdca26"
            ],
            [
             1,
             "#f0f921"
            ]
           ],
           "sequentialminus": [
            [
             0,
             "#0d0887"
            ],
            [
             0.1111111111111111,
             "#46039f"
            ],
            [
             0.2222222222222222,
             "#7201a8"
            ],
            [
             0.3333333333333333,
             "#9c179e"
            ],
            [
             0.4444444444444444,
             "#bd3786"
            ],
            [
             0.5555555555555556,
             "#d8576b"
            ],
            [
             0.6666666666666666,
             "#ed7953"
            ],
            [
             0.7777777777777778,
             "#fb9f3a"
            ],
            [
             0.8888888888888888,
             "#fdca26"
            ],
            [
             1,
             "#f0f921"
            ]
           ]
          },
          "colorway": [
           "#636efa",
           "#EF553B",
           "#00cc96",
           "#ab63fa",
           "#FFA15A",
           "#19d3f3",
           "#FF6692",
           "#B6E880",
           "#FF97FF",
           "#FECB52"
          ],
          "font": {
           "color": "#2a3f5f"
          },
          "geo": {
           "bgcolor": "white",
           "lakecolor": "white",
           "landcolor": "#E5ECF6",
           "showlakes": true,
           "showland": true,
           "subunitcolor": "white"
          },
          "hoverlabel": {
           "align": "left"
          },
          "hovermode": "closest",
          "mapbox": {
           "style": "light"
          },
          "paper_bgcolor": "white",
          "plot_bgcolor": "#E5ECF6",
          "polar": {
           "angularaxis": {
            "gridcolor": "white",
            "linecolor": "white",
            "ticks": ""
           },
           "bgcolor": "#E5ECF6",
           "radialaxis": {
            "gridcolor": "white",
            "linecolor": "white",
            "ticks": ""
           }
          },
          "scene": {
           "xaxis": {
            "backgroundcolor": "#E5ECF6",
            "gridcolor": "white",
            "gridwidth": 2,
            "linecolor": "white",
            "showbackground": true,
            "ticks": "",
            "zerolinecolor": "white"
           },
           "yaxis": {
            "backgroundcolor": "#E5ECF6",
            "gridcolor": "white",
            "gridwidth": 2,
            "linecolor": "white",
            "showbackground": true,
            "ticks": "",
            "zerolinecolor": "white"
           },
           "zaxis": {
            "backgroundcolor": "#E5ECF6",
            "gridcolor": "white",
            "gridwidth": 2,
            "linecolor": "white",
            "showbackground": true,
            "ticks": "",
            "zerolinecolor": "white"
           }
          },
          "shapedefaults": {
           "line": {
            "color": "#2a3f5f"
           }
          },
          "ternary": {
           "aaxis": {
            "gridcolor": "white",
            "linecolor": "white",
            "ticks": ""
           },
           "baxis": {
            "gridcolor": "white",
            "linecolor": "white",
            "ticks": ""
           },
           "bgcolor": "#E5ECF6",
           "caxis": {
            "gridcolor": "white",
            "linecolor": "white",
            "ticks": ""
           }
          },
          "title": {
           "x": 0.05
          },
          "xaxis": {
           "automargin": true,
           "gridcolor": "white",
           "linecolor": "white",
           "ticks": "",
           "title": {
            "standoff": 15
           },
           "zerolinecolor": "white",
           "zerolinewidth": 2
          },
          "yaxis": {
           "automargin": true,
           "gridcolor": "white",
           "linecolor": "white",
           "ticks": "",
           "title": {
            "standoff": 15
           },
           "zerolinecolor": "white",
           "zerolinewidth": 2
          }
         }
        },
        "title": {
         "font": {
          "color": "#4D5663"
         },
         "text": "Racial distribution NYC high schools, <br> all vs. elite (SAT avg. > 1,800)"
        },
        "xaxis": {
         "gridcolor": "#E1E5ED",
         "showgrid": true,
         "tickfont": {
          "color": "#4D5663"
         },
         "title": {
          "font": {
           "color": "#4D5663"
          },
          "text": ""
         },
         "zerolinecolor": "#E1E5ED"
        },
        "yaxis": {
         "gridcolor": "#E1E5ED",
         "showgrid": true,
         "tickfont": {
          "color": "#4D5663"
         },
         "title": {
          "font": {
           "color": "#4D5663"
          },
          "text": "Share of all students in %"
         },
         "zerolinecolor": "#E1E5ED"
        }
       }
      },
      "text/html": [
       "<div>\n",
       "        \n",
       "        \n",
       "            <div id=\"dbaa7189-ec83-414d-9835-14b49e427b12\" class=\"plotly-graph-div\" style=\"height:525px; width:100%;\"></div>\n",
       "            <script type=\"text/javascript\">\n",
       "                require([\"plotly\"], function(Plotly) {\n",
       "                    window.PLOTLYENV=window.PLOTLYENV || {};\n",
       "                    window.PLOTLYENV.BASE_URL='https://plot.ly';\n",
       "                    \n",
       "                if (document.getElementById(\"dbaa7189-ec83-414d-9835-14b49e427b12\")) {\n",
       "                    Plotly.newPlot(\n",
       "                        'dbaa7189-ec83-414d-9835-14b49e427b12',\n",
       "                        [{\"marker\": {\"color\": \"rgba(255, 153, 51, 0.6)\", \"line\": {\"color\": \"rgba(255, 153, 51, 1.0)\", \"width\": 1}}, \"name\": \"Asian\", \"orientation\": \"v\", \"text\": \"\", \"type\": \"bar\", \"x\": [\"Elite schools\", \"All schools\"], \"y\": [58, 17]}, {\"marker\": {\"color\": \"rgba(55, 128, 191, 0.6)\", \"line\": {\"color\": \"rgba(55, 128, 191, 1.0)\", \"width\": 1}}, \"name\": \"Black\", \"orientation\": \"v\", \"text\": \"\", \"type\": \"bar\", \"x\": [\"Elite schools\", \"All schools\"], \"y\": [6, 30]}, {\"marker\": {\"color\": \"rgba(50, 171, 96, 0.6)\", \"line\": {\"color\": \"rgba(50, 171, 96, 1.0)\", \"width\": 1}}, \"name\": \"Hispanic\", \"orientation\": \"v\", \"text\": \"\", \"type\": \"bar\", \"x\": [\"Elite schools\", \"All schools\"], \"y\": [7, 38]}, {\"marker\": {\"color\": \"rgba(128, 0, 128, 0.6)\", \"line\": {\"color\": \"rgba(128, 0, 128, 1.0)\", \"width\": 1}}, \"name\": \"White\", \"orientation\": \"v\", \"text\": \"\", \"type\": \"bar\", \"x\": [\"Elite schools\", \"All schools\"], \"y\": [27, 13]}],\n",
       "                        {\"barmode\": \"stack\", \"legend\": {\"bgcolor\": \"#F5F6F9\", \"font\": {\"color\": \"#4D5663\"}, \"traceorder\": \"normal\"}, \"paper_bgcolor\": \"#F5F6F9\", \"plot_bgcolor\": \"#F5F6F9\", \"template\": {\"data\": {\"bar\": [{\"error_x\": {\"color\": \"#2a3f5f\"}, \"error_y\": {\"color\": \"#2a3f5f\"}, \"marker\": {\"line\": {\"color\": \"#E5ECF6\", \"width\": 0.5}}, \"type\": \"bar\"}], \"barpolar\": [{\"marker\": {\"line\": {\"color\": \"#E5ECF6\", \"width\": 0.5}}, \"type\": \"barpolar\"}], \"carpet\": [{\"aaxis\": {\"endlinecolor\": \"#2a3f5f\", \"gridcolor\": \"white\", \"linecolor\": \"white\", \"minorgridcolor\": \"white\", \"startlinecolor\": \"#2a3f5f\"}, \"baxis\": {\"endlinecolor\": \"#2a3f5f\", \"gridcolor\": \"white\", \"linecolor\": \"white\", \"minorgridcolor\": \"white\", \"startlinecolor\": \"#2a3f5f\"}, \"type\": \"carpet\"}], \"choropleth\": [{\"colorbar\": {\"outlinewidth\": 0, \"ticks\": \"\"}, \"type\": \"choropleth\"}], \"contour\": [{\"colorbar\": {\"outlinewidth\": 0, \"ticks\": \"\"}, \"colorscale\": [[0.0, \"#0d0887\"], [0.1111111111111111, \"#46039f\"], [0.2222222222222222, \"#7201a8\"], [0.3333333333333333, \"#9c179e\"], [0.4444444444444444, \"#bd3786\"], [0.5555555555555556, \"#d8576b\"], [0.6666666666666666, \"#ed7953\"], [0.7777777777777778, \"#fb9f3a\"], [0.8888888888888888, \"#fdca26\"], [1.0, \"#f0f921\"]], \"type\": \"contour\"}], \"contourcarpet\": [{\"colorbar\": {\"outlinewidth\": 0, \"ticks\": \"\"}, \"type\": \"contourcarpet\"}], \"heatmap\": [{\"colorbar\": {\"outlinewidth\": 0, \"ticks\": \"\"}, \"colorscale\": [[0.0, \"#0d0887\"], [0.1111111111111111, \"#46039f\"], [0.2222222222222222, \"#7201a8\"], [0.3333333333333333, \"#9c179e\"], [0.4444444444444444, \"#bd3786\"], [0.5555555555555556, \"#d8576b\"], [0.6666666666666666, \"#ed7953\"], [0.7777777777777778, \"#fb9f3a\"], [0.8888888888888888, \"#fdca26\"], [1.0, \"#f0f921\"]], \"type\": \"heatmap\"}], \"heatmapgl\": [{\"colorbar\": {\"outlinewidth\": 0, \"ticks\": \"\"}, \"colorscale\": [[0.0, \"#0d0887\"], [0.1111111111111111, \"#46039f\"], [0.2222222222222222, \"#7201a8\"], [0.3333333333333333, \"#9c179e\"], [0.4444444444444444, \"#bd3786\"], [0.5555555555555556, \"#d8576b\"], [0.6666666666666666, \"#ed7953\"], [0.7777777777777778, \"#fb9f3a\"], [0.8888888888888888, \"#fdca26\"], [1.0, \"#f0f921\"]], \"type\": \"heatmapgl\"}], \"histogram\": [{\"marker\": {\"colorbar\": {\"outlinewidth\": 0, \"ticks\": \"\"}}, \"type\": \"histogram\"}], \"histogram2d\": [{\"colorbar\": {\"outlinewidth\": 0, \"ticks\": \"\"}, \"colorscale\": [[0.0, \"#0d0887\"], [0.1111111111111111, \"#46039f\"], [0.2222222222222222, \"#7201a8\"], [0.3333333333333333, \"#9c179e\"], [0.4444444444444444, \"#bd3786\"], [0.5555555555555556, \"#d8576b\"], [0.6666666666666666, \"#ed7953\"], [0.7777777777777778, \"#fb9f3a\"], [0.8888888888888888, \"#fdca26\"], [1.0, \"#f0f921\"]], \"type\": \"histogram2d\"}], \"histogram2dcontour\": [{\"colorbar\": {\"outlinewidth\": 0, \"ticks\": \"\"}, \"colorscale\": [[0.0, \"#0d0887\"], [0.1111111111111111, \"#46039f\"], [0.2222222222222222, \"#7201a8\"], [0.3333333333333333, \"#9c179e\"], [0.4444444444444444, \"#bd3786\"], [0.5555555555555556, \"#d8576b\"], [0.6666666666666666, \"#ed7953\"], [0.7777777777777778, \"#fb9f3a\"], [0.8888888888888888, \"#fdca26\"], [1.0, \"#f0f921\"]], \"type\": \"histogram2dcontour\"}], \"mesh3d\": [{\"colorbar\": {\"outlinewidth\": 0, \"ticks\": \"\"}, \"type\": \"mesh3d\"}], \"parcoords\": [{\"line\": {\"colorbar\": {\"outlinewidth\": 0, \"ticks\": \"\"}}, \"type\": \"parcoords\"}], \"pie\": [{\"automargin\": true, \"type\": \"pie\"}], \"scatter\": [{\"marker\": {\"colorbar\": {\"outlinewidth\": 0, \"ticks\": \"\"}}, \"type\": \"scatter\"}], \"scatter3d\": [{\"line\": {\"colorbar\": {\"outlinewidth\": 0, \"ticks\": \"\"}}, \"marker\": {\"colorbar\": {\"outlinewidth\": 0, \"ticks\": \"\"}}, \"type\": \"scatter3d\"}], \"scattercarpet\": [{\"marker\": {\"colorbar\": {\"outlinewidth\": 0, \"ticks\": \"\"}}, \"type\": \"scattercarpet\"}], \"scattergeo\": [{\"marker\": {\"colorbar\": {\"outlinewidth\": 0, \"ticks\": \"\"}}, \"type\": \"scattergeo\"}], \"scattergl\": [{\"marker\": {\"colorbar\": {\"outlinewidth\": 0, \"ticks\": \"\"}}, \"type\": \"scattergl\"}], \"scattermapbox\": [{\"marker\": {\"colorbar\": {\"outlinewidth\": 0, \"ticks\": \"\"}}, \"type\": \"scattermapbox\"}], \"scatterpolar\": [{\"marker\": {\"colorbar\": {\"outlinewidth\": 0, \"ticks\": \"\"}}, \"type\": \"scatterpolar\"}], \"scatterpolargl\": [{\"marker\": {\"colorbar\": {\"outlinewidth\": 0, \"ticks\": \"\"}}, \"type\": \"scatterpolargl\"}], \"scatterternary\": [{\"marker\": {\"colorbar\": {\"outlinewidth\": 0, \"ticks\": \"\"}}, \"type\": \"scatterternary\"}], \"surface\": [{\"colorbar\": {\"outlinewidth\": 0, \"ticks\": \"\"}, \"colorscale\": [[0.0, \"#0d0887\"], [0.1111111111111111, \"#46039f\"], [0.2222222222222222, \"#7201a8\"], [0.3333333333333333, \"#9c179e\"], [0.4444444444444444, \"#bd3786\"], [0.5555555555555556, \"#d8576b\"], [0.6666666666666666, \"#ed7953\"], [0.7777777777777778, \"#fb9f3a\"], [0.8888888888888888, \"#fdca26\"], [1.0, \"#f0f921\"]], \"type\": \"surface\"}], \"table\": [{\"cells\": {\"fill\": {\"color\": \"#EBF0F8\"}, \"line\": {\"color\": \"white\"}}, \"header\": {\"fill\": {\"color\": \"#C8D4E3\"}, \"line\": {\"color\": \"white\"}}, \"type\": \"table\"}]}, \"layout\": {\"annotationdefaults\": {\"arrowcolor\": \"#2a3f5f\", \"arrowhead\": 0, \"arrowwidth\": 1}, \"coloraxis\": {\"colorbar\": {\"outlinewidth\": 0, \"ticks\": \"\"}}, \"colorscale\": {\"diverging\": [[0, \"#8e0152\"], [0.1, \"#c51b7d\"], [0.2, \"#de77ae\"], [0.3, \"#f1b6da\"], [0.4, \"#fde0ef\"], [0.5, \"#f7f7f7\"], [0.6, \"#e6f5d0\"], [0.7, \"#b8e186\"], [0.8, \"#7fbc41\"], [0.9, \"#4d9221\"], [1, \"#276419\"]], \"sequential\": [[0.0, \"#0d0887\"], [0.1111111111111111, \"#46039f\"], [0.2222222222222222, \"#7201a8\"], [0.3333333333333333, \"#9c179e\"], [0.4444444444444444, \"#bd3786\"], [0.5555555555555556, \"#d8576b\"], [0.6666666666666666, \"#ed7953\"], [0.7777777777777778, \"#fb9f3a\"], [0.8888888888888888, \"#fdca26\"], [1.0, \"#f0f921\"]], \"sequentialminus\": [[0.0, \"#0d0887\"], [0.1111111111111111, \"#46039f\"], [0.2222222222222222, \"#7201a8\"], [0.3333333333333333, \"#9c179e\"], [0.4444444444444444, \"#bd3786\"], [0.5555555555555556, \"#d8576b\"], [0.6666666666666666, \"#ed7953\"], [0.7777777777777778, \"#fb9f3a\"], [0.8888888888888888, \"#fdca26\"], [1.0, \"#f0f921\"]]}, \"colorway\": [\"#636efa\", \"#EF553B\", \"#00cc96\", \"#ab63fa\", \"#FFA15A\", \"#19d3f3\", \"#FF6692\", \"#B6E880\", \"#FF97FF\", \"#FECB52\"], \"font\": {\"color\": \"#2a3f5f\"}, \"geo\": {\"bgcolor\": \"white\", \"lakecolor\": \"white\", \"landcolor\": \"#E5ECF6\", \"showlakes\": true, \"showland\": true, \"subunitcolor\": \"white\"}, \"hoverlabel\": {\"align\": \"left\"}, \"hovermode\": \"closest\", \"mapbox\": {\"style\": \"light\"}, \"paper_bgcolor\": \"white\", \"plot_bgcolor\": \"#E5ECF6\", \"polar\": {\"angularaxis\": {\"gridcolor\": \"white\", \"linecolor\": \"white\", \"ticks\": \"\"}, \"bgcolor\": \"#E5ECF6\", \"radialaxis\": {\"gridcolor\": \"white\", \"linecolor\": \"white\", \"ticks\": \"\"}}, \"scene\": {\"xaxis\": {\"backgroundcolor\": \"#E5ECF6\", \"gridcolor\": \"white\", \"gridwidth\": 2, \"linecolor\": \"white\", \"showbackground\": true, \"ticks\": \"\", \"zerolinecolor\": \"white\"}, \"yaxis\": {\"backgroundcolor\": \"#E5ECF6\", \"gridcolor\": \"white\", \"gridwidth\": 2, \"linecolor\": \"white\", \"showbackground\": true, \"ticks\": \"\", \"zerolinecolor\": \"white\"}, \"zaxis\": {\"backgroundcolor\": \"#E5ECF6\", \"gridcolor\": \"white\", \"gridwidth\": 2, \"linecolor\": \"white\", \"showbackground\": true, \"ticks\": \"\", \"zerolinecolor\": \"white\"}}, \"shapedefaults\": {\"line\": {\"color\": \"#2a3f5f\"}}, \"ternary\": {\"aaxis\": {\"gridcolor\": \"white\", \"linecolor\": \"white\", \"ticks\": \"\"}, \"baxis\": {\"gridcolor\": \"white\", \"linecolor\": \"white\", \"ticks\": \"\"}, \"bgcolor\": \"#E5ECF6\", \"caxis\": {\"gridcolor\": \"white\", \"linecolor\": \"white\", \"ticks\": \"\"}}, \"title\": {\"x\": 0.05}, \"xaxis\": {\"automargin\": true, \"gridcolor\": \"white\", \"linecolor\": \"white\", \"ticks\": \"\", \"title\": {\"standoff\": 15}, \"zerolinecolor\": \"white\", \"zerolinewidth\": 2}, \"yaxis\": {\"automargin\": true, \"gridcolor\": \"white\", \"linecolor\": \"white\", \"ticks\": \"\", \"title\": {\"standoff\": 15}, \"zerolinecolor\": \"white\", \"zerolinewidth\": 2}}}, \"title\": {\"font\": {\"color\": \"#4D5663\"}, \"text\": \"Racial distribution NYC high schools, <br> all vs. elite (SAT avg. > 1,800)\"}, \"xaxis\": {\"gridcolor\": \"#E1E5ED\", \"showgrid\": true, \"tickfont\": {\"color\": \"#4D5663\"}, \"title\": {\"font\": {\"color\": \"#4D5663\"}, \"text\": \"\"}, \"zerolinecolor\": \"#E1E5ED\"}, \"yaxis\": {\"gridcolor\": \"#E1E5ED\", \"showgrid\": true, \"tickfont\": {\"color\": \"#4D5663\"}, \"title\": {\"font\": {\"color\": \"#4D5663\"}, \"text\": \"Share of all students in %\"}, \"zerolinecolor\": \"#E1E5ED\"}},\n",
       "                        {\"showLink\": true, \"linkText\": \"Export to plot.ly\", \"plotlyServerURL\": \"https://plot.ly\", \"responsive\": true}\n",
       "                    ).then(function(){\n",
       "                            \n",
       "var gd = document.getElementById('dbaa7189-ec83-414d-9835-14b49e427b12');\n",
       "var x = new MutationObserver(function (mutations, observer) {{\n",
       "        var display = window.getComputedStyle(gd).display;\n",
       "        if (!display || display === 'none') {{\n",
       "            console.log([gd, 'removed!']);\n",
       "            Plotly.purge(gd);\n",
       "            observer.disconnect();\n",
       "        }}\n",
       "}});\n",
       "\n",
       "// Listen for the removal of the full notebook cells\n",
       "var notebookContainer = gd.closest('#notebook-container');\n",
       "if (notebookContainer) {{\n",
       "    x.observe(notebookContainer, {childList: true});\n",
       "}}\n",
       "\n",
       "// Listen for the clearing of the current output cell\n",
       "var outputEl = gd.closest('.output');\n",
       "if (outputEl) {{\n",
       "    x.observe(outputEl, {childList: true});\n",
       "}}\n",
       "\n",
       "                        })\n",
       "                };\n",
       "                });\n",
       "            </script>\n",
       "        </div>"
      ]
     },
     "metadata": {},
     "output_type": "display_data"
    }
   ],
   "source": [
    "# build stacked bar to racial makeup of all schools and elite schools\n",
    "race_dist.astype(int).iplot(kind=\"bar\", barmode=\"stack\", yTitle='Share of all students in %',\n",
    "                            title='Racial distribution NYC high schools, <br> all vs. elite (SAT avg. > 1,800)')"
   ]
  },
  {
   "cell_type": "code",
   "execution_count": 18,
   "metadata": {},
   "outputs": [
    {
     "data": {
      "application/vnd.plotly.v1+json": {
       "config": {
        "linkText": "Export to plot.ly",
        "plotlyServerURL": "https://plot.ly",
        "showLink": true
       },
       "data": [
        {
         "marker": {
          "color": "rgba(255, 153, 51, 1.0)",
          "line": {
           "width": 1.3
          },
          "opacity": 0.8,
          "size": 12,
          "symbol": "circle"
         },
         "mode": "markers",
         "name": "Manhattan",
         "text": [
          "BARD HIGH SCHOOL EARLY COLLEGE",
          "STUYVESANT HIGH SCHOOL",
          "HIGH SCHOOL FOR MATHEMATICS, SCIENCE AND ENGINEERING AT CITY COLLEGE"
         ],
         "textfont": {
          "color": "#4D5663"
         },
         "type": "scatter",
         "x": [
          18.2,
          2.4,
          21.2
         ],
         "y": [
          1856,
          2096,
          1847
         ]
        },
        {
         "marker": {
          "color": "rgba(55, 128, 191, 1.0)",
          "line": {
           "width": 1.3
          },
          "opacity": 0.8,
          "size": 12,
          "symbol": "circle"
         },
         "mode": "markers",
         "name": "Bronx",
         "text": [
          "BRONX HIGH SCHOOL OF SCIENCE",
          "HIGH SCHOOL OF AMERICAN STUDIES AT LEHMAN COLLEGE"
         ],
         "textfont": {
          "color": "#4D5663"
         },
         "type": "scatter",
         "x": [
          7.2,
          18
         ],
         "y": [
          1969,
          1920
         ]
        },
        {
         "marker": {
          "color": "rgba(50, 171, 96, 1.0)",
          "line": {
           "width": 1.3
          },
          "opacity": 0.8,
          "size": 12,
          "symbol": "circle"
         },
         "mode": "markers",
         "name": "Brooklyn",
         "text": [
          "BROOKLYN TECHNICAL HIGH SCHOOL"
         ],
         "textfont": {
          "color": "#4D5663"
         },
         "type": "scatter",
         "x": [
          7.9
         ],
         "y": [
          1833
         ]
        },
        {
         "marker": {
          "color": "rgba(128, 0, 128, 1.0)",
          "line": {
           "width": 1.3
          },
          "opacity": 0.8,
          "size": 12,
          "symbol": "circle"
         },
         "mode": "markers",
         "name": "Queens",
         "text": [
          "TOWNSEND HARRIS HIGH SCHOOL",
          "QUEENS HIGH SCHOOL FOR THE SCIENCES AT YORK COLLEGE"
         ],
         "textfont": {
          "color": "#4D5663"
         },
         "type": "scatter",
         "x": [
          12.9,
          7.9
         ],
         "y": [
          1910,
          1868
         ]
        },
        {
         "marker": {
          "color": "rgba(219, 64, 82, 1.0)",
          "line": {
           "width": 1.3
          },
          "opacity": 0.8,
          "size": 12,
          "symbol": "circle"
         },
         "mode": "markers",
         "name": "Staten Island",
         "text": [
          "STATEN ISLAND TECHNICAL HIGH SCHOOL"
         ],
         "textfont": {
          "color": "#4D5663"
         },
         "type": "scatter",
         "x": [
          5.3
         ],
         "y": [
          1953
         ]
        }
       ],
       "layout": {
        "legend": {
         "bgcolor": "#F5F6F9",
         "font": {
          "color": "#4D5663"
         }
        },
        "paper_bgcolor": "#F5F6F9",
        "plot_bgcolor": "#F5F6F9",
        "template": {
         "data": {
          "bar": [
           {
            "error_x": {
             "color": "#2a3f5f"
            },
            "error_y": {
             "color": "#2a3f5f"
            },
            "marker": {
             "line": {
              "color": "#E5ECF6",
              "width": 0.5
             }
            },
            "type": "bar"
           }
          ],
          "barpolar": [
           {
            "marker": {
             "line": {
              "color": "#E5ECF6",
              "width": 0.5
             }
            },
            "type": "barpolar"
           }
          ],
          "carpet": [
           {
            "aaxis": {
             "endlinecolor": "#2a3f5f",
             "gridcolor": "white",
             "linecolor": "white",
             "minorgridcolor": "white",
             "startlinecolor": "#2a3f5f"
            },
            "baxis": {
             "endlinecolor": "#2a3f5f",
             "gridcolor": "white",
             "linecolor": "white",
             "minorgridcolor": "white",
             "startlinecolor": "#2a3f5f"
            },
            "type": "carpet"
           }
          ],
          "choropleth": [
           {
            "colorbar": {
             "outlinewidth": 0,
             "ticks": ""
            },
            "type": "choropleth"
           }
          ],
          "contour": [
           {
            "colorbar": {
             "outlinewidth": 0,
             "ticks": ""
            },
            "colorscale": [
             [
              0,
              "#0d0887"
             ],
             [
              0.1111111111111111,
              "#46039f"
             ],
             [
              0.2222222222222222,
              "#7201a8"
             ],
             [
              0.3333333333333333,
              "#9c179e"
             ],
             [
              0.4444444444444444,
              "#bd3786"
             ],
             [
              0.5555555555555556,
              "#d8576b"
             ],
             [
              0.6666666666666666,
              "#ed7953"
             ],
             [
              0.7777777777777778,
              "#fb9f3a"
             ],
             [
              0.8888888888888888,
              "#fdca26"
             ],
             [
              1,
              "#f0f921"
             ]
            ],
            "type": "contour"
           }
          ],
          "contourcarpet": [
           {
            "colorbar": {
             "outlinewidth": 0,
             "ticks": ""
            },
            "type": "contourcarpet"
           }
          ],
          "heatmap": [
           {
            "colorbar": {
             "outlinewidth": 0,
             "ticks": ""
            },
            "colorscale": [
             [
              0,
              "#0d0887"
             ],
             [
              0.1111111111111111,
              "#46039f"
             ],
             [
              0.2222222222222222,
              "#7201a8"
             ],
             [
              0.3333333333333333,
              "#9c179e"
             ],
             [
              0.4444444444444444,
              "#bd3786"
             ],
             [
              0.5555555555555556,
              "#d8576b"
             ],
             [
              0.6666666666666666,
              "#ed7953"
             ],
             [
              0.7777777777777778,
              "#fb9f3a"
             ],
             [
              0.8888888888888888,
              "#fdca26"
             ],
             [
              1,
              "#f0f921"
             ]
            ],
            "type": "heatmap"
           }
          ],
          "heatmapgl": [
           {
            "colorbar": {
             "outlinewidth": 0,
             "ticks": ""
            },
            "colorscale": [
             [
              0,
              "#0d0887"
             ],
             [
              0.1111111111111111,
              "#46039f"
             ],
             [
              0.2222222222222222,
              "#7201a8"
             ],
             [
              0.3333333333333333,
              "#9c179e"
             ],
             [
              0.4444444444444444,
              "#bd3786"
             ],
             [
              0.5555555555555556,
              "#d8576b"
             ],
             [
              0.6666666666666666,
              "#ed7953"
             ],
             [
              0.7777777777777778,
              "#fb9f3a"
             ],
             [
              0.8888888888888888,
              "#fdca26"
             ],
             [
              1,
              "#f0f921"
             ]
            ],
            "type": "heatmapgl"
           }
          ],
          "histogram": [
           {
            "marker": {
             "colorbar": {
              "outlinewidth": 0,
              "ticks": ""
             }
            },
            "type": "histogram"
           }
          ],
          "histogram2d": [
           {
            "colorbar": {
             "outlinewidth": 0,
             "ticks": ""
            },
            "colorscale": [
             [
              0,
              "#0d0887"
             ],
             [
              0.1111111111111111,
              "#46039f"
             ],
             [
              0.2222222222222222,
              "#7201a8"
             ],
             [
              0.3333333333333333,
              "#9c179e"
             ],
             [
              0.4444444444444444,
              "#bd3786"
             ],
             [
              0.5555555555555556,
              "#d8576b"
             ],
             [
              0.6666666666666666,
              "#ed7953"
             ],
             [
              0.7777777777777778,
              "#fb9f3a"
             ],
             [
              0.8888888888888888,
              "#fdca26"
             ],
             [
              1,
              "#f0f921"
             ]
            ],
            "type": "histogram2d"
           }
          ],
          "histogram2dcontour": [
           {
            "colorbar": {
             "outlinewidth": 0,
             "ticks": ""
            },
            "colorscale": [
             [
              0,
              "#0d0887"
             ],
             [
              0.1111111111111111,
              "#46039f"
             ],
             [
              0.2222222222222222,
              "#7201a8"
             ],
             [
              0.3333333333333333,
              "#9c179e"
             ],
             [
              0.4444444444444444,
              "#bd3786"
             ],
             [
              0.5555555555555556,
              "#d8576b"
             ],
             [
              0.6666666666666666,
              "#ed7953"
             ],
             [
              0.7777777777777778,
              "#fb9f3a"
             ],
             [
              0.8888888888888888,
              "#fdca26"
             ],
             [
              1,
              "#f0f921"
             ]
            ],
            "type": "histogram2dcontour"
           }
          ],
          "mesh3d": [
           {
            "colorbar": {
             "outlinewidth": 0,
             "ticks": ""
            },
            "type": "mesh3d"
           }
          ],
          "parcoords": [
           {
            "line": {
             "colorbar": {
              "outlinewidth": 0,
              "ticks": ""
             }
            },
            "type": "parcoords"
           }
          ],
          "pie": [
           {
            "automargin": true,
            "type": "pie"
           }
          ],
          "scatter": [
           {
            "marker": {
             "colorbar": {
              "outlinewidth": 0,
              "ticks": ""
             }
            },
            "type": "scatter"
           }
          ],
          "scatter3d": [
           {
            "line": {
             "colorbar": {
              "outlinewidth": 0,
              "ticks": ""
             }
            },
            "marker": {
             "colorbar": {
              "outlinewidth": 0,
              "ticks": ""
             }
            },
            "type": "scatter3d"
           }
          ],
          "scattercarpet": [
           {
            "marker": {
             "colorbar": {
              "outlinewidth": 0,
              "ticks": ""
             }
            },
            "type": "scattercarpet"
           }
          ],
          "scattergeo": [
           {
            "marker": {
             "colorbar": {
              "outlinewidth": 0,
              "ticks": ""
             }
            },
            "type": "scattergeo"
           }
          ],
          "scattergl": [
           {
            "marker": {
             "colorbar": {
              "outlinewidth": 0,
              "ticks": ""
             }
            },
            "type": "scattergl"
           }
          ],
          "scattermapbox": [
           {
            "marker": {
             "colorbar": {
              "outlinewidth": 0,
              "ticks": ""
             }
            },
            "type": "scattermapbox"
           }
          ],
          "scatterpolar": [
           {
            "marker": {
             "colorbar": {
              "outlinewidth": 0,
              "ticks": ""
             }
            },
            "type": "scatterpolar"
           }
          ],
          "scatterpolargl": [
           {
            "marker": {
             "colorbar": {
              "outlinewidth": 0,
              "ticks": ""
             }
            },
            "type": "scatterpolargl"
           }
          ],
          "scatterternary": [
           {
            "marker": {
             "colorbar": {
              "outlinewidth": 0,
              "ticks": ""
             }
            },
            "type": "scatterternary"
           }
          ],
          "surface": [
           {
            "colorbar": {
             "outlinewidth": 0,
             "ticks": ""
            },
            "colorscale": [
             [
              0,
              "#0d0887"
             ],
             [
              0.1111111111111111,
              "#46039f"
             ],
             [
              0.2222222222222222,
              "#7201a8"
             ],
             [
              0.3333333333333333,
              "#9c179e"
             ],
             [
              0.4444444444444444,
              "#bd3786"
             ],
             [
              0.5555555555555556,
              "#d8576b"
             ],
             [
              0.6666666666666666,
              "#ed7953"
             ],
             [
              0.7777777777777778,
              "#fb9f3a"
             ],
             [
              0.8888888888888888,
              "#fdca26"
             ],
             [
              1,
              "#f0f921"
             ]
            ],
            "type": "surface"
           }
          ],
          "table": [
           {
            "cells": {
             "fill": {
              "color": "#EBF0F8"
             },
             "line": {
              "color": "white"
             }
            },
            "header": {
             "fill": {
              "color": "#C8D4E3"
             },
             "line": {
              "color": "white"
             }
            },
            "type": "table"
           }
          ]
         },
         "layout": {
          "annotationdefaults": {
           "arrowcolor": "#2a3f5f",
           "arrowhead": 0,
           "arrowwidth": 1
          },
          "coloraxis": {
           "colorbar": {
            "outlinewidth": 0,
            "ticks": ""
           }
          },
          "colorscale": {
           "diverging": [
            [
             0,
             "#8e0152"
            ],
            [
             0.1,
             "#c51b7d"
            ],
            [
             0.2,
             "#de77ae"
            ],
            [
             0.3,
             "#f1b6da"
            ],
            [
             0.4,
             "#fde0ef"
            ],
            [
             0.5,
             "#f7f7f7"
            ],
            [
             0.6,
             "#e6f5d0"
            ],
            [
             0.7,
             "#b8e186"
            ],
            [
             0.8,
             "#7fbc41"
            ],
            [
             0.9,
             "#4d9221"
            ],
            [
             1,
             "#276419"
            ]
           ],
           "sequential": [
            [
             0,
             "#0d0887"
            ],
            [
             0.1111111111111111,
             "#46039f"
            ],
            [
             0.2222222222222222,
             "#7201a8"
            ],
            [
             0.3333333333333333,
             "#9c179e"
            ],
            [
             0.4444444444444444,
             "#bd3786"
            ],
            [
             0.5555555555555556,
             "#d8576b"
            ],
            [
             0.6666666666666666,
             "#ed7953"
            ],
            [
             0.7777777777777778,
             "#fb9f3a"
            ],
            [
             0.8888888888888888,
             "#fdca26"
            ],
            [
             1,
             "#f0f921"
            ]
           ],
           "sequentialminus": [
            [
             0,
             "#0d0887"
            ],
            [
             0.1111111111111111,
             "#46039f"
            ],
            [
             0.2222222222222222,
             "#7201a8"
            ],
            [
             0.3333333333333333,
             "#9c179e"
            ],
            [
             0.4444444444444444,
             "#bd3786"
            ],
            [
             0.5555555555555556,
             "#d8576b"
            ],
            [
             0.6666666666666666,
             "#ed7953"
            ],
            [
             0.7777777777777778,
             "#fb9f3a"
            ],
            [
             0.8888888888888888,
             "#fdca26"
            ],
            [
             1,
             "#f0f921"
            ]
           ]
          },
          "colorway": [
           "#636efa",
           "#EF553B",
           "#00cc96",
           "#ab63fa",
           "#FFA15A",
           "#19d3f3",
           "#FF6692",
           "#B6E880",
           "#FF97FF",
           "#FECB52"
          ],
          "font": {
           "color": "#2a3f5f"
          },
          "geo": {
           "bgcolor": "white",
           "lakecolor": "white",
           "landcolor": "#E5ECF6",
           "showlakes": true,
           "showland": true,
           "subunitcolor": "white"
          },
          "hoverlabel": {
           "align": "left"
          },
          "hovermode": "closest",
          "mapbox": {
           "style": "light"
          },
          "paper_bgcolor": "white",
          "plot_bgcolor": "#E5ECF6",
          "polar": {
           "angularaxis": {
            "gridcolor": "white",
            "linecolor": "white",
            "ticks": ""
           },
           "bgcolor": "#E5ECF6",
           "radialaxis": {
            "gridcolor": "white",
            "linecolor": "white",
            "ticks": ""
           }
          },
          "scene": {
           "xaxis": {
            "backgroundcolor": "#E5ECF6",
            "gridcolor": "white",
            "gridwidth": 2,
            "linecolor": "white",
            "showbackground": true,
            "ticks": "",
            "zerolinecolor": "white"
           },
           "yaxis": {
            "backgroundcolor": "#E5ECF6",
            "gridcolor": "white",
            "gridwidth": 2,
            "linecolor": "white",
            "showbackground": true,
            "ticks": "",
            "zerolinecolor": "white"
           },
           "zaxis": {
            "backgroundcolor": "#E5ECF6",
            "gridcolor": "white",
            "gridwidth": 2,
            "linecolor": "white",
            "showbackground": true,
            "ticks": "",
            "zerolinecolor": "white"
           }
          },
          "shapedefaults": {
           "line": {
            "color": "#2a3f5f"
           }
          },
          "ternary": {
           "aaxis": {
            "gridcolor": "white",
            "linecolor": "white",
            "ticks": ""
           },
           "baxis": {
            "gridcolor": "white",
            "linecolor": "white",
            "ticks": ""
           },
           "bgcolor": "#E5ECF6",
           "caxis": {
            "gridcolor": "white",
            "linecolor": "white",
            "ticks": ""
           }
          },
          "title": {
           "x": 0.05
          },
          "xaxis": {
           "automargin": true,
           "gridcolor": "white",
           "linecolor": "white",
           "ticks": "",
           "title": {
            "standoff": 15
           },
           "zerolinecolor": "white",
           "zerolinewidth": 2
          },
          "yaxis": {
           "automargin": true,
           "gridcolor": "white",
           "linecolor": "white",
           "ticks": "",
           "title": {
            "standoff": 15
           },
           "zerolinecolor": "white",
           "zerolinewidth": 2
          }
         }
        },
        "title": {
         "font": {
          "color": "#4D5663"
         },
         "text": "Share of hispanic students vs. SAT score by Elite schools"
        },
        "xaxis": {
         "gridcolor": "#E1E5ED",
         "showgrid": true,
         "tickfont": {
          "color": "#4D5663"
         },
         "title": {
          "font": {
           "color": "#4D5663"
          },
          "text": "Share hispanics, %"
         },
         "zerolinecolor": "#E1E5ED"
        },
        "yaxis": {
         "gridcolor": "#E1E5ED",
         "showgrid": true,
         "tickfont": {
          "color": "#4D5663"
         },
         "title": {
          "font": {
           "color": "#4D5663"
          },
          "text": "Avg. SAT score"
         },
         "zerolinecolor": "#E1E5ED"
        }
       }
      },
      "text/html": [
       "<div>\n",
       "        \n",
       "        \n",
       "            <div id=\"5724f09d-d0f1-4172-bed8-6c74f42e6854\" class=\"plotly-graph-div\" style=\"height:525px; width:100%;\"></div>\n",
       "            <script type=\"text/javascript\">\n",
       "                require([\"plotly\"], function(Plotly) {\n",
       "                    window.PLOTLYENV=window.PLOTLYENV || {};\n",
       "                    window.PLOTLYENV.BASE_URL='https://plot.ly';\n",
       "                    \n",
       "                if (document.getElementById(\"5724f09d-d0f1-4172-bed8-6c74f42e6854\")) {\n",
       "                    Plotly.newPlot(\n",
       "                        '5724f09d-d0f1-4172-bed8-6c74f42e6854',\n",
       "                        [{\"marker\": {\"color\": \"rgba(255, 153, 51, 1.0)\", \"line\": {\"width\": 1.3}, \"opacity\": 0.8, \"size\": 12, \"symbol\": \"circle\"}, \"mode\": \"markers\", \"name\": \"Manhattan\", \"text\": [\"BARD HIGH SCHOOL EARLY COLLEGE\", \"STUYVESANT HIGH SCHOOL\", \"HIGH SCHOOL FOR MATHEMATICS, SCIENCE AND ENGINEERING AT CITY COLLEGE\"], \"textfont\": {\"color\": \"#4D5663\"}, \"type\": \"scatter\", \"x\": [18.2, 2.4, 21.2], \"y\": [1856.0, 2096.0, 1847.0]}, {\"marker\": {\"color\": \"rgba(55, 128, 191, 1.0)\", \"line\": {\"width\": 1.3}, \"opacity\": 0.8, \"size\": 12, \"symbol\": \"circle\"}, \"mode\": \"markers\", \"name\": \"Bronx\", \"text\": [\"BRONX HIGH SCHOOL OF SCIENCE\", \"HIGH SCHOOL OF AMERICAN STUDIES AT LEHMAN COLLEGE\"], \"textfont\": {\"color\": \"#4D5663\"}, \"type\": \"scatter\", \"x\": [7.2, 18.0], \"y\": [1969.0, 1920.0]}, {\"marker\": {\"color\": \"rgba(50, 171, 96, 1.0)\", \"line\": {\"width\": 1.3}, \"opacity\": 0.8, \"size\": 12, \"symbol\": \"circle\"}, \"mode\": \"markers\", \"name\": \"Brooklyn\", \"text\": [\"BROOKLYN TECHNICAL HIGH SCHOOL\"], \"textfont\": {\"color\": \"#4D5663\"}, \"type\": \"scatter\", \"x\": [7.9], \"y\": [1833.0]}, {\"marker\": {\"color\": \"rgba(128, 0, 128, 1.0)\", \"line\": {\"width\": 1.3}, \"opacity\": 0.8, \"size\": 12, \"symbol\": \"circle\"}, \"mode\": \"markers\", \"name\": \"Queens\", \"text\": [\"TOWNSEND HARRIS HIGH SCHOOL\", \"QUEENS HIGH SCHOOL FOR THE SCIENCES AT YORK COLLEGE\"], \"textfont\": {\"color\": \"#4D5663\"}, \"type\": \"scatter\", \"x\": [12.9, 7.9], \"y\": [1910.0, 1868.0]}, {\"marker\": {\"color\": \"rgba(219, 64, 82, 1.0)\", \"line\": {\"width\": 1.3}, \"opacity\": 0.8, \"size\": 12, \"symbol\": \"circle\"}, \"mode\": \"markers\", \"name\": \"Staten Island\", \"text\": [\"STATEN ISLAND TECHNICAL HIGH SCHOOL\"], \"textfont\": {\"color\": \"#4D5663\"}, \"type\": \"scatter\", \"x\": [5.3], \"y\": [1953.0]}],\n",
       "                        {\"legend\": {\"bgcolor\": \"#F5F6F9\", \"font\": {\"color\": \"#4D5663\"}}, \"paper_bgcolor\": \"#F5F6F9\", \"plot_bgcolor\": \"#F5F6F9\", \"template\": {\"data\": {\"bar\": [{\"error_x\": {\"color\": \"#2a3f5f\"}, \"error_y\": {\"color\": \"#2a3f5f\"}, \"marker\": {\"line\": {\"color\": \"#E5ECF6\", \"width\": 0.5}}, \"type\": \"bar\"}], \"barpolar\": [{\"marker\": {\"line\": {\"color\": \"#E5ECF6\", \"width\": 0.5}}, \"type\": \"barpolar\"}], \"carpet\": [{\"aaxis\": {\"endlinecolor\": \"#2a3f5f\", \"gridcolor\": \"white\", \"linecolor\": \"white\", \"minorgridcolor\": \"white\", \"startlinecolor\": \"#2a3f5f\"}, \"baxis\": {\"endlinecolor\": \"#2a3f5f\", \"gridcolor\": \"white\", \"linecolor\": \"white\", \"minorgridcolor\": \"white\", \"startlinecolor\": \"#2a3f5f\"}, \"type\": \"carpet\"}], \"choropleth\": [{\"colorbar\": {\"outlinewidth\": 0, \"ticks\": \"\"}, \"type\": \"choropleth\"}], \"contour\": [{\"colorbar\": {\"outlinewidth\": 0, \"ticks\": \"\"}, \"colorscale\": [[0.0, \"#0d0887\"], [0.1111111111111111, \"#46039f\"], [0.2222222222222222, \"#7201a8\"], [0.3333333333333333, \"#9c179e\"], [0.4444444444444444, \"#bd3786\"], [0.5555555555555556, \"#d8576b\"], [0.6666666666666666, \"#ed7953\"], [0.7777777777777778, \"#fb9f3a\"], [0.8888888888888888, \"#fdca26\"], [1.0, \"#f0f921\"]], \"type\": \"contour\"}], \"contourcarpet\": [{\"colorbar\": {\"outlinewidth\": 0, \"ticks\": \"\"}, \"type\": \"contourcarpet\"}], \"heatmap\": [{\"colorbar\": {\"outlinewidth\": 0, \"ticks\": \"\"}, \"colorscale\": [[0.0, \"#0d0887\"], [0.1111111111111111, \"#46039f\"], [0.2222222222222222, \"#7201a8\"], [0.3333333333333333, \"#9c179e\"], [0.4444444444444444, \"#bd3786\"], [0.5555555555555556, \"#d8576b\"], [0.6666666666666666, \"#ed7953\"], [0.7777777777777778, \"#fb9f3a\"], [0.8888888888888888, \"#fdca26\"], [1.0, \"#f0f921\"]], \"type\": \"heatmap\"}], \"heatmapgl\": [{\"colorbar\": {\"outlinewidth\": 0, \"ticks\": \"\"}, \"colorscale\": [[0.0, \"#0d0887\"], [0.1111111111111111, \"#46039f\"], [0.2222222222222222, \"#7201a8\"], [0.3333333333333333, \"#9c179e\"], [0.4444444444444444, \"#bd3786\"], [0.5555555555555556, \"#d8576b\"], [0.6666666666666666, \"#ed7953\"], [0.7777777777777778, \"#fb9f3a\"], [0.8888888888888888, \"#fdca26\"], [1.0, \"#f0f921\"]], \"type\": \"heatmapgl\"}], \"histogram\": [{\"marker\": {\"colorbar\": {\"outlinewidth\": 0, \"ticks\": \"\"}}, \"type\": \"histogram\"}], \"histogram2d\": [{\"colorbar\": {\"outlinewidth\": 0, \"ticks\": \"\"}, \"colorscale\": [[0.0, \"#0d0887\"], [0.1111111111111111, \"#46039f\"], [0.2222222222222222, \"#7201a8\"], [0.3333333333333333, \"#9c179e\"], [0.4444444444444444, \"#bd3786\"], [0.5555555555555556, \"#d8576b\"], [0.6666666666666666, \"#ed7953\"], [0.7777777777777778, \"#fb9f3a\"], [0.8888888888888888, \"#fdca26\"], [1.0, \"#f0f921\"]], \"type\": \"histogram2d\"}], \"histogram2dcontour\": [{\"colorbar\": {\"outlinewidth\": 0, \"ticks\": \"\"}, \"colorscale\": [[0.0, \"#0d0887\"], [0.1111111111111111, \"#46039f\"], [0.2222222222222222, \"#7201a8\"], [0.3333333333333333, \"#9c179e\"], [0.4444444444444444, \"#bd3786\"], [0.5555555555555556, \"#d8576b\"], [0.6666666666666666, \"#ed7953\"], [0.7777777777777778, \"#fb9f3a\"], [0.8888888888888888, \"#fdca26\"], [1.0, \"#f0f921\"]], \"type\": \"histogram2dcontour\"}], \"mesh3d\": [{\"colorbar\": {\"outlinewidth\": 0, \"ticks\": \"\"}, \"type\": \"mesh3d\"}], \"parcoords\": [{\"line\": {\"colorbar\": {\"outlinewidth\": 0, \"ticks\": \"\"}}, \"type\": \"parcoords\"}], \"pie\": [{\"automargin\": true, \"type\": \"pie\"}], \"scatter\": [{\"marker\": {\"colorbar\": {\"outlinewidth\": 0, \"ticks\": \"\"}}, \"type\": \"scatter\"}], \"scatter3d\": [{\"line\": {\"colorbar\": {\"outlinewidth\": 0, \"ticks\": \"\"}}, \"marker\": {\"colorbar\": {\"outlinewidth\": 0, \"ticks\": \"\"}}, \"type\": \"scatter3d\"}], \"scattercarpet\": [{\"marker\": {\"colorbar\": {\"outlinewidth\": 0, \"ticks\": \"\"}}, \"type\": \"scattercarpet\"}], \"scattergeo\": [{\"marker\": {\"colorbar\": {\"outlinewidth\": 0, \"ticks\": \"\"}}, \"type\": \"scattergeo\"}], \"scattergl\": [{\"marker\": {\"colorbar\": {\"outlinewidth\": 0, \"ticks\": \"\"}}, \"type\": \"scattergl\"}], \"scattermapbox\": [{\"marker\": {\"colorbar\": {\"outlinewidth\": 0, \"ticks\": \"\"}}, \"type\": \"scattermapbox\"}], \"scatterpolar\": [{\"marker\": {\"colorbar\": {\"outlinewidth\": 0, \"ticks\": \"\"}}, \"type\": \"scatterpolar\"}], \"scatterpolargl\": [{\"marker\": {\"colorbar\": {\"outlinewidth\": 0, \"ticks\": \"\"}}, \"type\": \"scatterpolargl\"}], \"scatterternary\": [{\"marker\": {\"colorbar\": {\"outlinewidth\": 0, \"ticks\": \"\"}}, \"type\": \"scatterternary\"}], \"surface\": [{\"colorbar\": {\"outlinewidth\": 0, \"ticks\": \"\"}, \"colorscale\": [[0.0, \"#0d0887\"], [0.1111111111111111, \"#46039f\"], [0.2222222222222222, \"#7201a8\"], [0.3333333333333333, \"#9c179e\"], [0.4444444444444444, \"#bd3786\"], [0.5555555555555556, \"#d8576b\"], [0.6666666666666666, \"#ed7953\"], [0.7777777777777778, \"#fb9f3a\"], [0.8888888888888888, \"#fdca26\"], [1.0, \"#f0f921\"]], \"type\": \"surface\"}], \"table\": [{\"cells\": {\"fill\": {\"color\": \"#EBF0F8\"}, \"line\": {\"color\": \"white\"}}, \"header\": {\"fill\": {\"color\": \"#C8D4E3\"}, \"line\": {\"color\": \"white\"}}, \"type\": \"table\"}]}, \"layout\": {\"annotationdefaults\": {\"arrowcolor\": \"#2a3f5f\", \"arrowhead\": 0, \"arrowwidth\": 1}, \"coloraxis\": {\"colorbar\": {\"outlinewidth\": 0, \"ticks\": \"\"}}, \"colorscale\": {\"diverging\": [[0, \"#8e0152\"], [0.1, \"#c51b7d\"], [0.2, \"#de77ae\"], [0.3, \"#f1b6da\"], [0.4, \"#fde0ef\"], [0.5, \"#f7f7f7\"], [0.6, \"#e6f5d0\"], [0.7, \"#b8e186\"], [0.8, \"#7fbc41\"], [0.9, \"#4d9221\"], [1, \"#276419\"]], \"sequential\": [[0.0, \"#0d0887\"], [0.1111111111111111, \"#46039f\"], [0.2222222222222222, \"#7201a8\"], [0.3333333333333333, \"#9c179e\"], [0.4444444444444444, \"#bd3786\"], [0.5555555555555556, \"#d8576b\"], [0.6666666666666666, \"#ed7953\"], [0.7777777777777778, \"#fb9f3a\"], [0.8888888888888888, \"#fdca26\"], [1.0, \"#f0f921\"]], \"sequentialminus\": [[0.0, \"#0d0887\"], [0.1111111111111111, \"#46039f\"], [0.2222222222222222, \"#7201a8\"], [0.3333333333333333, \"#9c179e\"], [0.4444444444444444, \"#bd3786\"], [0.5555555555555556, \"#d8576b\"], [0.6666666666666666, \"#ed7953\"], [0.7777777777777778, \"#fb9f3a\"], [0.8888888888888888, \"#fdca26\"], [1.0, \"#f0f921\"]]}, \"colorway\": [\"#636efa\", \"#EF553B\", \"#00cc96\", \"#ab63fa\", \"#FFA15A\", \"#19d3f3\", \"#FF6692\", \"#B6E880\", \"#FF97FF\", \"#FECB52\"], \"font\": {\"color\": \"#2a3f5f\"}, \"geo\": {\"bgcolor\": \"white\", \"lakecolor\": \"white\", \"landcolor\": \"#E5ECF6\", \"showlakes\": true, \"showland\": true, \"subunitcolor\": \"white\"}, \"hoverlabel\": {\"align\": \"left\"}, \"hovermode\": \"closest\", \"mapbox\": {\"style\": \"light\"}, \"paper_bgcolor\": \"white\", \"plot_bgcolor\": \"#E5ECF6\", \"polar\": {\"angularaxis\": {\"gridcolor\": \"white\", \"linecolor\": \"white\", \"ticks\": \"\"}, \"bgcolor\": \"#E5ECF6\", \"radialaxis\": {\"gridcolor\": \"white\", \"linecolor\": \"white\", \"ticks\": \"\"}}, \"scene\": {\"xaxis\": {\"backgroundcolor\": \"#E5ECF6\", \"gridcolor\": \"white\", \"gridwidth\": 2, \"linecolor\": \"white\", \"showbackground\": true, \"ticks\": \"\", \"zerolinecolor\": \"white\"}, \"yaxis\": {\"backgroundcolor\": \"#E5ECF6\", \"gridcolor\": \"white\", \"gridwidth\": 2, \"linecolor\": \"white\", \"showbackground\": true, \"ticks\": \"\", \"zerolinecolor\": \"white\"}, \"zaxis\": {\"backgroundcolor\": \"#E5ECF6\", \"gridcolor\": \"white\", \"gridwidth\": 2, \"linecolor\": \"white\", \"showbackground\": true, \"ticks\": \"\", \"zerolinecolor\": \"white\"}}, \"shapedefaults\": {\"line\": {\"color\": \"#2a3f5f\"}}, \"ternary\": {\"aaxis\": {\"gridcolor\": \"white\", \"linecolor\": \"white\", \"ticks\": \"\"}, \"baxis\": {\"gridcolor\": \"white\", \"linecolor\": \"white\", \"ticks\": \"\"}, \"bgcolor\": \"#E5ECF6\", \"caxis\": {\"gridcolor\": \"white\", \"linecolor\": \"white\", \"ticks\": \"\"}}, \"title\": {\"x\": 0.05}, \"xaxis\": {\"automargin\": true, \"gridcolor\": \"white\", \"linecolor\": \"white\", \"ticks\": \"\", \"title\": {\"standoff\": 15}, \"zerolinecolor\": \"white\", \"zerolinewidth\": 2}, \"yaxis\": {\"automargin\": true, \"gridcolor\": \"white\", \"linecolor\": \"white\", \"ticks\": \"\", \"title\": {\"standoff\": 15}, \"zerolinecolor\": \"white\", \"zerolinewidth\": 2}}}, \"title\": {\"font\": {\"color\": \"#4D5663\"}, \"text\": \"Share of hispanic students vs. SAT score by Elite schools\"}, \"xaxis\": {\"gridcolor\": \"#E1E5ED\", \"showgrid\": true, \"tickfont\": {\"color\": \"#4D5663\"}, \"title\": {\"font\": {\"color\": \"#4D5663\"}, \"text\": \"Share hispanics, %\"}, \"zerolinecolor\": \"#E1E5ED\"}, \"yaxis\": {\"gridcolor\": \"#E1E5ED\", \"showgrid\": true, \"tickfont\": {\"color\": \"#4D5663\"}, \"title\": {\"font\": {\"color\": \"#4D5663\"}, \"text\": \"Avg. SAT score\"}, \"zerolinecolor\": \"#E1E5ED\"}},\n",
       "                        {\"showLink\": true, \"linkText\": \"Export to plot.ly\", \"plotlyServerURL\": \"https://plot.ly\", \"responsive\": true}\n",
       "                    ).then(function(){\n",
       "                            \n",
       "var gd = document.getElementById('5724f09d-d0f1-4172-bed8-6c74f42e6854');\n",
       "var x = new MutationObserver(function (mutations, observer) {{\n",
       "        var display = window.getComputedStyle(gd).display;\n",
       "        if (!display || display === 'none') {{\n",
       "            console.log([gd, 'removed!']);\n",
       "            Plotly.purge(gd);\n",
       "            observer.disconnect();\n",
       "        }}\n",
       "}});\n",
       "\n",
       "// Listen for the removal of the full notebook cells\n",
       "var notebookContainer = gd.closest('#notebook-container');\n",
       "if (notebookContainer) {{\n",
       "    x.observe(notebookContainer, {childList: true});\n",
       "}}\n",
       "\n",
       "// Listen for the clearing of the current output cell\n",
       "var outputEl = gd.closest('.output');\n",
       "if (outputEl) {{\n",
       "    x.observe(outputEl, {childList: true});\n",
       "}}\n",
       "\n",
       "                        })\n",
       "                };\n",
       "                });\n",
       "            </script>\n",
       "        </div>"
      ]
     },
     "metadata": {},
     "output_type": "display_data"
    }
   ],
   "source": [
    "with warnings.catch_warnings(): # to catch warning about np.module in Python 3.8.2.\n",
    "    warnings.filterwarnings(\"ignore\",category=FutureWarning)\n",
    "    combined[high_rate].iplot(\n",
    "        x='hispanic_per',\n",
    "        y='sat_score',\n",
    "        categories='boro',\n",
    "        text=\"SCHOOL NAME\",\n",
    "        \n",
    "        xTitle='Share hispanics, %',\n",
    "        yTitle='Avg. SAT score',\n",
    "        title='Share of hispanic students vs. SAT score by Elite schools'\n",
    "    )"
   ]
  },
  {
   "cell_type": "markdown",
   "metadata": {},
   "source": [
    "Blacks and hispanics are evidently undernumbered in NYC's elite high schools, when white and especially asian students are in majority compared to all NYC high schools. As we can see above racial distribution in elite schools does not depend on district because there are elite schools in all five boroughs."
   ]
  },
  {
   "cell_type": "markdown",
   "metadata": {},
   "source": [
    "# Gender: Manhattan and Queens with predomination of female students"
   ]
  },
  {
   "cell_type": "code",
   "execution_count": 25,
   "metadata": {},
   "outputs": [
    {
     "data": {
      "image/png": "[encoded data removed]",
      "text/plain": [
       "<Figure size 576x432 with 1 Axes>"
      ]
     },
     "metadata": {
      "needs_background": "light"
     },
     "output_type": "display_data"
    }
   ],
   "source": [
    "# build bar chart to visualize correlation between SAT and gender of students\n",
    "gendr_corr = correlations.loc[['male_per', 'female_per']]['sat_score']\n",
    "ax=gendr_corr.plot(kind='bar', figsize=(8, 6), title=\"Correlation of gender to SAT-scores\")\n",
    "ax.spines['right'].set_visible(False)\n",
    "ax.spines['top'].set_visible(False)\n",
    "for p in ax.patches: # set data point labels\n",
    "    ax.annotate(str(round(p.get_height(), 2)),\n",
    "                (p.get_x() + 0.2, max(p.get_height(), 0)+0.002),\n",
    "                rotation=0\n",
    "                )\n",
    "ax.axhline(y=0.0, color='black', linestyle='-', linewidth=1)\n",
    "plt.show()"
   ]
  },
  {
   "cell_type": "markdown",
   "metadata": {},
   "source": [
    "It appears that there is a weak correlation between each gender and SAT scores, positive one for female and negative for male students. That can be logical because female students generally prepare more responsible to the exams than man."
   ]
  },
  {
   "cell_type": "code",
   "execution_count": 26,
   "metadata": {},
   "outputs": [
    {
     "data": {
      "application/vnd.plotly.v1+json": {
       "config": {
        "linkText": "Export to plot.ly",
        "plotlyServerURL": "https://plot.ly",
        "showLink": true
       },
       "data": [
        {
         "marker": {
          "color": "rgba(255, 153, 51, 1.0)",
          "line": {
           "width": 1.3
          },
          "opacity": 0.8,
          "size": 12,
          "symbol": "circle"
         },
         "mode": "markers",
         "name": "Manhattan",
         "text": [
          "HENRY STREET SCHOOL FOR INTERNATIONAL STUDIES",
          "UNIVERSITY NEIGHBORHOOD HIGH SCHOOL",
          "EAST SIDE COMMUNITY SCHOOL",
          "MARTA VALLE HIGH SCHOOL",
          "NEW EXPLORATIONS INTO SCIENCE, TECHNOLOGY AND MATH HIGH SCHOOL",
          "BARD HIGH SCHOOL EARLY COLLEGE",
          "47 THE AMERICAN SIGN LANGUAGE AND ENGLISH SECONDARY SCHOOL",
          "FOOD AND FINANCE HIGH SCHOOL",
          "ESSEX STREET ACADEMY",
          "HIGH SCHOOL OF HOSPITALITY MANAGEMENT",
          "PACE HIGH SCHOOL",
          "URBAN ASSEMBLY SCHOOL OF DESIGN AND CONSTRUCTION, THE",
          "FACING HISTORY SCHOOL, THE",
          "URBAN ASSEMBLY ACADEMY OF GOVERNMENT AND LAW, THE",
          "LOWER MANHATTAN ARTS ACADEMY",
          "URBAN ASSEMBLY SCHOOL OF BUSINESS FOR YOUNG WOMEN, THE",
          "GRAMERCY ARTS HIGH SCHOOL",
          "NYC ISCHOOL",
          "MANHATTAN BUSINESS ACADEMY",
          "BUSINESS OF SPORTS SCHOOL",
          "THE HIGH SCHOOL FOR LANGUAGE AND DIPLOMACY",
          "HIGH SCHOOL FOR ENVIRONMENTAL STUDIES",
          "PROFESSIONAL PERFORMING ARTS HIGH SCHOOL",
          "BARUCH COLLEGE CAMPUS HIGH SCHOOL",
          "N.Y.C. LAB SCHOOL FOR COLLABORATIVE STUDIES",
          "N.Y.C. MUSEUM SCHOOL",
          "ELEANOR ROOSEVELT HIGH SCHOOL",
          "MILLENNIUM HIGH SCHOOL",
          "LANDMARK HIGH SCHOOL",
          "HIGH SCHOOL FOR HEALTH PROFESSIONS AND HUMAN SERVICES",
          "LEADERSHIP AND PUBLIC SERVICE HIGH SCHOOL",
          "MANHATTAN ACADEMY FOR ARTS & LANGUAGE",
          "HUDSON HIGH SCHOOL OF LEARNING TECHNOLOGIES",
          "INTERNATIONAL HIGH SCHOOL AT UNION SQUARE",
          "MANHATTAN VILLAGE ACADEMY",
          "VANGUARD HIGH SCHOOL",
          "MANHATTAN INTERNATIONAL HIGH SCHOOL",
          "STUYVESANT HIGH SCHOOL",
          "HIGH SCHOOL OF ECONOMICS AND FINANCE",
          "UNITY CENTER FOR URBAN TECHNOLOGIES",
          "TALENT UNLIMITED HIGH SCHOOL",
          "MURRY BERGTRAUM HIGH SCHOOL FOR BUSINESS CAREERS",
          "JACQUELINE KENNEDY ONASSIS HIGH SCHOOL",
          "REPERTORY COMPANY HIGH SCHOOL FOR THEATRE ARTS",
          "MANHATTAN BRIDGES HIGH SCHOOL",
          "NEW DESIGN HIGH SCHOOL",
          "HIGH SCHOOL FOR DUAL LANGUAGE AND ASIAN STUDIES",
          "THE URBAN ASSEMBLY NEW YORK HARBOR SCHOOL",
          "RICHARD R. GREEN HIGH SCHOOL OF TEACHING",
          "THE HIGH SCHOOL OF FASHION INDUSTRIES",
          "HUMANITIES PREPARATORY ACADEMY",
          "CHELSEA CAREER AND TECHNICAL EDUCATION HIGH SCHOOL",
          "ART AND DESIGN HIGH SCHOOL",
          "LIFE SCIENCES SECONDARY SCHOOL",
          "HIGH SCHOOL FOR ARTS, IMAGINATION AND INQUIRY",
          "URBAN ASSEMBLY SCHOOL FOR MEDIA STUDIES, THE",
          "THE URBAN ASSEMBLY SCHOOL FOR GREEN CAREERS",
          "THE GLOBAL LEARNING COLLABORATIVE",
          "WADLEIGH SECONDARY SCHOOL FOR THE PERFORMING & VISUAL ARTS",
          "FRANK MCCOURT HIGH SCHOOL",
          "BEACON HIGH SCHOOL",
          "FIORELLO H. LAGUARDIA HIGH SCHOOL OF MUSIC & ART AND PERFORMING ARTS",
          "HIGH SCHOOL FOR LAW, ADVOCACY AND COMMUNITY JUSTICE",
          "HIGH SCHOOL OF ARTS AND TECHNOLOGY",
          "MANHATTAN / HUNTER SCIENCE HIGH SCHOOL",
          "FREDERICK DOUGLASS ACADEMY II SECONDARY SCHOOL",
          "COALITION SCHOOL FOR SOCIAL CHANGE",
          "MANHATTAN CENTER FOR SCIENCE AND MATHEMATICS",
          "PARK EAST HIGH SCHOOL",
          "CENTRAL PARK EAST HIGH SCHOOL",
          "YOUNG WOMEN'S LEADERSHIP SCHOOL",
          "YOUNG WOMEN'S LEADERSHIP SCHOOL",
          "HERITAGE SCHOOL, THE",
          "MOTT HALL HIGH SCHOOL",
          "COLUMBIA SECONDARY SCHOOL FOR MATH, SCIENCE, AND ENGINEERING",
          "ACADEMY FOR SOCIAL ACTION: A COLLEGE BOARD SCHOOL",
          "URBAN ASSEMBLY SCHOOL FOR THE PERFORMING ARTS",
          "FREDERICK DOUGLASS ACADEMY",
          "THURGOOD MARSHALL ACADEMY FOR LEARNING AND SOCIAL CHANGE",
          "HIGH SCHOOL FOR MATHEMATICS, SCIENCE AND ENGINEERING AT CITY COLLEGE",
          "CITY COLLEGE ACADEMY OF THE ARTS",
          "COMMUNITY HEALTH ACADEMY OF THE HEIGHTS",
          "WASHINGTON HEIGHTS EXPEDITIONARY LEARNING SCHOOL",
          "HIGH SCHOOL FOR EXCELLENCE AND INNOVATION",
          "HIGH SCHOOL FOR INTERNATIONAL BUSINESS AND FINANCE",
          "HIGH SCHOOL FOR MEDIA AND COMMUNICATIONS",
          "HIGH SCHOOL FOR LAW AND PUBLIC SERVICE",
          "HIGH SCHOOL FOR HEALTH CAREERS AND SCIENCES",
          "A. PHILIP RANDOLPH CAMPUS HIGH SCHOOL",
          "GREGORIO LUPERON HIGH SCHOOL FOR SCIENCE AND MATHEMATICS"
         ],
         "textfont": {
          "color": "#4D5663"
         },
         "type": "scatter",
         "x": [
          38.6,
          42.6,
          45.3,
          53.7,
          50.8,
          68.7,
          57.5,
          55,
          46.6,
          67.8,
          56.3,
          25.1,
          49.4,
          56.1,
          60.1,
          100,
          73.7,
          51.3,
          41,
          27.6,
          52,
          49.6,
          74.7,
          56,
          53,
          57.6,
          67.5,
          61.8,
          51.5,
          70.6,
          53.9,
          45.1,
          39.4,
          38.6,
          61.5,
          53.8,
          55.7,
          40.7,
          45.5,
          37.6,
          78.6,
          50.9,
          59.4,
          78.8,
          48.6,
          61.7,
          48.7,
          39.1,
          67.4,
          92.7,
          57.3,
          35,
          53.3,
          48.4,
          44.3,
          42.1,
          43.1,
          48.6,
          61.6,
          53.4,
          61,
          73.6,
          59.9,
          32.3,
          58.9,
          45.8,
          55.6,
          53.6,
          57.9,
          67.9,
          100,
          100,
          51.4,
          46.5,
          50.4,
          51.3,
          74.6,
          47.8,
          55.9,
          34.2,
          60.4,
          47.7,
          44.2,
          47.2,
          36.2,
          36.5,
          41.4,
          47.3,
          50.1,
          51.1
         ],
         "y": [
          1122,
          1172,
          1149,
          1207,
          1621,
          1856,
          1182,
          1194,
          1156,
          1111,
          1293,
          1269,
          1051,
          1148,
          1200,
          1127,
          1176,
          1435,
          1223.4388059701494,
          1223.4388059701494,
          1223.4388059701494,
          1419,
          1522,
          1577,
          1677,
          1419,
          1758,
          1614,
          1170,
          1306,
          1233,
          1223.4388059701494,
          1223.4388059701494,
          1223.4388059701494,
          1372,
          1199,
          1227,
          2096,
          1374,
          1070,
          1416,
          1240,
          1239,
          1253,
          1058,
          1168,
          1424,
          1212,
          1195,
          1257,
          1255,
          1207,
          1315,
          1236,
          1132,
          1144,
          1223.4388059701494,
          1223.4388059701494,
          1109,
          1223.4388059701494,
          1744,
          1707,
          1196,
          1277,
          1446,
          1096,
          1084,
          1430,
          1128,
          1221,
          1326,
          1326,
          1054,
          1210,
          1223.4388059701494,
          1062,
          1077,
          1374,
          1202,
          1847,
          1270,
          1105,
          1174,
          1223.4388059701494,
          1127,
          1098,
          1102,
          1224,
          1309,
          1014
         ]
        },
        {
         "marker": {
          "color": "rgba(55, 128, 191, 1.0)",
          "line": {
           "width": 1.3
          },
          "opacity": 0.8,
          "size": 12,
          "symbol": "circle"
         },
         "mode": "markers",
         "name": "Bronx",
         "text": [
          "SOUTH BRONX PREPARATORY: A COLLEGE BOARD SCHOOL",
          "INTERNATIONAL COMMUNITY HIGH SCHOOL",
          "COMMUNITY SCHOOL FOR SOCIAL JUSTICE",
          "MOTT HAVEN VILLAGE PREPARATORY HIGH SCHOOL",
          "UNIVERSITY HEIGHTS SECONDARY SCHOOL",
          "HOSTOSsLINCOLN ACADEMY OF SCIENCE",
          "FOREIGN LANGUAGE ACADEMY OF GLOBAL STUDIES",
          "BRONX LEADERSHIP ACADEMY II HIGH SCHOOL",
          "NEW EXPLORERS HIGH SCHOOL",
          "URBAN ASSEMBLY SCHOOL FOR CAREERS IN SPORTS",
          "BRONX ACADEMY OF LETTERS",
          "ALFRED E. SMITH CAREER AND TECHNICAL EDUCATION HIGH SCHOOL",
          "HEALTH OPPORTUNITIES HIGH SCHOOL",
          "BRONX STUDIO SCHOOL FOR WRITERS AND ARTISTS",
          "WOMEN'S ACADEMY OF EXCELLENCE",
          "RENAISSANCE HIGH SCHOOL FOR MUSICAL THEATER & TECHNOLOGY",
          "PABLO NERUDA ACADEMY FOR ARCHITECTURE AND WORLD STUDIES",
          "MILLENNIUM ART ACADEMY",
          "HOLCOMBE L. RUCKER SCHOOL OF COMMUNITY RESEARCH",
          "ANTONIA PANTOJA PREPARATORY ACADEMY, A COLLEGE BOARD SCHOOL",
          "HERBERT H. LEHMAN HIGH SCHOOL",
          "BRONX BRIDGES HIGH SCHOOL",
          "FELISA RINCON DE GAUTIER INSTITUTE FOR LAW AND PUBLIC POLICY, THE",
          "BANANA KELLY HIGH SCHOOL",
          "BRONX EXPEDITIONARY LEARNING HIGH SCHOOL",
          "EAGLE ACADEMY FOR YOUNG MEN",
          "URBAN ASSEMBLY SCHOOL FOR APPLIED MATH AND SCIENCE, THE",
          "EXIMIUS COLLEGE PREPARATORY ACADEMY: A COLLEGE BOARD SCHOOL",
          "MOTT HALL BRONX HIGH SCHOOL",
          "BRONX CENTER FOR SCIENCE AND MATHEMATICS",
          "VALIDUS PREPARATORY ACADEMY: AN EXPEDITIONARY LEARNING SCHOOL",
          "LEADERSHIP INSTITUTE",
          "MORRIS ACADEMY FOR COLLABORATIVE STUDIES",
          "BRONX EARLY COLLEGE ACADEMY FOR TEACHING & LEARNING",
          "DREAMYARD PREPARATORY SCHOOL",
          "ACADEMY FOR LANGUAGE AND TECHNOLOGY",
          "BRONX INTERNATIONAL HIGH SCHOOL",
          "SCHOOL FOR EXCELLENCE",
          "BRONX HIGH SCHOOL OF BUSINESS",
          "BRONX HIGH SCHOOL FOR MEDICAL SCIENCE",
          "BRONX SCHOOL FOR LAW, GOVERNMENT AND JUSTICE",
          "FREDERICK DOUGLASS ACADEMY III SECONDARY SCHOOL",
          "BRONX LEADERSHIP ACADEMY HIGH SCHOOL",
          "HIGH SCHOOL FOR VIOLIN AND DANCE",
          "RIVERDALE / KINGSBRIDGE ACADEMY (MIDDLE SCHOOL / HIGH SCHOOL 141)",
          "BRONX ENGINEERING AND TECHNOLOGY ACADEMY",
          "THEATRE ARTS PRODUCTION COMPANY SCHOOL",
          "THE MARIE CURIE SCHOOL FOR MEDICINE, NURSING, AND HEALTH PROFESSIONS",
          "WEST BRONX ACADEMY FOR THE FUTURE",
          "KINGSBRIDGE INTERNATIONAL HIGH SCHOOL",
          "BRONX SCHOOL OF LAW AND FINANCE",
          "INTERNATIONAL SCHOOL FOR LIBERAL ARTS",
          "INsTECH ACADEMY (M.S. / HIGH SCHOOL 368)",
          "KNOWLEDGE AND POWER PREPARATORY ACADEMY INTERNATIONAL HIGH SCHOOL (KAPPA)",
          "HIGH SCHOOL FOR TEACHING AND THE PROFESSIONS",
          "BELMONT PREPARATORY HIGH SCHOOL",
          "FORDHAM HIGH SCHOOL FOR THE ARTS",
          "FORDHAM LEADERSHIP ACADEMY FOR BUSINESS AND TECHNOLOGY",
          "BRONX HIGH SCHOOL FOR LAW AND COMMUNITY SERVICE",
          "DEWITT CLINTON HIGH SCHOOL",
          "CELIA CRUZ BRONX HIGH SCHOOL OF MUSIC, THE",
          "BRONX HIGH SCHOOL OF SCIENCE",
          "MARBLE HILL HIGH SCHOOL FOR INTERNATIONAL STUDIES",
          "BRONX THEATRE HIGH SCHOOL",
          "DISCOVERY HIGH SCHOOL",
          "HIGH SCHOOL OF AMERICAN STUDIES AT LEHMAN COLLEGE",
          "BRONX HEALTH SCIENCES HIGH SCHOOL",
          "BRONX HIGH SCHOOL FOR WRITING AND COMMUNICATION ARTS",
          "BRONX LAB SCHOOL",
          "ACADEMY FOR SCHOLARSHIP AND ENTREPRENEURSHIP: A COLLEGE BOARD SCHOOL",
          "HIGH SCHOOL OF COMPUTERS AND TECHNOLOGY",
          "COLLEGIATE INSTITUTE FOR MATH AND SCIENCE",
          "BRONX ACADEMY OF HEALTH CAREERS",
          "ASTOR COLLEGIATE ACADEMY",
          "BRONX HIGH SCHOOL FOR THE VISUAL ARTS",
          "HARRY S TRUMAN HIGH SCHOOL",
          "NEW WORLD HIGH SCHOOL",
          "THE BRONXWOOD PREPARATORY ACADEMY",
          "PELHAM PREPARATORY ACADEMY",
          "HIGH SCHOOL FOR CONTEMPORARY ARTS",
          "BRONX AEROSPACE HIGH SCHOOL",
          "METROPOLITAN HIGH SCHOOL, THE",
          "EXPLORATIONS ACADEMY",
          "BRONX LATIN",
          "EAST BRONX ACADEMY FOR THE FUTURE",
          "PEACE AND DIVERSITY ACADEMY",
          "PAN AMERICAN INTERNATIONAL HIGH SCHOOL AT MONROE",
          "THE CINEMA SCHOOL",
          "BRONX CAREER AND COLLEGE PREPARATORY HIGH SCHOOL",
          "HIGH SCHOOL OF WORLD CULTURES",
          "FANNIE LOU HAMER FREEDOM HIGH SCHOOL",
          "WINGS ACADEMY",
          "MONROE ACADEMY FOR VISUAL ARTS & DESIGN"
         ],
         "textfont": {
          "color": "#4D5663"
         },
         "type": "scatter",
         "x": [
          52.6,
          51.4,
          50.8,
          49.9,
          56.8,
          54.8,
          54.7,
          46,
          42.3,
          15.7,
          55.5,
          7.3,
          71.4,
          56,
          99.7,
          62,
          34,
          50.8,
          50.8,
          53,
          38.9,
          47.7,
          57,
          50.1,
          49.9,
          0,
          50.7,
          53.4,
          54,
          53.8,
          55.9,
          47.8,
          46.2,
          51.5,
          55.9,
          51.2,
          54.3,
          47.7,
          45.1,
          57.8,
          54.1,
          48.5,
          56.7,
          85.4,
          48.2,
          17.3,
          69.1,
          83.5,
          42.1,
          47.7,
          43.4,
          51,
          51.1,
          52.8,
          57.7,
          52.8,
          56.8,
          36.6,
          55.6,
          48.9,
          59.3,
          42.2,
          53.3,
          67.9,
          47.6,
          46.2,
          64.7,
          59.2,
          40.5,
          48,
          12.7,
          42.9,
          67.3,
          41.4,
          42,
          40,
          50,
          38.7,
          51.9,
          44.7,
          17.5,
          46,
          49.2,
          50.2,
          47,
          55,
          48.5,
          59.2,
          55.7,
          48,
          45.9,
          46.3,
          47.4
         ],
         "y": [
          1090,
          945,
          1077,
          1097,
          1201,
          1257,
          1186,
          1103,
          1084,
          1181,
          1201,
          1158,
          1095,
          1223.4388059701494,
          1171,
          1158,
          1038,
          1164,
          1084,
          1223.4388059701494,
          1241,
          1223.4388059701494,
          1099,
          1131,
          1049,
          1134,
          1290,
          1169,
          1092,
          1396,
          1075,
          1081,
          1148,
          1223.4388059701494,
          1138,
          951,
          965,
          1074,
          1083,
          1221,
          1224,
          1121,
          1166,
          1039,
          1333,
          1150,
          1190,
          1157,
          1158,
          962,
          1182,
          934,
          1181,
          1180,
          1106,
          1222,
          1077,
          1119,
          1082,
          1255,
          1270,
          1969,
          1263,
          1064,
          1115,
          1920,
          1133,
          1147,
          1135,
          1141,
          1111,
          1348,
          1135,
          1169,
          1268,
          1151,
          1048,
          1112,
          1288,
          1126,
          1163,
          1055,
          1122,
          1251,
          1102,
          1155,
          970,
          1223.4388059701494,
          1223.4388059701494,
          939,
          1029,
          1114,
          1038
         ]
        },
        {
         "marker": {
          "color": "rgba(50, 171, 96, 1.0)",
          "line": {
           "width": 1.3
          },
          "opacity": 0.8,
          "size": 12,
          "symbol": "circle"
         },
         "mode": "markers",
         "name": "Brooklyn",
         "text": [
          "DR. SUSAN S. MCKINNEY SECONDARY SCHOOL OF THE ARTS",
          "URBAN ASSEMBLY HIGH SCHOOL OF MUSIC AND ART",
          "BROOKLYN COMMUNITY HIGH SCHOOL OF COMMUNICATION, ARTS AND MEDIA",
          "SCIENCE SKILLS CENTER HIGH SCHOOL FOR SCIENCE, TECHNOLOGY AND THE CREATIVE ARTS",
          "BROOKLYN TECHNICAL HIGH SCHOOL",
          "BROOKLYN INTERNATIONAL HIGH SCHOOL",
          "THE URBAN ASSEMBLY SCHOOL FOR LAW AND JUSTICE",
          "ACORN COMMUNITY HIGH SCHOOL",
          "URBAN ASSEMBLY INSTITUTE OF MATH AND SCIENCE FOR YOUNG WOMEN",
          "BEDFORD ACADEMY HIGH SCHOOL",
          "GEORGE WESTINGHOUSE CAREER AND TECHNICAL EDUCATION HIGH SCHOOL",
          "BENJAMIN BANNEKER ACADEMY",
          "CITY POLYTECHNIC HIGH SCHOOL OF ENGINEERING, ARCHITECTURE, AND TECHNOLOGY",
          "JUAN MOREL CAMPOS SECONDARY SCHOOL",
          "FOUNDATIONS ACADEMY",
          "BROOKLYN LATIN SCHOOL, THE",
          "GREEN SCHOOL: AN ACADEMY FOR ENVIRONMENTAL CAREERS",
          "PROGRESS HIGH SCHOOL FOR PROFESSIONAL CAREERS",
          "SCHOOL FOR LEGAL STUDIES",
          "THE HIGH SCHOOL FOR ENTERPRISE, BUSINESS AND TECHNOLOGY",
          "BROOKLYN PREPARATORY HIGH SCHOOL",
          "WILLIAMSBURG HIGH SCHOOL FOR ARCHITECTURE AND DESIGN",
          "WILLIAMSBURG PREPARATORY SCHOOL",
          "LYONS COMMUNITY SCHOOL",
          "AUTOMOTIVE HIGH SCHOOL",
          "FRANCES PERKINS ACADEMY",
          "EL PUENTE ACADEMY FOR PEACE AND JUSTICE",
          "BROOKLYN SCHOOL FOR GLOBAL STUDIES",
          "BROOKLYN SECONDARY SCHOOL FOR COLLABORATIVE STUDIES",
          "SECONDARY SCHOOL FOR LAW",
          "SECONDARY SCHOOL FOR JOURNALISM",
          "PARK SLOPE COLLEGIATE",
          "SCHOOL FOR INTERNATIONAL STUDIES",
          "COBBLE HILL SCHOOL OF AMERICAN STUDIES",
          "BROOKLYN HIGH SCHOOL OF THE ARTS",
          "SUNSET PARK HIGH SCHOOL",
          "FREDERICK DOUGLASS ACADEMY IV SECONDARY SCHOOL",
          "BOYS AND GIRLS HIGH SCHOOL",
          "BROOKLYN HIGH SCHOOL FOR LAW AND TECHNOLOGY",
          "THE BROOKLYN ACADEMY OF GLOBAL FINANCE",
          "ACADEMY FOR COLLEGE PREPARATION AND CAREER EXPLORATION: A COLLEGE BOARD SCHOOL",
          "ACADEMY OF HOSPITALITY AND TOURISM",
          "INTERNATIONAL HIGH SCHOOL AT PROSPECT HEIGHTS",
          "THE HIGH SCHOOL FOR GLOBAL CITIZENSHIP",
          "SCHOOL FOR HUMAN RIGHTS, THE",
          "SCHOOL FOR DEMOCRACY AND LEADERSHIP",
          "HIGH SCHOOL FOR YOUTH AND COMMUNITY DEVELOPMENT AT ERASMUS",
          "HIGH SCHOOL FOR SERVICE & LEARNING AT ERASMUS",
          "SCIENCE, TECHNOLOGY AND RESEARCH EARLY COLLEGE HIGH SCHOOL AT ERASMUS",
          "HIGH SCHOOL FOR PUBLIC SERVICE: HEROES OF TOMORROW",
          "BROOKLYN ACADEMY OF SCIENCE AND THE ENVIRONMENT",
          "BROOKLYN SCHOOL FOR MUSIC & THEATRE",
          "MEDGAR EVERS COLLEGE PREPARATORY SCHOOL",
          "CLARA BARTON HIGH SCHOOL",
          "IT TAKES A VILLAGE ACADEMY",
          "BROOKLYN GENERATION SCHOOL",
          "BROOKLYN THEATRE ARTS HIGH SCHOOL",
          "KURT HAHN EXPEDITIONARY LEARNING SCHOOL",
          "VICTORY COLLEGIATE HIGH SCHOOL",
          "ARTS & MEDIA PREPARATORY ACADEMY",
          "HIGH SCHOOL FOR INNOVATION IN ADVERTISING AND MEDIA",
          "CULTURAL ACADEMY FOR THE ARTS AND SCIENCES",
          "HIGH SCHOOL FOR MEDICAL PROFESSIONS",
          "ACADEMY FOR CONSERVATION AND THE ENVIRONMENT",
          "URBAN ACTION ACADEMY",
          "EAST NEW YORK FAMILY ACADEMY",
          "FDNY HIGH SCHOOL FOR FIRE AND LIFE SAFETY",
          "HIGH SCHOOL FOR CIVIL RIGHTS",
          "PERFORMING ARTS AND TECHNOLOGY HIGH SCHOOL",
          "WORLD ACADEMY FOR TOTAL COMMUNITY HEALTH HIGH SCHOOL",
          "MULTICULTURAL HIGH SCHOOL",
          "TRANSIT TECH CAREER AND TECHNICAL EDUCATION HIGH SCHOOL",
          "ACADEMY OF INNOVATIVE TECHNOLOGY",
          "BROOKLYN LAB SCHOOL",
          "CYPRESS HILLS COLLEGIATE PREPARATORY SCHOOL",
          "W. H. MAXWELL CAREER AND TECHNICAL EDUCATION HIGH SCHOOL",
          "THE SCHOOL FOR CLASSICS: AN ACADEMY OF THINKERS, WRITERS AND PERFORMERS",
          "NEW UTRECHT HIGH SCHOOL",
          "HIGH SCHOOL OF TELECOMMUNICATION ARTS AND TECHNOLOGY",
          "FORT HAMILTON HIGH SCHOOL",
          "FRANKLIN DELANO ROOSEVELT HIGH SCHOOL",
          "THE URBAN ASSEMBLY SCHOOL FOR CRIMINAL JUSTICE",
          "INTERNATIONAL HIGH SCHOOL AT LAFAYETTE",
          "RACHEL CARSON HIGH SCHOOL FOR COASTAL STUDIES",
          "HIGH SCHOOL OF SPORTS MANAGEMENT",
          "ABRAHAM LINCOLN HIGH SCHOOL",
          "KINGSBOROUGH EARLY COLLEGE SCHOOL",
          "EDWARD R. MURROW HIGH SCHOOL",
          "JOHN DEWEY HIGH SCHOOL",
          "LIFE ACADEMY HIGH SCHOOL FOR FILM AND MUSIC",
          "EXPEDITIONARY LEARNING SCHOOL FOR COMMUNITY LEADERS",
          "WILLIAM E. GRADY CAREER AND TECHNICAL EDUCATION HIGH SCHOOL",
          "BROOKLYN STUDIO SECONDARY SCHOOL",
          "MIDWOOD HIGH SCHOOL",
          "JAMES MADISON HIGH SCHOOL",
          "LEON M. GOLDSTEIN HIGH SCHOOL FOR THE SCIENCES",
          "BROOKLYN COLLEGE ACADEMY",
          "BROOKLYN COLLEGIATE: A COLLEGE BOARD SCHOOL",
          "FREDERICK DOUGLASS ACADEMY VII HIGH SCHOOL",
          "TEACHERS PREPARATORY HIGH SCHOOL",
          "ACADEMY FOR ENVIRONMENTAL LEADERSHIP",
          "EBC HIGH SCHOOL FOR PUBLIC SERVICE–BUSHWICK",
          "BUSHWICK SCHOOL FOR SOCIAL JUSTICE",
          "ACADEMY OF URBAN PLANNING",
          "ALL CITY LEADERSHIP SECONDARY SCHOOL",
          "BUSHWICK LEADERS HIGH SCHOOL FOR ACADEMIC EXCELLENCE"
         ],
         "textfont": {
          "color": "#4D5663"
         },
         "type": "scatter",
         "x": [
          63,
          57.3,
          54.5,
          43.9,
          41.7,
          51.8,
          60.4,
          44.2,
          100,
          51,
          24.5,
          53.9,
          20.6,
          45.3,
          43.3,
          45.1,
          53.8,
          51.5,
          54.2,
          34.3,
          52.2,
          27.4,
          49,
          46.3,
          4.4,
          23.1,
          57.3,
          43.8,
          40.9,
          55.8,
          57.7,
          47.2,
          49.2,
          56.1,
          66.1,
          49.3,
          51.3,
          38.3,
          48.4,
          48.4,
          46.2,
          50.2,
          40.9,
          49.9,
          48.4,
          48,
          38.4,
          36.7,
          47,
          75.1,
          45.6,
          67.2,
          58.2,
          76.2,
          51,
          39,
          63.9,
          35.7,
          51.1,
          52.6,
          33.5,
          48.5,
          78.5,
          45.3,
          37.4,
          56.8,
          18.9,
          45.6,
          48.6,
          63.2,
          50.2,
          15.9,
          29.7,
          41.6,
          52.2,
          70.2,
          62.4,
          40.7,
          46.5,
          46.6,
          41.6,
          100,
          41.1,
          46.4,
          11.1,
          43.6,
          42.2,
          57.6,
          48.5,
          49,
          48.7,
          22,
          49.9,
          54.7,
          45.6,
          58.8,
          63.7,
          49.3,
          51.5,
          65.9,
          50,
          47.9,
          51.6,
          45.5,
          47.9,
          46.8
         ],
         "y": [
          1074,
          1080,
          1114,
          1211,
          1833,
          981,
          1206,
          1116,
          1223.4388059701494,
          1312,
          1189,
          1391,
          1353,
          1085,
          1223.4388059701494,
          1740,
          1189,
          1114,
          1204,
          1215,
          1090,
          1112,
          1187,
          1103,
          1093,
          1122,
          1035,
          1111,
          1179,
          1203,
          1169,
          1175,
          1212,
          1185,
          1258,
          1223.4388059701494,
          1068,
          1097,
          1092,
          1223.4388059701494,
          1139,
          1045,
          913,
          1176,
          1088,
          1153,
          1027,
          1105,
          1360,
          1273,
          1143,
          1151,
          1436,
          1251,
          963,
          1145,
          1118,
          1092,
          1143,
          1080,
          1183,
          1169,
          1159,
          1111,
          1135,
          1242,
          1023,
          1054,
          1149,
          1106,
          887,
          1193,
          1096,
          1108,
          1129,
          1102,
          1157,
          1272,
          1323,
          1306,
          1244,
          1223.4388059701494,
          1026,
          1237,
          1164,
          1226,
          1223.4388059701494,
          1431,
          1262,
          1124,
          1079,
          1184,
          1313,
          1473,
          1350,
          1627,
          1352,
          1185,
          1091,
          1196,
          1098,
          1154,
          1035,
          1060,
          1315,
          1055
         ]
        },
        {
         "marker": {
          "color": "rgba(128, 0, 128, 1.0)",
          "line": {
           "width": 1.3
          },
          "opacity": 0.8,
          "size": 12,
          "symbol": "circle"
         },
         "mode": "markers",
         "name": "Queens",
         "text": [
          "ACADEMY OF FINANCE AND ENTERPRISE",
          "HIGH SCHOOL OF APPLIED COMMUNICATION",
          "CIVIC LEADERSHIP ACADEMY",
          "PAN AMERICAN INTERNATIONAL HIGH SCHOOL",
          "BARD HIGH SCHOOL EARLY COLLEGE II",
          "NEWTOWN HIGH SCHOOL",
          "GROVER CLEVELAND HIGH SCHOOL",
          "MIDDLE COLLEGE HIGH SCHOOL AT LAGUARDIA COMMUNITY COLLEGE",
          "INTERNATIONAL HIGH SCHOOL AT LAGUARDIA COMMUNITY COLLEGE",
          "HIGH SCHOOL FOR ARTS AND BUSINESS",
          "ROBERT F. WAGNER, JR. SECONDARY SCHOOL FOR ARTS AND TECHNOLOGY",
          "QUEENS VOCATIONAL AND TECHNICAL HIGH SCHOOL",
          "AVIATION CAREER & TECHNICAL EDUCATION HIGH SCHOOL",
          "QUEENS SCHOOL OF INQUIRY, THE",
          "FLUSHING INTERNATIONAL HIGH SCHOOL",
          "EASTsWEST SCHOOL OF INTERNATIONAL STUDIES",
          "WORLD JOURNALISM PREPARATORY: A COLLEGE BOARD SCHOOL",
          "JOHN BOWNE HIGH SCHOOL",
          "FLUSHING HIGH SCHOOL",
          "TOWNSEND HARRIS HIGH SCHOOL",
          "ROBERT F. KENNEDY COMMUNITY HIGH SCHOOL",
          "BENJAMIN N. CARDOZO HIGH SCHOOL",
          "FRANCIS LEWIS HIGH SCHOOL",
          "MARTIN VAN BUREN HIGH SCHOOL",
          "BAYSIDE HIGH SCHOOL",
          "QUEENS HIGH SCHOOL OF TEACHING, LIBERAL ARTS AND THE SCIENCES",
          "FREDERICK DOUGLASS ACADEMY VI HIGH SCHOOL",
          "CHANNEL VIEW SCHOOL FOR RESEARCH",
          "QUEENS HIGH SCHOOL FOR INFORMATION, RESEARCH, AND TECHNOLOGY",
          "ROBERT H. GODDARD HIGH SCHOOL OF COMMUNICATION ARTS AND TECHNOLOGY",
          "ACADEMY OF MEDICAL TECHNOLOGY: A COLLEGE BOARD SCHOOL",
          "SCHOLARS' ACADEMY",
          "AUGUST MARTIN HIGH SCHOOL",
          "RICHMOND HILL HIGH SCHOOL",
          "JOHN ADAMS HIGH SCHOOL",
          "HIGH SCHOOL FOR CONSTRUCTION TRADES, ENGINEERING AND ARCHITECTURE",
          "YORK EARLY COLLEGE ACADEMY",
          "QUEENS COLLEGIATE: A COLLEGE BOARD SCHOOL",
          "HILLSIDE ARTS & LETTERS ACADEMY",
          "FOREST HILLS HIGH SCHOOL",
          "HILLCREST HIGH SCHOOL",
          "THOMAS A. EDISON CAREER AND TECHNICAL EDUCATION HIGH SCHOOL",
          "QUEENS GATEWAY TO HEALTH SCIENCES SECONDARY SCHOOL",
          "QUEENS METROPOLITAN HIGH SCHOOL",
          "QUEENS HIGH SCHOOL FOR THE SCIENCES AT YORK COLLEGE",
          "HIGH SCHOOL FOR LAW ENFORCEMENT AND PUBLIC SAFETY",
          "YOUNG WOMEN'S LEADERSHIP SCHOOL, QUEENS",
          "QUEENS PREPARATORY ACADEMY",
          "PATHWAYS COLLEGE PREPARATORY SCHOOL: A COLLEGE BOARD SCHOOL",
          "EXCELSIOR PREPARATORY HIGH SCHOOL",
          "GEORGE WASHINGTON CARVER HIGH SCHOOL FOR THE SCIENCES",
          "PREPARATORY ACADEMY FOR WRITERS: A COLLEGE BOARD SCHOOL",
          "CAMBRIA HEIGHTS ACADEMY",
          "MATHEMATICS, SCIENCE RESEARCH AND TECHNOLOGY MAGNET HIGH SCHOOL",
          "HUMANITIES & ARTS MAGNET HIGH SCHOOL",
          "YOUNG WOMEN'S LEADERSHIP SCHOOL, ASTORIA",
          "ACADEMY FOR CAREERS IN TELEVISION AND FILM",
          "WILLIAM CULLEN BRYANT HIGH SCHOOL",
          "LONG ISLAND CITY HIGH SCHOOL",
          "FRANK SINATRA SCHOOL OF THE ARTS HIGH SCHOOL",
          "INFORMATION TECHNOLOGY HIGH SCHOOL",
          "NEWCOMERS HIGH SCHOOL",
          "ACADEMY OF AMERICAN STUDIES",
          "BACCALAUREATE SCHOOL FOR GLOBAL EDUCATION"
         ],
         "textfont": {
          "color": "#4D5663"
         },
         "type": "scatter",
         "x": [
          50.7,
          56.2,
          55.5,
          52.2,
          60.7,
          42.5,
          45,
          47.1,
          54,
          56.9,
          53.4,
          39.7,
          14.7,
          53.3,
          42.7,
          45.9,
          57.8,
          50.8,
          44.2,
          71.1,
          46.2,
          52.6,
          50.8,
          45.7,
          50.6,
          54.2,
          47.4,
          48.9,
          45.5,
          51.9,
          56.2,
          56.1,
          44.8,
          47,
          45.5,
          32.7,
          48.9,
          50.1,
          53,
          51.9,
          53.9,
          34.9,
          61.9,
          50.4,
          43.5,
          47,
          100,
          44,
          46.7,
          43.1,
          52.7,
          56.9,
          44.9,
          39.6,
          57.2,
          100,
          46.8,
          46.3,
          48.7,
          70,
          28.2,
          46.8,
          55,
          55.2
         ],
         "y": [
          1280,
          1219,
          1240,
          951,
          1663,
          1203,
          1211,
          1177,
          1064,
          1174,
          1330,
          1270,
          1364,
          1396,
          1049,
          1271,
          1441,
          1243,
          1216,
          1910,
          1330,
          1514,
          1474,
          1172,
          1449,
          1279,
          1145,
          1252,
          1156,
          1265,
          1094,
          1532,
          1108,
          1154,
          1192,
          1345,
          1223.4388059701494,
          1265,
          1223.4388059701494,
          1407,
          1194,
          1372,
          1538,
          1223.4388059701494,
          1868,
          1196,
          1316,
          1099,
          1173,
          1202,
          1287,
          1100,
          1223.4388059701494,
          1220,
          1151,
          1223.4388059701494,
          1255,
          1275,
          1218,
          1494,
          1239,
          1127,
          1470,
          1636
         ]
        },
        {
         "marker": {
          "color": "rgba(219, 64, 82, 1.0)",
          "line": {
           "width": 1.3
          },
          "opacity": 0.8,
          "size": 12,
          "symbol": "circle"
         },
         "mode": "markers",
         "name": "Staten Island",
         "text": [
          "CSI HIGH SCHOOL FOR INTERNATIONAL STUDIES",
          "GAYNOR MCCOWN EXPEDITIONARY LEARNING SCHOOL",
          "THE MICHAEL J. PETRIDES SCHOOL",
          "NEW DORP HIGH SCHOOL",
          "PORT RICHMOND HIGH SCHOOL",
          "CURTIS HIGH SCHOOL",
          "TOTTENVILLE HIGH SCHOOL",
          "SUSAN E. WAGNER HIGH SCHOOL",
          "RALPH R. MCKEE CAREER AND TECHNICAL EDUCATION HIGH SCHOOL",
          "STATEN ISLAND TECHNICAL HIGH SCHOOL"
         ],
         "textfont": {
          "color": "#4D5663"
         },
         "type": "scatter",
         "x": [
          58.5,
          48,
          50.8,
          47.5,
          45.2,
          53.6,
          50.4,
          49.2,
          32.9,
          43
         ],
         "y": [
          1353,
          1195,
          1426,
          1277,
          1279,
          1301,
          1418,
          1388,
          1235,
          1953
         ]
        }
       ],
       "layout": {
        "legend": {
         "bgcolor": "#F5F6F9",
         "font": {
          "color": "#4D5663"
         }
        },
        "paper_bgcolor": "#F5F6F9",
        "plot_bgcolor": "#F5F6F9",
        "shapes": [
         {
          "line": {
           "color": "#000000",
           "dash": "dash",
           "width": 1
          },
          "type": "line",
          "x0": 0,
          "x1": 1,
          "xref": "paper",
          "y0": 1223.438805970149,
          "y1": 1223.438805970149,
          "yref": "y"
         },
         {
          "line": {
           "color": "#000000",
           "dash": "dash",
           "width": 1
          },
          "type": "line",
          "x0": 50.62066115702485,
          "x1": 50.62066115702485,
          "xref": "x",
          "y0": 0,
          "y1": 1,
          "yref": "paper"
         }
        ],
        "title": "Share of female students vs. SAT score by school <br> dashed lines: average of entire dataset",
        "titlefont": {
         "color": "#4D5663"
        },
        "xaxis": {
         "gridcolor": "#E1E5ED",
         "showgrid": true,
         "tickfont": {
          "color": "#4D5663"
         },
         "title": "Share females, %",
         "titlefont": {
          "color": "#4D5663"
         },
         "zerolinecolor": "#E1E5ED"
        },
        "yaxis": {
         "gridcolor": "#E1E5ED",
         "showgrid": true,
         "tickfont": {
          "color": "#4D5663"
         },
         "title": "Avg. SAT score",
         "titlefont": {
          "color": "#4D5663"
         },
         "zerolinecolor": "#E1E5ED"
        }
       }
      },
      "text/html": [
       "<div>\n",
       "        \n",
       "        \n",
       "            <div id=\"4fa02086-2079-4289-a865-1c651775c8f6\" class=\"plotly-graph-div\" style=\"height:525px; width:100%;\"></div>\n",
       "            <script type=\"text/javascript\">\n",
       "                require([\"plotly\"], function(Plotly) {\n",
       "                    window.PLOTLYENV=window.PLOTLYENV || {};\n",
       "                    window.PLOTLYENV.BASE_URL='https://plot.ly';\n",
       "                    \n",
       "                if (document.getElementById(\"4fa02086-2079-4289-a865-1c651775c8f6\")) {\n",
       "                    Plotly.newPlot(\n",
       "                        '4fa02086-2079-4289-a865-1c651775c8f6',\n",
       "                        [{\"marker\": {\"color\": \"rgba(255, 153, 51, 1.0)\", \"line\": {\"width\": 1.3}, \"opacity\": 0.8, \"size\": 12, \"symbol\": \"circle\"}, \"mode\": \"markers\", \"name\": \"Manhattan\", \"text\": [\"HENRY STREET SCHOOL FOR INTERNATIONAL STUDIES\", \"UNIVERSITY NEIGHBORHOOD HIGH SCHOOL\", \"EAST SIDE COMMUNITY SCHOOL\", \"MARTA VALLE HIGH SCHOOL\", \"NEW EXPLORATIONS INTO SCIENCE, TECHNOLOGY AND MATH HIGH SCHOOL\", \"BARD HIGH SCHOOL EARLY COLLEGE\", \"47 THE AMERICAN SIGN LANGUAGE AND ENGLISH SECONDARY SCHOOL\", \"FOOD AND FINANCE HIGH SCHOOL\", \"ESSEX STREET ACADEMY\", \"HIGH SCHOOL OF HOSPITALITY MANAGEMENT\", \"PACE HIGH SCHOOL\", \"URBAN ASSEMBLY SCHOOL OF DESIGN AND CONSTRUCTION, THE\", \"FACING HISTORY SCHOOL, THE\", \"URBAN ASSEMBLY ACADEMY OF GOVERNMENT AND LAW, THE\", \"LOWER MANHATTAN ARTS ACADEMY\", \"URBAN ASSEMBLY SCHOOL OF BUSINESS FOR YOUNG WOMEN, THE\", \"GRAMERCY ARTS HIGH SCHOOL\", \"NYC ISCHOOL\", \"MANHATTAN BUSINESS ACADEMY\", \"BUSINESS OF SPORTS SCHOOL\", \"THE HIGH SCHOOL FOR LANGUAGE AND DIPLOMACY\", \"HIGH SCHOOL FOR ENVIRONMENTAL STUDIES\", \"PROFESSIONAL PERFORMING ARTS HIGH SCHOOL\", \"BARUCH COLLEGE CAMPUS HIGH SCHOOL\", \"N.Y.C. LAB SCHOOL FOR COLLABORATIVE STUDIES\", \"N.Y.C. MUSEUM SCHOOL\", \"ELEANOR ROOSEVELT HIGH SCHOOL\", \"MILLENNIUM HIGH SCHOOL\", \"LANDMARK HIGH SCHOOL\", \"HIGH SCHOOL FOR HEALTH PROFESSIONS AND HUMAN SERVICES\", \"LEADERSHIP AND PUBLIC SERVICE HIGH SCHOOL\", \"MANHATTAN ACADEMY FOR ARTS & LANGUAGE\", \"HUDSON HIGH SCHOOL OF LEARNING TECHNOLOGIES\", \"INTERNATIONAL HIGH SCHOOL AT UNION SQUARE\", \"MANHATTAN VILLAGE ACADEMY\", \"VANGUARD HIGH SCHOOL\", \"MANHATTAN INTERNATIONAL HIGH SCHOOL\", \"STUYVESANT HIGH SCHOOL\", \"HIGH SCHOOL OF ECONOMICS AND FINANCE\", \"UNITY CENTER FOR URBAN TECHNOLOGIES\", \"TALENT UNLIMITED HIGH SCHOOL\", \"MURRY BERGTRAUM HIGH SCHOOL FOR BUSINESS CAREERS\", \"JACQUELINE KENNEDY ONASSIS HIGH SCHOOL\", \"REPERTORY COMPANY HIGH SCHOOL FOR THEATRE ARTS\", \"MANHATTAN BRIDGES HIGH SCHOOL\", \"NEW DESIGN HIGH SCHOOL\", \"HIGH SCHOOL FOR DUAL LANGUAGE AND ASIAN STUDIES\", \"THE URBAN ASSEMBLY NEW YORK HARBOR SCHOOL\", \"RICHARD R. GREEN HIGH SCHOOL OF TEACHING\", \"THE HIGH SCHOOL OF FASHION INDUSTRIES\", \"HUMANITIES PREPARATORY ACADEMY\", \"CHELSEA CAREER AND TECHNICAL EDUCATION HIGH SCHOOL\", \"ART AND DESIGN HIGH SCHOOL\", \"LIFE SCIENCES SECONDARY SCHOOL\", \"HIGH SCHOOL FOR ARTS, IMAGINATION AND INQUIRY\", \"URBAN ASSEMBLY SCHOOL FOR MEDIA STUDIES, THE\", \"THE URBAN ASSEMBLY SCHOOL FOR GREEN CAREERS\", \"THE GLOBAL LEARNING COLLABORATIVE\", \"WADLEIGH SECONDARY SCHOOL FOR THE PERFORMING & VISUAL ARTS\", \"FRANK MCCOURT HIGH SCHOOL\", \"BEACON HIGH SCHOOL\", \"FIORELLO H. LAGUARDIA HIGH SCHOOL OF MUSIC & ART AND PERFORMING ARTS\", \"HIGH SCHOOL FOR LAW, ADVOCACY AND COMMUNITY JUSTICE\", \"HIGH SCHOOL OF ARTS AND TECHNOLOGY\", \"MANHATTAN / HUNTER SCIENCE HIGH SCHOOL\", \"FREDERICK DOUGLASS ACADEMY II SECONDARY SCHOOL\", \"COALITION SCHOOL FOR SOCIAL CHANGE\", \"MANHATTAN CENTER FOR SCIENCE AND MATHEMATICS\", \"PARK EAST HIGH SCHOOL\", \"CENTRAL PARK EAST HIGH SCHOOL\", \"YOUNG WOMEN'S LEADERSHIP SCHOOL\", \"YOUNG WOMEN'S LEADERSHIP SCHOOL\", \"HERITAGE SCHOOL, THE\", \"MOTT HALL HIGH SCHOOL\", \"COLUMBIA SECONDARY SCHOOL FOR MATH, SCIENCE, AND ENGINEERING\", \"ACADEMY FOR SOCIAL ACTION: A COLLEGE BOARD SCHOOL\", \"URBAN ASSEMBLY SCHOOL FOR THE PERFORMING ARTS\", \"FREDERICK DOUGLASS ACADEMY\", \"THURGOOD MARSHALL ACADEMY FOR LEARNING AND SOCIAL CHANGE\", \"HIGH SCHOOL FOR MATHEMATICS, SCIENCE AND ENGINEERING AT CITY COLLEGE\", \"CITY COLLEGE ACADEMY OF THE ARTS\", \"COMMUNITY HEALTH ACADEMY OF THE HEIGHTS\", \"WASHINGTON HEIGHTS EXPEDITIONARY LEARNING SCHOOL\", \"HIGH SCHOOL FOR EXCELLENCE AND INNOVATION\", \"HIGH SCHOOL FOR INTERNATIONAL BUSINESS AND FINANCE\", \"HIGH SCHOOL FOR MEDIA AND COMMUNICATIONS\", \"HIGH SCHOOL FOR LAW AND PUBLIC SERVICE\", \"HIGH SCHOOL FOR HEALTH CAREERS AND SCIENCES\", \"A. PHILIP RANDOLPH CAMPUS HIGH SCHOOL\", \"GREGORIO LUPERON HIGH SCHOOL FOR SCIENCE AND MATHEMATICS\"], \"textfont\": {\"color\": \"#4D5663\"}, \"type\": \"scatter\", \"x\": [38.6, 42.6, 45.3, 53.7, 50.8, 68.7, 57.5, 55.0, 46.6, 67.8, 56.3, 25.1, 49.4, 56.1, 60.1, 100.0, 73.7, 51.3, 41.0, 27.6, 52.0, 49.6, 74.7, 56.0, 53.0, 57.6, 67.5, 61.8, 51.5, 70.6, 53.9, 45.1, 39.4, 38.6, 61.5, 53.8, 55.7, 40.7, 45.5, 37.6, 78.6, 50.9, 59.4, 78.8, 48.6, 61.7, 48.7, 39.1, 67.4, 92.7, 57.3, 35.0, 53.3, 48.4, 44.3, 42.1, 43.1, 48.6, 61.6, 53.4, 61.0, 73.6, 59.9, 32.3, 58.9, 45.8, 55.6, 53.6, 57.9, 67.9, 100.0, 100.0, 51.4, 46.5, 50.4, 51.3, 74.6, 47.8, 55.9, 34.2, 60.4, 47.7, 44.2, 47.2, 36.2, 36.5, 41.4, 47.3, 50.1, 51.1], \"y\": [1122.0, 1172.0, 1149.0, 1207.0, 1621.0, 1856.0, 1182.0, 1194.0, 1156.0, 1111.0, 1293.0, 1269.0, 1051.0, 1148.0, 1200.0, 1127.0, 1176.0, 1435.0, 1223.4388059701494, 1223.4388059701494, 1223.4388059701494, 1419.0, 1522.0, 1577.0, 1677.0, 1419.0, 1758.0, 1614.0, 1170.0, 1306.0, 1233.0, 1223.4388059701494, 1223.4388059701494, 1223.4388059701494, 1372.0, 1199.0, 1227.0, 2096.0, 1374.0, 1070.0, 1416.0, 1240.0, 1239.0, 1253.0, 1058.0, 1168.0, 1424.0, 1212.0, 1195.0, 1257.0, 1255.0, 1207.0, 1315.0, 1236.0, 1132.0, 1144.0, 1223.4388059701494, 1223.4388059701494, 1109.0, 1223.4388059701494, 1744.0, 1707.0, 1196.0, 1277.0, 1446.0, 1096.0, 1084.0, 1430.0, 1128.0, 1221.0, 1326.0, 1326.0, 1054.0, 1210.0, 1223.4388059701494, 1062.0, 1077.0, 1374.0, 1202.0, 1847.0, 1270.0, 1105.0, 1174.0, 1223.4388059701494, 1127.0, 1098.0, 1102.0, 1224.0, 1309.0, 1014.0]}, {\"marker\": {\"color\": \"rgba(55, 128, 191, 1.0)\", \"line\": {\"width\": 1.3}, \"opacity\": 0.8, \"size\": 12, \"symbol\": \"circle\"}, \"mode\": \"markers\", \"name\": \"Bronx\", \"text\": [\"SOUTH BRONX PREPARATORY: A COLLEGE BOARD SCHOOL\", \"INTERNATIONAL COMMUNITY HIGH SCHOOL\", \"COMMUNITY SCHOOL FOR SOCIAL JUSTICE\", \"MOTT HAVEN VILLAGE PREPARATORY HIGH SCHOOL\", \"UNIVERSITY HEIGHTS SECONDARY SCHOOL\", \"HOSTOSsLINCOLN ACADEMY OF SCIENCE\", \"FOREIGN LANGUAGE ACADEMY OF GLOBAL STUDIES\", \"BRONX LEADERSHIP ACADEMY II HIGH SCHOOL\", \"NEW EXPLORERS HIGH SCHOOL\", \"URBAN ASSEMBLY SCHOOL FOR CAREERS IN SPORTS\", \"BRONX ACADEMY OF LETTERS\", \"ALFRED E. SMITH CAREER AND TECHNICAL EDUCATION HIGH SCHOOL\", \"HEALTH OPPORTUNITIES HIGH SCHOOL\", \"BRONX STUDIO SCHOOL FOR WRITERS AND ARTISTS\", \"WOMEN'S ACADEMY OF EXCELLENCE\", \"RENAISSANCE HIGH SCHOOL FOR MUSICAL THEATER & TECHNOLOGY\", \"PABLO NERUDA ACADEMY FOR ARCHITECTURE AND WORLD STUDIES\", \"MILLENNIUM ART ACADEMY\", \"HOLCOMBE L. RUCKER SCHOOL OF COMMUNITY RESEARCH\", \"ANTONIA PANTOJA PREPARATORY ACADEMY, A COLLEGE BOARD SCHOOL\", \"HERBERT H. LEHMAN HIGH SCHOOL\", \"BRONX BRIDGES HIGH SCHOOL\", \"FELISA RINCON DE GAUTIER INSTITUTE FOR LAW AND PUBLIC POLICY, THE\", \"BANANA KELLY HIGH SCHOOL\", \"BRONX EXPEDITIONARY LEARNING HIGH SCHOOL\", \"EAGLE ACADEMY FOR YOUNG MEN\", \"URBAN ASSEMBLY SCHOOL FOR APPLIED MATH AND SCIENCE, THE\", \"EXIMIUS COLLEGE PREPARATORY ACADEMY: A COLLEGE BOARD SCHOOL\", \"MOTT HALL BRONX HIGH SCHOOL\", \"BRONX CENTER FOR SCIENCE AND MATHEMATICS\", \"VALIDUS PREPARATORY ACADEMY: AN EXPEDITIONARY LEARNING SCHOOL\", \"LEADERSHIP INSTITUTE\", \"MORRIS ACADEMY FOR COLLABORATIVE STUDIES\", \"BRONX EARLY COLLEGE ACADEMY FOR TEACHING & LEARNING\", \"DREAMYARD PREPARATORY SCHOOL\", \"ACADEMY FOR LANGUAGE AND TECHNOLOGY\", \"BRONX INTERNATIONAL HIGH SCHOOL\", \"SCHOOL FOR EXCELLENCE\", \"BRONX HIGH SCHOOL OF BUSINESS\", \"BRONX HIGH SCHOOL FOR MEDICAL SCIENCE\", \"BRONX SCHOOL FOR LAW, GOVERNMENT AND JUSTICE\", \"FREDERICK DOUGLASS ACADEMY III SECONDARY SCHOOL\", \"BRONX LEADERSHIP ACADEMY HIGH SCHOOL\", \"HIGH SCHOOL FOR VIOLIN AND DANCE\", \"RIVERDALE / KINGSBRIDGE ACADEMY (MIDDLE SCHOOL / HIGH SCHOOL 141)\", \"BRONX ENGINEERING AND TECHNOLOGY ACADEMY\", \"THEATRE ARTS PRODUCTION COMPANY SCHOOL\", \"THE MARIE CURIE SCHOOL FOR MEDICINE, NURSING, AND HEALTH PROFESSIONS\", \"WEST BRONX ACADEMY FOR THE FUTURE\", \"KINGSBRIDGE INTERNATIONAL HIGH SCHOOL\", \"BRONX SCHOOL OF LAW AND FINANCE\", \"INTERNATIONAL SCHOOL FOR LIBERAL ARTS\", \"INsTECH ACADEMY (M.S. / HIGH SCHOOL 368)\", \"KNOWLEDGE AND POWER PREPARATORY ACADEMY INTERNATIONAL HIGH SCHOOL (KAPPA)\", \"HIGH SCHOOL FOR TEACHING AND THE PROFESSIONS\", \"BELMONT PREPARATORY HIGH SCHOOL\", \"FORDHAM HIGH SCHOOL FOR THE ARTS\", \"FORDHAM LEADERSHIP ACADEMY FOR BUSINESS AND TECHNOLOGY\", \"BRONX HIGH SCHOOL FOR LAW AND COMMUNITY SERVICE\", \"DEWITT CLINTON HIGH SCHOOL\", \"CELIA CRUZ BRONX HIGH SCHOOL OF MUSIC, THE\", \"BRONX HIGH SCHOOL OF SCIENCE\", \"MARBLE HILL HIGH SCHOOL FOR INTERNATIONAL STUDIES\", \"BRONX THEATRE HIGH SCHOOL\", \"DISCOVERY HIGH SCHOOL\", \"HIGH SCHOOL OF AMERICAN STUDIES AT LEHMAN COLLEGE\", \"BRONX HEALTH SCIENCES HIGH SCHOOL\", \"BRONX HIGH SCHOOL FOR WRITING AND COMMUNICATION ARTS\", \"BRONX LAB SCHOOL\", \"ACADEMY FOR SCHOLARSHIP AND ENTREPRENEURSHIP: A COLLEGE BOARD SCHOOL\", \"HIGH SCHOOL OF COMPUTERS AND TECHNOLOGY\", \"COLLEGIATE INSTITUTE FOR MATH AND SCIENCE\", \"BRONX ACADEMY OF HEALTH CAREERS\", \"ASTOR COLLEGIATE ACADEMY\", \"BRONX HIGH SCHOOL FOR THE VISUAL ARTS\", \"HARRY S TRUMAN HIGH SCHOOL\", \"NEW WORLD HIGH SCHOOL\", \"THE BRONXWOOD PREPARATORY ACADEMY\", \"PELHAM PREPARATORY ACADEMY\", \"HIGH SCHOOL FOR CONTEMPORARY ARTS\", \"BRONX AEROSPACE HIGH SCHOOL\", \"METROPOLITAN HIGH SCHOOL, THE\", \"EXPLORATIONS ACADEMY\", \"BRONX LATIN\", \"EAST BRONX ACADEMY FOR THE FUTURE\", \"PEACE AND DIVERSITY ACADEMY\", \"PAN AMERICAN INTERNATIONAL HIGH SCHOOL AT MONROE\", \"THE CINEMA SCHOOL\", \"BRONX CAREER AND COLLEGE PREPARATORY HIGH SCHOOL\", \"HIGH SCHOOL OF WORLD CULTURES\", \"FANNIE LOU HAMER FREEDOM HIGH SCHOOL\", \"WINGS ACADEMY\", \"MONROE ACADEMY FOR VISUAL ARTS & DESIGN\"], \"textfont\": {\"color\": \"#4D5663\"}, \"type\": \"scatter\", \"x\": [52.6, 51.4, 50.8, 49.9, 56.8, 54.8, 54.7, 46.0, 42.3, 15.7, 55.5, 7.3, 71.4, 56.0, 99.7, 62.0, 34.0, 50.8, 50.8, 53.0, 38.9, 47.7, 57.0, 50.1, 49.9, 0.0, 50.7, 53.4, 54.0, 53.8, 55.9, 47.8, 46.2, 51.5, 55.9, 51.2, 54.3, 47.7, 45.1, 57.8, 54.1, 48.5, 56.7, 85.4, 48.2, 17.3, 69.1, 83.5, 42.1, 47.7, 43.4, 51.0, 51.1, 52.8, 57.7, 52.8, 56.8, 36.6, 55.6, 48.9, 59.3, 42.2, 53.3, 67.9, 47.6, 46.2, 64.7, 59.2, 40.5, 48.0, 12.7, 42.9, 67.3, 41.4, 42.0, 40.0, 50.0, 38.7, 51.9, 44.7, 17.5, 46.0, 49.2, 50.2, 47.0, 55.0, 48.5, 59.2, 55.7, 48.0, 45.9, 46.3, 47.4], \"y\": [1090.0, 945.0, 1077.0, 1097.0, 1201.0, 1257.0, 1186.0, 1103.0, 1084.0, 1181.0, 1201.0, 1158.0, 1095.0, 1223.4388059701494, 1171.0, 1158.0, 1038.0, 1164.0, 1084.0, 1223.4388059701494, 1241.0, 1223.4388059701494, 1099.0, 1131.0, 1049.0, 1134.0, 1290.0, 1169.0, 1092.0, 1396.0, 1075.0, 1081.0, 1148.0, 1223.4388059701494, 1138.0, 951.0, 965.0, 1074.0, 1083.0, 1221.0, 1224.0, 1121.0, 1166.0, 1039.0, 1333.0, 1150.0, 1190.0, 1157.0, 1158.0, 962.0, 1182.0, 934.0, 1181.0, 1180.0, 1106.0, 1222.0, 1077.0, 1119.0, 1082.0, 1255.0, 1270.0, 1969.0, 1263.0, 1064.0, 1115.0, 1920.0, 1133.0, 1147.0, 1135.0, 1141.0, 1111.0, 1348.0, 1135.0, 1169.0, 1268.0, 1151.0, 1048.0, 1112.0, 1288.0, 1126.0, 1163.0, 1055.0, 1122.0, 1251.0, 1102.0, 1155.0, 970.0, 1223.4388059701494, 1223.4388059701494, 939.0, 1029.0, 1114.0, 1038.0]}, {\"marker\": {\"color\": \"rgba(50, 171, 96, 1.0)\", \"line\": {\"width\": 1.3}, \"opacity\": 0.8, \"size\": 12, \"symbol\": \"circle\"}, \"mode\": \"markers\", \"name\": \"Brooklyn\", \"text\": [\"DR. SUSAN S. MCKINNEY SECONDARY SCHOOL OF THE ARTS\", \"URBAN ASSEMBLY HIGH SCHOOL OF MUSIC AND ART\", \"BROOKLYN COMMUNITY HIGH SCHOOL OF COMMUNICATION, ARTS AND MEDIA\", \"SCIENCE SKILLS CENTER HIGH SCHOOL FOR SCIENCE, TECHNOLOGY AND THE CREATIVE ARTS\", \"BROOKLYN TECHNICAL HIGH SCHOOL\", \"BROOKLYN INTERNATIONAL HIGH SCHOOL\", \"THE URBAN ASSEMBLY SCHOOL FOR LAW AND JUSTICE\", \"ACORN COMMUNITY HIGH SCHOOL\", \"URBAN ASSEMBLY INSTITUTE OF MATH AND SCIENCE FOR YOUNG WOMEN\", \"BEDFORD ACADEMY HIGH SCHOOL\", \"GEORGE WESTINGHOUSE CAREER AND TECHNICAL EDUCATION HIGH SCHOOL\", \"BENJAMIN BANNEKER ACADEMY\", \"CITY POLYTECHNIC HIGH SCHOOL OF ENGINEERING, ARCHITECTURE, AND TECHNOLOGY\", \"JUAN MOREL CAMPOS SECONDARY SCHOOL\", \"FOUNDATIONS ACADEMY\", \"BROOKLYN LATIN SCHOOL, THE\", \"GREEN SCHOOL: AN ACADEMY FOR ENVIRONMENTAL CAREERS\", \"PROGRESS HIGH SCHOOL FOR PROFESSIONAL CAREERS\", \"SCHOOL FOR LEGAL STUDIES\", \"THE HIGH SCHOOL FOR ENTERPRISE, BUSINESS AND TECHNOLOGY\", \"BROOKLYN PREPARATORY HIGH SCHOOL\", \"WILLIAMSBURG HIGH SCHOOL FOR ARCHITECTURE AND DESIGN\", \"WILLIAMSBURG PREPARATORY SCHOOL\", \"LYONS COMMUNITY SCHOOL\", \"AUTOMOTIVE HIGH SCHOOL\", \"FRANCES PERKINS ACADEMY\", \"EL PUENTE ACADEMY FOR PEACE AND JUSTICE\", \"BROOKLYN SCHOOL FOR GLOBAL STUDIES\", \"BROOKLYN SECONDARY SCHOOL FOR COLLABORATIVE STUDIES\", \"SECONDARY SCHOOL FOR LAW\", \"SECONDARY SCHOOL FOR JOURNALISM\", \"PARK SLOPE COLLEGIATE\", \"SCHOOL FOR INTERNATIONAL STUDIES\", \"COBBLE HILL SCHOOL OF AMERICAN STUDIES\", \"BROOKLYN HIGH SCHOOL OF THE ARTS\", \"SUNSET PARK HIGH SCHOOL\", \"FREDERICK DOUGLASS ACADEMY IV SECONDARY SCHOOL\", \"BOYS AND GIRLS HIGH SCHOOL\", \"BROOKLYN HIGH SCHOOL FOR LAW AND TECHNOLOGY\", \"THE BROOKLYN ACADEMY OF GLOBAL FINANCE\", \"ACADEMY FOR COLLEGE PREPARATION AND CAREER EXPLORATION: A COLLEGE BOARD SCHOOL\", \"ACADEMY OF HOSPITALITY AND TOURISM\", \"INTERNATIONAL HIGH SCHOOL AT PROSPECT HEIGHTS\", \"THE HIGH SCHOOL FOR GLOBAL CITIZENSHIP\", \"SCHOOL FOR HUMAN RIGHTS, THE\", \"SCHOOL FOR DEMOCRACY AND LEADERSHIP\", \"HIGH SCHOOL FOR YOUTH AND COMMUNITY DEVELOPMENT AT ERASMUS\", \"HIGH SCHOOL FOR SERVICE & LEARNING AT ERASMUS\", \"SCIENCE, TECHNOLOGY AND RESEARCH EARLY COLLEGE HIGH SCHOOL AT ERASMUS\", \"HIGH SCHOOL FOR PUBLIC SERVICE: HEROES OF TOMORROW\", \"BROOKLYN ACADEMY OF SCIENCE AND THE ENVIRONMENT\", \"BROOKLYN SCHOOL FOR MUSIC & THEATRE\", \"MEDGAR EVERS COLLEGE PREPARATORY SCHOOL\", \"CLARA BARTON HIGH SCHOOL\", \"IT TAKES A VILLAGE ACADEMY\", \"BROOKLYN GENERATION SCHOOL\", \"BROOKLYN THEATRE ARTS HIGH SCHOOL\", \"KURT HAHN EXPEDITIONARY LEARNING SCHOOL\", \"VICTORY COLLEGIATE HIGH SCHOOL\", \"ARTS & MEDIA PREPARATORY ACADEMY\", \"HIGH SCHOOL FOR INNOVATION IN ADVERTISING AND MEDIA\", \"CULTURAL ACADEMY FOR THE ARTS AND SCIENCES\", \"HIGH SCHOOL FOR MEDICAL PROFESSIONS\", \"ACADEMY FOR CONSERVATION AND THE ENVIRONMENT\", \"URBAN ACTION ACADEMY\", \"EAST NEW YORK FAMILY ACADEMY\", \"FDNY HIGH SCHOOL FOR FIRE AND LIFE SAFETY\", \"HIGH SCHOOL FOR CIVIL RIGHTS\", \"PERFORMING ARTS AND TECHNOLOGY HIGH SCHOOL\", \"WORLD ACADEMY FOR TOTAL COMMUNITY HEALTH HIGH SCHOOL\", \"MULTICULTURAL HIGH SCHOOL\", \"TRANSIT TECH CAREER AND TECHNICAL EDUCATION HIGH SCHOOL\", \"ACADEMY OF INNOVATIVE TECHNOLOGY\", \"BROOKLYN LAB SCHOOL\", \"CYPRESS HILLS COLLEGIATE PREPARATORY SCHOOL\", \"W. H. MAXWELL CAREER AND TECHNICAL EDUCATION HIGH SCHOOL\", \"THE SCHOOL FOR CLASSICS: AN ACADEMY OF THINKERS, WRITERS AND PERFORMERS\", \"NEW UTRECHT HIGH SCHOOL\", \"HIGH SCHOOL OF TELECOMMUNICATION ARTS AND TECHNOLOGY\", \"FORT HAMILTON HIGH SCHOOL\", \"FRANKLIN DELANO ROOSEVELT HIGH SCHOOL\", \"THE URBAN ASSEMBLY SCHOOL FOR CRIMINAL JUSTICE\", \"INTERNATIONAL HIGH SCHOOL AT LAFAYETTE\", \"RACHEL CARSON HIGH SCHOOL FOR COASTAL STUDIES\", \"HIGH SCHOOL OF SPORTS MANAGEMENT\", \"ABRAHAM LINCOLN HIGH SCHOOL\", \"KINGSBOROUGH EARLY COLLEGE SCHOOL\", \"EDWARD R. MURROW HIGH SCHOOL\", \"JOHN DEWEY HIGH SCHOOL\", \"LIFE ACADEMY HIGH SCHOOL FOR FILM AND MUSIC\", \"EXPEDITIONARY LEARNING SCHOOL FOR COMMUNITY LEADERS\", \"WILLIAM E. GRADY CAREER AND TECHNICAL EDUCATION HIGH SCHOOL\", \"BROOKLYN STUDIO SECONDARY SCHOOL\", \"MIDWOOD HIGH SCHOOL\", \"JAMES MADISON HIGH SCHOOL\", \"LEON M. GOLDSTEIN HIGH SCHOOL FOR THE SCIENCES\", \"BROOKLYN COLLEGE ACADEMY\", \"BROOKLYN COLLEGIATE: A COLLEGE BOARD SCHOOL\", \"FREDERICK DOUGLASS ACADEMY VII HIGH SCHOOL\", \"TEACHERS PREPARATORY HIGH SCHOOL\", \"ACADEMY FOR ENVIRONMENTAL LEADERSHIP\", \"EBC HIGH SCHOOL FOR PUBLIC SERVICE\\u2013BUSHWICK\", \"BUSHWICK SCHOOL FOR SOCIAL JUSTICE\", \"ACADEMY OF URBAN PLANNING\", \"ALL CITY LEADERSHIP SECONDARY SCHOOL\", \"BUSHWICK LEADERS HIGH SCHOOL FOR ACADEMIC EXCELLENCE\"], \"textfont\": {\"color\": \"#4D5663\"}, \"type\": \"scatter\", \"x\": [63.0, 57.3, 54.5, 43.9, 41.7, 51.8, 60.4, 44.2, 100.0, 51.0, 24.5, 53.9, 20.6, 45.3, 43.3, 45.1, 53.8, 51.5, 54.2, 34.3, 52.2, 27.4, 49.0, 46.3, 4.4, 23.1, 57.3, 43.8, 40.9, 55.8, 57.7, 47.2, 49.2, 56.1, 66.1, 49.3, 51.3, 38.3, 48.4, 48.4, 46.2, 50.2, 40.9, 49.9, 48.4, 48.0, 38.4, 36.7, 47.0, 75.1, 45.6, 67.2, 58.2, 76.2, 51.0, 39.0, 63.9, 35.7, 51.1, 52.6, 33.5, 48.5, 78.5, 45.3, 37.4, 56.8, 18.9, 45.6, 48.6, 63.2, 50.2, 15.9, 29.7, 41.6, 52.2, 70.2, 62.4, 40.7, 46.5, 46.6, 41.6, 100.0, 41.1, 46.4, 11.1, 43.6, 42.2, 57.6, 48.5, 49.0, 48.7, 22.0, 49.9, 54.7, 45.6, 58.8, 63.7, 49.3, 51.5, 65.9, 50.0, 47.9, 51.6, 45.5, 47.9, 46.8], \"y\": [1074.0, 1080.0, 1114.0, 1211.0, 1833.0, 981.0, 1206.0, 1116.0, 1223.4388059701494, 1312.0, 1189.0, 1391.0, 1353.0, 1085.0, 1223.4388059701494, 1740.0, 1189.0, 1114.0, 1204.0, 1215.0, 1090.0, 1112.0, 1187.0, 1103.0, 1093.0, 1122.0, 1035.0, 1111.0, 1179.0, 1203.0, 1169.0, 1175.0, 1212.0, 1185.0, 1258.0, 1223.4388059701494, 1068.0, 1097.0, 1092.0, 1223.4388059701494, 1139.0, 1045.0, 913.0, 1176.0, 1088.0, 1153.0, 1027.0, 1105.0, 1360.0, 1273.0, 1143.0, 1151.0, 1436.0, 1251.0, 963.0, 1145.0, 1118.0, 1092.0, 1143.0, 1080.0, 1183.0, 1169.0, 1159.0, 1111.0, 1135.0, 1242.0, 1023.0, 1054.0, 1149.0, 1106.0, 887.0, 1193.0, 1096.0, 1108.0, 1129.0, 1102.0, 1157.0, 1272.0, 1323.0, 1306.0, 1244.0, 1223.4388059701494, 1026.0, 1237.0, 1164.0, 1226.0, 1223.4388059701494, 1431.0, 1262.0, 1124.0, 1079.0, 1184.0, 1313.0, 1473.0, 1350.0, 1627.0, 1352.0, 1185.0, 1091.0, 1196.0, 1098.0, 1154.0, 1035.0, 1060.0, 1315.0, 1055.0]}, {\"marker\": {\"color\": \"rgba(128, 0, 128, 1.0)\", \"line\": {\"width\": 1.3}, \"opacity\": 0.8, \"size\": 12, \"symbol\": \"circle\"}, \"mode\": \"markers\", \"name\": \"Queens\", \"text\": [\"ACADEMY OF FINANCE AND ENTERPRISE\", \"HIGH SCHOOL OF APPLIED COMMUNICATION\", \"CIVIC LEADERSHIP ACADEMY\", \"PAN AMERICAN INTERNATIONAL HIGH SCHOOL\", \"BARD HIGH SCHOOL EARLY COLLEGE II\", \"NEWTOWN HIGH SCHOOL\", \"GROVER CLEVELAND HIGH SCHOOL\", \"MIDDLE COLLEGE HIGH SCHOOL AT LAGUARDIA COMMUNITY COLLEGE\", \"INTERNATIONAL HIGH SCHOOL AT LAGUARDIA COMMUNITY COLLEGE\", \"HIGH SCHOOL FOR ARTS AND BUSINESS\", \"ROBERT F. WAGNER, JR. SECONDARY SCHOOL FOR ARTS AND TECHNOLOGY\", \"QUEENS VOCATIONAL AND TECHNICAL HIGH SCHOOL\", \"AVIATION CAREER & TECHNICAL EDUCATION HIGH SCHOOL\", \"QUEENS SCHOOL OF INQUIRY, THE\", \"FLUSHING INTERNATIONAL HIGH SCHOOL\", \"EASTsWEST SCHOOL OF INTERNATIONAL STUDIES\", \"WORLD JOURNALISM PREPARATORY: A COLLEGE BOARD SCHOOL\", \"JOHN BOWNE HIGH SCHOOL\", \"FLUSHING HIGH SCHOOL\", \"TOWNSEND HARRIS HIGH SCHOOL\", \"ROBERT F. KENNEDY COMMUNITY HIGH SCHOOL\", \"BENJAMIN N. CARDOZO HIGH SCHOOL\", \"FRANCIS LEWIS HIGH SCHOOL\", \"MARTIN VAN BUREN HIGH SCHOOL\", \"BAYSIDE HIGH SCHOOL\", \"QUEENS HIGH SCHOOL OF TEACHING, LIBERAL ARTS AND THE SCIENCES\", \"FREDERICK DOUGLASS ACADEMY VI HIGH SCHOOL\", \"CHANNEL VIEW SCHOOL FOR RESEARCH\", \"QUEENS HIGH SCHOOL FOR INFORMATION, RESEARCH, AND TECHNOLOGY\", \"ROBERT H. GODDARD HIGH SCHOOL OF COMMUNICATION ARTS AND TECHNOLOGY\", \"ACADEMY OF MEDICAL TECHNOLOGY: A COLLEGE BOARD SCHOOL\", \"SCHOLARS' ACADEMY\", \"AUGUST MARTIN HIGH SCHOOL\", \"RICHMOND HILL HIGH SCHOOL\", \"JOHN ADAMS HIGH SCHOOL\", \"HIGH SCHOOL FOR CONSTRUCTION TRADES, ENGINEERING AND ARCHITECTURE\", \"YORK EARLY COLLEGE ACADEMY\", \"QUEENS COLLEGIATE: A COLLEGE BOARD SCHOOL\", \"HILLSIDE ARTS & LETTERS ACADEMY\", \"FOREST HILLS HIGH SCHOOL\", \"HILLCREST HIGH SCHOOL\", \"THOMAS A. EDISON CAREER AND TECHNICAL EDUCATION HIGH SCHOOL\", \"QUEENS GATEWAY TO HEALTH SCIENCES SECONDARY SCHOOL\", \"QUEENS METROPOLITAN HIGH SCHOOL\", \"QUEENS HIGH SCHOOL FOR THE SCIENCES AT YORK COLLEGE\", \"HIGH SCHOOL FOR LAW ENFORCEMENT AND PUBLIC SAFETY\", \"YOUNG WOMEN'S LEADERSHIP SCHOOL, QUEENS\", \"QUEENS PREPARATORY ACADEMY\", \"PATHWAYS COLLEGE PREPARATORY SCHOOL: A COLLEGE BOARD SCHOOL\", \"EXCELSIOR PREPARATORY HIGH SCHOOL\", \"GEORGE WASHINGTON CARVER HIGH SCHOOL FOR THE SCIENCES\", \"PREPARATORY ACADEMY FOR WRITERS: A COLLEGE BOARD SCHOOL\", \"CAMBRIA HEIGHTS ACADEMY\", \"MATHEMATICS, SCIENCE RESEARCH AND TECHNOLOGY MAGNET HIGH SCHOOL\", \"HUMANITIES & ARTS MAGNET HIGH SCHOOL\", \"YOUNG WOMEN'S LEADERSHIP SCHOOL, ASTORIA\", \"ACADEMY FOR CAREERS IN TELEVISION AND FILM\", \"WILLIAM CULLEN BRYANT HIGH SCHOOL\", \"LONG ISLAND CITY HIGH SCHOOL\", \"FRANK SINATRA SCHOOL OF THE ARTS HIGH SCHOOL\", \"INFORMATION TECHNOLOGY HIGH SCHOOL\", \"NEWCOMERS HIGH SCHOOL\", \"ACADEMY OF AMERICAN STUDIES\", \"BACCALAUREATE SCHOOL FOR GLOBAL EDUCATION\"], \"textfont\": {\"color\": \"#4D5663\"}, \"type\": \"scatter\", \"x\": [50.7, 56.2, 55.5, 52.2, 60.7, 42.5, 45.0, 47.1, 54.0, 56.9, 53.4, 39.7, 14.7, 53.3, 42.7, 45.9, 57.8, 50.8, 44.2, 71.1, 46.2, 52.6, 50.8, 45.7, 50.6, 54.2, 47.4, 48.9, 45.5, 51.9, 56.2, 56.1, 44.8, 47.0, 45.5, 32.7, 48.9, 50.1, 53.0, 51.9, 53.9, 34.9, 61.9, 50.4, 43.5, 47.0, 100.0, 44.0, 46.7, 43.1, 52.7, 56.9, 44.9, 39.6, 57.2, 100.0, 46.8, 46.3, 48.7, 70.0, 28.2, 46.8, 55.0, 55.2], \"y\": [1280.0, 1219.0, 1240.0, 951.0, 1663.0, 1203.0, 1211.0, 1177.0, 1064.0, 1174.0, 1330.0, 1270.0, 1364.0, 1396.0, 1049.0, 1271.0, 1441.0, 1243.0, 1216.0, 1910.0, 1330.0, 1514.0, 1474.0, 1172.0, 1449.0, 1279.0, 1145.0, 1252.0, 1156.0, 1265.0, 1094.0, 1532.0, 1108.0, 1154.0, 1192.0, 1345.0, 1223.4388059701494, 1265.0, 1223.4388059701494, 1407.0, 1194.0, 1372.0, 1538.0, 1223.4388059701494, 1868.0, 1196.0, 1316.0, 1099.0, 1173.0, 1202.0, 1287.0, 1100.0, 1223.4388059701494, 1220.0, 1151.0, 1223.4388059701494, 1255.0, 1275.0, 1218.0, 1494.0, 1239.0, 1127.0, 1470.0, 1636.0]}, {\"marker\": {\"color\": \"rgba(219, 64, 82, 1.0)\", \"line\": {\"width\": 1.3}, \"opacity\": 0.8, \"size\": 12, \"symbol\": \"circle\"}, \"mode\": \"markers\", \"name\": \"Staten Island\", \"text\": [\"CSI HIGH SCHOOL FOR INTERNATIONAL STUDIES\", \"GAYNOR MCCOWN EXPEDITIONARY LEARNING SCHOOL\", \"THE MICHAEL J. PETRIDES SCHOOL\", \"NEW DORP HIGH SCHOOL\", \"PORT RICHMOND HIGH SCHOOL\", \"CURTIS HIGH SCHOOL\", \"TOTTENVILLE HIGH SCHOOL\", \"SUSAN E. WAGNER HIGH SCHOOL\", \"RALPH R. MCKEE CAREER AND TECHNICAL EDUCATION HIGH SCHOOL\", \"STATEN ISLAND TECHNICAL HIGH SCHOOL\"], \"textfont\": {\"color\": \"#4D5663\"}, \"type\": \"scatter\", \"x\": [58.5, 48.0, 50.8, 47.5, 45.2, 53.6, 50.4, 49.2, 32.9, 43.0], \"y\": [1353.0, 1195.0, 1426.0, 1277.0, 1279.0, 1301.0, 1418.0, 1388.0, 1235.0, 1953.0]}],\n",
       "                        {\"legend\": {\"bgcolor\": \"#F5F6F9\", \"font\": {\"color\": \"#4D5663\"}}, \"paper_bgcolor\": \"#F5F6F9\", \"plot_bgcolor\": \"#F5F6F9\", \"shapes\": [{\"line\": {\"color\": \"#000000\", \"dash\": \"dash\", \"width\": 1}, \"type\": \"line\", \"x0\": 0, \"x1\": 1, \"xref\": \"paper\", \"y0\": 1223.438805970149, \"y1\": 1223.438805970149, \"yref\": \"y\"}, {\"line\": {\"color\": \"#000000\", \"dash\": \"dash\", \"width\": 1}, \"type\": \"line\", \"x0\": 50.62066115702485, \"x1\": 50.62066115702485, \"xref\": \"x\", \"y0\": 0, \"y1\": 1, \"yref\": \"paper\"}], \"title\": \"Share of female students vs. SAT score by school <br> dashed lines: average of entire dataset\", \"titlefont\": {\"color\": \"#4D5663\"}, \"xaxis\": {\"gridcolor\": \"#E1E5ED\", \"showgrid\": true, \"tickfont\": {\"color\": \"#4D5663\"}, \"title\": \"Share females, %\", \"titlefont\": {\"color\": \"#4D5663\"}, \"zerolinecolor\": \"#E1E5ED\"}, \"yaxis\": {\"gridcolor\": \"#E1E5ED\", \"showgrid\": true, \"tickfont\": {\"color\": \"#4D5663\"}, \"title\": \"Avg. SAT score\", \"titlefont\": {\"color\": \"#4D5663\"}, \"zerolinecolor\": \"#E1E5ED\"}},\n",
       "                        {\"showLink\": true, \"linkText\": \"Export to plot.ly\", \"plotlyServerURL\": \"https://plot.ly\", \"responsive\": true}\n",
       "                    ).then(function(){\n",
       "                            \n",
       "var gd = document.getElementById('4fa02086-2079-4289-a865-1c651775c8f6');\n",
       "var x = new MutationObserver(function (mutations, observer) {{\n",
       "        var display = window.getComputedStyle(gd).display;\n",
       "        if (!display || display === 'none') {{\n",
       "            console.log([gd, 'removed!']);\n",
       "            Plotly.purge(gd);\n",
       "            observer.disconnect();\n",
       "        }}\n",
       "}});\n",
       "\n",
       "// Listen for the removal of the full notebook cells\n",
       "var notebookContainer = gd.closest('#notebook-container');\n",
       "if (notebookContainer) {{\n",
       "    x.observe(notebookContainer, {childList: true});\n",
       "}}\n",
       "\n",
       "// Listen for the clearing of the current output cell\n",
       "var outputEl = gd.closest('.output');\n",
       "if (outputEl) {{\n",
       "    x.observe(outputEl, {childList: true});\n",
       "}}\n",
       "\n",
       "                        })\n",
       "                };\n",
       "                });\n",
       "            </script>\n",
       "        </div>"
      ]
     },
     "metadata": {},
     "output_type": "display_data"
    },
    {
     "name": "stdout",
     "output_type": "stream",
     "text": [
      "Recommendation: choose option to 'show closest data point on hover' in top right corner\n"
     ]
    }
   ],
   "source": [
    "with warnings.catch_warnings(): # to catch warning about np.module in Python 3.8.2.\n",
    "    warnings.filterwarnings(\"ignore\",category=FutureWarning)\n",
    "    combined.iplot(\n",
    "        x='female_per',\n",
    "        y='sat_score',\n",
    "        categories='boro',\n",
    "        text=\"SCHOOL NAME\",\n",
    "        vline= {\"x\":combined[\"female_per\"].mean(),\n",
    "                \"color\":\"#000000\",\n",
    "                \"dash\": \"dash\"\n",
    "               },\n",
    "        hline={\"y\":combined[\"sat_score\"].mean(),\n",
    "               \"color\":\"#000000\",\n",
    "               \"dash\": \"dash\"\n",
    "              },\n",
    "        xTitle='Share females, %',\n",
    "        yTitle='Avg. SAT score',\n",
    "        title='Share of female students vs. SAT score by school <br> dashed lines: average of entire dataset'\n",
    "    )\n",
    "print(\"Recommendation: choose option to 'show closest data point on hover' in top right corner\")"
   ]
  },
  {
   "cell_type": "markdown",
   "metadata": {},
   "source": [
    "There is no evident correlation on the above plot\n",
    "- in all districts average `female_per` is about 50%, \n",
    "- schools with predomonation of female students: more than 60% and with higher SAT scores above 1400 are mainly from Manhattan and Queens districts."
   ]
  },
  {
   "cell_type": "code",
   "execution_count": 21,
   "metadata": {},
   "outputs": [
    {
     "data": {
      "text/plain": [
       "5                         BARD HIGH SCHOOL EARLY COLLEGE\n",
       "26                         ELEANOR ROOSEVELT HIGH SCHOOL\n",
       "60                                    BEACON HIGH SCHOOL\n",
       "61     FIORELLO H. LAGUARDIA HIGH SCHOOL OF MUSIC & A...\n",
       "302                          TOWNSEND HARRIS HIGH SCHOOL\n",
       "Name: SCHOOL NAME, dtype: object"
      ]
     },
     "execution_count": 21,
     "metadata": {},
     "output_type": "execute_result"
    }
   ],
   "source": [
    "combined.loc[(combined['female_per']>60) & (combined['sat_score']>1700)]['SCHOOL NAME']"
   ]
  },
  {
   "cell_type": "markdown",
   "metadata": {},
   "source": [
    "These schools appears to be very selective liberal arts schools that have high academic standards."
   ]
  },
  {
   "cell_type": "markdown",
   "metadata": {},
   "source": [
    "# AP Exam Scores vs SAT Scores"
   ]
  },
  {
   "cell_type": "code",
   "execution_count": 22,
   "metadata": {},
   "outputs": [
    {
     "data": {
      "text/plain": [
       "0   30.576\n",
       "1    9.898\n",
       "2    3.177\n",
       "3   35.158\n",
       "4   15.809\n",
       "Name: ap_per, dtype: float64"
      ]
     },
     "execution_count": 22,
     "metadata": {},
     "output_type": "execute_result"
    }
   ],
   "source": [
    "# compute new feature: share of students that took Advanced Placement (AP) exams to earn college credit\n",
    "combined['ap_per']=(combined['AP Test Takers ']/combined['total_enrollment'])*100\n",
    "combined['ap_per'].head()"
   ]
  },
  {
   "cell_type": "code",
   "execution_count": 27,
   "metadata": {},
   "outputs": [
    {
     "data": {
      "application/vnd.plotly.v1+json": {
       "config": {
        "linkText": "Export to plot.ly",
        "plotlyServerURL": "https://plot.ly",
        "showLink": true
       },
       "data": [
        {
         "marker": {
          "color": "rgba(255, 153, 51, 1.0)",
          "line": {
           "width": 1.3
          },
          "opacity": 0.8,
          "size": 12,
          "symbol": "circle"
         },
         "mode": "markers",
         "name": "Manhattan",
         "text": [
          "HENRY STREET SCHOOL FOR INTERNATIONAL STUDIES",
          "UNIVERSITY NEIGHBORHOOD HIGH SCHOOL",
          "EAST SIDE COMMUNITY SCHOOL",
          "MARTA VALLE HIGH SCHOOL",
          "NEW EXPLORATIONS INTO SCIENCE, TECHNOLOGY AND MATH HIGH SCHOOL",
          "BARD HIGH SCHOOL EARLY COLLEGE",
          "47 THE AMERICAN SIGN LANGUAGE AND ENGLISH SECONDARY SCHOOL",
          "FOOD AND FINANCE HIGH SCHOOL",
          "ESSEX STREET ACADEMY",
          "HIGH SCHOOL OF HOSPITALITY MANAGEMENT",
          "PACE HIGH SCHOOL",
          "URBAN ASSEMBLY SCHOOL OF DESIGN AND CONSTRUCTION, THE",
          "FACING HISTORY SCHOOL, THE",
          "URBAN ASSEMBLY ACADEMY OF GOVERNMENT AND LAW, THE",
          "LOWER MANHATTAN ARTS ACADEMY",
          "URBAN ASSEMBLY SCHOOL OF BUSINESS FOR YOUNG WOMEN, THE",
          "GRAMERCY ARTS HIGH SCHOOL",
          "NYC ISCHOOL",
          "MANHATTAN BUSINESS ACADEMY",
          "BUSINESS OF SPORTS SCHOOL",
          "THE HIGH SCHOOL FOR LANGUAGE AND DIPLOMACY",
          "HIGH SCHOOL FOR ENVIRONMENTAL STUDIES",
          "PROFESSIONAL PERFORMING ARTS HIGH SCHOOL",
          "BARUCH COLLEGE CAMPUS HIGH SCHOOL",
          "N.Y.C. LAB SCHOOL FOR COLLABORATIVE STUDIES",
          "N.Y.C. MUSEUM SCHOOL",
          "ELEANOR ROOSEVELT HIGH SCHOOL",
          "MILLENNIUM HIGH SCHOOL",
          "LANDMARK HIGH SCHOOL",
          "HIGH SCHOOL FOR HEALTH PROFESSIONS AND HUMAN SERVICES",
          "LEADERSHIP AND PUBLIC SERVICE HIGH SCHOOL",
          "MANHATTAN ACADEMY FOR ARTS & LANGUAGE",
          "HUDSON HIGH SCHOOL OF LEARNING TECHNOLOGIES",
          "INTERNATIONAL HIGH SCHOOL AT UNION SQUARE",
          "MANHATTAN VILLAGE ACADEMY",
          "VANGUARD HIGH SCHOOL",
          "MANHATTAN INTERNATIONAL HIGH SCHOOL",
          "STUYVESANT HIGH SCHOOL",
          "HIGH SCHOOL OF ECONOMICS AND FINANCE",
          "UNITY CENTER FOR URBAN TECHNOLOGIES",
          "TALENT UNLIMITED HIGH SCHOOL",
          "MURRY BERGTRAUM HIGH SCHOOL FOR BUSINESS CAREERS",
          "JACQUELINE KENNEDY ONASSIS HIGH SCHOOL",
          "REPERTORY COMPANY HIGH SCHOOL FOR THEATRE ARTS",
          "MANHATTAN BRIDGES HIGH SCHOOL",
          "NEW DESIGN HIGH SCHOOL",
          "HIGH SCHOOL FOR DUAL LANGUAGE AND ASIAN STUDIES",
          "THE URBAN ASSEMBLY NEW YORK HARBOR SCHOOL",
          "RICHARD R. GREEN HIGH SCHOOL OF TEACHING",
          "THE HIGH SCHOOL OF FASHION INDUSTRIES",
          "HUMANITIES PREPARATORY ACADEMY",
          "CHELSEA CAREER AND TECHNICAL EDUCATION HIGH SCHOOL",
          "ART AND DESIGN HIGH SCHOOL",
          "LIFE SCIENCES SECONDARY SCHOOL",
          "HIGH SCHOOL FOR ARTS, IMAGINATION AND INQUIRY",
          "URBAN ASSEMBLY SCHOOL FOR MEDIA STUDIES, THE",
          "THE URBAN ASSEMBLY SCHOOL FOR GREEN CAREERS",
          "THE GLOBAL LEARNING COLLABORATIVE",
          "WADLEIGH SECONDARY SCHOOL FOR THE PERFORMING & VISUAL ARTS",
          "FRANK MCCOURT HIGH SCHOOL",
          "BEACON HIGH SCHOOL",
          "FIORELLO H. LAGUARDIA HIGH SCHOOL OF MUSIC & ART AND PERFORMING ARTS",
          "HIGH SCHOOL FOR LAW, ADVOCACY AND COMMUNITY JUSTICE",
          "HIGH SCHOOL OF ARTS AND TECHNOLOGY",
          "MANHATTAN / HUNTER SCIENCE HIGH SCHOOL",
          "FREDERICK DOUGLASS ACADEMY II SECONDARY SCHOOL",
          "COALITION SCHOOL FOR SOCIAL CHANGE",
          "MANHATTAN CENTER FOR SCIENCE AND MATHEMATICS",
          "PARK EAST HIGH SCHOOL",
          "CENTRAL PARK EAST HIGH SCHOOL",
          "YOUNG WOMEN'S LEADERSHIP SCHOOL",
          "YOUNG WOMEN'S LEADERSHIP SCHOOL",
          "HERITAGE SCHOOL, THE",
          "MOTT HALL HIGH SCHOOL",
          "COLUMBIA SECONDARY SCHOOL FOR MATH, SCIENCE, AND ENGINEERING",
          "ACADEMY FOR SOCIAL ACTION: A COLLEGE BOARD SCHOOL",
          "URBAN ASSEMBLY SCHOOL FOR THE PERFORMING ARTS",
          "FREDERICK DOUGLASS ACADEMY",
          "THURGOOD MARSHALL ACADEMY FOR LEARNING AND SOCIAL CHANGE",
          "HIGH SCHOOL FOR MATHEMATICS, SCIENCE AND ENGINEERING AT CITY COLLEGE",
          "CITY COLLEGE ACADEMY OF THE ARTS",
          "COMMUNITY HEALTH ACADEMY OF THE HEIGHTS",
          "WASHINGTON HEIGHTS EXPEDITIONARY LEARNING SCHOOL",
          "HIGH SCHOOL FOR EXCELLENCE AND INNOVATION",
          "HIGH SCHOOL FOR INTERNATIONAL BUSINESS AND FINANCE",
          "HIGH SCHOOL FOR MEDIA AND COMMUNICATIONS",
          "HIGH SCHOOL FOR LAW AND PUBLIC SERVICE",
          "HIGH SCHOOL FOR HEALTH CAREERS AND SCIENCES",
          "A. PHILIP RANDOLPH CAMPUS HIGH SCHOOL",
          "GREGORIO LUPERON HIGH SCHOOL FOR SCIENCE AND MATHEMATICS"
         ],
         "textfont": {
          "color": "#4D5663"
         },
         "type": "scatter",
         "x": [
          30.575555960627053,
          9.898477157360407,
          3.177257525083612,
          35.157723747642,
          15.809051456912584,
          20.912292731579605,
          74.15450928381964,
          29.798809735299344,
          37.61773940345369,
          30.79447402239765,
          5.072463768115942,
          22.96983758700696,
          9.312638580931264,
          8.012820512820513,
          38.40144230769231,
          34.13461538461539,
          26.066433566433567,
          29.798809735299344,
          38.86411028730306,
          42.44369939271255,
          52.88067465321564,
          15.27977044476327,
          3.9840637450199203,
          18.055555555555554,
          19.689119170984455,
          29.593772053634442,
          30.57199211045365,
          13.738019169329075,
          30.6481819842865,
          11.538461538461538,
          11.532125205930807,
          73.73076923076923,
          57.09240980258679,
          73.3118444055944,
          9.79020979020979,
          29.06055093555094,
          3.6923076923076925,
          45.799211404306945,
          12.484548825710753,
          54.442551119766314,
          6.109979633401222,
          5.692233478051134,
          11.049723756906078,
          59.460297766749385,
          12.384473197781885,
          30.50327332242226,
          17.280453257790366,
          1.627906976744186,
          10.98360655737705,
          4.377736085053159,
          67.20252403846155,
          11.158798283261802,
          6.25,
          6.97350069735007,
          30.868145012881858,
          35.25378310214376,
          45.59323185648274,
          36.04157713794586,
          12.5968992248062,
          58.917281348788194,
          14.285714285714285,
          26.525911708253357,
          23.850063984075078,
          6.301824212271974,
          28.483188996434034,
          2.663438256658596,
          5.157593123209169,
          19.87878787878788,
          36.97101608992727,
          28.995246326707004,
          9.131403118040089,
          28.736936782593798,
          43.887362637362635,
          2.5821596244131455,
          27.221275559883157,
          4,
          34.499691484985604,
          10.475578406169666,
          6.379310344827586,
          28.078817733990146,
          22.018574428983985,
          24.813239644970416,
          21.43336314847943,
          72.4881158167675,
          17.142857142857142,
          6.468531468531468,
          20.31700288184438,
          4.712812960235641,
          12.840466926070038,
          18.64406779661017
         ],
         "y": [
          1122,
          1172,
          1149,
          1207,
          1621,
          1856,
          1182,
          1194,
          1156,
          1111,
          1293,
          1269,
          1051,
          1148,
          1200,
          1127,
          1176,
          1435,
          1223.4388059701494,
          1223.4388059701494,
          1223.4388059701494,
          1419,
          1522,
          1577,
          1677,
          1419,
          1758,
          1614,
          1170,
          1306,
          1233,
          1223.4388059701494,
          1223.4388059701494,
          1223.4388059701494,
          1372,
          1199,
          1227,
          2096,
          1374,
          1070,
          1416,
          1240,
          1239,
          1253,
          1058,
          1168,
          1424,
          1212,
          1195,
          1257,
          1255,
          1207,
          1315,
          1236,
          1132,
          1144,
          1223.4388059701494,
          1223.4388059701494,
          1109,
          1223.4388059701494,
          1744,
          1707,
          1196,
          1277,
          1446,
          1096,
          1084,
          1430,
          1128,
          1221,
          1326,
          1326,
          1054,
          1210,
          1223.4388059701494,
          1062,
          1077,
          1374,
          1202,
          1847,
          1270,
          1105,
          1174,
          1223.4388059701494,
          1127,
          1098,
          1102,
          1224,
          1309,
          1014
         ]
        },
        {
         "marker": {
          "color": "rgba(55, 128, 191, 1.0)",
          "line": {
           "width": 1.3
          },
          "opacity": 0.8,
          "size": 12,
          "symbol": "circle"
         },
         "mode": "markers",
         "name": "Bronx",
         "text": [
          "SOUTH BRONX PREPARATORY: A COLLEGE BOARD SCHOOL",
          "INTERNATIONAL COMMUNITY HIGH SCHOOL",
          "COMMUNITY SCHOOL FOR SOCIAL JUSTICE",
          "MOTT HAVEN VILLAGE PREPARATORY HIGH SCHOOL",
          "UNIVERSITY HEIGHTS SECONDARY SCHOOL",
          "HOSTOSsLINCOLN ACADEMY OF SCIENCE",
          "FOREIGN LANGUAGE ACADEMY OF GLOBAL STUDIES",
          "BRONX LEADERSHIP ACADEMY II HIGH SCHOOL",
          "NEW EXPLORERS HIGH SCHOOL",
          "URBAN ASSEMBLY SCHOOL FOR CAREERS IN SPORTS",
          "BRONX ACADEMY OF LETTERS",
          "ALFRED E. SMITH CAREER AND TECHNICAL EDUCATION HIGH SCHOOL",
          "HEALTH OPPORTUNITIES HIGH SCHOOL",
          "BRONX STUDIO SCHOOL FOR WRITERS AND ARTISTS",
          "WOMEN'S ACADEMY OF EXCELLENCE",
          "RENAISSANCE HIGH SCHOOL FOR MUSICAL THEATER & TECHNOLOGY",
          "PABLO NERUDA ACADEMY FOR ARCHITECTURE AND WORLD STUDIES",
          "MILLENNIUM ART ACADEMY",
          "HOLCOMBE L. RUCKER SCHOOL OF COMMUNITY RESEARCH",
          "ANTONIA PANTOJA PREPARATORY ACADEMY, A COLLEGE BOARD SCHOOL",
          "HERBERT H. LEHMAN HIGH SCHOOL",
          "BRONX BRIDGES HIGH SCHOOL",
          "FELISA RINCON DE GAUTIER INSTITUTE FOR LAW AND PUBLIC POLICY, THE",
          "BANANA KELLY HIGH SCHOOL",
          "BRONX EXPEDITIONARY LEARNING HIGH SCHOOL",
          "EAGLE ACADEMY FOR YOUNG MEN",
          "URBAN ASSEMBLY SCHOOL FOR APPLIED MATH AND SCIENCE, THE",
          "EXIMIUS COLLEGE PREPARATORY ACADEMY: A COLLEGE BOARD SCHOOL",
          "MOTT HALL BRONX HIGH SCHOOL",
          "BRONX CENTER FOR SCIENCE AND MATHEMATICS",
          "VALIDUS PREPARATORY ACADEMY: AN EXPEDITIONARY LEARNING SCHOOL",
          "LEADERSHIP INSTITUTE",
          "MORRIS ACADEMY FOR COLLABORATIVE STUDIES",
          "BRONX EARLY COLLEGE ACADEMY FOR TEACHING & LEARNING",
          "DREAMYARD PREPARATORY SCHOOL",
          "ACADEMY FOR LANGUAGE AND TECHNOLOGY",
          "BRONX INTERNATIONAL HIGH SCHOOL",
          "SCHOOL FOR EXCELLENCE",
          "BRONX HIGH SCHOOL OF BUSINESS",
          "BRONX HIGH SCHOOL FOR MEDICAL SCIENCE",
          "BRONX SCHOOL FOR LAW, GOVERNMENT AND JUSTICE",
          "FREDERICK DOUGLASS ACADEMY III SECONDARY SCHOOL",
          "BRONX LEADERSHIP ACADEMY HIGH SCHOOL",
          "HIGH SCHOOL FOR VIOLIN AND DANCE",
          "RIVERDALE / KINGSBRIDGE ACADEMY (MIDDLE SCHOOL / HIGH SCHOOL 141)",
          "BRONX ENGINEERING AND TECHNOLOGY ACADEMY",
          "THEATRE ARTS PRODUCTION COMPANY SCHOOL",
          "THE MARIE CURIE SCHOOL FOR MEDICINE, NURSING, AND HEALTH PROFESSIONS",
          "WEST BRONX ACADEMY FOR THE FUTURE",
          "KINGSBRIDGE INTERNATIONAL HIGH SCHOOL",
          "BRONX SCHOOL OF LAW AND FINANCE",
          "INTERNATIONAL SCHOOL FOR LIBERAL ARTS",
          "INsTECH ACADEMY (M.S. / HIGH SCHOOL 368)",
          "KNOWLEDGE AND POWER PREPARATORY ACADEMY INTERNATIONAL HIGH SCHOOL (KAPPA)",
          "HIGH SCHOOL FOR TEACHING AND THE PROFESSIONS",
          "BELMONT PREPARATORY HIGH SCHOOL",
          "FORDHAM HIGH SCHOOL FOR THE ARTS",
          "FORDHAM LEADERSHIP ACADEMY FOR BUSINESS AND TECHNOLOGY",
          "BRONX HIGH SCHOOL FOR LAW AND COMMUNITY SERVICE",
          "DEWITT CLINTON HIGH SCHOOL",
          "CELIA CRUZ BRONX HIGH SCHOOL OF MUSIC, THE",
          "BRONX HIGH SCHOOL OF SCIENCE",
          "MARBLE HILL HIGH SCHOOL FOR INTERNATIONAL STUDIES",
          "BRONX THEATRE HIGH SCHOOL",
          "DISCOVERY HIGH SCHOOL",
          "HIGH SCHOOL OF AMERICAN STUDIES AT LEHMAN COLLEGE",
          "BRONX HEALTH SCIENCES HIGH SCHOOL",
          "BRONX HIGH SCHOOL FOR WRITING AND COMMUNICATION ARTS",
          "BRONX LAB SCHOOL",
          "ACADEMY FOR SCHOLARSHIP AND ENTREPRENEURSHIP: A COLLEGE BOARD SCHOOL",
          "HIGH SCHOOL OF COMPUTERS AND TECHNOLOGY",
          "COLLEGIATE INSTITUTE FOR MATH AND SCIENCE",
          "BRONX ACADEMY OF HEALTH CAREERS",
          "ASTOR COLLEGIATE ACADEMY",
          "BRONX HIGH SCHOOL FOR THE VISUAL ARTS",
          "HARRY S TRUMAN HIGH SCHOOL",
          "NEW WORLD HIGH SCHOOL",
          "THE BRONXWOOD PREPARATORY ACADEMY",
          "PELHAM PREPARATORY ACADEMY",
          "HIGH SCHOOL FOR CONTEMPORARY ARTS",
          "BRONX AEROSPACE HIGH SCHOOL",
          "METROPOLITAN HIGH SCHOOL, THE",
          "EXPLORATIONS ACADEMY",
          "BRONX LATIN",
          "EAST BRONX ACADEMY FOR THE FUTURE",
          "PEACE AND DIVERSITY ACADEMY",
          "PAN AMERICAN INTERNATIONAL HIGH SCHOOL AT MONROE",
          "THE CINEMA SCHOOL",
          "BRONX CAREER AND COLLEGE PREPARATORY HIGH SCHOOL",
          "HIGH SCHOOL OF WORLD CULTURES",
          "FANNIE LOU HAMER FREEDOM HIGH SCHOOL",
          "WINGS ACADEMY",
          "MONROE ACADEMY FOR VISUAL ARTS & DESIGN"
         ],
         "textfont": {
          "color": "#4D5663"
         },
         "type": "scatter",
         "x": [
          10.128617363344052,
          32.83176746917205,
          40.44791415481071,
          35.545136681500324,
          27.748138957816376,
          11.895910780669144,
          4.180064308681672,
          5.9760956175298805,
          4.699738903394255,
          27.050072568940497,
          9.54954954954955,
          1.4905149051490514,
          10.391822827938672,
          25.805769230769233,
          5.540897097625329,
          4.690831556503198,
          35.9411827726591,
          7.056451612903227,
          6.006006006006006,
          29.867788461538463,
          11.967715001391594,
          83.24441687344914,
          35.545136681500324,
          28.60950025584172,
          36.346153846153854,
          5.818181818181818,
          2.6402640264026402,
          25.280898876404496,
          36.448826597131685,
          13.963963963963963,
          1.9178082191780823,
          7.391304347826087,
          28.673076923076923,
          26.172179747230455,
          4.297994269340974,
          5.952380952380952,
          32.01708341286505,
          33.427162216022325,
          6.483790523690773,
          28.357988165680474,
          5.897771952817824,
          4.887218045112782,
          5.673758865248227,
          39.94701119314122,
          9.947643979057592,
          24.0990990990991,
          3.2442748091603053,
          2.7777777777777777,
          3.930817610062893,
          6.438631790744467,
          4.976303317535545,
          9.075907590759076,
          3.5523978685612785,
          39.82371794871795,
          13.107822410147993,
          7.616707616707617,
          33.34078711985689,
          9.312638580931264,
          10.185185185185185,
          8.800192353931234,
          7.328605200945626,
          39.495519415864585,
          18.201754385964914,
          7.640449438202247,
          24.39108622946052,
          51.45888594164456,
          34.22515813099368,
          6.6350710900473935,
          26.769470156399617,
          3.9603960396039604,
          23.45979020979021,
          14.548802946593002,
          26.714046822742475,
          7.228915662650602,
          5.383022774327122,
          5.80936266215454,
          2.9850746268656714,
          31.01654955621302,
          9.072978303747535,
          26.937128633370804,
          31.01654955621302,
          7.374631268436578,
          35.64332766680833,
          30.868145012881858,
          5.169628432956381,
          3.463203463203463,
          31.780503978779844,
          57.86046912728528,
          52.88067465321564,
          34.967166979362105,
          27.050072568940497,
          3.717472118959108,
          27.68859359524596
         ],
         "y": [
          1090,
          945,
          1077,
          1097,
          1201,
          1257,
          1186,
          1103,
          1084,
          1181,
          1201,
          1158,
          1095,
          1223.4388059701494,
          1171,
          1158,
          1038,
          1164,
          1084,
          1223.4388059701494,
          1241,
          1223.4388059701494,
          1099,
          1131,
          1049,
          1134,
          1290,
          1169,
          1092,
          1396,
          1075,
          1081,
          1148,
          1223.4388059701494,
          1138,
          951,
          965,
          1074,
          1083,
          1221,
          1224,
          1121,
          1166,
          1039,
          1333,
          1150,
          1190,
          1157,
          1158,
          962,
          1182,
          934,
          1181,
          1180,
          1106,
          1222,
          1077,
          1119,
          1082,
          1255,
          1270,
          1969,
          1263,
          1064,
          1115,
          1920,
          1133,
          1147,
          1135,
          1141,
          1111,
          1348,
          1135,
          1169,
          1268,
          1151,
          1048,
          1112,
          1288,
          1126,
          1163,
          1055,
          1122,
          1251,
          1102,
          1155,
          970,
          1223.4388059701494,
          1223.4388059701494,
          939,
          1029,
          1114,
          1038
         ]
        },
        {
         "marker": {
          "color": "rgba(50, 171, 96, 1.0)",
          "line": {
           "width": 1.3
          },
          "opacity": 0.8,
          "size": 12,
          "symbol": "circle"
         },
         "mode": "markers",
         "name": "Brooklyn",
         "text": [
          "DR. SUSAN S. MCKINNEY SECONDARY SCHOOL OF THE ARTS",
          "URBAN ASSEMBLY HIGH SCHOOL OF MUSIC AND ART",
          "BROOKLYN COMMUNITY HIGH SCHOOL OF COMMUNICATION, ARTS AND MEDIA",
          "SCIENCE SKILLS CENTER HIGH SCHOOL FOR SCIENCE, TECHNOLOGY AND THE CREATIVE ARTS",
          "BROOKLYN TECHNICAL HIGH SCHOOL",
          "BROOKLYN INTERNATIONAL HIGH SCHOOL",
          "THE URBAN ASSEMBLY SCHOOL FOR LAW AND JUSTICE",
          "ACORN COMMUNITY HIGH SCHOOL",
          "URBAN ASSEMBLY INSTITUTE OF MATH AND SCIENCE FOR YOUNG WOMEN",
          "BEDFORD ACADEMY HIGH SCHOOL",
          "GEORGE WESTINGHOUSE CAREER AND TECHNICAL EDUCATION HIGH SCHOOL",
          "BENJAMIN BANNEKER ACADEMY",
          "CITY POLYTECHNIC HIGH SCHOOL OF ENGINEERING, ARCHITECTURE, AND TECHNOLOGY",
          "JUAN MOREL CAMPOS SECONDARY SCHOOL",
          "FOUNDATIONS ACADEMY",
          "BROOKLYN LATIN SCHOOL, THE",
          "GREEN SCHOOL: AN ACADEMY FOR ENVIRONMENTAL CAREERS",
          "PROGRESS HIGH SCHOOL FOR PROFESSIONAL CAREERS",
          "SCHOOL FOR LEGAL STUDIES",
          "THE HIGH SCHOOL FOR ENTERPRISE, BUSINESS AND TECHNOLOGY",
          "BROOKLYN PREPARATORY HIGH SCHOOL",
          "WILLIAMSBURG HIGH SCHOOL FOR ARCHITECTURE AND DESIGN",
          "WILLIAMSBURG PREPARATORY SCHOOL",
          "LYONS COMMUNITY SCHOOL",
          "AUTOMOTIVE HIGH SCHOOL",
          "FRANCES PERKINS ACADEMY",
          "EL PUENTE ACADEMY FOR PEACE AND JUSTICE",
          "BROOKLYN SCHOOL FOR GLOBAL STUDIES",
          "BROOKLYN SECONDARY SCHOOL FOR COLLABORATIVE STUDIES",
          "SECONDARY SCHOOL FOR LAW",
          "SECONDARY SCHOOL FOR JOURNALISM",
          "PARK SLOPE COLLEGIATE",
          "SCHOOL FOR INTERNATIONAL STUDIES",
          "COBBLE HILL SCHOOL OF AMERICAN STUDIES",
          "BROOKLYN HIGH SCHOOL OF THE ARTS",
          "SUNSET PARK HIGH SCHOOL",
          "FREDERICK DOUGLASS ACADEMY IV SECONDARY SCHOOL",
          "BOYS AND GIRLS HIGH SCHOOL",
          "BROOKLYN HIGH SCHOOL FOR LAW AND TECHNOLOGY",
          "THE BROOKLYN ACADEMY OF GLOBAL FINANCE",
          "ACADEMY FOR COLLEGE PREPARATION AND CAREER EXPLORATION: A COLLEGE BOARD SCHOOL",
          "ACADEMY OF HOSPITALITY AND TOURISM",
          "INTERNATIONAL HIGH SCHOOL AT PROSPECT HEIGHTS",
          "THE HIGH SCHOOL FOR GLOBAL CITIZENSHIP",
          "SCHOOL FOR HUMAN RIGHTS, THE",
          "SCHOOL FOR DEMOCRACY AND LEADERSHIP",
          "HIGH SCHOOL FOR YOUTH AND COMMUNITY DEVELOPMENT AT ERASMUS",
          "HIGH SCHOOL FOR SERVICE & LEARNING AT ERASMUS",
          "SCIENCE, TECHNOLOGY AND RESEARCH EARLY COLLEGE HIGH SCHOOL AT ERASMUS",
          "HIGH SCHOOL FOR PUBLIC SERVICE: HEROES OF TOMORROW",
          "BROOKLYN ACADEMY OF SCIENCE AND THE ENVIRONMENT",
          "BROOKLYN SCHOOL FOR MUSIC & THEATRE",
          "MEDGAR EVERS COLLEGE PREPARATORY SCHOOL",
          "CLARA BARTON HIGH SCHOOL",
          "IT TAKES A VILLAGE ACADEMY",
          "BROOKLYN GENERATION SCHOOL",
          "BROOKLYN THEATRE ARTS HIGH SCHOOL",
          "KURT HAHN EXPEDITIONARY LEARNING SCHOOL",
          "VICTORY COLLEGIATE HIGH SCHOOL",
          "ARTS & MEDIA PREPARATORY ACADEMY",
          "HIGH SCHOOL FOR INNOVATION IN ADVERTISING AND MEDIA",
          "CULTURAL ACADEMY FOR THE ARTS AND SCIENCES",
          "HIGH SCHOOL FOR MEDICAL PROFESSIONS",
          "ACADEMY FOR CONSERVATION AND THE ENVIRONMENT",
          "URBAN ACTION ACADEMY",
          "EAST NEW YORK FAMILY ACADEMY",
          "FDNY HIGH SCHOOL FOR FIRE AND LIFE SAFETY",
          "HIGH SCHOOL FOR CIVIL RIGHTS",
          "PERFORMING ARTS AND TECHNOLOGY HIGH SCHOOL",
          "WORLD ACADEMY FOR TOTAL COMMUNITY HEALTH HIGH SCHOOL",
          "MULTICULTURAL HIGH SCHOOL",
          "TRANSIT TECH CAREER AND TECHNICAL EDUCATION HIGH SCHOOL",
          "ACADEMY OF INNOVATIVE TECHNOLOGY",
          "BROOKLYN LAB SCHOOL",
          "CYPRESS HILLS COLLEGIATE PREPARATORY SCHOOL",
          "W. H. MAXWELL CAREER AND TECHNICAL EDUCATION HIGH SCHOOL",
          "THE SCHOOL FOR CLASSICS: AN ACADEMY OF THINKERS, WRITERS AND PERFORMERS",
          "NEW UTRECHT HIGH SCHOOL",
          "HIGH SCHOOL OF TELECOMMUNICATION ARTS AND TECHNOLOGY",
          "FORT HAMILTON HIGH SCHOOL",
          "FRANKLIN DELANO ROOSEVELT HIGH SCHOOL",
          "THE URBAN ASSEMBLY SCHOOL FOR CRIMINAL JUSTICE",
          "INTERNATIONAL HIGH SCHOOL AT LAFAYETTE",
          "RACHEL CARSON HIGH SCHOOL FOR COASTAL STUDIES",
          "HIGH SCHOOL OF SPORTS MANAGEMENT",
          "ABRAHAM LINCOLN HIGH SCHOOL",
          "KINGSBOROUGH EARLY COLLEGE SCHOOL",
          "EDWARD R. MURROW HIGH SCHOOL",
          "JOHN DEWEY HIGH SCHOOL",
          "LIFE ACADEMY HIGH SCHOOL FOR FILM AND MUSIC",
          "EXPEDITIONARY LEARNING SCHOOL FOR COMMUNITY LEADERS",
          "WILLIAM E. GRADY CAREER AND TECHNICAL EDUCATION HIGH SCHOOL",
          "BROOKLYN STUDIO SECONDARY SCHOOL",
          "MIDWOOD HIGH SCHOOL",
          "JAMES MADISON HIGH SCHOOL",
          "LEON M. GOLDSTEIN HIGH SCHOOL FOR THE SCIENCES",
          "BROOKLYN COLLEGE ACADEMY",
          "BROOKLYN COLLEGIATE: A COLLEGE BOARD SCHOOL",
          "FREDERICK DOUGLASS ACADEMY VII HIGH SCHOOL",
          "TEACHERS PREPARATORY HIGH SCHOOL",
          "ACADEMY FOR ENVIRONMENTAL LEADERSHIP",
          "EBC HIGH SCHOOL FOR PUBLIC SERVICE–BUSHWICK",
          "BUSHWICK SCHOOL FOR SOCIAL JUSTICE",
          "ACADEMY OF URBAN PLANNING",
          "ALL CITY LEADERSHIP SECONDARY SCHOOL",
          "BUSHWICK LEADERS HIGH SCHOOL FOR ACADEMIC EXCELLENCE"
         ],
         "textfont": {
          "color": "#4D5663"
         },
         "type": "scatter",
         "x": [
          3.837471783295711,
          29.937087274674283,
          4.545454545454546,
          10.058027079303674,
          39.70367591897975,
          35.157723747642,
          6.888888888888889,
          8.755129958960328,
          27.511481056257175,
          11.716621253405995,
          3.7756202804746493,
          14.748603351955309,
          38.51607347876005,
          1.8497109826589597,
          29.78723404255319,
          27.570266272189354,
          32.91552197802198,
          4.681647940074907,
          3.1620553359683794,
          9.631147540983607,
          7.000000000000001,
          6,
          5.37261698440208,
          24.483652021602687,
          17.846313437599743,
          74.58314806580702,
          59.187544107268884,
          36.448826597131685,
          18.645787016451756,
          27.278825825337456,
          6.547619047619048,
          32.748438110113234,
          6.172839506172839,
          3.770739064856712,
          19.03080326752893,
          13.059599813142325,
          29.39153670930437,
          1.3488657265481299,
          12.098765432098766,
          81.15021770682148,
          11.327433628318584,
          40.44791415481071,
          32.176769614425474,
          5.830903790087463,
          33.427162216022325,
          31.780503978779844,
          5.454545454545454,
          30.575555960627053,
          24.76561346522959,
          25.41966426858513,
          10.40339702760085,
          8.980582524271846,
          24.637681159420293,
          8.395522388059701,
          33.77718485702779,
          38.9815245177783,
          33.77718485702779,
          43.887362637362635,
          39.701183431952664,
          44.03714885796797,
          41.62220843672457,
          43.153460252122464,
          28.0497491638796,
          47.09081976417743,
          42.30453972257251,
          29.798809735299344,
          33.86583888552393,
          2.9925187032418954,
          28.483188996434034,
          5.7894736842105265,
          10.83743842364532,
          10.478359908883828,
          31.937833206397563,
          32.50096880449526,
          4.805491990846682,
          7.796610169491526,
          41.488374969082365,
          5.311355311355311,
          19.609375,
          8.350877192982455,
          7.335907335907336,
          34.499691484985604,
          37.61773940345369,
          7.0686070686070686,
          2.7027027027027026,
          5.1252408477842,
          27.33661994784876,
          9.870711089010442,
          10.70110701107011,
          51.40591480232914,
          57.09240980258679,
          13.496741229481815,
          4.4520547945205475,
          19.390942217595004,
          10.500650195058519,
          35.90998043052838,
          20.480769230769234,
          2.586206896551724,
          10.684931506849315,
          5.830388692579505,
          35.64332766680833,
          7.755775577557755,
          29.730148883374692,
          19.09547738693467,
          2.6615969581749046,
          7.35930735930736
         ],
         "y": [
          1074,
          1080,
          1114,
          1211,
          1833,
          981,
          1206,
          1116,
          1223.4388059701494,
          1312,
          1189,
          1391,
          1353,
          1085,
          1223.4388059701494,
          1740,
          1189,
          1114,
          1204,
          1215,
          1090,
          1112,
          1187,
          1103,
          1093,
          1122,
          1035,
          1111,
          1179,
          1203,
          1169,
          1175,
          1212,
          1185,
          1258,
          1223.4388059701494,
          1068,
          1097,
          1092,
          1223.4388059701494,
          1139,
          1045,
          913,
          1176,
          1088,
          1153,
          1027,
          1105,
          1360,
          1273,
          1143,
          1151,
          1436,
          1251,
          963,
          1145,
          1118,
          1092,
          1143,
          1080,
          1183,
          1169,
          1159,
          1111,
          1135,
          1242,
          1023,
          1054,
          1149,
          1106,
          887,
          1193,
          1096,
          1108,
          1129,
          1102,
          1157,
          1272,
          1323,
          1306,
          1244,
          1223.4388059701494,
          1026,
          1237,
          1164,
          1226,
          1223.4388059701494,
          1431,
          1262,
          1124,
          1079,
          1184,
          1313,
          1473,
          1350,
          1627,
          1352,
          1185,
          1091,
          1196,
          1098,
          1154,
          1035,
          1060,
          1315,
          1055
         ]
        },
        {
         "marker": {
          "color": "rgba(128, 0, 128, 1.0)",
          "line": {
           "width": 1.3
          },
          "opacity": 0.8,
          "size": 12,
          "symbol": "circle"
         },
         "mode": "markers",
         "name": "Queens",
         "text": [
          "ACADEMY OF FINANCE AND ENTERPRISE",
          "HIGH SCHOOL OF APPLIED COMMUNICATION",
          "CIVIC LEADERSHIP ACADEMY",
          "PAN AMERICAN INTERNATIONAL HIGH SCHOOL",
          "BARD HIGH SCHOOL EARLY COLLEGE II",
          "NEWTOWN HIGH SCHOOL",
          "GROVER CLEVELAND HIGH SCHOOL",
          "MIDDLE COLLEGE HIGH SCHOOL AT LAGUARDIA COMMUNITY COLLEGE",
          "INTERNATIONAL HIGH SCHOOL AT LAGUARDIA COMMUNITY COLLEGE",
          "HIGH SCHOOL FOR ARTS AND BUSINESS",
          "ROBERT F. WAGNER, JR. SECONDARY SCHOOL FOR ARTS AND TECHNOLOGY",
          "QUEENS VOCATIONAL AND TECHNICAL HIGH SCHOOL",
          "AVIATION CAREER & TECHNICAL EDUCATION HIGH SCHOOL",
          "QUEENS SCHOOL OF INQUIRY, THE",
          "FLUSHING INTERNATIONAL HIGH SCHOOL",
          "EASTsWEST SCHOOL OF INTERNATIONAL STUDIES",
          "WORLD JOURNALISM PREPARATORY: A COLLEGE BOARD SCHOOL",
          "JOHN BOWNE HIGH SCHOOL",
          "FLUSHING HIGH SCHOOL",
          "TOWNSEND HARRIS HIGH SCHOOL",
          "ROBERT F. KENNEDY COMMUNITY HIGH SCHOOL",
          "BENJAMIN N. CARDOZO HIGH SCHOOL",
          "FRANCIS LEWIS HIGH SCHOOL",
          "MARTIN VAN BUREN HIGH SCHOOL",
          "BAYSIDE HIGH SCHOOL",
          "QUEENS HIGH SCHOOL OF TEACHING, LIBERAL ARTS AND THE SCIENCES",
          "FREDERICK DOUGLASS ACADEMY VI HIGH SCHOOL",
          "CHANNEL VIEW SCHOOL FOR RESEARCH",
          "QUEENS HIGH SCHOOL FOR INFORMATION, RESEARCH, AND TECHNOLOGY",
          "ROBERT H. GODDARD HIGH SCHOOL OF COMMUNICATION ARTS AND TECHNOLOGY",
          "ACADEMY OF MEDICAL TECHNOLOGY: A COLLEGE BOARD SCHOOL",
          "SCHOLARS' ACADEMY",
          "AUGUST MARTIN HIGH SCHOOL",
          "RICHMOND HILL HIGH SCHOOL",
          "JOHN ADAMS HIGH SCHOOL",
          "HIGH SCHOOL FOR CONSTRUCTION TRADES, ENGINEERING AND ARCHITECTURE",
          "YORK EARLY COLLEGE ACADEMY",
          "QUEENS COLLEGIATE: A COLLEGE BOARD SCHOOL",
          "HILLSIDE ARTS & LETTERS ACADEMY",
          "FOREST HILLS HIGH SCHOOL",
          "HILLCREST HIGH SCHOOL",
          "THOMAS A. EDISON CAREER AND TECHNICAL EDUCATION HIGH SCHOOL",
          "QUEENS GATEWAY TO HEALTH SCIENCES SECONDARY SCHOOL",
          "QUEENS METROPOLITAN HIGH SCHOOL",
          "QUEENS HIGH SCHOOL FOR THE SCIENCES AT YORK COLLEGE",
          "HIGH SCHOOL FOR LAW ENFORCEMENT AND PUBLIC SAFETY",
          "YOUNG WOMEN'S LEADERSHIP SCHOOL, QUEENS",
          "QUEENS PREPARATORY ACADEMY",
          "PATHWAYS COLLEGE PREPARATORY SCHOOL: A COLLEGE BOARD SCHOOL",
          "EXCELSIOR PREPARATORY HIGH SCHOOL",
          "GEORGE WASHINGTON CARVER HIGH SCHOOL FOR THE SCIENCES",
          "PREPARATORY ACADEMY FOR WRITERS: A COLLEGE BOARD SCHOOL",
          "CAMBRIA HEIGHTS ACADEMY",
          "MATHEMATICS, SCIENCE RESEARCH AND TECHNOLOGY MAGNET HIGH SCHOOL",
          "HUMANITIES & ARTS MAGNET HIGH SCHOOL",
          "YOUNG WOMEN'S LEADERSHIP SCHOOL, ASTORIA",
          "ACADEMY FOR CAREERS IN TELEVISION AND FILM",
          "WILLIAM CULLEN BRYANT HIGH SCHOOL",
          "LONG ISLAND CITY HIGH SCHOOL",
          "FRANK SINATRA SCHOOL OF THE ARTS HIGH SCHOOL",
          "INFORMATION TECHNOLOGY HIGH SCHOOL",
          "NEWCOMERS HIGH SCHOOL",
          "ACADEMY OF AMERICAN STUDIES",
          "BACCALAUREATE SCHOOL FOR GLOBAL EDUCATION"
         ],
         "textfont": {
          "color": "#4D5663"
         },
         "type": "scatter",
         "x": [
          22.61904761904762,
          11.855670103092782,
          28.736936782593798,
          35.25378310214376,
          20.448311593319517,
          6.765163297045102,
          9.666505558240695,
          25.961538461538463,
          26.172179747230455,
          23.91304347826087,
          21.46902598233713,
          1.9736842105263157,
          5.906406179009541,
          21.981064080723367,
          30.575555960627053,
          20.94624125874126,
          10.92436974789916,
          4.808743169398907,
          10.407966591712174,
          53.771929824561404,
          10.679611650485436,
          17.280163599182004,
          16.78709055876686,
          2.9707112970711296,
          14.510278113663846,
          10.788365063030616,
          28.995246326707004,
          6.761006289308176,
          41.62220843672457,
          22.32332978440245,
          24.483652021602687,
          5.178907721280603,
          1.84645286686103,
          5.493230174081238,
          4.134672179562906,
          9.848484848484848,
          26.386267107126006,
          24.39108622946052,
          64.51442307692308,
          19.118414188836724,
          7.7666774089590715,
          8.126110124333925,
          11.36653895274585,
          19.461364427427778,
          51.43540669856459,
          3.544776119402985,
          1.1764705882352942,
          3.4013605442176873,
          5.225225225225225,
          29.126150373328702,
          2.9535864978902953,
          8.456659619450317,
          87.77472527472527,
          5.339805825242718,
          26.825123940508554,
          26.066433566433567,
          30.79447402239765,
          8.251273344651953,
          11.990549320732427,
          14.285714285714285,
          5.561613958560523,
          12.768240343347639,
          14.346590909090908,
          29.324737762237763
         ],
         "y": [
          1280,
          1219,
          1240,
          951,
          1663,
          1203,
          1211,
          1177,
          1064,
          1174,
          1330,
          1270,
          1364,
          1396,
          1049,
          1271,
          1441,
          1243,
          1216,
          1910,
          1330,
          1514,
          1474,
          1172,
          1449,
          1279,
          1145,
          1252,
          1156,
          1265,
          1094,
          1532,
          1108,
          1154,
          1192,
          1345,
          1223.4388059701494,
          1265,
          1223.4388059701494,
          1407,
          1194,
          1372,
          1538,
          1223.4388059701494,
          1868,
          1196,
          1316,
          1099,
          1173,
          1202,
          1287,
          1100,
          1223.4388059701494,
          1220,
          1151,
          1223.4388059701494,
          1255,
          1275,
          1218,
          1494,
          1239,
          1127,
          1470,
          1636
         ]
        },
        {
         "marker": {
          "color": "rgba(219, 64, 82, 1.0)",
          "line": {
           "width": 1.3
          },
          "opacity": 0.8,
          "size": 12,
          "symbol": "circle"
         },
         "mode": "markers",
         "name": "Staten Island",
         "text": [
          "CSI HIGH SCHOOL FOR INTERNATIONAL STUDIES",
          "GAYNOR MCCOWN EXPEDITIONARY LEARNING SCHOOL",
          "THE MICHAEL J. PETRIDES SCHOOL",
          "NEW DORP HIGH SCHOOL",
          "PORT RICHMOND HIGH SCHOOL",
          "CURTIS HIGH SCHOOL",
          "TOTTENVILLE HIGH SCHOOL",
          "SUSAN E. WAGNER HIGH SCHOOL",
          "RALPH R. MCKEE CAREER AND TECHNICAL EDUCATION HIGH SCHOOL",
          "STATEN ISLAND TECHNICAL HIGH SCHOOL"
         ],
         "textfont": {
          "color": "#4D5663"
         },
         "type": "scatter",
         "x": [
          24.25354251012146,
          31.624717194570138,
          12.385321100917432,
          3.611738148984198,
          9.019060901906089,
          9.678683385579937,
          10.219354838709679,
          8.603145235892692,
          19.115384615384617,
          47.82608695652174
         ],
         "y": [
          1353,
          1195,
          1426,
          1277,
          1279,
          1301,
          1418,
          1388,
          1235,
          1953
         ]
        }
       ],
       "layout": {
        "legend": {
         "bgcolor": "#F5F6F9",
         "font": {
          "color": "#4D5663"
         }
        },
        "paper_bgcolor": "#F5F6F9",
        "plot_bgcolor": "#F5F6F9",
        "shapes": [
         {
          "line": {
           "color": "#000000",
           "dash": "dash",
           "width": 1
          },
          "type": "line",
          "x0": 0,
          "x1": 1,
          "xref": "paper",
          "y0": 1223.438805970149,
          "y1": 1223.438805970149,
          "yref": "y"
         },
         {
          "line": {
           "color": "#000000",
           "dash": "dash",
           "width": 1
          },
          "type": "line",
          "x0": 21.050294828886546,
          "x1": 21.050294828886546,
          "xref": "x",
          "y0": 0,
          "y1": 1,
          "yref": "paper"
         }
        ],
        "title": "Share of AP-Test takers vs. SAT score by school <br> dashed lines: average of entire dataset",
        "titlefont": {
         "color": "#4D5663"
        },
        "xaxis": {
         "gridcolor": "#E1E5ED",
         "showgrid": true,
         "tickfont": {
          "color": "#4D5663"
         },
         "title": "AP-Test Takers, %",
         "titlefont": {
          "color": "#4D5663"
         },
         "zerolinecolor": "#E1E5ED"
        },
        "yaxis": {
         "gridcolor": "#E1E5ED",
         "showgrid": true,
         "tickfont": {
          "color": "#4D5663"
         },
         "title": "Avg. SAT score",
         "titlefont": {
          "color": "#4D5663"
         },
         "zerolinecolor": "#E1E5ED"
        }
       }
      },
      "text/html": [
       "<div>\n",
       "        \n",
       "        \n",
       "            <div id=\"076ae346-31b1-4675-ad79-8277dcd74d15\" class=\"plotly-graph-div\" style=\"height:525px; width:100%;\"></div>\n",
       "            <script type=\"text/javascript\">\n",
       "                require([\"plotly\"], function(Plotly) {\n",
       "                    window.PLOTLYENV=window.PLOTLYENV || {};\n",
       "                    window.PLOTLYENV.BASE_URL='https://plot.ly';\n",
       "                    \n",
       "                if (document.getElementById(\"076ae346-31b1-4675-ad79-8277dcd74d15\")) {\n",
       "                    Plotly.newPlot(\n",
       "                        '076ae346-31b1-4675-ad79-8277dcd74d15',\n",
       "                        [{\"marker\": {\"color\": \"rgba(255, 153, 51, 1.0)\", \"line\": {\"width\": 1.3}, \"opacity\": 0.8, \"size\": 12, \"symbol\": \"circle\"}, \"mode\": \"markers\", \"name\": \"Manhattan\", \"text\": [\"HENRY STREET SCHOOL FOR INTERNATIONAL STUDIES\", \"UNIVERSITY NEIGHBORHOOD HIGH SCHOOL\", \"EAST SIDE COMMUNITY SCHOOL\", \"MARTA VALLE HIGH SCHOOL\", \"NEW EXPLORATIONS INTO SCIENCE, TECHNOLOGY AND MATH HIGH SCHOOL\", \"BARD HIGH SCHOOL EARLY COLLEGE\", \"47 THE AMERICAN SIGN LANGUAGE AND ENGLISH SECONDARY SCHOOL\", \"FOOD AND FINANCE HIGH SCHOOL\", \"ESSEX STREET ACADEMY\", \"HIGH SCHOOL OF HOSPITALITY MANAGEMENT\", \"PACE HIGH SCHOOL\", \"URBAN ASSEMBLY SCHOOL OF DESIGN AND CONSTRUCTION, THE\", \"FACING HISTORY SCHOOL, THE\", \"URBAN ASSEMBLY ACADEMY OF GOVERNMENT AND LAW, THE\", \"LOWER MANHATTAN ARTS ACADEMY\", \"URBAN ASSEMBLY SCHOOL OF BUSINESS FOR YOUNG WOMEN, THE\", \"GRAMERCY ARTS HIGH SCHOOL\", \"NYC ISCHOOL\", \"MANHATTAN BUSINESS ACADEMY\", \"BUSINESS OF SPORTS SCHOOL\", \"THE HIGH SCHOOL FOR LANGUAGE AND DIPLOMACY\", \"HIGH SCHOOL FOR ENVIRONMENTAL STUDIES\", \"PROFESSIONAL PERFORMING ARTS HIGH SCHOOL\", \"BARUCH COLLEGE CAMPUS HIGH SCHOOL\", \"N.Y.C. LAB SCHOOL FOR COLLABORATIVE STUDIES\", \"N.Y.C. MUSEUM SCHOOL\", \"ELEANOR ROOSEVELT HIGH SCHOOL\", \"MILLENNIUM HIGH SCHOOL\", \"LANDMARK HIGH SCHOOL\", \"HIGH SCHOOL FOR HEALTH PROFESSIONS AND HUMAN SERVICES\", \"LEADERSHIP AND PUBLIC SERVICE HIGH SCHOOL\", \"MANHATTAN ACADEMY FOR ARTS & LANGUAGE\", \"HUDSON HIGH SCHOOL OF LEARNING TECHNOLOGIES\", \"INTERNATIONAL HIGH SCHOOL AT UNION SQUARE\", \"MANHATTAN VILLAGE ACADEMY\", \"VANGUARD HIGH SCHOOL\", \"MANHATTAN INTERNATIONAL HIGH SCHOOL\", \"STUYVESANT HIGH SCHOOL\", \"HIGH SCHOOL OF ECONOMICS AND FINANCE\", \"UNITY CENTER FOR URBAN TECHNOLOGIES\", \"TALENT UNLIMITED HIGH SCHOOL\", \"MURRY BERGTRAUM HIGH SCHOOL FOR BUSINESS CAREERS\", \"JACQUELINE KENNEDY ONASSIS HIGH SCHOOL\", \"REPERTORY COMPANY HIGH SCHOOL FOR THEATRE ARTS\", \"MANHATTAN BRIDGES HIGH SCHOOL\", \"NEW DESIGN HIGH SCHOOL\", \"HIGH SCHOOL FOR DUAL LANGUAGE AND ASIAN STUDIES\", \"THE URBAN ASSEMBLY NEW YORK HARBOR SCHOOL\", \"RICHARD R. GREEN HIGH SCHOOL OF TEACHING\", \"THE HIGH SCHOOL OF FASHION INDUSTRIES\", \"HUMANITIES PREPARATORY ACADEMY\", \"CHELSEA CAREER AND TECHNICAL EDUCATION HIGH SCHOOL\", \"ART AND DESIGN HIGH SCHOOL\", \"LIFE SCIENCES SECONDARY SCHOOL\", \"HIGH SCHOOL FOR ARTS, IMAGINATION AND INQUIRY\", \"URBAN ASSEMBLY SCHOOL FOR MEDIA STUDIES, THE\", \"THE URBAN ASSEMBLY SCHOOL FOR GREEN CAREERS\", \"THE GLOBAL LEARNING COLLABORATIVE\", \"WADLEIGH SECONDARY SCHOOL FOR THE PERFORMING & VISUAL ARTS\", \"FRANK MCCOURT HIGH SCHOOL\", \"BEACON HIGH SCHOOL\", \"FIORELLO H. LAGUARDIA HIGH SCHOOL OF MUSIC & ART AND PERFORMING ARTS\", \"HIGH SCHOOL FOR LAW, ADVOCACY AND COMMUNITY JUSTICE\", \"HIGH SCHOOL OF ARTS AND TECHNOLOGY\", \"MANHATTAN / HUNTER SCIENCE HIGH SCHOOL\", \"FREDERICK DOUGLASS ACADEMY II SECONDARY SCHOOL\", \"COALITION SCHOOL FOR SOCIAL CHANGE\", \"MANHATTAN CENTER FOR SCIENCE AND MATHEMATICS\", \"PARK EAST HIGH SCHOOL\", \"CENTRAL PARK EAST HIGH SCHOOL\", \"YOUNG WOMEN'S LEADERSHIP SCHOOL\", \"YOUNG WOMEN'S LEADERSHIP SCHOOL\", \"HERITAGE SCHOOL, THE\", \"MOTT HALL HIGH SCHOOL\", \"COLUMBIA SECONDARY SCHOOL FOR MATH, SCIENCE, AND ENGINEERING\", \"ACADEMY FOR SOCIAL ACTION: A COLLEGE BOARD SCHOOL\", \"URBAN ASSEMBLY SCHOOL FOR THE PERFORMING ARTS\", \"FREDERICK DOUGLASS ACADEMY\", \"THURGOOD MARSHALL ACADEMY FOR LEARNING AND SOCIAL CHANGE\", \"HIGH SCHOOL FOR MATHEMATICS, SCIENCE AND ENGINEERING AT CITY COLLEGE\", \"CITY COLLEGE ACADEMY OF THE ARTS\", \"COMMUNITY HEALTH ACADEMY OF THE HEIGHTS\", \"WASHINGTON HEIGHTS EXPEDITIONARY LEARNING SCHOOL\", \"HIGH SCHOOL FOR EXCELLENCE AND INNOVATION\", \"HIGH SCHOOL FOR INTERNATIONAL BUSINESS AND FINANCE\", \"HIGH SCHOOL FOR MEDIA AND COMMUNICATIONS\", \"HIGH SCHOOL FOR LAW AND PUBLIC SERVICE\", \"HIGH SCHOOL FOR HEALTH CAREERS AND SCIENCES\", \"A. PHILIP RANDOLPH CAMPUS HIGH SCHOOL\", \"GREGORIO LUPERON HIGH SCHOOL FOR SCIENCE AND MATHEMATICS\"], \"textfont\": {\"color\": \"#4D5663\"}, \"type\": \"scatter\", \"x\": [30.575555960627053, 9.898477157360407, 3.177257525083612, 35.157723747642, 15.809051456912584, 20.912292731579605, 74.15450928381964, 29.798809735299344, 37.61773940345369, 30.79447402239765, 5.072463768115942, 22.96983758700696, 9.312638580931264, 8.012820512820513, 38.40144230769231, 34.13461538461539, 26.066433566433567, 29.798809735299344, 38.86411028730306, 42.44369939271255, 52.88067465321564, 15.27977044476327, 3.9840637450199203, 18.055555555555554, 19.689119170984455, 29.593772053634442, 30.57199211045365, 13.738019169329075, 30.6481819842865, 11.538461538461538, 11.532125205930807, 73.73076923076923, 57.09240980258679, 73.3118444055944, 9.79020979020979, 29.06055093555094, 3.6923076923076925, 45.799211404306945, 12.484548825710753, 54.442551119766314, 6.109979633401222, 5.692233478051134, 11.049723756906078, 59.460297766749385, 12.384473197781885, 30.50327332242226, 17.280453257790366, 1.627906976744186, 10.98360655737705, 4.377736085053159, 67.20252403846155, 11.158798283261802, 6.25, 6.97350069735007, 30.868145012881858, 35.25378310214376, 45.59323185648274, 36.04157713794586, 12.5968992248062, 58.917281348788194, 14.285714285714285, 26.525911708253357, 23.850063984075078, 6.301824212271974, 28.483188996434034, 2.663438256658596, 5.157593123209169, 19.87878787878788, 36.97101608992727, 28.995246326707004, 9.131403118040089, 28.736936782593798, 43.887362637362635, 2.5821596244131455, 27.221275559883157, 4.0, 34.499691484985604, 10.475578406169666, 6.379310344827586, 28.078817733990146, 22.018574428983985, 24.813239644970416, 21.43336314847943, 72.4881158167675, 17.142857142857142, 6.468531468531468, 20.31700288184438, 4.712812960235641, 12.840466926070038, 18.64406779661017], \"y\": [1122.0, 1172.0, 1149.0, 1207.0, 1621.0, 1856.0, 1182.0, 1194.0, 1156.0, 1111.0, 1293.0, 1269.0, 1051.0, 1148.0, 1200.0, 1127.0, 1176.0, 1435.0, 1223.4388059701494, 1223.4388059701494, 1223.4388059701494, 1419.0, 1522.0, 1577.0, 1677.0, 1419.0, 1758.0, 1614.0, 1170.0, 1306.0, 1233.0, 1223.4388059701494, 1223.4388059701494, 1223.4388059701494, 1372.0, 1199.0, 1227.0, 2096.0, 1374.0, 1070.0, 1416.0, 1240.0, 1239.0, 1253.0, 1058.0, 1168.0, 1424.0, 1212.0, 1195.0, 1257.0, 1255.0, 1207.0, 1315.0, 1236.0, 1132.0, 1144.0, 1223.4388059701494, 1223.4388059701494, 1109.0, 1223.4388059701494, 1744.0, 1707.0, 1196.0, 1277.0, 1446.0, 1096.0, 1084.0, 1430.0, 1128.0, 1221.0, 1326.0, 1326.0, 1054.0, 1210.0, 1223.4388059701494, 1062.0, 1077.0, 1374.0, 1202.0, 1847.0, 1270.0, 1105.0, 1174.0, 1223.4388059701494, 1127.0, 1098.0, 1102.0, 1224.0, 1309.0, 1014.0]}, {\"marker\": {\"color\": \"rgba(55, 128, 191, 1.0)\", \"line\": {\"width\": 1.3}, \"opacity\": 0.8, \"size\": 12, \"symbol\": \"circle\"}, \"mode\": \"markers\", \"name\": \"Bronx\", \"text\": [\"SOUTH BRONX PREPARATORY: A COLLEGE BOARD SCHOOL\", \"INTERNATIONAL COMMUNITY HIGH SCHOOL\", \"COMMUNITY SCHOOL FOR SOCIAL JUSTICE\", \"MOTT HAVEN VILLAGE PREPARATORY HIGH SCHOOL\", \"UNIVERSITY HEIGHTS SECONDARY SCHOOL\", \"HOSTOSsLINCOLN ACADEMY OF SCIENCE\", \"FOREIGN LANGUAGE ACADEMY OF GLOBAL STUDIES\", \"BRONX LEADERSHIP ACADEMY II HIGH SCHOOL\", \"NEW EXPLORERS HIGH SCHOOL\", \"URBAN ASSEMBLY SCHOOL FOR CAREERS IN SPORTS\", \"BRONX ACADEMY OF LETTERS\", \"ALFRED E. SMITH CAREER AND TECHNICAL EDUCATION HIGH SCHOOL\", \"HEALTH OPPORTUNITIES HIGH SCHOOL\", \"BRONX STUDIO SCHOOL FOR WRITERS AND ARTISTS\", \"WOMEN'S ACADEMY OF EXCELLENCE\", \"RENAISSANCE HIGH SCHOOL FOR MUSICAL THEATER & TECHNOLOGY\", \"PABLO NERUDA ACADEMY FOR ARCHITECTURE AND WORLD STUDIES\", \"MILLENNIUM ART ACADEMY\", \"HOLCOMBE L. RUCKER SCHOOL OF COMMUNITY RESEARCH\", \"ANTONIA PANTOJA PREPARATORY ACADEMY, A COLLEGE BOARD SCHOOL\", \"HERBERT H. LEHMAN HIGH SCHOOL\", \"BRONX BRIDGES HIGH SCHOOL\", \"FELISA RINCON DE GAUTIER INSTITUTE FOR LAW AND PUBLIC POLICY, THE\", \"BANANA KELLY HIGH SCHOOL\", \"BRONX EXPEDITIONARY LEARNING HIGH SCHOOL\", \"EAGLE ACADEMY FOR YOUNG MEN\", \"URBAN ASSEMBLY SCHOOL FOR APPLIED MATH AND SCIENCE, THE\", \"EXIMIUS COLLEGE PREPARATORY ACADEMY: A COLLEGE BOARD SCHOOL\", \"MOTT HALL BRONX HIGH SCHOOL\", \"BRONX CENTER FOR SCIENCE AND MATHEMATICS\", \"VALIDUS PREPARATORY ACADEMY: AN EXPEDITIONARY LEARNING SCHOOL\", \"LEADERSHIP INSTITUTE\", \"MORRIS ACADEMY FOR COLLABORATIVE STUDIES\", \"BRONX EARLY COLLEGE ACADEMY FOR TEACHING & LEARNING\", \"DREAMYARD PREPARATORY SCHOOL\", \"ACADEMY FOR LANGUAGE AND TECHNOLOGY\", \"BRONX INTERNATIONAL HIGH SCHOOL\", \"SCHOOL FOR EXCELLENCE\", \"BRONX HIGH SCHOOL OF BUSINESS\", \"BRONX HIGH SCHOOL FOR MEDICAL SCIENCE\", \"BRONX SCHOOL FOR LAW, GOVERNMENT AND JUSTICE\", \"FREDERICK DOUGLASS ACADEMY III SECONDARY SCHOOL\", \"BRONX LEADERSHIP ACADEMY HIGH SCHOOL\", \"HIGH SCHOOL FOR VIOLIN AND DANCE\", \"RIVERDALE / KINGSBRIDGE ACADEMY (MIDDLE SCHOOL / HIGH SCHOOL 141)\", \"BRONX ENGINEERING AND TECHNOLOGY ACADEMY\", \"THEATRE ARTS PRODUCTION COMPANY SCHOOL\", \"THE MARIE CURIE SCHOOL FOR MEDICINE, NURSING, AND HEALTH PROFESSIONS\", \"WEST BRONX ACADEMY FOR THE FUTURE\", \"KINGSBRIDGE INTERNATIONAL HIGH SCHOOL\", \"BRONX SCHOOL OF LAW AND FINANCE\", \"INTERNATIONAL SCHOOL FOR LIBERAL ARTS\", \"INsTECH ACADEMY (M.S. / HIGH SCHOOL 368)\", \"KNOWLEDGE AND POWER PREPARATORY ACADEMY INTERNATIONAL HIGH SCHOOL (KAPPA)\", \"HIGH SCHOOL FOR TEACHING AND THE PROFESSIONS\", \"BELMONT PREPARATORY HIGH SCHOOL\", \"FORDHAM HIGH SCHOOL FOR THE ARTS\", \"FORDHAM LEADERSHIP ACADEMY FOR BUSINESS AND TECHNOLOGY\", \"BRONX HIGH SCHOOL FOR LAW AND COMMUNITY SERVICE\", \"DEWITT CLINTON HIGH SCHOOL\", \"CELIA CRUZ BRONX HIGH SCHOOL OF MUSIC, THE\", \"BRONX HIGH SCHOOL OF SCIENCE\", \"MARBLE HILL HIGH SCHOOL FOR INTERNATIONAL STUDIES\", \"BRONX THEATRE HIGH SCHOOL\", \"DISCOVERY HIGH SCHOOL\", \"HIGH SCHOOL OF AMERICAN STUDIES AT LEHMAN COLLEGE\", \"BRONX HEALTH SCIENCES HIGH SCHOOL\", \"BRONX HIGH SCHOOL FOR WRITING AND COMMUNICATION ARTS\", \"BRONX LAB SCHOOL\", \"ACADEMY FOR SCHOLARSHIP AND ENTREPRENEURSHIP: A COLLEGE BOARD SCHOOL\", \"HIGH SCHOOL OF COMPUTERS AND TECHNOLOGY\", \"COLLEGIATE INSTITUTE FOR MATH AND SCIENCE\", \"BRONX ACADEMY OF HEALTH CAREERS\", \"ASTOR COLLEGIATE ACADEMY\", \"BRONX HIGH SCHOOL FOR THE VISUAL ARTS\", \"HARRY S TRUMAN HIGH SCHOOL\", \"NEW WORLD HIGH SCHOOL\", \"THE BRONXWOOD PREPARATORY ACADEMY\", \"PELHAM PREPARATORY ACADEMY\", \"HIGH SCHOOL FOR CONTEMPORARY ARTS\", \"BRONX AEROSPACE HIGH SCHOOL\", \"METROPOLITAN HIGH SCHOOL, THE\", \"EXPLORATIONS ACADEMY\", \"BRONX LATIN\", \"EAST BRONX ACADEMY FOR THE FUTURE\", \"PEACE AND DIVERSITY ACADEMY\", \"PAN AMERICAN INTERNATIONAL HIGH SCHOOL AT MONROE\", \"THE CINEMA SCHOOL\", \"BRONX CAREER AND COLLEGE PREPARATORY HIGH SCHOOL\", \"HIGH SCHOOL OF WORLD CULTURES\", \"FANNIE LOU HAMER FREEDOM HIGH SCHOOL\", \"WINGS ACADEMY\", \"MONROE ACADEMY FOR VISUAL ARTS & DESIGN\"], \"textfont\": {\"color\": \"#4D5663\"}, \"type\": \"scatter\", \"x\": [10.128617363344052, 32.83176746917205, 40.44791415481071, 35.545136681500324, 27.748138957816376, 11.895910780669144, 4.180064308681672, 5.9760956175298805, 4.699738903394255, 27.050072568940497, 9.54954954954955, 1.4905149051490514, 10.391822827938672, 25.805769230769233, 5.540897097625329, 4.690831556503198, 35.9411827726591, 7.056451612903227, 6.006006006006006, 29.867788461538463, 11.967715001391594, 83.24441687344914, 35.545136681500324, 28.60950025584172, 36.346153846153854, 5.818181818181818, 2.6402640264026402, 25.280898876404496, 36.448826597131685, 13.963963963963963, 1.9178082191780823, 7.391304347826087, 28.673076923076923, 26.172179747230455, 4.297994269340974, 5.952380952380952, 32.01708341286505, 33.427162216022325, 6.483790523690773, 28.357988165680474, 5.897771952817824, 4.887218045112782, 5.673758865248227, 39.94701119314122, 9.947643979057592, 24.0990990990991, 3.2442748091603053, 2.7777777777777777, 3.930817610062893, 6.438631790744467, 4.976303317535545, 9.075907590759076, 3.5523978685612785, 39.82371794871795, 13.107822410147993, 7.616707616707617, 33.34078711985689, 9.312638580931264, 10.185185185185185, 8.800192353931234, 7.328605200945626, 39.495519415864585, 18.201754385964914, 7.640449438202247, 24.39108622946052, 51.45888594164456, 34.22515813099368, 6.6350710900473935, 26.769470156399617, 3.9603960396039604, 23.45979020979021, 14.548802946593002, 26.714046822742475, 7.228915662650602, 5.383022774327122, 5.80936266215454, 2.9850746268656714, 31.01654955621302, 9.072978303747535, 26.937128633370804, 31.01654955621302, 7.374631268436578, 35.64332766680833, 30.868145012881858, 5.169628432956381, 3.463203463203463, 31.780503978779844, 57.86046912728528, 52.88067465321564, 34.967166979362105, 27.050072568940497, 3.717472118959108, 27.68859359524596], \"y\": [1090.0, 945.0, 1077.0, 1097.0, 1201.0, 1257.0, 1186.0, 1103.0, 1084.0, 1181.0, 1201.0, 1158.0, 1095.0, 1223.4388059701494, 1171.0, 1158.0, 1038.0, 1164.0, 1084.0, 1223.4388059701494, 1241.0, 1223.4388059701494, 1099.0, 1131.0, 1049.0, 1134.0, 1290.0, 1169.0, 1092.0, 1396.0, 1075.0, 1081.0, 1148.0, 1223.4388059701494, 1138.0, 951.0, 965.0, 1074.0, 1083.0, 1221.0, 1224.0, 1121.0, 1166.0, 1039.0, 1333.0, 1150.0, 1190.0, 1157.0, 1158.0, 962.0, 1182.0, 934.0, 1181.0, 1180.0, 1106.0, 1222.0, 1077.0, 1119.0, 1082.0, 1255.0, 1270.0, 1969.0, 1263.0, 1064.0, 1115.0, 1920.0, 1133.0, 1147.0, 1135.0, 1141.0, 1111.0, 1348.0, 1135.0, 1169.0, 1268.0, 1151.0, 1048.0, 1112.0, 1288.0, 1126.0, 1163.0, 1055.0, 1122.0, 1251.0, 1102.0, 1155.0, 970.0, 1223.4388059701494, 1223.4388059701494, 939.0, 1029.0, 1114.0, 1038.0]}, {\"marker\": {\"color\": \"rgba(50, 171, 96, 1.0)\", \"line\": {\"width\": 1.3}, \"opacity\": 0.8, \"size\": 12, \"symbol\": \"circle\"}, \"mode\": \"markers\", \"name\": \"Brooklyn\", \"text\": [\"DR. SUSAN S. MCKINNEY SECONDARY SCHOOL OF THE ARTS\", \"URBAN ASSEMBLY HIGH SCHOOL OF MUSIC AND ART\", \"BROOKLYN COMMUNITY HIGH SCHOOL OF COMMUNICATION, ARTS AND MEDIA\", \"SCIENCE SKILLS CENTER HIGH SCHOOL FOR SCIENCE, TECHNOLOGY AND THE CREATIVE ARTS\", \"BROOKLYN TECHNICAL HIGH SCHOOL\", \"BROOKLYN INTERNATIONAL HIGH SCHOOL\", \"THE URBAN ASSEMBLY SCHOOL FOR LAW AND JUSTICE\", \"ACORN COMMUNITY HIGH SCHOOL\", \"URBAN ASSEMBLY INSTITUTE OF MATH AND SCIENCE FOR YOUNG WOMEN\", \"BEDFORD ACADEMY HIGH SCHOOL\", \"GEORGE WESTINGHOUSE CAREER AND TECHNICAL EDUCATION HIGH SCHOOL\", \"BENJAMIN BANNEKER ACADEMY\", \"CITY POLYTECHNIC HIGH SCHOOL OF ENGINEERING, ARCHITECTURE, AND TECHNOLOGY\", \"JUAN MOREL CAMPOS SECONDARY SCHOOL\", \"FOUNDATIONS ACADEMY\", \"BROOKLYN LATIN SCHOOL, THE\", \"GREEN SCHOOL: AN ACADEMY FOR ENVIRONMENTAL CAREERS\", \"PROGRESS HIGH SCHOOL FOR PROFESSIONAL CAREERS\", \"SCHOOL FOR LEGAL STUDIES\", \"THE HIGH SCHOOL FOR ENTERPRISE, BUSINESS AND TECHNOLOGY\", \"BROOKLYN PREPARATORY HIGH SCHOOL\", \"WILLIAMSBURG HIGH SCHOOL FOR ARCHITECTURE AND DESIGN\", \"WILLIAMSBURG PREPARATORY SCHOOL\", \"LYONS COMMUNITY SCHOOL\", \"AUTOMOTIVE HIGH SCHOOL\", \"FRANCES PERKINS ACADEMY\", \"EL PUENTE ACADEMY FOR PEACE AND JUSTICE\", \"BROOKLYN SCHOOL FOR GLOBAL STUDIES\", \"BROOKLYN SECONDARY SCHOOL FOR COLLABORATIVE STUDIES\", \"SECONDARY SCHOOL FOR LAW\", \"SECONDARY SCHOOL FOR JOURNALISM\", \"PARK SLOPE COLLEGIATE\", \"SCHOOL FOR INTERNATIONAL STUDIES\", \"COBBLE HILL SCHOOL OF AMERICAN STUDIES\", \"BROOKLYN HIGH SCHOOL OF THE ARTS\", \"SUNSET PARK HIGH SCHOOL\", \"FREDERICK DOUGLASS ACADEMY IV SECONDARY SCHOOL\", \"BOYS AND GIRLS HIGH SCHOOL\", \"BROOKLYN HIGH SCHOOL FOR LAW AND TECHNOLOGY\", \"THE BROOKLYN ACADEMY OF GLOBAL FINANCE\", \"ACADEMY FOR COLLEGE PREPARATION AND CAREER EXPLORATION: A COLLEGE BOARD SCHOOL\", \"ACADEMY OF HOSPITALITY AND TOURISM\", \"INTERNATIONAL HIGH SCHOOL AT PROSPECT HEIGHTS\", \"THE HIGH SCHOOL FOR GLOBAL CITIZENSHIP\", \"SCHOOL FOR HUMAN RIGHTS, THE\", \"SCHOOL FOR DEMOCRACY AND LEADERSHIP\", \"HIGH SCHOOL FOR YOUTH AND COMMUNITY DEVELOPMENT AT ERASMUS\", \"HIGH SCHOOL FOR SERVICE & LEARNING AT ERASMUS\", \"SCIENCE, TECHNOLOGY AND RESEARCH EARLY COLLEGE HIGH SCHOOL AT ERASMUS\", \"HIGH SCHOOL FOR PUBLIC SERVICE: HEROES OF TOMORROW\", \"BROOKLYN ACADEMY OF SCIENCE AND THE ENVIRONMENT\", \"BROOKLYN SCHOOL FOR MUSIC & THEATRE\", \"MEDGAR EVERS COLLEGE PREPARATORY SCHOOL\", \"CLARA BARTON HIGH SCHOOL\", \"IT TAKES A VILLAGE ACADEMY\", \"BROOKLYN GENERATION SCHOOL\", \"BROOKLYN THEATRE ARTS HIGH SCHOOL\", \"KURT HAHN EXPEDITIONARY LEARNING SCHOOL\", \"VICTORY COLLEGIATE HIGH SCHOOL\", \"ARTS & MEDIA PREPARATORY ACADEMY\", \"HIGH SCHOOL FOR INNOVATION IN ADVERTISING AND MEDIA\", \"CULTURAL ACADEMY FOR THE ARTS AND SCIENCES\", \"HIGH SCHOOL FOR MEDICAL PROFESSIONS\", \"ACADEMY FOR CONSERVATION AND THE ENVIRONMENT\", \"URBAN ACTION ACADEMY\", \"EAST NEW YORK FAMILY ACADEMY\", \"FDNY HIGH SCHOOL FOR FIRE AND LIFE SAFETY\", \"HIGH SCHOOL FOR CIVIL RIGHTS\", \"PERFORMING ARTS AND TECHNOLOGY HIGH SCHOOL\", \"WORLD ACADEMY FOR TOTAL COMMUNITY HEALTH HIGH SCHOOL\", \"MULTICULTURAL HIGH SCHOOL\", \"TRANSIT TECH CAREER AND TECHNICAL EDUCATION HIGH SCHOOL\", \"ACADEMY OF INNOVATIVE TECHNOLOGY\", \"BROOKLYN LAB SCHOOL\", \"CYPRESS HILLS COLLEGIATE PREPARATORY SCHOOL\", \"W. H. MAXWELL CAREER AND TECHNICAL EDUCATION HIGH SCHOOL\", \"THE SCHOOL FOR CLASSICS: AN ACADEMY OF THINKERS, WRITERS AND PERFORMERS\", \"NEW UTRECHT HIGH SCHOOL\", \"HIGH SCHOOL OF TELECOMMUNICATION ARTS AND TECHNOLOGY\", \"FORT HAMILTON HIGH SCHOOL\", \"FRANKLIN DELANO ROOSEVELT HIGH SCHOOL\", \"THE URBAN ASSEMBLY SCHOOL FOR CRIMINAL JUSTICE\", \"INTERNATIONAL HIGH SCHOOL AT LAFAYETTE\", \"RACHEL CARSON HIGH SCHOOL FOR COASTAL STUDIES\", \"HIGH SCHOOL OF SPORTS MANAGEMENT\", \"ABRAHAM LINCOLN HIGH SCHOOL\", \"KINGSBOROUGH EARLY COLLEGE SCHOOL\", \"EDWARD R. MURROW HIGH SCHOOL\", \"JOHN DEWEY HIGH SCHOOL\", \"LIFE ACADEMY HIGH SCHOOL FOR FILM AND MUSIC\", \"EXPEDITIONARY LEARNING SCHOOL FOR COMMUNITY LEADERS\", \"WILLIAM E. GRADY CAREER AND TECHNICAL EDUCATION HIGH SCHOOL\", \"BROOKLYN STUDIO SECONDARY SCHOOL\", \"MIDWOOD HIGH SCHOOL\", \"JAMES MADISON HIGH SCHOOL\", \"LEON M. GOLDSTEIN HIGH SCHOOL FOR THE SCIENCES\", \"BROOKLYN COLLEGE ACADEMY\", \"BROOKLYN COLLEGIATE: A COLLEGE BOARD SCHOOL\", \"FREDERICK DOUGLASS ACADEMY VII HIGH SCHOOL\", \"TEACHERS PREPARATORY HIGH SCHOOL\", \"ACADEMY FOR ENVIRONMENTAL LEADERSHIP\", \"EBC HIGH SCHOOL FOR PUBLIC SERVICE\\u2013BUSHWICK\", \"BUSHWICK SCHOOL FOR SOCIAL JUSTICE\", \"ACADEMY OF URBAN PLANNING\", \"ALL CITY LEADERSHIP SECONDARY SCHOOL\", \"BUSHWICK LEADERS HIGH SCHOOL FOR ACADEMIC EXCELLENCE\"], \"textfont\": {\"color\": \"#4D5663\"}, \"type\": \"scatter\", \"x\": [3.837471783295711, 29.937087274674283, 4.545454545454546, 10.058027079303674, 39.70367591897975, 35.157723747642, 6.888888888888889, 8.755129958960328, 27.511481056257175, 11.716621253405995, 3.7756202804746493, 14.748603351955309, 38.51607347876005, 1.8497109826589597, 29.78723404255319, 27.570266272189354, 32.91552197802198, 4.681647940074907, 3.1620553359683794, 9.631147540983607, 7.000000000000001, 6.0, 5.37261698440208, 24.483652021602687, 17.846313437599743, 74.58314806580702, 59.187544107268884, 36.448826597131685, 18.645787016451756, 27.278825825337456, 6.547619047619048, 32.748438110113234, 6.172839506172839, 3.770739064856712, 19.03080326752893, 13.059599813142325, 29.39153670930437, 1.3488657265481299, 12.098765432098766, 81.15021770682148, 11.327433628318584, 40.44791415481071, 32.176769614425474, 5.830903790087463, 33.427162216022325, 31.780503978779844, 5.454545454545454, 30.575555960627053, 24.76561346522959, 25.41966426858513, 10.40339702760085, 8.980582524271846, 24.637681159420293, 8.395522388059701, 33.77718485702779, 38.9815245177783, 33.77718485702779, 43.887362637362635, 39.701183431952664, 44.03714885796797, 41.62220843672457, 43.153460252122464, 28.0497491638796, 47.09081976417743, 42.30453972257251, 29.798809735299344, 33.86583888552393, 2.9925187032418954, 28.483188996434034, 5.7894736842105265, 10.83743842364532, 10.478359908883828, 31.937833206397563, 32.50096880449526, 4.805491990846682, 7.796610169491526, 41.488374969082365, 5.311355311355311, 19.609375, 8.350877192982455, 7.335907335907336, 34.499691484985604, 37.61773940345369, 7.0686070686070686, 2.7027027027027026, 5.1252408477842, 27.33661994784876, 9.870711089010442, 10.70110701107011, 51.40591480232914, 57.09240980258679, 13.496741229481815, 4.4520547945205475, 19.390942217595004, 10.500650195058519, 35.90998043052838, 20.480769230769234, 2.586206896551724, 10.684931506849315, 5.830388692579505, 35.64332766680833, 7.755775577557755, 29.730148883374692, 19.09547738693467, 2.6615969581749046, 7.35930735930736], \"y\": [1074.0, 1080.0, 1114.0, 1211.0, 1833.0, 981.0, 1206.0, 1116.0, 1223.4388059701494, 1312.0, 1189.0, 1391.0, 1353.0, 1085.0, 1223.4388059701494, 1740.0, 1189.0, 1114.0, 1204.0, 1215.0, 1090.0, 1112.0, 1187.0, 1103.0, 1093.0, 1122.0, 1035.0, 1111.0, 1179.0, 1203.0, 1169.0, 1175.0, 1212.0, 1185.0, 1258.0, 1223.4388059701494, 1068.0, 1097.0, 1092.0, 1223.4388059701494, 1139.0, 1045.0, 913.0, 1176.0, 1088.0, 1153.0, 1027.0, 1105.0, 1360.0, 1273.0, 1143.0, 1151.0, 1436.0, 1251.0, 963.0, 1145.0, 1118.0, 1092.0, 1143.0, 1080.0, 1183.0, 1169.0, 1159.0, 1111.0, 1135.0, 1242.0, 1023.0, 1054.0, 1149.0, 1106.0, 887.0, 1193.0, 1096.0, 1108.0, 1129.0, 1102.0, 1157.0, 1272.0, 1323.0, 1306.0, 1244.0, 1223.4388059701494, 1026.0, 1237.0, 1164.0, 1226.0, 1223.4388059701494, 1431.0, 1262.0, 1124.0, 1079.0, 1184.0, 1313.0, 1473.0, 1350.0, 1627.0, 1352.0, 1185.0, 1091.0, 1196.0, 1098.0, 1154.0, 1035.0, 1060.0, 1315.0, 1055.0]}, {\"marker\": {\"color\": \"rgba(128, 0, 128, 1.0)\", \"line\": {\"width\": 1.3}, \"opacity\": 0.8, \"size\": 12, \"symbol\": \"circle\"}, \"mode\": \"markers\", \"name\": \"Queens\", \"text\": [\"ACADEMY OF FINANCE AND ENTERPRISE\", \"HIGH SCHOOL OF APPLIED COMMUNICATION\", \"CIVIC LEADERSHIP ACADEMY\", \"PAN AMERICAN INTERNATIONAL HIGH SCHOOL\", \"BARD HIGH SCHOOL EARLY COLLEGE II\", \"NEWTOWN HIGH SCHOOL\", \"GROVER CLEVELAND HIGH SCHOOL\", \"MIDDLE COLLEGE HIGH SCHOOL AT LAGUARDIA COMMUNITY COLLEGE\", \"INTERNATIONAL HIGH SCHOOL AT LAGUARDIA COMMUNITY COLLEGE\", \"HIGH SCHOOL FOR ARTS AND BUSINESS\", \"ROBERT F. WAGNER, JR. SECONDARY SCHOOL FOR ARTS AND TECHNOLOGY\", \"QUEENS VOCATIONAL AND TECHNICAL HIGH SCHOOL\", \"AVIATION CAREER & TECHNICAL EDUCATION HIGH SCHOOL\", \"QUEENS SCHOOL OF INQUIRY, THE\", \"FLUSHING INTERNATIONAL HIGH SCHOOL\", \"EASTsWEST SCHOOL OF INTERNATIONAL STUDIES\", \"WORLD JOURNALISM PREPARATORY: A COLLEGE BOARD SCHOOL\", \"JOHN BOWNE HIGH SCHOOL\", \"FLUSHING HIGH SCHOOL\", \"TOWNSEND HARRIS HIGH SCHOOL\", \"ROBERT F. KENNEDY COMMUNITY HIGH SCHOOL\", \"BENJAMIN N. CARDOZO HIGH SCHOOL\", \"FRANCIS LEWIS HIGH SCHOOL\", \"MARTIN VAN BUREN HIGH SCHOOL\", \"BAYSIDE HIGH SCHOOL\", \"QUEENS HIGH SCHOOL OF TEACHING, LIBERAL ARTS AND THE SCIENCES\", \"FREDERICK DOUGLASS ACADEMY VI HIGH SCHOOL\", \"CHANNEL VIEW SCHOOL FOR RESEARCH\", \"QUEENS HIGH SCHOOL FOR INFORMATION, RESEARCH, AND TECHNOLOGY\", \"ROBERT H. GODDARD HIGH SCHOOL OF COMMUNICATION ARTS AND TECHNOLOGY\", \"ACADEMY OF MEDICAL TECHNOLOGY: A COLLEGE BOARD SCHOOL\", \"SCHOLARS' ACADEMY\", \"AUGUST MARTIN HIGH SCHOOL\", \"RICHMOND HILL HIGH SCHOOL\", \"JOHN ADAMS HIGH SCHOOL\", \"HIGH SCHOOL FOR CONSTRUCTION TRADES, ENGINEERING AND ARCHITECTURE\", \"YORK EARLY COLLEGE ACADEMY\", \"QUEENS COLLEGIATE: A COLLEGE BOARD SCHOOL\", \"HILLSIDE ARTS & LETTERS ACADEMY\", \"FOREST HILLS HIGH SCHOOL\", \"HILLCREST HIGH SCHOOL\", \"THOMAS A. EDISON CAREER AND TECHNICAL EDUCATION HIGH SCHOOL\", \"QUEENS GATEWAY TO HEALTH SCIENCES SECONDARY SCHOOL\", \"QUEENS METROPOLITAN HIGH SCHOOL\", \"QUEENS HIGH SCHOOL FOR THE SCIENCES AT YORK COLLEGE\", \"HIGH SCHOOL FOR LAW ENFORCEMENT AND PUBLIC SAFETY\", \"YOUNG WOMEN'S LEADERSHIP SCHOOL, QUEENS\", \"QUEENS PREPARATORY ACADEMY\", \"PATHWAYS COLLEGE PREPARATORY SCHOOL: A COLLEGE BOARD SCHOOL\", \"EXCELSIOR PREPARATORY HIGH SCHOOL\", \"GEORGE WASHINGTON CARVER HIGH SCHOOL FOR THE SCIENCES\", \"PREPARATORY ACADEMY FOR WRITERS: A COLLEGE BOARD SCHOOL\", \"CAMBRIA HEIGHTS ACADEMY\", \"MATHEMATICS, SCIENCE RESEARCH AND TECHNOLOGY MAGNET HIGH SCHOOL\", \"HUMANITIES & ARTS MAGNET HIGH SCHOOL\", \"YOUNG WOMEN'S LEADERSHIP SCHOOL, ASTORIA\", \"ACADEMY FOR CAREERS IN TELEVISION AND FILM\", \"WILLIAM CULLEN BRYANT HIGH SCHOOL\", \"LONG ISLAND CITY HIGH SCHOOL\", \"FRANK SINATRA SCHOOL OF THE ARTS HIGH SCHOOL\", \"INFORMATION TECHNOLOGY HIGH SCHOOL\", \"NEWCOMERS HIGH SCHOOL\", \"ACADEMY OF AMERICAN STUDIES\", \"BACCALAUREATE SCHOOL FOR GLOBAL EDUCATION\"], \"textfont\": {\"color\": \"#4D5663\"}, \"type\": \"scatter\", \"x\": [22.61904761904762, 11.855670103092782, 28.736936782593798, 35.25378310214376, 20.448311593319517, 6.765163297045102, 9.666505558240695, 25.961538461538463, 26.172179747230455, 23.91304347826087, 21.46902598233713, 1.9736842105263157, 5.906406179009541, 21.981064080723367, 30.575555960627053, 20.94624125874126, 10.92436974789916, 4.808743169398907, 10.407966591712174, 53.771929824561404, 10.679611650485436, 17.280163599182004, 16.78709055876686, 2.9707112970711296, 14.510278113663846, 10.788365063030616, 28.995246326707004, 6.761006289308176, 41.62220843672457, 22.32332978440245, 24.483652021602687, 5.178907721280603, 1.84645286686103, 5.493230174081238, 4.134672179562906, 9.848484848484848, 26.386267107126006, 24.39108622946052, 64.51442307692308, 19.118414188836724, 7.7666774089590715, 8.126110124333925, 11.36653895274585, 19.461364427427778, 51.43540669856459, 3.544776119402985, 1.1764705882352942, 3.4013605442176873, 5.225225225225225, 29.126150373328702, 2.9535864978902953, 8.456659619450317, 87.77472527472527, 5.339805825242718, 26.825123940508554, 26.066433566433567, 30.79447402239765, 8.251273344651953, 11.990549320732427, 14.285714285714285, 5.561613958560523, 12.768240343347639, 14.346590909090908, 29.324737762237763], \"y\": [1280.0, 1219.0, 1240.0, 951.0, 1663.0, 1203.0, 1211.0, 1177.0, 1064.0, 1174.0, 1330.0, 1270.0, 1364.0, 1396.0, 1049.0, 1271.0, 1441.0, 1243.0, 1216.0, 1910.0, 1330.0, 1514.0, 1474.0, 1172.0, 1449.0, 1279.0, 1145.0, 1252.0, 1156.0, 1265.0, 1094.0, 1532.0, 1108.0, 1154.0, 1192.0, 1345.0, 1223.4388059701494, 1265.0, 1223.4388059701494, 1407.0, 1194.0, 1372.0, 1538.0, 1223.4388059701494, 1868.0, 1196.0, 1316.0, 1099.0, 1173.0, 1202.0, 1287.0, 1100.0, 1223.4388059701494, 1220.0, 1151.0, 1223.4388059701494, 1255.0, 1275.0, 1218.0, 1494.0, 1239.0, 1127.0, 1470.0, 1636.0]}, {\"marker\": {\"color\": \"rgba(219, 64, 82, 1.0)\", \"line\": {\"width\": 1.3}, \"opacity\": 0.8, \"size\": 12, \"symbol\": \"circle\"}, \"mode\": \"markers\", \"name\": \"Staten Island\", \"text\": [\"CSI HIGH SCHOOL FOR INTERNATIONAL STUDIES\", \"GAYNOR MCCOWN EXPEDITIONARY LEARNING SCHOOL\", \"THE MICHAEL J. PETRIDES SCHOOL\", \"NEW DORP HIGH SCHOOL\", \"PORT RICHMOND HIGH SCHOOL\", \"CURTIS HIGH SCHOOL\", \"TOTTENVILLE HIGH SCHOOL\", \"SUSAN E. WAGNER HIGH SCHOOL\", \"RALPH R. MCKEE CAREER AND TECHNICAL EDUCATION HIGH SCHOOL\", \"STATEN ISLAND TECHNICAL HIGH SCHOOL\"], \"textfont\": {\"color\": \"#4D5663\"}, \"type\": \"scatter\", \"x\": [24.25354251012146, 31.624717194570138, 12.385321100917432, 3.611738148984198, 9.019060901906089, 9.678683385579937, 10.219354838709679, 8.603145235892692, 19.115384615384617, 47.82608695652174], \"y\": [1353.0, 1195.0, 1426.0, 1277.0, 1279.0, 1301.0, 1418.0, 1388.0, 1235.0, 1953.0]}],\n",
       "                        {\"legend\": {\"bgcolor\": \"#F5F6F9\", \"font\": {\"color\": \"#4D5663\"}}, \"paper_bgcolor\": \"#F5F6F9\", \"plot_bgcolor\": \"#F5F6F9\", \"shapes\": [{\"line\": {\"color\": \"#000000\", \"dash\": \"dash\", \"width\": 1}, \"type\": \"line\", \"x0\": 0, \"x1\": 1, \"xref\": \"paper\", \"y0\": 1223.438805970149, \"y1\": 1223.438805970149, \"yref\": \"y\"}, {\"line\": {\"color\": \"#000000\", \"dash\": \"dash\", \"width\": 1}, \"type\": \"line\", \"x0\": 21.050294828886546, \"x1\": 21.050294828886546, \"xref\": \"x\", \"y0\": 0, \"y1\": 1, \"yref\": \"paper\"}], \"title\": \"Share of AP-Test takers vs. SAT score by school <br> dashed lines: average of entire dataset\", \"titlefont\": {\"color\": \"#4D5663\"}, \"xaxis\": {\"gridcolor\": \"#E1E5ED\", \"showgrid\": true, \"tickfont\": {\"color\": \"#4D5663\"}, \"title\": \"AP-Test Takers, %\", \"titlefont\": {\"color\": \"#4D5663\"}, \"zerolinecolor\": \"#E1E5ED\"}, \"yaxis\": {\"gridcolor\": \"#E1E5ED\", \"showgrid\": true, \"tickfont\": {\"color\": \"#4D5663\"}, \"title\": \"Avg. SAT score\", \"titlefont\": {\"color\": \"#4D5663\"}, \"zerolinecolor\": \"#E1E5ED\"}},\n",
       "                        {\"showLink\": true, \"linkText\": \"Export to plot.ly\", \"plotlyServerURL\": \"https://plot.ly\", \"responsive\": true}\n",
       "                    ).then(function(){\n",
       "                            \n",
       "var gd = document.getElementById('076ae346-31b1-4675-ad79-8277dcd74d15');\n",
       "var x = new MutationObserver(function (mutations, observer) {{\n",
       "        var display = window.getComputedStyle(gd).display;\n",
       "        if (!display || display === 'none') {{\n",
       "            console.log([gd, 'removed!']);\n",
       "            Plotly.purge(gd);\n",
       "            observer.disconnect();\n",
       "        }}\n",
       "}});\n",
       "\n",
       "// Listen for the removal of the full notebook cells\n",
       "var notebookContainer = gd.closest('#notebook-container');\n",
       "if (notebookContainer) {{\n",
       "    x.observe(notebookContainer, {childList: true});\n",
       "}}\n",
       "\n",
       "// Listen for the clearing of the current output cell\n",
       "var outputEl = gd.closest('.output');\n",
       "if (outputEl) {{\n",
       "    x.observe(outputEl, {childList: true});\n",
       "}}\n",
       "\n",
       "                        })\n",
       "                };\n",
       "                });\n",
       "            </script>\n",
       "        </div>"
      ]
     },
     "metadata": {},
     "output_type": "display_data"
    },
    {
     "name": "stdout",
     "output_type": "stream",
     "text": [
      "Recommendation: choose option to 'show closest data point on hover' in top right corner\n"
     ]
    }
   ],
   "source": [
    "# build scatter plot investigating correlation between share of AP-Test takers and SAT-score\n",
    "with warnings.catch_warnings(): # to catch warning about np.module in Python 3.8.2.\n",
    "    warnings.filterwarnings(\"ignore\",category=FutureWarning)\n",
    "    combined.iplot(\n",
    "        x='ap_per',\n",
    "        y='sat_score',\n",
    "        categories='boro',\n",
    "        text=\"SCHOOL NAME\",\n",
    "        vline= {\"x\":combined[\"ap_per\"].mean(),\n",
    "                \"color\":\"#000000\",\n",
    "                \"dash\": \"dash\"\n",
    "               },\n",
    "        hline={\"y\":combined[\"sat_score\"].mean(),\n",
    "               \"color\":\"#000000\",\n",
    "               \"dash\": \"dash\"\n",
    "              },\n",
    "        xTitle='AP-Test Takers, %',\n",
    "        yTitle='Avg. SAT score',\n",
    "        title='Share of AP-Test takers vs. SAT score by school <br> dashed lines: average of entire dataset'\n",
    "    )\n",
    "print(\"Recommendation: choose option to 'show closest data point on hover' in top right corner\")"
   ]
  },
  {
   "cell_type": "markdown",
   "metadata": {},
   "source": [
    "Advanced Placement (AP) is a program in the United States and Canada created by the College Board which offers college-level curricula and examinations to high school students to earn college credit.\n",
    "\n",
    "There is no general correlation between number of students who took at least one AP exam with school's SAT scores\n",
    "- but it appears there is evident up trend for schools with higher SAT scores above 1400, \n",
    "- seems they are selective schools where AP takers percent is 50%-60% and students from these schools generally have above average academic aptitude and benefit more from academic placement than students in other schools."
   ]
  }
 ],
 "metadata": {
  "kernelspec": {
   "display_name": "Python 3",
   "language": "python",
   "name": "python3"
  },
  "language_info": {
   "codemirror_mode": {
    "name": "ipython",
    "version": 3
   },
   "file_extension": ".py",
   "mimetype": "text/x-python",
   "name": "python",
   "nbconvert_exporter": "python",
   "pygments_lexer": "ipython3",
   "version": "3.7.4"
  }
 },
 "nbformat": 4,
 "nbformat_minor": 2
}
