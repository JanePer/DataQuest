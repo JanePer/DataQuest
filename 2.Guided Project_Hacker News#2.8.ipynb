{
 "cells": [
  {
   "cell_type": "markdown",
   "metadata": {
    "collapsed": true
   },
   "source": [
    "# Project: Exploring Hacker News Posts\n"
   ]
  },
  {
   "cell_type": "markdown",
   "metadata": {},
   "source": [
    "## Introduction"
   ]
  },
  {
   "cell_type": "markdown",
   "metadata": {},
   "source": [
    "In this project, we'll work with a data set of submissions to popular technology site [Hacker News](https://news.ycombinator.com/).\n",
    "![Image](https://i.imgur.com/x8vfps4.png)\n",
    "\n",
    "Hacker News is a site, where user-submitted stories (known as \"posts\") are voted and commented upon.\n",
    "Our data set consists of approximately 20,000 rows. Below are descriptions of the columns:\n",
    "* id: The unique identifier from Hacker News for the post\n",
    "* title: The title of the post\n",
    "* url: The URL that the posts links to, if it the post has a URL\n",
    "* num_points: The number of points the post acquired, calculated as the total number of upvotes minus the total number of downvotes\n",
    "* num_comments: The number of comments that were made on the post\n",
    "* author: The username of the person who submitted the post\n",
    "* created_at: The date and time at which the post was submitted\n",
    "\n",
    "We will interested in posts whose titles begin with either `Ask HN` or `Show HN`. Users submit `Ask HN` posts to ask the Hacker News community a specific question. Below are a couple examples: \n",
    "```\n",
    "Ask HN: How to improve my personal website?\n",
    "Ask HN: Am I the only one outraged by Twitter shutting down share counts?\n",
    "```\n",
    "Likewise, users submit `Show HN` posts to show the Hacker News community a project, product, or just generally something interesting. Below are a couple of examples:\n",
    "```\n",
    "Show HN: Wio Link  ESP8266 Based Web of Things Hardware Development Platform'\n",
    "Show HN: Shanhu.io, a programming playground powered by e8vm\n",
    "```\n",
    "\n",
    "We'll compare these two types of posts to determine the following:\n",
    "\n",
    "* Do `Ask HN` or `Show HN` receive more comments on average?\n",
    "* Do posts created at a certain time receive more comments on average?\n",
    "\n",
    "Let's start by importing the libraries we need and displaying the header and first 5 rows of our data set below."
   ]
  },
  {
   "cell_type": "code",
   "execution_count": 1,
   "metadata": {
    "scrolled": true
   },
   "outputs": [
    {
     "name": "stdout",
     "output_type": "stream",
     "text": [
      "['id', 'title', 'url', 'num_points', 'num_comments', 'author', 'created_at']\n",
      "[['12224879', 'Interactive Dynamic Video', 'http://www.interactivedynamicvideo.com/', '386', '52', 'ne0phyte', '8/4/2016 11:52'], ['10975351', 'How to Use Open Source and Shut the Fuck Up at the Same Time', 'http://hueniverse.com/2016/01/26/how-to-use-open-source-and-shut-the-fuck-up-at-the-same-time/', '39', '10', 'josep2', '1/26/2016 19:30'], ['11964716', \"Florida DJs May Face Felony for April Fools' Water Joke\", 'http://www.thewire.com/entertainment/2013/04/florida-djs-april-fools-water-joke/63798/', '2', '1', 'vezycash', '6/23/2016 22:20'], ['11919867', 'Technology ventures: From Idea to Enterprise', 'https://www.amazon.com/Technology-Ventures-Enterprise-Thomas-Byers/dp/0073523429', '3', '1', 'hswarna', '6/17/2016 0:01'], ['10301696', 'Note by Note: The Making of Steinway L1037 (2007)', 'http://www.nytimes.com/2007/11/07/movies/07stein.html?_r=0', '8', '2', 'walterbell', '9/30/2015 4:12']]\n"
     ]
    }
   ],
   "source": [
    "from csv import reader\n",
    "opened_file = open('hacker_news.csv')\n",
    "read_file = reader(opened_file)\n",
    "hn=list(read_file)\n",
    "header=hn[0]\n",
    "hn=hn[1:]\n",
    "print(header)\n",
    "print(hn[:5])"
   ]
  },
  {
   "cell_type": "markdown",
   "metadata": {},
   "source": [
    "Since we're only concerned with post titles beginning with `Ask HN` or `Show HN`, we'll create new lists of lists containing just the data for those titles."
   ]
  },
  {
   "cell_type": "code",
   "execution_count": 2,
   "metadata": {},
   "outputs": [
    {
     "name": "stdout",
     "output_type": "stream",
     "text": [
      "1744\n",
      "1162\n",
      "17194\n"
     ]
    }
   ],
   "source": [
    "ask_posts=[]\n",
    "show_posts=[]\n",
    "other_posts=[]\n",
    "for row in hn:\n",
    "    title=row[1]\n",
    "    title=title.lower()\n",
    "    if title.startswith('ask hn'):\n",
    "        ask_posts.append(row)\n",
    "    elif title.startswith('show hn'):\n",
    "        show_posts.append(row)\n",
    "    else:\n",
    "        other_posts.append(row)\n",
    "print(len(ask_posts))\n",
    "print(len(show_posts))\n",
    "print(len(other_posts))"
   ]
  },
  {
   "cell_type": "markdown",
   "metadata": {},
   "source": [
    "Below are the first five rows in the `ask_posts` list of lists:"
   ]
  },
  {
   "cell_type": "code",
   "execution_count": 3,
   "metadata": {},
   "outputs": [
    {
     "name": "stdout",
     "output_type": "stream",
     "text": [
      "[['12296411', 'Ask HN: How to improve my personal website?', '', '2', '6', 'ahmedbaracat', '8/16/2016 9:55'], ['10610020', 'Ask HN: Am I the only one outraged by Twitter shutting down share counts?', '', '28', '29', 'tkfx', '11/22/2015 13:43'], ['11610310', 'Ask HN: Aby recent changes to CSS that broke mobile?', '', '1', '1', 'polskibus', '5/2/2016 10:14'], ['12210105', 'Ask HN: Looking for Employee #3 How do I do it?', '', '1', '3', 'sph130', '8/2/2016 14:20'], ['10394168', 'Ask HN: Someone offered to buy my browser extension from me. What now?', '', '28', '17', 'roykolak', '10/15/2015 16:38']]\n"
     ]
    }
   ],
   "source": [
    "print(ask_posts[:5])"
   ]
  },
  {
   "cell_type": "markdown",
   "metadata": {},
   "source": [
    "Below are the first five rows in the `show_posts` list of lists:"
   ]
  },
  {
   "cell_type": "code",
   "execution_count": 4,
   "metadata": {
    "scrolled": true
   },
   "outputs": [
    {
     "name": "stdout",
     "output_type": "stream",
     "text": [
      "[['10627194', 'Show HN: Wio Link  ESP8266 Based Web of Things Hardware Development Platform', 'https://iot.seeed.cc', '26', '22', 'kfihihc', '11/25/2015 14:03'], ['10646440', 'Show HN: Something pointless I made', 'http://dn.ht/picklecat/', '747', '102', 'dhotson', '11/29/2015 22:46'], ['11590768', 'Show HN: Shanhu.io, a programming playground powered by e8vm', 'https://shanhu.io', '1', '1', 'h8liu', '4/28/2016 18:05'], ['12178806', 'Show HN: Webscope  Easy way for web developers to communicate with Clients', 'http://webscopeapp.com', '3', '3', 'fastbrick', '7/28/2016 7:11'], ['10872799', 'Show HN: GeoScreenshot  Easily test Geo-IP based web pages', 'https://www.geoscreenshot.com/', '1', '9', 'kpsychwave', '1/9/2016 20:45']]\n"
     ]
    }
   ],
   "source": [
    "print(show_posts[:5])"
   ]
  },
  {
   "cell_type": "markdown",
   "metadata": {},
   "source": [
    "Next, let's determine if `ask posts` or `show posts` receive more comments on average."
   ]
  },
  {
   "cell_type": "code",
   "execution_count": 5,
   "metadata": {},
   "outputs": [
    {
     "name": "stdout",
     "output_type": "stream",
     "text": [
      "avg_ask_comments = 14.04\n",
      "\n",
      "\n",
      "avg_show_comments = 10.32\n",
      "\n",
      "\n",
      "avg_other_comments = 26.87\n"
     ]
    }
   ],
   "source": [
    "total_ask_comments=0\n",
    "for row in ask_posts:\n",
    "    num_comments=int(row[4])\n",
    "    total_ask_comments+=num_comments\n",
    "avg_ask_comments=round(total_ask_comments/len(ask_posts),2) \n",
    "print('avg_ask_comments =', avg_ask_comments)\n",
    "print('\\n')\n",
    "\n",
    "total_show_comments=0\n",
    "for row in show_posts:\n",
    "    num_comments=int(row[4])\n",
    "    total_show_comments+=num_comments\n",
    "avg_show_comments=round(total_show_comments/len(show_posts),2) \n",
    "print('avg_show_comments =', avg_show_comments)\n",
    "print('\\n')\n",
    "\n",
    "total_other_comments=0\n",
    "for row in other_posts:\n",
    "    num_comments=int(row[4])\n",
    "    total_other_comments+=num_comments\n",
    "avg_other_comments=round(total_other_comments/len(other_posts),2) \n",
    "print('avg_other_comments =', avg_other_comments)"
   ]
  },
  {
   "cell_type": "markdown",
   "metadata": {},
   "source": [
    "Due to the average results, we can make conclusion that `Ask HN` and `Show HN` posts do not receive more comments on average. Posts with other titles are more interested for community and make up the majority of all posts - they are 6 times more than qty of both mentioned together. \n",
    "\n",
    "But if to compare `Ask HN` and `Show HN` posts, the first ones have more higher average and are more likely to receive comments, so we'll focus our remaining analysis just on these posts.\n",
    "\n",
    "Next, we'll determine if `ask posts` created at a certain time are more likely to attract comments. We'll use the following steps to perform this analysis:\n",
    "\n",
    "1. Calculate the amount of ask posts created in each hour of the day, along with the number of comments received.\n",
    "2. Calculate the average number of comments ask posts receive by hour created.\n",
    "\n",
    "Below, there is calculated the first step."
   ]
  },
  {
   "cell_type": "code",
   "execution_count": 6,
   "metadata": {},
   "outputs": [
    {
     "name": "stdout",
     "output_type": "stream",
     "text": [
      "15h : 116\n",
      "19h : 110\n",
      "21h : 109\n",
      "18h : 109\n",
      "16h : 108\n",
      "14h : 107\n",
      "17h : 100\n",
      "13h : 85\n",
      "20h : 80\n",
      "12h : 73\n",
      "22h : 71\n",
      "23h : 68\n",
      "01h : 60\n",
      "10h : 59\n",
      "11h : 58\n",
      "02h : 58\n",
      "00h : 55\n",
      "03h : 54\n",
      "08h : 48\n",
      "04h : 47\n",
      "05h : 46\n",
      "09h : 45\n",
      "06h : 44\n",
      "07h : 34\n",
      "\n",
      "\n",
      "15h : 4477\n",
      "16h : 1814\n",
      "21h : 1745\n",
      "20h : 1722\n",
      "18h : 1439\n",
      "14h : 1416\n",
      "02h : 1381\n",
      "13h : 1253\n",
      "19h : 1188\n",
      "17h : 1146\n",
      "10h : 793\n",
      "12h : 687\n",
      "01h : 683\n",
      "11h : 641\n",
      "23h : 543\n",
      "08h : 492\n",
      "22h : 479\n",
      "05h : 464\n",
      "00h : 447\n",
      "03h : 421\n",
      "06h : 397\n",
      "04h : 337\n",
      "07h : 267\n",
      "09h : 251\n"
     ]
    }
   ],
   "source": [
    "import datetime as dt\n",
    "result_list=[]\n",
    "for row in ask_posts:\n",
    "    created_at=row[6]\n",
    "    num_comments=int(row[4])\n",
    "    result_list.append([created_at, num_comments])\n",
    "\n",
    "counts_by_hour={}\n",
    "comments_by_hour={}\n",
    "date_format=\"%m/%d/%Y %H:%M\"\n",
    "for row in result_list:\n",
    "    date=row[0]\n",
    "    date_new=dt.datetime.strptime(date, date_format)\n",
    "    time=date_new.time()\n",
    "    time_str=time.strftime(\"%Hh\")\n",
    "    if time_str not in counts_by_hour:\n",
    "        counts_by_hour[time_str]=1\n",
    "        comments_by_hour[time_str]=row[1]\n",
    "    else:\n",
    "        counts_by_hour[time_str]+=1\n",
    "        comments_by_hour[time_str]+=row[1]\n",
    "        \n",
    "def display_table(table):\n",
    "    table_display = []\n",
    "    for key in table:\n",
    "        key_val_as_tuple = (table[key], key)\n",
    "        table_display.append(key_val_as_tuple)\n",
    "    table_sorted = sorted(table_display, reverse = True)\n",
    "    for entry in table_sorted:\n",
    "        print(entry[1], ':', entry[0])\n",
    "        \n",
    "display_table(counts_by_hour)\n",
    "print('\\n')\n",
    "display_table(comments_by_hour)"
   ]
  },
  {
   "cell_type": "markdown",
   "metadata": {},
   "source": [
    "Next, we'll use created above two dictionaries: `counts_by_hour` and `comments_by_hour` to calculate the average number of comments for posts created during each hour of the day."
   ]
  },
  {
   "cell_type": "code",
   "execution_count": 7,
   "metadata": {
    "scrolled": true
   },
   "outputs": [
    {
     "name": "stdout",
     "output_type": "stream",
     "text": [
      "15h : 38.59\n",
      "02h : 23.81\n",
      "20h : 21.52\n",
      "16h : 16.8\n",
      "21h : 16.01\n",
      "13h : 14.74\n",
      "10h : 13.44\n",
      "14h : 13.23\n",
      "18h : 13.2\n",
      "17h : 11.46\n",
      "01h : 11.38\n",
      "11h : 11.05\n",
      "19h : 10.8\n",
      "08h : 10.25\n",
      "05h : 10.09\n",
      "12h : 9.41\n",
      "06h : 9.02\n",
      "00h : 8.13\n",
      "23h : 7.99\n",
      "07h : 7.85\n",
      "03h : 7.8\n",
      "04h : 7.17\n",
      "22h : 6.75\n",
      "09h : 5.58\n",
      "\n",
      "\n",
      "[[38.59, '15h'], [23.81, '02h'], [21.52, '20h'], [16.8, '16h'], [16.01, '21h'], [14.74, '13h'], [13.44, '10h'], [13.23, '14h'], [13.2, '18h'], [11.46, '17h'], [11.38, '01h'], [11.05, '11h'], [10.8, '19h'], [10.25, '08h'], [10.09, '05h'], [9.41, '12h'], [9.02, '06h'], [8.13, '00h'], [7.99, '23h'], [7.85, '07h'], [7.8, '03h'], [7.17, '04h'], [6.75, '22h'], [5.58, '09h']]\n"
     ]
    }
   ],
   "source": [
    "avg_by_hour=[]\n",
    "for hour in comments_by_hour:\n",
    "    for h in counts_by_hour:\n",
    "        if hour==h:\n",
    "            avg=round(comments_by_hour[hour]/counts_by_hour[h], 2)\n",
    "            avg_by_hour.append([hour, avg])\n",
    "\n",
    "avg_by_hour_table={}\n",
    "for row in avg_by_hour:\n",
    "    hour=row[0]\n",
    "    avg_by_hour_table[hour]=row[1]\n",
    "display_table(avg_by_hour_table)\n",
    "print('\\n')\n",
    "\n",
    "swap_avg_by_hour=[]\n",
    "for row in avg_by_hour:\n",
    "    hour=row[0]\n",
    "    avg=row[1]\n",
    "    swap_avg_by_hour.append([avg, hour])\n",
    "sorted_swap=sorted (swap_avg_by_hour, reverse = True)\n",
    "print(sorted_swap)"
   ]
  },
  {
   "cell_type": "markdown",
   "metadata": {},
   "source": [
    "## \"Top 5 Hours for Ask Posts Comments\"."
   ]
  },
  {
   "cell_type": "code",
   "execution_count": 8,
   "metadata": {},
   "outputs": [
    {
     "name": "stdout",
     "output_type": "stream",
     "text": [
      "15:00: 38.59 average comments per post\n",
      "02:00: 23.81 average comments per post\n",
      "20:00: 21.52 average comments per post\n",
      "16:00: 16.8 average comments per post\n",
      "21:00: 16.01 average comments per post\n"
     ]
    }
   ],
   "source": [
    "time_format=\"%Hh\"\n",
    "for row in sorted_swap[:5]:\n",
    "    avg=row[0]\n",
    "    hour=row[1]\n",
    "    hour=dt.datetime.strptime(hour, time_format)\n",
    "    hour=hour.strftime(\"%H:%M:\")\n",
    "    print(\"{hour} {avg} average comments per post\".format(hour=hour, avg=avg))"
   ]
  },
  {
   "cell_type": "markdown",
   "metadata": {},
   "source": [
    "The time when posts were created in our origin data set is given for the EST time zone. Converting above 5 top hours to the Poland time zone we can find out that to have a higher chance of receiving comments we should create posts on the Hacker News website during `21:00-22.00` as well as at the `08.00 morning` or at least `02:00-04.00 at night` or at `22:00-23:00 evening`."
   ]
  },
  {
   "cell_type": "markdown",
   "metadata": {},
   "source": [
    "# Additional research."
   ]
  },
  {
   "cell_type": "markdown",
   "metadata": {},
   "source": [
    "## Determine which posts receive more points on average and compare results to the average number of comments and points the posts received."
   ]
  },
  {
   "cell_type": "code",
   "execution_count": 10,
   "metadata": {},
   "outputs": [
    {
     "name": "stdout",
     "output_type": "stream",
     "text": [
      "avg_ask_points = 15.06\n",
      "\n",
      "\n",
      "avg_show_points = 27.56\n",
      "\n",
      "\n",
      "avg_other_points = 26.87\n"
     ]
    }
   ],
   "source": [
    "total_ask_points=0\n",
    "for row in ask_posts:\n",
    "    num_points=int(row[3])\n",
    "    total_ask_points+=num_points\n",
    "avg_ask_points=round(total_ask_points/len(ask_posts),2) \n",
    "print('avg_ask_points =', avg_ask_points)\n",
    "print('\\n')\n",
    "\n",
    "total_show_points=0\n",
    "for row in show_posts:\n",
    "    num_points=int(row[3])\n",
    "    total_show_points+=num_points\n",
    "avg_show_points=round(total_show_points/len(show_posts),2) \n",
    "print('avg_show_points =', avg_show_points)\n",
    "print('\\n')\n",
    "\n",
    "total_other_points=0\n",
    "for row in other_posts:\n",
    "    num_points=int(row[4])\n",
    "    total_other_points+=num_points\n",
    "avg_other_points=round(total_other_points/len(other_posts),2) \n",
    "print('avg_other_points =', avg_other_points)"
   ]
  },
  {
   "cell_type": "markdown",
   "metadata": {},
   "source": [
    "Comparing previous results to the average number of comments with above results of the average number of points the different posts received, we can make a conclusion that the most popular for users are `Other Posts` which has the highest average number of comments and enough high average number of points than the other 2 post groups."
   ]
  },
  {
   "cell_type": "markdown",
   "metadata": {},
   "source": [
    "## Determine if `Show Posts` created at a certain time are more likely to receive more points.\n",
    "\n",
    "According to the above the highest average number of points received by `Show Posts`, below we will see how it depends on the creation time of the posts."
   ]
  },
  {
   "cell_type": "code",
   "execution_count": 15,
   "metadata": {},
   "outputs": [
    {
     "name": "stdout",
     "output_type": "stream",
     "text": [
      "[[42.39, '23h'], [41.69, '12h'], [40.35, '22h'], [37.84, '00h'], [36.31, '18h'], [33.64, '11h'], [30.95, '19h'], [30.32, '20h'], [28.56, '15h'], [28.32, '16h'], [27.11, '17h'], [25.43, '14h'], [25.15, '03h'], [25.0, '01h'], [24.63, '13h'], [23.44, '06h'], [19.0, '07h'], [18.92, '10h'], [18.43, '21h'], [18.43, '09h'], [15.26, '08h'], [14.85, '04h'], [11.33, '02h'], [5.47, '05h']]\n"
     ]
    }
   ],
   "source": [
    "import datetime as dt\n",
    "result_list=[]\n",
    "for row in show_posts:\n",
    "    created_at=row[6]\n",
    "    num_points=int(row[3])\n",
    "    result_list.append([created_at, num_points])\n",
    "\n",
    "counts_by_hour={}\n",
    "points_by_hour={}\n",
    "date_format=\"%m/%d/%Y %H:%M\"\n",
    "for row in result_list:\n",
    "    date=row[0]\n",
    "    date_new=dt.datetime.strptime(date, date_format)\n",
    "    time=date_new.time()\n",
    "    time_str=time.strftime(\"%Hh\")\n",
    "    if time_str not in counts_by_hour:\n",
    "        counts_by_hour[time_str]=1\n",
    "        points_by_hour[time_str]=row[1]\n",
    "    else:\n",
    "        counts_by_hour[time_str]+=1\n",
    "        points_by_hour[time_str]+=row[1]\n",
    "        \n",
    "        \n",
    "avg_by_hour=[]\n",
    "for hour in points_by_hour:\n",
    "    for h in counts_by_hour:\n",
    "        if hour==h:\n",
    "            avg=round(points_by_hour[hour]/counts_by_hour[h], 2)\n",
    "            avg_by_hour.append([hour, avg])\n",
    "\n",
    "\n",
    "swap_avg_by_hour=[]\n",
    "for row in avg_by_hour:\n",
    "    hour=row[0]\n",
    "    avg=row[1]\n",
    "    swap_avg_by_hour.append([avg, hour])\n",
    "sorted_swap=sorted (swap_avg_by_hour, reverse = True)\n",
    "print(sorted_swap)"
   ]
  },
  {
   "cell_type": "code",
   "execution_count": 17,
   "metadata": {},
   "outputs": [
    {
     "name": "stdout",
     "output_type": "stream",
     "text": [
      "23:00: 42.39 average points per show_post\n",
      "12:00: 41.69 average points per show_post\n",
      "22:00: 40.35 average points per show_post\n",
      "00:00: 37.84 average points per show_post\n",
      "18:00: 36.31 average points per show_post\n"
     ]
    }
   ],
   "source": [
    "time_format=\"%Hh\"\n",
    "for row in sorted_swap[:5]:\n",
    "    avg=row[0]\n",
    "    hour=row[1]\n",
    "    hour=dt.datetime.strptime(hour, time_format)\n",
    "    hour=hour.strftime(\"%H:%M:\")\n",
    "    print(\"{hour} {avg} average points per show_post\".format(hour=hour, avg=avg))"
   ]
  },
  {
   "cell_type": "markdown",
   "metadata": {},
   "source": [
    "Converting above 5 top hours to the Poland time zone we can find out that to have a higher chance of receiving more points we should create `show posts` on the Hacker News website during `04:00-07:00 morning` or at least `18:00 at the evening`."
   ]
  },
  {
   "cell_type": "markdown",
   "metadata": {},
   "source": [
    "## Determine if `Other Posts` created at a certain time are more likely to receive more comments and points."
   ]
  },
  {
   "cell_type": "code",
   "execution_count": 18,
   "metadata": {},
   "outputs": [
    {
     "name": "stdout",
     "output_type": "stream",
     "text": [
      "[[62.53, '13h'], [61.79, '14h'], [60.54, '15h'], [60.48, '10h'], [60.01, '19h'], [58.47, '02h'], [58.46, '00h'], [57.98, '17h'], [57.57, '11h'], [57.4, '12h'], [56.92, '03h'], [56.83, '07h'], [54.18, '16h'], [54.09, '08h'], [53.94, '09h'], [53.93, '18h'], [52.03, '23h'], [50.61, '01h'], [50.24, '22h'], [49.97, '05h'], [49.67, '04h'], [49.37, '21h'], [46.24, '06h'], [45.24, '20h']]\n",
      "\n",
      "\n",
      "[[32.33, '14h'], [30.9, '13h'], [30.35, '12h'], [29.59, '11h'], [29.52, '15h'], [28.0, '17h'], [27.79, '02h'], [27.59, '09h'], [27.08, '00h'], [27.03, '08h'], [26.92, '18h'], [26.83, '03h'], [26.81, '07h'], [26.7, '19h'], [26.61, '10h'], [25.39, '16h'], [25.18, '05h'], [24.62, '23h'], [24.13, '04h'], [23.61, '21h'], [23.27, '22h'], [23.14, '20h'], [23.07, '01h'], [21.36, '06h']]\n"
     ]
    }
   ],
   "source": [
    "import datetime as dt\n",
    "result_list=[]\n",
    "for row in other_posts:\n",
    "    created_at=row[6]\n",
    "    num_points=int(row[3])\n",
    "    num_comments=int(row[4])\n",
    "    result_list.append([created_at, num_points, num_comments])\n",
    "\n",
    "counts_by_hour={}\n",
    "points_by_hour={}\n",
    "comments_by_hour={}\n",
    "date_format=\"%m/%d/%Y %H:%M\"\n",
    "for row in result_list:\n",
    "    date=row[0]\n",
    "    date_new=dt.datetime.strptime(date, date_format)\n",
    "    time=date_new.time()\n",
    "    time_str=time.strftime(\"%Hh\")\n",
    "    if time_str not in counts_by_hour:\n",
    "        counts_by_hour[time_str]=1\n",
    "        points_by_hour[time_str]=row[1]\n",
    "        comments_by_hour[time_str]=row[2]\n",
    "    else:\n",
    "        counts_by_hour[time_str]+=1\n",
    "        points_by_hour[time_str]+=row[1]\n",
    "        comments_by_hour[time_str]+=row[2]\n",
    "        \n",
    "        \n",
    "avg_by_hour_points=[]\n",
    "for hour in points_by_hour:\n",
    "    for h in counts_by_hour:\n",
    "        if hour==h:\n",
    "            avg=round(points_by_hour[hour]/counts_by_hour[h], 2)\n",
    "            avg_by_hour_points.append([hour, avg])\n",
    "\n",
    "avg_by_hour_comments=[]\n",
    "for hour in comments_by_hour:\n",
    "    for h in counts_by_hour:\n",
    "        if hour==h:\n",
    "            avg=round(comments_by_hour[hour]/counts_by_hour[h], 2)\n",
    "            avg_by_hour_comments.append([hour, avg])   \n",
    "\n",
    "swap_avg_by_hour_p=[]\n",
    "for row in avg_by_hour_points:\n",
    "    hour=row[0]\n",
    "    avg=row[1]\n",
    "    swap_avg_by_hour_p.append([avg, hour])\n",
    "sorted_swap_points=sorted (swap_avg_by_hour_p, reverse = True)\n",
    "print(sorted_swap_points)\n",
    "print('\\n')\n",
    "\n",
    "swap_avg_by_hour_c=[]\n",
    "for row in avg_by_hour_comments:\n",
    "    hour=row[0]\n",
    "    avg=row[1]\n",
    "    swap_avg_by_hour_c.append([avg, hour])\n",
    "sorted_swap_comments=sorted (swap_avg_by_hour_c, reverse = True)\n",
    "print(sorted_swap_comments)"
   ]
  },
  {
   "cell_type": "code",
   "execution_count": 19,
   "metadata": {},
   "outputs": [
    {
     "name": "stdout",
     "output_type": "stream",
     "text": [
      "13:00: 62.53 average points per other_post\n",
      "14:00: 61.79 average points per other_post\n",
      "15:00: 60.54 average points per other_post\n",
      "10:00: 60.48 average points per other_post\n",
      "19:00: 60.01 average points per other_post\n",
      "\n",
      "\n",
      "14:00: 32.33 average comments per other_post\n",
      "13:00: 30.9 average comments per other_post\n",
      "12:00: 30.35 average comments per other_post\n",
      "11:00: 29.59 average comments per other_post\n",
      "15:00: 29.52 average comments per other_post\n"
     ]
    }
   ],
   "source": [
    "time_format=\"%Hh\"\n",
    "for row in sorted_swap_points[:5]:\n",
    "    avg=row[0]\n",
    "    hour=row[1]\n",
    "    hour=dt.datetime.strptime(hour, time_format)\n",
    "    hour=hour.strftime(\"%H:%M:\")\n",
    "    print(\"{hour} {avg} average points per other_post\".format(hour=hour, avg=avg))\n",
    "print('\\n')\n",
    "      \n",
    "for row in sorted_swap_comments[:5]:\n",
    "    avg=row[0]\n",
    "    hour=row[1]\n",
    "    hour=dt.datetime.strptime(hour, time_format)\n",
    "    hour=hour.strftime(\"%H:%M:\")\n",
    "    print(\"{hour} {avg} average comments per other_post\".format(hour=hour, avg=avg))"
   ]
  },
  {
   "cell_type": "markdown",
   "metadata": {},
   "source": [
    "We can see, that the most efficient hours for `Other Posts` are `19:00-22:00 at Poland timezone` when posts can gain the most points and comments simultaneously. "
   ]
  }
 ],
 "metadata": {
  "kernelspec": {
   "display_name": "Python 3",
   "language": "python",
   "name": "python3"
  },
  "language_info": {
   "codemirror_mode": {
    "name": "ipython",
    "version": 3
   },
   "file_extension": ".py",
   "mimetype": "text/x-python",
   "name": "python",
   "nbconvert_exporter": "python",
   "pygments_lexer": "ipython3",
   "version": "3.7.4"
  }
 },
 "nbformat": 4,
 "nbformat_minor": 2
}
